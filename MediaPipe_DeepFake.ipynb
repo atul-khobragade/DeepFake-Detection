{
  "nbformat": 4,
  "nbformat_minor": 0,
  "metadata": {
    "colab": {
      "name": "MediaPipe-DeepFake.ipynb",
      "provenance": [],
      "collapsed_sections": [],
      "toc_visible": true,
      "machine_shape": "hm"
    },
    "kernelspec": {
      "name": "python3",
      "display_name": "Python 3"
    },
    "language_info": {
      "name": "python"
    },
    "accelerator": "GPU"
  },
  "cells": [
    {
      "cell_type": "code",
      "metadata": {
        "colab": {
          "base_uri": "https://localhost:8080/"
        },
        "id": "q1wwfX67fGAB",
        "outputId": "66be270a-703a-42af-a582-235b1f24cb34"
      },
      "source": [
        "!pip install mediapipe"
      ],
      "execution_count": 1,
      "outputs": [
        {
          "output_type": "stream",
          "text": [
            "Requirement already satisfied: mediapipe in /usr/local/lib/python3.7/dist-packages (0.8.4.2)\n",
            "Requirement already satisfied: opencv-contrib-python in /usr/local/lib/python3.7/dist-packages (from mediapipe) (4.1.2.30)\n",
            "Requirement already satisfied: six in /usr/local/lib/python3.7/dist-packages (from mediapipe) (1.15.0)\n",
            "Requirement already satisfied: wheel in /usr/local/lib/python3.7/dist-packages (from mediapipe) (0.36.2)\n",
            "Requirement already satisfied: absl-py in /usr/local/lib/python3.7/dist-packages (from mediapipe) (0.12.0)\n",
            "Requirement already satisfied: numpy in /usr/local/lib/python3.7/dist-packages (from mediapipe) (1.19.5)\n",
            "Requirement already satisfied: protobuf>=3.11.4 in /usr/local/lib/python3.7/dist-packages (from mediapipe) (3.12.4)\n",
            "Requirement already satisfied: attrs>=19.1.0 in /usr/local/lib/python3.7/dist-packages (from mediapipe) (21.2.0)\n",
            "Requirement already satisfied: setuptools in /usr/local/lib/python3.7/dist-packages (from protobuf>=3.11.4->mediapipe) (56.1.0)\n"
          ],
          "name": "stdout"
        }
      ]
    },
    {
      "cell_type": "code",
      "metadata": {
        "id": "xkYnaGDFe7MA"
      },
      "source": [
        "import pandas as pd\n",
        "import numpy as np\n",
        "import PIL\n",
        "from PIL import Image\n",
        "import mediapipe as mp\n",
        "import cv2\n",
        "import os\n",
        "\n",
        "from matplotlib import pyplot as plt\n",
        "\n",
        "from google.colab.patches import cv2_imshow\n",
        "\n",
        "import dlib\n",
        "from skimage import io\n",
        "import matplotlib.pyplot as plt\n",
        "from numpy import asarray\n"
      ],
      "execution_count": 2,
      "outputs": []
    },
    {
      "cell_type": "code",
      "metadata": {
        "colab": {
          "base_uri": "https://localhost:8080/"
        },
        "id": "hv8ly9AofIgA",
        "outputId": "d39cb2d6-0537-4998-dfd2-4cbd65960b47"
      },
      "source": [
        "from google.colab import drive\n",
        "drive.mount('/content/drive')"
      ],
      "execution_count": 3,
      "outputs": [
        {
          "output_type": "stream",
          "text": [
            "Drive already mounted at /content/drive; to attempt to forcibly remount, call drive.mount(\"/content/drive\", force_remount=True).\n"
          ],
          "name": "stdout"
        }
      ]
    },
    {
      "cell_type": "code",
      "metadata": {
        "id": "4i9miPMkfOEZ"
      },
      "source": [
        "imgPath=[]\n",
        "resize= 1\n",
        "frame_count_real = []\n",
        "frame_count_fake = []\n",
        "\n",
        "\n",
        "# Function to extract frames\n",
        "def FrameCapture(path,globalCount,type_dataset,label):\n",
        "    frame_count=[]\n",
        "    imgPath = []\n",
        "    temp = 0\n",
        "    v_cap = cv2.VideoCapture(path)\n",
        "    v_len = int(v_cap.get(cv2.CAP_PROP_FRAME_COUNT))\n",
        "    \n",
        "    # Pick 'n_frames' evenly spaced frames to sample\n",
        "    sample = np.linspace(0, v_len - 1, n_frames).astype(int) #Index in sample array are the frames which will be extracted.\n",
        "\n",
        "    # Loop through frames\n",
        "    \n",
        "    frames = []\n",
        "    for j in range(v_len):\n",
        "        success = v_cap.grab()\n",
        "        if j in sample:\n",
        "            # Load frame\n",
        "            success, frame = v_cap.read()\n",
        "            if not success:\n",
        "                \n",
        "                continue\n",
        "           \n",
        "            frame = Image.fromarray(frame)\n",
        "            \n",
        "            # Resize frame to desired size\n",
        "            if resize is not None:\n",
        "                frame = frame.resize([int(d * resize) for d in frame.size])\n",
        "                frame = np.asarray(frame)\n",
        "            frames.append(frame)\n",
        "    \n",
        "    # Used as counter variable\n",
        "  \n",
        "    # checks whether frames were extracted\n",
        "    count = globalCount\n",
        "    currentCount = 0\n",
        "    success = 1\n",
        "  \n",
        "    while success and currentCount<min(n_frames,len(frames)):\n",
        "  \n",
        "\n",
        "        cv2.imwrite(\"All_Images/\" + str(type_dataset) + \"_\"+ str(label) + \"_frame%d.jpg\" % (count//n_frames),frames[int(currentCount)])\n",
        "\n",
        "        imgPath.append(\"All_Images/\" + str(type_dataset) + \"_\"+ str(label) + \"_frame%d.jpg\"%(count//n_frames))\n",
        "  \n",
        "        count += n_frames\n",
        "        currentCount += 1\n",
        "      \n",
        "    if(type_dataset!=\"Train\"):\n",
        "      frame_count.append(currentCount)\n",
        "\n",
        "    return imgPath,count,frame_count\n",
        "\n"
      ],
      "execution_count": 4,
      "outputs": []
    },
    {
      "cell_type": "code",
      "metadata": {
        "id": "cNTSWgU8fO0v"
      },
      "source": [
        "import os\n",
        "\n",
        "\n",
        "n_frames = 32\n",
        "resize= 1\n",
        "\n",
        "def captureFrame(type_dataset,label):\n",
        "  imgPath = []\n",
        "  frame_count = []\n",
        "  count = 0\n",
        "  video_label=[]\n",
        "  temp = True\n",
        "  if temp:\n",
        "    for file in os.listdir(\"/content/drive/MyDrive/Deepfake_Mix/\"+str(type_dataset)+\"/\"+str(label)):\n",
        "        path=os.path.join(\"/content/drive/MyDrive/Deepfake_Mix/\"+str(type_dataset)+\"/\"+str(label), file)\n",
        "        temp , count ,x= FrameCapture(path,count,type_dataset,label)\n",
        "        imgPath = imgPath +  temp\n",
        "        if (type_dataset != 'Train'):\n",
        "          frame_count.append(x[0])\n",
        "          if label=='Fake':\n",
        "            video_label.append(0)\n",
        "          else:\n",
        "            video_label.append(1)\n",
        "  else:\n",
        "    for file in os.listdir(\"/content/drive/MyDrive/Deepfake_Mix_Half/\"+str(type_dataset)+\"/\"+str(label)):\n",
        "        path=os.path.join(\"/content/drive/MyDrive/Deepfake_Mix_Half/\"+str(type_dataset)+\"/\"+str(label), file)\n",
        "        temp , count ,x= FrameCapture(path,count,type_dataset,label)\n",
        "        imgPath = imgPath +  temp\n",
        "        if (type_dataset != 'Train'):\n",
        "          frame_count.append(x[0])\n",
        "          if label=='Fake':\n",
        "            video_label.append(0)\n",
        "          else:\n",
        "            video_label.append(1)\n",
        "  return imgPath,frame_count,video_label"
      ],
      "execution_count": 5,
      "outputs": []
    },
    {
      "cell_type": "code",
      "metadata": {
        "id": "HMpcptVRfRLU"
      },
      "source": [
        "imgPath_train_fake,  frame_count_train_fake, _= captureFrame(\"Train\",\"Fake\")\n",
        "imgPath_train_real,  frame_count_train_real, _= captureFrame(\"Train\",\"Real\")\n",
        "imgPath_val_fake,  frame_count_val_fake, video_label_val_fake= captureFrame(\"Val\",\"Fake\")\n",
        "imgPath_val_real,  frame_count_val_real, video_label_val_real= captureFrame(\"Val\",\"Real\")\n",
        "imgPath_test_fake,  frame_count_test_fake, video_label_test_fake= captureFrame(\"Test\",\"Fake\")\n",
        "imgPath_test_real,  frame_count_test_real, video_label_test_real= captureFrame(\"Test\",\"Real\")"
      ],
      "execution_count": 6,
      "outputs": []
    },
    {
      "cell_type": "code",
      "metadata": {
        "colab": {
          "base_uri": "https://localhost:8080/"
        },
        "id": "pwvQxk2xfWAo",
        "outputId": "24781381-f994-4954-df40-489f301b11a4"
      },
      "source": [
        "print(imgPath_train_fake)\n",
        "print(imgPath_train_real)\n",
        "print(imgPath_val_fake)\n",
        "print(imgPath_val_real)\n",
        "print(imgPath_test_fake)\n",
        "print(imgPath_test_real)"
      ],
      "execution_count": 9,
      "outputs": [
        {
          "output_type": "stream",
          "text": [
            "['All_Images/Train_Fake_frame0.jpg', 'All_Images/Train_Fake_frame1.jpg', 'All_Images/Train_Fake_frame2.jpg', 'All_Images/Train_Fake_frame3.jpg', 'All_Images/Train_Fake_frame4.jpg', 'All_Images/Train_Fake_frame5.jpg', 'All_Images/Train_Fake_frame6.jpg', 'All_Images/Train_Fake_frame7.jpg', 'All_Images/Train_Fake_frame8.jpg', 'All_Images/Train_Fake_frame9.jpg', 'All_Images/Train_Fake_frame10.jpg', 'All_Images/Train_Fake_frame11.jpg', 'All_Images/Train_Fake_frame12.jpg', 'All_Images/Train_Fake_frame13.jpg', 'All_Images/Train_Fake_frame14.jpg', 'All_Images/Train_Fake_frame15.jpg', 'All_Images/Train_Fake_frame16.jpg', 'All_Images/Train_Fake_frame17.jpg', 'All_Images/Train_Fake_frame18.jpg', 'All_Images/Train_Fake_frame19.jpg', 'All_Images/Train_Fake_frame20.jpg', 'All_Images/Train_Fake_frame21.jpg', 'All_Images/Train_Fake_frame22.jpg', 'All_Images/Train_Fake_frame23.jpg', 'All_Images/Train_Fake_frame24.jpg', 'All_Images/Train_Fake_frame25.jpg', 'All_Images/Train_Fake_frame26.jpg', 'All_Images/Train_Fake_frame27.jpg', 'All_Images/Train_Fake_frame28.jpg', 'All_Images/Train_Fake_frame29.jpg', 'All_Images/Train_Fake_frame30.jpg', 'All_Images/Train_Fake_frame31.jpg', 'All_Images/Train_Fake_frame32.jpg', 'All_Images/Train_Fake_frame33.jpg', 'All_Images/Train_Fake_frame34.jpg', 'All_Images/Train_Fake_frame35.jpg', 'All_Images/Train_Fake_frame36.jpg', 'All_Images/Train_Fake_frame37.jpg', 'All_Images/Train_Fake_frame38.jpg', 'All_Images/Train_Fake_frame39.jpg', 'All_Images/Train_Fake_frame40.jpg', 'All_Images/Train_Fake_frame41.jpg', 'All_Images/Train_Fake_frame42.jpg', 'All_Images/Train_Fake_frame43.jpg', 'All_Images/Train_Fake_frame44.jpg', 'All_Images/Train_Fake_frame45.jpg', 'All_Images/Train_Fake_frame46.jpg', 'All_Images/Train_Fake_frame47.jpg', 'All_Images/Train_Fake_frame48.jpg', 'All_Images/Train_Fake_frame49.jpg', 'All_Images/Train_Fake_frame50.jpg', 'All_Images/Train_Fake_frame51.jpg', 'All_Images/Train_Fake_frame52.jpg', 'All_Images/Train_Fake_frame53.jpg', 'All_Images/Train_Fake_frame54.jpg', 'All_Images/Train_Fake_frame55.jpg', 'All_Images/Train_Fake_frame56.jpg', 'All_Images/Train_Fake_frame57.jpg', 'All_Images/Train_Fake_frame58.jpg', 'All_Images/Train_Fake_frame59.jpg', 'All_Images/Train_Fake_frame60.jpg', 'All_Images/Train_Fake_frame61.jpg', 'All_Images/Train_Fake_frame62.jpg', 'All_Images/Train_Fake_frame63.jpg', 'All_Images/Train_Fake_frame64.jpg', 'All_Images/Train_Fake_frame65.jpg', 'All_Images/Train_Fake_frame66.jpg', 'All_Images/Train_Fake_frame67.jpg', 'All_Images/Train_Fake_frame68.jpg', 'All_Images/Train_Fake_frame69.jpg', 'All_Images/Train_Fake_frame70.jpg', 'All_Images/Train_Fake_frame71.jpg', 'All_Images/Train_Fake_frame72.jpg', 'All_Images/Train_Fake_frame73.jpg', 'All_Images/Train_Fake_frame74.jpg', 'All_Images/Train_Fake_frame75.jpg', 'All_Images/Train_Fake_frame76.jpg', 'All_Images/Train_Fake_frame77.jpg', 'All_Images/Train_Fake_frame78.jpg', 'All_Images/Train_Fake_frame79.jpg', 'All_Images/Train_Fake_frame80.jpg', 'All_Images/Train_Fake_frame81.jpg', 'All_Images/Train_Fake_frame82.jpg', 'All_Images/Train_Fake_frame83.jpg', 'All_Images/Train_Fake_frame84.jpg', 'All_Images/Train_Fake_frame85.jpg', 'All_Images/Train_Fake_frame86.jpg', 'All_Images/Train_Fake_frame87.jpg', 'All_Images/Train_Fake_frame88.jpg', 'All_Images/Train_Fake_frame89.jpg', 'All_Images/Train_Fake_frame90.jpg', 'All_Images/Train_Fake_frame91.jpg', 'All_Images/Train_Fake_frame92.jpg', 'All_Images/Train_Fake_frame93.jpg', 'All_Images/Train_Fake_frame94.jpg', 'All_Images/Train_Fake_frame95.jpg', 'All_Images/Train_Fake_frame96.jpg', 'All_Images/Train_Fake_frame97.jpg', 'All_Images/Train_Fake_frame98.jpg', 'All_Images/Train_Fake_frame99.jpg', 'All_Images/Train_Fake_frame100.jpg', 'All_Images/Train_Fake_frame101.jpg', 'All_Images/Train_Fake_frame102.jpg', 'All_Images/Train_Fake_frame103.jpg', 'All_Images/Train_Fake_frame104.jpg', 'All_Images/Train_Fake_frame105.jpg', 'All_Images/Train_Fake_frame106.jpg', 'All_Images/Train_Fake_frame107.jpg', 'All_Images/Train_Fake_frame108.jpg', 'All_Images/Train_Fake_frame109.jpg', 'All_Images/Train_Fake_frame110.jpg', 'All_Images/Train_Fake_frame111.jpg', 'All_Images/Train_Fake_frame112.jpg', 'All_Images/Train_Fake_frame113.jpg', 'All_Images/Train_Fake_frame114.jpg', 'All_Images/Train_Fake_frame115.jpg', 'All_Images/Train_Fake_frame116.jpg', 'All_Images/Train_Fake_frame117.jpg', 'All_Images/Train_Fake_frame118.jpg', 'All_Images/Train_Fake_frame119.jpg', 'All_Images/Train_Fake_frame120.jpg', 'All_Images/Train_Fake_frame121.jpg', 'All_Images/Train_Fake_frame122.jpg', 'All_Images/Train_Fake_frame123.jpg', 'All_Images/Train_Fake_frame124.jpg', 'All_Images/Train_Fake_frame125.jpg', 'All_Images/Train_Fake_frame126.jpg', 'All_Images/Train_Fake_frame127.jpg', 'All_Images/Train_Fake_frame128.jpg', 'All_Images/Train_Fake_frame129.jpg', 'All_Images/Train_Fake_frame130.jpg', 'All_Images/Train_Fake_frame131.jpg', 'All_Images/Train_Fake_frame132.jpg', 'All_Images/Train_Fake_frame133.jpg', 'All_Images/Train_Fake_frame134.jpg', 'All_Images/Train_Fake_frame135.jpg', 'All_Images/Train_Fake_frame136.jpg', 'All_Images/Train_Fake_frame137.jpg', 'All_Images/Train_Fake_frame138.jpg', 'All_Images/Train_Fake_frame139.jpg', 'All_Images/Train_Fake_frame140.jpg', 'All_Images/Train_Fake_frame141.jpg', 'All_Images/Train_Fake_frame142.jpg', 'All_Images/Train_Fake_frame143.jpg', 'All_Images/Train_Fake_frame144.jpg', 'All_Images/Train_Fake_frame145.jpg', 'All_Images/Train_Fake_frame146.jpg', 'All_Images/Train_Fake_frame147.jpg', 'All_Images/Train_Fake_frame148.jpg', 'All_Images/Train_Fake_frame149.jpg', 'All_Images/Train_Fake_frame150.jpg', 'All_Images/Train_Fake_frame151.jpg', 'All_Images/Train_Fake_frame152.jpg', 'All_Images/Train_Fake_frame153.jpg', 'All_Images/Train_Fake_frame154.jpg', 'All_Images/Train_Fake_frame155.jpg', 'All_Images/Train_Fake_frame156.jpg', 'All_Images/Train_Fake_frame157.jpg', 'All_Images/Train_Fake_frame158.jpg', 'All_Images/Train_Fake_frame159.jpg', 'All_Images/Train_Fake_frame160.jpg', 'All_Images/Train_Fake_frame161.jpg', 'All_Images/Train_Fake_frame162.jpg', 'All_Images/Train_Fake_frame163.jpg', 'All_Images/Train_Fake_frame164.jpg', 'All_Images/Train_Fake_frame165.jpg', 'All_Images/Train_Fake_frame166.jpg', 'All_Images/Train_Fake_frame167.jpg', 'All_Images/Train_Fake_frame168.jpg', 'All_Images/Train_Fake_frame169.jpg', 'All_Images/Train_Fake_frame170.jpg', 'All_Images/Train_Fake_frame171.jpg', 'All_Images/Train_Fake_frame172.jpg', 'All_Images/Train_Fake_frame173.jpg', 'All_Images/Train_Fake_frame174.jpg', 'All_Images/Train_Fake_frame175.jpg', 'All_Images/Train_Fake_frame176.jpg', 'All_Images/Train_Fake_frame177.jpg', 'All_Images/Train_Fake_frame178.jpg', 'All_Images/Train_Fake_frame179.jpg', 'All_Images/Train_Fake_frame180.jpg', 'All_Images/Train_Fake_frame181.jpg', 'All_Images/Train_Fake_frame182.jpg', 'All_Images/Train_Fake_frame183.jpg', 'All_Images/Train_Fake_frame184.jpg', 'All_Images/Train_Fake_frame185.jpg', 'All_Images/Train_Fake_frame186.jpg', 'All_Images/Train_Fake_frame187.jpg', 'All_Images/Train_Fake_frame188.jpg', 'All_Images/Train_Fake_frame189.jpg', 'All_Images/Train_Fake_frame190.jpg', 'All_Images/Train_Fake_frame191.jpg', 'All_Images/Train_Fake_frame192.jpg', 'All_Images/Train_Fake_frame193.jpg', 'All_Images/Train_Fake_frame194.jpg', 'All_Images/Train_Fake_frame195.jpg', 'All_Images/Train_Fake_frame196.jpg', 'All_Images/Train_Fake_frame197.jpg', 'All_Images/Train_Fake_frame198.jpg', 'All_Images/Train_Fake_frame199.jpg', 'All_Images/Train_Fake_frame200.jpg', 'All_Images/Train_Fake_frame201.jpg', 'All_Images/Train_Fake_frame202.jpg', 'All_Images/Train_Fake_frame203.jpg', 'All_Images/Train_Fake_frame204.jpg', 'All_Images/Train_Fake_frame205.jpg', 'All_Images/Train_Fake_frame206.jpg', 'All_Images/Train_Fake_frame207.jpg', 'All_Images/Train_Fake_frame208.jpg', 'All_Images/Train_Fake_frame209.jpg', 'All_Images/Train_Fake_frame210.jpg', 'All_Images/Train_Fake_frame211.jpg', 'All_Images/Train_Fake_frame212.jpg', 'All_Images/Train_Fake_frame213.jpg', 'All_Images/Train_Fake_frame214.jpg', 'All_Images/Train_Fake_frame215.jpg', 'All_Images/Train_Fake_frame216.jpg', 'All_Images/Train_Fake_frame217.jpg', 'All_Images/Train_Fake_frame218.jpg', 'All_Images/Train_Fake_frame219.jpg', 'All_Images/Train_Fake_frame220.jpg', 'All_Images/Train_Fake_frame221.jpg', 'All_Images/Train_Fake_frame222.jpg', 'All_Images/Train_Fake_frame223.jpg', 'All_Images/Train_Fake_frame224.jpg', 'All_Images/Train_Fake_frame225.jpg', 'All_Images/Train_Fake_frame226.jpg', 'All_Images/Train_Fake_frame227.jpg', 'All_Images/Train_Fake_frame228.jpg', 'All_Images/Train_Fake_frame229.jpg', 'All_Images/Train_Fake_frame230.jpg', 'All_Images/Train_Fake_frame231.jpg', 'All_Images/Train_Fake_frame232.jpg', 'All_Images/Train_Fake_frame233.jpg', 'All_Images/Train_Fake_frame234.jpg', 'All_Images/Train_Fake_frame235.jpg', 'All_Images/Train_Fake_frame236.jpg', 'All_Images/Train_Fake_frame237.jpg', 'All_Images/Train_Fake_frame238.jpg', 'All_Images/Train_Fake_frame239.jpg', 'All_Images/Train_Fake_frame240.jpg', 'All_Images/Train_Fake_frame241.jpg', 'All_Images/Train_Fake_frame242.jpg', 'All_Images/Train_Fake_frame243.jpg', 'All_Images/Train_Fake_frame244.jpg', 'All_Images/Train_Fake_frame245.jpg', 'All_Images/Train_Fake_frame246.jpg', 'All_Images/Train_Fake_frame247.jpg', 'All_Images/Train_Fake_frame248.jpg', 'All_Images/Train_Fake_frame249.jpg', 'All_Images/Train_Fake_frame250.jpg', 'All_Images/Train_Fake_frame251.jpg', 'All_Images/Train_Fake_frame252.jpg', 'All_Images/Train_Fake_frame253.jpg', 'All_Images/Train_Fake_frame254.jpg', 'All_Images/Train_Fake_frame255.jpg', 'All_Images/Train_Fake_frame256.jpg', 'All_Images/Train_Fake_frame257.jpg', 'All_Images/Train_Fake_frame258.jpg', 'All_Images/Train_Fake_frame259.jpg', 'All_Images/Train_Fake_frame260.jpg', 'All_Images/Train_Fake_frame261.jpg', 'All_Images/Train_Fake_frame262.jpg', 'All_Images/Train_Fake_frame263.jpg', 'All_Images/Train_Fake_frame264.jpg', 'All_Images/Train_Fake_frame265.jpg', 'All_Images/Train_Fake_frame266.jpg', 'All_Images/Train_Fake_frame267.jpg', 'All_Images/Train_Fake_frame268.jpg', 'All_Images/Train_Fake_frame269.jpg', 'All_Images/Train_Fake_frame270.jpg', 'All_Images/Train_Fake_frame271.jpg', 'All_Images/Train_Fake_frame272.jpg', 'All_Images/Train_Fake_frame273.jpg', 'All_Images/Train_Fake_frame274.jpg', 'All_Images/Train_Fake_frame275.jpg', 'All_Images/Train_Fake_frame276.jpg', 'All_Images/Train_Fake_frame277.jpg', 'All_Images/Train_Fake_frame278.jpg', 'All_Images/Train_Fake_frame279.jpg', 'All_Images/Train_Fake_frame280.jpg', 'All_Images/Train_Fake_frame281.jpg', 'All_Images/Train_Fake_frame282.jpg', 'All_Images/Train_Fake_frame283.jpg', 'All_Images/Train_Fake_frame284.jpg', 'All_Images/Train_Fake_frame285.jpg', 'All_Images/Train_Fake_frame286.jpg', 'All_Images/Train_Fake_frame287.jpg', 'All_Images/Train_Fake_frame288.jpg', 'All_Images/Train_Fake_frame289.jpg', 'All_Images/Train_Fake_frame290.jpg', 'All_Images/Train_Fake_frame291.jpg', 'All_Images/Train_Fake_frame292.jpg', 'All_Images/Train_Fake_frame293.jpg', 'All_Images/Train_Fake_frame294.jpg', 'All_Images/Train_Fake_frame295.jpg', 'All_Images/Train_Fake_frame296.jpg', 'All_Images/Train_Fake_frame297.jpg', 'All_Images/Train_Fake_frame298.jpg', 'All_Images/Train_Fake_frame299.jpg', 'All_Images/Train_Fake_frame300.jpg', 'All_Images/Train_Fake_frame301.jpg', 'All_Images/Train_Fake_frame302.jpg', 'All_Images/Train_Fake_frame303.jpg', 'All_Images/Train_Fake_frame304.jpg', 'All_Images/Train_Fake_frame305.jpg', 'All_Images/Train_Fake_frame306.jpg', 'All_Images/Train_Fake_frame307.jpg', 'All_Images/Train_Fake_frame308.jpg', 'All_Images/Train_Fake_frame309.jpg', 'All_Images/Train_Fake_frame310.jpg', 'All_Images/Train_Fake_frame311.jpg', 'All_Images/Train_Fake_frame312.jpg', 'All_Images/Train_Fake_frame313.jpg', 'All_Images/Train_Fake_frame314.jpg', 'All_Images/Train_Fake_frame315.jpg', 'All_Images/Train_Fake_frame316.jpg', 'All_Images/Train_Fake_frame317.jpg', 'All_Images/Train_Fake_frame318.jpg', 'All_Images/Train_Fake_frame319.jpg', 'All_Images/Train_Fake_frame320.jpg', 'All_Images/Train_Fake_frame321.jpg', 'All_Images/Train_Fake_frame322.jpg', 'All_Images/Train_Fake_frame323.jpg', 'All_Images/Train_Fake_frame324.jpg', 'All_Images/Train_Fake_frame325.jpg', 'All_Images/Train_Fake_frame326.jpg', 'All_Images/Train_Fake_frame327.jpg', 'All_Images/Train_Fake_frame328.jpg', 'All_Images/Train_Fake_frame329.jpg', 'All_Images/Train_Fake_frame330.jpg', 'All_Images/Train_Fake_frame331.jpg', 'All_Images/Train_Fake_frame332.jpg', 'All_Images/Train_Fake_frame333.jpg', 'All_Images/Train_Fake_frame334.jpg', 'All_Images/Train_Fake_frame335.jpg', 'All_Images/Train_Fake_frame336.jpg', 'All_Images/Train_Fake_frame337.jpg', 'All_Images/Train_Fake_frame338.jpg', 'All_Images/Train_Fake_frame339.jpg', 'All_Images/Train_Fake_frame340.jpg', 'All_Images/Train_Fake_frame341.jpg', 'All_Images/Train_Fake_frame342.jpg', 'All_Images/Train_Fake_frame343.jpg', 'All_Images/Train_Fake_frame344.jpg', 'All_Images/Train_Fake_frame345.jpg', 'All_Images/Train_Fake_frame346.jpg', 'All_Images/Train_Fake_frame347.jpg', 'All_Images/Train_Fake_frame348.jpg', 'All_Images/Train_Fake_frame349.jpg', 'All_Images/Train_Fake_frame350.jpg', 'All_Images/Train_Fake_frame351.jpg', 'All_Images/Train_Fake_frame352.jpg', 'All_Images/Train_Fake_frame353.jpg', 'All_Images/Train_Fake_frame354.jpg', 'All_Images/Train_Fake_frame355.jpg', 'All_Images/Train_Fake_frame356.jpg', 'All_Images/Train_Fake_frame357.jpg', 'All_Images/Train_Fake_frame358.jpg', 'All_Images/Train_Fake_frame359.jpg', 'All_Images/Train_Fake_frame360.jpg', 'All_Images/Train_Fake_frame361.jpg', 'All_Images/Train_Fake_frame362.jpg', 'All_Images/Train_Fake_frame363.jpg', 'All_Images/Train_Fake_frame364.jpg', 'All_Images/Train_Fake_frame365.jpg', 'All_Images/Train_Fake_frame366.jpg', 'All_Images/Train_Fake_frame367.jpg', 'All_Images/Train_Fake_frame368.jpg', 'All_Images/Train_Fake_frame369.jpg', 'All_Images/Train_Fake_frame370.jpg', 'All_Images/Train_Fake_frame371.jpg', 'All_Images/Train_Fake_frame372.jpg', 'All_Images/Train_Fake_frame373.jpg', 'All_Images/Train_Fake_frame374.jpg', 'All_Images/Train_Fake_frame375.jpg', 'All_Images/Train_Fake_frame376.jpg', 'All_Images/Train_Fake_frame377.jpg', 'All_Images/Train_Fake_frame378.jpg', 'All_Images/Train_Fake_frame379.jpg', 'All_Images/Train_Fake_frame380.jpg', 'All_Images/Train_Fake_frame381.jpg', 'All_Images/Train_Fake_frame382.jpg', 'All_Images/Train_Fake_frame383.jpg', 'All_Images/Train_Fake_frame384.jpg', 'All_Images/Train_Fake_frame385.jpg', 'All_Images/Train_Fake_frame386.jpg', 'All_Images/Train_Fake_frame387.jpg', 'All_Images/Train_Fake_frame388.jpg', 'All_Images/Train_Fake_frame389.jpg', 'All_Images/Train_Fake_frame390.jpg', 'All_Images/Train_Fake_frame391.jpg', 'All_Images/Train_Fake_frame392.jpg', 'All_Images/Train_Fake_frame393.jpg', 'All_Images/Train_Fake_frame394.jpg', 'All_Images/Train_Fake_frame395.jpg', 'All_Images/Train_Fake_frame396.jpg', 'All_Images/Train_Fake_frame397.jpg', 'All_Images/Train_Fake_frame398.jpg', 'All_Images/Train_Fake_frame399.jpg', 'All_Images/Train_Fake_frame400.jpg', 'All_Images/Train_Fake_frame401.jpg', 'All_Images/Train_Fake_frame402.jpg', 'All_Images/Train_Fake_frame403.jpg', 'All_Images/Train_Fake_frame404.jpg', 'All_Images/Train_Fake_frame405.jpg', 'All_Images/Train_Fake_frame406.jpg', 'All_Images/Train_Fake_frame407.jpg', 'All_Images/Train_Fake_frame408.jpg', 'All_Images/Train_Fake_frame409.jpg', 'All_Images/Train_Fake_frame410.jpg', 'All_Images/Train_Fake_frame411.jpg', 'All_Images/Train_Fake_frame412.jpg', 'All_Images/Train_Fake_frame413.jpg', 'All_Images/Train_Fake_frame414.jpg', 'All_Images/Train_Fake_frame415.jpg', 'All_Images/Train_Fake_frame416.jpg', 'All_Images/Train_Fake_frame417.jpg', 'All_Images/Train_Fake_frame418.jpg', 'All_Images/Train_Fake_frame419.jpg', 'All_Images/Train_Fake_frame420.jpg', 'All_Images/Train_Fake_frame421.jpg', 'All_Images/Train_Fake_frame422.jpg', 'All_Images/Train_Fake_frame423.jpg', 'All_Images/Train_Fake_frame424.jpg', 'All_Images/Train_Fake_frame425.jpg', 'All_Images/Train_Fake_frame426.jpg', 'All_Images/Train_Fake_frame427.jpg', 'All_Images/Train_Fake_frame428.jpg', 'All_Images/Train_Fake_frame429.jpg', 'All_Images/Train_Fake_frame430.jpg', 'All_Images/Train_Fake_frame431.jpg', 'All_Images/Train_Fake_frame432.jpg', 'All_Images/Train_Fake_frame433.jpg', 'All_Images/Train_Fake_frame434.jpg', 'All_Images/Train_Fake_frame435.jpg', 'All_Images/Train_Fake_frame436.jpg', 'All_Images/Train_Fake_frame437.jpg', 'All_Images/Train_Fake_frame438.jpg', 'All_Images/Train_Fake_frame439.jpg', 'All_Images/Train_Fake_frame440.jpg', 'All_Images/Train_Fake_frame441.jpg', 'All_Images/Train_Fake_frame442.jpg', 'All_Images/Train_Fake_frame443.jpg', 'All_Images/Train_Fake_frame444.jpg', 'All_Images/Train_Fake_frame445.jpg', 'All_Images/Train_Fake_frame446.jpg', 'All_Images/Train_Fake_frame447.jpg', 'All_Images/Train_Fake_frame448.jpg', 'All_Images/Train_Fake_frame449.jpg', 'All_Images/Train_Fake_frame450.jpg', 'All_Images/Train_Fake_frame451.jpg', 'All_Images/Train_Fake_frame452.jpg', 'All_Images/Train_Fake_frame453.jpg', 'All_Images/Train_Fake_frame454.jpg', 'All_Images/Train_Fake_frame455.jpg', 'All_Images/Train_Fake_frame456.jpg', 'All_Images/Train_Fake_frame457.jpg', 'All_Images/Train_Fake_frame458.jpg', 'All_Images/Train_Fake_frame459.jpg', 'All_Images/Train_Fake_frame460.jpg', 'All_Images/Train_Fake_frame461.jpg', 'All_Images/Train_Fake_frame462.jpg', 'All_Images/Train_Fake_frame463.jpg', 'All_Images/Train_Fake_frame464.jpg', 'All_Images/Train_Fake_frame465.jpg', 'All_Images/Train_Fake_frame466.jpg', 'All_Images/Train_Fake_frame467.jpg', 'All_Images/Train_Fake_frame468.jpg', 'All_Images/Train_Fake_frame469.jpg', 'All_Images/Train_Fake_frame470.jpg', 'All_Images/Train_Fake_frame471.jpg', 'All_Images/Train_Fake_frame472.jpg', 'All_Images/Train_Fake_frame473.jpg', 'All_Images/Train_Fake_frame474.jpg', 'All_Images/Train_Fake_frame475.jpg', 'All_Images/Train_Fake_frame476.jpg', 'All_Images/Train_Fake_frame477.jpg', 'All_Images/Train_Fake_frame478.jpg', 'All_Images/Train_Fake_frame479.jpg', 'All_Images/Train_Fake_frame480.jpg', 'All_Images/Train_Fake_frame481.jpg', 'All_Images/Train_Fake_frame482.jpg', 'All_Images/Train_Fake_frame483.jpg', 'All_Images/Train_Fake_frame484.jpg', 'All_Images/Train_Fake_frame485.jpg', 'All_Images/Train_Fake_frame486.jpg', 'All_Images/Train_Fake_frame487.jpg', 'All_Images/Train_Fake_frame488.jpg', 'All_Images/Train_Fake_frame489.jpg', 'All_Images/Train_Fake_frame490.jpg', 'All_Images/Train_Fake_frame491.jpg', 'All_Images/Train_Fake_frame492.jpg', 'All_Images/Train_Fake_frame493.jpg', 'All_Images/Train_Fake_frame494.jpg', 'All_Images/Train_Fake_frame495.jpg', 'All_Images/Train_Fake_frame496.jpg', 'All_Images/Train_Fake_frame497.jpg', 'All_Images/Train_Fake_frame498.jpg', 'All_Images/Train_Fake_frame499.jpg', 'All_Images/Train_Fake_frame500.jpg', 'All_Images/Train_Fake_frame501.jpg', 'All_Images/Train_Fake_frame502.jpg', 'All_Images/Train_Fake_frame503.jpg', 'All_Images/Train_Fake_frame504.jpg', 'All_Images/Train_Fake_frame505.jpg', 'All_Images/Train_Fake_frame506.jpg', 'All_Images/Train_Fake_frame507.jpg', 'All_Images/Train_Fake_frame508.jpg', 'All_Images/Train_Fake_frame509.jpg', 'All_Images/Train_Fake_frame510.jpg', 'All_Images/Train_Fake_frame511.jpg', 'All_Images/Train_Fake_frame512.jpg', 'All_Images/Train_Fake_frame513.jpg', 'All_Images/Train_Fake_frame514.jpg', 'All_Images/Train_Fake_frame515.jpg', 'All_Images/Train_Fake_frame516.jpg', 'All_Images/Train_Fake_frame517.jpg', 'All_Images/Train_Fake_frame518.jpg', 'All_Images/Train_Fake_frame519.jpg', 'All_Images/Train_Fake_frame520.jpg', 'All_Images/Train_Fake_frame521.jpg', 'All_Images/Train_Fake_frame522.jpg', 'All_Images/Train_Fake_frame523.jpg', 'All_Images/Train_Fake_frame524.jpg', 'All_Images/Train_Fake_frame525.jpg', 'All_Images/Train_Fake_frame526.jpg', 'All_Images/Train_Fake_frame527.jpg', 'All_Images/Train_Fake_frame528.jpg', 'All_Images/Train_Fake_frame529.jpg', 'All_Images/Train_Fake_frame530.jpg', 'All_Images/Train_Fake_frame531.jpg', 'All_Images/Train_Fake_frame532.jpg', 'All_Images/Train_Fake_frame533.jpg', 'All_Images/Train_Fake_frame534.jpg', 'All_Images/Train_Fake_frame535.jpg', 'All_Images/Train_Fake_frame536.jpg', 'All_Images/Train_Fake_frame537.jpg', 'All_Images/Train_Fake_frame538.jpg', 'All_Images/Train_Fake_frame539.jpg', 'All_Images/Train_Fake_frame540.jpg', 'All_Images/Train_Fake_frame541.jpg', 'All_Images/Train_Fake_frame542.jpg', 'All_Images/Train_Fake_frame543.jpg', 'All_Images/Train_Fake_frame544.jpg', 'All_Images/Train_Fake_frame545.jpg', 'All_Images/Train_Fake_frame546.jpg', 'All_Images/Train_Fake_frame547.jpg', 'All_Images/Train_Fake_frame548.jpg', 'All_Images/Train_Fake_frame549.jpg', 'All_Images/Train_Fake_frame550.jpg', 'All_Images/Train_Fake_frame551.jpg', 'All_Images/Train_Fake_frame552.jpg', 'All_Images/Train_Fake_frame553.jpg', 'All_Images/Train_Fake_frame554.jpg', 'All_Images/Train_Fake_frame555.jpg', 'All_Images/Train_Fake_frame556.jpg', 'All_Images/Train_Fake_frame557.jpg', 'All_Images/Train_Fake_frame558.jpg', 'All_Images/Train_Fake_frame559.jpg', 'All_Images/Train_Fake_frame560.jpg', 'All_Images/Train_Fake_frame561.jpg', 'All_Images/Train_Fake_frame562.jpg', 'All_Images/Train_Fake_frame563.jpg', 'All_Images/Train_Fake_frame564.jpg', 'All_Images/Train_Fake_frame565.jpg', 'All_Images/Train_Fake_frame566.jpg', 'All_Images/Train_Fake_frame567.jpg', 'All_Images/Train_Fake_frame568.jpg', 'All_Images/Train_Fake_frame569.jpg', 'All_Images/Train_Fake_frame570.jpg', 'All_Images/Train_Fake_frame571.jpg', 'All_Images/Train_Fake_frame572.jpg', 'All_Images/Train_Fake_frame573.jpg', 'All_Images/Train_Fake_frame574.jpg', 'All_Images/Train_Fake_frame575.jpg', 'All_Images/Train_Fake_frame576.jpg', 'All_Images/Train_Fake_frame577.jpg', 'All_Images/Train_Fake_frame578.jpg', 'All_Images/Train_Fake_frame579.jpg', 'All_Images/Train_Fake_frame580.jpg', 'All_Images/Train_Fake_frame581.jpg', 'All_Images/Train_Fake_frame582.jpg', 'All_Images/Train_Fake_frame583.jpg', 'All_Images/Train_Fake_frame584.jpg', 'All_Images/Train_Fake_frame585.jpg', 'All_Images/Train_Fake_frame586.jpg', 'All_Images/Train_Fake_frame587.jpg', 'All_Images/Train_Fake_frame588.jpg', 'All_Images/Train_Fake_frame589.jpg', 'All_Images/Train_Fake_frame590.jpg', 'All_Images/Train_Fake_frame591.jpg', 'All_Images/Train_Fake_frame592.jpg', 'All_Images/Train_Fake_frame593.jpg', 'All_Images/Train_Fake_frame594.jpg', 'All_Images/Train_Fake_frame595.jpg', 'All_Images/Train_Fake_frame596.jpg', 'All_Images/Train_Fake_frame597.jpg', 'All_Images/Train_Fake_frame598.jpg', 'All_Images/Train_Fake_frame599.jpg', 'All_Images/Train_Fake_frame600.jpg', 'All_Images/Train_Fake_frame601.jpg', 'All_Images/Train_Fake_frame602.jpg', 'All_Images/Train_Fake_frame603.jpg', 'All_Images/Train_Fake_frame604.jpg', 'All_Images/Train_Fake_frame605.jpg', 'All_Images/Train_Fake_frame606.jpg', 'All_Images/Train_Fake_frame607.jpg', 'All_Images/Train_Fake_frame608.jpg', 'All_Images/Train_Fake_frame609.jpg', 'All_Images/Train_Fake_frame610.jpg', 'All_Images/Train_Fake_frame611.jpg', 'All_Images/Train_Fake_frame612.jpg', 'All_Images/Train_Fake_frame613.jpg', 'All_Images/Train_Fake_frame614.jpg', 'All_Images/Train_Fake_frame615.jpg', 'All_Images/Train_Fake_frame616.jpg', 'All_Images/Train_Fake_frame617.jpg', 'All_Images/Train_Fake_frame618.jpg', 'All_Images/Train_Fake_frame619.jpg', 'All_Images/Train_Fake_frame620.jpg', 'All_Images/Train_Fake_frame621.jpg', 'All_Images/Train_Fake_frame622.jpg', 'All_Images/Train_Fake_frame623.jpg', 'All_Images/Train_Fake_frame624.jpg', 'All_Images/Train_Fake_frame625.jpg', 'All_Images/Train_Fake_frame626.jpg', 'All_Images/Train_Fake_frame627.jpg', 'All_Images/Train_Fake_frame628.jpg', 'All_Images/Train_Fake_frame629.jpg', 'All_Images/Train_Fake_frame630.jpg', 'All_Images/Train_Fake_frame631.jpg', 'All_Images/Train_Fake_frame632.jpg', 'All_Images/Train_Fake_frame633.jpg', 'All_Images/Train_Fake_frame634.jpg', 'All_Images/Train_Fake_frame635.jpg', 'All_Images/Train_Fake_frame636.jpg', 'All_Images/Train_Fake_frame637.jpg', 'All_Images/Train_Fake_frame638.jpg', 'All_Images/Train_Fake_frame639.jpg', 'All_Images/Train_Fake_frame640.jpg', 'All_Images/Train_Fake_frame641.jpg', 'All_Images/Train_Fake_frame642.jpg', 'All_Images/Train_Fake_frame643.jpg', 'All_Images/Train_Fake_frame644.jpg', 'All_Images/Train_Fake_frame645.jpg', 'All_Images/Train_Fake_frame646.jpg', 'All_Images/Train_Fake_frame647.jpg', 'All_Images/Train_Fake_frame648.jpg', 'All_Images/Train_Fake_frame649.jpg', 'All_Images/Train_Fake_frame650.jpg', 'All_Images/Train_Fake_frame651.jpg', 'All_Images/Train_Fake_frame652.jpg', 'All_Images/Train_Fake_frame653.jpg', 'All_Images/Train_Fake_frame654.jpg', 'All_Images/Train_Fake_frame655.jpg', 'All_Images/Train_Fake_frame656.jpg', 'All_Images/Train_Fake_frame657.jpg', 'All_Images/Train_Fake_frame658.jpg', 'All_Images/Train_Fake_frame659.jpg', 'All_Images/Train_Fake_frame660.jpg', 'All_Images/Train_Fake_frame661.jpg', 'All_Images/Train_Fake_frame662.jpg', 'All_Images/Train_Fake_frame663.jpg', 'All_Images/Train_Fake_frame664.jpg', 'All_Images/Train_Fake_frame665.jpg', 'All_Images/Train_Fake_frame666.jpg', 'All_Images/Train_Fake_frame667.jpg', 'All_Images/Train_Fake_frame668.jpg', 'All_Images/Train_Fake_frame669.jpg', 'All_Images/Train_Fake_frame670.jpg', 'All_Images/Train_Fake_frame671.jpg', 'All_Images/Train_Fake_frame672.jpg', 'All_Images/Train_Fake_frame673.jpg', 'All_Images/Train_Fake_frame674.jpg', 'All_Images/Train_Fake_frame675.jpg', 'All_Images/Train_Fake_frame676.jpg', 'All_Images/Train_Fake_frame677.jpg', 'All_Images/Train_Fake_frame678.jpg', 'All_Images/Train_Fake_frame679.jpg', 'All_Images/Train_Fake_frame680.jpg', 'All_Images/Train_Fake_frame681.jpg', 'All_Images/Train_Fake_frame682.jpg', 'All_Images/Train_Fake_frame683.jpg', 'All_Images/Train_Fake_frame684.jpg', 'All_Images/Train_Fake_frame685.jpg', 'All_Images/Train_Fake_frame686.jpg', 'All_Images/Train_Fake_frame687.jpg', 'All_Images/Train_Fake_frame688.jpg', 'All_Images/Train_Fake_frame689.jpg', 'All_Images/Train_Fake_frame690.jpg', 'All_Images/Train_Fake_frame691.jpg', 'All_Images/Train_Fake_frame692.jpg', 'All_Images/Train_Fake_frame693.jpg', 'All_Images/Train_Fake_frame694.jpg', 'All_Images/Train_Fake_frame695.jpg', 'All_Images/Train_Fake_frame696.jpg', 'All_Images/Train_Fake_frame697.jpg', 'All_Images/Train_Fake_frame698.jpg', 'All_Images/Train_Fake_frame699.jpg', 'All_Images/Train_Fake_frame700.jpg', 'All_Images/Train_Fake_frame701.jpg', 'All_Images/Train_Fake_frame702.jpg', 'All_Images/Train_Fake_frame703.jpg', 'All_Images/Train_Fake_frame704.jpg', 'All_Images/Train_Fake_frame705.jpg', 'All_Images/Train_Fake_frame706.jpg', 'All_Images/Train_Fake_frame707.jpg', 'All_Images/Train_Fake_frame708.jpg', 'All_Images/Train_Fake_frame709.jpg', 'All_Images/Train_Fake_frame710.jpg', 'All_Images/Train_Fake_frame711.jpg', 'All_Images/Train_Fake_frame712.jpg', 'All_Images/Train_Fake_frame713.jpg', 'All_Images/Train_Fake_frame714.jpg', 'All_Images/Train_Fake_frame715.jpg', 'All_Images/Train_Fake_frame716.jpg', 'All_Images/Train_Fake_frame717.jpg', 'All_Images/Train_Fake_frame718.jpg', 'All_Images/Train_Fake_frame719.jpg', 'All_Images/Train_Fake_frame720.jpg', 'All_Images/Train_Fake_frame721.jpg', 'All_Images/Train_Fake_frame722.jpg', 'All_Images/Train_Fake_frame723.jpg', 'All_Images/Train_Fake_frame724.jpg', 'All_Images/Train_Fake_frame725.jpg', 'All_Images/Train_Fake_frame726.jpg', 'All_Images/Train_Fake_frame727.jpg', 'All_Images/Train_Fake_frame728.jpg', 'All_Images/Train_Fake_frame729.jpg', 'All_Images/Train_Fake_frame730.jpg', 'All_Images/Train_Fake_frame731.jpg', 'All_Images/Train_Fake_frame732.jpg', 'All_Images/Train_Fake_frame733.jpg', 'All_Images/Train_Fake_frame734.jpg', 'All_Images/Train_Fake_frame735.jpg', 'All_Images/Train_Fake_frame736.jpg', 'All_Images/Train_Fake_frame737.jpg', 'All_Images/Train_Fake_frame738.jpg', 'All_Images/Train_Fake_frame739.jpg', 'All_Images/Train_Fake_frame740.jpg', 'All_Images/Train_Fake_frame741.jpg', 'All_Images/Train_Fake_frame742.jpg', 'All_Images/Train_Fake_frame743.jpg', 'All_Images/Train_Fake_frame744.jpg', 'All_Images/Train_Fake_frame745.jpg', 'All_Images/Train_Fake_frame746.jpg', 'All_Images/Train_Fake_frame747.jpg', 'All_Images/Train_Fake_frame748.jpg', 'All_Images/Train_Fake_frame749.jpg', 'All_Images/Train_Fake_frame750.jpg', 'All_Images/Train_Fake_frame751.jpg', 'All_Images/Train_Fake_frame752.jpg', 'All_Images/Train_Fake_frame753.jpg', 'All_Images/Train_Fake_frame754.jpg', 'All_Images/Train_Fake_frame755.jpg', 'All_Images/Train_Fake_frame756.jpg', 'All_Images/Train_Fake_frame757.jpg', 'All_Images/Train_Fake_frame758.jpg', 'All_Images/Train_Fake_frame759.jpg', 'All_Images/Train_Fake_frame760.jpg', 'All_Images/Train_Fake_frame761.jpg', 'All_Images/Train_Fake_frame762.jpg', 'All_Images/Train_Fake_frame763.jpg', 'All_Images/Train_Fake_frame764.jpg', 'All_Images/Train_Fake_frame765.jpg', 'All_Images/Train_Fake_frame766.jpg', 'All_Images/Train_Fake_frame767.jpg', 'All_Images/Train_Fake_frame768.jpg', 'All_Images/Train_Fake_frame769.jpg', 'All_Images/Train_Fake_frame770.jpg', 'All_Images/Train_Fake_frame771.jpg', 'All_Images/Train_Fake_frame772.jpg', 'All_Images/Train_Fake_frame773.jpg', 'All_Images/Train_Fake_frame774.jpg', 'All_Images/Train_Fake_frame775.jpg', 'All_Images/Train_Fake_frame776.jpg', 'All_Images/Train_Fake_frame777.jpg', 'All_Images/Train_Fake_frame778.jpg', 'All_Images/Train_Fake_frame779.jpg', 'All_Images/Train_Fake_frame780.jpg', 'All_Images/Train_Fake_frame781.jpg', 'All_Images/Train_Fake_frame782.jpg', 'All_Images/Train_Fake_frame783.jpg', 'All_Images/Train_Fake_frame784.jpg', 'All_Images/Train_Fake_frame785.jpg', 'All_Images/Train_Fake_frame786.jpg', 'All_Images/Train_Fake_frame787.jpg', 'All_Images/Train_Fake_frame788.jpg', 'All_Images/Train_Fake_frame789.jpg', 'All_Images/Train_Fake_frame790.jpg', 'All_Images/Train_Fake_frame791.jpg', 'All_Images/Train_Fake_frame792.jpg', 'All_Images/Train_Fake_frame793.jpg', 'All_Images/Train_Fake_frame794.jpg', 'All_Images/Train_Fake_frame795.jpg', 'All_Images/Train_Fake_frame796.jpg', 'All_Images/Train_Fake_frame797.jpg', 'All_Images/Train_Fake_frame798.jpg', 'All_Images/Train_Fake_frame799.jpg', 'All_Images/Train_Fake_frame800.jpg', 'All_Images/Train_Fake_frame801.jpg', 'All_Images/Train_Fake_frame802.jpg', 'All_Images/Train_Fake_frame803.jpg', 'All_Images/Train_Fake_frame804.jpg', 'All_Images/Train_Fake_frame805.jpg', 'All_Images/Train_Fake_frame806.jpg', 'All_Images/Train_Fake_frame807.jpg', 'All_Images/Train_Fake_frame808.jpg', 'All_Images/Train_Fake_frame809.jpg', 'All_Images/Train_Fake_frame810.jpg', 'All_Images/Train_Fake_frame811.jpg', 'All_Images/Train_Fake_frame812.jpg', 'All_Images/Train_Fake_frame813.jpg', 'All_Images/Train_Fake_frame814.jpg', 'All_Images/Train_Fake_frame815.jpg', 'All_Images/Train_Fake_frame816.jpg', 'All_Images/Train_Fake_frame817.jpg', 'All_Images/Train_Fake_frame818.jpg', 'All_Images/Train_Fake_frame819.jpg', 'All_Images/Train_Fake_frame820.jpg', 'All_Images/Train_Fake_frame821.jpg', 'All_Images/Train_Fake_frame822.jpg', 'All_Images/Train_Fake_frame823.jpg', 'All_Images/Train_Fake_frame824.jpg', 'All_Images/Train_Fake_frame825.jpg', 'All_Images/Train_Fake_frame826.jpg', 'All_Images/Train_Fake_frame827.jpg', 'All_Images/Train_Fake_frame828.jpg', 'All_Images/Train_Fake_frame829.jpg', 'All_Images/Train_Fake_frame830.jpg', 'All_Images/Train_Fake_frame831.jpg', 'All_Images/Train_Fake_frame832.jpg', 'All_Images/Train_Fake_frame833.jpg', 'All_Images/Train_Fake_frame834.jpg', 'All_Images/Train_Fake_frame835.jpg', 'All_Images/Train_Fake_frame836.jpg', 'All_Images/Train_Fake_frame837.jpg', 'All_Images/Train_Fake_frame838.jpg', 'All_Images/Train_Fake_frame839.jpg', 'All_Images/Train_Fake_frame840.jpg', 'All_Images/Train_Fake_frame841.jpg', 'All_Images/Train_Fake_frame842.jpg', 'All_Images/Train_Fake_frame843.jpg', 'All_Images/Train_Fake_frame844.jpg', 'All_Images/Train_Fake_frame845.jpg', 'All_Images/Train_Fake_frame846.jpg', 'All_Images/Train_Fake_frame847.jpg', 'All_Images/Train_Fake_frame848.jpg', 'All_Images/Train_Fake_frame849.jpg', 'All_Images/Train_Fake_frame850.jpg', 'All_Images/Train_Fake_frame851.jpg', 'All_Images/Train_Fake_frame852.jpg', 'All_Images/Train_Fake_frame853.jpg', 'All_Images/Train_Fake_frame854.jpg', 'All_Images/Train_Fake_frame855.jpg', 'All_Images/Train_Fake_frame856.jpg', 'All_Images/Train_Fake_frame857.jpg', 'All_Images/Train_Fake_frame858.jpg', 'All_Images/Train_Fake_frame859.jpg', 'All_Images/Train_Fake_frame860.jpg', 'All_Images/Train_Fake_frame861.jpg', 'All_Images/Train_Fake_frame862.jpg', 'All_Images/Train_Fake_frame863.jpg', 'All_Images/Train_Fake_frame864.jpg', 'All_Images/Train_Fake_frame865.jpg', 'All_Images/Train_Fake_frame866.jpg', 'All_Images/Train_Fake_frame867.jpg', 'All_Images/Train_Fake_frame868.jpg', 'All_Images/Train_Fake_frame869.jpg', 'All_Images/Train_Fake_frame870.jpg', 'All_Images/Train_Fake_frame871.jpg', 'All_Images/Train_Fake_frame872.jpg', 'All_Images/Train_Fake_frame873.jpg', 'All_Images/Train_Fake_frame874.jpg', 'All_Images/Train_Fake_frame875.jpg', 'All_Images/Train_Fake_frame876.jpg', 'All_Images/Train_Fake_frame877.jpg', 'All_Images/Train_Fake_frame878.jpg', 'All_Images/Train_Fake_frame879.jpg', 'All_Images/Train_Fake_frame880.jpg', 'All_Images/Train_Fake_frame881.jpg', 'All_Images/Train_Fake_frame882.jpg', 'All_Images/Train_Fake_frame883.jpg', 'All_Images/Train_Fake_frame884.jpg', 'All_Images/Train_Fake_frame885.jpg', 'All_Images/Train_Fake_frame886.jpg', 'All_Images/Train_Fake_frame887.jpg', 'All_Images/Train_Fake_frame888.jpg', 'All_Images/Train_Fake_frame889.jpg', 'All_Images/Train_Fake_frame890.jpg', 'All_Images/Train_Fake_frame891.jpg', 'All_Images/Train_Fake_frame892.jpg', 'All_Images/Train_Fake_frame893.jpg', 'All_Images/Train_Fake_frame894.jpg', 'All_Images/Train_Fake_frame895.jpg', 'All_Images/Train_Fake_frame896.jpg', 'All_Images/Train_Fake_frame897.jpg', 'All_Images/Train_Fake_frame898.jpg', 'All_Images/Train_Fake_frame899.jpg', 'All_Images/Train_Fake_frame900.jpg', 'All_Images/Train_Fake_frame901.jpg', 'All_Images/Train_Fake_frame902.jpg', 'All_Images/Train_Fake_frame903.jpg', 'All_Images/Train_Fake_frame904.jpg', 'All_Images/Train_Fake_frame905.jpg', 'All_Images/Train_Fake_frame906.jpg', 'All_Images/Train_Fake_frame907.jpg', 'All_Images/Train_Fake_frame908.jpg', 'All_Images/Train_Fake_frame909.jpg', 'All_Images/Train_Fake_frame910.jpg', 'All_Images/Train_Fake_frame911.jpg', 'All_Images/Train_Fake_frame912.jpg', 'All_Images/Train_Fake_frame913.jpg', 'All_Images/Train_Fake_frame914.jpg', 'All_Images/Train_Fake_frame915.jpg', 'All_Images/Train_Fake_frame916.jpg', 'All_Images/Train_Fake_frame917.jpg', 'All_Images/Train_Fake_frame918.jpg', 'All_Images/Train_Fake_frame919.jpg', 'All_Images/Train_Fake_frame920.jpg', 'All_Images/Train_Fake_frame921.jpg', 'All_Images/Train_Fake_frame922.jpg', 'All_Images/Train_Fake_frame923.jpg', 'All_Images/Train_Fake_frame924.jpg', 'All_Images/Train_Fake_frame925.jpg', 'All_Images/Train_Fake_frame926.jpg', 'All_Images/Train_Fake_frame927.jpg', 'All_Images/Train_Fake_frame928.jpg', 'All_Images/Train_Fake_frame929.jpg', 'All_Images/Train_Fake_frame930.jpg', 'All_Images/Train_Fake_frame931.jpg', 'All_Images/Train_Fake_frame932.jpg', 'All_Images/Train_Fake_frame933.jpg', 'All_Images/Train_Fake_frame934.jpg', 'All_Images/Train_Fake_frame935.jpg', 'All_Images/Train_Fake_frame936.jpg', 'All_Images/Train_Fake_frame937.jpg', 'All_Images/Train_Fake_frame938.jpg', 'All_Images/Train_Fake_frame939.jpg', 'All_Images/Train_Fake_frame940.jpg', 'All_Images/Train_Fake_frame941.jpg', 'All_Images/Train_Fake_frame942.jpg', 'All_Images/Train_Fake_frame943.jpg', 'All_Images/Train_Fake_frame944.jpg', 'All_Images/Train_Fake_frame945.jpg', 'All_Images/Train_Fake_frame946.jpg', 'All_Images/Train_Fake_frame947.jpg', 'All_Images/Train_Fake_frame948.jpg', 'All_Images/Train_Fake_frame949.jpg', 'All_Images/Train_Fake_frame950.jpg', 'All_Images/Train_Fake_frame951.jpg', 'All_Images/Train_Fake_frame952.jpg', 'All_Images/Train_Fake_frame953.jpg', 'All_Images/Train_Fake_frame954.jpg', 'All_Images/Train_Fake_frame955.jpg', 'All_Images/Train_Fake_frame956.jpg', 'All_Images/Train_Fake_frame957.jpg', 'All_Images/Train_Fake_frame958.jpg', 'All_Images/Train_Fake_frame959.jpg', 'All_Images/Train_Fake_frame960.jpg', 'All_Images/Train_Fake_frame961.jpg', 'All_Images/Train_Fake_frame962.jpg', 'All_Images/Train_Fake_frame963.jpg', 'All_Images/Train_Fake_frame964.jpg', 'All_Images/Train_Fake_frame965.jpg', 'All_Images/Train_Fake_frame966.jpg', 'All_Images/Train_Fake_frame967.jpg', 'All_Images/Train_Fake_frame968.jpg', 'All_Images/Train_Fake_frame969.jpg', 'All_Images/Train_Fake_frame970.jpg', 'All_Images/Train_Fake_frame971.jpg', 'All_Images/Train_Fake_frame972.jpg', 'All_Images/Train_Fake_frame973.jpg', 'All_Images/Train_Fake_frame974.jpg', 'All_Images/Train_Fake_frame975.jpg', 'All_Images/Train_Fake_frame976.jpg', 'All_Images/Train_Fake_frame977.jpg', 'All_Images/Train_Fake_frame978.jpg', 'All_Images/Train_Fake_frame979.jpg', 'All_Images/Train_Fake_frame980.jpg', 'All_Images/Train_Fake_frame981.jpg', 'All_Images/Train_Fake_frame982.jpg', 'All_Images/Train_Fake_frame983.jpg', 'All_Images/Train_Fake_frame984.jpg', 'All_Images/Train_Fake_frame985.jpg', 'All_Images/Train_Fake_frame986.jpg', 'All_Images/Train_Fake_frame987.jpg', 'All_Images/Train_Fake_frame988.jpg', 'All_Images/Train_Fake_frame989.jpg', 'All_Images/Train_Fake_frame990.jpg', 'All_Images/Train_Fake_frame991.jpg', 'All_Images/Train_Fake_frame992.jpg', 'All_Images/Train_Fake_frame993.jpg', 'All_Images/Train_Fake_frame994.jpg', 'All_Images/Train_Fake_frame995.jpg', 'All_Images/Train_Fake_frame996.jpg', 'All_Images/Train_Fake_frame997.jpg', 'All_Images/Train_Fake_frame998.jpg', 'All_Images/Train_Fake_frame999.jpg', 'All_Images/Train_Fake_frame1000.jpg', 'All_Images/Train_Fake_frame1001.jpg', 'All_Images/Train_Fake_frame1002.jpg', 'All_Images/Train_Fake_frame1003.jpg', 'All_Images/Train_Fake_frame1004.jpg', 'All_Images/Train_Fake_frame1005.jpg', 'All_Images/Train_Fake_frame1006.jpg', 'All_Images/Train_Fake_frame1007.jpg', 'All_Images/Train_Fake_frame1008.jpg', 'All_Images/Train_Fake_frame1009.jpg', 'All_Images/Train_Fake_frame1010.jpg', 'All_Images/Train_Fake_frame1011.jpg', 'All_Images/Train_Fake_frame1012.jpg', 'All_Images/Train_Fake_frame1013.jpg', 'All_Images/Train_Fake_frame1014.jpg', 'All_Images/Train_Fake_frame1015.jpg', 'All_Images/Train_Fake_frame1016.jpg', 'All_Images/Train_Fake_frame1017.jpg', 'All_Images/Train_Fake_frame1018.jpg', 'All_Images/Train_Fake_frame1019.jpg', 'All_Images/Train_Fake_frame1020.jpg', 'All_Images/Train_Fake_frame1021.jpg', 'All_Images/Train_Fake_frame1022.jpg', 'All_Images/Train_Fake_frame1023.jpg', 'All_Images/Train_Fake_frame1024.jpg', 'All_Images/Train_Fake_frame1025.jpg', 'All_Images/Train_Fake_frame1026.jpg', 'All_Images/Train_Fake_frame1027.jpg', 'All_Images/Train_Fake_frame1028.jpg', 'All_Images/Train_Fake_frame1029.jpg', 'All_Images/Train_Fake_frame1030.jpg', 'All_Images/Train_Fake_frame1031.jpg', 'All_Images/Train_Fake_frame1032.jpg', 'All_Images/Train_Fake_frame1033.jpg', 'All_Images/Train_Fake_frame1034.jpg', 'All_Images/Train_Fake_frame1035.jpg', 'All_Images/Train_Fake_frame1036.jpg', 'All_Images/Train_Fake_frame1037.jpg', 'All_Images/Train_Fake_frame1038.jpg', 'All_Images/Train_Fake_frame1039.jpg', 'All_Images/Train_Fake_frame1040.jpg', 'All_Images/Train_Fake_frame1041.jpg', 'All_Images/Train_Fake_frame1042.jpg', 'All_Images/Train_Fake_frame1043.jpg', 'All_Images/Train_Fake_frame1044.jpg', 'All_Images/Train_Fake_frame1045.jpg', 'All_Images/Train_Fake_frame1046.jpg', 'All_Images/Train_Fake_frame1047.jpg', 'All_Images/Train_Fake_frame1048.jpg', 'All_Images/Train_Fake_frame1049.jpg', 'All_Images/Train_Fake_frame1050.jpg', 'All_Images/Train_Fake_frame1051.jpg', 'All_Images/Train_Fake_frame1052.jpg', 'All_Images/Train_Fake_frame1053.jpg', 'All_Images/Train_Fake_frame1054.jpg', 'All_Images/Train_Fake_frame1055.jpg', 'All_Images/Train_Fake_frame1056.jpg', 'All_Images/Train_Fake_frame1057.jpg', 'All_Images/Train_Fake_frame1058.jpg', 'All_Images/Train_Fake_frame1059.jpg', 'All_Images/Train_Fake_frame1060.jpg', 'All_Images/Train_Fake_frame1061.jpg', 'All_Images/Train_Fake_frame1062.jpg', 'All_Images/Train_Fake_frame1063.jpg', 'All_Images/Train_Fake_frame1064.jpg', 'All_Images/Train_Fake_frame1065.jpg', 'All_Images/Train_Fake_frame1066.jpg', 'All_Images/Train_Fake_frame1067.jpg', 'All_Images/Train_Fake_frame1068.jpg', 'All_Images/Train_Fake_frame1069.jpg', 'All_Images/Train_Fake_frame1070.jpg', 'All_Images/Train_Fake_frame1071.jpg', 'All_Images/Train_Fake_frame1072.jpg', 'All_Images/Train_Fake_frame1073.jpg', 'All_Images/Train_Fake_frame1074.jpg', 'All_Images/Train_Fake_frame1075.jpg', 'All_Images/Train_Fake_frame1076.jpg', 'All_Images/Train_Fake_frame1077.jpg', 'All_Images/Train_Fake_frame1078.jpg', 'All_Images/Train_Fake_frame1079.jpg', 'All_Images/Train_Fake_frame1080.jpg', 'All_Images/Train_Fake_frame1081.jpg', 'All_Images/Train_Fake_frame1082.jpg', 'All_Images/Train_Fake_frame1083.jpg', 'All_Images/Train_Fake_frame1084.jpg', 'All_Images/Train_Fake_frame1085.jpg', 'All_Images/Train_Fake_frame1086.jpg', 'All_Images/Train_Fake_frame1087.jpg', 'All_Images/Train_Fake_frame1088.jpg', 'All_Images/Train_Fake_frame1089.jpg', 'All_Images/Train_Fake_frame1090.jpg', 'All_Images/Train_Fake_frame1091.jpg', 'All_Images/Train_Fake_frame1092.jpg', 'All_Images/Train_Fake_frame1093.jpg', 'All_Images/Train_Fake_frame1094.jpg', 'All_Images/Train_Fake_frame1095.jpg', 'All_Images/Train_Fake_frame1096.jpg', 'All_Images/Train_Fake_frame1097.jpg', 'All_Images/Train_Fake_frame1098.jpg', 'All_Images/Train_Fake_frame1099.jpg', 'All_Images/Train_Fake_frame1100.jpg', 'All_Images/Train_Fake_frame1101.jpg', 'All_Images/Train_Fake_frame1102.jpg', 'All_Images/Train_Fake_frame1103.jpg', 'All_Images/Train_Fake_frame1104.jpg', 'All_Images/Train_Fake_frame1105.jpg', 'All_Images/Train_Fake_frame1106.jpg', 'All_Images/Train_Fake_frame1107.jpg', 'All_Images/Train_Fake_frame1108.jpg', 'All_Images/Train_Fake_frame1109.jpg', 'All_Images/Train_Fake_frame1110.jpg', 'All_Images/Train_Fake_frame1111.jpg', 'All_Images/Train_Fake_frame1112.jpg', 'All_Images/Train_Fake_frame1113.jpg', 'All_Images/Train_Fake_frame1114.jpg', 'All_Images/Train_Fake_frame1115.jpg', 'All_Images/Train_Fake_frame1116.jpg', 'All_Images/Train_Fake_frame1117.jpg', 'All_Images/Train_Fake_frame1118.jpg', 'All_Images/Train_Fake_frame1119.jpg', 'All_Images/Train_Fake_frame1120.jpg', 'All_Images/Train_Fake_frame1121.jpg', 'All_Images/Train_Fake_frame1122.jpg', 'All_Images/Train_Fake_frame1123.jpg', 'All_Images/Train_Fake_frame1124.jpg', 'All_Images/Train_Fake_frame1125.jpg', 'All_Images/Train_Fake_frame1126.jpg', 'All_Images/Train_Fake_frame1127.jpg', 'All_Images/Train_Fake_frame1128.jpg', 'All_Images/Train_Fake_frame1129.jpg', 'All_Images/Train_Fake_frame1130.jpg', 'All_Images/Train_Fake_frame1131.jpg', 'All_Images/Train_Fake_frame1132.jpg', 'All_Images/Train_Fake_frame1133.jpg', 'All_Images/Train_Fake_frame1134.jpg', 'All_Images/Train_Fake_frame1135.jpg', 'All_Images/Train_Fake_frame1136.jpg', 'All_Images/Train_Fake_frame1137.jpg', 'All_Images/Train_Fake_frame1138.jpg', 'All_Images/Train_Fake_frame1139.jpg', 'All_Images/Train_Fake_frame1140.jpg', 'All_Images/Train_Fake_frame1141.jpg', 'All_Images/Train_Fake_frame1142.jpg', 'All_Images/Train_Fake_frame1143.jpg', 'All_Images/Train_Fake_frame1144.jpg', 'All_Images/Train_Fake_frame1145.jpg', 'All_Images/Train_Fake_frame1146.jpg', 'All_Images/Train_Fake_frame1147.jpg', 'All_Images/Train_Fake_frame1148.jpg', 'All_Images/Train_Fake_frame1149.jpg', 'All_Images/Train_Fake_frame1150.jpg', 'All_Images/Train_Fake_frame1151.jpg', 'All_Images/Train_Fake_frame1152.jpg', 'All_Images/Train_Fake_frame1153.jpg', 'All_Images/Train_Fake_frame1154.jpg', 'All_Images/Train_Fake_frame1155.jpg', 'All_Images/Train_Fake_frame1156.jpg', 'All_Images/Train_Fake_frame1157.jpg', 'All_Images/Train_Fake_frame1158.jpg', 'All_Images/Train_Fake_frame1159.jpg', 'All_Images/Train_Fake_frame1160.jpg', 'All_Images/Train_Fake_frame1161.jpg', 'All_Images/Train_Fake_frame1162.jpg', 'All_Images/Train_Fake_frame1163.jpg', 'All_Images/Train_Fake_frame1164.jpg', 'All_Images/Train_Fake_frame1165.jpg', 'All_Images/Train_Fake_frame1166.jpg', 'All_Images/Train_Fake_frame1167.jpg', 'All_Images/Train_Fake_frame1168.jpg', 'All_Images/Train_Fake_frame1169.jpg', 'All_Images/Train_Fake_frame1170.jpg', 'All_Images/Train_Fake_frame1171.jpg', 'All_Images/Train_Fake_frame1172.jpg', 'All_Images/Train_Fake_frame1173.jpg', 'All_Images/Train_Fake_frame1174.jpg', 'All_Images/Train_Fake_frame1175.jpg', 'All_Images/Train_Fake_frame1176.jpg', 'All_Images/Train_Fake_frame1177.jpg', 'All_Images/Train_Fake_frame1178.jpg', 'All_Images/Train_Fake_frame1179.jpg', 'All_Images/Train_Fake_frame1180.jpg', 'All_Images/Train_Fake_frame1181.jpg', 'All_Images/Train_Fake_frame1182.jpg', 'All_Images/Train_Fake_frame1183.jpg', 'All_Images/Train_Fake_frame1184.jpg', 'All_Images/Train_Fake_frame1185.jpg', 'All_Images/Train_Fake_frame1186.jpg', 'All_Images/Train_Fake_frame1187.jpg', 'All_Images/Train_Fake_frame1188.jpg', 'All_Images/Train_Fake_frame1189.jpg', 'All_Images/Train_Fake_frame1190.jpg', 'All_Images/Train_Fake_frame1191.jpg', 'All_Images/Train_Fake_frame1192.jpg', 'All_Images/Train_Fake_frame1193.jpg', 'All_Images/Train_Fake_frame1194.jpg', 'All_Images/Train_Fake_frame1195.jpg', 'All_Images/Train_Fake_frame1196.jpg', 'All_Images/Train_Fake_frame1197.jpg', 'All_Images/Train_Fake_frame1198.jpg', 'All_Images/Train_Fake_frame1199.jpg', 'All_Images/Train_Fake_frame1200.jpg', 'All_Images/Train_Fake_frame1201.jpg', 'All_Images/Train_Fake_frame1202.jpg', 'All_Images/Train_Fake_frame1203.jpg', 'All_Images/Train_Fake_frame1204.jpg', 'All_Images/Train_Fake_frame1205.jpg', 'All_Images/Train_Fake_frame1206.jpg', 'All_Images/Train_Fake_frame1207.jpg', 'All_Images/Train_Fake_frame1208.jpg', 'All_Images/Train_Fake_frame1209.jpg', 'All_Images/Train_Fake_frame1210.jpg', 'All_Images/Train_Fake_frame1211.jpg', 'All_Images/Train_Fake_frame1212.jpg', 'All_Images/Train_Fake_frame1213.jpg', 'All_Images/Train_Fake_frame1214.jpg', 'All_Images/Train_Fake_frame1215.jpg', 'All_Images/Train_Fake_frame1216.jpg', 'All_Images/Train_Fake_frame1217.jpg', 'All_Images/Train_Fake_frame1218.jpg', 'All_Images/Train_Fake_frame1219.jpg', 'All_Images/Train_Fake_frame1220.jpg', 'All_Images/Train_Fake_frame1221.jpg', 'All_Images/Train_Fake_frame1222.jpg', 'All_Images/Train_Fake_frame1223.jpg', 'All_Images/Train_Fake_frame1224.jpg', 'All_Images/Train_Fake_frame1225.jpg', 'All_Images/Train_Fake_frame1226.jpg', 'All_Images/Train_Fake_frame1227.jpg', 'All_Images/Train_Fake_frame1228.jpg', 'All_Images/Train_Fake_frame1229.jpg', 'All_Images/Train_Fake_frame1230.jpg', 'All_Images/Train_Fake_frame1231.jpg', 'All_Images/Train_Fake_frame1232.jpg', 'All_Images/Train_Fake_frame1233.jpg', 'All_Images/Train_Fake_frame1234.jpg', 'All_Images/Train_Fake_frame1235.jpg', 'All_Images/Train_Fake_frame1236.jpg', 'All_Images/Train_Fake_frame1237.jpg', 'All_Images/Train_Fake_frame1238.jpg', 'All_Images/Train_Fake_frame1239.jpg', 'All_Images/Train_Fake_frame1240.jpg', 'All_Images/Train_Fake_frame1241.jpg', 'All_Images/Train_Fake_frame1242.jpg', 'All_Images/Train_Fake_frame1243.jpg', 'All_Images/Train_Fake_frame1244.jpg', 'All_Images/Train_Fake_frame1245.jpg', 'All_Images/Train_Fake_frame1246.jpg', 'All_Images/Train_Fake_frame1247.jpg', 'All_Images/Train_Fake_frame1248.jpg', 'All_Images/Train_Fake_frame1249.jpg', 'All_Images/Train_Fake_frame1250.jpg', 'All_Images/Train_Fake_frame1251.jpg', 'All_Images/Train_Fake_frame1252.jpg', 'All_Images/Train_Fake_frame1253.jpg', 'All_Images/Train_Fake_frame1254.jpg', 'All_Images/Train_Fake_frame1255.jpg', 'All_Images/Train_Fake_frame1256.jpg', 'All_Images/Train_Fake_frame1257.jpg', 'All_Images/Train_Fake_frame1258.jpg', 'All_Images/Train_Fake_frame1259.jpg', 'All_Images/Train_Fake_frame1260.jpg', 'All_Images/Train_Fake_frame1261.jpg', 'All_Images/Train_Fake_frame1262.jpg', 'All_Images/Train_Fake_frame1263.jpg', 'All_Images/Train_Fake_frame1264.jpg', 'All_Images/Train_Fake_frame1265.jpg', 'All_Images/Train_Fake_frame1266.jpg', 'All_Images/Train_Fake_frame1267.jpg', 'All_Images/Train_Fake_frame1268.jpg', 'All_Images/Train_Fake_frame1269.jpg', 'All_Images/Train_Fake_frame1270.jpg', 'All_Images/Train_Fake_frame1271.jpg', 'All_Images/Train_Fake_frame1272.jpg', 'All_Images/Train_Fake_frame1273.jpg', 'All_Images/Train_Fake_frame1274.jpg', 'All_Images/Train_Fake_frame1275.jpg', 'All_Images/Train_Fake_frame1276.jpg', 'All_Images/Train_Fake_frame1277.jpg', 'All_Images/Train_Fake_frame1278.jpg', 'All_Images/Train_Fake_frame1279.jpg', 'All_Images/Train_Fake_frame1280.jpg', 'All_Images/Train_Fake_frame1281.jpg', 'All_Images/Train_Fake_frame1282.jpg', 'All_Images/Train_Fake_frame1283.jpg', 'All_Images/Train_Fake_frame1284.jpg', 'All_Images/Train_Fake_frame1285.jpg', 'All_Images/Train_Fake_frame1286.jpg', 'All_Images/Train_Fake_frame1287.jpg', 'All_Images/Train_Fake_frame1288.jpg', 'All_Images/Train_Fake_frame1289.jpg', 'All_Images/Train_Fake_frame1290.jpg', 'All_Images/Train_Fake_frame1291.jpg', 'All_Images/Train_Fake_frame1292.jpg', 'All_Images/Train_Fake_frame1293.jpg', 'All_Images/Train_Fake_frame1294.jpg', 'All_Images/Train_Fake_frame1295.jpg', 'All_Images/Train_Fake_frame1296.jpg', 'All_Images/Train_Fake_frame1297.jpg', 'All_Images/Train_Fake_frame1298.jpg', 'All_Images/Train_Fake_frame1299.jpg', 'All_Images/Train_Fake_frame1300.jpg', 'All_Images/Train_Fake_frame1301.jpg', 'All_Images/Train_Fake_frame1302.jpg', 'All_Images/Train_Fake_frame1303.jpg', 'All_Images/Train_Fake_frame1304.jpg', 'All_Images/Train_Fake_frame1305.jpg', 'All_Images/Train_Fake_frame1306.jpg', 'All_Images/Train_Fake_frame1307.jpg', 'All_Images/Train_Fake_frame1308.jpg', 'All_Images/Train_Fake_frame1309.jpg', 'All_Images/Train_Fake_frame1310.jpg', 'All_Images/Train_Fake_frame1311.jpg', 'All_Images/Train_Fake_frame1312.jpg', 'All_Images/Train_Fake_frame1313.jpg', 'All_Images/Train_Fake_frame1314.jpg', 'All_Images/Train_Fake_frame1315.jpg', 'All_Images/Train_Fake_frame1316.jpg', 'All_Images/Train_Fake_frame1317.jpg', 'All_Images/Train_Fake_frame1318.jpg', 'All_Images/Train_Fake_frame1319.jpg', 'All_Images/Train_Fake_frame1320.jpg', 'All_Images/Train_Fake_frame1321.jpg', 'All_Images/Train_Fake_frame1322.jpg', 'All_Images/Train_Fake_frame1323.jpg', 'All_Images/Train_Fake_frame1324.jpg', 'All_Images/Train_Fake_frame1325.jpg', 'All_Images/Train_Fake_frame1326.jpg', 'All_Images/Train_Fake_frame1327.jpg', 'All_Images/Train_Fake_frame1328.jpg', 'All_Images/Train_Fake_frame1329.jpg', 'All_Images/Train_Fake_frame1330.jpg', 'All_Images/Train_Fake_frame1331.jpg', 'All_Images/Train_Fake_frame1332.jpg', 'All_Images/Train_Fake_frame1333.jpg', 'All_Images/Train_Fake_frame1334.jpg', 'All_Images/Train_Fake_frame1335.jpg', 'All_Images/Train_Fake_frame1336.jpg', 'All_Images/Train_Fake_frame1337.jpg', 'All_Images/Train_Fake_frame1338.jpg', 'All_Images/Train_Fake_frame1339.jpg', 'All_Images/Train_Fake_frame1340.jpg', 'All_Images/Train_Fake_frame1341.jpg', 'All_Images/Train_Fake_frame1342.jpg', 'All_Images/Train_Fake_frame1343.jpg', 'All_Images/Train_Fake_frame1344.jpg', 'All_Images/Train_Fake_frame1345.jpg', 'All_Images/Train_Fake_frame1346.jpg', 'All_Images/Train_Fake_frame1347.jpg']\n",
            "['All_Images/Train_Real_frame0.jpg', 'All_Images/Train_Real_frame1.jpg', 'All_Images/Train_Real_frame2.jpg', 'All_Images/Train_Real_frame3.jpg', 'All_Images/Train_Real_frame4.jpg', 'All_Images/Train_Real_frame5.jpg', 'All_Images/Train_Real_frame6.jpg', 'All_Images/Train_Real_frame7.jpg', 'All_Images/Train_Real_frame8.jpg', 'All_Images/Train_Real_frame9.jpg', 'All_Images/Train_Real_frame10.jpg', 'All_Images/Train_Real_frame11.jpg', 'All_Images/Train_Real_frame12.jpg', 'All_Images/Train_Real_frame13.jpg', 'All_Images/Train_Real_frame14.jpg', 'All_Images/Train_Real_frame15.jpg', 'All_Images/Train_Real_frame16.jpg', 'All_Images/Train_Real_frame17.jpg', 'All_Images/Train_Real_frame18.jpg', 'All_Images/Train_Real_frame19.jpg', 'All_Images/Train_Real_frame20.jpg', 'All_Images/Train_Real_frame21.jpg', 'All_Images/Train_Real_frame22.jpg', 'All_Images/Train_Real_frame23.jpg', 'All_Images/Train_Real_frame24.jpg', 'All_Images/Train_Real_frame25.jpg', 'All_Images/Train_Real_frame26.jpg', 'All_Images/Train_Real_frame27.jpg', 'All_Images/Train_Real_frame28.jpg', 'All_Images/Train_Real_frame29.jpg', 'All_Images/Train_Real_frame30.jpg', 'All_Images/Train_Real_frame31.jpg', 'All_Images/Train_Real_frame32.jpg', 'All_Images/Train_Real_frame33.jpg', 'All_Images/Train_Real_frame34.jpg', 'All_Images/Train_Real_frame35.jpg', 'All_Images/Train_Real_frame36.jpg', 'All_Images/Train_Real_frame37.jpg', 'All_Images/Train_Real_frame38.jpg', 'All_Images/Train_Real_frame39.jpg', 'All_Images/Train_Real_frame40.jpg', 'All_Images/Train_Real_frame41.jpg', 'All_Images/Train_Real_frame42.jpg', 'All_Images/Train_Real_frame43.jpg', 'All_Images/Train_Real_frame44.jpg', 'All_Images/Train_Real_frame45.jpg', 'All_Images/Train_Real_frame46.jpg', 'All_Images/Train_Real_frame47.jpg', 'All_Images/Train_Real_frame48.jpg', 'All_Images/Train_Real_frame49.jpg', 'All_Images/Train_Real_frame50.jpg', 'All_Images/Train_Real_frame51.jpg', 'All_Images/Train_Real_frame52.jpg', 'All_Images/Train_Real_frame53.jpg', 'All_Images/Train_Real_frame54.jpg', 'All_Images/Train_Real_frame55.jpg', 'All_Images/Train_Real_frame56.jpg', 'All_Images/Train_Real_frame57.jpg', 'All_Images/Train_Real_frame58.jpg', 'All_Images/Train_Real_frame59.jpg', 'All_Images/Train_Real_frame60.jpg', 'All_Images/Train_Real_frame61.jpg', 'All_Images/Train_Real_frame62.jpg', 'All_Images/Train_Real_frame63.jpg', 'All_Images/Train_Real_frame64.jpg', 'All_Images/Train_Real_frame65.jpg', 'All_Images/Train_Real_frame66.jpg', 'All_Images/Train_Real_frame67.jpg', 'All_Images/Train_Real_frame68.jpg', 'All_Images/Train_Real_frame69.jpg', 'All_Images/Train_Real_frame70.jpg', 'All_Images/Train_Real_frame71.jpg', 'All_Images/Train_Real_frame72.jpg', 'All_Images/Train_Real_frame73.jpg', 'All_Images/Train_Real_frame74.jpg', 'All_Images/Train_Real_frame75.jpg', 'All_Images/Train_Real_frame76.jpg', 'All_Images/Train_Real_frame77.jpg', 'All_Images/Train_Real_frame78.jpg', 'All_Images/Train_Real_frame79.jpg', 'All_Images/Train_Real_frame80.jpg', 'All_Images/Train_Real_frame81.jpg', 'All_Images/Train_Real_frame82.jpg', 'All_Images/Train_Real_frame83.jpg', 'All_Images/Train_Real_frame84.jpg', 'All_Images/Train_Real_frame85.jpg', 'All_Images/Train_Real_frame86.jpg', 'All_Images/Train_Real_frame87.jpg', 'All_Images/Train_Real_frame88.jpg', 'All_Images/Train_Real_frame89.jpg', 'All_Images/Train_Real_frame90.jpg', 'All_Images/Train_Real_frame91.jpg', 'All_Images/Train_Real_frame92.jpg', 'All_Images/Train_Real_frame93.jpg', 'All_Images/Train_Real_frame94.jpg', 'All_Images/Train_Real_frame95.jpg', 'All_Images/Train_Real_frame96.jpg', 'All_Images/Train_Real_frame97.jpg', 'All_Images/Train_Real_frame98.jpg', 'All_Images/Train_Real_frame99.jpg', 'All_Images/Train_Real_frame100.jpg', 'All_Images/Train_Real_frame101.jpg', 'All_Images/Train_Real_frame102.jpg', 'All_Images/Train_Real_frame103.jpg', 'All_Images/Train_Real_frame104.jpg', 'All_Images/Train_Real_frame105.jpg', 'All_Images/Train_Real_frame106.jpg', 'All_Images/Train_Real_frame107.jpg', 'All_Images/Train_Real_frame108.jpg', 'All_Images/Train_Real_frame109.jpg', 'All_Images/Train_Real_frame110.jpg', 'All_Images/Train_Real_frame111.jpg', 'All_Images/Train_Real_frame112.jpg', 'All_Images/Train_Real_frame113.jpg', 'All_Images/Train_Real_frame114.jpg', 'All_Images/Train_Real_frame115.jpg', 'All_Images/Train_Real_frame116.jpg', 'All_Images/Train_Real_frame117.jpg', 'All_Images/Train_Real_frame118.jpg', 'All_Images/Train_Real_frame119.jpg', 'All_Images/Train_Real_frame120.jpg', 'All_Images/Train_Real_frame121.jpg', 'All_Images/Train_Real_frame122.jpg', 'All_Images/Train_Real_frame123.jpg', 'All_Images/Train_Real_frame124.jpg', 'All_Images/Train_Real_frame125.jpg', 'All_Images/Train_Real_frame126.jpg', 'All_Images/Train_Real_frame127.jpg', 'All_Images/Train_Real_frame128.jpg', 'All_Images/Train_Real_frame129.jpg', 'All_Images/Train_Real_frame130.jpg', 'All_Images/Train_Real_frame131.jpg', 'All_Images/Train_Real_frame132.jpg', 'All_Images/Train_Real_frame133.jpg', 'All_Images/Train_Real_frame134.jpg', 'All_Images/Train_Real_frame135.jpg', 'All_Images/Train_Real_frame136.jpg', 'All_Images/Train_Real_frame137.jpg', 'All_Images/Train_Real_frame138.jpg', 'All_Images/Train_Real_frame139.jpg', 'All_Images/Train_Real_frame140.jpg', 'All_Images/Train_Real_frame141.jpg', 'All_Images/Train_Real_frame142.jpg', 'All_Images/Train_Real_frame143.jpg', 'All_Images/Train_Real_frame144.jpg', 'All_Images/Train_Real_frame145.jpg', 'All_Images/Train_Real_frame146.jpg', 'All_Images/Train_Real_frame147.jpg', 'All_Images/Train_Real_frame148.jpg', 'All_Images/Train_Real_frame149.jpg', 'All_Images/Train_Real_frame150.jpg', 'All_Images/Train_Real_frame151.jpg', 'All_Images/Train_Real_frame152.jpg', 'All_Images/Train_Real_frame153.jpg', 'All_Images/Train_Real_frame154.jpg', 'All_Images/Train_Real_frame155.jpg', 'All_Images/Train_Real_frame156.jpg', 'All_Images/Train_Real_frame157.jpg', 'All_Images/Train_Real_frame158.jpg', 'All_Images/Train_Real_frame159.jpg', 'All_Images/Train_Real_frame160.jpg', 'All_Images/Train_Real_frame161.jpg', 'All_Images/Train_Real_frame162.jpg', 'All_Images/Train_Real_frame163.jpg', 'All_Images/Train_Real_frame164.jpg', 'All_Images/Train_Real_frame165.jpg', 'All_Images/Train_Real_frame166.jpg', 'All_Images/Train_Real_frame167.jpg', 'All_Images/Train_Real_frame168.jpg', 'All_Images/Train_Real_frame169.jpg', 'All_Images/Train_Real_frame170.jpg', 'All_Images/Train_Real_frame171.jpg', 'All_Images/Train_Real_frame172.jpg', 'All_Images/Train_Real_frame173.jpg', 'All_Images/Train_Real_frame174.jpg', 'All_Images/Train_Real_frame175.jpg', 'All_Images/Train_Real_frame176.jpg', 'All_Images/Train_Real_frame177.jpg', 'All_Images/Train_Real_frame178.jpg', 'All_Images/Train_Real_frame179.jpg', 'All_Images/Train_Real_frame180.jpg', 'All_Images/Train_Real_frame181.jpg', 'All_Images/Train_Real_frame182.jpg', 'All_Images/Train_Real_frame183.jpg', 'All_Images/Train_Real_frame184.jpg', 'All_Images/Train_Real_frame185.jpg', 'All_Images/Train_Real_frame186.jpg', 'All_Images/Train_Real_frame187.jpg', 'All_Images/Train_Real_frame188.jpg', 'All_Images/Train_Real_frame189.jpg', 'All_Images/Train_Real_frame190.jpg', 'All_Images/Train_Real_frame191.jpg', 'All_Images/Train_Real_frame192.jpg', 'All_Images/Train_Real_frame193.jpg', 'All_Images/Train_Real_frame194.jpg', 'All_Images/Train_Real_frame195.jpg', 'All_Images/Train_Real_frame196.jpg', 'All_Images/Train_Real_frame197.jpg', 'All_Images/Train_Real_frame198.jpg', 'All_Images/Train_Real_frame199.jpg', 'All_Images/Train_Real_frame200.jpg', 'All_Images/Train_Real_frame201.jpg', 'All_Images/Train_Real_frame202.jpg', 'All_Images/Train_Real_frame203.jpg', 'All_Images/Train_Real_frame204.jpg', 'All_Images/Train_Real_frame205.jpg', 'All_Images/Train_Real_frame206.jpg', 'All_Images/Train_Real_frame207.jpg', 'All_Images/Train_Real_frame208.jpg', 'All_Images/Train_Real_frame209.jpg', 'All_Images/Train_Real_frame210.jpg', 'All_Images/Train_Real_frame211.jpg', 'All_Images/Train_Real_frame212.jpg', 'All_Images/Train_Real_frame213.jpg', 'All_Images/Train_Real_frame214.jpg', 'All_Images/Train_Real_frame215.jpg', 'All_Images/Train_Real_frame216.jpg', 'All_Images/Train_Real_frame217.jpg', 'All_Images/Train_Real_frame218.jpg', 'All_Images/Train_Real_frame219.jpg', 'All_Images/Train_Real_frame220.jpg', 'All_Images/Train_Real_frame221.jpg', 'All_Images/Train_Real_frame222.jpg', 'All_Images/Train_Real_frame223.jpg', 'All_Images/Train_Real_frame224.jpg', 'All_Images/Train_Real_frame225.jpg', 'All_Images/Train_Real_frame226.jpg', 'All_Images/Train_Real_frame227.jpg', 'All_Images/Train_Real_frame228.jpg', 'All_Images/Train_Real_frame229.jpg', 'All_Images/Train_Real_frame230.jpg', 'All_Images/Train_Real_frame231.jpg', 'All_Images/Train_Real_frame232.jpg', 'All_Images/Train_Real_frame233.jpg', 'All_Images/Train_Real_frame234.jpg', 'All_Images/Train_Real_frame235.jpg', 'All_Images/Train_Real_frame236.jpg', 'All_Images/Train_Real_frame237.jpg', 'All_Images/Train_Real_frame238.jpg', 'All_Images/Train_Real_frame239.jpg', 'All_Images/Train_Real_frame240.jpg', 'All_Images/Train_Real_frame241.jpg', 'All_Images/Train_Real_frame242.jpg', 'All_Images/Train_Real_frame243.jpg', 'All_Images/Train_Real_frame244.jpg', 'All_Images/Train_Real_frame245.jpg', 'All_Images/Train_Real_frame246.jpg', 'All_Images/Train_Real_frame247.jpg', 'All_Images/Train_Real_frame248.jpg', 'All_Images/Train_Real_frame249.jpg', 'All_Images/Train_Real_frame250.jpg', 'All_Images/Train_Real_frame251.jpg', 'All_Images/Train_Real_frame252.jpg', 'All_Images/Train_Real_frame253.jpg', 'All_Images/Train_Real_frame254.jpg', 'All_Images/Train_Real_frame255.jpg', 'All_Images/Train_Real_frame256.jpg', 'All_Images/Train_Real_frame257.jpg', 'All_Images/Train_Real_frame258.jpg', 'All_Images/Train_Real_frame259.jpg', 'All_Images/Train_Real_frame260.jpg', 'All_Images/Train_Real_frame261.jpg', 'All_Images/Train_Real_frame262.jpg', 'All_Images/Train_Real_frame263.jpg', 'All_Images/Train_Real_frame264.jpg', 'All_Images/Train_Real_frame265.jpg', 'All_Images/Train_Real_frame266.jpg', 'All_Images/Train_Real_frame267.jpg', 'All_Images/Train_Real_frame268.jpg', 'All_Images/Train_Real_frame269.jpg', 'All_Images/Train_Real_frame270.jpg', 'All_Images/Train_Real_frame271.jpg', 'All_Images/Train_Real_frame272.jpg', 'All_Images/Train_Real_frame273.jpg', 'All_Images/Train_Real_frame274.jpg', 'All_Images/Train_Real_frame275.jpg', 'All_Images/Train_Real_frame276.jpg', 'All_Images/Train_Real_frame277.jpg', 'All_Images/Train_Real_frame278.jpg', 'All_Images/Train_Real_frame279.jpg', 'All_Images/Train_Real_frame280.jpg', 'All_Images/Train_Real_frame281.jpg', 'All_Images/Train_Real_frame282.jpg', 'All_Images/Train_Real_frame283.jpg', 'All_Images/Train_Real_frame284.jpg', 'All_Images/Train_Real_frame285.jpg', 'All_Images/Train_Real_frame286.jpg', 'All_Images/Train_Real_frame287.jpg', 'All_Images/Train_Real_frame288.jpg', 'All_Images/Train_Real_frame289.jpg', 'All_Images/Train_Real_frame290.jpg', 'All_Images/Train_Real_frame291.jpg', 'All_Images/Train_Real_frame292.jpg', 'All_Images/Train_Real_frame293.jpg', 'All_Images/Train_Real_frame294.jpg', 'All_Images/Train_Real_frame295.jpg', 'All_Images/Train_Real_frame296.jpg', 'All_Images/Train_Real_frame297.jpg', 'All_Images/Train_Real_frame298.jpg', 'All_Images/Train_Real_frame299.jpg', 'All_Images/Train_Real_frame300.jpg', 'All_Images/Train_Real_frame301.jpg', 'All_Images/Train_Real_frame302.jpg', 'All_Images/Train_Real_frame303.jpg', 'All_Images/Train_Real_frame304.jpg', 'All_Images/Train_Real_frame305.jpg', 'All_Images/Train_Real_frame306.jpg', 'All_Images/Train_Real_frame307.jpg', 'All_Images/Train_Real_frame308.jpg', 'All_Images/Train_Real_frame309.jpg', 'All_Images/Train_Real_frame310.jpg', 'All_Images/Train_Real_frame311.jpg', 'All_Images/Train_Real_frame312.jpg', 'All_Images/Train_Real_frame313.jpg', 'All_Images/Train_Real_frame314.jpg', 'All_Images/Train_Real_frame315.jpg', 'All_Images/Train_Real_frame316.jpg', 'All_Images/Train_Real_frame317.jpg', 'All_Images/Train_Real_frame318.jpg', 'All_Images/Train_Real_frame319.jpg', 'All_Images/Train_Real_frame320.jpg', 'All_Images/Train_Real_frame321.jpg', 'All_Images/Train_Real_frame322.jpg', 'All_Images/Train_Real_frame323.jpg', 'All_Images/Train_Real_frame324.jpg', 'All_Images/Train_Real_frame325.jpg', 'All_Images/Train_Real_frame326.jpg', 'All_Images/Train_Real_frame327.jpg', 'All_Images/Train_Real_frame328.jpg', 'All_Images/Train_Real_frame329.jpg', 'All_Images/Train_Real_frame330.jpg', 'All_Images/Train_Real_frame331.jpg', 'All_Images/Train_Real_frame332.jpg', 'All_Images/Train_Real_frame333.jpg', 'All_Images/Train_Real_frame334.jpg', 'All_Images/Train_Real_frame335.jpg', 'All_Images/Train_Real_frame336.jpg', 'All_Images/Train_Real_frame337.jpg', 'All_Images/Train_Real_frame338.jpg', 'All_Images/Train_Real_frame339.jpg', 'All_Images/Train_Real_frame340.jpg', 'All_Images/Train_Real_frame341.jpg', 'All_Images/Train_Real_frame342.jpg', 'All_Images/Train_Real_frame343.jpg', 'All_Images/Train_Real_frame344.jpg', 'All_Images/Train_Real_frame345.jpg', 'All_Images/Train_Real_frame346.jpg', 'All_Images/Train_Real_frame347.jpg', 'All_Images/Train_Real_frame348.jpg', 'All_Images/Train_Real_frame349.jpg', 'All_Images/Train_Real_frame350.jpg', 'All_Images/Train_Real_frame351.jpg', 'All_Images/Train_Real_frame352.jpg', 'All_Images/Train_Real_frame353.jpg', 'All_Images/Train_Real_frame354.jpg', 'All_Images/Train_Real_frame355.jpg', 'All_Images/Train_Real_frame356.jpg', 'All_Images/Train_Real_frame357.jpg', 'All_Images/Train_Real_frame358.jpg', 'All_Images/Train_Real_frame359.jpg', 'All_Images/Train_Real_frame360.jpg', 'All_Images/Train_Real_frame361.jpg', 'All_Images/Train_Real_frame362.jpg', 'All_Images/Train_Real_frame363.jpg', 'All_Images/Train_Real_frame364.jpg', 'All_Images/Train_Real_frame365.jpg', 'All_Images/Train_Real_frame366.jpg', 'All_Images/Train_Real_frame367.jpg', 'All_Images/Train_Real_frame368.jpg', 'All_Images/Train_Real_frame369.jpg', 'All_Images/Train_Real_frame370.jpg', 'All_Images/Train_Real_frame371.jpg', 'All_Images/Train_Real_frame372.jpg', 'All_Images/Train_Real_frame373.jpg', 'All_Images/Train_Real_frame374.jpg', 'All_Images/Train_Real_frame375.jpg', 'All_Images/Train_Real_frame376.jpg', 'All_Images/Train_Real_frame377.jpg', 'All_Images/Train_Real_frame378.jpg', 'All_Images/Train_Real_frame379.jpg', 'All_Images/Train_Real_frame380.jpg', 'All_Images/Train_Real_frame381.jpg', 'All_Images/Train_Real_frame382.jpg', 'All_Images/Train_Real_frame383.jpg', 'All_Images/Train_Real_frame384.jpg', 'All_Images/Train_Real_frame385.jpg', 'All_Images/Train_Real_frame386.jpg', 'All_Images/Train_Real_frame387.jpg', 'All_Images/Train_Real_frame388.jpg', 'All_Images/Train_Real_frame389.jpg', 'All_Images/Train_Real_frame390.jpg', 'All_Images/Train_Real_frame391.jpg', 'All_Images/Train_Real_frame392.jpg', 'All_Images/Train_Real_frame393.jpg', 'All_Images/Train_Real_frame394.jpg', 'All_Images/Train_Real_frame395.jpg', 'All_Images/Train_Real_frame396.jpg', 'All_Images/Train_Real_frame397.jpg', 'All_Images/Train_Real_frame398.jpg', 'All_Images/Train_Real_frame399.jpg', 'All_Images/Train_Real_frame400.jpg', 'All_Images/Train_Real_frame401.jpg', 'All_Images/Train_Real_frame402.jpg', 'All_Images/Train_Real_frame403.jpg', 'All_Images/Train_Real_frame404.jpg', 'All_Images/Train_Real_frame405.jpg', 'All_Images/Train_Real_frame406.jpg', 'All_Images/Train_Real_frame407.jpg', 'All_Images/Train_Real_frame408.jpg', 'All_Images/Train_Real_frame409.jpg', 'All_Images/Train_Real_frame410.jpg', 'All_Images/Train_Real_frame411.jpg', 'All_Images/Train_Real_frame412.jpg', 'All_Images/Train_Real_frame413.jpg', 'All_Images/Train_Real_frame414.jpg', 'All_Images/Train_Real_frame415.jpg', 'All_Images/Train_Real_frame416.jpg', 'All_Images/Train_Real_frame417.jpg', 'All_Images/Train_Real_frame418.jpg', 'All_Images/Train_Real_frame419.jpg', 'All_Images/Train_Real_frame420.jpg', 'All_Images/Train_Real_frame421.jpg', 'All_Images/Train_Real_frame422.jpg', 'All_Images/Train_Real_frame423.jpg', 'All_Images/Train_Real_frame424.jpg', 'All_Images/Train_Real_frame425.jpg', 'All_Images/Train_Real_frame426.jpg', 'All_Images/Train_Real_frame427.jpg', 'All_Images/Train_Real_frame428.jpg', 'All_Images/Train_Real_frame429.jpg', 'All_Images/Train_Real_frame430.jpg', 'All_Images/Train_Real_frame431.jpg', 'All_Images/Train_Real_frame432.jpg', 'All_Images/Train_Real_frame433.jpg', 'All_Images/Train_Real_frame434.jpg', 'All_Images/Train_Real_frame435.jpg', 'All_Images/Train_Real_frame436.jpg', 'All_Images/Train_Real_frame437.jpg', 'All_Images/Train_Real_frame438.jpg', 'All_Images/Train_Real_frame439.jpg', 'All_Images/Train_Real_frame440.jpg', 'All_Images/Train_Real_frame441.jpg', 'All_Images/Train_Real_frame442.jpg', 'All_Images/Train_Real_frame443.jpg', 'All_Images/Train_Real_frame444.jpg', 'All_Images/Train_Real_frame445.jpg', 'All_Images/Train_Real_frame446.jpg', 'All_Images/Train_Real_frame447.jpg', 'All_Images/Train_Real_frame448.jpg', 'All_Images/Train_Real_frame449.jpg', 'All_Images/Train_Real_frame450.jpg', 'All_Images/Train_Real_frame451.jpg', 'All_Images/Train_Real_frame452.jpg', 'All_Images/Train_Real_frame453.jpg', 'All_Images/Train_Real_frame454.jpg', 'All_Images/Train_Real_frame455.jpg', 'All_Images/Train_Real_frame456.jpg', 'All_Images/Train_Real_frame457.jpg', 'All_Images/Train_Real_frame458.jpg', 'All_Images/Train_Real_frame459.jpg', 'All_Images/Train_Real_frame460.jpg', 'All_Images/Train_Real_frame461.jpg', 'All_Images/Train_Real_frame462.jpg', 'All_Images/Train_Real_frame463.jpg', 'All_Images/Train_Real_frame464.jpg', 'All_Images/Train_Real_frame465.jpg', 'All_Images/Train_Real_frame466.jpg', 'All_Images/Train_Real_frame467.jpg', 'All_Images/Train_Real_frame468.jpg', 'All_Images/Train_Real_frame469.jpg', 'All_Images/Train_Real_frame470.jpg', 'All_Images/Train_Real_frame471.jpg', 'All_Images/Train_Real_frame472.jpg', 'All_Images/Train_Real_frame473.jpg', 'All_Images/Train_Real_frame474.jpg', 'All_Images/Train_Real_frame475.jpg', 'All_Images/Train_Real_frame476.jpg', 'All_Images/Train_Real_frame477.jpg', 'All_Images/Train_Real_frame478.jpg', 'All_Images/Train_Real_frame479.jpg', 'All_Images/Train_Real_frame480.jpg', 'All_Images/Train_Real_frame481.jpg', 'All_Images/Train_Real_frame482.jpg', 'All_Images/Train_Real_frame483.jpg', 'All_Images/Train_Real_frame484.jpg', 'All_Images/Train_Real_frame485.jpg', 'All_Images/Train_Real_frame486.jpg', 'All_Images/Train_Real_frame487.jpg', 'All_Images/Train_Real_frame488.jpg', 'All_Images/Train_Real_frame489.jpg', 'All_Images/Train_Real_frame490.jpg', 'All_Images/Train_Real_frame491.jpg', 'All_Images/Train_Real_frame492.jpg', 'All_Images/Train_Real_frame493.jpg', 'All_Images/Train_Real_frame494.jpg', 'All_Images/Train_Real_frame495.jpg', 'All_Images/Train_Real_frame496.jpg', 'All_Images/Train_Real_frame497.jpg', 'All_Images/Train_Real_frame498.jpg', 'All_Images/Train_Real_frame499.jpg', 'All_Images/Train_Real_frame500.jpg', 'All_Images/Train_Real_frame501.jpg', 'All_Images/Train_Real_frame502.jpg', 'All_Images/Train_Real_frame503.jpg', 'All_Images/Train_Real_frame504.jpg', 'All_Images/Train_Real_frame505.jpg', 'All_Images/Train_Real_frame506.jpg', 'All_Images/Train_Real_frame507.jpg', 'All_Images/Train_Real_frame508.jpg', 'All_Images/Train_Real_frame509.jpg', 'All_Images/Train_Real_frame510.jpg', 'All_Images/Train_Real_frame511.jpg', 'All_Images/Train_Real_frame512.jpg', 'All_Images/Train_Real_frame513.jpg', 'All_Images/Train_Real_frame514.jpg', 'All_Images/Train_Real_frame515.jpg', 'All_Images/Train_Real_frame516.jpg', 'All_Images/Train_Real_frame517.jpg', 'All_Images/Train_Real_frame518.jpg', 'All_Images/Train_Real_frame519.jpg', 'All_Images/Train_Real_frame520.jpg', 'All_Images/Train_Real_frame521.jpg', 'All_Images/Train_Real_frame522.jpg', 'All_Images/Train_Real_frame523.jpg', 'All_Images/Train_Real_frame524.jpg', 'All_Images/Train_Real_frame525.jpg', 'All_Images/Train_Real_frame526.jpg', 'All_Images/Train_Real_frame527.jpg', 'All_Images/Train_Real_frame528.jpg', 'All_Images/Train_Real_frame529.jpg', 'All_Images/Train_Real_frame530.jpg', 'All_Images/Train_Real_frame531.jpg', 'All_Images/Train_Real_frame532.jpg', 'All_Images/Train_Real_frame533.jpg', 'All_Images/Train_Real_frame534.jpg', 'All_Images/Train_Real_frame535.jpg', 'All_Images/Train_Real_frame536.jpg', 'All_Images/Train_Real_frame537.jpg', 'All_Images/Train_Real_frame538.jpg', 'All_Images/Train_Real_frame539.jpg', 'All_Images/Train_Real_frame540.jpg', 'All_Images/Train_Real_frame541.jpg', 'All_Images/Train_Real_frame542.jpg', 'All_Images/Train_Real_frame543.jpg', 'All_Images/Train_Real_frame544.jpg', 'All_Images/Train_Real_frame545.jpg', 'All_Images/Train_Real_frame546.jpg', 'All_Images/Train_Real_frame547.jpg', 'All_Images/Train_Real_frame548.jpg', 'All_Images/Train_Real_frame549.jpg', 'All_Images/Train_Real_frame550.jpg', 'All_Images/Train_Real_frame551.jpg', 'All_Images/Train_Real_frame552.jpg', 'All_Images/Train_Real_frame553.jpg', 'All_Images/Train_Real_frame554.jpg', 'All_Images/Train_Real_frame555.jpg', 'All_Images/Train_Real_frame556.jpg', 'All_Images/Train_Real_frame557.jpg', 'All_Images/Train_Real_frame558.jpg', 'All_Images/Train_Real_frame559.jpg', 'All_Images/Train_Real_frame560.jpg', 'All_Images/Train_Real_frame561.jpg', 'All_Images/Train_Real_frame562.jpg', 'All_Images/Train_Real_frame563.jpg', 'All_Images/Train_Real_frame564.jpg', 'All_Images/Train_Real_frame565.jpg', 'All_Images/Train_Real_frame566.jpg', 'All_Images/Train_Real_frame567.jpg', 'All_Images/Train_Real_frame568.jpg', 'All_Images/Train_Real_frame569.jpg', 'All_Images/Train_Real_frame570.jpg', 'All_Images/Train_Real_frame571.jpg', 'All_Images/Train_Real_frame572.jpg', 'All_Images/Train_Real_frame573.jpg', 'All_Images/Train_Real_frame574.jpg', 'All_Images/Train_Real_frame575.jpg', 'All_Images/Train_Real_frame576.jpg', 'All_Images/Train_Real_frame577.jpg', 'All_Images/Train_Real_frame578.jpg', 'All_Images/Train_Real_frame579.jpg', 'All_Images/Train_Real_frame580.jpg', 'All_Images/Train_Real_frame581.jpg', 'All_Images/Train_Real_frame582.jpg', 'All_Images/Train_Real_frame583.jpg', 'All_Images/Train_Real_frame584.jpg', 'All_Images/Train_Real_frame585.jpg', 'All_Images/Train_Real_frame586.jpg', 'All_Images/Train_Real_frame587.jpg', 'All_Images/Train_Real_frame588.jpg', 'All_Images/Train_Real_frame589.jpg', 'All_Images/Train_Real_frame590.jpg', 'All_Images/Train_Real_frame591.jpg', 'All_Images/Train_Real_frame592.jpg', 'All_Images/Train_Real_frame593.jpg', 'All_Images/Train_Real_frame594.jpg', 'All_Images/Train_Real_frame595.jpg', 'All_Images/Train_Real_frame596.jpg', 'All_Images/Train_Real_frame597.jpg', 'All_Images/Train_Real_frame598.jpg', 'All_Images/Train_Real_frame599.jpg', 'All_Images/Train_Real_frame600.jpg', 'All_Images/Train_Real_frame601.jpg', 'All_Images/Train_Real_frame602.jpg', 'All_Images/Train_Real_frame603.jpg', 'All_Images/Train_Real_frame604.jpg', 'All_Images/Train_Real_frame605.jpg', 'All_Images/Train_Real_frame606.jpg', 'All_Images/Train_Real_frame607.jpg', 'All_Images/Train_Real_frame608.jpg', 'All_Images/Train_Real_frame609.jpg', 'All_Images/Train_Real_frame610.jpg', 'All_Images/Train_Real_frame611.jpg', 'All_Images/Train_Real_frame612.jpg', 'All_Images/Train_Real_frame613.jpg', 'All_Images/Train_Real_frame614.jpg', 'All_Images/Train_Real_frame615.jpg', 'All_Images/Train_Real_frame616.jpg', 'All_Images/Train_Real_frame617.jpg', 'All_Images/Train_Real_frame618.jpg', 'All_Images/Train_Real_frame619.jpg', 'All_Images/Train_Real_frame620.jpg', 'All_Images/Train_Real_frame621.jpg', 'All_Images/Train_Real_frame622.jpg', 'All_Images/Train_Real_frame623.jpg', 'All_Images/Train_Real_frame624.jpg', 'All_Images/Train_Real_frame625.jpg', 'All_Images/Train_Real_frame626.jpg', 'All_Images/Train_Real_frame627.jpg', 'All_Images/Train_Real_frame628.jpg', 'All_Images/Train_Real_frame629.jpg', 'All_Images/Train_Real_frame630.jpg', 'All_Images/Train_Real_frame631.jpg', 'All_Images/Train_Real_frame632.jpg', 'All_Images/Train_Real_frame633.jpg', 'All_Images/Train_Real_frame634.jpg', 'All_Images/Train_Real_frame635.jpg', 'All_Images/Train_Real_frame636.jpg', 'All_Images/Train_Real_frame637.jpg', 'All_Images/Train_Real_frame638.jpg', 'All_Images/Train_Real_frame639.jpg', 'All_Images/Train_Real_frame640.jpg', 'All_Images/Train_Real_frame641.jpg', 'All_Images/Train_Real_frame642.jpg', 'All_Images/Train_Real_frame643.jpg', 'All_Images/Train_Real_frame644.jpg', 'All_Images/Train_Real_frame645.jpg', 'All_Images/Train_Real_frame646.jpg', 'All_Images/Train_Real_frame647.jpg', 'All_Images/Train_Real_frame648.jpg', 'All_Images/Train_Real_frame649.jpg', 'All_Images/Train_Real_frame650.jpg', 'All_Images/Train_Real_frame651.jpg', 'All_Images/Train_Real_frame652.jpg', 'All_Images/Train_Real_frame653.jpg', 'All_Images/Train_Real_frame654.jpg', 'All_Images/Train_Real_frame655.jpg', 'All_Images/Train_Real_frame656.jpg', 'All_Images/Train_Real_frame657.jpg', 'All_Images/Train_Real_frame658.jpg', 'All_Images/Train_Real_frame659.jpg', 'All_Images/Train_Real_frame660.jpg', 'All_Images/Train_Real_frame661.jpg', 'All_Images/Train_Real_frame662.jpg', 'All_Images/Train_Real_frame663.jpg', 'All_Images/Train_Real_frame664.jpg', 'All_Images/Train_Real_frame665.jpg', 'All_Images/Train_Real_frame666.jpg', 'All_Images/Train_Real_frame667.jpg', 'All_Images/Train_Real_frame668.jpg', 'All_Images/Train_Real_frame669.jpg', 'All_Images/Train_Real_frame670.jpg', 'All_Images/Train_Real_frame671.jpg', 'All_Images/Train_Real_frame672.jpg', 'All_Images/Train_Real_frame673.jpg', 'All_Images/Train_Real_frame674.jpg', 'All_Images/Train_Real_frame675.jpg', 'All_Images/Train_Real_frame676.jpg', 'All_Images/Train_Real_frame677.jpg', 'All_Images/Train_Real_frame678.jpg', 'All_Images/Train_Real_frame679.jpg', 'All_Images/Train_Real_frame680.jpg', 'All_Images/Train_Real_frame681.jpg', 'All_Images/Train_Real_frame682.jpg', 'All_Images/Train_Real_frame683.jpg', 'All_Images/Train_Real_frame684.jpg', 'All_Images/Train_Real_frame685.jpg', 'All_Images/Train_Real_frame686.jpg', 'All_Images/Train_Real_frame687.jpg', 'All_Images/Train_Real_frame688.jpg', 'All_Images/Train_Real_frame689.jpg', 'All_Images/Train_Real_frame690.jpg', 'All_Images/Train_Real_frame691.jpg', 'All_Images/Train_Real_frame692.jpg', 'All_Images/Train_Real_frame693.jpg', 'All_Images/Train_Real_frame694.jpg', 'All_Images/Train_Real_frame695.jpg', 'All_Images/Train_Real_frame696.jpg', 'All_Images/Train_Real_frame697.jpg', 'All_Images/Train_Real_frame698.jpg', 'All_Images/Train_Real_frame699.jpg', 'All_Images/Train_Real_frame700.jpg', 'All_Images/Train_Real_frame701.jpg', 'All_Images/Train_Real_frame702.jpg', 'All_Images/Train_Real_frame703.jpg', 'All_Images/Train_Real_frame704.jpg', 'All_Images/Train_Real_frame705.jpg', 'All_Images/Train_Real_frame706.jpg', 'All_Images/Train_Real_frame707.jpg', 'All_Images/Train_Real_frame708.jpg', 'All_Images/Train_Real_frame709.jpg', 'All_Images/Train_Real_frame710.jpg', 'All_Images/Train_Real_frame711.jpg', 'All_Images/Train_Real_frame712.jpg', 'All_Images/Train_Real_frame713.jpg', 'All_Images/Train_Real_frame714.jpg', 'All_Images/Train_Real_frame715.jpg', 'All_Images/Train_Real_frame716.jpg', 'All_Images/Train_Real_frame717.jpg', 'All_Images/Train_Real_frame718.jpg', 'All_Images/Train_Real_frame719.jpg', 'All_Images/Train_Real_frame720.jpg', 'All_Images/Train_Real_frame721.jpg', 'All_Images/Train_Real_frame722.jpg', 'All_Images/Train_Real_frame723.jpg', 'All_Images/Train_Real_frame724.jpg', 'All_Images/Train_Real_frame725.jpg', 'All_Images/Train_Real_frame726.jpg', 'All_Images/Train_Real_frame727.jpg', 'All_Images/Train_Real_frame728.jpg', 'All_Images/Train_Real_frame729.jpg', 'All_Images/Train_Real_frame730.jpg', 'All_Images/Train_Real_frame731.jpg', 'All_Images/Train_Real_frame732.jpg', 'All_Images/Train_Real_frame733.jpg', 'All_Images/Train_Real_frame734.jpg', 'All_Images/Train_Real_frame735.jpg', 'All_Images/Train_Real_frame736.jpg', 'All_Images/Train_Real_frame737.jpg', 'All_Images/Train_Real_frame738.jpg', 'All_Images/Train_Real_frame739.jpg', 'All_Images/Train_Real_frame740.jpg', 'All_Images/Train_Real_frame741.jpg', 'All_Images/Train_Real_frame742.jpg', 'All_Images/Train_Real_frame743.jpg', 'All_Images/Train_Real_frame744.jpg', 'All_Images/Train_Real_frame745.jpg', 'All_Images/Train_Real_frame746.jpg', 'All_Images/Train_Real_frame747.jpg', 'All_Images/Train_Real_frame748.jpg', 'All_Images/Train_Real_frame749.jpg', 'All_Images/Train_Real_frame750.jpg', 'All_Images/Train_Real_frame751.jpg', 'All_Images/Train_Real_frame752.jpg', 'All_Images/Train_Real_frame753.jpg', 'All_Images/Train_Real_frame754.jpg', 'All_Images/Train_Real_frame755.jpg', 'All_Images/Train_Real_frame756.jpg', 'All_Images/Train_Real_frame757.jpg', 'All_Images/Train_Real_frame758.jpg', 'All_Images/Train_Real_frame759.jpg', 'All_Images/Train_Real_frame760.jpg', 'All_Images/Train_Real_frame761.jpg', 'All_Images/Train_Real_frame762.jpg', 'All_Images/Train_Real_frame763.jpg', 'All_Images/Train_Real_frame764.jpg', 'All_Images/Train_Real_frame765.jpg', 'All_Images/Train_Real_frame766.jpg', 'All_Images/Train_Real_frame767.jpg', 'All_Images/Train_Real_frame768.jpg', 'All_Images/Train_Real_frame769.jpg', 'All_Images/Train_Real_frame770.jpg', 'All_Images/Train_Real_frame771.jpg', 'All_Images/Train_Real_frame772.jpg', 'All_Images/Train_Real_frame773.jpg', 'All_Images/Train_Real_frame774.jpg', 'All_Images/Train_Real_frame775.jpg', 'All_Images/Train_Real_frame776.jpg', 'All_Images/Train_Real_frame777.jpg', 'All_Images/Train_Real_frame778.jpg', 'All_Images/Train_Real_frame779.jpg', 'All_Images/Train_Real_frame780.jpg', 'All_Images/Train_Real_frame781.jpg', 'All_Images/Train_Real_frame782.jpg', 'All_Images/Train_Real_frame783.jpg', 'All_Images/Train_Real_frame784.jpg', 'All_Images/Train_Real_frame785.jpg', 'All_Images/Train_Real_frame786.jpg', 'All_Images/Train_Real_frame787.jpg', 'All_Images/Train_Real_frame788.jpg', 'All_Images/Train_Real_frame789.jpg', 'All_Images/Train_Real_frame790.jpg', 'All_Images/Train_Real_frame791.jpg', 'All_Images/Train_Real_frame792.jpg', 'All_Images/Train_Real_frame793.jpg', 'All_Images/Train_Real_frame794.jpg', 'All_Images/Train_Real_frame795.jpg', 'All_Images/Train_Real_frame796.jpg', 'All_Images/Train_Real_frame797.jpg', 'All_Images/Train_Real_frame798.jpg', 'All_Images/Train_Real_frame799.jpg', 'All_Images/Train_Real_frame800.jpg', 'All_Images/Train_Real_frame801.jpg', 'All_Images/Train_Real_frame802.jpg', 'All_Images/Train_Real_frame803.jpg', 'All_Images/Train_Real_frame804.jpg', 'All_Images/Train_Real_frame805.jpg', 'All_Images/Train_Real_frame806.jpg', 'All_Images/Train_Real_frame807.jpg', 'All_Images/Train_Real_frame808.jpg', 'All_Images/Train_Real_frame809.jpg', 'All_Images/Train_Real_frame810.jpg', 'All_Images/Train_Real_frame811.jpg', 'All_Images/Train_Real_frame812.jpg', 'All_Images/Train_Real_frame813.jpg', 'All_Images/Train_Real_frame814.jpg', 'All_Images/Train_Real_frame815.jpg', 'All_Images/Train_Real_frame816.jpg', 'All_Images/Train_Real_frame817.jpg', 'All_Images/Train_Real_frame818.jpg', 'All_Images/Train_Real_frame819.jpg', 'All_Images/Train_Real_frame820.jpg', 'All_Images/Train_Real_frame821.jpg', 'All_Images/Train_Real_frame822.jpg', 'All_Images/Train_Real_frame823.jpg', 'All_Images/Train_Real_frame824.jpg', 'All_Images/Train_Real_frame825.jpg', 'All_Images/Train_Real_frame826.jpg', 'All_Images/Train_Real_frame827.jpg', 'All_Images/Train_Real_frame828.jpg', 'All_Images/Train_Real_frame829.jpg', 'All_Images/Train_Real_frame830.jpg', 'All_Images/Train_Real_frame831.jpg', 'All_Images/Train_Real_frame832.jpg', 'All_Images/Train_Real_frame833.jpg', 'All_Images/Train_Real_frame834.jpg', 'All_Images/Train_Real_frame835.jpg', 'All_Images/Train_Real_frame836.jpg', 'All_Images/Train_Real_frame837.jpg', 'All_Images/Train_Real_frame838.jpg', 'All_Images/Train_Real_frame839.jpg', 'All_Images/Train_Real_frame840.jpg', 'All_Images/Train_Real_frame841.jpg', 'All_Images/Train_Real_frame842.jpg', 'All_Images/Train_Real_frame843.jpg', 'All_Images/Train_Real_frame844.jpg', 'All_Images/Train_Real_frame845.jpg', 'All_Images/Train_Real_frame846.jpg', 'All_Images/Train_Real_frame847.jpg', 'All_Images/Train_Real_frame848.jpg', 'All_Images/Train_Real_frame849.jpg', 'All_Images/Train_Real_frame850.jpg', 'All_Images/Train_Real_frame851.jpg', 'All_Images/Train_Real_frame852.jpg', 'All_Images/Train_Real_frame853.jpg', 'All_Images/Train_Real_frame854.jpg', 'All_Images/Train_Real_frame855.jpg', 'All_Images/Train_Real_frame856.jpg', 'All_Images/Train_Real_frame857.jpg', 'All_Images/Train_Real_frame858.jpg', 'All_Images/Train_Real_frame859.jpg', 'All_Images/Train_Real_frame860.jpg', 'All_Images/Train_Real_frame861.jpg', 'All_Images/Train_Real_frame862.jpg', 'All_Images/Train_Real_frame863.jpg', 'All_Images/Train_Real_frame864.jpg', 'All_Images/Train_Real_frame865.jpg', 'All_Images/Train_Real_frame866.jpg', 'All_Images/Train_Real_frame867.jpg', 'All_Images/Train_Real_frame868.jpg', 'All_Images/Train_Real_frame869.jpg', 'All_Images/Train_Real_frame870.jpg', 'All_Images/Train_Real_frame871.jpg', 'All_Images/Train_Real_frame872.jpg', 'All_Images/Train_Real_frame873.jpg', 'All_Images/Train_Real_frame874.jpg', 'All_Images/Train_Real_frame875.jpg', 'All_Images/Train_Real_frame876.jpg', 'All_Images/Train_Real_frame877.jpg', 'All_Images/Train_Real_frame878.jpg', 'All_Images/Train_Real_frame879.jpg', 'All_Images/Train_Real_frame880.jpg', 'All_Images/Train_Real_frame881.jpg', 'All_Images/Train_Real_frame882.jpg', 'All_Images/Train_Real_frame883.jpg', 'All_Images/Train_Real_frame884.jpg', 'All_Images/Train_Real_frame885.jpg', 'All_Images/Train_Real_frame886.jpg', 'All_Images/Train_Real_frame887.jpg', 'All_Images/Train_Real_frame888.jpg', 'All_Images/Train_Real_frame889.jpg', 'All_Images/Train_Real_frame890.jpg', 'All_Images/Train_Real_frame891.jpg', 'All_Images/Train_Real_frame892.jpg', 'All_Images/Train_Real_frame893.jpg', 'All_Images/Train_Real_frame894.jpg', 'All_Images/Train_Real_frame895.jpg', 'All_Images/Train_Real_frame896.jpg', 'All_Images/Train_Real_frame897.jpg', 'All_Images/Train_Real_frame898.jpg', 'All_Images/Train_Real_frame899.jpg', 'All_Images/Train_Real_frame900.jpg', 'All_Images/Train_Real_frame901.jpg', 'All_Images/Train_Real_frame902.jpg', 'All_Images/Train_Real_frame903.jpg', 'All_Images/Train_Real_frame904.jpg', 'All_Images/Train_Real_frame905.jpg', 'All_Images/Train_Real_frame906.jpg', 'All_Images/Train_Real_frame907.jpg', 'All_Images/Train_Real_frame908.jpg', 'All_Images/Train_Real_frame909.jpg', 'All_Images/Train_Real_frame910.jpg', 'All_Images/Train_Real_frame911.jpg', 'All_Images/Train_Real_frame912.jpg', 'All_Images/Train_Real_frame913.jpg', 'All_Images/Train_Real_frame914.jpg', 'All_Images/Train_Real_frame915.jpg', 'All_Images/Train_Real_frame916.jpg', 'All_Images/Train_Real_frame917.jpg', 'All_Images/Train_Real_frame918.jpg', 'All_Images/Train_Real_frame919.jpg', 'All_Images/Train_Real_frame920.jpg', 'All_Images/Train_Real_frame921.jpg', 'All_Images/Train_Real_frame922.jpg', 'All_Images/Train_Real_frame923.jpg', 'All_Images/Train_Real_frame924.jpg', 'All_Images/Train_Real_frame925.jpg', 'All_Images/Train_Real_frame926.jpg', 'All_Images/Train_Real_frame927.jpg', 'All_Images/Train_Real_frame928.jpg', 'All_Images/Train_Real_frame929.jpg', 'All_Images/Train_Real_frame930.jpg', 'All_Images/Train_Real_frame931.jpg', 'All_Images/Train_Real_frame932.jpg', 'All_Images/Train_Real_frame933.jpg', 'All_Images/Train_Real_frame934.jpg', 'All_Images/Train_Real_frame935.jpg', 'All_Images/Train_Real_frame936.jpg', 'All_Images/Train_Real_frame937.jpg', 'All_Images/Train_Real_frame938.jpg', 'All_Images/Train_Real_frame939.jpg', 'All_Images/Train_Real_frame940.jpg', 'All_Images/Train_Real_frame941.jpg', 'All_Images/Train_Real_frame942.jpg', 'All_Images/Train_Real_frame943.jpg', 'All_Images/Train_Real_frame944.jpg', 'All_Images/Train_Real_frame945.jpg', 'All_Images/Train_Real_frame946.jpg', 'All_Images/Train_Real_frame947.jpg', 'All_Images/Train_Real_frame948.jpg', 'All_Images/Train_Real_frame949.jpg', 'All_Images/Train_Real_frame950.jpg', 'All_Images/Train_Real_frame951.jpg', 'All_Images/Train_Real_frame952.jpg', 'All_Images/Train_Real_frame953.jpg', 'All_Images/Train_Real_frame954.jpg', 'All_Images/Train_Real_frame955.jpg', 'All_Images/Train_Real_frame956.jpg', 'All_Images/Train_Real_frame957.jpg', 'All_Images/Train_Real_frame958.jpg', 'All_Images/Train_Real_frame959.jpg', 'All_Images/Train_Real_frame960.jpg', 'All_Images/Train_Real_frame961.jpg', 'All_Images/Train_Real_frame962.jpg', 'All_Images/Train_Real_frame963.jpg', 'All_Images/Train_Real_frame964.jpg', 'All_Images/Train_Real_frame965.jpg', 'All_Images/Train_Real_frame966.jpg', 'All_Images/Train_Real_frame967.jpg', 'All_Images/Train_Real_frame968.jpg', 'All_Images/Train_Real_frame969.jpg', 'All_Images/Train_Real_frame970.jpg', 'All_Images/Train_Real_frame971.jpg', 'All_Images/Train_Real_frame972.jpg', 'All_Images/Train_Real_frame973.jpg', 'All_Images/Train_Real_frame974.jpg', 'All_Images/Train_Real_frame975.jpg', 'All_Images/Train_Real_frame976.jpg', 'All_Images/Train_Real_frame977.jpg', 'All_Images/Train_Real_frame978.jpg', 'All_Images/Train_Real_frame979.jpg', 'All_Images/Train_Real_frame980.jpg', 'All_Images/Train_Real_frame981.jpg', 'All_Images/Train_Real_frame982.jpg', 'All_Images/Train_Real_frame983.jpg', 'All_Images/Train_Real_frame984.jpg', 'All_Images/Train_Real_frame985.jpg', 'All_Images/Train_Real_frame986.jpg', 'All_Images/Train_Real_frame987.jpg', 'All_Images/Train_Real_frame988.jpg', 'All_Images/Train_Real_frame989.jpg', 'All_Images/Train_Real_frame990.jpg', 'All_Images/Train_Real_frame991.jpg', 'All_Images/Train_Real_frame992.jpg', 'All_Images/Train_Real_frame993.jpg', 'All_Images/Train_Real_frame994.jpg', 'All_Images/Train_Real_frame995.jpg', 'All_Images/Train_Real_frame996.jpg', 'All_Images/Train_Real_frame997.jpg', 'All_Images/Train_Real_frame998.jpg', 'All_Images/Train_Real_frame999.jpg', 'All_Images/Train_Real_frame1000.jpg', 'All_Images/Train_Real_frame1001.jpg', 'All_Images/Train_Real_frame1002.jpg', 'All_Images/Train_Real_frame1003.jpg', 'All_Images/Train_Real_frame1004.jpg', 'All_Images/Train_Real_frame1005.jpg', 'All_Images/Train_Real_frame1006.jpg', 'All_Images/Train_Real_frame1007.jpg', 'All_Images/Train_Real_frame1008.jpg', 'All_Images/Train_Real_frame1009.jpg', 'All_Images/Train_Real_frame1010.jpg', 'All_Images/Train_Real_frame1011.jpg', 'All_Images/Train_Real_frame1012.jpg', 'All_Images/Train_Real_frame1013.jpg', 'All_Images/Train_Real_frame1014.jpg', 'All_Images/Train_Real_frame1015.jpg', 'All_Images/Train_Real_frame1016.jpg', 'All_Images/Train_Real_frame1017.jpg', 'All_Images/Train_Real_frame1018.jpg', 'All_Images/Train_Real_frame1019.jpg', 'All_Images/Train_Real_frame1020.jpg', 'All_Images/Train_Real_frame1021.jpg', 'All_Images/Train_Real_frame1022.jpg', 'All_Images/Train_Real_frame1023.jpg', 'All_Images/Train_Real_frame1024.jpg', 'All_Images/Train_Real_frame1025.jpg', 'All_Images/Train_Real_frame1026.jpg', 'All_Images/Train_Real_frame1027.jpg', 'All_Images/Train_Real_frame1028.jpg', 'All_Images/Train_Real_frame1029.jpg', 'All_Images/Train_Real_frame1030.jpg', 'All_Images/Train_Real_frame1031.jpg', 'All_Images/Train_Real_frame1032.jpg', 'All_Images/Train_Real_frame1033.jpg', 'All_Images/Train_Real_frame1034.jpg', 'All_Images/Train_Real_frame1035.jpg', 'All_Images/Train_Real_frame1036.jpg', 'All_Images/Train_Real_frame1037.jpg', 'All_Images/Train_Real_frame1038.jpg', 'All_Images/Train_Real_frame1039.jpg', 'All_Images/Train_Real_frame1040.jpg', 'All_Images/Train_Real_frame1041.jpg', 'All_Images/Train_Real_frame1042.jpg', 'All_Images/Train_Real_frame1043.jpg', 'All_Images/Train_Real_frame1044.jpg', 'All_Images/Train_Real_frame1045.jpg', 'All_Images/Train_Real_frame1046.jpg', 'All_Images/Train_Real_frame1047.jpg', 'All_Images/Train_Real_frame1048.jpg', 'All_Images/Train_Real_frame1049.jpg', 'All_Images/Train_Real_frame1050.jpg', 'All_Images/Train_Real_frame1051.jpg', 'All_Images/Train_Real_frame1052.jpg', 'All_Images/Train_Real_frame1053.jpg', 'All_Images/Train_Real_frame1054.jpg', 'All_Images/Train_Real_frame1055.jpg', 'All_Images/Train_Real_frame1056.jpg', 'All_Images/Train_Real_frame1057.jpg', 'All_Images/Train_Real_frame1058.jpg', 'All_Images/Train_Real_frame1059.jpg', 'All_Images/Train_Real_frame1060.jpg', 'All_Images/Train_Real_frame1061.jpg', 'All_Images/Train_Real_frame1062.jpg', 'All_Images/Train_Real_frame1063.jpg', 'All_Images/Train_Real_frame1064.jpg', 'All_Images/Train_Real_frame1065.jpg', 'All_Images/Train_Real_frame1066.jpg', 'All_Images/Train_Real_frame1067.jpg', 'All_Images/Train_Real_frame1068.jpg', 'All_Images/Train_Real_frame1069.jpg', 'All_Images/Train_Real_frame1070.jpg', 'All_Images/Train_Real_frame1071.jpg', 'All_Images/Train_Real_frame1072.jpg', 'All_Images/Train_Real_frame1073.jpg', 'All_Images/Train_Real_frame1074.jpg', 'All_Images/Train_Real_frame1075.jpg', 'All_Images/Train_Real_frame1076.jpg', 'All_Images/Train_Real_frame1077.jpg', 'All_Images/Train_Real_frame1078.jpg', 'All_Images/Train_Real_frame1079.jpg', 'All_Images/Train_Real_frame1080.jpg', 'All_Images/Train_Real_frame1081.jpg', 'All_Images/Train_Real_frame1082.jpg', 'All_Images/Train_Real_frame1083.jpg', 'All_Images/Train_Real_frame1084.jpg', 'All_Images/Train_Real_frame1085.jpg', 'All_Images/Train_Real_frame1086.jpg', 'All_Images/Train_Real_frame1087.jpg', 'All_Images/Train_Real_frame1088.jpg', 'All_Images/Train_Real_frame1089.jpg', 'All_Images/Train_Real_frame1090.jpg', 'All_Images/Train_Real_frame1091.jpg', 'All_Images/Train_Real_frame1092.jpg', 'All_Images/Train_Real_frame1093.jpg', 'All_Images/Train_Real_frame1094.jpg', 'All_Images/Train_Real_frame1095.jpg', 'All_Images/Train_Real_frame1096.jpg', 'All_Images/Train_Real_frame1097.jpg', 'All_Images/Train_Real_frame1098.jpg', 'All_Images/Train_Real_frame1099.jpg', 'All_Images/Train_Real_frame1100.jpg', 'All_Images/Train_Real_frame1101.jpg', 'All_Images/Train_Real_frame1102.jpg', 'All_Images/Train_Real_frame1103.jpg', 'All_Images/Train_Real_frame1104.jpg', 'All_Images/Train_Real_frame1105.jpg', 'All_Images/Train_Real_frame1106.jpg', 'All_Images/Train_Real_frame1107.jpg', 'All_Images/Train_Real_frame1108.jpg', 'All_Images/Train_Real_frame1109.jpg', 'All_Images/Train_Real_frame1110.jpg', 'All_Images/Train_Real_frame1111.jpg', 'All_Images/Train_Real_frame1112.jpg', 'All_Images/Train_Real_frame1113.jpg', 'All_Images/Train_Real_frame1114.jpg', 'All_Images/Train_Real_frame1115.jpg', 'All_Images/Train_Real_frame1116.jpg', 'All_Images/Train_Real_frame1117.jpg', 'All_Images/Train_Real_frame1118.jpg', 'All_Images/Train_Real_frame1119.jpg', 'All_Images/Train_Real_frame1120.jpg', 'All_Images/Train_Real_frame1121.jpg', 'All_Images/Train_Real_frame1122.jpg', 'All_Images/Train_Real_frame1123.jpg', 'All_Images/Train_Real_frame1124.jpg', 'All_Images/Train_Real_frame1125.jpg', 'All_Images/Train_Real_frame1126.jpg', 'All_Images/Train_Real_frame1127.jpg', 'All_Images/Train_Real_frame1128.jpg', 'All_Images/Train_Real_frame1129.jpg', 'All_Images/Train_Real_frame1130.jpg', 'All_Images/Train_Real_frame1131.jpg', 'All_Images/Train_Real_frame1132.jpg', 'All_Images/Train_Real_frame1133.jpg', 'All_Images/Train_Real_frame1134.jpg', 'All_Images/Train_Real_frame1135.jpg', 'All_Images/Train_Real_frame1136.jpg', 'All_Images/Train_Real_frame1137.jpg', 'All_Images/Train_Real_frame1138.jpg', 'All_Images/Train_Real_frame1139.jpg', 'All_Images/Train_Real_frame1140.jpg', 'All_Images/Train_Real_frame1141.jpg', 'All_Images/Train_Real_frame1142.jpg', 'All_Images/Train_Real_frame1143.jpg', 'All_Images/Train_Real_frame1144.jpg', 'All_Images/Train_Real_frame1145.jpg', 'All_Images/Train_Real_frame1146.jpg', 'All_Images/Train_Real_frame1147.jpg', 'All_Images/Train_Real_frame1148.jpg', 'All_Images/Train_Real_frame1149.jpg', 'All_Images/Train_Real_frame1150.jpg', 'All_Images/Train_Real_frame1151.jpg', 'All_Images/Train_Real_frame1152.jpg', 'All_Images/Train_Real_frame1153.jpg', 'All_Images/Train_Real_frame1154.jpg', 'All_Images/Train_Real_frame1155.jpg', 'All_Images/Train_Real_frame1156.jpg', 'All_Images/Train_Real_frame1157.jpg', 'All_Images/Train_Real_frame1158.jpg', 'All_Images/Train_Real_frame1159.jpg', 'All_Images/Train_Real_frame1160.jpg', 'All_Images/Train_Real_frame1161.jpg', 'All_Images/Train_Real_frame1162.jpg', 'All_Images/Train_Real_frame1163.jpg', 'All_Images/Train_Real_frame1164.jpg', 'All_Images/Train_Real_frame1165.jpg', 'All_Images/Train_Real_frame1166.jpg', 'All_Images/Train_Real_frame1167.jpg', 'All_Images/Train_Real_frame1168.jpg', 'All_Images/Train_Real_frame1169.jpg', 'All_Images/Train_Real_frame1170.jpg', 'All_Images/Train_Real_frame1171.jpg', 'All_Images/Train_Real_frame1172.jpg', 'All_Images/Train_Real_frame1173.jpg', 'All_Images/Train_Real_frame1174.jpg', 'All_Images/Train_Real_frame1175.jpg', 'All_Images/Train_Real_frame1176.jpg', 'All_Images/Train_Real_frame1177.jpg', 'All_Images/Train_Real_frame1178.jpg', 'All_Images/Train_Real_frame1179.jpg', 'All_Images/Train_Real_frame1180.jpg', 'All_Images/Train_Real_frame1181.jpg', 'All_Images/Train_Real_frame1182.jpg', 'All_Images/Train_Real_frame1183.jpg', 'All_Images/Train_Real_frame1184.jpg', 'All_Images/Train_Real_frame1185.jpg', 'All_Images/Train_Real_frame1186.jpg', 'All_Images/Train_Real_frame1187.jpg', 'All_Images/Train_Real_frame1188.jpg', 'All_Images/Train_Real_frame1189.jpg', 'All_Images/Train_Real_frame1190.jpg', 'All_Images/Train_Real_frame1191.jpg', 'All_Images/Train_Real_frame1192.jpg', 'All_Images/Train_Real_frame1193.jpg', 'All_Images/Train_Real_frame1194.jpg', 'All_Images/Train_Real_frame1195.jpg', 'All_Images/Train_Real_frame1196.jpg', 'All_Images/Train_Real_frame1197.jpg', 'All_Images/Train_Real_frame1198.jpg', 'All_Images/Train_Real_frame1199.jpg', 'All_Images/Train_Real_frame1200.jpg', 'All_Images/Train_Real_frame1201.jpg', 'All_Images/Train_Real_frame1202.jpg', 'All_Images/Train_Real_frame1203.jpg', 'All_Images/Train_Real_frame1204.jpg', 'All_Images/Train_Real_frame1205.jpg', 'All_Images/Train_Real_frame1206.jpg', 'All_Images/Train_Real_frame1207.jpg', 'All_Images/Train_Real_frame1208.jpg', 'All_Images/Train_Real_frame1209.jpg', 'All_Images/Train_Real_frame1210.jpg', 'All_Images/Train_Real_frame1211.jpg', 'All_Images/Train_Real_frame1212.jpg', 'All_Images/Train_Real_frame1213.jpg', 'All_Images/Train_Real_frame1214.jpg', 'All_Images/Train_Real_frame1215.jpg', 'All_Images/Train_Real_frame1216.jpg', 'All_Images/Train_Real_frame1217.jpg', 'All_Images/Train_Real_frame1218.jpg', 'All_Images/Train_Real_frame1219.jpg', 'All_Images/Train_Real_frame1220.jpg', 'All_Images/Train_Real_frame1221.jpg', 'All_Images/Train_Real_frame1222.jpg', 'All_Images/Train_Real_frame1223.jpg', 'All_Images/Train_Real_frame1224.jpg', 'All_Images/Train_Real_frame1225.jpg', 'All_Images/Train_Real_frame1226.jpg', 'All_Images/Train_Real_frame1227.jpg', 'All_Images/Train_Real_frame1228.jpg', 'All_Images/Train_Real_frame1229.jpg', 'All_Images/Train_Real_frame1230.jpg', 'All_Images/Train_Real_frame1231.jpg', 'All_Images/Train_Real_frame1232.jpg', 'All_Images/Train_Real_frame1233.jpg', 'All_Images/Train_Real_frame1234.jpg', 'All_Images/Train_Real_frame1235.jpg', 'All_Images/Train_Real_frame1236.jpg', 'All_Images/Train_Real_frame1237.jpg', 'All_Images/Train_Real_frame1238.jpg', 'All_Images/Train_Real_frame1239.jpg', 'All_Images/Train_Real_frame1240.jpg', 'All_Images/Train_Real_frame1241.jpg', 'All_Images/Train_Real_frame1242.jpg', 'All_Images/Train_Real_frame1243.jpg', 'All_Images/Train_Real_frame1244.jpg', 'All_Images/Train_Real_frame1245.jpg', 'All_Images/Train_Real_frame1246.jpg', 'All_Images/Train_Real_frame1247.jpg', 'All_Images/Train_Real_frame1248.jpg', 'All_Images/Train_Real_frame1249.jpg', 'All_Images/Train_Real_frame1250.jpg', 'All_Images/Train_Real_frame1251.jpg', 'All_Images/Train_Real_frame1252.jpg', 'All_Images/Train_Real_frame1253.jpg', 'All_Images/Train_Real_frame1254.jpg', 'All_Images/Train_Real_frame1255.jpg', 'All_Images/Train_Real_frame1256.jpg', 'All_Images/Train_Real_frame1257.jpg', 'All_Images/Train_Real_frame1258.jpg', 'All_Images/Train_Real_frame1259.jpg', 'All_Images/Train_Real_frame1260.jpg', 'All_Images/Train_Real_frame1261.jpg', 'All_Images/Train_Real_frame1262.jpg', 'All_Images/Train_Real_frame1263.jpg', 'All_Images/Train_Real_frame1264.jpg', 'All_Images/Train_Real_frame1265.jpg', 'All_Images/Train_Real_frame1266.jpg', 'All_Images/Train_Real_frame1267.jpg', 'All_Images/Train_Real_frame1268.jpg', 'All_Images/Train_Real_frame1269.jpg', 'All_Images/Train_Real_frame1270.jpg', 'All_Images/Train_Real_frame1271.jpg', 'All_Images/Train_Real_frame1272.jpg', 'All_Images/Train_Real_frame1273.jpg', 'All_Images/Train_Real_frame1274.jpg', 'All_Images/Train_Real_frame1275.jpg', 'All_Images/Train_Real_frame1276.jpg', 'All_Images/Train_Real_frame1277.jpg', 'All_Images/Train_Real_frame1278.jpg', 'All_Images/Train_Real_frame1279.jpg', 'All_Images/Train_Real_frame1280.jpg', 'All_Images/Train_Real_frame1281.jpg', 'All_Images/Train_Real_frame1282.jpg', 'All_Images/Train_Real_frame1283.jpg', 'All_Images/Train_Real_frame1284.jpg', 'All_Images/Train_Real_frame1285.jpg', 'All_Images/Train_Real_frame1286.jpg', 'All_Images/Train_Real_frame1287.jpg', 'All_Images/Train_Real_frame1288.jpg', 'All_Images/Train_Real_frame1289.jpg', 'All_Images/Train_Real_frame1290.jpg', 'All_Images/Train_Real_frame1291.jpg', 'All_Images/Train_Real_frame1292.jpg', 'All_Images/Train_Real_frame1293.jpg', 'All_Images/Train_Real_frame1294.jpg', 'All_Images/Train_Real_frame1295.jpg', 'All_Images/Train_Real_frame1296.jpg', 'All_Images/Train_Real_frame1297.jpg', 'All_Images/Train_Real_frame1298.jpg', 'All_Images/Train_Real_frame1299.jpg', 'All_Images/Train_Real_frame1300.jpg', 'All_Images/Train_Real_frame1301.jpg', 'All_Images/Train_Real_frame1302.jpg', 'All_Images/Train_Real_frame1303.jpg', 'All_Images/Train_Real_frame1304.jpg', 'All_Images/Train_Real_frame1305.jpg', 'All_Images/Train_Real_frame1306.jpg', 'All_Images/Train_Real_frame1307.jpg', 'All_Images/Train_Real_frame1308.jpg', 'All_Images/Train_Real_frame1309.jpg', 'All_Images/Train_Real_frame1310.jpg', 'All_Images/Train_Real_frame1311.jpg', 'All_Images/Train_Real_frame1312.jpg', 'All_Images/Train_Real_frame1313.jpg', 'All_Images/Train_Real_frame1314.jpg', 'All_Images/Train_Real_frame1315.jpg', 'All_Images/Train_Real_frame1316.jpg', 'All_Images/Train_Real_frame1317.jpg', 'All_Images/Train_Real_frame1318.jpg', 'All_Images/Train_Real_frame1319.jpg', 'All_Images/Train_Real_frame1320.jpg', 'All_Images/Train_Real_frame1321.jpg', 'All_Images/Train_Real_frame1322.jpg', 'All_Images/Train_Real_frame1323.jpg', 'All_Images/Train_Real_frame1324.jpg', 'All_Images/Train_Real_frame1325.jpg', 'All_Images/Train_Real_frame1326.jpg', 'All_Images/Train_Real_frame1327.jpg', 'All_Images/Train_Real_frame1328.jpg', 'All_Images/Train_Real_frame1329.jpg', 'All_Images/Train_Real_frame1330.jpg', 'All_Images/Train_Real_frame1331.jpg', 'All_Images/Train_Real_frame1332.jpg', 'All_Images/Train_Real_frame1333.jpg', 'All_Images/Train_Real_frame1334.jpg', 'All_Images/Train_Real_frame1335.jpg', 'All_Images/Train_Real_frame1336.jpg', 'All_Images/Train_Real_frame1337.jpg', 'All_Images/Train_Real_frame1338.jpg', 'All_Images/Train_Real_frame1339.jpg', 'All_Images/Train_Real_frame1340.jpg', 'All_Images/Train_Real_frame1341.jpg', 'All_Images/Train_Real_frame1342.jpg', 'All_Images/Train_Real_frame1343.jpg', 'All_Images/Train_Real_frame1344.jpg', 'All_Images/Train_Real_frame1345.jpg', 'All_Images/Train_Real_frame1346.jpg', 'All_Images/Train_Real_frame1347.jpg', 'All_Images/Train_Real_frame1348.jpg', 'All_Images/Train_Real_frame1349.jpg', 'All_Images/Train_Real_frame1350.jpg', 'All_Images/Train_Real_frame1351.jpg', 'All_Images/Train_Real_frame1352.jpg', 'All_Images/Train_Real_frame1353.jpg', 'All_Images/Train_Real_frame1354.jpg', 'All_Images/Train_Real_frame1355.jpg', 'All_Images/Train_Real_frame1356.jpg', 'All_Images/Train_Real_frame1357.jpg', 'All_Images/Train_Real_frame1358.jpg', 'All_Images/Train_Real_frame1359.jpg', 'All_Images/Train_Real_frame1360.jpg', 'All_Images/Train_Real_frame1361.jpg', 'All_Images/Train_Real_frame1362.jpg', 'All_Images/Train_Real_frame1363.jpg', 'All_Images/Train_Real_frame1364.jpg', 'All_Images/Train_Real_frame1365.jpg', 'All_Images/Train_Real_frame1366.jpg', 'All_Images/Train_Real_frame1367.jpg', 'All_Images/Train_Real_frame1368.jpg', 'All_Images/Train_Real_frame1369.jpg', 'All_Images/Train_Real_frame1370.jpg', 'All_Images/Train_Real_frame1371.jpg', 'All_Images/Train_Real_frame1372.jpg', 'All_Images/Train_Real_frame1373.jpg', 'All_Images/Train_Real_frame1374.jpg', 'All_Images/Train_Real_frame1375.jpg', 'All_Images/Train_Real_frame1376.jpg', 'All_Images/Train_Real_frame1377.jpg', 'All_Images/Train_Real_frame1378.jpg', 'All_Images/Train_Real_frame1379.jpg', 'All_Images/Train_Real_frame1380.jpg', 'All_Images/Train_Real_frame1381.jpg', 'All_Images/Train_Real_frame1382.jpg', 'All_Images/Train_Real_frame1383.jpg', 'All_Images/Train_Real_frame1384.jpg', 'All_Images/Train_Real_frame1385.jpg', 'All_Images/Train_Real_frame1386.jpg', 'All_Images/Train_Real_frame1387.jpg', 'All_Images/Train_Real_frame1388.jpg', 'All_Images/Train_Real_frame1389.jpg', 'All_Images/Train_Real_frame1390.jpg', 'All_Images/Train_Real_frame1391.jpg', 'All_Images/Train_Real_frame1392.jpg', 'All_Images/Train_Real_frame1393.jpg', 'All_Images/Train_Real_frame1394.jpg', 'All_Images/Train_Real_frame1395.jpg', 'All_Images/Train_Real_frame1396.jpg', 'All_Images/Train_Real_frame1397.jpg', 'All_Images/Train_Real_frame1398.jpg', 'All_Images/Train_Real_frame1399.jpg', 'All_Images/Train_Real_frame1400.jpg', 'All_Images/Train_Real_frame1401.jpg', 'All_Images/Train_Real_frame1402.jpg', 'All_Images/Train_Real_frame1403.jpg', 'All_Images/Train_Real_frame1404.jpg', 'All_Images/Train_Real_frame1405.jpg', 'All_Images/Train_Real_frame1406.jpg', 'All_Images/Train_Real_frame1407.jpg', 'All_Images/Train_Real_frame1408.jpg', 'All_Images/Train_Real_frame1409.jpg', 'All_Images/Train_Real_frame1410.jpg', 'All_Images/Train_Real_frame1411.jpg', 'All_Images/Train_Real_frame1412.jpg', 'All_Images/Train_Real_frame1413.jpg', 'All_Images/Train_Real_frame1414.jpg', 'All_Images/Train_Real_frame1415.jpg', 'All_Images/Train_Real_frame1416.jpg', 'All_Images/Train_Real_frame1417.jpg', 'All_Images/Train_Real_frame1418.jpg', 'All_Images/Train_Real_frame1419.jpg', 'All_Images/Train_Real_frame1420.jpg', 'All_Images/Train_Real_frame1421.jpg', 'All_Images/Train_Real_frame1422.jpg', 'All_Images/Train_Real_frame1423.jpg', 'All_Images/Train_Real_frame1424.jpg', 'All_Images/Train_Real_frame1425.jpg', 'All_Images/Train_Real_frame1426.jpg', 'All_Images/Train_Real_frame1427.jpg', 'All_Images/Train_Real_frame1428.jpg', 'All_Images/Train_Real_frame1429.jpg', 'All_Images/Train_Real_frame1430.jpg', 'All_Images/Train_Real_frame1431.jpg', 'All_Images/Train_Real_frame1432.jpg', 'All_Images/Train_Real_frame1433.jpg', 'All_Images/Train_Real_frame1434.jpg', 'All_Images/Train_Real_frame1435.jpg', 'All_Images/Train_Real_frame1436.jpg', 'All_Images/Train_Real_frame1437.jpg', 'All_Images/Train_Real_frame1438.jpg', 'All_Images/Train_Real_frame1439.jpg', 'All_Images/Train_Real_frame1440.jpg', 'All_Images/Train_Real_frame1441.jpg', 'All_Images/Train_Real_frame1442.jpg', 'All_Images/Train_Real_frame1443.jpg', 'All_Images/Train_Real_frame1444.jpg', 'All_Images/Train_Real_frame1445.jpg', 'All_Images/Train_Real_frame1446.jpg', 'All_Images/Train_Real_frame1447.jpg', 'All_Images/Train_Real_frame1448.jpg', 'All_Images/Train_Real_frame1449.jpg', 'All_Images/Train_Real_frame1450.jpg', 'All_Images/Train_Real_frame1451.jpg', 'All_Images/Train_Real_frame1452.jpg', 'All_Images/Train_Real_frame1453.jpg', 'All_Images/Train_Real_frame1454.jpg', 'All_Images/Train_Real_frame1455.jpg']\n",
            "['All_Images/Test_Fake_frame0.jpg', 'All_Images/Test_Fake_frame1.jpg', 'All_Images/Test_Fake_frame2.jpg', 'All_Images/Test_Fake_frame3.jpg', 'All_Images/Test_Fake_frame4.jpg', 'All_Images/Test_Fake_frame5.jpg', 'All_Images/Test_Fake_frame6.jpg', 'All_Images/Test_Fake_frame7.jpg', 'All_Images/Test_Fake_frame8.jpg', 'All_Images/Test_Fake_frame9.jpg', 'All_Images/Test_Fake_frame10.jpg', 'All_Images/Test_Fake_frame11.jpg', 'All_Images/Test_Fake_frame12.jpg', 'All_Images/Test_Fake_frame13.jpg', 'All_Images/Test_Fake_frame14.jpg', 'All_Images/Test_Fake_frame15.jpg', 'All_Images/Test_Fake_frame16.jpg', 'All_Images/Test_Fake_frame17.jpg', 'All_Images/Test_Fake_frame18.jpg', 'All_Images/Test_Fake_frame19.jpg', 'All_Images/Test_Fake_frame20.jpg', 'All_Images/Test_Fake_frame21.jpg', 'All_Images/Test_Fake_frame22.jpg', 'All_Images/Test_Fake_frame23.jpg', 'All_Images/Test_Fake_frame24.jpg', 'All_Images/Test_Fake_frame25.jpg', 'All_Images/Test_Fake_frame26.jpg', 'All_Images/Test_Fake_frame27.jpg', 'All_Images/Test_Fake_frame28.jpg', 'All_Images/Test_Fake_frame29.jpg', 'All_Images/Test_Fake_frame30.jpg', 'All_Images/Test_Fake_frame31.jpg', 'All_Images/Test_Fake_frame32.jpg', 'All_Images/Test_Fake_frame33.jpg', 'All_Images/Test_Fake_frame34.jpg', 'All_Images/Test_Fake_frame35.jpg', 'All_Images/Test_Fake_frame36.jpg', 'All_Images/Test_Fake_frame37.jpg', 'All_Images/Test_Fake_frame38.jpg', 'All_Images/Test_Fake_frame39.jpg', 'All_Images/Test_Fake_frame40.jpg', 'All_Images/Test_Fake_frame41.jpg', 'All_Images/Test_Fake_frame42.jpg', 'All_Images/Test_Fake_frame43.jpg', 'All_Images/Test_Fake_frame44.jpg', 'All_Images/Test_Fake_frame45.jpg', 'All_Images/Test_Fake_frame46.jpg', 'All_Images/Test_Fake_frame47.jpg', 'All_Images/Test_Fake_frame48.jpg', 'All_Images/Test_Fake_frame49.jpg', 'All_Images/Test_Fake_frame50.jpg', 'All_Images/Test_Fake_frame51.jpg', 'All_Images/Test_Fake_frame52.jpg', 'All_Images/Test_Fake_frame53.jpg', 'All_Images/Test_Fake_frame54.jpg', 'All_Images/Test_Fake_frame55.jpg', 'All_Images/Test_Fake_frame56.jpg', 'All_Images/Test_Fake_frame57.jpg', 'All_Images/Test_Fake_frame58.jpg', 'All_Images/Test_Fake_frame59.jpg', 'All_Images/Test_Fake_frame60.jpg', 'All_Images/Test_Fake_frame61.jpg', 'All_Images/Test_Fake_frame62.jpg', 'All_Images/Test_Fake_frame63.jpg', 'All_Images/Test_Fake_frame64.jpg', 'All_Images/Test_Fake_frame65.jpg', 'All_Images/Test_Fake_frame66.jpg', 'All_Images/Test_Fake_frame67.jpg', 'All_Images/Test_Fake_frame68.jpg', 'All_Images/Test_Fake_frame69.jpg', 'All_Images/Test_Fake_frame70.jpg', 'All_Images/Test_Fake_frame71.jpg', 'All_Images/Test_Fake_frame72.jpg', 'All_Images/Test_Fake_frame73.jpg', 'All_Images/Test_Fake_frame74.jpg', 'All_Images/Test_Fake_frame75.jpg', 'All_Images/Test_Fake_frame76.jpg', 'All_Images/Test_Fake_frame77.jpg', 'All_Images/Test_Fake_frame78.jpg', 'All_Images/Test_Fake_frame79.jpg', 'All_Images/Test_Fake_frame80.jpg', 'All_Images/Test_Fake_frame81.jpg', 'All_Images/Test_Fake_frame82.jpg', 'All_Images/Test_Fake_frame83.jpg', 'All_Images/Test_Fake_frame84.jpg', 'All_Images/Test_Fake_frame85.jpg', 'All_Images/Test_Fake_frame86.jpg', 'All_Images/Test_Fake_frame87.jpg', 'All_Images/Test_Fake_frame88.jpg', 'All_Images/Test_Fake_frame89.jpg', 'All_Images/Test_Fake_frame90.jpg', 'All_Images/Test_Fake_frame91.jpg', 'All_Images/Test_Fake_frame92.jpg', 'All_Images/Test_Fake_frame93.jpg', 'All_Images/Test_Fake_frame94.jpg', 'All_Images/Test_Fake_frame95.jpg', 'All_Images/Test_Fake_frame96.jpg', 'All_Images/Test_Fake_frame97.jpg', 'All_Images/Test_Fake_frame98.jpg', 'All_Images/Test_Fake_frame99.jpg', 'All_Images/Test_Fake_frame100.jpg', 'All_Images/Test_Fake_frame101.jpg', 'All_Images/Test_Fake_frame102.jpg', 'All_Images/Test_Fake_frame103.jpg', 'All_Images/Test_Fake_frame104.jpg', 'All_Images/Test_Fake_frame105.jpg', 'All_Images/Test_Fake_frame106.jpg', 'All_Images/Test_Fake_frame107.jpg', 'All_Images/Test_Fake_frame108.jpg', 'All_Images/Test_Fake_frame109.jpg', 'All_Images/Test_Fake_frame110.jpg', 'All_Images/Test_Fake_frame111.jpg', 'All_Images/Test_Fake_frame112.jpg', 'All_Images/Test_Fake_frame113.jpg', 'All_Images/Test_Fake_frame114.jpg', 'All_Images/Test_Fake_frame115.jpg', 'All_Images/Test_Fake_frame116.jpg', 'All_Images/Test_Fake_frame117.jpg', 'All_Images/Test_Fake_frame118.jpg', 'All_Images/Test_Fake_frame119.jpg', 'All_Images/Test_Fake_frame120.jpg', 'All_Images/Test_Fake_frame121.jpg', 'All_Images/Test_Fake_frame122.jpg', 'All_Images/Test_Fake_frame123.jpg', 'All_Images/Test_Fake_frame124.jpg', 'All_Images/Test_Fake_frame125.jpg', 'All_Images/Test_Fake_frame126.jpg', 'All_Images/Test_Fake_frame127.jpg', 'All_Images/Test_Fake_frame128.jpg', 'All_Images/Test_Fake_frame129.jpg', 'All_Images/Test_Fake_frame130.jpg', 'All_Images/Test_Fake_frame131.jpg', 'All_Images/Test_Fake_frame132.jpg', 'All_Images/Test_Fake_frame133.jpg', 'All_Images/Test_Fake_frame134.jpg', 'All_Images/Test_Fake_frame135.jpg', 'All_Images/Test_Fake_frame136.jpg', 'All_Images/Test_Fake_frame137.jpg', 'All_Images/Test_Fake_frame138.jpg', 'All_Images/Test_Fake_frame139.jpg', 'All_Images/Test_Fake_frame140.jpg', 'All_Images/Test_Fake_frame141.jpg', 'All_Images/Test_Fake_frame142.jpg', 'All_Images/Test_Fake_frame143.jpg', 'All_Images/Test_Fake_frame144.jpg', 'All_Images/Test_Fake_frame145.jpg', 'All_Images/Test_Fake_frame146.jpg', 'All_Images/Test_Fake_frame147.jpg', 'All_Images/Test_Fake_frame148.jpg', 'All_Images/Test_Fake_frame149.jpg', 'All_Images/Test_Fake_frame150.jpg', 'All_Images/Test_Fake_frame151.jpg', 'All_Images/Test_Fake_frame152.jpg', 'All_Images/Test_Fake_frame153.jpg', 'All_Images/Test_Fake_frame154.jpg', 'All_Images/Test_Fake_frame155.jpg', 'All_Images/Test_Fake_frame156.jpg', 'All_Images/Test_Fake_frame157.jpg', 'All_Images/Test_Fake_frame158.jpg', 'All_Images/Test_Fake_frame159.jpg', 'All_Images/Test_Fake_frame160.jpg', 'All_Images/Test_Fake_frame161.jpg', 'All_Images/Test_Fake_frame162.jpg', 'All_Images/Test_Fake_frame163.jpg', 'All_Images/Test_Fake_frame164.jpg', 'All_Images/Test_Fake_frame165.jpg', 'All_Images/Test_Fake_frame166.jpg', 'All_Images/Test_Fake_frame167.jpg', 'All_Images/Test_Fake_frame168.jpg', 'All_Images/Test_Fake_frame169.jpg', 'All_Images/Test_Fake_frame170.jpg', 'All_Images/Test_Fake_frame171.jpg', 'All_Images/Test_Fake_frame172.jpg', 'All_Images/Test_Fake_frame173.jpg', 'All_Images/Test_Fake_frame174.jpg', 'All_Images/Test_Fake_frame175.jpg', 'All_Images/Test_Fake_frame176.jpg', 'All_Images/Test_Fake_frame177.jpg', 'All_Images/Test_Fake_frame178.jpg', 'All_Images/Test_Fake_frame179.jpg', 'All_Images/Test_Fake_frame180.jpg', 'All_Images/Test_Fake_frame181.jpg', 'All_Images/Test_Fake_frame182.jpg', 'All_Images/Test_Fake_frame183.jpg', 'All_Images/Test_Fake_frame184.jpg', 'All_Images/Test_Fake_frame185.jpg', 'All_Images/Test_Fake_frame186.jpg', 'All_Images/Test_Fake_frame187.jpg', 'All_Images/Test_Fake_frame188.jpg', 'All_Images/Test_Fake_frame189.jpg', 'All_Images/Test_Fake_frame190.jpg', 'All_Images/Test_Fake_frame191.jpg', 'All_Images/Test_Fake_frame192.jpg', 'All_Images/Test_Fake_frame193.jpg', 'All_Images/Test_Fake_frame194.jpg', 'All_Images/Test_Fake_frame195.jpg', 'All_Images/Test_Fake_frame196.jpg', 'All_Images/Test_Fake_frame197.jpg', 'All_Images/Test_Fake_frame198.jpg', 'All_Images/Test_Fake_frame199.jpg', 'All_Images/Test_Fake_frame200.jpg', 'All_Images/Test_Fake_frame201.jpg', 'All_Images/Test_Fake_frame202.jpg', 'All_Images/Test_Fake_frame203.jpg', 'All_Images/Test_Fake_frame204.jpg', 'All_Images/Test_Fake_frame205.jpg', 'All_Images/Test_Fake_frame206.jpg', 'All_Images/Test_Fake_frame207.jpg', 'All_Images/Test_Fake_frame208.jpg', 'All_Images/Test_Fake_frame209.jpg', 'All_Images/Test_Fake_frame210.jpg', 'All_Images/Test_Fake_frame211.jpg', 'All_Images/Test_Fake_frame212.jpg', 'All_Images/Test_Fake_frame213.jpg', 'All_Images/Test_Fake_frame214.jpg', 'All_Images/Test_Fake_frame215.jpg', 'All_Images/Test_Fake_frame216.jpg', 'All_Images/Test_Fake_frame217.jpg', 'All_Images/Test_Fake_frame218.jpg', 'All_Images/Test_Fake_frame219.jpg', 'All_Images/Test_Fake_frame220.jpg', 'All_Images/Test_Fake_frame221.jpg', 'All_Images/Test_Fake_frame222.jpg', 'All_Images/Test_Fake_frame223.jpg', 'All_Images/Test_Fake_frame224.jpg', 'All_Images/Test_Fake_frame225.jpg', 'All_Images/Test_Fake_frame226.jpg', 'All_Images/Test_Fake_frame227.jpg', 'All_Images/Test_Fake_frame228.jpg', 'All_Images/Test_Fake_frame229.jpg', 'All_Images/Test_Fake_frame230.jpg', 'All_Images/Test_Fake_frame231.jpg', 'All_Images/Test_Fake_frame232.jpg', 'All_Images/Test_Fake_frame233.jpg', 'All_Images/Test_Fake_frame234.jpg', 'All_Images/Test_Fake_frame235.jpg', 'All_Images/Test_Fake_frame236.jpg', 'All_Images/Test_Fake_frame237.jpg', 'All_Images/Test_Fake_frame238.jpg', 'All_Images/Test_Fake_frame239.jpg', 'All_Images/Test_Fake_frame240.jpg', 'All_Images/Test_Fake_frame241.jpg', 'All_Images/Test_Fake_frame242.jpg', 'All_Images/Test_Fake_frame243.jpg', 'All_Images/Test_Fake_frame244.jpg', 'All_Images/Test_Fake_frame245.jpg', 'All_Images/Test_Fake_frame246.jpg', 'All_Images/Test_Fake_frame247.jpg', 'All_Images/Test_Fake_frame248.jpg', 'All_Images/Test_Fake_frame249.jpg', 'All_Images/Test_Fake_frame250.jpg', 'All_Images/Test_Fake_frame251.jpg', 'All_Images/Test_Fake_frame252.jpg', 'All_Images/Test_Fake_frame253.jpg', 'All_Images/Test_Fake_frame254.jpg', 'All_Images/Test_Fake_frame255.jpg', 'All_Images/Test_Fake_frame256.jpg', 'All_Images/Test_Fake_frame257.jpg', 'All_Images/Test_Fake_frame258.jpg', 'All_Images/Test_Fake_frame259.jpg', 'All_Images/Test_Fake_frame260.jpg', 'All_Images/Test_Fake_frame261.jpg', 'All_Images/Test_Fake_frame262.jpg', 'All_Images/Test_Fake_frame263.jpg', 'All_Images/Test_Fake_frame264.jpg', 'All_Images/Test_Fake_frame265.jpg', 'All_Images/Test_Fake_frame266.jpg', 'All_Images/Test_Fake_frame267.jpg', 'All_Images/Test_Fake_frame268.jpg', 'All_Images/Test_Fake_frame269.jpg', 'All_Images/Test_Fake_frame270.jpg', 'All_Images/Test_Fake_frame271.jpg', 'All_Images/Test_Fake_frame272.jpg', 'All_Images/Test_Fake_frame273.jpg', 'All_Images/Test_Fake_frame274.jpg', 'All_Images/Test_Fake_frame275.jpg', 'All_Images/Test_Fake_frame276.jpg', 'All_Images/Test_Fake_frame277.jpg', 'All_Images/Test_Fake_frame278.jpg', 'All_Images/Test_Fake_frame279.jpg', 'All_Images/Test_Fake_frame280.jpg', 'All_Images/Test_Fake_frame281.jpg', 'All_Images/Test_Fake_frame282.jpg', 'All_Images/Test_Fake_frame283.jpg', 'All_Images/Test_Fake_frame284.jpg', 'All_Images/Test_Fake_frame285.jpg', 'All_Images/Test_Fake_frame286.jpg', 'All_Images/Test_Fake_frame287.jpg', 'All_Images/Test_Fake_frame288.jpg', 'All_Images/Test_Fake_frame289.jpg', 'All_Images/Test_Fake_frame290.jpg', 'All_Images/Test_Fake_frame291.jpg', 'All_Images/Test_Fake_frame292.jpg', 'All_Images/Test_Fake_frame293.jpg', 'All_Images/Test_Fake_frame294.jpg', 'All_Images/Test_Fake_frame295.jpg', 'All_Images/Test_Fake_frame296.jpg', 'All_Images/Test_Fake_frame297.jpg', 'All_Images/Test_Fake_frame298.jpg', 'All_Images/Test_Fake_frame299.jpg', 'All_Images/Test_Fake_frame300.jpg', 'All_Images/Test_Fake_frame301.jpg', 'All_Images/Test_Fake_frame302.jpg', 'All_Images/Test_Fake_frame303.jpg', 'All_Images/Test_Fake_frame304.jpg', 'All_Images/Test_Fake_frame305.jpg', 'All_Images/Test_Fake_frame306.jpg', 'All_Images/Test_Fake_frame307.jpg', 'All_Images/Test_Fake_frame308.jpg', 'All_Images/Test_Fake_frame309.jpg', 'All_Images/Test_Fake_frame310.jpg', 'All_Images/Test_Fake_frame311.jpg', 'All_Images/Test_Fake_frame312.jpg', 'All_Images/Test_Fake_frame313.jpg', 'All_Images/Test_Fake_frame314.jpg', 'All_Images/Test_Fake_frame315.jpg', 'All_Images/Test_Fake_frame316.jpg', 'All_Images/Test_Fake_frame317.jpg', 'All_Images/Test_Fake_frame318.jpg', 'All_Images/Test_Fake_frame319.jpg', 'All_Images/Test_Fake_frame320.jpg', 'All_Images/Test_Fake_frame321.jpg', 'All_Images/Test_Fake_frame322.jpg', 'All_Images/Test_Fake_frame323.jpg', 'All_Images/Test_Fake_frame324.jpg', 'All_Images/Test_Fake_frame325.jpg', 'All_Images/Test_Fake_frame326.jpg', 'All_Images/Test_Fake_frame327.jpg', 'All_Images/Test_Fake_frame328.jpg', 'All_Images/Test_Fake_frame329.jpg', 'All_Images/Test_Fake_frame330.jpg', 'All_Images/Test_Fake_frame331.jpg', 'All_Images/Test_Fake_frame332.jpg', 'All_Images/Test_Fake_frame333.jpg', 'All_Images/Test_Fake_frame334.jpg', 'All_Images/Test_Fake_frame335.jpg', 'All_Images/Test_Fake_frame336.jpg', 'All_Images/Test_Fake_frame337.jpg', 'All_Images/Test_Fake_frame338.jpg', 'All_Images/Test_Fake_frame339.jpg', 'All_Images/Test_Fake_frame340.jpg', 'All_Images/Test_Fake_frame341.jpg', 'All_Images/Test_Fake_frame342.jpg', 'All_Images/Test_Fake_frame343.jpg', 'All_Images/Test_Fake_frame344.jpg', 'All_Images/Test_Fake_frame345.jpg', 'All_Images/Test_Fake_frame346.jpg', 'All_Images/Test_Fake_frame347.jpg', 'All_Images/Test_Fake_frame348.jpg', 'All_Images/Test_Fake_frame349.jpg', 'All_Images/Test_Fake_frame350.jpg', 'All_Images/Test_Fake_frame351.jpg', 'All_Images/Test_Fake_frame352.jpg', 'All_Images/Test_Fake_frame353.jpg', 'All_Images/Test_Fake_frame354.jpg', 'All_Images/Test_Fake_frame355.jpg', 'All_Images/Test_Fake_frame356.jpg', 'All_Images/Test_Fake_frame357.jpg', 'All_Images/Test_Fake_frame358.jpg', 'All_Images/Test_Fake_frame359.jpg', 'All_Images/Test_Fake_frame360.jpg', 'All_Images/Test_Fake_frame361.jpg', 'All_Images/Test_Fake_frame362.jpg', 'All_Images/Test_Fake_frame363.jpg', 'All_Images/Test_Fake_frame364.jpg', 'All_Images/Test_Fake_frame365.jpg', 'All_Images/Test_Fake_frame366.jpg', 'All_Images/Test_Fake_frame367.jpg', 'All_Images/Test_Fake_frame368.jpg', 'All_Images/Test_Fake_frame369.jpg', 'All_Images/Test_Fake_frame370.jpg', 'All_Images/Test_Fake_frame371.jpg', 'All_Images/Test_Fake_frame372.jpg', 'All_Images/Test_Fake_frame373.jpg', 'All_Images/Test_Fake_frame374.jpg', 'All_Images/Test_Fake_frame375.jpg', 'All_Images/Test_Fake_frame376.jpg', 'All_Images/Test_Fake_frame377.jpg', 'All_Images/Test_Fake_frame378.jpg', 'All_Images/Test_Fake_frame379.jpg', 'All_Images/Test_Fake_frame380.jpg', 'All_Images/Test_Fake_frame381.jpg', 'All_Images/Test_Fake_frame382.jpg', 'All_Images/Test_Fake_frame383.jpg', 'All_Images/Test_Fake_frame384.jpg', 'All_Images/Test_Fake_frame385.jpg', 'All_Images/Test_Fake_frame386.jpg', 'All_Images/Test_Fake_frame387.jpg', 'All_Images/Test_Fake_frame388.jpg', 'All_Images/Test_Fake_frame389.jpg', 'All_Images/Test_Fake_frame390.jpg', 'All_Images/Test_Fake_frame391.jpg', 'All_Images/Test_Fake_frame392.jpg', 'All_Images/Test_Fake_frame393.jpg', 'All_Images/Test_Fake_frame394.jpg', 'All_Images/Test_Fake_frame395.jpg', 'All_Images/Test_Fake_frame396.jpg', 'All_Images/Test_Fake_frame397.jpg', 'All_Images/Test_Fake_frame398.jpg', 'All_Images/Test_Fake_frame399.jpg', 'All_Images/Test_Fake_frame400.jpg', 'All_Images/Test_Fake_frame401.jpg', 'All_Images/Test_Fake_frame402.jpg', 'All_Images/Test_Fake_frame403.jpg', 'All_Images/Test_Fake_frame404.jpg', 'All_Images/Test_Fake_frame405.jpg', 'All_Images/Test_Fake_frame406.jpg', 'All_Images/Test_Fake_frame407.jpg', 'All_Images/Test_Fake_frame408.jpg', 'All_Images/Test_Fake_frame409.jpg', 'All_Images/Test_Fake_frame410.jpg', 'All_Images/Test_Fake_frame411.jpg', 'All_Images/Test_Fake_frame412.jpg', 'All_Images/Test_Fake_frame413.jpg', 'All_Images/Test_Fake_frame414.jpg', 'All_Images/Test_Fake_frame415.jpg', 'All_Images/Test_Fake_frame416.jpg', 'All_Images/Test_Fake_frame417.jpg', 'All_Images/Test_Fake_frame418.jpg', 'All_Images/Test_Fake_frame419.jpg', 'All_Images/Test_Fake_frame420.jpg', 'All_Images/Test_Fake_frame421.jpg', 'All_Images/Test_Fake_frame422.jpg', 'All_Images/Test_Fake_frame423.jpg', 'All_Images/Test_Fake_frame424.jpg', 'All_Images/Test_Fake_frame425.jpg', 'All_Images/Test_Fake_frame426.jpg', 'All_Images/Test_Fake_frame427.jpg', 'All_Images/Test_Fake_frame428.jpg', 'All_Images/Test_Fake_frame429.jpg', 'All_Images/Test_Fake_frame430.jpg', 'All_Images/Test_Fake_frame431.jpg', 'All_Images/Test_Fake_frame432.jpg', 'All_Images/Test_Fake_frame433.jpg', 'All_Images/Test_Fake_frame434.jpg', 'All_Images/Test_Fake_frame435.jpg', 'All_Images/Test_Fake_frame436.jpg', 'All_Images/Test_Fake_frame437.jpg', 'All_Images/Test_Fake_frame438.jpg', 'All_Images/Test_Fake_frame439.jpg', 'All_Images/Test_Fake_frame440.jpg', 'All_Images/Test_Fake_frame441.jpg', 'All_Images/Test_Fake_frame442.jpg', 'All_Images/Test_Fake_frame443.jpg', 'All_Images/Test_Fake_frame444.jpg', 'All_Images/Test_Fake_frame445.jpg', 'All_Images/Test_Fake_frame446.jpg', 'All_Images/Test_Fake_frame447.jpg', 'All_Images/Test_Fake_frame448.jpg', 'All_Images/Test_Fake_frame449.jpg', 'All_Images/Test_Fake_frame450.jpg', 'All_Images/Test_Fake_frame451.jpg', 'All_Images/Test_Fake_frame452.jpg', 'All_Images/Test_Fake_frame453.jpg', 'All_Images/Test_Fake_frame454.jpg', 'All_Images/Test_Fake_frame455.jpg', 'All_Images/Test_Fake_frame456.jpg', 'All_Images/Test_Fake_frame457.jpg', 'All_Images/Test_Fake_frame458.jpg', 'All_Images/Test_Fake_frame459.jpg', 'All_Images/Test_Fake_frame460.jpg', 'All_Images/Test_Fake_frame461.jpg', 'All_Images/Test_Fake_frame462.jpg', 'All_Images/Test_Fake_frame463.jpg', 'All_Images/Test_Fake_frame464.jpg', 'All_Images/Test_Fake_frame465.jpg', 'All_Images/Test_Fake_frame466.jpg', 'All_Images/Test_Fake_frame467.jpg', 'All_Images/Test_Fake_frame468.jpg', 'All_Images/Test_Fake_frame469.jpg', 'All_Images/Test_Fake_frame470.jpg', 'All_Images/Test_Fake_frame471.jpg', 'All_Images/Test_Fake_frame472.jpg', 'All_Images/Test_Fake_frame473.jpg', 'All_Images/Test_Fake_frame474.jpg', 'All_Images/Test_Fake_frame475.jpg', 'All_Images/Test_Fake_frame476.jpg', 'All_Images/Test_Fake_frame477.jpg', 'All_Images/Test_Fake_frame478.jpg', 'All_Images/Test_Fake_frame479.jpg', 'All_Images/Test_Fake_frame480.jpg', 'All_Images/Test_Fake_frame481.jpg', 'All_Images/Test_Fake_frame482.jpg', 'All_Images/Test_Fake_frame483.jpg', 'All_Images/Test_Fake_frame484.jpg', 'All_Images/Test_Fake_frame485.jpg', 'All_Images/Test_Fake_frame486.jpg', 'All_Images/Test_Fake_frame487.jpg', 'All_Images/Test_Fake_frame488.jpg', 'All_Images/Test_Fake_frame489.jpg', 'All_Images/Test_Fake_frame490.jpg', 'All_Images/Test_Fake_frame491.jpg', 'All_Images/Test_Fake_frame492.jpg', 'All_Images/Test_Fake_frame493.jpg', 'All_Images/Test_Fake_frame494.jpg', 'All_Images/Test_Fake_frame495.jpg', 'All_Images/Test_Fake_frame496.jpg', 'All_Images/Test_Fake_frame497.jpg', 'All_Images/Test_Fake_frame498.jpg', 'All_Images/Test_Fake_frame499.jpg', 'All_Images/Test_Fake_frame500.jpg', 'All_Images/Test_Fake_frame501.jpg', 'All_Images/Test_Fake_frame502.jpg', 'All_Images/Test_Fake_frame503.jpg', 'All_Images/Test_Fake_frame504.jpg', 'All_Images/Test_Fake_frame505.jpg', 'All_Images/Test_Fake_frame506.jpg', 'All_Images/Test_Fake_frame507.jpg', 'All_Images/Test_Fake_frame508.jpg', 'All_Images/Test_Fake_frame509.jpg', 'All_Images/Test_Fake_frame510.jpg', 'All_Images/Test_Fake_frame511.jpg', 'All_Images/Test_Fake_frame512.jpg', 'All_Images/Test_Fake_frame513.jpg', 'All_Images/Test_Fake_frame514.jpg', 'All_Images/Test_Fake_frame515.jpg', 'All_Images/Test_Fake_frame516.jpg', 'All_Images/Test_Fake_frame517.jpg', 'All_Images/Test_Fake_frame518.jpg', 'All_Images/Test_Fake_frame519.jpg', 'All_Images/Test_Fake_frame520.jpg', 'All_Images/Test_Fake_frame521.jpg', 'All_Images/Test_Fake_frame522.jpg', 'All_Images/Test_Fake_frame523.jpg', 'All_Images/Test_Fake_frame524.jpg', 'All_Images/Test_Fake_frame525.jpg', 'All_Images/Test_Fake_frame526.jpg', 'All_Images/Test_Fake_frame527.jpg', 'All_Images/Test_Fake_frame528.jpg', 'All_Images/Test_Fake_frame529.jpg', 'All_Images/Test_Fake_frame530.jpg', 'All_Images/Test_Fake_frame531.jpg', 'All_Images/Test_Fake_frame532.jpg', 'All_Images/Test_Fake_frame533.jpg', 'All_Images/Test_Fake_frame534.jpg', 'All_Images/Test_Fake_frame535.jpg', 'All_Images/Test_Fake_frame536.jpg', 'All_Images/Test_Fake_frame537.jpg', 'All_Images/Test_Fake_frame538.jpg', 'All_Images/Test_Fake_frame539.jpg', 'All_Images/Test_Fake_frame540.jpg', 'All_Images/Test_Fake_frame541.jpg', 'All_Images/Test_Fake_frame542.jpg', 'All_Images/Test_Fake_frame543.jpg', 'All_Images/Test_Fake_frame544.jpg', 'All_Images/Test_Fake_frame545.jpg', 'All_Images/Test_Fake_frame546.jpg', 'All_Images/Test_Fake_frame547.jpg', 'All_Images/Test_Fake_frame548.jpg', 'All_Images/Test_Fake_frame549.jpg', 'All_Images/Test_Fake_frame550.jpg', 'All_Images/Test_Fake_frame551.jpg', 'All_Images/Test_Fake_frame552.jpg', 'All_Images/Test_Fake_frame553.jpg', 'All_Images/Test_Fake_frame554.jpg', 'All_Images/Test_Fake_frame555.jpg', 'All_Images/Test_Fake_frame556.jpg', 'All_Images/Test_Fake_frame557.jpg', 'All_Images/Test_Fake_frame558.jpg', 'All_Images/Test_Fake_frame559.jpg', 'All_Images/Test_Fake_frame560.jpg', 'All_Images/Test_Fake_frame561.jpg', 'All_Images/Test_Fake_frame562.jpg', 'All_Images/Test_Fake_frame563.jpg', 'All_Images/Test_Fake_frame564.jpg', 'All_Images/Test_Fake_frame565.jpg', 'All_Images/Test_Fake_frame566.jpg', 'All_Images/Test_Fake_frame567.jpg', 'All_Images/Test_Fake_frame568.jpg', 'All_Images/Test_Fake_frame569.jpg', 'All_Images/Test_Fake_frame570.jpg', 'All_Images/Test_Fake_frame571.jpg', 'All_Images/Test_Fake_frame572.jpg', 'All_Images/Test_Fake_frame573.jpg', 'All_Images/Test_Fake_frame574.jpg', 'All_Images/Test_Fake_frame575.jpg', 'All_Images/Test_Fake_frame576.jpg', 'All_Images/Test_Fake_frame577.jpg', 'All_Images/Test_Fake_frame578.jpg', 'All_Images/Test_Fake_frame579.jpg', 'All_Images/Test_Fake_frame580.jpg', 'All_Images/Test_Fake_frame581.jpg', 'All_Images/Test_Fake_frame582.jpg', 'All_Images/Test_Fake_frame583.jpg', 'All_Images/Test_Fake_frame584.jpg', 'All_Images/Test_Fake_frame585.jpg', 'All_Images/Test_Fake_frame586.jpg', 'All_Images/Test_Fake_frame587.jpg', 'All_Images/Test_Fake_frame588.jpg', 'All_Images/Test_Fake_frame589.jpg', 'All_Images/Test_Fake_frame590.jpg', 'All_Images/Test_Fake_frame591.jpg', 'All_Images/Test_Fake_frame592.jpg', 'All_Images/Test_Fake_frame593.jpg', 'All_Images/Test_Fake_frame594.jpg', 'All_Images/Test_Fake_frame595.jpg', 'All_Images/Test_Fake_frame596.jpg', 'All_Images/Test_Fake_frame597.jpg', 'All_Images/Test_Fake_frame598.jpg', 'All_Images/Test_Fake_frame599.jpg', 'All_Images/Test_Fake_frame600.jpg', 'All_Images/Test_Fake_frame601.jpg', 'All_Images/Test_Fake_frame602.jpg', 'All_Images/Test_Fake_frame603.jpg', 'All_Images/Test_Fake_frame604.jpg', 'All_Images/Test_Fake_frame605.jpg', 'All_Images/Test_Fake_frame606.jpg', 'All_Images/Test_Fake_frame607.jpg', 'All_Images/Test_Fake_frame608.jpg', 'All_Images/Test_Fake_frame609.jpg', 'All_Images/Test_Fake_frame610.jpg', 'All_Images/Test_Fake_frame611.jpg', 'All_Images/Test_Fake_frame612.jpg', 'All_Images/Test_Fake_frame613.jpg', 'All_Images/Test_Fake_frame614.jpg', 'All_Images/Test_Fake_frame615.jpg', 'All_Images/Test_Fake_frame616.jpg', 'All_Images/Test_Fake_frame617.jpg', 'All_Images/Test_Fake_frame618.jpg', 'All_Images/Test_Fake_frame619.jpg', 'All_Images/Test_Fake_frame620.jpg', 'All_Images/Test_Fake_frame621.jpg', 'All_Images/Test_Fake_frame622.jpg', 'All_Images/Test_Fake_frame623.jpg', 'All_Images/Test_Fake_frame624.jpg', 'All_Images/Test_Fake_frame625.jpg', 'All_Images/Test_Fake_frame626.jpg', 'All_Images/Test_Fake_frame627.jpg', 'All_Images/Test_Fake_frame628.jpg', 'All_Images/Test_Fake_frame629.jpg', 'All_Images/Test_Fake_frame630.jpg', 'All_Images/Test_Fake_frame631.jpg', 'All_Images/Test_Fake_frame632.jpg', 'All_Images/Test_Fake_frame633.jpg', 'All_Images/Test_Fake_frame634.jpg', 'All_Images/Test_Fake_frame635.jpg', 'All_Images/Test_Fake_frame636.jpg', 'All_Images/Test_Fake_frame637.jpg', 'All_Images/Test_Fake_frame638.jpg', 'All_Images/Test_Fake_frame639.jpg', 'All_Images/Test_Fake_frame640.jpg', 'All_Images/Test_Fake_frame641.jpg', 'All_Images/Test_Fake_frame642.jpg', 'All_Images/Test_Fake_frame643.jpg', 'All_Images/Test_Fake_frame644.jpg', 'All_Images/Test_Fake_frame645.jpg', 'All_Images/Test_Fake_frame646.jpg', 'All_Images/Test_Fake_frame647.jpg', 'All_Images/Test_Fake_frame648.jpg', 'All_Images/Test_Fake_frame649.jpg', 'All_Images/Test_Fake_frame650.jpg', 'All_Images/Test_Fake_frame651.jpg', 'All_Images/Test_Fake_frame652.jpg', 'All_Images/Test_Fake_frame653.jpg', 'All_Images/Test_Fake_frame654.jpg', 'All_Images/Test_Fake_frame655.jpg', 'All_Images/Test_Fake_frame656.jpg', 'All_Images/Test_Fake_frame657.jpg', 'All_Images/Test_Fake_frame658.jpg', 'All_Images/Test_Fake_frame659.jpg', 'All_Images/Test_Fake_frame660.jpg', 'All_Images/Test_Fake_frame661.jpg', 'All_Images/Test_Fake_frame662.jpg', 'All_Images/Test_Fake_frame663.jpg', 'All_Images/Test_Fake_frame664.jpg', 'All_Images/Test_Fake_frame665.jpg', 'All_Images/Test_Fake_frame666.jpg', 'All_Images/Test_Fake_frame667.jpg']\n",
            "['All_Images/Test_Real_frame0.jpg', 'All_Images/Test_Real_frame1.jpg', 'All_Images/Test_Real_frame2.jpg', 'All_Images/Test_Real_frame3.jpg', 'All_Images/Test_Real_frame4.jpg', 'All_Images/Test_Real_frame5.jpg', 'All_Images/Test_Real_frame6.jpg', 'All_Images/Test_Real_frame7.jpg', 'All_Images/Test_Real_frame8.jpg', 'All_Images/Test_Real_frame9.jpg', 'All_Images/Test_Real_frame10.jpg', 'All_Images/Test_Real_frame11.jpg', 'All_Images/Test_Real_frame12.jpg', 'All_Images/Test_Real_frame13.jpg', 'All_Images/Test_Real_frame14.jpg', 'All_Images/Test_Real_frame15.jpg', 'All_Images/Test_Real_frame16.jpg', 'All_Images/Test_Real_frame17.jpg', 'All_Images/Test_Real_frame18.jpg', 'All_Images/Test_Real_frame19.jpg', 'All_Images/Test_Real_frame20.jpg', 'All_Images/Test_Real_frame21.jpg', 'All_Images/Test_Real_frame22.jpg', 'All_Images/Test_Real_frame23.jpg', 'All_Images/Test_Real_frame24.jpg', 'All_Images/Test_Real_frame25.jpg', 'All_Images/Test_Real_frame26.jpg', 'All_Images/Test_Real_frame27.jpg', 'All_Images/Test_Real_frame28.jpg', 'All_Images/Test_Real_frame29.jpg', 'All_Images/Test_Real_frame30.jpg', 'All_Images/Test_Real_frame31.jpg', 'All_Images/Test_Real_frame32.jpg', 'All_Images/Test_Real_frame33.jpg', 'All_Images/Test_Real_frame34.jpg', 'All_Images/Test_Real_frame35.jpg', 'All_Images/Test_Real_frame36.jpg', 'All_Images/Test_Real_frame37.jpg', 'All_Images/Test_Real_frame38.jpg', 'All_Images/Test_Real_frame39.jpg', 'All_Images/Test_Real_frame40.jpg', 'All_Images/Test_Real_frame41.jpg', 'All_Images/Test_Real_frame42.jpg', 'All_Images/Test_Real_frame43.jpg', 'All_Images/Test_Real_frame44.jpg', 'All_Images/Test_Real_frame45.jpg', 'All_Images/Test_Real_frame46.jpg', 'All_Images/Test_Real_frame47.jpg', 'All_Images/Test_Real_frame48.jpg', 'All_Images/Test_Real_frame49.jpg', 'All_Images/Test_Real_frame50.jpg', 'All_Images/Test_Real_frame51.jpg', 'All_Images/Test_Real_frame52.jpg', 'All_Images/Test_Real_frame53.jpg', 'All_Images/Test_Real_frame54.jpg', 'All_Images/Test_Real_frame55.jpg', 'All_Images/Test_Real_frame56.jpg', 'All_Images/Test_Real_frame57.jpg', 'All_Images/Test_Real_frame58.jpg', 'All_Images/Test_Real_frame59.jpg', 'All_Images/Test_Real_frame60.jpg', 'All_Images/Test_Real_frame61.jpg', 'All_Images/Test_Real_frame62.jpg', 'All_Images/Test_Real_frame63.jpg', 'All_Images/Test_Real_frame64.jpg', 'All_Images/Test_Real_frame65.jpg', 'All_Images/Test_Real_frame66.jpg', 'All_Images/Test_Real_frame67.jpg', 'All_Images/Test_Real_frame68.jpg', 'All_Images/Test_Real_frame69.jpg', 'All_Images/Test_Real_frame70.jpg', 'All_Images/Test_Real_frame71.jpg', 'All_Images/Test_Real_frame72.jpg', 'All_Images/Test_Real_frame73.jpg', 'All_Images/Test_Real_frame74.jpg', 'All_Images/Test_Real_frame75.jpg', 'All_Images/Test_Real_frame76.jpg', 'All_Images/Test_Real_frame77.jpg', 'All_Images/Test_Real_frame78.jpg', 'All_Images/Test_Real_frame79.jpg', 'All_Images/Test_Real_frame80.jpg', 'All_Images/Test_Real_frame81.jpg', 'All_Images/Test_Real_frame82.jpg', 'All_Images/Test_Real_frame83.jpg', 'All_Images/Test_Real_frame84.jpg', 'All_Images/Test_Real_frame85.jpg', 'All_Images/Test_Real_frame86.jpg', 'All_Images/Test_Real_frame87.jpg', 'All_Images/Test_Real_frame88.jpg', 'All_Images/Test_Real_frame89.jpg', 'All_Images/Test_Real_frame90.jpg', 'All_Images/Test_Real_frame91.jpg', 'All_Images/Test_Real_frame92.jpg', 'All_Images/Test_Real_frame93.jpg', 'All_Images/Test_Real_frame94.jpg', 'All_Images/Test_Real_frame95.jpg', 'All_Images/Test_Real_frame96.jpg', 'All_Images/Test_Real_frame97.jpg', 'All_Images/Test_Real_frame98.jpg', 'All_Images/Test_Real_frame99.jpg', 'All_Images/Test_Real_frame100.jpg', 'All_Images/Test_Real_frame101.jpg', 'All_Images/Test_Real_frame102.jpg', 'All_Images/Test_Real_frame103.jpg', 'All_Images/Test_Real_frame104.jpg', 'All_Images/Test_Real_frame105.jpg', 'All_Images/Test_Real_frame106.jpg', 'All_Images/Test_Real_frame107.jpg', 'All_Images/Test_Real_frame108.jpg', 'All_Images/Test_Real_frame109.jpg', 'All_Images/Test_Real_frame110.jpg', 'All_Images/Test_Real_frame111.jpg', 'All_Images/Test_Real_frame112.jpg', 'All_Images/Test_Real_frame113.jpg', 'All_Images/Test_Real_frame114.jpg', 'All_Images/Test_Real_frame115.jpg', 'All_Images/Test_Real_frame116.jpg', 'All_Images/Test_Real_frame117.jpg', 'All_Images/Test_Real_frame118.jpg', 'All_Images/Test_Real_frame119.jpg', 'All_Images/Test_Real_frame120.jpg', 'All_Images/Test_Real_frame121.jpg', 'All_Images/Test_Real_frame122.jpg', 'All_Images/Test_Real_frame123.jpg', 'All_Images/Test_Real_frame124.jpg', 'All_Images/Test_Real_frame125.jpg', 'All_Images/Test_Real_frame126.jpg', 'All_Images/Test_Real_frame127.jpg', 'All_Images/Test_Real_frame128.jpg', 'All_Images/Test_Real_frame129.jpg', 'All_Images/Test_Real_frame130.jpg', 'All_Images/Test_Real_frame131.jpg', 'All_Images/Test_Real_frame132.jpg', 'All_Images/Test_Real_frame133.jpg', 'All_Images/Test_Real_frame134.jpg', 'All_Images/Test_Real_frame135.jpg', 'All_Images/Test_Real_frame136.jpg', 'All_Images/Test_Real_frame137.jpg', 'All_Images/Test_Real_frame138.jpg', 'All_Images/Test_Real_frame139.jpg', 'All_Images/Test_Real_frame140.jpg', 'All_Images/Test_Real_frame141.jpg', 'All_Images/Test_Real_frame142.jpg', 'All_Images/Test_Real_frame143.jpg', 'All_Images/Test_Real_frame144.jpg', 'All_Images/Test_Real_frame145.jpg', 'All_Images/Test_Real_frame146.jpg', 'All_Images/Test_Real_frame147.jpg', 'All_Images/Test_Real_frame148.jpg', 'All_Images/Test_Real_frame149.jpg', 'All_Images/Test_Real_frame150.jpg', 'All_Images/Test_Real_frame151.jpg', 'All_Images/Test_Real_frame152.jpg', 'All_Images/Test_Real_frame153.jpg', 'All_Images/Test_Real_frame154.jpg', 'All_Images/Test_Real_frame155.jpg', 'All_Images/Test_Real_frame156.jpg', 'All_Images/Test_Real_frame157.jpg', 'All_Images/Test_Real_frame158.jpg', 'All_Images/Test_Real_frame159.jpg', 'All_Images/Test_Real_frame160.jpg', 'All_Images/Test_Real_frame161.jpg', 'All_Images/Test_Real_frame162.jpg', 'All_Images/Test_Real_frame163.jpg', 'All_Images/Test_Real_frame164.jpg', 'All_Images/Test_Real_frame165.jpg', 'All_Images/Test_Real_frame166.jpg', 'All_Images/Test_Real_frame167.jpg', 'All_Images/Test_Real_frame168.jpg', 'All_Images/Test_Real_frame169.jpg', 'All_Images/Test_Real_frame170.jpg', 'All_Images/Test_Real_frame171.jpg', 'All_Images/Test_Real_frame172.jpg', 'All_Images/Test_Real_frame173.jpg', 'All_Images/Test_Real_frame174.jpg', 'All_Images/Test_Real_frame175.jpg', 'All_Images/Test_Real_frame176.jpg', 'All_Images/Test_Real_frame177.jpg', 'All_Images/Test_Real_frame178.jpg', 'All_Images/Test_Real_frame179.jpg', 'All_Images/Test_Real_frame180.jpg', 'All_Images/Test_Real_frame181.jpg', 'All_Images/Test_Real_frame182.jpg', 'All_Images/Test_Real_frame183.jpg', 'All_Images/Test_Real_frame184.jpg', 'All_Images/Test_Real_frame185.jpg', 'All_Images/Test_Real_frame186.jpg', 'All_Images/Test_Real_frame187.jpg', 'All_Images/Test_Real_frame188.jpg', 'All_Images/Test_Real_frame189.jpg', 'All_Images/Test_Real_frame190.jpg', 'All_Images/Test_Real_frame191.jpg', 'All_Images/Test_Real_frame192.jpg', 'All_Images/Test_Real_frame193.jpg', 'All_Images/Test_Real_frame194.jpg', 'All_Images/Test_Real_frame195.jpg', 'All_Images/Test_Real_frame196.jpg', 'All_Images/Test_Real_frame197.jpg', 'All_Images/Test_Real_frame198.jpg', 'All_Images/Test_Real_frame199.jpg', 'All_Images/Test_Real_frame200.jpg', 'All_Images/Test_Real_frame201.jpg', 'All_Images/Test_Real_frame202.jpg', 'All_Images/Test_Real_frame203.jpg', 'All_Images/Test_Real_frame204.jpg', 'All_Images/Test_Real_frame205.jpg', 'All_Images/Test_Real_frame206.jpg', 'All_Images/Test_Real_frame207.jpg', 'All_Images/Test_Real_frame208.jpg', 'All_Images/Test_Real_frame209.jpg', 'All_Images/Test_Real_frame210.jpg', 'All_Images/Test_Real_frame211.jpg', 'All_Images/Test_Real_frame212.jpg', 'All_Images/Test_Real_frame213.jpg', 'All_Images/Test_Real_frame214.jpg', 'All_Images/Test_Real_frame215.jpg', 'All_Images/Test_Real_frame216.jpg', 'All_Images/Test_Real_frame217.jpg', 'All_Images/Test_Real_frame218.jpg', 'All_Images/Test_Real_frame219.jpg', 'All_Images/Test_Real_frame220.jpg', 'All_Images/Test_Real_frame221.jpg', 'All_Images/Test_Real_frame222.jpg', 'All_Images/Test_Real_frame223.jpg', 'All_Images/Test_Real_frame224.jpg', 'All_Images/Test_Real_frame225.jpg', 'All_Images/Test_Real_frame226.jpg', 'All_Images/Test_Real_frame227.jpg', 'All_Images/Test_Real_frame228.jpg', 'All_Images/Test_Real_frame229.jpg', 'All_Images/Test_Real_frame230.jpg', 'All_Images/Test_Real_frame231.jpg', 'All_Images/Test_Real_frame232.jpg', 'All_Images/Test_Real_frame233.jpg', 'All_Images/Test_Real_frame234.jpg', 'All_Images/Test_Real_frame235.jpg', 'All_Images/Test_Real_frame236.jpg', 'All_Images/Test_Real_frame237.jpg', 'All_Images/Test_Real_frame238.jpg', 'All_Images/Test_Real_frame239.jpg', 'All_Images/Test_Real_frame240.jpg', 'All_Images/Test_Real_frame241.jpg', 'All_Images/Test_Real_frame242.jpg', 'All_Images/Test_Real_frame243.jpg', 'All_Images/Test_Real_frame244.jpg', 'All_Images/Test_Real_frame245.jpg', 'All_Images/Test_Real_frame246.jpg', 'All_Images/Test_Real_frame247.jpg', 'All_Images/Test_Real_frame248.jpg', 'All_Images/Test_Real_frame249.jpg', 'All_Images/Test_Real_frame250.jpg', 'All_Images/Test_Real_frame251.jpg', 'All_Images/Test_Real_frame252.jpg', 'All_Images/Test_Real_frame253.jpg', 'All_Images/Test_Real_frame254.jpg', 'All_Images/Test_Real_frame255.jpg', 'All_Images/Test_Real_frame256.jpg', 'All_Images/Test_Real_frame257.jpg', 'All_Images/Test_Real_frame258.jpg', 'All_Images/Test_Real_frame259.jpg', 'All_Images/Test_Real_frame260.jpg', 'All_Images/Test_Real_frame261.jpg', 'All_Images/Test_Real_frame262.jpg', 'All_Images/Test_Real_frame263.jpg', 'All_Images/Test_Real_frame264.jpg', 'All_Images/Test_Real_frame265.jpg', 'All_Images/Test_Real_frame266.jpg', 'All_Images/Test_Real_frame267.jpg', 'All_Images/Test_Real_frame268.jpg', 'All_Images/Test_Real_frame269.jpg', 'All_Images/Test_Real_frame270.jpg', 'All_Images/Test_Real_frame271.jpg', 'All_Images/Test_Real_frame272.jpg', 'All_Images/Test_Real_frame273.jpg', 'All_Images/Test_Real_frame274.jpg', 'All_Images/Test_Real_frame275.jpg', 'All_Images/Test_Real_frame276.jpg', 'All_Images/Test_Real_frame277.jpg', 'All_Images/Test_Real_frame278.jpg', 'All_Images/Test_Real_frame279.jpg', 'All_Images/Test_Real_frame280.jpg', 'All_Images/Test_Real_frame281.jpg', 'All_Images/Test_Real_frame282.jpg', 'All_Images/Test_Real_frame283.jpg', 'All_Images/Test_Real_frame284.jpg', 'All_Images/Test_Real_frame285.jpg', 'All_Images/Test_Real_frame286.jpg', 'All_Images/Test_Real_frame287.jpg', 'All_Images/Test_Real_frame288.jpg', 'All_Images/Test_Real_frame289.jpg', 'All_Images/Test_Real_frame290.jpg', 'All_Images/Test_Real_frame291.jpg', 'All_Images/Test_Real_frame292.jpg', 'All_Images/Test_Real_frame293.jpg', 'All_Images/Test_Real_frame294.jpg', 'All_Images/Test_Real_frame295.jpg', 'All_Images/Test_Real_frame296.jpg', 'All_Images/Test_Real_frame297.jpg', 'All_Images/Test_Real_frame298.jpg', 'All_Images/Test_Real_frame299.jpg', 'All_Images/Test_Real_frame300.jpg', 'All_Images/Test_Real_frame301.jpg', 'All_Images/Test_Real_frame302.jpg', 'All_Images/Test_Real_frame303.jpg', 'All_Images/Test_Real_frame304.jpg', 'All_Images/Test_Real_frame305.jpg', 'All_Images/Test_Real_frame306.jpg', 'All_Images/Test_Real_frame307.jpg', 'All_Images/Test_Real_frame308.jpg', 'All_Images/Test_Real_frame309.jpg', 'All_Images/Test_Real_frame310.jpg', 'All_Images/Test_Real_frame311.jpg', 'All_Images/Test_Real_frame312.jpg', 'All_Images/Test_Real_frame313.jpg', 'All_Images/Test_Real_frame314.jpg', 'All_Images/Test_Real_frame315.jpg', 'All_Images/Test_Real_frame316.jpg', 'All_Images/Test_Real_frame317.jpg', 'All_Images/Test_Real_frame318.jpg', 'All_Images/Test_Real_frame319.jpg', 'All_Images/Test_Real_frame320.jpg', 'All_Images/Test_Real_frame321.jpg', 'All_Images/Test_Real_frame322.jpg', 'All_Images/Test_Real_frame323.jpg', 'All_Images/Test_Real_frame324.jpg', 'All_Images/Test_Real_frame325.jpg', 'All_Images/Test_Real_frame326.jpg', 'All_Images/Test_Real_frame327.jpg', 'All_Images/Test_Real_frame328.jpg', 'All_Images/Test_Real_frame329.jpg', 'All_Images/Test_Real_frame330.jpg', 'All_Images/Test_Real_frame331.jpg', 'All_Images/Test_Real_frame332.jpg', 'All_Images/Test_Real_frame333.jpg', 'All_Images/Test_Real_frame334.jpg', 'All_Images/Test_Real_frame335.jpg', 'All_Images/Test_Real_frame336.jpg', 'All_Images/Test_Real_frame337.jpg', 'All_Images/Test_Real_frame338.jpg', 'All_Images/Test_Real_frame339.jpg', 'All_Images/Test_Real_frame340.jpg', 'All_Images/Test_Real_frame341.jpg', 'All_Images/Test_Real_frame342.jpg', 'All_Images/Test_Real_frame343.jpg', 'All_Images/Test_Real_frame344.jpg', 'All_Images/Test_Real_frame345.jpg', 'All_Images/Test_Real_frame346.jpg', 'All_Images/Test_Real_frame347.jpg', 'All_Images/Test_Real_frame348.jpg', 'All_Images/Test_Real_frame349.jpg', 'All_Images/Test_Real_frame350.jpg', 'All_Images/Test_Real_frame351.jpg', 'All_Images/Test_Real_frame352.jpg', 'All_Images/Test_Real_frame353.jpg', 'All_Images/Test_Real_frame354.jpg', 'All_Images/Test_Real_frame355.jpg', 'All_Images/Test_Real_frame356.jpg', 'All_Images/Test_Real_frame357.jpg', 'All_Images/Test_Real_frame358.jpg', 'All_Images/Test_Real_frame359.jpg', 'All_Images/Test_Real_frame360.jpg', 'All_Images/Test_Real_frame361.jpg', 'All_Images/Test_Real_frame362.jpg', 'All_Images/Test_Real_frame363.jpg', 'All_Images/Test_Real_frame364.jpg', 'All_Images/Test_Real_frame365.jpg', 'All_Images/Test_Real_frame366.jpg', 'All_Images/Test_Real_frame367.jpg', 'All_Images/Test_Real_frame368.jpg', 'All_Images/Test_Real_frame369.jpg', 'All_Images/Test_Real_frame370.jpg', 'All_Images/Test_Real_frame371.jpg', 'All_Images/Test_Real_frame372.jpg', 'All_Images/Test_Real_frame373.jpg', 'All_Images/Test_Real_frame374.jpg', 'All_Images/Test_Real_frame375.jpg', 'All_Images/Test_Real_frame376.jpg', 'All_Images/Test_Real_frame377.jpg', 'All_Images/Test_Real_frame378.jpg', 'All_Images/Test_Real_frame379.jpg', 'All_Images/Test_Real_frame380.jpg', 'All_Images/Test_Real_frame381.jpg', 'All_Images/Test_Real_frame382.jpg', 'All_Images/Test_Real_frame383.jpg', 'All_Images/Test_Real_frame384.jpg', 'All_Images/Test_Real_frame385.jpg', 'All_Images/Test_Real_frame386.jpg', 'All_Images/Test_Real_frame387.jpg', 'All_Images/Test_Real_frame388.jpg', 'All_Images/Test_Real_frame389.jpg', 'All_Images/Test_Real_frame390.jpg', 'All_Images/Test_Real_frame391.jpg', 'All_Images/Test_Real_frame392.jpg', 'All_Images/Test_Real_frame393.jpg', 'All_Images/Test_Real_frame394.jpg', 'All_Images/Test_Real_frame395.jpg', 'All_Images/Test_Real_frame396.jpg', 'All_Images/Test_Real_frame397.jpg', 'All_Images/Test_Real_frame398.jpg', 'All_Images/Test_Real_frame399.jpg', 'All_Images/Test_Real_frame400.jpg', 'All_Images/Test_Real_frame401.jpg', 'All_Images/Test_Real_frame402.jpg', 'All_Images/Test_Real_frame403.jpg', 'All_Images/Test_Real_frame404.jpg', 'All_Images/Test_Real_frame405.jpg', 'All_Images/Test_Real_frame406.jpg', 'All_Images/Test_Real_frame407.jpg', 'All_Images/Test_Real_frame408.jpg', 'All_Images/Test_Real_frame409.jpg', 'All_Images/Test_Real_frame410.jpg', 'All_Images/Test_Real_frame411.jpg', 'All_Images/Test_Real_frame412.jpg', 'All_Images/Test_Real_frame413.jpg', 'All_Images/Test_Real_frame414.jpg', 'All_Images/Test_Real_frame415.jpg', 'All_Images/Test_Real_frame416.jpg', 'All_Images/Test_Real_frame417.jpg', 'All_Images/Test_Real_frame418.jpg', 'All_Images/Test_Real_frame419.jpg', 'All_Images/Test_Real_frame420.jpg', 'All_Images/Test_Real_frame421.jpg', 'All_Images/Test_Real_frame422.jpg', 'All_Images/Test_Real_frame423.jpg', 'All_Images/Test_Real_frame424.jpg', 'All_Images/Test_Real_frame425.jpg', 'All_Images/Test_Real_frame426.jpg', 'All_Images/Test_Real_frame427.jpg', 'All_Images/Test_Real_frame428.jpg', 'All_Images/Test_Real_frame429.jpg', 'All_Images/Test_Real_frame430.jpg', 'All_Images/Test_Real_frame431.jpg', 'All_Images/Test_Real_frame432.jpg', 'All_Images/Test_Real_frame433.jpg', 'All_Images/Test_Real_frame434.jpg', 'All_Images/Test_Real_frame435.jpg', 'All_Images/Test_Real_frame436.jpg', 'All_Images/Test_Real_frame437.jpg', 'All_Images/Test_Real_frame438.jpg', 'All_Images/Test_Real_frame439.jpg', 'All_Images/Test_Real_frame440.jpg', 'All_Images/Test_Real_frame441.jpg', 'All_Images/Test_Real_frame442.jpg', 'All_Images/Test_Real_frame443.jpg', 'All_Images/Test_Real_frame444.jpg', 'All_Images/Test_Real_frame445.jpg', 'All_Images/Test_Real_frame446.jpg', 'All_Images/Test_Real_frame447.jpg', 'All_Images/Test_Real_frame448.jpg', 'All_Images/Test_Real_frame449.jpg', 'All_Images/Test_Real_frame450.jpg', 'All_Images/Test_Real_frame451.jpg', 'All_Images/Test_Real_frame452.jpg', 'All_Images/Test_Real_frame453.jpg', 'All_Images/Test_Real_frame454.jpg', 'All_Images/Test_Real_frame455.jpg', 'All_Images/Test_Real_frame456.jpg', 'All_Images/Test_Real_frame457.jpg', 'All_Images/Test_Real_frame458.jpg', 'All_Images/Test_Real_frame459.jpg', 'All_Images/Test_Real_frame460.jpg', 'All_Images/Test_Real_frame461.jpg', 'All_Images/Test_Real_frame462.jpg', 'All_Images/Test_Real_frame463.jpg', 'All_Images/Test_Real_frame464.jpg', 'All_Images/Test_Real_frame465.jpg', 'All_Images/Test_Real_frame466.jpg', 'All_Images/Test_Real_frame467.jpg', 'All_Images/Test_Real_frame468.jpg', 'All_Images/Test_Real_frame469.jpg', 'All_Images/Test_Real_frame470.jpg', 'All_Images/Test_Real_frame471.jpg', 'All_Images/Test_Real_frame472.jpg', 'All_Images/Test_Real_frame473.jpg', 'All_Images/Test_Real_frame474.jpg', 'All_Images/Test_Real_frame475.jpg', 'All_Images/Test_Real_frame476.jpg', 'All_Images/Test_Real_frame477.jpg', 'All_Images/Test_Real_frame478.jpg', 'All_Images/Test_Real_frame479.jpg', 'All_Images/Test_Real_frame480.jpg', 'All_Images/Test_Real_frame481.jpg', 'All_Images/Test_Real_frame482.jpg', 'All_Images/Test_Real_frame483.jpg', 'All_Images/Test_Real_frame484.jpg', 'All_Images/Test_Real_frame485.jpg', 'All_Images/Test_Real_frame486.jpg', 'All_Images/Test_Real_frame487.jpg', 'All_Images/Test_Real_frame488.jpg', 'All_Images/Test_Real_frame489.jpg', 'All_Images/Test_Real_frame490.jpg', 'All_Images/Test_Real_frame491.jpg', 'All_Images/Test_Real_frame492.jpg', 'All_Images/Test_Real_frame493.jpg', 'All_Images/Test_Real_frame494.jpg', 'All_Images/Test_Real_frame495.jpg', 'All_Images/Test_Real_frame496.jpg', 'All_Images/Test_Real_frame497.jpg', 'All_Images/Test_Real_frame498.jpg', 'All_Images/Test_Real_frame499.jpg', 'All_Images/Test_Real_frame500.jpg', 'All_Images/Test_Real_frame501.jpg', 'All_Images/Test_Real_frame502.jpg', 'All_Images/Test_Real_frame503.jpg', 'All_Images/Test_Real_frame504.jpg', 'All_Images/Test_Real_frame505.jpg', 'All_Images/Test_Real_frame506.jpg', 'All_Images/Test_Real_frame507.jpg', 'All_Images/Test_Real_frame508.jpg', 'All_Images/Test_Real_frame509.jpg', 'All_Images/Test_Real_frame510.jpg', 'All_Images/Test_Real_frame511.jpg', 'All_Images/Test_Real_frame512.jpg', 'All_Images/Test_Real_frame513.jpg', 'All_Images/Test_Real_frame514.jpg', 'All_Images/Test_Real_frame515.jpg', 'All_Images/Test_Real_frame516.jpg', 'All_Images/Test_Real_frame517.jpg', 'All_Images/Test_Real_frame518.jpg', 'All_Images/Test_Real_frame519.jpg', 'All_Images/Test_Real_frame520.jpg', 'All_Images/Test_Real_frame521.jpg', 'All_Images/Test_Real_frame522.jpg', 'All_Images/Test_Real_frame523.jpg', 'All_Images/Test_Real_frame524.jpg', 'All_Images/Test_Real_frame525.jpg', 'All_Images/Test_Real_frame526.jpg', 'All_Images/Test_Real_frame527.jpg', 'All_Images/Test_Real_frame528.jpg', 'All_Images/Test_Real_frame529.jpg', 'All_Images/Test_Real_frame530.jpg', 'All_Images/Test_Real_frame531.jpg', 'All_Images/Test_Real_frame532.jpg', 'All_Images/Test_Real_frame533.jpg', 'All_Images/Test_Real_frame534.jpg', 'All_Images/Test_Real_frame535.jpg', 'All_Images/Test_Real_frame536.jpg', 'All_Images/Test_Real_frame537.jpg', 'All_Images/Test_Real_frame538.jpg', 'All_Images/Test_Real_frame539.jpg', 'All_Images/Test_Real_frame540.jpg', 'All_Images/Test_Real_frame541.jpg', 'All_Images/Test_Real_frame542.jpg', 'All_Images/Test_Real_frame543.jpg', 'All_Images/Test_Real_frame544.jpg', 'All_Images/Test_Real_frame545.jpg', 'All_Images/Test_Real_frame546.jpg', 'All_Images/Test_Real_frame547.jpg', 'All_Images/Test_Real_frame548.jpg', 'All_Images/Test_Real_frame549.jpg', 'All_Images/Test_Real_frame550.jpg', 'All_Images/Test_Real_frame551.jpg', 'All_Images/Test_Real_frame552.jpg', 'All_Images/Test_Real_frame553.jpg', 'All_Images/Test_Real_frame554.jpg', 'All_Images/Test_Real_frame555.jpg', 'All_Images/Test_Real_frame556.jpg', 'All_Images/Test_Real_frame557.jpg', 'All_Images/Test_Real_frame558.jpg', 'All_Images/Test_Real_frame559.jpg', 'All_Images/Test_Real_frame560.jpg', 'All_Images/Test_Real_frame561.jpg', 'All_Images/Test_Real_frame562.jpg', 'All_Images/Test_Real_frame563.jpg', 'All_Images/Test_Real_frame564.jpg', 'All_Images/Test_Real_frame565.jpg', 'All_Images/Test_Real_frame566.jpg', 'All_Images/Test_Real_frame567.jpg', 'All_Images/Test_Real_frame568.jpg', 'All_Images/Test_Real_frame569.jpg', 'All_Images/Test_Real_frame570.jpg', 'All_Images/Test_Real_frame571.jpg', 'All_Images/Test_Real_frame572.jpg', 'All_Images/Test_Real_frame573.jpg', 'All_Images/Test_Real_frame574.jpg', 'All_Images/Test_Real_frame575.jpg', 'All_Images/Test_Real_frame576.jpg', 'All_Images/Test_Real_frame577.jpg', 'All_Images/Test_Real_frame578.jpg', 'All_Images/Test_Real_frame579.jpg', 'All_Images/Test_Real_frame580.jpg', 'All_Images/Test_Real_frame581.jpg', 'All_Images/Test_Real_frame582.jpg', 'All_Images/Test_Real_frame583.jpg', 'All_Images/Test_Real_frame584.jpg', 'All_Images/Test_Real_frame585.jpg', 'All_Images/Test_Real_frame586.jpg', 'All_Images/Test_Real_frame587.jpg', 'All_Images/Test_Real_frame588.jpg', 'All_Images/Test_Real_frame589.jpg', 'All_Images/Test_Real_frame590.jpg', 'All_Images/Test_Real_frame591.jpg', 'All_Images/Test_Real_frame592.jpg', 'All_Images/Test_Real_frame593.jpg', 'All_Images/Test_Real_frame594.jpg', 'All_Images/Test_Real_frame595.jpg', 'All_Images/Test_Real_frame596.jpg', 'All_Images/Test_Real_frame597.jpg', 'All_Images/Test_Real_frame598.jpg', 'All_Images/Test_Real_frame599.jpg', 'All_Images/Test_Real_frame600.jpg', 'All_Images/Test_Real_frame601.jpg', 'All_Images/Test_Real_frame602.jpg', 'All_Images/Test_Real_frame603.jpg', 'All_Images/Test_Real_frame604.jpg', 'All_Images/Test_Real_frame605.jpg', 'All_Images/Test_Real_frame606.jpg', 'All_Images/Test_Real_frame607.jpg', 'All_Images/Test_Real_frame608.jpg', 'All_Images/Test_Real_frame609.jpg', 'All_Images/Test_Real_frame610.jpg', 'All_Images/Test_Real_frame611.jpg', 'All_Images/Test_Real_frame612.jpg', 'All_Images/Test_Real_frame613.jpg', 'All_Images/Test_Real_frame614.jpg', 'All_Images/Test_Real_frame615.jpg', 'All_Images/Test_Real_frame616.jpg', 'All_Images/Test_Real_frame617.jpg', 'All_Images/Test_Real_frame618.jpg', 'All_Images/Test_Real_frame619.jpg', 'All_Images/Test_Real_frame620.jpg', 'All_Images/Test_Real_frame621.jpg', 'All_Images/Test_Real_frame622.jpg', 'All_Images/Test_Real_frame623.jpg', 'All_Images/Test_Real_frame624.jpg', 'All_Images/Test_Real_frame625.jpg', 'All_Images/Test_Real_frame626.jpg', 'All_Images/Test_Real_frame627.jpg', 'All_Images/Test_Real_frame628.jpg', 'All_Images/Test_Real_frame629.jpg', 'All_Images/Test_Real_frame630.jpg', 'All_Images/Test_Real_frame631.jpg', 'All_Images/Test_Real_frame632.jpg', 'All_Images/Test_Real_frame633.jpg', 'All_Images/Test_Real_frame634.jpg', 'All_Images/Test_Real_frame635.jpg', 'All_Images/Test_Real_frame636.jpg', 'All_Images/Test_Real_frame637.jpg', 'All_Images/Test_Real_frame638.jpg', 'All_Images/Test_Real_frame639.jpg', 'All_Images/Test_Real_frame640.jpg', 'All_Images/Test_Real_frame641.jpg', 'All_Images/Test_Real_frame642.jpg', 'All_Images/Test_Real_frame643.jpg', 'All_Images/Test_Real_frame644.jpg', 'All_Images/Test_Real_frame645.jpg', 'All_Images/Test_Real_frame646.jpg', 'All_Images/Test_Real_frame647.jpg', 'All_Images/Test_Real_frame648.jpg', 'All_Images/Test_Real_frame649.jpg', 'All_Images/Test_Real_frame650.jpg', 'All_Images/Test_Real_frame651.jpg', 'All_Images/Test_Real_frame652.jpg', 'All_Images/Test_Real_frame653.jpg', 'All_Images/Test_Real_frame654.jpg', 'All_Images/Test_Real_frame655.jpg', 'All_Images/Test_Real_frame656.jpg', 'All_Images/Test_Real_frame657.jpg', 'All_Images/Test_Real_frame658.jpg', 'All_Images/Test_Real_frame659.jpg', 'All_Images/Test_Real_frame660.jpg', 'All_Images/Test_Real_frame661.jpg', 'All_Images/Test_Real_frame662.jpg', 'All_Images/Test_Real_frame663.jpg', 'All_Images/Test_Real_frame664.jpg', 'All_Images/Test_Real_frame665.jpg', 'All_Images/Test_Real_frame666.jpg', 'All_Images/Test_Real_frame667.jpg', 'All_Images/Test_Real_frame668.jpg', 'All_Images/Test_Real_frame669.jpg', 'All_Images/Test_Real_frame670.jpg', 'All_Images/Test_Real_frame671.jpg', 'All_Images/Test_Real_frame672.jpg', 'All_Images/Test_Real_frame673.jpg', 'All_Images/Test_Real_frame674.jpg', 'All_Images/Test_Real_frame675.jpg', 'All_Images/Test_Real_frame676.jpg', 'All_Images/Test_Real_frame677.jpg', 'All_Images/Test_Real_frame678.jpg', 'All_Images/Test_Real_frame679.jpg', 'All_Images/Test_Real_frame680.jpg', 'All_Images/Test_Real_frame681.jpg', 'All_Images/Test_Real_frame682.jpg', 'All_Images/Test_Real_frame683.jpg', 'All_Images/Test_Real_frame684.jpg', 'All_Images/Test_Real_frame685.jpg', 'All_Images/Test_Real_frame686.jpg', 'All_Images/Test_Real_frame687.jpg', 'All_Images/Test_Real_frame688.jpg', 'All_Images/Test_Real_frame689.jpg', 'All_Images/Test_Real_frame690.jpg', 'All_Images/Test_Real_frame691.jpg', 'All_Images/Test_Real_frame692.jpg', 'All_Images/Test_Real_frame693.jpg', 'All_Images/Test_Real_frame694.jpg', 'All_Images/Test_Real_frame695.jpg', 'All_Images/Test_Real_frame696.jpg', 'All_Images/Test_Real_frame697.jpg', 'All_Images/Test_Real_frame698.jpg', 'All_Images/Test_Real_frame699.jpg', 'All_Images/Test_Real_frame700.jpg', 'All_Images/Test_Real_frame701.jpg', 'All_Images/Test_Real_frame702.jpg', 'All_Images/Test_Real_frame703.jpg', 'All_Images/Test_Real_frame704.jpg', 'All_Images/Test_Real_frame705.jpg', 'All_Images/Test_Real_frame706.jpg', 'All_Images/Test_Real_frame707.jpg', 'All_Images/Test_Real_frame708.jpg', 'All_Images/Test_Real_frame709.jpg', 'All_Images/Test_Real_frame710.jpg', 'All_Images/Test_Real_frame711.jpg', 'All_Images/Test_Real_frame712.jpg', 'All_Images/Test_Real_frame713.jpg', 'All_Images/Test_Real_frame714.jpg', 'All_Images/Test_Real_frame715.jpg', 'All_Images/Test_Real_frame716.jpg', 'All_Images/Test_Real_frame717.jpg', 'All_Images/Test_Real_frame718.jpg', 'All_Images/Test_Real_frame719.jpg', 'All_Images/Test_Real_frame720.jpg', 'All_Images/Test_Real_frame721.jpg', 'All_Images/Test_Real_frame722.jpg', 'All_Images/Test_Real_frame723.jpg', 'All_Images/Test_Real_frame724.jpg', 'All_Images/Test_Real_frame725.jpg', 'All_Images/Test_Real_frame726.jpg', 'All_Images/Test_Real_frame727.jpg', 'All_Images/Test_Real_frame728.jpg', 'All_Images/Test_Real_frame729.jpg', 'All_Images/Test_Real_frame730.jpg', 'All_Images/Test_Real_frame731.jpg', 'All_Images/Test_Real_frame732.jpg', 'All_Images/Test_Real_frame733.jpg', 'All_Images/Test_Real_frame734.jpg']\n"
          ],
          "name": "stdout"
        }
      ]
    },
    {
      "cell_type": "markdown",
      "metadata": {
        "id": "LdWwyWm4fa_A"
      },
      "source": [
        "# MediaPipe"
      ]
    },
    {
      "cell_type": "code",
      "metadata": {
        "colab": {
          "base_uri": "https://localhost:8080/"
        },
        "id": "eUpBXrkIfcgO",
        "outputId": "341e6a4e-7c4a-4f2c-ad77-c72d942e9420"
      },
      "source": [
        "mp_face_detection = mp.solutions.face_detection\n",
        "mp_drawing = mp.solutions.drawing_utils\n",
        "\n",
        "mp_face_detection"
      ],
      "execution_count": 10,
      "outputs": [
        {
          "output_type": "execute_result",
          "data": {
            "text/plain": [
              "<module 'mediapipe.python.solutions.face_detection' from '/usr/local/lib/python3.7/dist-packages/mediapipe/python/solutions/face_detection.py'>"
            ]
          },
          "metadata": {
            "tags": []
          },
          "execution_count": 10
        }
      ]
    },
    {
      "cell_type": "code",
      "metadata": {
        "id": "8Mia6Xf_fekO"
      },
      "source": [
        "def faceDetect_MediaPipe(type_dataset,label,imgPath,frame):\n",
        "  # For static images:\n",
        "  count=0\n",
        "  processedImagePath_mediapipe=[]\n",
        "\n",
        "  j = 0\n",
        "  k = 0\n",
        "\n",
        "\n",
        "  with mp_face_detection.FaceDetection(\n",
        "      min_detection_confidence=0.5) as face_detection:\n",
        "\n",
        "    for i in range(len(imgPath)):\n",
        "\n",
        "      if(type_dataset != \"Train\"):\n",
        "         if(j > frame[k]):\n",
        "           k += 1\n",
        "           j = 0\n",
        "\n",
        "      file = imgPath[i]\n",
        "\n",
        "      image = PIL.Image.open(file)\n",
        "      d1, d2 = image.size\n",
        "      \n",
        "      image = cv2.imread(file)\n",
        "      \n",
        "\n",
        "      # Convert the BGR image to RGB and process it with MediaPipe Face Detection.\n",
        "      results = face_detection.process(cv2.cvtColor(image, cv2.COLOR_BGR2RGB))\n",
        "\n",
        "      # Draw face detections of each face.\n",
        "      if not results.detections:\n",
        "        if(type_dataset != \"Train\"):\n",
        "            frame[k] -=1\n",
        "        continue\n",
        "      annotated_image = image.copy()\n",
        "      \n",
        "      for detection in results.detections:\n",
        "        \n",
        "        \n",
        "        \n",
        "        x,y,w,h = detection.location_data.relative_bounding_box.xmin,detection.location_data.relative_bounding_box.ymin,detection.location_data.relative_bounding_box.width,detection.location_data.relative_bounding_box.height\n",
        "        x,y,w,h = int(x*d1),int(y*d2),int(w*d1),int(h*d2)\n",
        "        crop_img = annotated_image[y:y+h, x:x+w]\n",
        "        resize_face = cv2.resize(crop_img,(64, 64), interpolation=cv2.INTER_CUBIC)\n",
        "        \n",
        "\n",
        "        info = mp_face_detection.FaceDetection()\n",
        "        x = info.process(image=image)\n",
        "        \n",
        "\n",
        "        \n",
        "        cv2.imwrite(\"MediaPipe\" + \"_\" + str(type_dataset) + \"_\" + str(label) + \"/mediapipe%d.jpg\" % count,resize_face)\n",
        "        \n",
        "        processedImagePath_mediapipe.append(\"MediaPipe\" + \"_\" + str(type_dataset) + \"_\" + str(label) + \"/mediapipe%d.jpg\"%count)\n",
        "        count+=1\n",
        "\n",
        "        j+=1\n",
        "\n",
        "        \n",
        "\n",
        "  return processedImagePath_mediapipe,frame\n"
      ],
      "execution_count": 11,
      "outputs": []
    },
    {
      "cell_type": "code",
      "metadata": {
        "id": "ewpOAGF3fgsv"
      },
      "source": [
        "processedImagePath_Train_Fake_mediapipe , _ = faceDetect_MediaPipe(\"Train\",\"Fake\",imgPath_train_fake,[])"
      ],
      "execution_count": 12,
      "outputs": []
    },
    {
      "cell_type": "code",
      "metadata": {
        "id": "OHtZq37Hfjkq"
      },
      "source": [
        "processedImagePath_Train_Real_mediapipe , _ = faceDetect_MediaPipe(\"Train\",\"Real\",imgPath_train_real,[])"
      ],
      "execution_count": 13,
      "outputs": []
    },
    {
      "cell_type": "code",
      "metadata": {
        "colab": {
          "base_uri": "https://localhost:8080/"
        },
        "id": "8DwQhC2QfmKi",
        "outputId": "49c9ac28-dc05-45ae-ec8a-61d5f3589e0a"
      },
      "source": [
        "print(processedImagePath_Train_Fake_mediapipe)\n",
        "print(processedImagePath_Train_Real_mediapipe)"
      ],
      "execution_count": 14,
      "outputs": [
        {
          "output_type": "stream",
          "text": [
            "['MediaPipe_Train_Fake/mediapipe0.jpg', 'MediaPipe_Train_Fake/mediapipe1.jpg', 'MediaPipe_Train_Fake/mediapipe2.jpg', 'MediaPipe_Train_Fake/mediapipe3.jpg', 'MediaPipe_Train_Fake/mediapipe4.jpg', 'MediaPipe_Train_Fake/mediapipe5.jpg', 'MediaPipe_Train_Fake/mediapipe6.jpg', 'MediaPipe_Train_Fake/mediapipe7.jpg', 'MediaPipe_Train_Fake/mediapipe8.jpg', 'MediaPipe_Train_Fake/mediapipe9.jpg', 'MediaPipe_Train_Fake/mediapipe10.jpg', 'MediaPipe_Train_Fake/mediapipe11.jpg', 'MediaPipe_Train_Fake/mediapipe12.jpg', 'MediaPipe_Train_Fake/mediapipe13.jpg', 'MediaPipe_Train_Fake/mediapipe14.jpg', 'MediaPipe_Train_Fake/mediapipe15.jpg', 'MediaPipe_Train_Fake/mediapipe16.jpg', 'MediaPipe_Train_Fake/mediapipe17.jpg', 'MediaPipe_Train_Fake/mediapipe18.jpg', 'MediaPipe_Train_Fake/mediapipe19.jpg', 'MediaPipe_Train_Fake/mediapipe20.jpg', 'MediaPipe_Train_Fake/mediapipe21.jpg', 'MediaPipe_Train_Fake/mediapipe22.jpg', 'MediaPipe_Train_Fake/mediapipe23.jpg', 'MediaPipe_Train_Fake/mediapipe24.jpg', 'MediaPipe_Train_Fake/mediapipe25.jpg', 'MediaPipe_Train_Fake/mediapipe26.jpg', 'MediaPipe_Train_Fake/mediapipe27.jpg', 'MediaPipe_Train_Fake/mediapipe28.jpg', 'MediaPipe_Train_Fake/mediapipe29.jpg', 'MediaPipe_Train_Fake/mediapipe30.jpg', 'MediaPipe_Train_Fake/mediapipe31.jpg', 'MediaPipe_Train_Fake/mediapipe32.jpg', 'MediaPipe_Train_Fake/mediapipe33.jpg', 'MediaPipe_Train_Fake/mediapipe34.jpg', 'MediaPipe_Train_Fake/mediapipe35.jpg', 'MediaPipe_Train_Fake/mediapipe36.jpg', 'MediaPipe_Train_Fake/mediapipe37.jpg', 'MediaPipe_Train_Fake/mediapipe38.jpg', 'MediaPipe_Train_Fake/mediapipe39.jpg', 'MediaPipe_Train_Fake/mediapipe40.jpg', 'MediaPipe_Train_Fake/mediapipe41.jpg', 'MediaPipe_Train_Fake/mediapipe42.jpg', 'MediaPipe_Train_Fake/mediapipe43.jpg', 'MediaPipe_Train_Fake/mediapipe44.jpg', 'MediaPipe_Train_Fake/mediapipe45.jpg', 'MediaPipe_Train_Fake/mediapipe46.jpg', 'MediaPipe_Train_Fake/mediapipe47.jpg', 'MediaPipe_Train_Fake/mediapipe48.jpg', 'MediaPipe_Train_Fake/mediapipe49.jpg', 'MediaPipe_Train_Fake/mediapipe50.jpg', 'MediaPipe_Train_Fake/mediapipe51.jpg', 'MediaPipe_Train_Fake/mediapipe52.jpg', 'MediaPipe_Train_Fake/mediapipe53.jpg', 'MediaPipe_Train_Fake/mediapipe54.jpg', 'MediaPipe_Train_Fake/mediapipe55.jpg', 'MediaPipe_Train_Fake/mediapipe56.jpg', 'MediaPipe_Train_Fake/mediapipe57.jpg', 'MediaPipe_Train_Fake/mediapipe58.jpg', 'MediaPipe_Train_Fake/mediapipe59.jpg', 'MediaPipe_Train_Fake/mediapipe60.jpg', 'MediaPipe_Train_Fake/mediapipe61.jpg', 'MediaPipe_Train_Fake/mediapipe62.jpg', 'MediaPipe_Train_Fake/mediapipe63.jpg', 'MediaPipe_Train_Fake/mediapipe64.jpg', 'MediaPipe_Train_Fake/mediapipe65.jpg', 'MediaPipe_Train_Fake/mediapipe66.jpg', 'MediaPipe_Train_Fake/mediapipe67.jpg', 'MediaPipe_Train_Fake/mediapipe68.jpg', 'MediaPipe_Train_Fake/mediapipe69.jpg', 'MediaPipe_Train_Fake/mediapipe70.jpg', 'MediaPipe_Train_Fake/mediapipe71.jpg', 'MediaPipe_Train_Fake/mediapipe72.jpg', 'MediaPipe_Train_Fake/mediapipe73.jpg', 'MediaPipe_Train_Fake/mediapipe74.jpg', 'MediaPipe_Train_Fake/mediapipe75.jpg', 'MediaPipe_Train_Fake/mediapipe76.jpg', 'MediaPipe_Train_Fake/mediapipe77.jpg', 'MediaPipe_Train_Fake/mediapipe78.jpg', 'MediaPipe_Train_Fake/mediapipe79.jpg', 'MediaPipe_Train_Fake/mediapipe80.jpg', 'MediaPipe_Train_Fake/mediapipe81.jpg', 'MediaPipe_Train_Fake/mediapipe82.jpg', 'MediaPipe_Train_Fake/mediapipe83.jpg', 'MediaPipe_Train_Fake/mediapipe84.jpg', 'MediaPipe_Train_Fake/mediapipe85.jpg', 'MediaPipe_Train_Fake/mediapipe86.jpg', 'MediaPipe_Train_Fake/mediapipe87.jpg', 'MediaPipe_Train_Fake/mediapipe88.jpg', 'MediaPipe_Train_Fake/mediapipe89.jpg', 'MediaPipe_Train_Fake/mediapipe90.jpg', 'MediaPipe_Train_Fake/mediapipe91.jpg', 'MediaPipe_Train_Fake/mediapipe92.jpg', 'MediaPipe_Train_Fake/mediapipe93.jpg', 'MediaPipe_Train_Fake/mediapipe94.jpg', 'MediaPipe_Train_Fake/mediapipe95.jpg', 'MediaPipe_Train_Fake/mediapipe96.jpg', 'MediaPipe_Train_Fake/mediapipe97.jpg', 'MediaPipe_Train_Fake/mediapipe98.jpg', 'MediaPipe_Train_Fake/mediapipe99.jpg', 'MediaPipe_Train_Fake/mediapipe100.jpg', 'MediaPipe_Train_Fake/mediapipe101.jpg', 'MediaPipe_Train_Fake/mediapipe102.jpg', 'MediaPipe_Train_Fake/mediapipe103.jpg', 'MediaPipe_Train_Fake/mediapipe104.jpg', 'MediaPipe_Train_Fake/mediapipe105.jpg', 'MediaPipe_Train_Fake/mediapipe106.jpg', 'MediaPipe_Train_Fake/mediapipe107.jpg', 'MediaPipe_Train_Fake/mediapipe108.jpg', 'MediaPipe_Train_Fake/mediapipe109.jpg', 'MediaPipe_Train_Fake/mediapipe110.jpg', 'MediaPipe_Train_Fake/mediapipe111.jpg', 'MediaPipe_Train_Fake/mediapipe112.jpg', 'MediaPipe_Train_Fake/mediapipe113.jpg', 'MediaPipe_Train_Fake/mediapipe114.jpg', 'MediaPipe_Train_Fake/mediapipe115.jpg', 'MediaPipe_Train_Fake/mediapipe116.jpg', 'MediaPipe_Train_Fake/mediapipe117.jpg', 'MediaPipe_Train_Fake/mediapipe118.jpg', 'MediaPipe_Train_Fake/mediapipe119.jpg', 'MediaPipe_Train_Fake/mediapipe120.jpg', 'MediaPipe_Train_Fake/mediapipe121.jpg', 'MediaPipe_Train_Fake/mediapipe122.jpg', 'MediaPipe_Train_Fake/mediapipe123.jpg', 'MediaPipe_Train_Fake/mediapipe124.jpg', 'MediaPipe_Train_Fake/mediapipe125.jpg', 'MediaPipe_Train_Fake/mediapipe126.jpg', 'MediaPipe_Train_Fake/mediapipe127.jpg', 'MediaPipe_Train_Fake/mediapipe128.jpg', 'MediaPipe_Train_Fake/mediapipe129.jpg', 'MediaPipe_Train_Fake/mediapipe130.jpg', 'MediaPipe_Train_Fake/mediapipe131.jpg', 'MediaPipe_Train_Fake/mediapipe132.jpg', 'MediaPipe_Train_Fake/mediapipe133.jpg', 'MediaPipe_Train_Fake/mediapipe134.jpg', 'MediaPipe_Train_Fake/mediapipe135.jpg', 'MediaPipe_Train_Fake/mediapipe136.jpg', 'MediaPipe_Train_Fake/mediapipe137.jpg', 'MediaPipe_Train_Fake/mediapipe138.jpg', 'MediaPipe_Train_Fake/mediapipe139.jpg', 'MediaPipe_Train_Fake/mediapipe140.jpg', 'MediaPipe_Train_Fake/mediapipe141.jpg', 'MediaPipe_Train_Fake/mediapipe142.jpg', 'MediaPipe_Train_Fake/mediapipe143.jpg', 'MediaPipe_Train_Fake/mediapipe144.jpg', 'MediaPipe_Train_Fake/mediapipe145.jpg', 'MediaPipe_Train_Fake/mediapipe146.jpg', 'MediaPipe_Train_Fake/mediapipe147.jpg', 'MediaPipe_Train_Fake/mediapipe148.jpg', 'MediaPipe_Train_Fake/mediapipe149.jpg', 'MediaPipe_Train_Fake/mediapipe150.jpg', 'MediaPipe_Train_Fake/mediapipe151.jpg', 'MediaPipe_Train_Fake/mediapipe152.jpg', 'MediaPipe_Train_Fake/mediapipe153.jpg', 'MediaPipe_Train_Fake/mediapipe154.jpg', 'MediaPipe_Train_Fake/mediapipe155.jpg', 'MediaPipe_Train_Fake/mediapipe156.jpg', 'MediaPipe_Train_Fake/mediapipe157.jpg', 'MediaPipe_Train_Fake/mediapipe158.jpg', 'MediaPipe_Train_Fake/mediapipe159.jpg', 'MediaPipe_Train_Fake/mediapipe160.jpg', 'MediaPipe_Train_Fake/mediapipe161.jpg', 'MediaPipe_Train_Fake/mediapipe162.jpg', 'MediaPipe_Train_Fake/mediapipe163.jpg', 'MediaPipe_Train_Fake/mediapipe164.jpg', 'MediaPipe_Train_Fake/mediapipe165.jpg', 'MediaPipe_Train_Fake/mediapipe166.jpg', 'MediaPipe_Train_Fake/mediapipe167.jpg', 'MediaPipe_Train_Fake/mediapipe168.jpg', 'MediaPipe_Train_Fake/mediapipe169.jpg', 'MediaPipe_Train_Fake/mediapipe170.jpg', 'MediaPipe_Train_Fake/mediapipe171.jpg', 'MediaPipe_Train_Fake/mediapipe172.jpg', 'MediaPipe_Train_Fake/mediapipe173.jpg', 'MediaPipe_Train_Fake/mediapipe174.jpg', 'MediaPipe_Train_Fake/mediapipe175.jpg', 'MediaPipe_Train_Fake/mediapipe176.jpg', 'MediaPipe_Train_Fake/mediapipe177.jpg', 'MediaPipe_Train_Fake/mediapipe178.jpg', 'MediaPipe_Train_Fake/mediapipe179.jpg', 'MediaPipe_Train_Fake/mediapipe180.jpg', 'MediaPipe_Train_Fake/mediapipe181.jpg', 'MediaPipe_Train_Fake/mediapipe182.jpg', 'MediaPipe_Train_Fake/mediapipe183.jpg', 'MediaPipe_Train_Fake/mediapipe184.jpg', 'MediaPipe_Train_Fake/mediapipe185.jpg', 'MediaPipe_Train_Fake/mediapipe186.jpg', 'MediaPipe_Train_Fake/mediapipe187.jpg', 'MediaPipe_Train_Fake/mediapipe188.jpg', 'MediaPipe_Train_Fake/mediapipe189.jpg', 'MediaPipe_Train_Fake/mediapipe190.jpg', 'MediaPipe_Train_Fake/mediapipe191.jpg', 'MediaPipe_Train_Fake/mediapipe192.jpg', 'MediaPipe_Train_Fake/mediapipe193.jpg', 'MediaPipe_Train_Fake/mediapipe194.jpg', 'MediaPipe_Train_Fake/mediapipe195.jpg', 'MediaPipe_Train_Fake/mediapipe196.jpg', 'MediaPipe_Train_Fake/mediapipe197.jpg', 'MediaPipe_Train_Fake/mediapipe198.jpg', 'MediaPipe_Train_Fake/mediapipe199.jpg', 'MediaPipe_Train_Fake/mediapipe200.jpg', 'MediaPipe_Train_Fake/mediapipe201.jpg', 'MediaPipe_Train_Fake/mediapipe202.jpg', 'MediaPipe_Train_Fake/mediapipe203.jpg', 'MediaPipe_Train_Fake/mediapipe204.jpg', 'MediaPipe_Train_Fake/mediapipe205.jpg', 'MediaPipe_Train_Fake/mediapipe206.jpg', 'MediaPipe_Train_Fake/mediapipe207.jpg', 'MediaPipe_Train_Fake/mediapipe208.jpg', 'MediaPipe_Train_Fake/mediapipe209.jpg', 'MediaPipe_Train_Fake/mediapipe210.jpg', 'MediaPipe_Train_Fake/mediapipe211.jpg', 'MediaPipe_Train_Fake/mediapipe212.jpg', 'MediaPipe_Train_Fake/mediapipe213.jpg', 'MediaPipe_Train_Fake/mediapipe214.jpg', 'MediaPipe_Train_Fake/mediapipe215.jpg', 'MediaPipe_Train_Fake/mediapipe216.jpg', 'MediaPipe_Train_Fake/mediapipe217.jpg', 'MediaPipe_Train_Fake/mediapipe218.jpg', 'MediaPipe_Train_Fake/mediapipe219.jpg', 'MediaPipe_Train_Fake/mediapipe220.jpg', 'MediaPipe_Train_Fake/mediapipe221.jpg', 'MediaPipe_Train_Fake/mediapipe222.jpg', 'MediaPipe_Train_Fake/mediapipe223.jpg', 'MediaPipe_Train_Fake/mediapipe224.jpg', 'MediaPipe_Train_Fake/mediapipe225.jpg', 'MediaPipe_Train_Fake/mediapipe226.jpg', 'MediaPipe_Train_Fake/mediapipe227.jpg', 'MediaPipe_Train_Fake/mediapipe228.jpg', 'MediaPipe_Train_Fake/mediapipe229.jpg', 'MediaPipe_Train_Fake/mediapipe230.jpg', 'MediaPipe_Train_Fake/mediapipe231.jpg', 'MediaPipe_Train_Fake/mediapipe232.jpg', 'MediaPipe_Train_Fake/mediapipe233.jpg', 'MediaPipe_Train_Fake/mediapipe234.jpg', 'MediaPipe_Train_Fake/mediapipe235.jpg', 'MediaPipe_Train_Fake/mediapipe236.jpg', 'MediaPipe_Train_Fake/mediapipe237.jpg', 'MediaPipe_Train_Fake/mediapipe238.jpg', 'MediaPipe_Train_Fake/mediapipe239.jpg', 'MediaPipe_Train_Fake/mediapipe240.jpg', 'MediaPipe_Train_Fake/mediapipe241.jpg', 'MediaPipe_Train_Fake/mediapipe242.jpg', 'MediaPipe_Train_Fake/mediapipe243.jpg', 'MediaPipe_Train_Fake/mediapipe244.jpg', 'MediaPipe_Train_Fake/mediapipe245.jpg', 'MediaPipe_Train_Fake/mediapipe246.jpg', 'MediaPipe_Train_Fake/mediapipe247.jpg', 'MediaPipe_Train_Fake/mediapipe248.jpg', 'MediaPipe_Train_Fake/mediapipe249.jpg', 'MediaPipe_Train_Fake/mediapipe250.jpg', 'MediaPipe_Train_Fake/mediapipe251.jpg', 'MediaPipe_Train_Fake/mediapipe252.jpg', 'MediaPipe_Train_Fake/mediapipe253.jpg', 'MediaPipe_Train_Fake/mediapipe254.jpg', 'MediaPipe_Train_Fake/mediapipe255.jpg', 'MediaPipe_Train_Fake/mediapipe256.jpg', 'MediaPipe_Train_Fake/mediapipe257.jpg', 'MediaPipe_Train_Fake/mediapipe258.jpg', 'MediaPipe_Train_Fake/mediapipe259.jpg', 'MediaPipe_Train_Fake/mediapipe260.jpg', 'MediaPipe_Train_Fake/mediapipe261.jpg', 'MediaPipe_Train_Fake/mediapipe262.jpg', 'MediaPipe_Train_Fake/mediapipe263.jpg', 'MediaPipe_Train_Fake/mediapipe264.jpg', 'MediaPipe_Train_Fake/mediapipe265.jpg', 'MediaPipe_Train_Fake/mediapipe266.jpg', 'MediaPipe_Train_Fake/mediapipe267.jpg', 'MediaPipe_Train_Fake/mediapipe268.jpg', 'MediaPipe_Train_Fake/mediapipe269.jpg', 'MediaPipe_Train_Fake/mediapipe270.jpg', 'MediaPipe_Train_Fake/mediapipe271.jpg', 'MediaPipe_Train_Fake/mediapipe272.jpg', 'MediaPipe_Train_Fake/mediapipe273.jpg', 'MediaPipe_Train_Fake/mediapipe274.jpg', 'MediaPipe_Train_Fake/mediapipe275.jpg', 'MediaPipe_Train_Fake/mediapipe276.jpg', 'MediaPipe_Train_Fake/mediapipe277.jpg', 'MediaPipe_Train_Fake/mediapipe278.jpg', 'MediaPipe_Train_Fake/mediapipe279.jpg', 'MediaPipe_Train_Fake/mediapipe280.jpg', 'MediaPipe_Train_Fake/mediapipe281.jpg', 'MediaPipe_Train_Fake/mediapipe282.jpg', 'MediaPipe_Train_Fake/mediapipe283.jpg', 'MediaPipe_Train_Fake/mediapipe284.jpg', 'MediaPipe_Train_Fake/mediapipe285.jpg', 'MediaPipe_Train_Fake/mediapipe286.jpg', 'MediaPipe_Train_Fake/mediapipe287.jpg', 'MediaPipe_Train_Fake/mediapipe288.jpg', 'MediaPipe_Train_Fake/mediapipe289.jpg', 'MediaPipe_Train_Fake/mediapipe290.jpg', 'MediaPipe_Train_Fake/mediapipe291.jpg', 'MediaPipe_Train_Fake/mediapipe292.jpg', 'MediaPipe_Train_Fake/mediapipe293.jpg', 'MediaPipe_Train_Fake/mediapipe294.jpg', 'MediaPipe_Train_Fake/mediapipe295.jpg', 'MediaPipe_Train_Fake/mediapipe296.jpg', 'MediaPipe_Train_Fake/mediapipe297.jpg', 'MediaPipe_Train_Fake/mediapipe298.jpg', 'MediaPipe_Train_Fake/mediapipe299.jpg', 'MediaPipe_Train_Fake/mediapipe300.jpg', 'MediaPipe_Train_Fake/mediapipe301.jpg', 'MediaPipe_Train_Fake/mediapipe302.jpg', 'MediaPipe_Train_Fake/mediapipe303.jpg', 'MediaPipe_Train_Fake/mediapipe304.jpg', 'MediaPipe_Train_Fake/mediapipe305.jpg', 'MediaPipe_Train_Fake/mediapipe306.jpg', 'MediaPipe_Train_Fake/mediapipe307.jpg', 'MediaPipe_Train_Fake/mediapipe308.jpg', 'MediaPipe_Train_Fake/mediapipe309.jpg', 'MediaPipe_Train_Fake/mediapipe310.jpg', 'MediaPipe_Train_Fake/mediapipe311.jpg', 'MediaPipe_Train_Fake/mediapipe312.jpg', 'MediaPipe_Train_Fake/mediapipe313.jpg', 'MediaPipe_Train_Fake/mediapipe314.jpg', 'MediaPipe_Train_Fake/mediapipe315.jpg', 'MediaPipe_Train_Fake/mediapipe316.jpg', 'MediaPipe_Train_Fake/mediapipe317.jpg', 'MediaPipe_Train_Fake/mediapipe318.jpg', 'MediaPipe_Train_Fake/mediapipe319.jpg', 'MediaPipe_Train_Fake/mediapipe320.jpg', 'MediaPipe_Train_Fake/mediapipe321.jpg', 'MediaPipe_Train_Fake/mediapipe322.jpg', 'MediaPipe_Train_Fake/mediapipe323.jpg', 'MediaPipe_Train_Fake/mediapipe324.jpg', 'MediaPipe_Train_Fake/mediapipe325.jpg', 'MediaPipe_Train_Fake/mediapipe326.jpg', 'MediaPipe_Train_Fake/mediapipe327.jpg', 'MediaPipe_Train_Fake/mediapipe328.jpg', 'MediaPipe_Train_Fake/mediapipe329.jpg', 'MediaPipe_Train_Fake/mediapipe330.jpg', 'MediaPipe_Train_Fake/mediapipe331.jpg', 'MediaPipe_Train_Fake/mediapipe332.jpg', 'MediaPipe_Train_Fake/mediapipe333.jpg', 'MediaPipe_Train_Fake/mediapipe334.jpg', 'MediaPipe_Train_Fake/mediapipe335.jpg', 'MediaPipe_Train_Fake/mediapipe336.jpg', 'MediaPipe_Train_Fake/mediapipe337.jpg', 'MediaPipe_Train_Fake/mediapipe338.jpg', 'MediaPipe_Train_Fake/mediapipe339.jpg', 'MediaPipe_Train_Fake/mediapipe340.jpg', 'MediaPipe_Train_Fake/mediapipe341.jpg', 'MediaPipe_Train_Fake/mediapipe342.jpg', 'MediaPipe_Train_Fake/mediapipe343.jpg', 'MediaPipe_Train_Fake/mediapipe344.jpg', 'MediaPipe_Train_Fake/mediapipe345.jpg', 'MediaPipe_Train_Fake/mediapipe346.jpg', 'MediaPipe_Train_Fake/mediapipe347.jpg', 'MediaPipe_Train_Fake/mediapipe348.jpg', 'MediaPipe_Train_Fake/mediapipe349.jpg', 'MediaPipe_Train_Fake/mediapipe350.jpg', 'MediaPipe_Train_Fake/mediapipe351.jpg', 'MediaPipe_Train_Fake/mediapipe352.jpg', 'MediaPipe_Train_Fake/mediapipe353.jpg', 'MediaPipe_Train_Fake/mediapipe354.jpg', 'MediaPipe_Train_Fake/mediapipe355.jpg', 'MediaPipe_Train_Fake/mediapipe356.jpg', 'MediaPipe_Train_Fake/mediapipe357.jpg', 'MediaPipe_Train_Fake/mediapipe358.jpg', 'MediaPipe_Train_Fake/mediapipe359.jpg', 'MediaPipe_Train_Fake/mediapipe360.jpg', 'MediaPipe_Train_Fake/mediapipe361.jpg', 'MediaPipe_Train_Fake/mediapipe362.jpg', 'MediaPipe_Train_Fake/mediapipe363.jpg', 'MediaPipe_Train_Fake/mediapipe364.jpg', 'MediaPipe_Train_Fake/mediapipe365.jpg', 'MediaPipe_Train_Fake/mediapipe366.jpg', 'MediaPipe_Train_Fake/mediapipe367.jpg', 'MediaPipe_Train_Fake/mediapipe368.jpg', 'MediaPipe_Train_Fake/mediapipe369.jpg', 'MediaPipe_Train_Fake/mediapipe370.jpg', 'MediaPipe_Train_Fake/mediapipe371.jpg', 'MediaPipe_Train_Fake/mediapipe372.jpg', 'MediaPipe_Train_Fake/mediapipe373.jpg', 'MediaPipe_Train_Fake/mediapipe374.jpg', 'MediaPipe_Train_Fake/mediapipe375.jpg', 'MediaPipe_Train_Fake/mediapipe376.jpg', 'MediaPipe_Train_Fake/mediapipe377.jpg', 'MediaPipe_Train_Fake/mediapipe378.jpg', 'MediaPipe_Train_Fake/mediapipe379.jpg', 'MediaPipe_Train_Fake/mediapipe380.jpg', 'MediaPipe_Train_Fake/mediapipe381.jpg', 'MediaPipe_Train_Fake/mediapipe382.jpg', 'MediaPipe_Train_Fake/mediapipe383.jpg', 'MediaPipe_Train_Fake/mediapipe384.jpg', 'MediaPipe_Train_Fake/mediapipe385.jpg', 'MediaPipe_Train_Fake/mediapipe386.jpg', 'MediaPipe_Train_Fake/mediapipe387.jpg', 'MediaPipe_Train_Fake/mediapipe388.jpg', 'MediaPipe_Train_Fake/mediapipe389.jpg', 'MediaPipe_Train_Fake/mediapipe390.jpg', 'MediaPipe_Train_Fake/mediapipe391.jpg', 'MediaPipe_Train_Fake/mediapipe392.jpg', 'MediaPipe_Train_Fake/mediapipe393.jpg', 'MediaPipe_Train_Fake/mediapipe394.jpg', 'MediaPipe_Train_Fake/mediapipe395.jpg', 'MediaPipe_Train_Fake/mediapipe396.jpg', 'MediaPipe_Train_Fake/mediapipe397.jpg', 'MediaPipe_Train_Fake/mediapipe398.jpg', 'MediaPipe_Train_Fake/mediapipe399.jpg', 'MediaPipe_Train_Fake/mediapipe400.jpg', 'MediaPipe_Train_Fake/mediapipe401.jpg', 'MediaPipe_Train_Fake/mediapipe402.jpg', 'MediaPipe_Train_Fake/mediapipe403.jpg', 'MediaPipe_Train_Fake/mediapipe404.jpg', 'MediaPipe_Train_Fake/mediapipe405.jpg', 'MediaPipe_Train_Fake/mediapipe406.jpg', 'MediaPipe_Train_Fake/mediapipe407.jpg', 'MediaPipe_Train_Fake/mediapipe408.jpg', 'MediaPipe_Train_Fake/mediapipe409.jpg', 'MediaPipe_Train_Fake/mediapipe410.jpg', 'MediaPipe_Train_Fake/mediapipe411.jpg', 'MediaPipe_Train_Fake/mediapipe412.jpg', 'MediaPipe_Train_Fake/mediapipe413.jpg', 'MediaPipe_Train_Fake/mediapipe414.jpg', 'MediaPipe_Train_Fake/mediapipe415.jpg', 'MediaPipe_Train_Fake/mediapipe416.jpg', 'MediaPipe_Train_Fake/mediapipe417.jpg', 'MediaPipe_Train_Fake/mediapipe418.jpg', 'MediaPipe_Train_Fake/mediapipe419.jpg', 'MediaPipe_Train_Fake/mediapipe420.jpg', 'MediaPipe_Train_Fake/mediapipe421.jpg', 'MediaPipe_Train_Fake/mediapipe422.jpg', 'MediaPipe_Train_Fake/mediapipe423.jpg', 'MediaPipe_Train_Fake/mediapipe424.jpg', 'MediaPipe_Train_Fake/mediapipe425.jpg', 'MediaPipe_Train_Fake/mediapipe426.jpg', 'MediaPipe_Train_Fake/mediapipe427.jpg', 'MediaPipe_Train_Fake/mediapipe428.jpg', 'MediaPipe_Train_Fake/mediapipe429.jpg', 'MediaPipe_Train_Fake/mediapipe430.jpg', 'MediaPipe_Train_Fake/mediapipe431.jpg', 'MediaPipe_Train_Fake/mediapipe432.jpg', 'MediaPipe_Train_Fake/mediapipe433.jpg', 'MediaPipe_Train_Fake/mediapipe434.jpg', 'MediaPipe_Train_Fake/mediapipe435.jpg', 'MediaPipe_Train_Fake/mediapipe436.jpg', 'MediaPipe_Train_Fake/mediapipe437.jpg', 'MediaPipe_Train_Fake/mediapipe438.jpg', 'MediaPipe_Train_Fake/mediapipe439.jpg', 'MediaPipe_Train_Fake/mediapipe440.jpg', 'MediaPipe_Train_Fake/mediapipe441.jpg', 'MediaPipe_Train_Fake/mediapipe442.jpg', 'MediaPipe_Train_Fake/mediapipe443.jpg', 'MediaPipe_Train_Fake/mediapipe444.jpg', 'MediaPipe_Train_Fake/mediapipe445.jpg', 'MediaPipe_Train_Fake/mediapipe446.jpg', 'MediaPipe_Train_Fake/mediapipe447.jpg', 'MediaPipe_Train_Fake/mediapipe448.jpg', 'MediaPipe_Train_Fake/mediapipe449.jpg', 'MediaPipe_Train_Fake/mediapipe450.jpg', 'MediaPipe_Train_Fake/mediapipe451.jpg', 'MediaPipe_Train_Fake/mediapipe452.jpg', 'MediaPipe_Train_Fake/mediapipe453.jpg', 'MediaPipe_Train_Fake/mediapipe454.jpg', 'MediaPipe_Train_Fake/mediapipe455.jpg', 'MediaPipe_Train_Fake/mediapipe456.jpg', 'MediaPipe_Train_Fake/mediapipe457.jpg', 'MediaPipe_Train_Fake/mediapipe458.jpg', 'MediaPipe_Train_Fake/mediapipe459.jpg', 'MediaPipe_Train_Fake/mediapipe460.jpg', 'MediaPipe_Train_Fake/mediapipe461.jpg', 'MediaPipe_Train_Fake/mediapipe462.jpg', 'MediaPipe_Train_Fake/mediapipe463.jpg', 'MediaPipe_Train_Fake/mediapipe464.jpg', 'MediaPipe_Train_Fake/mediapipe465.jpg', 'MediaPipe_Train_Fake/mediapipe466.jpg', 'MediaPipe_Train_Fake/mediapipe467.jpg', 'MediaPipe_Train_Fake/mediapipe468.jpg', 'MediaPipe_Train_Fake/mediapipe469.jpg', 'MediaPipe_Train_Fake/mediapipe470.jpg', 'MediaPipe_Train_Fake/mediapipe471.jpg', 'MediaPipe_Train_Fake/mediapipe472.jpg', 'MediaPipe_Train_Fake/mediapipe473.jpg', 'MediaPipe_Train_Fake/mediapipe474.jpg', 'MediaPipe_Train_Fake/mediapipe475.jpg', 'MediaPipe_Train_Fake/mediapipe476.jpg', 'MediaPipe_Train_Fake/mediapipe477.jpg', 'MediaPipe_Train_Fake/mediapipe478.jpg', 'MediaPipe_Train_Fake/mediapipe479.jpg', 'MediaPipe_Train_Fake/mediapipe480.jpg', 'MediaPipe_Train_Fake/mediapipe481.jpg', 'MediaPipe_Train_Fake/mediapipe482.jpg', 'MediaPipe_Train_Fake/mediapipe483.jpg', 'MediaPipe_Train_Fake/mediapipe484.jpg', 'MediaPipe_Train_Fake/mediapipe485.jpg', 'MediaPipe_Train_Fake/mediapipe486.jpg', 'MediaPipe_Train_Fake/mediapipe487.jpg', 'MediaPipe_Train_Fake/mediapipe488.jpg', 'MediaPipe_Train_Fake/mediapipe489.jpg', 'MediaPipe_Train_Fake/mediapipe490.jpg', 'MediaPipe_Train_Fake/mediapipe491.jpg', 'MediaPipe_Train_Fake/mediapipe492.jpg', 'MediaPipe_Train_Fake/mediapipe493.jpg', 'MediaPipe_Train_Fake/mediapipe494.jpg', 'MediaPipe_Train_Fake/mediapipe495.jpg', 'MediaPipe_Train_Fake/mediapipe496.jpg', 'MediaPipe_Train_Fake/mediapipe497.jpg', 'MediaPipe_Train_Fake/mediapipe498.jpg', 'MediaPipe_Train_Fake/mediapipe499.jpg', 'MediaPipe_Train_Fake/mediapipe500.jpg', 'MediaPipe_Train_Fake/mediapipe501.jpg', 'MediaPipe_Train_Fake/mediapipe502.jpg', 'MediaPipe_Train_Fake/mediapipe503.jpg', 'MediaPipe_Train_Fake/mediapipe504.jpg', 'MediaPipe_Train_Fake/mediapipe505.jpg', 'MediaPipe_Train_Fake/mediapipe506.jpg', 'MediaPipe_Train_Fake/mediapipe507.jpg', 'MediaPipe_Train_Fake/mediapipe508.jpg', 'MediaPipe_Train_Fake/mediapipe509.jpg', 'MediaPipe_Train_Fake/mediapipe510.jpg', 'MediaPipe_Train_Fake/mediapipe511.jpg', 'MediaPipe_Train_Fake/mediapipe512.jpg', 'MediaPipe_Train_Fake/mediapipe513.jpg', 'MediaPipe_Train_Fake/mediapipe514.jpg', 'MediaPipe_Train_Fake/mediapipe515.jpg', 'MediaPipe_Train_Fake/mediapipe516.jpg', 'MediaPipe_Train_Fake/mediapipe517.jpg', 'MediaPipe_Train_Fake/mediapipe518.jpg', 'MediaPipe_Train_Fake/mediapipe519.jpg', 'MediaPipe_Train_Fake/mediapipe520.jpg', 'MediaPipe_Train_Fake/mediapipe521.jpg', 'MediaPipe_Train_Fake/mediapipe522.jpg', 'MediaPipe_Train_Fake/mediapipe523.jpg', 'MediaPipe_Train_Fake/mediapipe524.jpg', 'MediaPipe_Train_Fake/mediapipe525.jpg', 'MediaPipe_Train_Fake/mediapipe526.jpg', 'MediaPipe_Train_Fake/mediapipe527.jpg', 'MediaPipe_Train_Fake/mediapipe528.jpg', 'MediaPipe_Train_Fake/mediapipe529.jpg', 'MediaPipe_Train_Fake/mediapipe530.jpg', 'MediaPipe_Train_Fake/mediapipe531.jpg', 'MediaPipe_Train_Fake/mediapipe532.jpg', 'MediaPipe_Train_Fake/mediapipe533.jpg', 'MediaPipe_Train_Fake/mediapipe534.jpg', 'MediaPipe_Train_Fake/mediapipe535.jpg', 'MediaPipe_Train_Fake/mediapipe536.jpg', 'MediaPipe_Train_Fake/mediapipe537.jpg', 'MediaPipe_Train_Fake/mediapipe538.jpg', 'MediaPipe_Train_Fake/mediapipe539.jpg', 'MediaPipe_Train_Fake/mediapipe540.jpg', 'MediaPipe_Train_Fake/mediapipe541.jpg', 'MediaPipe_Train_Fake/mediapipe542.jpg', 'MediaPipe_Train_Fake/mediapipe543.jpg', 'MediaPipe_Train_Fake/mediapipe544.jpg', 'MediaPipe_Train_Fake/mediapipe545.jpg', 'MediaPipe_Train_Fake/mediapipe546.jpg', 'MediaPipe_Train_Fake/mediapipe547.jpg', 'MediaPipe_Train_Fake/mediapipe548.jpg', 'MediaPipe_Train_Fake/mediapipe549.jpg', 'MediaPipe_Train_Fake/mediapipe550.jpg', 'MediaPipe_Train_Fake/mediapipe551.jpg', 'MediaPipe_Train_Fake/mediapipe552.jpg', 'MediaPipe_Train_Fake/mediapipe553.jpg', 'MediaPipe_Train_Fake/mediapipe554.jpg', 'MediaPipe_Train_Fake/mediapipe555.jpg', 'MediaPipe_Train_Fake/mediapipe556.jpg', 'MediaPipe_Train_Fake/mediapipe557.jpg', 'MediaPipe_Train_Fake/mediapipe558.jpg', 'MediaPipe_Train_Fake/mediapipe559.jpg', 'MediaPipe_Train_Fake/mediapipe560.jpg', 'MediaPipe_Train_Fake/mediapipe561.jpg', 'MediaPipe_Train_Fake/mediapipe562.jpg', 'MediaPipe_Train_Fake/mediapipe563.jpg', 'MediaPipe_Train_Fake/mediapipe564.jpg', 'MediaPipe_Train_Fake/mediapipe565.jpg', 'MediaPipe_Train_Fake/mediapipe566.jpg', 'MediaPipe_Train_Fake/mediapipe567.jpg', 'MediaPipe_Train_Fake/mediapipe568.jpg', 'MediaPipe_Train_Fake/mediapipe569.jpg', 'MediaPipe_Train_Fake/mediapipe570.jpg', 'MediaPipe_Train_Fake/mediapipe571.jpg', 'MediaPipe_Train_Fake/mediapipe572.jpg', 'MediaPipe_Train_Fake/mediapipe573.jpg', 'MediaPipe_Train_Fake/mediapipe574.jpg', 'MediaPipe_Train_Fake/mediapipe575.jpg', 'MediaPipe_Train_Fake/mediapipe576.jpg', 'MediaPipe_Train_Fake/mediapipe577.jpg', 'MediaPipe_Train_Fake/mediapipe578.jpg', 'MediaPipe_Train_Fake/mediapipe579.jpg', 'MediaPipe_Train_Fake/mediapipe580.jpg', 'MediaPipe_Train_Fake/mediapipe581.jpg', 'MediaPipe_Train_Fake/mediapipe582.jpg', 'MediaPipe_Train_Fake/mediapipe583.jpg', 'MediaPipe_Train_Fake/mediapipe584.jpg', 'MediaPipe_Train_Fake/mediapipe585.jpg', 'MediaPipe_Train_Fake/mediapipe586.jpg', 'MediaPipe_Train_Fake/mediapipe587.jpg', 'MediaPipe_Train_Fake/mediapipe588.jpg', 'MediaPipe_Train_Fake/mediapipe589.jpg', 'MediaPipe_Train_Fake/mediapipe590.jpg', 'MediaPipe_Train_Fake/mediapipe591.jpg', 'MediaPipe_Train_Fake/mediapipe592.jpg', 'MediaPipe_Train_Fake/mediapipe593.jpg', 'MediaPipe_Train_Fake/mediapipe594.jpg', 'MediaPipe_Train_Fake/mediapipe595.jpg', 'MediaPipe_Train_Fake/mediapipe596.jpg', 'MediaPipe_Train_Fake/mediapipe597.jpg', 'MediaPipe_Train_Fake/mediapipe598.jpg', 'MediaPipe_Train_Fake/mediapipe599.jpg', 'MediaPipe_Train_Fake/mediapipe600.jpg', 'MediaPipe_Train_Fake/mediapipe601.jpg', 'MediaPipe_Train_Fake/mediapipe602.jpg', 'MediaPipe_Train_Fake/mediapipe603.jpg', 'MediaPipe_Train_Fake/mediapipe604.jpg', 'MediaPipe_Train_Fake/mediapipe605.jpg', 'MediaPipe_Train_Fake/mediapipe606.jpg', 'MediaPipe_Train_Fake/mediapipe607.jpg', 'MediaPipe_Train_Fake/mediapipe608.jpg', 'MediaPipe_Train_Fake/mediapipe609.jpg', 'MediaPipe_Train_Fake/mediapipe610.jpg', 'MediaPipe_Train_Fake/mediapipe611.jpg', 'MediaPipe_Train_Fake/mediapipe612.jpg', 'MediaPipe_Train_Fake/mediapipe613.jpg', 'MediaPipe_Train_Fake/mediapipe614.jpg', 'MediaPipe_Train_Fake/mediapipe615.jpg', 'MediaPipe_Train_Fake/mediapipe616.jpg', 'MediaPipe_Train_Fake/mediapipe617.jpg', 'MediaPipe_Train_Fake/mediapipe618.jpg', 'MediaPipe_Train_Fake/mediapipe619.jpg', 'MediaPipe_Train_Fake/mediapipe620.jpg', 'MediaPipe_Train_Fake/mediapipe621.jpg', 'MediaPipe_Train_Fake/mediapipe622.jpg', 'MediaPipe_Train_Fake/mediapipe623.jpg', 'MediaPipe_Train_Fake/mediapipe624.jpg', 'MediaPipe_Train_Fake/mediapipe625.jpg', 'MediaPipe_Train_Fake/mediapipe626.jpg', 'MediaPipe_Train_Fake/mediapipe627.jpg', 'MediaPipe_Train_Fake/mediapipe628.jpg', 'MediaPipe_Train_Fake/mediapipe629.jpg', 'MediaPipe_Train_Fake/mediapipe630.jpg', 'MediaPipe_Train_Fake/mediapipe631.jpg', 'MediaPipe_Train_Fake/mediapipe632.jpg', 'MediaPipe_Train_Fake/mediapipe633.jpg', 'MediaPipe_Train_Fake/mediapipe634.jpg', 'MediaPipe_Train_Fake/mediapipe635.jpg', 'MediaPipe_Train_Fake/mediapipe636.jpg', 'MediaPipe_Train_Fake/mediapipe637.jpg', 'MediaPipe_Train_Fake/mediapipe638.jpg', 'MediaPipe_Train_Fake/mediapipe639.jpg', 'MediaPipe_Train_Fake/mediapipe640.jpg', 'MediaPipe_Train_Fake/mediapipe641.jpg', 'MediaPipe_Train_Fake/mediapipe642.jpg', 'MediaPipe_Train_Fake/mediapipe643.jpg', 'MediaPipe_Train_Fake/mediapipe644.jpg', 'MediaPipe_Train_Fake/mediapipe645.jpg', 'MediaPipe_Train_Fake/mediapipe646.jpg', 'MediaPipe_Train_Fake/mediapipe647.jpg', 'MediaPipe_Train_Fake/mediapipe648.jpg', 'MediaPipe_Train_Fake/mediapipe649.jpg', 'MediaPipe_Train_Fake/mediapipe650.jpg', 'MediaPipe_Train_Fake/mediapipe651.jpg', 'MediaPipe_Train_Fake/mediapipe652.jpg', 'MediaPipe_Train_Fake/mediapipe653.jpg', 'MediaPipe_Train_Fake/mediapipe654.jpg', 'MediaPipe_Train_Fake/mediapipe655.jpg', 'MediaPipe_Train_Fake/mediapipe656.jpg', 'MediaPipe_Train_Fake/mediapipe657.jpg', 'MediaPipe_Train_Fake/mediapipe658.jpg', 'MediaPipe_Train_Fake/mediapipe659.jpg', 'MediaPipe_Train_Fake/mediapipe660.jpg', 'MediaPipe_Train_Fake/mediapipe661.jpg', 'MediaPipe_Train_Fake/mediapipe662.jpg', 'MediaPipe_Train_Fake/mediapipe663.jpg', 'MediaPipe_Train_Fake/mediapipe664.jpg', 'MediaPipe_Train_Fake/mediapipe665.jpg', 'MediaPipe_Train_Fake/mediapipe666.jpg', 'MediaPipe_Train_Fake/mediapipe667.jpg', 'MediaPipe_Train_Fake/mediapipe668.jpg', 'MediaPipe_Train_Fake/mediapipe669.jpg', 'MediaPipe_Train_Fake/mediapipe670.jpg', 'MediaPipe_Train_Fake/mediapipe671.jpg', 'MediaPipe_Train_Fake/mediapipe672.jpg', 'MediaPipe_Train_Fake/mediapipe673.jpg', 'MediaPipe_Train_Fake/mediapipe674.jpg', 'MediaPipe_Train_Fake/mediapipe675.jpg', 'MediaPipe_Train_Fake/mediapipe676.jpg', 'MediaPipe_Train_Fake/mediapipe677.jpg', 'MediaPipe_Train_Fake/mediapipe678.jpg', 'MediaPipe_Train_Fake/mediapipe679.jpg', 'MediaPipe_Train_Fake/mediapipe680.jpg', 'MediaPipe_Train_Fake/mediapipe681.jpg', 'MediaPipe_Train_Fake/mediapipe682.jpg', 'MediaPipe_Train_Fake/mediapipe683.jpg', 'MediaPipe_Train_Fake/mediapipe684.jpg', 'MediaPipe_Train_Fake/mediapipe685.jpg', 'MediaPipe_Train_Fake/mediapipe686.jpg', 'MediaPipe_Train_Fake/mediapipe687.jpg', 'MediaPipe_Train_Fake/mediapipe688.jpg', 'MediaPipe_Train_Fake/mediapipe689.jpg', 'MediaPipe_Train_Fake/mediapipe690.jpg', 'MediaPipe_Train_Fake/mediapipe691.jpg', 'MediaPipe_Train_Fake/mediapipe692.jpg', 'MediaPipe_Train_Fake/mediapipe693.jpg', 'MediaPipe_Train_Fake/mediapipe694.jpg', 'MediaPipe_Train_Fake/mediapipe695.jpg', 'MediaPipe_Train_Fake/mediapipe696.jpg', 'MediaPipe_Train_Fake/mediapipe697.jpg', 'MediaPipe_Train_Fake/mediapipe698.jpg', 'MediaPipe_Train_Fake/mediapipe699.jpg', 'MediaPipe_Train_Fake/mediapipe700.jpg', 'MediaPipe_Train_Fake/mediapipe701.jpg', 'MediaPipe_Train_Fake/mediapipe702.jpg', 'MediaPipe_Train_Fake/mediapipe703.jpg', 'MediaPipe_Train_Fake/mediapipe704.jpg', 'MediaPipe_Train_Fake/mediapipe705.jpg', 'MediaPipe_Train_Fake/mediapipe706.jpg', 'MediaPipe_Train_Fake/mediapipe707.jpg', 'MediaPipe_Train_Fake/mediapipe708.jpg', 'MediaPipe_Train_Fake/mediapipe709.jpg', 'MediaPipe_Train_Fake/mediapipe710.jpg', 'MediaPipe_Train_Fake/mediapipe711.jpg', 'MediaPipe_Train_Fake/mediapipe712.jpg', 'MediaPipe_Train_Fake/mediapipe713.jpg', 'MediaPipe_Train_Fake/mediapipe714.jpg', 'MediaPipe_Train_Fake/mediapipe715.jpg', 'MediaPipe_Train_Fake/mediapipe716.jpg', 'MediaPipe_Train_Fake/mediapipe717.jpg', 'MediaPipe_Train_Fake/mediapipe718.jpg', 'MediaPipe_Train_Fake/mediapipe719.jpg', 'MediaPipe_Train_Fake/mediapipe720.jpg', 'MediaPipe_Train_Fake/mediapipe721.jpg', 'MediaPipe_Train_Fake/mediapipe722.jpg', 'MediaPipe_Train_Fake/mediapipe723.jpg', 'MediaPipe_Train_Fake/mediapipe724.jpg', 'MediaPipe_Train_Fake/mediapipe725.jpg', 'MediaPipe_Train_Fake/mediapipe726.jpg', 'MediaPipe_Train_Fake/mediapipe727.jpg', 'MediaPipe_Train_Fake/mediapipe728.jpg', 'MediaPipe_Train_Fake/mediapipe729.jpg', 'MediaPipe_Train_Fake/mediapipe730.jpg', 'MediaPipe_Train_Fake/mediapipe731.jpg', 'MediaPipe_Train_Fake/mediapipe732.jpg', 'MediaPipe_Train_Fake/mediapipe733.jpg', 'MediaPipe_Train_Fake/mediapipe734.jpg', 'MediaPipe_Train_Fake/mediapipe735.jpg', 'MediaPipe_Train_Fake/mediapipe736.jpg', 'MediaPipe_Train_Fake/mediapipe737.jpg', 'MediaPipe_Train_Fake/mediapipe738.jpg', 'MediaPipe_Train_Fake/mediapipe739.jpg', 'MediaPipe_Train_Fake/mediapipe740.jpg', 'MediaPipe_Train_Fake/mediapipe741.jpg', 'MediaPipe_Train_Fake/mediapipe742.jpg', 'MediaPipe_Train_Fake/mediapipe743.jpg', 'MediaPipe_Train_Fake/mediapipe744.jpg', 'MediaPipe_Train_Fake/mediapipe745.jpg', 'MediaPipe_Train_Fake/mediapipe746.jpg', 'MediaPipe_Train_Fake/mediapipe747.jpg', 'MediaPipe_Train_Fake/mediapipe748.jpg', 'MediaPipe_Train_Fake/mediapipe749.jpg', 'MediaPipe_Train_Fake/mediapipe750.jpg', 'MediaPipe_Train_Fake/mediapipe751.jpg', 'MediaPipe_Train_Fake/mediapipe752.jpg', 'MediaPipe_Train_Fake/mediapipe753.jpg', 'MediaPipe_Train_Fake/mediapipe754.jpg', 'MediaPipe_Train_Fake/mediapipe755.jpg', 'MediaPipe_Train_Fake/mediapipe756.jpg', 'MediaPipe_Train_Fake/mediapipe757.jpg', 'MediaPipe_Train_Fake/mediapipe758.jpg', 'MediaPipe_Train_Fake/mediapipe759.jpg', 'MediaPipe_Train_Fake/mediapipe760.jpg', 'MediaPipe_Train_Fake/mediapipe761.jpg', 'MediaPipe_Train_Fake/mediapipe762.jpg', 'MediaPipe_Train_Fake/mediapipe763.jpg', 'MediaPipe_Train_Fake/mediapipe764.jpg', 'MediaPipe_Train_Fake/mediapipe765.jpg', 'MediaPipe_Train_Fake/mediapipe766.jpg', 'MediaPipe_Train_Fake/mediapipe767.jpg', 'MediaPipe_Train_Fake/mediapipe768.jpg', 'MediaPipe_Train_Fake/mediapipe769.jpg', 'MediaPipe_Train_Fake/mediapipe770.jpg', 'MediaPipe_Train_Fake/mediapipe771.jpg', 'MediaPipe_Train_Fake/mediapipe772.jpg', 'MediaPipe_Train_Fake/mediapipe773.jpg', 'MediaPipe_Train_Fake/mediapipe774.jpg', 'MediaPipe_Train_Fake/mediapipe775.jpg', 'MediaPipe_Train_Fake/mediapipe776.jpg', 'MediaPipe_Train_Fake/mediapipe777.jpg', 'MediaPipe_Train_Fake/mediapipe778.jpg', 'MediaPipe_Train_Fake/mediapipe779.jpg', 'MediaPipe_Train_Fake/mediapipe780.jpg', 'MediaPipe_Train_Fake/mediapipe781.jpg', 'MediaPipe_Train_Fake/mediapipe782.jpg', 'MediaPipe_Train_Fake/mediapipe783.jpg', 'MediaPipe_Train_Fake/mediapipe784.jpg', 'MediaPipe_Train_Fake/mediapipe785.jpg', 'MediaPipe_Train_Fake/mediapipe786.jpg', 'MediaPipe_Train_Fake/mediapipe787.jpg', 'MediaPipe_Train_Fake/mediapipe788.jpg', 'MediaPipe_Train_Fake/mediapipe789.jpg', 'MediaPipe_Train_Fake/mediapipe790.jpg', 'MediaPipe_Train_Fake/mediapipe791.jpg', 'MediaPipe_Train_Fake/mediapipe792.jpg', 'MediaPipe_Train_Fake/mediapipe793.jpg', 'MediaPipe_Train_Fake/mediapipe794.jpg', 'MediaPipe_Train_Fake/mediapipe795.jpg', 'MediaPipe_Train_Fake/mediapipe796.jpg', 'MediaPipe_Train_Fake/mediapipe797.jpg', 'MediaPipe_Train_Fake/mediapipe798.jpg', 'MediaPipe_Train_Fake/mediapipe799.jpg', 'MediaPipe_Train_Fake/mediapipe800.jpg', 'MediaPipe_Train_Fake/mediapipe801.jpg', 'MediaPipe_Train_Fake/mediapipe802.jpg', 'MediaPipe_Train_Fake/mediapipe803.jpg', 'MediaPipe_Train_Fake/mediapipe804.jpg', 'MediaPipe_Train_Fake/mediapipe805.jpg', 'MediaPipe_Train_Fake/mediapipe806.jpg', 'MediaPipe_Train_Fake/mediapipe807.jpg', 'MediaPipe_Train_Fake/mediapipe808.jpg', 'MediaPipe_Train_Fake/mediapipe809.jpg', 'MediaPipe_Train_Fake/mediapipe810.jpg', 'MediaPipe_Train_Fake/mediapipe811.jpg', 'MediaPipe_Train_Fake/mediapipe812.jpg', 'MediaPipe_Train_Fake/mediapipe813.jpg', 'MediaPipe_Train_Fake/mediapipe814.jpg', 'MediaPipe_Train_Fake/mediapipe815.jpg', 'MediaPipe_Train_Fake/mediapipe816.jpg', 'MediaPipe_Train_Fake/mediapipe817.jpg', 'MediaPipe_Train_Fake/mediapipe818.jpg', 'MediaPipe_Train_Fake/mediapipe819.jpg', 'MediaPipe_Train_Fake/mediapipe820.jpg', 'MediaPipe_Train_Fake/mediapipe821.jpg', 'MediaPipe_Train_Fake/mediapipe822.jpg', 'MediaPipe_Train_Fake/mediapipe823.jpg', 'MediaPipe_Train_Fake/mediapipe824.jpg', 'MediaPipe_Train_Fake/mediapipe825.jpg', 'MediaPipe_Train_Fake/mediapipe826.jpg', 'MediaPipe_Train_Fake/mediapipe827.jpg', 'MediaPipe_Train_Fake/mediapipe828.jpg', 'MediaPipe_Train_Fake/mediapipe829.jpg', 'MediaPipe_Train_Fake/mediapipe830.jpg', 'MediaPipe_Train_Fake/mediapipe831.jpg', 'MediaPipe_Train_Fake/mediapipe832.jpg', 'MediaPipe_Train_Fake/mediapipe833.jpg', 'MediaPipe_Train_Fake/mediapipe834.jpg', 'MediaPipe_Train_Fake/mediapipe835.jpg', 'MediaPipe_Train_Fake/mediapipe836.jpg', 'MediaPipe_Train_Fake/mediapipe837.jpg', 'MediaPipe_Train_Fake/mediapipe838.jpg', 'MediaPipe_Train_Fake/mediapipe839.jpg', 'MediaPipe_Train_Fake/mediapipe840.jpg', 'MediaPipe_Train_Fake/mediapipe841.jpg', 'MediaPipe_Train_Fake/mediapipe842.jpg', 'MediaPipe_Train_Fake/mediapipe843.jpg', 'MediaPipe_Train_Fake/mediapipe844.jpg', 'MediaPipe_Train_Fake/mediapipe845.jpg', 'MediaPipe_Train_Fake/mediapipe846.jpg', 'MediaPipe_Train_Fake/mediapipe847.jpg', 'MediaPipe_Train_Fake/mediapipe848.jpg', 'MediaPipe_Train_Fake/mediapipe849.jpg', 'MediaPipe_Train_Fake/mediapipe850.jpg', 'MediaPipe_Train_Fake/mediapipe851.jpg', 'MediaPipe_Train_Fake/mediapipe852.jpg', 'MediaPipe_Train_Fake/mediapipe853.jpg', 'MediaPipe_Train_Fake/mediapipe854.jpg', 'MediaPipe_Train_Fake/mediapipe855.jpg', 'MediaPipe_Train_Fake/mediapipe856.jpg', 'MediaPipe_Train_Fake/mediapipe857.jpg', 'MediaPipe_Train_Fake/mediapipe858.jpg', 'MediaPipe_Train_Fake/mediapipe859.jpg', 'MediaPipe_Train_Fake/mediapipe860.jpg', 'MediaPipe_Train_Fake/mediapipe861.jpg', 'MediaPipe_Train_Fake/mediapipe862.jpg', 'MediaPipe_Train_Fake/mediapipe863.jpg', 'MediaPipe_Train_Fake/mediapipe864.jpg', 'MediaPipe_Train_Fake/mediapipe865.jpg', 'MediaPipe_Train_Fake/mediapipe866.jpg', 'MediaPipe_Train_Fake/mediapipe867.jpg', 'MediaPipe_Train_Fake/mediapipe868.jpg', 'MediaPipe_Train_Fake/mediapipe869.jpg', 'MediaPipe_Train_Fake/mediapipe870.jpg', 'MediaPipe_Train_Fake/mediapipe871.jpg', 'MediaPipe_Train_Fake/mediapipe872.jpg', 'MediaPipe_Train_Fake/mediapipe873.jpg', 'MediaPipe_Train_Fake/mediapipe874.jpg', 'MediaPipe_Train_Fake/mediapipe875.jpg', 'MediaPipe_Train_Fake/mediapipe876.jpg', 'MediaPipe_Train_Fake/mediapipe877.jpg', 'MediaPipe_Train_Fake/mediapipe878.jpg', 'MediaPipe_Train_Fake/mediapipe879.jpg', 'MediaPipe_Train_Fake/mediapipe880.jpg', 'MediaPipe_Train_Fake/mediapipe881.jpg', 'MediaPipe_Train_Fake/mediapipe882.jpg', 'MediaPipe_Train_Fake/mediapipe883.jpg', 'MediaPipe_Train_Fake/mediapipe884.jpg', 'MediaPipe_Train_Fake/mediapipe885.jpg', 'MediaPipe_Train_Fake/mediapipe886.jpg', 'MediaPipe_Train_Fake/mediapipe887.jpg', 'MediaPipe_Train_Fake/mediapipe888.jpg', 'MediaPipe_Train_Fake/mediapipe889.jpg', 'MediaPipe_Train_Fake/mediapipe890.jpg', 'MediaPipe_Train_Fake/mediapipe891.jpg', 'MediaPipe_Train_Fake/mediapipe892.jpg', 'MediaPipe_Train_Fake/mediapipe893.jpg', 'MediaPipe_Train_Fake/mediapipe894.jpg', 'MediaPipe_Train_Fake/mediapipe895.jpg', 'MediaPipe_Train_Fake/mediapipe896.jpg', 'MediaPipe_Train_Fake/mediapipe897.jpg', 'MediaPipe_Train_Fake/mediapipe898.jpg', 'MediaPipe_Train_Fake/mediapipe899.jpg', 'MediaPipe_Train_Fake/mediapipe900.jpg', 'MediaPipe_Train_Fake/mediapipe901.jpg', 'MediaPipe_Train_Fake/mediapipe902.jpg', 'MediaPipe_Train_Fake/mediapipe903.jpg', 'MediaPipe_Train_Fake/mediapipe904.jpg', 'MediaPipe_Train_Fake/mediapipe905.jpg', 'MediaPipe_Train_Fake/mediapipe906.jpg', 'MediaPipe_Train_Fake/mediapipe907.jpg', 'MediaPipe_Train_Fake/mediapipe908.jpg', 'MediaPipe_Train_Fake/mediapipe909.jpg', 'MediaPipe_Train_Fake/mediapipe910.jpg', 'MediaPipe_Train_Fake/mediapipe911.jpg', 'MediaPipe_Train_Fake/mediapipe912.jpg', 'MediaPipe_Train_Fake/mediapipe913.jpg', 'MediaPipe_Train_Fake/mediapipe914.jpg', 'MediaPipe_Train_Fake/mediapipe915.jpg', 'MediaPipe_Train_Fake/mediapipe916.jpg', 'MediaPipe_Train_Fake/mediapipe917.jpg', 'MediaPipe_Train_Fake/mediapipe918.jpg', 'MediaPipe_Train_Fake/mediapipe919.jpg', 'MediaPipe_Train_Fake/mediapipe920.jpg', 'MediaPipe_Train_Fake/mediapipe921.jpg', 'MediaPipe_Train_Fake/mediapipe922.jpg', 'MediaPipe_Train_Fake/mediapipe923.jpg', 'MediaPipe_Train_Fake/mediapipe924.jpg', 'MediaPipe_Train_Fake/mediapipe925.jpg', 'MediaPipe_Train_Fake/mediapipe926.jpg', 'MediaPipe_Train_Fake/mediapipe927.jpg', 'MediaPipe_Train_Fake/mediapipe928.jpg', 'MediaPipe_Train_Fake/mediapipe929.jpg', 'MediaPipe_Train_Fake/mediapipe930.jpg', 'MediaPipe_Train_Fake/mediapipe931.jpg', 'MediaPipe_Train_Fake/mediapipe932.jpg', 'MediaPipe_Train_Fake/mediapipe933.jpg', 'MediaPipe_Train_Fake/mediapipe934.jpg', 'MediaPipe_Train_Fake/mediapipe935.jpg', 'MediaPipe_Train_Fake/mediapipe936.jpg', 'MediaPipe_Train_Fake/mediapipe937.jpg', 'MediaPipe_Train_Fake/mediapipe938.jpg', 'MediaPipe_Train_Fake/mediapipe939.jpg', 'MediaPipe_Train_Fake/mediapipe940.jpg', 'MediaPipe_Train_Fake/mediapipe941.jpg', 'MediaPipe_Train_Fake/mediapipe942.jpg', 'MediaPipe_Train_Fake/mediapipe943.jpg', 'MediaPipe_Train_Fake/mediapipe944.jpg', 'MediaPipe_Train_Fake/mediapipe945.jpg', 'MediaPipe_Train_Fake/mediapipe946.jpg', 'MediaPipe_Train_Fake/mediapipe947.jpg', 'MediaPipe_Train_Fake/mediapipe948.jpg', 'MediaPipe_Train_Fake/mediapipe949.jpg', 'MediaPipe_Train_Fake/mediapipe950.jpg', 'MediaPipe_Train_Fake/mediapipe951.jpg', 'MediaPipe_Train_Fake/mediapipe952.jpg', 'MediaPipe_Train_Fake/mediapipe953.jpg', 'MediaPipe_Train_Fake/mediapipe954.jpg', 'MediaPipe_Train_Fake/mediapipe955.jpg', 'MediaPipe_Train_Fake/mediapipe956.jpg', 'MediaPipe_Train_Fake/mediapipe957.jpg', 'MediaPipe_Train_Fake/mediapipe958.jpg', 'MediaPipe_Train_Fake/mediapipe959.jpg', 'MediaPipe_Train_Fake/mediapipe960.jpg', 'MediaPipe_Train_Fake/mediapipe961.jpg', 'MediaPipe_Train_Fake/mediapipe962.jpg', 'MediaPipe_Train_Fake/mediapipe963.jpg', 'MediaPipe_Train_Fake/mediapipe964.jpg', 'MediaPipe_Train_Fake/mediapipe965.jpg', 'MediaPipe_Train_Fake/mediapipe966.jpg', 'MediaPipe_Train_Fake/mediapipe967.jpg', 'MediaPipe_Train_Fake/mediapipe968.jpg', 'MediaPipe_Train_Fake/mediapipe969.jpg', 'MediaPipe_Train_Fake/mediapipe970.jpg', 'MediaPipe_Train_Fake/mediapipe971.jpg', 'MediaPipe_Train_Fake/mediapipe972.jpg', 'MediaPipe_Train_Fake/mediapipe973.jpg', 'MediaPipe_Train_Fake/mediapipe974.jpg', 'MediaPipe_Train_Fake/mediapipe975.jpg', 'MediaPipe_Train_Fake/mediapipe976.jpg', 'MediaPipe_Train_Fake/mediapipe977.jpg', 'MediaPipe_Train_Fake/mediapipe978.jpg', 'MediaPipe_Train_Fake/mediapipe979.jpg', 'MediaPipe_Train_Fake/mediapipe980.jpg', 'MediaPipe_Train_Fake/mediapipe981.jpg', 'MediaPipe_Train_Fake/mediapipe982.jpg', 'MediaPipe_Train_Fake/mediapipe983.jpg', 'MediaPipe_Train_Fake/mediapipe984.jpg', 'MediaPipe_Train_Fake/mediapipe985.jpg', 'MediaPipe_Train_Fake/mediapipe986.jpg', 'MediaPipe_Train_Fake/mediapipe987.jpg', 'MediaPipe_Train_Fake/mediapipe988.jpg', 'MediaPipe_Train_Fake/mediapipe989.jpg', 'MediaPipe_Train_Fake/mediapipe990.jpg', 'MediaPipe_Train_Fake/mediapipe991.jpg', 'MediaPipe_Train_Fake/mediapipe992.jpg', 'MediaPipe_Train_Fake/mediapipe993.jpg', 'MediaPipe_Train_Fake/mediapipe994.jpg', 'MediaPipe_Train_Fake/mediapipe995.jpg', 'MediaPipe_Train_Fake/mediapipe996.jpg', 'MediaPipe_Train_Fake/mediapipe997.jpg', 'MediaPipe_Train_Fake/mediapipe998.jpg', 'MediaPipe_Train_Fake/mediapipe999.jpg', 'MediaPipe_Train_Fake/mediapipe1000.jpg', 'MediaPipe_Train_Fake/mediapipe1001.jpg', 'MediaPipe_Train_Fake/mediapipe1002.jpg', 'MediaPipe_Train_Fake/mediapipe1003.jpg', 'MediaPipe_Train_Fake/mediapipe1004.jpg', 'MediaPipe_Train_Fake/mediapipe1005.jpg', 'MediaPipe_Train_Fake/mediapipe1006.jpg', 'MediaPipe_Train_Fake/mediapipe1007.jpg', 'MediaPipe_Train_Fake/mediapipe1008.jpg', 'MediaPipe_Train_Fake/mediapipe1009.jpg', 'MediaPipe_Train_Fake/mediapipe1010.jpg', 'MediaPipe_Train_Fake/mediapipe1011.jpg', 'MediaPipe_Train_Fake/mediapipe1012.jpg', 'MediaPipe_Train_Fake/mediapipe1013.jpg', 'MediaPipe_Train_Fake/mediapipe1014.jpg', 'MediaPipe_Train_Fake/mediapipe1015.jpg', 'MediaPipe_Train_Fake/mediapipe1016.jpg', 'MediaPipe_Train_Fake/mediapipe1017.jpg', 'MediaPipe_Train_Fake/mediapipe1018.jpg', 'MediaPipe_Train_Fake/mediapipe1019.jpg', 'MediaPipe_Train_Fake/mediapipe1020.jpg', 'MediaPipe_Train_Fake/mediapipe1021.jpg', 'MediaPipe_Train_Fake/mediapipe1022.jpg', 'MediaPipe_Train_Fake/mediapipe1023.jpg', 'MediaPipe_Train_Fake/mediapipe1024.jpg', 'MediaPipe_Train_Fake/mediapipe1025.jpg', 'MediaPipe_Train_Fake/mediapipe1026.jpg', 'MediaPipe_Train_Fake/mediapipe1027.jpg', 'MediaPipe_Train_Fake/mediapipe1028.jpg', 'MediaPipe_Train_Fake/mediapipe1029.jpg', 'MediaPipe_Train_Fake/mediapipe1030.jpg', 'MediaPipe_Train_Fake/mediapipe1031.jpg', 'MediaPipe_Train_Fake/mediapipe1032.jpg', 'MediaPipe_Train_Fake/mediapipe1033.jpg', 'MediaPipe_Train_Fake/mediapipe1034.jpg', 'MediaPipe_Train_Fake/mediapipe1035.jpg', 'MediaPipe_Train_Fake/mediapipe1036.jpg', 'MediaPipe_Train_Fake/mediapipe1037.jpg', 'MediaPipe_Train_Fake/mediapipe1038.jpg', 'MediaPipe_Train_Fake/mediapipe1039.jpg', 'MediaPipe_Train_Fake/mediapipe1040.jpg', 'MediaPipe_Train_Fake/mediapipe1041.jpg', 'MediaPipe_Train_Fake/mediapipe1042.jpg', 'MediaPipe_Train_Fake/mediapipe1043.jpg', 'MediaPipe_Train_Fake/mediapipe1044.jpg', 'MediaPipe_Train_Fake/mediapipe1045.jpg', 'MediaPipe_Train_Fake/mediapipe1046.jpg', 'MediaPipe_Train_Fake/mediapipe1047.jpg', 'MediaPipe_Train_Fake/mediapipe1048.jpg', 'MediaPipe_Train_Fake/mediapipe1049.jpg', 'MediaPipe_Train_Fake/mediapipe1050.jpg', 'MediaPipe_Train_Fake/mediapipe1051.jpg', 'MediaPipe_Train_Fake/mediapipe1052.jpg', 'MediaPipe_Train_Fake/mediapipe1053.jpg', 'MediaPipe_Train_Fake/mediapipe1054.jpg', 'MediaPipe_Train_Fake/mediapipe1055.jpg', 'MediaPipe_Train_Fake/mediapipe1056.jpg', 'MediaPipe_Train_Fake/mediapipe1057.jpg', 'MediaPipe_Train_Fake/mediapipe1058.jpg', 'MediaPipe_Train_Fake/mediapipe1059.jpg', 'MediaPipe_Train_Fake/mediapipe1060.jpg', 'MediaPipe_Train_Fake/mediapipe1061.jpg', 'MediaPipe_Train_Fake/mediapipe1062.jpg', 'MediaPipe_Train_Fake/mediapipe1063.jpg', 'MediaPipe_Train_Fake/mediapipe1064.jpg', 'MediaPipe_Train_Fake/mediapipe1065.jpg', 'MediaPipe_Train_Fake/mediapipe1066.jpg', 'MediaPipe_Train_Fake/mediapipe1067.jpg', 'MediaPipe_Train_Fake/mediapipe1068.jpg', 'MediaPipe_Train_Fake/mediapipe1069.jpg', 'MediaPipe_Train_Fake/mediapipe1070.jpg', 'MediaPipe_Train_Fake/mediapipe1071.jpg', 'MediaPipe_Train_Fake/mediapipe1072.jpg', 'MediaPipe_Train_Fake/mediapipe1073.jpg', 'MediaPipe_Train_Fake/mediapipe1074.jpg', 'MediaPipe_Train_Fake/mediapipe1075.jpg', 'MediaPipe_Train_Fake/mediapipe1076.jpg', 'MediaPipe_Train_Fake/mediapipe1077.jpg', 'MediaPipe_Train_Fake/mediapipe1078.jpg', 'MediaPipe_Train_Fake/mediapipe1079.jpg', 'MediaPipe_Train_Fake/mediapipe1080.jpg', 'MediaPipe_Train_Fake/mediapipe1081.jpg', 'MediaPipe_Train_Fake/mediapipe1082.jpg', 'MediaPipe_Train_Fake/mediapipe1083.jpg', 'MediaPipe_Train_Fake/mediapipe1084.jpg', 'MediaPipe_Train_Fake/mediapipe1085.jpg', 'MediaPipe_Train_Fake/mediapipe1086.jpg', 'MediaPipe_Train_Fake/mediapipe1087.jpg', 'MediaPipe_Train_Fake/mediapipe1088.jpg', 'MediaPipe_Train_Fake/mediapipe1089.jpg', 'MediaPipe_Train_Fake/mediapipe1090.jpg', 'MediaPipe_Train_Fake/mediapipe1091.jpg', 'MediaPipe_Train_Fake/mediapipe1092.jpg', 'MediaPipe_Train_Fake/mediapipe1093.jpg', 'MediaPipe_Train_Fake/mediapipe1094.jpg', 'MediaPipe_Train_Fake/mediapipe1095.jpg', 'MediaPipe_Train_Fake/mediapipe1096.jpg', 'MediaPipe_Train_Fake/mediapipe1097.jpg', 'MediaPipe_Train_Fake/mediapipe1098.jpg', 'MediaPipe_Train_Fake/mediapipe1099.jpg', 'MediaPipe_Train_Fake/mediapipe1100.jpg', 'MediaPipe_Train_Fake/mediapipe1101.jpg', 'MediaPipe_Train_Fake/mediapipe1102.jpg', 'MediaPipe_Train_Fake/mediapipe1103.jpg', 'MediaPipe_Train_Fake/mediapipe1104.jpg', 'MediaPipe_Train_Fake/mediapipe1105.jpg', 'MediaPipe_Train_Fake/mediapipe1106.jpg', 'MediaPipe_Train_Fake/mediapipe1107.jpg', 'MediaPipe_Train_Fake/mediapipe1108.jpg', 'MediaPipe_Train_Fake/mediapipe1109.jpg', 'MediaPipe_Train_Fake/mediapipe1110.jpg', 'MediaPipe_Train_Fake/mediapipe1111.jpg', 'MediaPipe_Train_Fake/mediapipe1112.jpg', 'MediaPipe_Train_Fake/mediapipe1113.jpg', 'MediaPipe_Train_Fake/mediapipe1114.jpg', 'MediaPipe_Train_Fake/mediapipe1115.jpg', 'MediaPipe_Train_Fake/mediapipe1116.jpg', 'MediaPipe_Train_Fake/mediapipe1117.jpg', 'MediaPipe_Train_Fake/mediapipe1118.jpg', 'MediaPipe_Train_Fake/mediapipe1119.jpg', 'MediaPipe_Train_Fake/mediapipe1120.jpg', 'MediaPipe_Train_Fake/mediapipe1121.jpg', 'MediaPipe_Train_Fake/mediapipe1122.jpg', 'MediaPipe_Train_Fake/mediapipe1123.jpg', 'MediaPipe_Train_Fake/mediapipe1124.jpg', 'MediaPipe_Train_Fake/mediapipe1125.jpg', 'MediaPipe_Train_Fake/mediapipe1126.jpg', 'MediaPipe_Train_Fake/mediapipe1127.jpg', 'MediaPipe_Train_Fake/mediapipe1128.jpg', 'MediaPipe_Train_Fake/mediapipe1129.jpg', 'MediaPipe_Train_Fake/mediapipe1130.jpg', 'MediaPipe_Train_Fake/mediapipe1131.jpg', 'MediaPipe_Train_Fake/mediapipe1132.jpg', 'MediaPipe_Train_Fake/mediapipe1133.jpg', 'MediaPipe_Train_Fake/mediapipe1134.jpg', 'MediaPipe_Train_Fake/mediapipe1135.jpg', 'MediaPipe_Train_Fake/mediapipe1136.jpg', 'MediaPipe_Train_Fake/mediapipe1137.jpg', 'MediaPipe_Train_Fake/mediapipe1138.jpg', 'MediaPipe_Train_Fake/mediapipe1139.jpg', 'MediaPipe_Train_Fake/mediapipe1140.jpg', 'MediaPipe_Train_Fake/mediapipe1141.jpg', 'MediaPipe_Train_Fake/mediapipe1142.jpg', 'MediaPipe_Train_Fake/mediapipe1143.jpg', 'MediaPipe_Train_Fake/mediapipe1144.jpg', 'MediaPipe_Train_Fake/mediapipe1145.jpg', 'MediaPipe_Train_Fake/mediapipe1146.jpg', 'MediaPipe_Train_Fake/mediapipe1147.jpg', 'MediaPipe_Train_Fake/mediapipe1148.jpg', 'MediaPipe_Train_Fake/mediapipe1149.jpg', 'MediaPipe_Train_Fake/mediapipe1150.jpg', 'MediaPipe_Train_Fake/mediapipe1151.jpg', 'MediaPipe_Train_Fake/mediapipe1152.jpg', 'MediaPipe_Train_Fake/mediapipe1153.jpg', 'MediaPipe_Train_Fake/mediapipe1154.jpg', 'MediaPipe_Train_Fake/mediapipe1155.jpg', 'MediaPipe_Train_Fake/mediapipe1156.jpg', 'MediaPipe_Train_Fake/mediapipe1157.jpg', 'MediaPipe_Train_Fake/mediapipe1158.jpg', 'MediaPipe_Train_Fake/mediapipe1159.jpg', 'MediaPipe_Train_Fake/mediapipe1160.jpg', 'MediaPipe_Train_Fake/mediapipe1161.jpg', 'MediaPipe_Train_Fake/mediapipe1162.jpg', 'MediaPipe_Train_Fake/mediapipe1163.jpg', 'MediaPipe_Train_Fake/mediapipe1164.jpg', 'MediaPipe_Train_Fake/mediapipe1165.jpg', 'MediaPipe_Train_Fake/mediapipe1166.jpg', 'MediaPipe_Train_Fake/mediapipe1167.jpg', 'MediaPipe_Train_Fake/mediapipe1168.jpg', 'MediaPipe_Train_Fake/mediapipe1169.jpg', 'MediaPipe_Train_Fake/mediapipe1170.jpg', 'MediaPipe_Train_Fake/mediapipe1171.jpg', 'MediaPipe_Train_Fake/mediapipe1172.jpg', 'MediaPipe_Train_Fake/mediapipe1173.jpg', 'MediaPipe_Train_Fake/mediapipe1174.jpg', 'MediaPipe_Train_Fake/mediapipe1175.jpg', 'MediaPipe_Train_Fake/mediapipe1176.jpg', 'MediaPipe_Train_Fake/mediapipe1177.jpg', 'MediaPipe_Train_Fake/mediapipe1178.jpg', 'MediaPipe_Train_Fake/mediapipe1179.jpg', 'MediaPipe_Train_Fake/mediapipe1180.jpg', 'MediaPipe_Train_Fake/mediapipe1181.jpg', 'MediaPipe_Train_Fake/mediapipe1182.jpg', 'MediaPipe_Train_Fake/mediapipe1183.jpg', 'MediaPipe_Train_Fake/mediapipe1184.jpg', 'MediaPipe_Train_Fake/mediapipe1185.jpg', 'MediaPipe_Train_Fake/mediapipe1186.jpg', 'MediaPipe_Train_Fake/mediapipe1187.jpg', 'MediaPipe_Train_Fake/mediapipe1188.jpg', 'MediaPipe_Train_Fake/mediapipe1189.jpg', 'MediaPipe_Train_Fake/mediapipe1190.jpg', 'MediaPipe_Train_Fake/mediapipe1191.jpg', 'MediaPipe_Train_Fake/mediapipe1192.jpg', 'MediaPipe_Train_Fake/mediapipe1193.jpg', 'MediaPipe_Train_Fake/mediapipe1194.jpg', 'MediaPipe_Train_Fake/mediapipe1195.jpg', 'MediaPipe_Train_Fake/mediapipe1196.jpg', 'MediaPipe_Train_Fake/mediapipe1197.jpg', 'MediaPipe_Train_Fake/mediapipe1198.jpg', 'MediaPipe_Train_Fake/mediapipe1199.jpg', 'MediaPipe_Train_Fake/mediapipe1200.jpg', 'MediaPipe_Train_Fake/mediapipe1201.jpg', 'MediaPipe_Train_Fake/mediapipe1202.jpg', 'MediaPipe_Train_Fake/mediapipe1203.jpg', 'MediaPipe_Train_Fake/mediapipe1204.jpg', 'MediaPipe_Train_Fake/mediapipe1205.jpg', 'MediaPipe_Train_Fake/mediapipe1206.jpg', 'MediaPipe_Train_Fake/mediapipe1207.jpg', 'MediaPipe_Train_Fake/mediapipe1208.jpg', 'MediaPipe_Train_Fake/mediapipe1209.jpg', 'MediaPipe_Train_Fake/mediapipe1210.jpg', 'MediaPipe_Train_Fake/mediapipe1211.jpg', 'MediaPipe_Train_Fake/mediapipe1212.jpg', 'MediaPipe_Train_Fake/mediapipe1213.jpg', 'MediaPipe_Train_Fake/mediapipe1214.jpg', 'MediaPipe_Train_Fake/mediapipe1215.jpg', 'MediaPipe_Train_Fake/mediapipe1216.jpg', 'MediaPipe_Train_Fake/mediapipe1217.jpg', 'MediaPipe_Train_Fake/mediapipe1218.jpg', 'MediaPipe_Train_Fake/mediapipe1219.jpg', 'MediaPipe_Train_Fake/mediapipe1220.jpg', 'MediaPipe_Train_Fake/mediapipe1221.jpg', 'MediaPipe_Train_Fake/mediapipe1222.jpg', 'MediaPipe_Train_Fake/mediapipe1223.jpg', 'MediaPipe_Train_Fake/mediapipe1224.jpg', 'MediaPipe_Train_Fake/mediapipe1225.jpg', 'MediaPipe_Train_Fake/mediapipe1226.jpg', 'MediaPipe_Train_Fake/mediapipe1227.jpg', 'MediaPipe_Train_Fake/mediapipe1228.jpg', 'MediaPipe_Train_Fake/mediapipe1229.jpg', 'MediaPipe_Train_Fake/mediapipe1230.jpg', 'MediaPipe_Train_Fake/mediapipe1231.jpg', 'MediaPipe_Train_Fake/mediapipe1232.jpg', 'MediaPipe_Train_Fake/mediapipe1233.jpg', 'MediaPipe_Train_Fake/mediapipe1234.jpg', 'MediaPipe_Train_Fake/mediapipe1235.jpg', 'MediaPipe_Train_Fake/mediapipe1236.jpg', 'MediaPipe_Train_Fake/mediapipe1237.jpg', 'MediaPipe_Train_Fake/mediapipe1238.jpg', 'MediaPipe_Train_Fake/mediapipe1239.jpg', 'MediaPipe_Train_Fake/mediapipe1240.jpg', 'MediaPipe_Train_Fake/mediapipe1241.jpg', 'MediaPipe_Train_Fake/mediapipe1242.jpg', 'MediaPipe_Train_Fake/mediapipe1243.jpg', 'MediaPipe_Train_Fake/mediapipe1244.jpg', 'MediaPipe_Train_Fake/mediapipe1245.jpg', 'MediaPipe_Train_Fake/mediapipe1246.jpg', 'MediaPipe_Train_Fake/mediapipe1247.jpg', 'MediaPipe_Train_Fake/mediapipe1248.jpg', 'MediaPipe_Train_Fake/mediapipe1249.jpg', 'MediaPipe_Train_Fake/mediapipe1250.jpg', 'MediaPipe_Train_Fake/mediapipe1251.jpg', 'MediaPipe_Train_Fake/mediapipe1252.jpg', 'MediaPipe_Train_Fake/mediapipe1253.jpg', 'MediaPipe_Train_Fake/mediapipe1254.jpg', 'MediaPipe_Train_Fake/mediapipe1255.jpg', 'MediaPipe_Train_Fake/mediapipe1256.jpg', 'MediaPipe_Train_Fake/mediapipe1257.jpg', 'MediaPipe_Train_Fake/mediapipe1258.jpg', 'MediaPipe_Train_Fake/mediapipe1259.jpg', 'MediaPipe_Train_Fake/mediapipe1260.jpg', 'MediaPipe_Train_Fake/mediapipe1261.jpg', 'MediaPipe_Train_Fake/mediapipe1262.jpg', 'MediaPipe_Train_Fake/mediapipe1263.jpg', 'MediaPipe_Train_Fake/mediapipe1264.jpg', 'MediaPipe_Train_Fake/mediapipe1265.jpg', 'MediaPipe_Train_Fake/mediapipe1266.jpg', 'MediaPipe_Train_Fake/mediapipe1267.jpg', 'MediaPipe_Train_Fake/mediapipe1268.jpg', 'MediaPipe_Train_Fake/mediapipe1269.jpg', 'MediaPipe_Train_Fake/mediapipe1270.jpg', 'MediaPipe_Train_Fake/mediapipe1271.jpg', 'MediaPipe_Train_Fake/mediapipe1272.jpg', 'MediaPipe_Train_Fake/mediapipe1273.jpg', 'MediaPipe_Train_Fake/mediapipe1274.jpg', 'MediaPipe_Train_Fake/mediapipe1275.jpg', 'MediaPipe_Train_Fake/mediapipe1276.jpg', 'MediaPipe_Train_Fake/mediapipe1277.jpg', 'MediaPipe_Train_Fake/mediapipe1278.jpg', 'MediaPipe_Train_Fake/mediapipe1279.jpg', 'MediaPipe_Train_Fake/mediapipe1280.jpg', 'MediaPipe_Train_Fake/mediapipe1281.jpg', 'MediaPipe_Train_Fake/mediapipe1282.jpg', 'MediaPipe_Train_Fake/mediapipe1283.jpg', 'MediaPipe_Train_Fake/mediapipe1284.jpg', 'MediaPipe_Train_Fake/mediapipe1285.jpg', 'MediaPipe_Train_Fake/mediapipe1286.jpg', 'MediaPipe_Train_Fake/mediapipe1287.jpg', 'MediaPipe_Train_Fake/mediapipe1288.jpg', 'MediaPipe_Train_Fake/mediapipe1289.jpg', 'MediaPipe_Train_Fake/mediapipe1290.jpg', 'MediaPipe_Train_Fake/mediapipe1291.jpg', 'MediaPipe_Train_Fake/mediapipe1292.jpg', 'MediaPipe_Train_Fake/mediapipe1293.jpg', 'MediaPipe_Train_Fake/mediapipe1294.jpg', 'MediaPipe_Train_Fake/mediapipe1295.jpg', 'MediaPipe_Train_Fake/mediapipe1296.jpg', 'MediaPipe_Train_Fake/mediapipe1297.jpg', 'MediaPipe_Train_Fake/mediapipe1298.jpg', 'MediaPipe_Train_Fake/mediapipe1299.jpg', 'MediaPipe_Train_Fake/mediapipe1300.jpg', 'MediaPipe_Train_Fake/mediapipe1301.jpg', 'MediaPipe_Train_Fake/mediapipe1302.jpg', 'MediaPipe_Train_Fake/mediapipe1303.jpg', 'MediaPipe_Train_Fake/mediapipe1304.jpg', 'MediaPipe_Train_Fake/mediapipe1305.jpg', 'MediaPipe_Train_Fake/mediapipe1306.jpg', 'MediaPipe_Train_Fake/mediapipe1307.jpg', 'MediaPipe_Train_Fake/mediapipe1308.jpg', 'MediaPipe_Train_Fake/mediapipe1309.jpg', 'MediaPipe_Train_Fake/mediapipe1310.jpg', 'MediaPipe_Train_Fake/mediapipe1311.jpg', 'MediaPipe_Train_Fake/mediapipe1312.jpg', 'MediaPipe_Train_Fake/mediapipe1313.jpg', 'MediaPipe_Train_Fake/mediapipe1314.jpg', 'MediaPipe_Train_Fake/mediapipe1315.jpg', 'MediaPipe_Train_Fake/mediapipe1316.jpg', 'MediaPipe_Train_Fake/mediapipe1317.jpg', 'MediaPipe_Train_Fake/mediapipe1318.jpg', 'MediaPipe_Train_Fake/mediapipe1319.jpg', 'MediaPipe_Train_Fake/mediapipe1320.jpg', 'MediaPipe_Train_Fake/mediapipe1321.jpg', 'MediaPipe_Train_Fake/mediapipe1322.jpg', 'MediaPipe_Train_Fake/mediapipe1323.jpg', 'MediaPipe_Train_Fake/mediapipe1324.jpg', 'MediaPipe_Train_Fake/mediapipe1325.jpg', 'MediaPipe_Train_Fake/mediapipe1326.jpg', 'MediaPipe_Train_Fake/mediapipe1327.jpg', 'MediaPipe_Train_Fake/mediapipe1328.jpg', 'MediaPipe_Train_Fake/mediapipe1329.jpg', 'MediaPipe_Train_Fake/mediapipe1330.jpg', 'MediaPipe_Train_Fake/mediapipe1331.jpg', 'MediaPipe_Train_Fake/mediapipe1332.jpg', 'MediaPipe_Train_Fake/mediapipe1333.jpg']\n",
            "['MediaPipe_Train_Real/mediapipe0.jpg', 'MediaPipe_Train_Real/mediapipe1.jpg', 'MediaPipe_Train_Real/mediapipe2.jpg', 'MediaPipe_Train_Real/mediapipe3.jpg', 'MediaPipe_Train_Real/mediapipe4.jpg', 'MediaPipe_Train_Real/mediapipe5.jpg', 'MediaPipe_Train_Real/mediapipe6.jpg', 'MediaPipe_Train_Real/mediapipe7.jpg', 'MediaPipe_Train_Real/mediapipe8.jpg', 'MediaPipe_Train_Real/mediapipe9.jpg', 'MediaPipe_Train_Real/mediapipe10.jpg', 'MediaPipe_Train_Real/mediapipe11.jpg', 'MediaPipe_Train_Real/mediapipe12.jpg', 'MediaPipe_Train_Real/mediapipe13.jpg', 'MediaPipe_Train_Real/mediapipe14.jpg', 'MediaPipe_Train_Real/mediapipe15.jpg', 'MediaPipe_Train_Real/mediapipe16.jpg', 'MediaPipe_Train_Real/mediapipe17.jpg', 'MediaPipe_Train_Real/mediapipe18.jpg', 'MediaPipe_Train_Real/mediapipe19.jpg', 'MediaPipe_Train_Real/mediapipe20.jpg', 'MediaPipe_Train_Real/mediapipe21.jpg', 'MediaPipe_Train_Real/mediapipe22.jpg', 'MediaPipe_Train_Real/mediapipe23.jpg', 'MediaPipe_Train_Real/mediapipe24.jpg', 'MediaPipe_Train_Real/mediapipe25.jpg', 'MediaPipe_Train_Real/mediapipe26.jpg', 'MediaPipe_Train_Real/mediapipe27.jpg', 'MediaPipe_Train_Real/mediapipe28.jpg', 'MediaPipe_Train_Real/mediapipe29.jpg', 'MediaPipe_Train_Real/mediapipe30.jpg', 'MediaPipe_Train_Real/mediapipe31.jpg', 'MediaPipe_Train_Real/mediapipe32.jpg', 'MediaPipe_Train_Real/mediapipe33.jpg', 'MediaPipe_Train_Real/mediapipe34.jpg', 'MediaPipe_Train_Real/mediapipe35.jpg', 'MediaPipe_Train_Real/mediapipe36.jpg', 'MediaPipe_Train_Real/mediapipe37.jpg', 'MediaPipe_Train_Real/mediapipe38.jpg', 'MediaPipe_Train_Real/mediapipe39.jpg', 'MediaPipe_Train_Real/mediapipe40.jpg', 'MediaPipe_Train_Real/mediapipe41.jpg', 'MediaPipe_Train_Real/mediapipe42.jpg', 'MediaPipe_Train_Real/mediapipe43.jpg', 'MediaPipe_Train_Real/mediapipe44.jpg', 'MediaPipe_Train_Real/mediapipe45.jpg', 'MediaPipe_Train_Real/mediapipe46.jpg', 'MediaPipe_Train_Real/mediapipe47.jpg', 'MediaPipe_Train_Real/mediapipe48.jpg', 'MediaPipe_Train_Real/mediapipe49.jpg', 'MediaPipe_Train_Real/mediapipe50.jpg', 'MediaPipe_Train_Real/mediapipe51.jpg', 'MediaPipe_Train_Real/mediapipe52.jpg', 'MediaPipe_Train_Real/mediapipe53.jpg', 'MediaPipe_Train_Real/mediapipe54.jpg', 'MediaPipe_Train_Real/mediapipe55.jpg', 'MediaPipe_Train_Real/mediapipe56.jpg', 'MediaPipe_Train_Real/mediapipe57.jpg', 'MediaPipe_Train_Real/mediapipe58.jpg', 'MediaPipe_Train_Real/mediapipe59.jpg', 'MediaPipe_Train_Real/mediapipe60.jpg', 'MediaPipe_Train_Real/mediapipe61.jpg', 'MediaPipe_Train_Real/mediapipe62.jpg', 'MediaPipe_Train_Real/mediapipe63.jpg', 'MediaPipe_Train_Real/mediapipe64.jpg', 'MediaPipe_Train_Real/mediapipe65.jpg', 'MediaPipe_Train_Real/mediapipe66.jpg', 'MediaPipe_Train_Real/mediapipe67.jpg', 'MediaPipe_Train_Real/mediapipe68.jpg', 'MediaPipe_Train_Real/mediapipe69.jpg', 'MediaPipe_Train_Real/mediapipe70.jpg', 'MediaPipe_Train_Real/mediapipe71.jpg', 'MediaPipe_Train_Real/mediapipe72.jpg', 'MediaPipe_Train_Real/mediapipe73.jpg', 'MediaPipe_Train_Real/mediapipe74.jpg', 'MediaPipe_Train_Real/mediapipe75.jpg', 'MediaPipe_Train_Real/mediapipe76.jpg', 'MediaPipe_Train_Real/mediapipe77.jpg', 'MediaPipe_Train_Real/mediapipe78.jpg', 'MediaPipe_Train_Real/mediapipe79.jpg', 'MediaPipe_Train_Real/mediapipe80.jpg', 'MediaPipe_Train_Real/mediapipe81.jpg', 'MediaPipe_Train_Real/mediapipe82.jpg', 'MediaPipe_Train_Real/mediapipe83.jpg', 'MediaPipe_Train_Real/mediapipe84.jpg', 'MediaPipe_Train_Real/mediapipe85.jpg', 'MediaPipe_Train_Real/mediapipe86.jpg', 'MediaPipe_Train_Real/mediapipe87.jpg', 'MediaPipe_Train_Real/mediapipe88.jpg', 'MediaPipe_Train_Real/mediapipe89.jpg', 'MediaPipe_Train_Real/mediapipe90.jpg', 'MediaPipe_Train_Real/mediapipe91.jpg', 'MediaPipe_Train_Real/mediapipe92.jpg', 'MediaPipe_Train_Real/mediapipe93.jpg', 'MediaPipe_Train_Real/mediapipe94.jpg', 'MediaPipe_Train_Real/mediapipe95.jpg', 'MediaPipe_Train_Real/mediapipe96.jpg', 'MediaPipe_Train_Real/mediapipe97.jpg', 'MediaPipe_Train_Real/mediapipe98.jpg', 'MediaPipe_Train_Real/mediapipe99.jpg', 'MediaPipe_Train_Real/mediapipe100.jpg', 'MediaPipe_Train_Real/mediapipe101.jpg', 'MediaPipe_Train_Real/mediapipe102.jpg', 'MediaPipe_Train_Real/mediapipe103.jpg', 'MediaPipe_Train_Real/mediapipe104.jpg', 'MediaPipe_Train_Real/mediapipe105.jpg', 'MediaPipe_Train_Real/mediapipe106.jpg', 'MediaPipe_Train_Real/mediapipe107.jpg', 'MediaPipe_Train_Real/mediapipe108.jpg', 'MediaPipe_Train_Real/mediapipe109.jpg', 'MediaPipe_Train_Real/mediapipe110.jpg', 'MediaPipe_Train_Real/mediapipe111.jpg', 'MediaPipe_Train_Real/mediapipe112.jpg', 'MediaPipe_Train_Real/mediapipe113.jpg', 'MediaPipe_Train_Real/mediapipe114.jpg', 'MediaPipe_Train_Real/mediapipe115.jpg', 'MediaPipe_Train_Real/mediapipe116.jpg', 'MediaPipe_Train_Real/mediapipe117.jpg', 'MediaPipe_Train_Real/mediapipe118.jpg', 'MediaPipe_Train_Real/mediapipe119.jpg', 'MediaPipe_Train_Real/mediapipe120.jpg', 'MediaPipe_Train_Real/mediapipe121.jpg', 'MediaPipe_Train_Real/mediapipe122.jpg', 'MediaPipe_Train_Real/mediapipe123.jpg', 'MediaPipe_Train_Real/mediapipe124.jpg', 'MediaPipe_Train_Real/mediapipe125.jpg', 'MediaPipe_Train_Real/mediapipe126.jpg', 'MediaPipe_Train_Real/mediapipe127.jpg', 'MediaPipe_Train_Real/mediapipe128.jpg', 'MediaPipe_Train_Real/mediapipe129.jpg', 'MediaPipe_Train_Real/mediapipe130.jpg', 'MediaPipe_Train_Real/mediapipe131.jpg', 'MediaPipe_Train_Real/mediapipe132.jpg', 'MediaPipe_Train_Real/mediapipe133.jpg', 'MediaPipe_Train_Real/mediapipe134.jpg', 'MediaPipe_Train_Real/mediapipe135.jpg', 'MediaPipe_Train_Real/mediapipe136.jpg', 'MediaPipe_Train_Real/mediapipe137.jpg', 'MediaPipe_Train_Real/mediapipe138.jpg', 'MediaPipe_Train_Real/mediapipe139.jpg', 'MediaPipe_Train_Real/mediapipe140.jpg', 'MediaPipe_Train_Real/mediapipe141.jpg', 'MediaPipe_Train_Real/mediapipe142.jpg', 'MediaPipe_Train_Real/mediapipe143.jpg', 'MediaPipe_Train_Real/mediapipe144.jpg', 'MediaPipe_Train_Real/mediapipe145.jpg', 'MediaPipe_Train_Real/mediapipe146.jpg', 'MediaPipe_Train_Real/mediapipe147.jpg', 'MediaPipe_Train_Real/mediapipe148.jpg', 'MediaPipe_Train_Real/mediapipe149.jpg', 'MediaPipe_Train_Real/mediapipe150.jpg', 'MediaPipe_Train_Real/mediapipe151.jpg', 'MediaPipe_Train_Real/mediapipe152.jpg', 'MediaPipe_Train_Real/mediapipe153.jpg', 'MediaPipe_Train_Real/mediapipe154.jpg', 'MediaPipe_Train_Real/mediapipe155.jpg', 'MediaPipe_Train_Real/mediapipe156.jpg', 'MediaPipe_Train_Real/mediapipe157.jpg', 'MediaPipe_Train_Real/mediapipe158.jpg', 'MediaPipe_Train_Real/mediapipe159.jpg', 'MediaPipe_Train_Real/mediapipe160.jpg', 'MediaPipe_Train_Real/mediapipe161.jpg', 'MediaPipe_Train_Real/mediapipe162.jpg', 'MediaPipe_Train_Real/mediapipe163.jpg', 'MediaPipe_Train_Real/mediapipe164.jpg', 'MediaPipe_Train_Real/mediapipe165.jpg', 'MediaPipe_Train_Real/mediapipe166.jpg', 'MediaPipe_Train_Real/mediapipe167.jpg', 'MediaPipe_Train_Real/mediapipe168.jpg', 'MediaPipe_Train_Real/mediapipe169.jpg', 'MediaPipe_Train_Real/mediapipe170.jpg', 'MediaPipe_Train_Real/mediapipe171.jpg', 'MediaPipe_Train_Real/mediapipe172.jpg', 'MediaPipe_Train_Real/mediapipe173.jpg', 'MediaPipe_Train_Real/mediapipe174.jpg', 'MediaPipe_Train_Real/mediapipe175.jpg', 'MediaPipe_Train_Real/mediapipe176.jpg', 'MediaPipe_Train_Real/mediapipe177.jpg', 'MediaPipe_Train_Real/mediapipe178.jpg', 'MediaPipe_Train_Real/mediapipe179.jpg', 'MediaPipe_Train_Real/mediapipe180.jpg', 'MediaPipe_Train_Real/mediapipe181.jpg', 'MediaPipe_Train_Real/mediapipe182.jpg', 'MediaPipe_Train_Real/mediapipe183.jpg', 'MediaPipe_Train_Real/mediapipe184.jpg', 'MediaPipe_Train_Real/mediapipe185.jpg', 'MediaPipe_Train_Real/mediapipe186.jpg', 'MediaPipe_Train_Real/mediapipe187.jpg', 'MediaPipe_Train_Real/mediapipe188.jpg', 'MediaPipe_Train_Real/mediapipe189.jpg', 'MediaPipe_Train_Real/mediapipe190.jpg', 'MediaPipe_Train_Real/mediapipe191.jpg', 'MediaPipe_Train_Real/mediapipe192.jpg', 'MediaPipe_Train_Real/mediapipe193.jpg', 'MediaPipe_Train_Real/mediapipe194.jpg', 'MediaPipe_Train_Real/mediapipe195.jpg', 'MediaPipe_Train_Real/mediapipe196.jpg', 'MediaPipe_Train_Real/mediapipe197.jpg', 'MediaPipe_Train_Real/mediapipe198.jpg', 'MediaPipe_Train_Real/mediapipe199.jpg', 'MediaPipe_Train_Real/mediapipe200.jpg', 'MediaPipe_Train_Real/mediapipe201.jpg', 'MediaPipe_Train_Real/mediapipe202.jpg', 'MediaPipe_Train_Real/mediapipe203.jpg', 'MediaPipe_Train_Real/mediapipe204.jpg', 'MediaPipe_Train_Real/mediapipe205.jpg', 'MediaPipe_Train_Real/mediapipe206.jpg', 'MediaPipe_Train_Real/mediapipe207.jpg', 'MediaPipe_Train_Real/mediapipe208.jpg', 'MediaPipe_Train_Real/mediapipe209.jpg', 'MediaPipe_Train_Real/mediapipe210.jpg', 'MediaPipe_Train_Real/mediapipe211.jpg', 'MediaPipe_Train_Real/mediapipe212.jpg', 'MediaPipe_Train_Real/mediapipe213.jpg', 'MediaPipe_Train_Real/mediapipe214.jpg', 'MediaPipe_Train_Real/mediapipe215.jpg', 'MediaPipe_Train_Real/mediapipe216.jpg', 'MediaPipe_Train_Real/mediapipe217.jpg', 'MediaPipe_Train_Real/mediapipe218.jpg', 'MediaPipe_Train_Real/mediapipe219.jpg', 'MediaPipe_Train_Real/mediapipe220.jpg', 'MediaPipe_Train_Real/mediapipe221.jpg', 'MediaPipe_Train_Real/mediapipe222.jpg', 'MediaPipe_Train_Real/mediapipe223.jpg', 'MediaPipe_Train_Real/mediapipe224.jpg', 'MediaPipe_Train_Real/mediapipe225.jpg', 'MediaPipe_Train_Real/mediapipe226.jpg', 'MediaPipe_Train_Real/mediapipe227.jpg', 'MediaPipe_Train_Real/mediapipe228.jpg', 'MediaPipe_Train_Real/mediapipe229.jpg', 'MediaPipe_Train_Real/mediapipe230.jpg', 'MediaPipe_Train_Real/mediapipe231.jpg', 'MediaPipe_Train_Real/mediapipe232.jpg', 'MediaPipe_Train_Real/mediapipe233.jpg', 'MediaPipe_Train_Real/mediapipe234.jpg', 'MediaPipe_Train_Real/mediapipe235.jpg', 'MediaPipe_Train_Real/mediapipe236.jpg', 'MediaPipe_Train_Real/mediapipe237.jpg', 'MediaPipe_Train_Real/mediapipe238.jpg', 'MediaPipe_Train_Real/mediapipe239.jpg', 'MediaPipe_Train_Real/mediapipe240.jpg', 'MediaPipe_Train_Real/mediapipe241.jpg', 'MediaPipe_Train_Real/mediapipe242.jpg', 'MediaPipe_Train_Real/mediapipe243.jpg', 'MediaPipe_Train_Real/mediapipe244.jpg', 'MediaPipe_Train_Real/mediapipe245.jpg', 'MediaPipe_Train_Real/mediapipe246.jpg', 'MediaPipe_Train_Real/mediapipe247.jpg', 'MediaPipe_Train_Real/mediapipe248.jpg', 'MediaPipe_Train_Real/mediapipe249.jpg', 'MediaPipe_Train_Real/mediapipe250.jpg', 'MediaPipe_Train_Real/mediapipe251.jpg', 'MediaPipe_Train_Real/mediapipe252.jpg', 'MediaPipe_Train_Real/mediapipe253.jpg', 'MediaPipe_Train_Real/mediapipe254.jpg', 'MediaPipe_Train_Real/mediapipe255.jpg', 'MediaPipe_Train_Real/mediapipe256.jpg', 'MediaPipe_Train_Real/mediapipe257.jpg', 'MediaPipe_Train_Real/mediapipe258.jpg', 'MediaPipe_Train_Real/mediapipe259.jpg', 'MediaPipe_Train_Real/mediapipe260.jpg', 'MediaPipe_Train_Real/mediapipe261.jpg', 'MediaPipe_Train_Real/mediapipe262.jpg', 'MediaPipe_Train_Real/mediapipe263.jpg', 'MediaPipe_Train_Real/mediapipe264.jpg', 'MediaPipe_Train_Real/mediapipe265.jpg', 'MediaPipe_Train_Real/mediapipe266.jpg', 'MediaPipe_Train_Real/mediapipe267.jpg', 'MediaPipe_Train_Real/mediapipe268.jpg', 'MediaPipe_Train_Real/mediapipe269.jpg', 'MediaPipe_Train_Real/mediapipe270.jpg', 'MediaPipe_Train_Real/mediapipe271.jpg', 'MediaPipe_Train_Real/mediapipe272.jpg', 'MediaPipe_Train_Real/mediapipe273.jpg', 'MediaPipe_Train_Real/mediapipe274.jpg', 'MediaPipe_Train_Real/mediapipe275.jpg', 'MediaPipe_Train_Real/mediapipe276.jpg', 'MediaPipe_Train_Real/mediapipe277.jpg', 'MediaPipe_Train_Real/mediapipe278.jpg', 'MediaPipe_Train_Real/mediapipe279.jpg', 'MediaPipe_Train_Real/mediapipe280.jpg', 'MediaPipe_Train_Real/mediapipe281.jpg', 'MediaPipe_Train_Real/mediapipe282.jpg', 'MediaPipe_Train_Real/mediapipe283.jpg', 'MediaPipe_Train_Real/mediapipe284.jpg', 'MediaPipe_Train_Real/mediapipe285.jpg', 'MediaPipe_Train_Real/mediapipe286.jpg', 'MediaPipe_Train_Real/mediapipe287.jpg', 'MediaPipe_Train_Real/mediapipe288.jpg', 'MediaPipe_Train_Real/mediapipe289.jpg', 'MediaPipe_Train_Real/mediapipe290.jpg', 'MediaPipe_Train_Real/mediapipe291.jpg', 'MediaPipe_Train_Real/mediapipe292.jpg', 'MediaPipe_Train_Real/mediapipe293.jpg', 'MediaPipe_Train_Real/mediapipe294.jpg', 'MediaPipe_Train_Real/mediapipe295.jpg', 'MediaPipe_Train_Real/mediapipe296.jpg', 'MediaPipe_Train_Real/mediapipe297.jpg', 'MediaPipe_Train_Real/mediapipe298.jpg', 'MediaPipe_Train_Real/mediapipe299.jpg', 'MediaPipe_Train_Real/mediapipe300.jpg', 'MediaPipe_Train_Real/mediapipe301.jpg', 'MediaPipe_Train_Real/mediapipe302.jpg', 'MediaPipe_Train_Real/mediapipe303.jpg', 'MediaPipe_Train_Real/mediapipe304.jpg', 'MediaPipe_Train_Real/mediapipe305.jpg', 'MediaPipe_Train_Real/mediapipe306.jpg', 'MediaPipe_Train_Real/mediapipe307.jpg', 'MediaPipe_Train_Real/mediapipe308.jpg', 'MediaPipe_Train_Real/mediapipe309.jpg', 'MediaPipe_Train_Real/mediapipe310.jpg', 'MediaPipe_Train_Real/mediapipe311.jpg', 'MediaPipe_Train_Real/mediapipe312.jpg', 'MediaPipe_Train_Real/mediapipe313.jpg', 'MediaPipe_Train_Real/mediapipe314.jpg', 'MediaPipe_Train_Real/mediapipe315.jpg', 'MediaPipe_Train_Real/mediapipe316.jpg', 'MediaPipe_Train_Real/mediapipe317.jpg', 'MediaPipe_Train_Real/mediapipe318.jpg', 'MediaPipe_Train_Real/mediapipe319.jpg', 'MediaPipe_Train_Real/mediapipe320.jpg', 'MediaPipe_Train_Real/mediapipe321.jpg', 'MediaPipe_Train_Real/mediapipe322.jpg', 'MediaPipe_Train_Real/mediapipe323.jpg', 'MediaPipe_Train_Real/mediapipe324.jpg', 'MediaPipe_Train_Real/mediapipe325.jpg', 'MediaPipe_Train_Real/mediapipe326.jpg', 'MediaPipe_Train_Real/mediapipe327.jpg', 'MediaPipe_Train_Real/mediapipe328.jpg', 'MediaPipe_Train_Real/mediapipe329.jpg', 'MediaPipe_Train_Real/mediapipe330.jpg', 'MediaPipe_Train_Real/mediapipe331.jpg', 'MediaPipe_Train_Real/mediapipe332.jpg', 'MediaPipe_Train_Real/mediapipe333.jpg', 'MediaPipe_Train_Real/mediapipe334.jpg', 'MediaPipe_Train_Real/mediapipe335.jpg', 'MediaPipe_Train_Real/mediapipe336.jpg', 'MediaPipe_Train_Real/mediapipe337.jpg', 'MediaPipe_Train_Real/mediapipe338.jpg', 'MediaPipe_Train_Real/mediapipe339.jpg', 'MediaPipe_Train_Real/mediapipe340.jpg', 'MediaPipe_Train_Real/mediapipe341.jpg', 'MediaPipe_Train_Real/mediapipe342.jpg', 'MediaPipe_Train_Real/mediapipe343.jpg', 'MediaPipe_Train_Real/mediapipe344.jpg', 'MediaPipe_Train_Real/mediapipe345.jpg', 'MediaPipe_Train_Real/mediapipe346.jpg', 'MediaPipe_Train_Real/mediapipe347.jpg', 'MediaPipe_Train_Real/mediapipe348.jpg', 'MediaPipe_Train_Real/mediapipe349.jpg', 'MediaPipe_Train_Real/mediapipe350.jpg', 'MediaPipe_Train_Real/mediapipe351.jpg', 'MediaPipe_Train_Real/mediapipe352.jpg', 'MediaPipe_Train_Real/mediapipe353.jpg', 'MediaPipe_Train_Real/mediapipe354.jpg', 'MediaPipe_Train_Real/mediapipe355.jpg', 'MediaPipe_Train_Real/mediapipe356.jpg', 'MediaPipe_Train_Real/mediapipe357.jpg', 'MediaPipe_Train_Real/mediapipe358.jpg', 'MediaPipe_Train_Real/mediapipe359.jpg', 'MediaPipe_Train_Real/mediapipe360.jpg', 'MediaPipe_Train_Real/mediapipe361.jpg', 'MediaPipe_Train_Real/mediapipe362.jpg', 'MediaPipe_Train_Real/mediapipe363.jpg', 'MediaPipe_Train_Real/mediapipe364.jpg', 'MediaPipe_Train_Real/mediapipe365.jpg', 'MediaPipe_Train_Real/mediapipe366.jpg', 'MediaPipe_Train_Real/mediapipe367.jpg', 'MediaPipe_Train_Real/mediapipe368.jpg', 'MediaPipe_Train_Real/mediapipe369.jpg', 'MediaPipe_Train_Real/mediapipe370.jpg', 'MediaPipe_Train_Real/mediapipe371.jpg', 'MediaPipe_Train_Real/mediapipe372.jpg', 'MediaPipe_Train_Real/mediapipe373.jpg', 'MediaPipe_Train_Real/mediapipe374.jpg', 'MediaPipe_Train_Real/mediapipe375.jpg', 'MediaPipe_Train_Real/mediapipe376.jpg', 'MediaPipe_Train_Real/mediapipe377.jpg', 'MediaPipe_Train_Real/mediapipe378.jpg', 'MediaPipe_Train_Real/mediapipe379.jpg', 'MediaPipe_Train_Real/mediapipe380.jpg', 'MediaPipe_Train_Real/mediapipe381.jpg', 'MediaPipe_Train_Real/mediapipe382.jpg', 'MediaPipe_Train_Real/mediapipe383.jpg', 'MediaPipe_Train_Real/mediapipe384.jpg', 'MediaPipe_Train_Real/mediapipe385.jpg', 'MediaPipe_Train_Real/mediapipe386.jpg', 'MediaPipe_Train_Real/mediapipe387.jpg', 'MediaPipe_Train_Real/mediapipe388.jpg', 'MediaPipe_Train_Real/mediapipe389.jpg', 'MediaPipe_Train_Real/mediapipe390.jpg', 'MediaPipe_Train_Real/mediapipe391.jpg', 'MediaPipe_Train_Real/mediapipe392.jpg', 'MediaPipe_Train_Real/mediapipe393.jpg', 'MediaPipe_Train_Real/mediapipe394.jpg', 'MediaPipe_Train_Real/mediapipe395.jpg', 'MediaPipe_Train_Real/mediapipe396.jpg', 'MediaPipe_Train_Real/mediapipe397.jpg', 'MediaPipe_Train_Real/mediapipe398.jpg', 'MediaPipe_Train_Real/mediapipe399.jpg', 'MediaPipe_Train_Real/mediapipe400.jpg', 'MediaPipe_Train_Real/mediapipe401.jpg', 'MediaPipe_Train_Real/mediapipe402.jpg', 'MediaPipe_Train_Real/mediapipe403.jpg', 'MediaPipe_Train_Real/mediapipe404.jpg', 'MediaPipe_Train_Real/mediapipe405.jpg', 'MediaPipe_Train_Real/mediapipe406.jpg', 'MediaPipe_Train_Real/mediapipe407.jpg', 'MediaPipe_Train_Real/mediapipe408.jpg', 'MediaPipe_Train_Real/mediapipe409.jpg', 'MediaPipe_Train_Real/mediapipe410.jpg', 'MediaPipe_Train_Real/mediapipe411.jpg', 'MediaPipe_Train_Real/mediapipe412.jpg', 'MediaPipe_Train_Real/mediapipe413.jpg', 'MediaPipe_Train_Real/mediapipe414.jpg', 'MediaPipe_Train_Real/mediapipe415.jpg', 'MediaPipe_Train_Real/mediapipe416.jpg', 'MediaPipe_Train_Real/mediapipe417.jpg', 'MediaPipe_Train_Real/mediapipe418.jpg', 'MediaPipe_Train_Real/mediapipe419.jpg', 'MediaPipe_Train_Real/mediapipe420.jpg', 'MediaPipe_Train_Real/mediapipe421.jpg', 'MediaPipe_Train_Real/mediapipe422.jpg', 'MediaPipe_Train_Real/mediapipe423.jpg', 'MediaPipe_Train_Real/mediapipe424.jpg', 'MediaPipe_Train_Real/mediapipe425.jpg', 'MediaPipe_Train_Real/mediapipe426.jpg', 'MediaPipe_Train_Real/mediapipe427.jpg', 'MediaPipe_Train_Real/mediapipe428.jpg', 'MediaPipe_Train_Real/mediapipe429.jpg', 'MediaPipe_Train_Real/mediapipe430.jpg', 'MediaPipe_Train_Real/mediapipe431.jpg', 'MediaPipe_Train_Real/mediapipe432.jpg', 'MediaPipe_Train_Real/mediapipe433.jpg', 'MediaPipe_Train_Real/mediapipe434.jpg', 'MediaPipe_Train_Real/mediapipe435.jpg', 'MediaPipe_Train_Real/mediapipe436.jpg', 'MediaPipe_Train_Real/mediapipe437.jpg', 'MediaPipe_Train_Real/mediapipe438.jpg', 'MediaPipe_Train_Real/mediapipe439.jpg', 'MediaPipe_Train_Real/mediapipe440.jpg', 'MediaPipe_Train_Real/mediapipe441.jpg', 'MediaPipe_Train_Real/mediapipe442.jpg', 'MediaPipe_Train_Real/mediapipe443.jpg', 'MediaPipe_Train_Real/mediapipe444.jpg', 'MediaPipe_Train_Real/mediapipe445.jpg', 'MediaPipe_Train_Real/mediapipe446.jpg', 'MediaPipe_Train_Real/mediapipe447.jpg', 'MediaPipe_Train_Real/mediapipe448.jpg', 'MediaPipe_Train_Real/mediapipe449.jpg', 'MediaPipe_Train_Real/mediapipe450.jpg', 'MediaPipe_Train_Real/mediapipe451.jpg', 'MediaPipe_Train_Real/mediapipe452.jpg', 'MediaPipe_Train_Real/mediapipe453.jpg', 'MediaPipe_Train_Real/mediapipe454.jpg', 'MediaPipe_Train_Real/mediapipe455.jpg', 'MediaPipe_Train_Real/mediapipe456.jpg', 'MediaPipe_Train_Real/mediapipe457.jpg', 'MediaPipe_Train_Real/mediapipe458.jpg', 'MediaPipe_Train_Real/mediapipe459.jpg', 'MediaPipe_Train_Real/mediapipe460.jpg', 'MediaPipe_Train_Real/mediapipe461.jpg', 'MediaPipe_Train_Real/mediapipe462.jpg', 'MediaPipe_Train_Real/mediapipe463.jpg', 'MediaPipe_Train_Real/mediapipe464.jpg', 'MediaPipe_Train_Real/mediapipe465.jpg', 'MediaPipe_Train_Real/mediapipe466.jpg', 'MediaPipe_Train_Real/mediapipe467.jpg', 'MediaPipe_Train_Real/mediapipe468.jpg', 'MediaPipe_Train_Real/mediapipe469.jpg', 'MediaPipe_Train_Real/mediapipe470.jpg', 'MediaPipe_Train_Real/mediapipe471.jpg', 'MediaPipe_Train_Real/mediapipe472.jpg', 'MediaPipe_Train_Real/mediapipe473.jpg', 'MediaPipe_Train_Real/mediapipe474.jpg', 'MediaPipe_Train_Real/mediapipe475.jpg', 'MediaPipe_Train_Real/mediapipe476.jpg', 'MediaPipe_Train_Real/mediapipe477.jpg', 'MediaPipe_Train_Real/mediapipe478.jpg', 'MediaPipe_Train_Real/mediapipe479.jpg', 'MediaPipe_Train_Real/mediapipe480.jpg', 'MediaPipe_Train_Real/mediapipe481.jpg', 'MediaPipe_Train_Real/mediapipe482.jpg', 'MediaPipe_Train_Real/mediapipe483.jpg', 'MediaPipe_Train_Real/mediapipe484.jpg', 'MediaPipe_Train_Real/mediapipe485.jpg', 'MediaPipe_Train_Real/mediapipe486.jpg', 'MediaPipe_Train_Real/mediapipe487.jpg', 'MediaPipe_Train_Real/mediapipe488.jpg', 'MediaPipe_Train_Real/mediapipe489.jpg', 'MediaPipe_Train_Real/mediapipe490.jpg', 'MediaPipe_Train_Real/mediapipe491.jpg', 'MediaPipe_Train_Real/mediapipe492.jpg', 'MediaPipe_Train_Real/mediapipe493.jpg', 'MediaPipe_Train_Real/mediapipe494.jpg', 'MediaPipe_Train_Real/mediapipe495.jpg', 'MediaPipe_Train_Real/mediapipe496.jpg', 'MediaPipe_Train_Real/mediapipe497.jpg', 'MediaPipe_Train_Real/mediapipe498.jpg', 'MediaPipe_Train_Real/mediapipe499.jpg', 'MediaPipe_Train_Real/mediapipe500.jpg', 'MediaPipe_Train_Real/mediapipe501.jpg', 'MediaPipe_Train_Real/mediapipe502.jpg', 'MediaPipe_Train_Real/mediapipe503.jpg', 'MediaPipe_Train_Real/mediapipe504.jpg', 'MediaPipe_Train_Real/mediapipe505.jpg', 'MediaPipe_Train_Real/mediapipe506.jpg', 'MediaPipe_Train_Real/mediapipe507.jpg', 'MediaPipe_Train_Real/mediapipe508.jpg', 'MediaPipe_Train_Real/mediapipe509.jpg', 'MediaPipe_Train_Real/mediapipe510.jpg', 'MediaPipe_Train_Real/mediapipe511.jpg', 'MediaPipe_Train_Real/mediapipe512.jpg', 'MediaPipe_Train_Real/mediapipe513.jpg', 'MediaPipe_Train_Real/mediapipe514.jpg', 'MediaPipe_Train_Real/mediapipe515.jpg', 'MediaPipe_Train_Real/mediapipe516.jpg', 'MediaPipe_Train_Real/mediapipe517.jpg', 'MediaPipe_Train_Real/mediapipe518.jpg', 'MediaPipe_Train_Real/mediapipe519.jpg', 'MediaPipe_Train_Real/mediapipe520.jpg', 'MediaPipe_Train_Real/mediapipe521.jpg', 'MediaPipe_Train_Real/mediapipe522.jpg', 'MediaPipe_Train_Real/mediapipe523.jpg', 'MediaPipe_Train_Real/mediapipe524.jpg', 'MediaPipe_Train_Real/mediapipe525.jpg', 'MediaPipe_Train_Real/mediapipe526.jpg', 'MediaPipe_Train_Real/mediapipe527.jpg', 'MediaPipe_Train_Real/mediapipe528.jpg', 'MediaPipe_Train_Real/mediapipe529.jpg', 'MediaPipe_Train_Real/mediapipe530.jpg', 'MediaPipe_Train_Real/mediapipe531.jpg', 'MediaPipe_Train_Real/mediapipe532.jpg', 'MediaPipe_Train_Real/mediapipe533.jpg', 'MediaPipe_Train_Real/mediapipe534.jpg', 'MediaPipe_Train_Real/mediapipe535.jpg', 'MediaPipe_Train_Real/mediapipe536.jpg', 'MediaPipe_Train_Real/mediapipe537.jpg', 'MediaPipe_Train_Real/mediapipe538.jpg', 'MediaPipe_Train_Real/mediapipe539.jpg', 'MediaPipe_Train_Real/mediapipe540.jpg', 'MediaPipe_Train_Real/mediapipe541.jpg', 'MediaPipe_Train_Real/mediapipe542.jpg', 'MediaPipe_Train_Real/mediapipe543.jpg', 'MediaPipe_Train_Real/mediapipe544.jpg', 'MediaPipe_Train_Real/mediapipe545.jpg', 'MediaPipe_Train_Real/mediapipe546.jpg', 'MediaPipe_Train_Real/mediapipe547.jpg', 'MediaPipe_Train_Real/mediapipe548.jpg', 'MediaPipe_Train_Real/mediapipe549.jpg', 'MediaPipe_Train_Real/mediapipe550.jpg', 'MediaPipe_Train_Real/mediapipe551.jpg', 'MediaPipe_Train_Real/mediapipe552.jpg', 'MediaPipe_Train_Real/mediapipe553.jpg', 'MediaPipe_Train_Real/mediapipe554.jpg', 'MediaPipe_Train_Real/mediapipe555.jpg', 'MediaPipe_Train_Real/mediapipe556.jpg', 'MediaPipe_Train_Real/mediapipe557.jpg', 'MediaPipe_Train_Real/mediapipe558.jpg', 'MediaPipe_Train_Real/mediapipe559.jpg', 'MediaPipe_Train_Real/mediapipe560.jpg', 'MediaPipe_Train_Real/mediapipe561.jpg', 'MediaPipe_Train_Real/mediapipe562.jpg', 'MediaPipe_Train_Real/mediapipe563.jpg', 'MediaPipe_Train_Real/mediapipe564.jpg', 'MediaPipe_Train_Real/mediapipe565.jpg', 'MediaPipe_Train_Real/mediapipe566.jpg', 'MediaPipe_Train_Real/mediapipe567.jpg', 'MediaPipe_Train_Real/mediapipe568.jpg', 'MediaPipe_Train_Real/mediapipe569.jpg', 'MediaPipe_Train_Real/mediapipe570.jpg', 'MediaPipe_Train_Real/mediapipe571.jpg', 'MediaPipe_Train_Real/mediapipe572.jpg', 'MediaPipe_Train_Real/mediapipe573.jpg', 'MediaPipe_Train_Real/mediapipe574.jpg', 'MediaPipe_Train_Real/mediapipe575.jpg', 'MediaPipe_Train_Real/mediapipe576.jpg', 'MediaPipe_Train_Real/mediapipe577.jpg', 'MediaPipe_Train_Real/mediapipe578.jpg', 'MediaPipe_Train_Real/mediapipe579.jpg', 'MediaPipe_Train_Real/mediapipe580.jpg', 'MediaPipe_Train_Real/mediapipe581.jpg', 'MediaPipe_Train_Real/mediapipe582.jpg', 'MediaPipe_Train_Real/mediapipe583.jpg', 'MediaPipe_Train_Real/mediapipe584.jpg', 'MediaPipe_Train_Real/mediapipe585.jpg', 'MediaPipe_Train_Real/mediapipe586.jpg', 'MediaPipe_Train_Real/mediapipe587.jpg', 'MediaPipe_Train_Real/mediapipe588.jpg', 'MediaPipe_Train_Real/mediapipe589.jpg', 'MediaPipe_Train_Real/mediapipe590.jpg', 'MediaPipe_Train_Real/mediapipe591.jpg', 'MediaPipe_Train_Real/mediapipe592.jpg', 'MediaPipe_Train_Real/mediapipe593.jpg', 'MediaPipe_Train_Real/mediapipe594.jpg', 'MediaPipe_Train_Real/mediapipe595.jpg', 'MediaPipe_Train_Real/mediapipe596.jpg', 'MediaPipe_Train_Real/mediapipe597.jpg', 'MediaPipe_Train_Real/mediapipe598.jpg', 'MediaPipe_Train_Real/mediapipe599.jpg', 'MediaPipe_Train_Real/mediapipe600.jpg', 'MediaPipe_Train_Real/mediapipe601.jpg', 'MediaPipe_Train_Real/mediapipe602.jpg', 'MediaPipe_Train_Real/mediapipe603.jpg', 'MediaPipe_Train_Real/mediapipe604.jpg', 'MediaPipe_Train_Real/mediapipe605.jpg', 'MediaPipe_Train_Real/mediapipe606.jpg', 'MediaPipe_Train_Real/mediapipe607.jpg', 'MediaPipe_Train_Real/mediapipe608.jpg', 'MediaPipe_Train_Real/mediapipe609.jpg', 'MediaPipe_Train_Real/mediapipe610.jpg', 'MediaPipe_Train_Real/mediapipe611.jpg', 'MediaPipe_Train_Real/mediapipe612.jpg', 'MediaPipe_Train_Real/mediapipe613.jpg', 'MediaPipe_Train_Real/mediapipe614.jpg', 'MediaPipe_Train_Real/mediapipe615.jpg', 'MediaPipe_Train_Real/mediapipe616.jpg', 'MediaPipe_Train_Real/mediapipe617.jpg', 'MediaPipe_Train_Real/mediapipe618.jpg', 'MediaPipe_Train_Real/mediapipe619.jpg', 'MediaPipe_Train_Real/mediapipe620.jpg', 'MediaPipe_Train_Real/mediapipe621.jpg', 'MediaPipe_Train_Real/mediapipe622.jpg', 'MediaPipe_Train_Real/mediapipe623.jpg', 'MediaPipe_Train_Real/mediapipe624.jpg', 'MediaPipe_Train_Real/mediapipe625.jpg', 'MediaPipe_Train_Real/mediapipe626.jpg', 'MediaPipe_Train_Real/mediapipe627.jpg', 'MediaPipe_Train_Real/mediapipe628.jpg', 'MediaPipe_Train_Real/mediapipe629.jpg', 'MediaPipe_Train_Real/mediapipe630.jpg', 'MediaPipe_Train_Real/mediapipe631.jpg', 'MediaPipe_Train_Real/mediapipe632.jpg', 'MediaPipe_Train_Real/mediapipe633.jpg', 'MediaPipe_Train_Real/mediapipe634.jpg', 'MediaPipe_Train_Real/mediapipe635.jpg', 'MediaPipe_Train_Real/mediapipe636.jpg', 'MediaPipe_Train_Real/mediapipe637.jpg', 'MediaPipe_Train_Real/mediapipe638.jpg', 'MediaPipe_Train_Real/mediapipe639.jpg', 'MediaPipe_Train_Real/mediapipe640.jpg', 'MediaPipe_Train_Real/mediapipe641.jpg', 'MediaPipe_Train_Real/mediapipe642.jpg', 'MediaPipe_Train_Real/mediapipe643.jpg', 'MediaPipe_Train_Real/mediapipe644.jpg', 'MediaPipe_Train_Real/mediapipe645.jpg', 'MediaPipe_Train_Real/mediapipe646.jpg', 'MediaPipe_Train_Real/mediapipe647.jpg', 'MediaPipe_Train_Real/mediapipe648.jpg', 'MediaPipe_Train_Real/mediapipe649.jpg', 'MediaPipe_Train_Real/mediapipe650.jpg', 'MediaPipe_Train_Real/mediapipe651.jpg', 'MediaPipe_Train_Real/mediapipe652.jpg', 'MediaPipe_Train_Real/mediapipe653.jpg', 'MediaPipe_Train_Real/mediapipe654.jpg', 'MediaPipe_Train_Real/mediapipe655.jpg', 'MediaPipe_Train_Real/mediapipe656.jpg', 'MediaPipe_Train_Real/mediapipe657.jpg', 'MediaPipe_Train_Real/mediapipe658.jpg', 'MediaPipe_Train_Real/mediapipe659.jpg', 'MediaPipe_Train_Real/mediapipe660.jpg', 'MediaPipe_Train_Real/mediapipe661.jpg', 'MediaPipe_Train_Real/mediapipe662.jpg', 'MediaPipe_Train_Real/mediapipe663.jpg', 'MediaPipe_Train_Real/mediapipe664.jpg', 'MediaPipe_Train_Real/mediapipe665.jpg', 'MediaPipe_Train_Real/mediapipe666.jpg', 'MediaPipe_Train_Real/mediapipe667.jpg', 'MediaPipe_Train_Real/mediapipe668.jpg', 'MediaPipe_Train_Real/mediapipe669.jpg', 'MediaPipe_Train_Real/mediapipe670.jpg', 'MediaPipe_Train_Real/mediapipe671.jpg', 'MediaPipe_Train_Real/mediapipe672.jpg', 'MediaPipe_Train_Real/mediapipe673.jpg', 'MediaPipe_Train_Real/mediapipe674.jpg', 'MediaPipe_Train_Real/mediapipe675.jpg', 'MediaPipe_Train_Real/mediapipe676.jpg', 'MediaPipe_Train_Real/mediapipe677.jpg', 'MediaPipe_Train_Real/mediapipe678.jpg', 'MediaPipe_Train_Real/mediapipe679.jpg', 'MediaPipe_Train_Real/mediapipe680.jpg', 'MediaPipe_Train_Real/mediapipe681.jpg', 'MediaPipe_Train_Real/mediapipe682.jpg', 'MediaPipe_Train_Real/mediapipe683.jpg', 'MediaPipe_Train_Real/mediapipe684.jpg', 'MediaPipe_Train_Real/mediapipe685.jpg', 'MediaPipe_Train_Real/mediapipe686.jpg', 'MediaPipe_Train_Real/mediapipe687.jpg', 'MediaPipe_Train_Real/mediapipe688.jpg', 'MediaPipe_Train_Real/mediapipe689.jpg', 'MediaPipe_Train_Real/mediapipe690.jpg', 'MediaPipe_Train_Real/mediapipe691.jpg', 'MediaPipe_Train_Real/mediapipe692.jpg', 'MediaPipe_Train_Real/mediapipe693.jpg', 'MediaPipe_Train_Real/mediapipe694.jpg', 'MediaPipe_Train_Real/mediapipe695.jpg', 'MediaPipe_Train_Real/mediapipe696.jpg', 'MediaPipe_Train_Real/mediapipe697.jpg', 'MediaPipe_Train_Real/mediapipe698.jpg', 'MediaPipe_Train_Real/mediapipe699.jpg', 'MediaPipe_Train_Real/mediapipe700.jpg', 'MediaPipe_Train_Real/mediapipe701.jpg', 'MediaPipe_Train_Real/mediapipe702.jpg', 'MediaPipe_Train_Real/mediapipe703.jpg', 'MediaPipe_Train_Real/mediapipe704.jpg', 'MediaPipe_Train_Real/mediapipe705.jpg', 'MediaPipe_Train_Real/mediapipe706.jpg', 'MediaPipe_Train_Real/mediapipe707.jpg', 'MediaPipe_Train_Real/mediapipe708.jpg', 'MediaPipe_Train_Real/mediapipe709.jpg', 'MediaPipe_Train_Real/mediapipe710.jpg', 'MediaPipe_Train_Real/mediapipe711.jpg', 'MediaPipe_Train_Real/mediapipe712.jpg', 'MediaPipe_Train_Real/mediapipe713.jpg', 'MediaPipe_Train_Real/mediapipe714.jpg', 'MediaPipe_Train_Real/mediapipe715.jpg', 'MediaPipe_Train_Real/mediapipe716.jpg', 'MediaPipe_Train_Real/mediapipe717.jpg', 'MediaPipe_Train_Real/mediapipe718.jpg', 'MediaPipe_Train_Real/mediapipe719.jpg', 'MediaPipe_Train_Real/mediapipe720.jpg', 'MediaPipe_Train_Real/mediapipe721.jpg', 'MediaPipe_Train_Real/mediapipe722.jpg', 'MediaPipe_Train_Real/mediapipe723.jpg', 'MediaPipe_Train_Real/mediapipe724.jpg', 'MediaPipe_Train_Real/mediapipe725.jpg', 'MediaPipe_Train_Real/mediapipe726.jpg', 'MediaPipe_Train_Real/mediapipe727.jpg', 'MediaPipe_Train_Real/mediapipe728.jpg', 'MediaPipe_Train_Real/mediapipe729.jpg', 'MediaPipe_Train_Real/mediapipe730.jpg', 'MediaPipe_Train_Real/mediapipe731.jpg', 'MediaPipe_Train_Real/mediapipe732.jpg', 'MediaPipe_Train_Real/mediapipe733.jpg', 'MediaPipe_Train_Real/mediapipe734.jpg', 'MediaPipe_Train_Real/mediapipe735.jpg', 'MediaPipe_Train_Real/mediapipe736.jpg', 'MediaPipe_Train_Real/mediapipe737.jpg', 'MediaPipe_Train_Real/mediapipe738.jpg', 'MediaPipe_Train_Real/mediapipe739.jpg', 'MediaPipe_Train_Real/mediapipe740.jpg', 'MediaPipe_Train_Real/mediapipe741.jpg', 'MediaPipe_Train_Real/mediapipe742.jpg', 'MediaPipe_Train_Real/mediapipe743.jpg', 'MediaPipe_Train_Real/mediapipe744.jpg', 'MediaPipe_Train_Real/mediapipe745.jpg', 'MediaPipe_Train_Real/mediapipe746.jpg', 'MediaPipe_Train_Real/mediapipe747.jpg', 'MediaPipe_Train_Real/mediapipe748.jpg', 'MediaPipe_Train_Real/mediapipe749.jpg', 'MediaPipe_Train_Real/mediapipe750.jpg', 'MediaPipe_Train_Real/mediapipe751.jpg', 'MediaPipe_Train_Real/mediapipe752.jpg', 'MediaPipe_Train_Real/mediapipe753.jpg', 'MediaPipe_Train_Real/mediapipe754.jpg', 'MediaPipe_Train_Real/mediapipe755.jpg', 'MediaPipe_Train_Real/mediapipe756.jpg', 'MediaPipe_Train_Real/mediapipe757.jpg', 'MediaPipe_Train_Real/mediapipe758.jpg', 'MediaPipe_Train_Real/mediapipe759.jpg', 'MediaPipe_Train_Real/mediapipe760.jpg', 'MediaPipe_Train_Real/mediapipe761.jpg', 'MediaPipe_Train_Real/mediapipe762.jpg', 'MediaPipe_Train_Real/mediapipe763.jpg', 'MediaPipe_Train_Real/mediapipe764.jpg', 'MediaPipe_Train_Real/mediapipe765.jpg', 'MediaPipe_Train_Real/mediapipe766.jpg', 'MediaPipe_Train_Real/mediapipe767.jpg', 'MediaPipe_Train_Real/mediapipe768.jpg', 'MediaPipe_Train_Real/mediapipe769.jpg', 'MediaPipe_Train_Real/mediapipe770.jpg', 'MediaPipe_Train_Real/mediapipe771.jpg', 'MediaPipe_Train_Real/mediapipe772.jpg', 'MediaPipe_Train_Real/mediapipe773.jpg', 'MediaPipe_Train_Real/mediapipe774.jpg', 'MediaPipe_Train_Real/mediapipe775.jpg', 'MediaPipe_Train_Real/mediapipe776.jpg', 'MediaPipe_Train_Real/mediapipe777.jpg', 'MediaPipe_Train_Real/mediapipe778.jpg', 'MediaPipe_Train_Real/mediapipe779.jpg', 'MediaPipe_Train_Real/mediapipe780.jpg', 'MediaPipe_Train_Real/mediapipe781.jpg', 'MediaPipe_Train_Real/mediapipe782.jpg', 'MediaPipe_Train_Real/mediapipe783.jpg', 'MediaPipe_Train_Real/mediapipe784.jpg', 'MediaPipe_Train_Real/mediapipe785.jpg', 'MediaPipe_Train_Real/mediapipe786.jpg', 'MediaPipe_Train_Real/mediapipe787.jpg', 'MediaPipe_Train_Real/mediapipe788.jpg', 'MediaPipe_Train_Real/mediapipe789.jpg', 'MediaPipe_Train_Real/mediapipe790.jpg', 'MediaPipe_Train_Real/mediapipe791.jpg', 'MediaPipe_Train_Real/mediapipe792.jpg', 'MediaPipe_Train_Real/mediapipe793.jpg', 'MediaPipe_Train_Real/mediapipe794.jpg', 'MediaPipe_Train_Real/mediapipe795.jpg', 'MediaPipe_Train_Real/mediapipe796.jpg', 'MediaPipe_Train_Real/mediapipe797.jpg', 'MediaPipe_Train_Real/mediapipe798.jpg', 'MediaPipe_Train_Real/mediapipe799.jpg', 'MediaPipe_Train_Real/mediapipe800.jpg', 'MediaPipe_Train_Real/mediapipe801.jpg', 'MediaPipe_Train_Real/mediapipe802.jpg', 'MediaPipe_Train_Real/mediapipe803.jpg', 'MediaPipe_Train_Real/mediapipe804.jpg', 'MediaPipe_Train_Real/mediapipe805.jpg', 'MediaPipe_Train_Real/mediapipe806.jpg', 'MediaPipe_Train_Real/mediapipe807.jpg', 'MediaPipe_Train_Real/mediapipe808.jpg', 'MediaPipe_Train_Real/mediapipe809.jpg', 'MediaPipe_Train_Real/mediapipe810.jpg', 'MediaPipe_Train_Real/mediapipe811.jpg', 'MediaPipe_Train_Real/mediapipe812.jpg', 'MediaPipe_Train_Real/mediapipe813.jpg', 'MediaPipe_Train_Real/mediapipe814.jpg', 'MediaPipe_Train_Real/mediapipe815.jpg', 'MediaPipe_Train_Real/mediapipe816.jpg', 'MediaPipe_Train_Real/mediapipe817.jpg', 'MediaPipe_Train_Real/mediapipe818.jpg', 'MediaPipe_Train_Real/mediapipe819.jpg', 'MediaPipe_Train_Real/mediapipe820.jpg', 'MediaPipe_Train_Real/mediapipe821.jpg', 'MediaPipe_Train_Real/mediapipe822.jpg', 'MediaPipe_Train_Real/mediapipe823.jpg', 'MediaPipe_Train_Real/mediapipe824.jpg', 'MediaPipe_Train_Real/mediapipe825.jpg', 'MediaPipe_Train_Real/mediapipe826.jpg', 'MediaPipe_Train_Real/mediapipe827.jpg', 'MediaPipe_Train_Real/mediapipe828.jpg', 'MediaPipe_Train_Real/mediapipe829.jpg', 'MediaPipe_Train_Real/mediapipe830.jpg', 'MediaPipe_Train_Real/mediapipe831.jpg', 'MediaPipe_Train_Real/mediapipe832.jpg', 'MediaPipe_Train_Real/mediapipe833.jpg', 'MediaPipe_Train_Real/mediapipe834.jpg', 'MediaPipe_Train_Real/mediapipe835.jpg', 'MediaPipe_Train_Real/mediapipe836.jpg', 'MediaPipe_Train_Real/mediapipe837.jpg', 'MediaPipe_Train_Real/mediapipe838.jpg', 'MediaPipe_Train_Real/mediapipe839.jpg', 'MediaPipe_Train_Real/mediapipe840.jpg', 'MediaPipe_Train_Real/mediapipe841.jpg', 'MediaPipe_Train_Real/mediapipe842.jpg', 'MediaPipe_Train_Real/mediapipe843.jpg', 'MediaPipe_Train_Real/mediapipe844.jpg', 'MediaPipe_Train_Real/mediapipe845.jpg', 'MediaPipe_Train_Real/mediapipe846.jpg', 'MediaPipe_Train_Real/mediapipe847.jpg', 'MediaPipe_Train_Real/mediapipe848.jpg', 'MediaPipe_Train_Real/mediapipe849.jpg', 'MediaPipe_Train_Real/mediapipe850.jpg', 'MediaPipe_Train_Real/mediapipe851.jpg', 'MediaPipe_Train_Real/mediapipe852.jpg', 'MediaPipe_Train_Real/mediapipe853.jpg', 'MediaPipe_Train_Real/mediapipe854.jpg', 'MediaPipe_Train_Real/mediapipe855.jpg', 'MediaPipe_Train_Real/mediapipe856.jpg', 'MediaPipe_Train_Real/mediapipe857.jpg', 'MediaPipe_Train_Real/mediapipe858.jpg', 'MediaPipe_Train_Real/mediapipe859.jpg', 'MediaPipe_Train_Real/mediapipe860.jpg', 'MediaPipe_Train_Real/mediapipe861.jpg', 'MediaPipe_Train_Real/mediapipe862.jpg', 'MediaPipe_Train_Real/mediapipe863.jpg', 'MediaPipe_Train_Real/mediapipe864.jpg', 'MediaPipe_Train_Real/mediapipe865.jpg', 'MediaPipe_Train_Real/mediapipe866.jpg', 'MediaPipe_Train_Real/mediapipe867.jpg', 'MediaPipe_Train_Real/mediapipe868.jpg', 'MediaPipe_Train_Real/mediapipe869.jpg', 'MediaPipe_Train_Real/mediapipe870.jpg', 'MediaPipe_Train_Real/mediapipe871.jpg', 'MediaPipe_Train_Real/mediapipe872.jpg', 'MediaPipe_Train_Real/mediapipe873.jpg', 'MediaPipe_Train_Real/mediapipe874.jpg', 'MediaPipe_Train_Real/mediapipe875.jpg', 'MediaPipe_Train_Real/mediapipe876.jpg', 'MediaPipe_Train_Real/mediapipe877.jpg', 'MediaPipe_Train_Real/mediapipe878.jpg', 'MediaPipe_Train_Real/mediapipe879.jpg', 'MediaPipe_Train_Real/mediapipe880.jpg', 'MediaPipe_Train_Real/mediapipe881.jpg', 'MediaPipe_Train_Real/mediapipe882.jpg', 'MediaPipe_Train_Real/mediapipe883.jpg', 'MediaPipe_Train_Real/mediapipe884.jpg', 'MediaPipe_Train_Real/mediapipe885.jpg', 'MediaPipe_Train_Real/mediapipe886.jpg', 'MediaPipe_Train_Real/mediapipe887.jpg', 'MediaPipe_Train_Real/mediapipe888.jpg', 'MediaPipe_Train_Real/mediapipe889.jpg', 'MediaPipe_Train_Real/mediapipe890.jpg', 'MediaPipe_Train_Real/mediapipe891.jpg', 'MediaPipe_Train_Real/mediapipe892.jpg', 'MediaPipe_Train_Real/mediapipe893.jpg', 'MediaPipe_Train_Real/mediapipe894.jpg', 'MediaPipe_Train_Real/mediapipe895.jpg', 'MediaPipe_Train_Real/mediapipe896.jpg', 'MediaPipe_Train_Real/mediapipe897.jpg', 'MediaPipe_Train_Real/mediapipe898.jpg', 'MediaPipe_Train_Real/mediapipe899.jpg', 'MediaPipe_Train_Real/mediapipe900.jpg', 'MediaPipe_Train_Real/mediapipe901.jpg', 'MediaPipe_Train_Real/mediapipe902.jpg', 'MediaPipe_Train_Real/mediapipe903.jpg', 'MediaPipe_Train_Real/mediapipe904.jpg', 'MediaPipe_Train_Real/mediapipe905.jpg', 'MediaPipe_Train_Real/mediapipe906.jpg', 'MediaPipe_Train_Real/mediapipe907.jpg', 'MediaPipe_Train_Real/mediapipe908.jpg', 'MediaPipe_Train_Real/mediapipe909.jpg', 'MediaPipe_Train_Real/mediapipe910.jpg', 'MediaPipe_Train_Real/mediapipe911.jpg', 'MediaPipe_Train_Real/mediapipe912.jpg', 'MediaPipe_Train_Real/mediapipe913.jpg', 'MediaPipe_Train_Real/mediapipe914.jpg', 'MediaPipe_Train_Real/mediapipe915.jpg', 'MediaPipe_Train_Real/mediapipe916.jpg', 'MediaPipe_Train_Real/mediapipe917.jpg', 'MediaPipe_Train_Real/mediapipe918.jpg', 'MediaPipe_Train_Real/mediapipe919.jpg', 'MediaPipe_Train_Real/mediapipe920.jpg', 'MediaPipe_Train_Real/mediapipe921.jpg', 'MediaPipe_Train_Real/mediapipe922.jpg', 'MediaPipe_Train_Real/mediapipe923.jpg', 'MediaPipe_Train_Real/mediapipe924.jpg', 'MediaPipe_Train_Real/mediapipe925.jpg', 'MediaPipe_Train_Real/mediapipe926.jpg', 'MediaPipe_Train_Real/mediapipe927.jpg', 'MediaPipe_Train_Real/mediapipe928.jpg', 'MediaPipe_Train_Real/mediapipe929.jpg', 'MediaPipe_Train_Real/mediapipe930.jpg', 'MediaPipe_Train_Real/mediapipe931.jpg', 'MediaPipe_Train_Real/mediapipe932.jpg', 'MediaPipe_Train_Real/mediapipe933.jpg', 'MediaPipe_Train_Real/mediapipe934.jpg', 'MediaPipe_Train_Real/mediapipe935.jpg', 'MediaPipe_Train_Real/mediapipe936.jpg', 'MediaPipe_Train_Real/mediapipe937.jpg', 'MediaPipe_Train_Real/mediapipe938.jpg', 'MediaPipe_Train_Real/mediapipe939.jpg', 'MediaPipe_Train_Real/mediapipe940.jpg', 'MediaPipe_Train_Real/mediapipe941.jpg', 'MediaPipe_Train_Real/mediapipe942.jpg', 'MediaPipe_Train_Real/mediapipe943.jpg', 'MediaPipe_Train_Real/mediapipe944.jpg', 'MediaPipe_Train_Real/mediapipe945.jpg', 'MediaPipe_Train_Real/mediapipe946.jpg', 'MediaPipe_Train_Real/mediapipe947.jpg', 'MediaPipe_Train_Real/mediapipe948.jpg', 'MediaPipe_Train_Real/mediapipe949.jpg', 'MediaPipe_Train_Real/mediapipe950.jpg', 'MediaPipe_Train_Real/mediapipe951.jpg', 'MediaPipe_Train_Real/mediapipe952.jpg', 'MediaPipe_Train_Real/mediapipe953.jpg', 'MediaPipe_Train_Real/mediapipe954.jpg', 'MediaPipe_Train_Real/mediapipe955.jpg', 'MediaPipe_Train_Real/mediapipe956.jpg', 'MediaPipe_Train_Real/mediapipe957.jpg', 'MediaPipe_Train_Real/mediapipe958.jpg', 'MediaPipe_Train_Real/mediapipe959.jpg', 'MediaPipe_Train_Real/mediapipe960.jpg', 'MediaPipe_Train_Real/mediapipe961.jpg', 'MediaPipe_Train_Real/mediapipe962.jpg', 'MediaPipe_Train_Real/mediapipe963.jpg', 'MediaPipe_Train_Real/mediapipe964.jpg', 'MediaPipe_Train_Real/mediapipe965.jpg', 'MediaPipe_Train_Real/mediapipe966.jpg', 'MediaPipe_Train_Real/mediapipe967.jpg', 'MediaPipe_Train_Real/mediapipe968.jpg', 'MediaPipe_Train_Real/mediapipe969.jpg', 'MediaPipe_Train_Real/mediapipe970.jpg', 'MediaPipe_Train_Real/mediapipe971.jpg', 'MediaPipe_Train_Real/mediapipe972.jpg', 'MediaPipe_Train_Real/mediapipe973.jpg', 'MediaPipe_Train_Real/mediapipe974.jpg', 'MediaPipe_Train_Real/mediapipe975.jpg', 'MediaPipe_Train_Real/mediapipe976.jpg', 'MediaPipe_Train_Real/mediapipe977.jpg', 'MediaPipe_Train_Real/mediapipe978.jpg', 'MediaPipe_Train_Real/mediapipe979.jpg', 'MediaPipe_Train_Real/mediapipe980.jpg', 'MediaPipe_Train_Real/mediapipe981.jpg', 'MediaPipe_Train_Real/mediapipe982.jpg', 'MediaPipe_Train_Real/mediapipe983.jpg', 'MediaPipe_Train_Real/mediapipe984.jpg', 'MediaPipe_Train_Real/mediapipe985.jpg', 'MediaPipe_Train_Real/mediapipe986.jpg', 'MediaPipe_Train_Real/mediapipe987.jpg', 'MediaPipe_Train_Real/mediapipe988.jpg', 'MediaPipe_Train_Real/mediapipe989.jpg', 'MediaPipe_Train_Real/mediapipe990.jpg', 'MediaPipe_Train_Real/mediapipe991.jpg', 'MediaPipe_Train_Real/mediapipe992.jpg', 'MediaPipe_Train_Real/mediapipe993.jpg', 'MediaPipe_Train_Real/mediapipe994.jpg', 'MediaPipe_Train_Real/mediapipe995.jpg', 'MediaPipe_Train_Real/mediapipe996.jpg', 'MediaPipe_Train_Real/mediapipe997.jpg', 'MediaPipe_Train_Real/mediapipe998.jpg', 'MediaPipe_Train_Real/mediapipe999.jpg', 'MediaPipe_Train_Real/mediapipe1000.jpg', 'MediaPipe_Train_Real/mediapipe1001.jpg', 'MediaPipe_Train_Real/mediapipe1002.jpg', 'MediaPipe_Train_Real/mediapipe1003.jpg', 'MediaPipe_Train_Real/mediapipe1004.jpg', 'MediaPipe_Train_Real/mediapipe1005.jpg', 'MediaPipe_Train_Real/mediapipe1006.jpg', 'MediaPipe_Train_Real/mediapipe1007.jpg', 'MediaPipe_Train_Real/mediapipe1008.jpg', 'MediaPipe_Train_Real/mediapipe1009.jpg', 'MediaPipe_Train_Real/mediapipe1010.jpg', 'MediaPipe_Train_Real/mediapipe1011.jpg', 'MediaPipe_Train_Real/mediapipe1012.jpg', 'MediaPipe_Train_Real/mediapipe1013.jpg', 'MediaPipe_Train_Real/mediapipe1014.jpg', 'MediaPipe_Train_Real/mediapipe1015.jpg', 'MediaPipe_Train_Real/mediapipe1016.jpg', 'MediaPipe_Train_Real/mediapipe1017.jpg', 'MediaPipe_Train_Real/mediapipe1018.jpg', 'MediaPipe_Train_Real/mediapipe1019.jpg', 'MediaPipe_Train_Real/mediapipe1020.jpg', 'MediaPipe_Train_Real/mediapipe1021.jpg', 'MediaPipe_Train_Real/mediapipe1022.jpg', 'MediaPipe_Train_Real/mediapipe1023.jpg', 'MediaPipe_Train_Real/mediapipe1024.jpg', 'MediaPipe_Train_Real/mediapipe1025.jpg', 'MediaPipe_Train_Real/mediapipe1026.jpg', 'MediaPipe_Train_Real/mediapipe1027.jpg', 'MediaPipe_Train_Real/mediapipe1028.jpg', 'MediaPipe_Train_Real/mediapipe1029.jpg', 'MediaPipe_Train_Real/mediapipe1030.jpg', 'MediaPipe_Train_Real/mediapipe1031.jpg', 'MediaPipe_Train_Real/mediapipe1032.jpg', 'MediaPipe_Train_Real/mediapipe1033.jpg', 'MediaPipe_Train_Real/mediapipe1034.jpg', 'MediaPipe_Train_Real/mediapipe1035.jpg', 'MediaPipe_Train_Real/mediapipe1036.jpg', 'MediaPipe_Train_Real/mediapipe1037.jpg', 'MediaPipe_Train_Real/mediapipe1038.jpg', 'MediaPipe_Train_Real/mediapipe1039.jpg', 'MediaPipe_Train_Real/mediapipe1040.jpg', 'MediaPipe_Train_Real/mediapipe1041.jpg', 'MediaPipe_Train_Real/mediapipe1042.jpg', 'MediaPipe_Train_Real/mediapipe1043.jpg', 'MediaPipe_Train_Real/mediapipe1044.jpg', 'MediaPipe_Train_Real/mediapipe1045.jpg', 'MediaPipe_Train_Real/mediapipe1046.jpg', 'MediaPipe_Train_Real/mediapipe1047.jpg', 'MediaPipe_Train_Real/mediapipe1048.jpg', 'MediaPipe_Train_Real/mediapipe1049.jpg', 'MediaPipe_Train_Real/mediapipe1050.jpg', 'MediaPipe_Train_Real/mediapipe1051.jpg', 'MediaPipe_Train_Real/mediapipe1052.jpg', 'MediaPipe_Train_Real/mediapipe1053.jpg', 'MediaPipe_Train_Real/mediapipe1054.jpg', 'MediaPipe_Train_Real/mediapipe1055.jpg', 'MediaPipe_Train_Real/mediapipe1056.jpg', 'MediaPipe_Train_Real/mediapipe1057.jpg', 'MediaPipe_Train_Real/mediapipe1058.jpg', 'MediaPipe_Train_Real/mediapipe1059.jpg', 'MediaPipe_Train_Real/mediapipe1060.jpg', 'MediaPipe_Train_Real/mediapipe1061.jpg', 'MediaPipe_Train_Real/mediapipe1062.jpg', 'MediaPipe_Train_Real/mediapipe1063.jpg', 'MediaPipe_Train_Real/mediapipe1064.jpg', 'MediaPipe_Train_Real/mediapipe1065.jpg', 'MediaPipe_Train_Real/mediapipe1066.jpg', 'MediaPipe_Train_Real/mediapipe1067.jpg', 'MediaPipe_Train_Real/mediapipe1068.jpg', 'MediaPipe_Train_Real/mediapipe1069.jpg', 'MediaPipe_Train_Real/mediapipe1070.jpg', 'MediaPipe_Train_Real/mediapipe1071.jpg', 'MediaPipe_Train_Real/mediapipe1072.jpg', 'MediaPipe_Train_Real/mediapipe1073.jpg', 'MediaPipe_Train_Real/mediapipe1074.jpg', 'MediaPipe_Train_Real/mediapipe1075.jpg', 'MediaPipe_Train_Real/mediapipe1076.jpg', 'MediaPipe_Train_Real/mediapipe1077.jpg', 'MediaPipe_Train_Real/mediapipe1078.jpg', 'MediaPipe_Train_Real/mediapipe1079.jpg', 'MediaPipe_Train_Real/mediapipe1080.jpg', 'MediaPipe_Train_Real/mediapipe1081.jpg', 'MediaPipe_Train_Real/mediapipe1082.jpg', 'MediaPipe_Train_Real/mediapipe1083.jpg', 'MediaPipe_Train_Real/mediapipe1084.jpg', 'MediaPipe_Train_Real/mediapipe1085.jpg', 'MediaPipe_Train_Real/mediapipe1086.jpg', 'MediaPipe_Train_Real/mediapipe1087.jpg', 'MediaPipe_Train_Real/mediapipe1088.jpg', 'MediaPipe_Train_Real/mediapipe1089.jpg', 'MediaPipe_Train_Real/mediapipe1090.jpg', 'MediaPipe_Train_Real/mediapipe1091.jpg', 'MediaPipe_Train_Real/mediapipe1092.jpg', 'MediaPipe_Train_Real/mediapipe1093.jpg', 'MediaPipe_Train_Real/mediapipe1094.jpg', 'MediaPipe_Train_Real/mediapipe1095.jpg', 'MediaPipe_Train_Real/mediapipe1096.jpg', 'MediaPipe_Train_Real/mediapipe1097.jpg', 'MediaPipe_Train_Real/mediapipe1098.jpg', 'MediaPipe_Train_Real/mediapipe1099.jpg', 'MediaPipe_Train_Real/mediapipe1100.jpg', 'MediaPipe_Train_Real/mediapipe1101.jpg', 'MediaPipe_Train_Real/mediapipe1102.jpg', 'MediaPipe_Train_Real/mediapipe1103.jpg', 'MediaPipe_Train_Real/mediapipe1104.jpg', 'MediaPipe_Train_Real/mediapipe1105.jpg', 'MediaPipe_Train_Real/mediapipe1106.jpg', 'MediaPipe_Train_Real/mediapipe1107.jpg', 'MediaPipe_Train_Real/mediapipe1108.jpg', 'MediaPipe_Train_Real/mediapipe1109.jpg', 'MediaPipe_Train_Real/mediapipe1110.jpg', 'MediaPipe_Train_Real/mediapipe1111.jpg', 'MediaPipe_Train_Real/mediapipe1112.jpg', 'MediaPipe_Train_Real/mediapipe1113.jpg', 'MediaPipe_Train_Real/mediapipe1114.jpg', 'MediaPipe_Train_Real/mediapipe1115.jpg', 'MediaPipe_Train_Real/mediapipe1116.jpg', 'MediaPipe_Train_Real/mediapipe1117.jpg', 'MediaPipe_Train_Real/mediapipe1118.jpg', 'MediaPipe_Train_Real/mediapipe1119.jpg', 'MediaPipe_Train_Real/mediapipe1120.jpg', 'MediaPipe_Train_Real/mediapipe1121.jpg', 'MediaPipe_Train_Real/mediapipe1122.jpg', 'MediaPipe_Train_Real/mediapipe1123.jpg', 'MediaPipe_Train_Real/mediapipe1124.jpg', 'MediaPipe_Train_Real/mediapipe1125.jpg', 'MediaPipe_Train_Real/mediapipe1126.jpg', 'MediaPipe_Train_Real/mediapipe1127.jpg', 'MediaPipe_Train_Real/mediapipe1128.jpg', 'MediaPipe_Train_Real/mediapipe1129.jpg', 'MediaPipe_Train_Real/mediapipe1130.jpg', 'MediaPipe_Train_Real/mediapipe1131.jpg', 'MediaPipe_Train_Real/mediapipe1132.jpg', 'MediaPipe_Train_Real/mediapipe1133.jpg', 'MediaPipe_Train_Real/mediapipe1134.jpg', 'MediaPipe_Train_Real/mediapipe1135.jpg', 'MediaPipe_Train_Real/mediapipe1136.jpg', 'MediaPipe_Train_Real/mediapipe1137.jpg', 'MediaPipe_Train_Real/mediapipe1138.jpg', 'MediaPipe_Train_Real/mediapipe1139.jpg', 'MediaPipe_Train_Real/mediapipe1140.jpg', 'MediaPipe_Train_Real/mediapipe1141.jpg', 'MediaPipe_Train_Real/mediapipe1142.jpg', 'MediaPipe_Train_Real/mediapipe1143.jpg', 'MediaPipe_Train_Real/mediapipe1144.jpg', 'MediaPipe_Train_Real/mediapipe1145.jpg', 'MediaPipe_Train_Real/mediapipe1146.jpg', 'MediaPipe_Train_Real/mediapipe1147.jpg', 'MediaPipe_Train_Real/mediapipe1148.jpg', 'MediaPipe_Train_Real/mediapipe1149.jpg', 'MediaPipe_Train_Real/mediapipe1150.jpg', 'MediaPipe_Train_Real/mediapipe1151.jpg', 'MediaPipe_Train_Real/mediapipe1152.jpg', 'MediaPipe_Train_Real/mediapipe1153.jpg', 'MediaPipe_Train_Real/mediapipe1154.jpg', 'MediaPipe_Train_Real/mediapipe1155.jpg', 'MediaPipe_Train_Real/mediapipe1156.jpg', 'MediaPipe_Train_Real/mediapipe1157.jpg', 'MediaPipe_Train_Real/mediapipe1158.jpg', 'MediaPipe_Train_Real/mediapipe1159.jpg', 'MediaPipe_Train_Real/mediapipe1160.jpg', 'MediaPipe_Train_Real/mediapipe1161.jpg', 'MediaPipe_Train_Real/mediapipe1162.jpg', 'MediaPipe_Train_Real/mediapipe1163.jpg', 'MediaPipe_Train_Real/mediapipe1164.jpg', 'MediaPipe_Train_Real/mediapipe1165.jpg', 'MediaPipe_Train_Real/mediapipe1166.jpg', 'MediaPipe_Train_Real/mediapipe1167.jpg', 'MediaPipe_Train_Real/mediapipe1168.jpg', 'MediaPipe_Train_Real/mediapipe1169.jpg', 'MediaPipe_Train_Real/mediapipe1170.jpg', 'MediaPipe_Train_Real/mediapipe1171.jpg', 'MediaPipe_Train_Real/mediapipe1172.jpg', 'MediaPipe_Train_Real/mediapipe1173.jpg', 'MediaPipe_Train_Real/mediapipe1174.jpg', 'MediaPipe_Train_Real/mediapipe1175.jpg', 'MediaPipe_Train_Real/mediapipe1176.jpg', 'MediaPipe_Train_Real/mediapipe1177.jpg', 'MediaPipe_Train_Real/mediapipe1178.jpg', 'MediaPipe_Train_Real/mediapipe1179.jpg', 'MediaPipe_Train_Real/mediapipe1180.jpg', 'MediaPipe_Train_Real/mediapipe1181.jpg', 'MediaPipe_Train_Real/mediapipe1182.jpg', 'MediaPipe_Train_Real/mediapipe1183.jpg', 'MediaPipe_Train_Real/mediapipe1184.jpg', 'MediaPipe_Train_Real/mediapipe1185.jpg', 'MediaPipe_Train_Real/mediapipe1186.jpg', 'MediaPipe_Train_Real/mediapipe1187.jpg', 'MediaPipe_Train_Real/mediapipe1188.jpg', 'MediaPipe_Train_Real/mediapipe1189.jpg', 'MediaPipe_Train_Real/mediapipe1190.jpg', 'MediaPipe_Train_Real/mediapipe1191.jpg', 'MediaPipe_Train_Real/mediapipe1192.jpg', 'MediaPipe_Train_Real/mediapipe1193.jpg', 'MediaPipe_Train_Real/mediapipe1194.jpg', 'MediaPipe_Train_Real/mediapipe1195.jpg', 'MediaPipe_Train_Real/mediapipe1196.jpg', 'MediaPipe_Train_Real/mediapipe1197.jpg', 'MediaPipe_Train_Real/mediapipe1198.jpg', 'MediaPipe_Train_Real/mediapipe1199.jpg', 'MediaPipe_Train_Real/mediapipe1200.jpg', 'MediaPipe_Train_Real/mediapipe1201.jpg', 'MediaPipe_Train_Real/mediapipe1202.jpg', 'MediaPipe_Train_Real/mediapipe1203.jpg', 'MediaPipe_Train_Real/mediapipe1204.jpg', 'MediaPipe_Train_Real/mediapipe1205.jpg', 'MediaPipe_Train_Real/mediapipe1206.jpg', 'MediaPipe_Train_Real/mediapipe1207.jpg', 'MediaPipe_Train_Real/mediapipe1208.jpg', 'MediaPipe_Train_Real/mediapipe1209.jpg', 'MediaPipe_Train_Real/mediapipe1210.jpg', 'MediaPipe_Train_Real/mediapipe1211.jpg', 'MediaPipe_Train_Real/mediapipe1212.jpg', 'MediaPipe_Train_Real/mediapipe1213.jpg', 'MediaPipe_Train_Real/mediapipe1214.jpg', 'MediaPipe_Train_Real/mediapipe1215.jpg', 'MediaPipe_Train_Real/mediapipe1216.jpg', 'MediaPipe_Train_Real/mediapipe1217.jpg', 'MediaPipe_Train_Real/mediapipe1218.jpg', 'MediaPipe_Train_Real/mediapipe1219.jpg', 'MediaPipe_Train_Real/mediapipe1220.jpg', 'MediaPipe_Train_Real/mediapipe1221.jpg', 'MediaPipe_Train_Real/mediapipe1222.jpg', 'MediaPipe_Train_Real/mediapipe1223.jpg', 'MediaPipe_Train_Real/mediapipe1224.jpg', 'MediaPipe_Train_Real/mediapipe1225.jpg', 'MediaPipe_Train_Real/mediapipe1226.jpg', 'MediaPipe_Train_Real/mediapipe1227.jpg', 'MediaPipe_Train_Real/mediapipe1228.jpg', 'MediaPipe_Train_Real/mediapipe1229.jpg', 'MediaPipe_Train_Real/mediapipe1230.jpg', 'MediaPipe_Train_Real/mediapipe1231.jpg', 'MediaPipe_Train_Real/mediapipe1232.jpg', 'MediaPipe_Train_Real/mediapipe1233.jpg', 'MediaPipe_Train_Real/mediapipe1234.jpg', 'MediaPipe_Train_Real/mediapipe1235.jpg', 'MediaPipe_Train_Real/mediapipe1236.jpg', 'MediaPipe_Train_Real/mediapipe1237.jpg', 'MediaPipe_Train_Real/mediapipe1238.jpg', 'MediaPipe_Train_Real/mediapipe1239.jpg', 'MediaPipe_Train_Real/mediapipe1240.jpg', 'MediaPipe_Train_Real/mediapipe1241.jpg', 'MediaPipe_Train_Real/mediapipe1242.jpg', 'MediaPipe_Train_Real/mediapipe1243.jpg', 'MediaPipe_Train_Real/mediapipe1244.jpg', 'MediaPipe_Train_Real/mediapipe1245.jpg', 'MediaPipe_Train_Real/mediapipe1246.jpg', 'MediaPipe_Train_Real/mediapipe1247.jpg', 'MediaPipe_Train_Real/mediapipe1248.jpg', 'MediaPipe_Train_Real/mediapipe1249.jpg', 'MediaPipe_Train_Real/mediapipe1250.jpg', 'MediaPipe_Train_Real/mediapipe1251.jpg', 'MediaPipe_Train_Real/mediapipe1252.jpg', 'MediaPipe_Train_Real/mediapipe1253.jpg', 'MediaPipe_Train_Real/mediapipe1254.jpg', 'MediaPipe_Train_Real/mediapipe1255.jpg', 'MediaPipe_Train_Real/mediapipe1256.jpg', 'MediaPipe_Train_Real/mediapipe1257.jpg', 'MediaPipe_Train_Real/mediapipe1258.jpg', 'MediaPipe_Train_Real/mediapipe1259.jpg', 'MediaPipe_Train_Real/mediapipe1260.jpg', 'MediaPipe_Train_Real/mediapipe1261.jpg', 'MediaPipe_Train_Real/mediapipe1262.jpg', 'MediaPipe_Train_Real/mediapipe1263.jpg', 'MediaPipe_Train_Real/mediapipe1264.jpg', 'MediaPipe_Train_Real/mediapipe1265.jpg', 'MediaPipe_Train_Real/mediapipe1266.jpg', 'MediaPipe_Train_Real/mediapipe1267.jpg', 'MediaPipe_Train_Real/mediapipe1268.jpg', 'MediaPipe_Train_Real/mediapipe1269.jpg', 'MediaPipe_Train_Real/mediapipe1270.jpg', 'MediaPipe_Train_Real/mediapipe1271.jpg', 'MediaPipe_Train_Real/mediapipe1272.jpg', 'MediaPipe_Train_Real/mediapipe1273.jpg', 'MediaPipe_Train_Real/mediapipe1274.jpg', 'MediaPipe_Train_Real/mediapipe1275.jpg', 'MediaPipe_Train_Real/mediapipe1276.jpg', 'MediaPipe_Train_Real/mediapipe1277.jpg', 'MediaPipe_Train_Real/mediapipe1278.jpg', 'MediaPipe_Train_Real/mediapipe1279.jpg', 'MediaPipe_Train_Real/mediapipe1280.jpg', 'MediaPipe_Train_Real/mediapipe1281.jpg', 'MediaPipe_Train_Real/mediapipe1282.jpg', 'MediaPipe_Train_Real/mediapipe1283.jpg', 'MediaPipe_Train_Real/mediapipe1284.jpg', 'MediaPipe_Train_Real/mediapipe1285.jpg', 'MediaPipe_Train_Real/mediapipe1286.jpg', 'MediaPipe_Train_Real/mediapipe1287.jpg', 'MediaPipe_Train_Real/mediapipe1288.jpg', 'MediaPipe_Train_Real/mediapipe1289.jpg', 'MediaPipe_Train_Real/mediapipe1290.jpg', 'MediaPipe_Train_Real/mediapipe1291.jpg', 'MediaPipe_Train_Real/mediapipe1292.jpg', 'MediaPipe_Train_Real/mediapipe1293.jpg', 'MediaPipe_Train_Real/mediapipe1294.jpg', 'MediaPipe_Train_Real/mediapipe1295.jpg', 'MediaPipe_Train_Real/mediapipe1296.jpg', 'MediaPipe_Train_Real/mediapipe1297.jpg', 'MediaPipe_Train_Real/mediapipe1298.jpg', 'MediaPipe_Train_Real/mediapipe1299.jpg', 'MediaPipe_Train_Real/mediapipe1300.jpg', 'MediaPipe_Train_Real/mediapipe1301.jpg', 'MediaPipe_Train_Real/mediapipe1302.jpg', 'MediaPipe_Train_Real/mediapipe1303.jpg', 'MediaPipe_Train_Real/mediapipe1304.jpg', 'MediaPipe_Train_Real/mediapipe1305.jpg', 'MediaPipe_Train_Real/mediapipe1306.jpg', 'MediaPipe_Train_Real/mediapipe1307.jpg', 'MediaPipe_Train_Real/mediapipe1308.jpg', 'MediaPipe_Train_Real/mediapipe1309.jpg', 'MediaPipe_Train_Real/mediapipe1310.jpg', 'MediaPipe_Train_Real/mediapipe1311.jpg', 'MediaPipe_Train_Real/mediapipe1312.jpg', 'MediaPipe_Train_Real/mediapipe1313.jpg', 'MediaPipe_Train_Real/mediapipe1314.jpg', 'MediaPipe_Train_Real/mediapipe1315.jpg', 'MediaPipe_Train_Real/mediapipe1316.jpg', 'MediaPipe_Train_Real/mediapipe1317.jpg', 'MediaPipe_Train_Real/mediapipe1318.jpg', 'MediaPipe_Train_Real/mediapipe1319.jpg', 'MediaPipe_Train_Real/mediapipe1320.jpg', 'MediaPipe_Train_Real/mediapipe1321.jpg', 'MediaPipe_Train_Real/mediapipe1322.jpg', 'MediaPipe_Train_Real/mediapipe1323.jpg', 'MediaPipe_Train_Real/mediapipe1324.jpg', 'MediaPipe_Train_Real/mediapipe1325.jpg', 'MediaPipe_Train_Real/mediapipe1326.jpg', 'MediaPipe_Train_Real/mediapipe1327.jpg', 'MediaPipe_Train_Real/mediapipe1328.jpg', 'MediaPipe_Train_Real/mediapipe1329.jpg', 'MediaPipe_Train_Real/mediapipe1330.jpg', 'MediaPipe_Train_Real/mediapipe1331.jpg', 'MediaPipe_Train_Real/mediapipe1332.jpg', 'MediaPipe_Train_Real/mediapipe1333.jpg', 'MediaPipe_Train_Real/mediapipe1334.jpg', 'MediaPipe_Train_Real/mediapipe1335.jpg', 'MediaPipe_Train_Real/mediapipe1336.jpg', 'MediaPipe_Train_Real/mediapipe1337.jpg', 'MediaPipe_Train_Real/mediapipe1338.jpg', 'MediaPipe_Train_Real/mediapipe1339.jpg', 'MediaPipe_Train_Real/mediapipe1340.jpg', 'MediaPipe_Train_Real/mediapipe1341.jpg', 'MediaPipe_Train_Real/mediapipe1342.jpg', 'MediaPipe_Train_Real/mediapipe1343.jpg', 'MediaPipe_Train_Real/mediapipe1344.jpg', 'MediaPipe_Train_Real/mediapipe1345.jpg', 'MediaPipe_Train_Real/mediapipe1346.jpg', 'MediaPipe_Train_Real/mediapipe1347.jpg', 'MediaPipe_Train_Real/mediapipe1348.jpg', 'MediaPipe_Train_Real/mediapipe1349.jpg', 'MediaPipe_Train_Real/mediapipe1350.jpg', 'MediaPipe_Train_Real/mediapipe1351.jpg', 'MediaPipe_Train_Real/mediapipe1352.jpg', 'MediaPipe_Train_Real/mediapipe1353.jpg', 'MediaPipe_Train_Real/mediapipe1354.jpg', 'MediaPipe_Train_Real/mediapipe1355.jpg', 'MediaPipe_Train_Real/mediapipe1356.jpg', 'MediaPipe_Train_Real/mediapipe1357.jpg', 'MediaPipe_Train_Real/mediapipe1358.jpg', 'MediaPipe_Train_Real/mediapipe1359.jpg', 'MediaPipe_Train_Real/mediapipe1360.jpg', 'MediaPipe_Train_Real/mediapipe1361.jpg', 'MediaPipe_Train_Real/mediapipe1362.jpg', 'MediaPipe_Train_Real/mediapipe1363.jpg', 'MediaPipe_Train_Real/mediapipe1364.jpg', 'MediaPipe_Train_Real/mediapipe1365.jpg', 'MediaPipe_Train_Real/mediapipe1366.jpg', 'MediaPipe_Train_Real/mediapipe1367.jpg', 'MediaPipe_Train_Real/mediapipe1368.jpg', 'MediaPipe_Train_Real/mediapipe1369.jpg', 'MediaPipe_Train_Real/mediapipe1370.jpg', 'MediaPipe_Train_Real/mediapipe1371.jpg', 'MediaPipe_Train_Real/mediapipe1372.jpg', 'MediaPipe_Train_Real/mediapipe1373.jpg', 'MediaPipe_Train_Real/mediapipe1374.jpg', 'MediaPipe_Train_Real/mediapipe1375.jpg', 'MediaPipe_Train_Real/mediapipe1376.jpg', 'MediaPipe_Train_Real/mediapipe1377.jpg', 'MediaPipe_Train_Real/mediapipe1378.jpg', 'MediaPipe_Train_Real/mediapipe1379.jpg', 'MediaPipe_Train_Real/mediapipe1380.jpg', 'MediaPipe_Train_Real/mediapipe1381.jpg', 'MediaPipe_Train_Real/mediapipe1382.jpg', 'MediaPipe_Train_Real/mediapipe1383.jpg', 'MediaPipe_Train_Real/mediapipe1384.jpg', 'MediaPipe_Train_Real/mediapipe1385.jpg', 'MediaPipe_Train_Real/mediapipe1386.jpg', 'MediaPipe_Train_Real/mediapipe1387.jpg', 'MediaPipe_Train_Real/mediapipe1388.jpg', 'MediaPipe_Train_Real/mediapipe1389.jpg', 'MediaPipe_Train_Real/mediapipe1390.jpg', 'MediaPipe_Train_Real/mediapipe1391.jpg', 'MediaPipe_Train_Real/mediapipe1392.jpg', 'MediaPipe_Train_Real/mediapipe1393.jpg', 'MediaPipe_Train_Real/mediapipe1394.jpg', 'MediaPipe_Train_Real/mediapipe1395.jpg', 'MediaPipe_Train_Real/mediapipe1396.jpg', 'MediaPipe_Train_Real/mediapipe1397.jpg', 'MediaPipe_Train_Real/mediapipe1398.jpg', 'MediaPipe_Train_Real/mediapipe1399.jpg', 'MediaPipe_Train_Real/mediapipe1400.jpg', 'MediaPipe_Train_Real/mediapipe1401.jpg', 'MediaPipe_Train_Real/mediapipe1402.jpg', 'MediaPipe_Train_Real/mediapipe1403.jpg', 'MediaPipe_Train_Real/mediapipe1404.jpg', 'MediaPipe_Train_Real/mediapipe1405.jpg', 'MediaPipe_Train_Real/mediapipe1406.jpg', 'MediaPipe_Train_Real/mediapipe1407.jpg', 'MediaPipe_Train_Real/mediapipe1408.jpg', 'MediaPipe_Train_Real/mediapipe1409.jpg', 'MediaPipe_Train_Real/mediapipe1410.jpg', 'MediaPipe_Train_Real/mediapipe1411.jpg', 'MediaPipe_Train_Real/mediapipe1412.jpg', 'MediaPipe_Train_Real/mediapipe1413.jpg', 'MediaPipe_Train_Real/mediapipe1414.jpg', 'MediaPipe_Train_Real/mediapipe1415.jpg', 'MediaPipe_Train_Real/mediapipe1416.jpg', 'MediaPipe_Train_Real/mediapipe1417.jpg', 'MediaPipe_Train_Real/mediapipe1418.jpg', 'MediaPipe_Train_Real/mediapipe1419.jpg', 'MediaPipe_Train_Real/mediapipe1420.jpg', 'MediaPipe_Train_Real/mediapipe1421.jpg', 'MediaPipe_Train_Real/mediapipe1422.jpg', 'MediaPipe_Train_Real/mediapipe1423.jpg', 'MediaPipe_Train_Real/mediapipe1424.jpg', 'MediaPipe_Train_Real/mediapipe1425.jpg']\n"
          ],
          "name": "stdout"
        }
      ]
    },
    {
      "cell_type": "code",
      "metadata": {
        "id": "KYLBnFbTfn7d"
      },
      "source": [
        "processedImagePath_Test_Fake_mediapipe , frame_count_test_fake = faceDetect_MediaPipe(\"Test\",\"Fake\",imgPath_test_fake,frame_count_test_fake)"
      ],
      "execution_count": 15,
      "outputs": []
    },
    {
      "cell_type": "code",
      "metadata": {
        "id": "TT3bXOe0fp4y"
      },
      "source": [
        "processedImagePath_Test_Real_mediapipe , frame_count_test_real = faceDetect_MediaPipe(\"Test\",\"Real\",imgPath_test_real , frame_count_test_real)"
      ],
      "execution_count": 16,
      "outputs": []
    },
    {
      "cell_type": "code",
      "metadata": {
        "colab": {
          "base_uri": "https://localhost:8080/"
        },
        "id": "ek0dBHPFfrkn",
        "outputId": "2a19a252-7627-42fe-9e28-9e60ea9c9211"
      },
      "source": [
        "print(processedImagePath_Test_Fake_mediapipe)\n",
        "print(processedImagePath_Test_Real_mediapipe)"
      ],
      "execution_count": 17,
      "outputs": [
        {
          "output_type": "stream",
          "text": [
            "['MediaPipe_Test_Fake/mediapipe0.jpg', 'MediaPipe_Test_Fake/mediapipe1.jpg', 'MediaPipe_Test_Fake/mediapipe2.jpg', 'MediaPipe_Test_Fake/mediapipe3.jpg', 'MediaPipe_Test_Fake/mediapipe4.jpg', 'MediaPipe_Test_Fake/mediapipe5.jpg', 'MediaPipe_Test_Fake/mediapipe6.jpg', 'MediaPipe_Test_Fake/mediapipe7.jpg', 'MediaPipe_Test_Fake/mediapipe8.jpg', 'MediaPipe_Test_Fake/mediapipe9.jpg', 'MediaPipe_Test_Fake/mediapipe10.jpg', 'MediaPipe_Test_Fake/mediapipe11.jpg', 'MediaPipe_Test_Fake/mediapipe12.jpg', 'MediaPipe_Test_Fake/mediapipe13.jpg', 'MediaPipe_Test_Fake/mediapipe14.jpg', 'MediaPipe_Test_Fake/mediapipe15.jpg', 'MediaPipe_Test_Fake/mediapipe16.jpg', 'MediaPipe_Test_Fake/mediapipe17.jpg', 'MediaPipe_Test_Fake/mediapipe18.jpg', 'MediaPipe_Test_Fake/mediapipe19.jpg', 'MediaPipe_Test_Fake/mediapipe20.jpg', 'MediaPipe_Test_Fake/mediapipe21.jpg', 'MediaPipe_Test_Fake/mediapipe22.jpg', 'MediaPipe_Test_Fake/mediapipe23.jpg', 'MediaPipe_Test_Fake/mediapipe24.jpg', 'MediaPipe_Test_Fake/mediapipe25.jpg', 'MediaPipe_Test_Fake/mediapipe26.jpg', 'MediaPipe_Test_Fake/mediapipe27.jpg', 'MediaPipe_Test_Fake/mediapipe28.jpg', 'MediaPipe_Test_Fake/mediapipe29.jpg', 'MediaPipe_Test_Fake/mediapipe30.jpg', 'MediaPipe_Test_Fake/mediapipe31.jpg', 'MediaPipe_Test_Fake/mediapipe32.jpg', 'MediaPipe_Test_Fake/mediapipe33.jpg', 'MediaPipe_Test_Fake/mediapipe34.jpg', 'MediaPipe_Test_Fake/mediapipe35.jpg', 'MediaPipe_Test_Fake/mediapipe36.jpg', 'MediaPipe_Test_Fake/mediapipe37.jpg', 'MediaPipe_Test_Fake/mediapipe38.jpg', 'MediaPipe_Test_Fake/mediapipe39.jpg', 'MediaPipe_Test_Fake/mediapipe40.jpg', 'MediaPipe_Test_Fake/mediapipe41.jpg', 'MediaPipe_Test_Fake/mediapipe42.jpg', 'MediaPipe_Test_Fake/mediapipe43.jpg', 'MediaPipe_Test_Fake/mediapipe44.jpg', 'MediaPipe_Test_Fake/mediapipe45.jpg', 'MediaPipe_Test_Fake/mediapipe46.jpg', 'MediaPipe_Test_Fake/mediapipe47.jpg', 'MediaPipe_Test_Fake/mediapipe48.jpg', 'MediaPipe_Test_Fake/mediapipe49.jpg', 'MediaPipe_Test_Fake/mediapipe50.jpg', 'MediaPipe_Test_Fake/mediapipe51.jpg', 'MediaPipe_Test_Fake/mediapipe52.jpg', 'MediaPipe_Test_Fake/mediapipe53.jpg', 'MediaPipe_Test_Fake/mediapipe54.jpg', 'MediaPipe_Test_Fake/mediapipe55.jpg', 'MediaPipe_Test_Fake/mediapipe56.jpg', 'MediaPipe_Test_Fake/mediapipe57.jpg', 'MediaPipe_Test_Fake/mediapipe58.jpg', 'MediaPipe_Test_Fake/mediapipe59.jpg', 'MediaPipe_Test_Fake/mediapipe60.jpg', 'MediaPipe_Test_Fake/mediapipe61.jpg', 'MediaPipe_Test_Fake/mediapipe62.jpg', 'MediaPipe_Test_Fake/mediapipe63.jpg', 'MediaPipe_Test_Fake/mediapipe64.jpg', 'MediaPipe_Test_Fake/mediapipe65.jpg', 'MediaPipe_Test_Fake/mediapipe66.jpg', 'MediaPipe_Test_Fake/mediapipe67.jpg', 'MediaPipe_Test_Fake/mediapipe68.jpg', 'MediaPipe_Test_Fake/mediapipe69.jpg', 'MediaPipe_Test_Fake/mediapipe70.jpg', 'MediaPipe_Test_Fake/mediapipe71.jpg', 'MediaPipe_Test_Fake/mediapipe72.jpg', 'MediaPipe_Test_Fake/mediapipe73.jpg', 'MediaPipe_Test_Fake/mediapipe74.jpg', 'MediaPipe_Test_Fake/mediapipe75.jpg', 'MediaPipe_Test_Fake/mediapipe76.jpg', 'MediaPipe_Test_Fake/mediapipe77.jpg', 'MediaPipe_Test_Fake/mediapipe78.jpg', 'MediaPipe_Test_Fake/mediapipe79.jpg', 'MediaPipe_Test_Fake/mediapipe80.jpg', 'MediaPipe_Test_Fake/mediapipe81.jpg', 'MediaPipe_Test_Fake/mediapipe82.jpg', 'MediaPipe_Test_Fake/mediapipe83.jpg', 'MediaPipe_Test_Fake/mediapipe84.jpg', 'MediaPipe_Test_Fake/mediapipe85.jpg', 'MediaPipe_Test_Fake/mediapipe86.jpg', 'MediaPipe_Test_Fake/mediapipe87.jpg', 'MediaPipe_Test_Fake/mediapipe88.jpg', 'MediaPipe_Test_Fake/mediapipe89.jpg', 'MediaPipe_Test_Fake/mediapipe90.jpg', 'MediaPipe_Test_Fake/mediapipe91.jpg', 'MediaPipe_Test_Fake/mediapipe92.jpg', 'MediaPipe_Test_Fake/mediapipe93.jpg', 'MediaPipe_Test_Fake/mediapipe94.jpg', 'MediaPipe_Test_Fake/mediapipe95.jpg', 'MediaPipe_Test_Fake/mediapipe96.jpg', 'MediaPipe_Test_Fake/mediapipe97.jpg', 'MediaPipe_Test_Fake/mediapipe98.jpg', 'MediaPipe_Test_Fake/mediapipe99.jpg', 'MediaPipe_Test_Fake/mediapipe100.jpg', 'MediaPipe_Test_Fake/mediapipe101.jpg', 'MediaPipe_Test_Fake/mediapipe102.jpg', 'MediaPipe_Test_Fake/mediapipe103.jpg', 'MediaPipe_Test_Fake/mediapipe104.jpg', 'MediaPipe_Test_Fake/mediapipe105.jpg', 'MediaPipe_Test_Fake/mediapipe106.jpg', 'MediaPipe_Test_Fake/mediapipe107.jpg', 'MediaPipe_Test_Fake/mediapipe108.jpg', 'MediaPipe_Test_Fake/mediapipe109.jpg', 'MediaPipe_Test_Fake/mediapipe110.jpg', 'MediaPipe_Test_Fake/mediapipe111.jpg', 'MediaPipe_Test_Fake/mediapipe112.jpg', 'MediaPipe_Test_Fake/mediapipe113.jpg', 'MediaPipe_Test_Fake/mediapipe114.jpg', 'MediaPipe_Test_Fake/mediapipe115.jpg', 'MediaPipe_Test_Fake/mediapipe116.jpg', 'MediaPipe_Test_Fake/mediapipe117.jpg', 'MediaPipe_Test_Fake/mediapipe118.jpg', 'MediaPipe_Test_Fake/mediapipe119.jpg', 'MediaPipe_Test_Fake/mediapipe120.jpg', 'MediaPipe_Test_Fake/mediapipe121.jpg', 'MediaPipe_Test_Fake/mediapipe122.jpg', 'MediaPipe_Test_Fake/mediapipe123.jpg', 'MediaPipe_Test_Fake/mediapipe124.jpg', 'MediaPipe_Test_Fake/mediapipe125.jpg', 'MediaPipe_Test_Fake/mediapipe126.jpg', 'MediaPipe_Test_Fake/mediapipe127.jpg', 'MediaPipe_Test_Fake/mediapipe128.jpg', 'MediaPipe_Test_Fake/mediapipe129.jpg', 'MediaPipe_Test_Fake/mediapipe130.jpg', 'MediaPipe_Test_Fake/mediapipe131.jpg', 'MediaPipe_Test_Fake/mediapipe132.jpg', 'MediaPipe_Test_Fake/mediapipe133.jpg', 'MediaPipe_Test_Fake/mediapipe134.jpg', 'MediaPipe_Test_Fake/mediapipe135.jpg', 'MediaPipe_Test_Fake/mediapipe136.jpg', 'MediaPipe_Test_Fake/mediapipe137.jpg', 'MediaPipe_Test_Fake/mediapipe138.jpg', 'MediaPipe_Test_Fake/mediapipe139.jpg', 'MediaPipe_Test_Fake/mediapipe140.jpg', 'MediaPipe_Test_Fake/mediapipe141.jpg', 'MediaPipe_Test_Fake/mediapipe142.jpg', 'MediaPipe_Test_Fake/mediapipe143.jpg', 'MediaPipe_Test_Fake/mediapipe144.jpg', 'MediaPipe_Test_Fake/mediapipe145.jpg', 'MediaPipe_Test_Fake/mediapipe146.jpg', 'MediaPipe_Test_Fake/mediapipe147.jpg', 'MediaPipe_Test_Fake/mediapipe148.jpg', 'MediaPipe_Test_Fake/mediapipe149.jpg', 'MediaPipe_Test_Fake/mediapipe150.jpg', 'MediaPipe_Test_Fake/mediapipe151.jpg', 'MediaPipe_Test_Fake/mediapipe152.jpg', 'MediaPipe_Test_Fake/mediapipe153.jpg', 'MediaPipe_Test_Fake/mediapipe154.jpg', 'MediaPipe_Test_Fake/mediapipe155.jpg', 'MediaPipe_Test_Fake/mediapipe156.jpg', 'MediaPipe_Test_Fake/mediapipe157.jpg', 'MediaPipe_Test_Fake/mediapipe158.jpg', 'MediaPipe_Test_Fake/mediapipe159.jpg', 'MediaPipe_Test_Fake/mediapipe160.jpg', 'MediaPipe_Test_Fake/mediapipe161.jpg', 'MediaPipe_Test_Fake/mediapipe162.jpg', 'MediaPipe_Test_Fake/mediapipe163.jpg', 'MediaPipe_Test_Fake/mediapipe164.jpg', 'MediaPipe_Test_Fake/mediapipe165.jpg', 'MediaPipe_Test_Fake/mediapipe166.jpg', 'MediaPipe_Test_Fake/mediapipe167.jpg', 'MediaPipe_Test_Fake/mediapipe168.jpg', 'MediaPipe_Test_Fake/mediapipe169.jpg', 'MediaPipe_Test_Fake/mediapipe170.jpg', 'MediaPipe_Test_Fake/mediapipe171.jpg', 'MediaPipe_Test_Fake/mediapipe172.jpg', 'MediaPipe_Test_Fake/mediapipe173.jpg', 'MediaPipe_Test_Fake/mediapipe174.jpg', 'MediaPipe_Test_Fake/mediapipe175.jpg', 'MediaPipe_Test_Fake/mediapipe176.jpg', 'MediaPipe_Test_Fake/mediapipe177.jpg', 'MediaPipe_Test_Fake/mediapipe178.jpg', 'MediaPipe_Test_Fake/mediapipe179.jpg', 'MediaPipe_Test_Fake/mediapipe180.jpg', 'MediaPipe_Test_Fake/mediapipe181.jpg', 'MediaPipe_Test_Fake/mediapipe182.jpg', 'MediaPipe_Test_Fake/mediapipe183.jpg', 'MediaPipe_Test_Fake/mediapipe184.jpg', 'MediaPipe_Test_Fake/mediapipe185.jpg', 'MediaPipe_Test_Fake/mediapipe186.jpg', 'MediaPipe_Test_Fake/mediapipe187.jpg', 'MediaPipe_Test_Fake/mediapipe188.jpg', 'MediaPipe_Test_Fake/mediapipe189.jpg', 'MediaPipe_Test_Fake/mediapipe190.jpg', 'MediaPipe_Test_Fake/mediapipe191.jpg', 'MediaPipe_Test_Fake/mediapipe192.jpg', 'MediaPipe_Test_Fake/mediapipe193.jpg', 'MediaPipe_Test_Fake/mediapipe194.jpg', 'MediaPipe_Test_Fake/mediapipe195.jpg', 'MediaPipe_Test_Fake/mediapipe196.jpg', 'MediaPipe_Test_Fake/mediapipe197.jpg', 'MediaPipe_Test_Fake/mediapipe198.jpg', 'MediaPipe_Test_Fake/mediapipe199.jpg', 'MediaPipe_Test_Fake/mediapipe200.jpg', 'MediaPipe_Test_Fake/mediapipe201.jpg', 'MediaPipe_Test_Fake/mediapipe202.jpg', 'MediaPipe_Test_Fake/mediapipe203.jpg', 'MediaPipe_Test_Fake/mediapipe204.jpg', 'MediaPipe_Test_Fake/mediapipe205.jpg', 'MediaPipe_Test_Fake/mediapipe206.jpg', 'MediaPipe_Test_Fake/mediapipe207.jpg', 'MediaPipe_Test_Fake/mediapipe208.jpg', 'MediaPipe_Test_Fake/mediapipe209.jpg', 'MediaPipe_Test_Fake/mediapipe210.jpg', 'MediaPipe_Test_Fake/mediapipe211.jpg', 'MediaPipe_Test_Fake/mediapipe212.jpg', 'MediaPipe_Test_Fake/mediapipe213.jpg', 'MediaPipe_Test_Fake/mediapipe214.jpg', 'MediaPipe_Test_Fake/mediapipe215.jpg', 'MediaPipe_Test_Fake/mediapipe216.jpg', 'MediaPipe_Test_Fake/mediapipe217.jpg', 'MediaPipe_Test_Fake/mediapipe218.jpg', 'MediaPipe_Test_Fake/mediapipe219.jpg', 'MediaPipe_Test_Fake/mediapipe220.jpg', 'MediaPipe_Test_Fake/mediapipe221.jpg', 'MediaPipe_Test_Fake/mediapipe222.jpg', 'MediaPipe_Test_Fake/mediapipe223.jpg', 'MediaPipe_Test_Fake/mediapipe224.jpg', 'MediaPipe_Test_Fake/mediapipe225.jpg', 'MediaPipe_Test_Fake/mediapipe226.jpg', 'MediaPipe_Test_Fake/mediapipe227.jpg', 'MediaPipe_Test_Fake/mediapipe228.jpg', 'MediaPipe_Test_Fake/mediapipe229.jpg', 'MediaPipe_Test_Fake/mediapipe230.jpg', 'MediaPipe_Test_Fake/mediapipe231.jpg', 'MediaPipe_Test_Fake/mediapipe232.jpg', 'MediaPipe_Test_Fake/mediapipe233.jpg', 'MediaPipe_Test_Fake/mediapipe234.jpg', 'MediaPipe_Test_Fake/mediapipe235.jpg', 'MediaPipe_Test_Fake/mediapipe236.jpg', 'MediaPipe_Test_Fake/mediapipe237.jpg', 'MediaPipe_Test_Fake/mediapipe238.jpg', 'MediaPipe_Test_Fake/mediapipe239.jpg', 'MediaPipe_Test_Fake/mediapipe240.jpg', 'MediaPipe_Test_Fake/mediapipe241.jpg', 'MediaPipe_Test_Fake/mediapipe242.jpg', 'MediaPipe_Test_Fake/mediapipe243.jpg', 'MediaPipe_Test_Fake/mediapipe244.jpg', 'MediaPipe_Test_Fake/mediapipe245.jpg', 'MediaPipe_Test_Fake/mediapipe246.jpg', 'MediaPipe_Test_Fake/mediapipe247.jpg', 'MediaPipe_Test_Fake/mediapipe248.jpg', 'MediaPipe_Test_Fake/mediapipe249.jpg', 'MediaPipe_Test_Fake/mediapipe250.jpg', 'MediaPipe_Test_Fake/mediapipe251.jpg', 'MediaPipe_Test_Fake/mediapipe252.jpg', 'MediaPipe_Test_Fake/mediapipe253.jpg', 'MediaPipe_Test_Fake/mediapipe254.jpg', 'MediaPipe_Test_Fake/mediapipe255.jpg', 'MediaPipe_Test_Fake/mediapipe256.jpg', 'MediaPipe_Test_Fake/mediapipe257.jpg', 'MediaPipe_Test_Fake/mediapipe258.jpg', 'MediaPipe_Test_Fake/mediapipe259.jpg', 'MediaPipe_Test_Fake/mediapipe260.jpg', 'MediaPipe_Test_Fake/mediapipe261.jpg', 'MediaPipe_Test_Fake/mediapipe262.jpg', 'MediaPipe_Test_Fake/mediapipe263.jpg', 'MediaPipe_Test_Fake/mediapipe264.jpg', 'MediaPipe_Test_Fake/mediapipe265.jpg', 'MediaPipe_Test_Fake/mediapipe266.jpg', 'MediaPipe_Test_Fake/mediapipe267.jpg', 'MediaPipe_Test_Fake/mediapipe268.jpg', 'MediaPipe_Test_Fake/mediapipe269.jpg', 'MediaPipe_Test_Fake/mediapipe270.jpg', 'MediaPipe_Test_Fake/mediapipe271.jpg', 'MediaPipe_Test_Fake/mediapipe272.jpg', 'MediaPipe_Test_Fake/mediapipe273.jpg', 'MediaPipe_Test_Fake/mediapipe274.jpg', 'MediaPipe_Test_Fake/mediapipe275.jpg', 'MediaPipe_Test_Fake/mediapipe276.jpg', 'MediaPipe_Test_Fake/mediapipe277.jpg', 'MediaPipe_Test_Fake/mediapipe278.jpg', 'MediaPipe_Test_Fake/mediapipe279.jpg', 'MediaPipe_Test_Fake/mediapipe280.jpg', 'MediaPipe_Test_Fake/mediapipe281.jpg', 'MediaPipe_Test_Fake/mediapipe282.jpg', 'MediaPipe_Test_Fake/mediapipe283.jpg', 'MediaPipe_Test_Fake/mediapipe284.jpg', 'MediaPipe_Test_Fake/mediapipe285.jpg', 'MediaPipe_Test_Fake/mediapipe286.jpg', 'MediaPipe_Test_Fake/mediapipe287.jpg', 'MediaPipe_Test_Fake/mediapipe288.jpg', 'MediaPipe_Test_Fake/mediapipe289.jpg', 'MediaPipe_Test_Fake/mediapipe290.jpg', 'MediaPipe_Test_Fake/mediapipe291.jpg', 'MediaPipe_Test_Fake/mediapipe292.jpg', 'MediaPipe_Test_Fake/mediapipe293.jpg', 'MediaPipe_Test_Fake/mediapipe294.jpg', 'MediaPipe_Test_Fake/mediapipe295.jpg', 'MediaPipe_Test_Fake/mediapipe296.jpg', 'MediaPipe_Test_Fake/mediapipe297.jpg', 'MediaPipe_Test_Fake/mediapipe298.jpg', 'MediaPipe_Test_Fake/mediapipe299.jpg', 'MediaPipe_Test_Fake/mediapipe300.jpg', 'MediaPipe_Test_Fake/mediapipe301.jpg', 'MediaPipe_Test_Fake/mediapipe302.jpg', 'MediaPipe_Test_Fake/mediapipe303.jpg', 'MediaPipe_Test_Fake/mediapipe304.jpg', 'MediaPipe_Test_Fake/mediapipe305.jpg', 'MediaPipe_Test_Fake/mediapipe306.jpg', 'MediaPipe_Test_Fake/mediapipe307.jpg', 'MediaPipe_Test_Fake/mediapipe308.jpg', 'MediaPipe_Test_Fake/mediapipe309.jpg', 'MediaPipe_Test_Fake/mediapipe310.jpg', 'MediaPipe_Test_Fake/mediapipe311.jpg', 'MediaPipe_Test_Fake/mediapipe312.jpg', 'MediaPipe_Test_Fake/mediapipe313.jpg', 'MediaPipe_Test_Fake/mediapipe314.jpg', 'MediaPipe_Test_Fake/mediapipe315.jpg', 'MediaPipe_Test_Fake/mediapipe316.jpg', 'MediaPipe_Test_Fake/mediapipe317.jpg', 'MediaPipe_Test_Fake/mediapipe318.jpg', 'MediaPipe_Test_Fake/mediapipe319.jpg', 'MediaPipe_Test_Fake/mediapipe320.jpg', 'MediaPipe_Test_Fake/mediapipe321.jpg', 'MediaPipe_Test_Fake/mediapipe322.jpg', 'MediaPipe_Test_Fake/mediapipe323.jpg', 'MediaPipe_Test_Fake/mediapipe324.jpg', 'MediaPipe_Test_Fake/mediapipe325.jpg', 'MediaPipe_Test_Fake/mediapipe326.jpg', 'MediaPipe_Test_Fake/mediapipe327.jpg', 'MediaPipe_Test_Fake/mediapipe328.jpg', 'MediaPipe_Test_Fake/mediapipe329.jpg', 'MediaPipe_Test_Fake/mediapipe330.jpg', 'MediaPipe_Test_Fake/mediapipe331.jpg', 'MediaPipe_Test_Fake/mediapipe332.jpg', 'MediaPipe_Test_Fake/mediapipe333.jpg', 'MediaPipe_Test_Fake/mediapipe334.jpg', 'MediaPipe_Test_Fake/mediapipe335.jpg', 'MediaPipe_Test_Fake/mediapipe336.jpg', 'MediaPipe_Test_Fake/mediapipe337.jpg', 'MediaPipe_Test_Fake/mediapipe338.jpg', 'MediaPipe_Test_Fake/mediapipe339.jpg', 'MediaPipe_Test_Fake/mediapipe340.jpg', 'MediaPipe_Test_Fake/mediapipe341.jpg', 'MediaPipe_Test_Fake/mediapipe342.jpg', 'MediaPipe_Test_Fake/mediapipe343.jpg', 'MediaPipe_Test_Fake/mediapipe344.jpg', 'MediaPipe_Test_Fake/mediapipe345.jpg', 'MediaPipe_Test_Fake/mediapipe346.jpg', 'MediaPipe_Test_Fake/mediapipe347.jpg', 'MediaPipe_Test_Fake/mediapipe348.jpg', 'MediaPipe_Test_Fake/mediapipe349.jpg', 'MediaPipe_Test_Fake/mediapipe350.jpg', 'MediaPipe_Test_Fake/mediapipe351.jpg', 'MediaPipe_Test_Fake/mediapipe352.jpg', 'MediaPipe_Test_Fake/mediapipe353.jpg', 'MediaPipe_Test_Fake/mediapipe354.jpg', 'MediaPipe_Test_Fake/mediapipe355.jpg', 'MediaPipe_Test_Fake/mediapipe356.jpg', 'MediaPipe_Test_Fake/mediapipe357.jpg', 'MediaPipe_Test_Fake/mediapipe358.jpg', 'MediaPipe_Test_Fake/mediapipe359.jpg', 'MediaPipe_Test_Fake/mediapipe360.jpg', 'MediaPipe_Test_Fake/mediapipe361.jpg', 'MediaPipe_Test_Fake/mediapipe362.jpg', 'MediaPipe_Test_Fake/mediapipe363.jpg', 'MediaPipe_Test_Fake/mediapipe364.jpg', 'MediaPipe_Test_Fake/mediapipe365.jpg', 'MediaPipe_Test_Fake/mediapipe366.jpg', 'MediaPipe_Test_Fake/mediapipe367.jpg', 'MediaPipe_Test_Fake/mediapipe368.jpg', 'MediaPipe_Test_Fake/mediapipe369.jpg', 'MediaPipe_Test_Fake/mediapipe370.jpg', 'MediaPipe_Test_Fake/mediapipe371.jpg', 'MediaPipe_Test_Fake/mediapipe372.jpg', 'MediaPipe_Test_Fake/mediapipe373.jpg', 'MediaPipe_Test_Fake/mediapipe374.jpg', 'MediaPipe_Test_Fake/mediapipe375.jpg', 'MediaPipe_Test_Fake/mediapipe376.jpg', 'MediaPipe_Test_Fake/mediapipe377.jpg', 'MediaPipe_Test_Fake/mediapipe378.jpg', 'MediaPipe_Test_Fake/mediapipe379.jpg', 'MediaPipe_Test_Fake/mediapipe380.jpg', 'MediaPipe_Test_Fake/mediapipe381.jpg', 'MediaPipe_Test_Fake/mediapipe382.jpg', 'MediaPipe_Test_Fake/mediapipe383.jpg', 'MediaPipe_Test_Fake/mediapipe384.jpg', 'MediaPipe_Test_Fake/mediapipe385.jpg', 'MediaPipe_Test_Fake/mediapipe386.jpg', 'MediaPipe_Test_Fake/mediapipe387.jpg', 'MediaPipe_Test_Fake/mediapipe388.jpg', 'MediaPipe_Test_Fake/mediapipe389.jpg', 'MediaPipe_Test_Fake/mediapipe390.jpg', 'MediaPipe_Test_Fake/mediapipe391.jpg', 'MediaPipe_Test_Fake/mediapipe392.jpg', 'MediaPipe_Test_Fake/mediapipe393.jpg', 'MediaPipe_Test_Fake/mediapipe394.jpg', 'MediaPipe_Test_Fake/mediapipe395.jpg', 'MediaPipe_Test_Fake/mediapipe396.jpg', 'MediaPipe_Test_Fake/mediapipe397.jpg', 'MediaPipe_Test_Fake/mediapipe398.jpg', 'MediaPipe_Test_Fake/mediapipe399.jpg', 'MediaPipe_Test_Fake/mediapipe400.jpg', 'MediaPipe_Test_Fake/mediapipe401.jpg', 'MediaPipe_Test_Fake/mediapipe402.jpg', 'MediaPipe_Test_Fake/mediapipe403.jpg', 'MediaPipe_Test_Fake/mediapipe404.jpg', 'MediaPipe_Test_Fake/mediapipe405.jpg', 'MediaPipe_Test_Fake/mediapipe406.jpg', 'MediaPipe_Test_Fake/mediapipe407.jpg', 'MediaPipe_Test_Fake/mediapipe408.jpg', 'MediaPipe_Test_Fake/mediapipe409.jpg', 'MediaPipe_Test_Fake/mediapipe410.jpg', 'MediaPipe_Test_Fake/mediapipe411.jpg', 'MediaPipe_Test_Fake/mediapipe412.jpg', 'MediaPipe_Test_Fake/mediapipe413.jpg', 'MediaPipe_Test_Fake/mediapipe414.jpg', 'MediaPipe_Test_Fake/mediapipe415.jpg', 'MediaPipe_Test_Fake/mediapipe416.jpg', 'MediaPipe_Test_Fake/mediapipe417.jpg', 'MediaPipe_Test_Fake/mediapipe418.jpg', 'MediaPipe_Test_Fake/mediapipe419.jpg', 'MediaPipe_Test_Fake/mediapipe420.jpg', 'MediaPipe_Test_Fake/mediapipe421.jpg', 'MediaPipe_Test_Fake/mediapipe422.jpg', 'MediaPipe_Test_Fake/mediapipe423.jpg', 'MediaPipe_Test_Fake/mediapipe424.jpg', 'MediaPipe_Test_Fake/mediapipe425.jpg', 'MediaPipe_Test_Fake/mediapipe426.jpg', 'MediaPipe_Test_Fake/mediapipe427.jpg', 'MediaPipe_Test_Fake/mediapipe428.jpg', 'MediaPipe_Test_Fake/mediapipe429.jpg', 'MediaPipe_Test_Fake/mediapipe430.jpg', 'MediaPipe_Test_Fake/mediapipe431.jpg', 'MediaPipe_Test_Fake/mediapipe432.jpg', 'MediaPipe_Test_Fake/mediapipe433.jpg', 'MediaPipe_Test_Fake/mediapipe434.jpg', 'MediaPipe_Test_Fake/mediapipe435.jpg', 'MediaPipe_Test_Fake/mediapipe436.jpg', 'MediaPipe_Test_Fake/mediapipe437.jpg', 'MediaPipe_Test_Fake/mediapipe438.jpg', 'MediaPipe_Test_Fake/mediapipe439.jpg', 'MediaPipe_Test_Fake/mediapipe440.jpg', 'MediaPipe_Test_Fake/mediapipe441.jpg', 'MediaPipe_Test_Fake/mediapipe442.jpg', 'MediaPipe_Test_Fake/mediapipe443.jpg', 'MediaPipe_Test_Fake/mediapipe444.jpg', 'MediaPipe_Test_Fake/mediapipe445.jpg', 'MediaPipe_Test_Fake/mediapipe446.jpg', 'MediaPipe_Test_Fake/mediapipe447.jpg', 'MediaPipe_Test_Fake/mediapipe448.jpg', 'MediaPipe_Test_Fake/mediapipe449.jpg', 'MediaPipe_Test_Fake/mediapipe450.jpg', 'MediaPipe_Test_Fake/mediapipe451.jpg', 'MediaPipe_Test_Fake/mediapipe452.jpg', 'MediaPipe_Test_Fake/mediapipe453.jpg', 'MediaPipe_Test_Fake/mediapipe454.jpg', 'MediaPipe_Test_Fake/mediapipe455.jpg', 'MediaPipe_Test_Fake/mediapipe456.jpg', 'MediaPipe_Test_Fake/mediapipe457.jpg', 'MediaPipe_Test_Fake/mediapipe458.jpg', 'MediaPipe_Test_Fake/mediapipe459.jpg', 'MediaPipe_Test_Fake/mediapipe460.jpg', 'MediaPipe_Test_Fake/mediapipe461.jpg', 'MediaPipe_Test_Fake/mediapipe462.jpg', 'MediaPipe_Test_Fake/mediapipe463.jpg', 'MediaPipe_Test_Fake/mediapipe464.jpg', 'MediaPipe_Test_Fake/mediapipe465.jpg', 'MediaPipe_Test_Fake/mediapipe466.jpg', 'MediaPipe_Test_Fake/mediapipe467.jpg', 'MediaPipe_Test_Fake/mediapipe468.jpg', 'MediaPipe_Test_Fake/mediapipe469.jpg', 'MediaPipe_Test_Fake/mediapipe470.jpg', 'MediaPipe_Test_Fake/mediapipe471.jpg', 'MediaPipe_Test_Fake/mediapipe472.jpg', 'MediaPipe_Test_Fake/mediapipe473.jpg', 'MediaPipe_Test_Fake/mediapipe474.jpg', 'MediaPipe_Test_Fake/mediapipe475.jpg', 'MediaPipe_Test_Fake/mediapipe476.jpg', 'MediaPipe_Test_Fake/mediapipe477.jpg', 'MediaPipe_Test_Fake/mediapipe478.jpg', 'MediaPipe_Test_Fake/mediapipe479.jpg', 'MediaPipe_Test_Fake/mediapipe480.jpg', 'MediaPipe_Test_Fake/mediapipe481.jpg', 'MediaPipe_Test_Fake/mediapipe482.jpg', 'MediaPipe_Test_Fake/mediapipe483.jpg', 'MediaPipe_Test_Fake/mediapipe484.jpg', 'MediaPipe_Test_Fake/mediapipe485.jpg', 'MediaPipe_Test_Fake/mediapipe486.jpg', 'MediaPipe_Test_Fake/mediapipe487.jpg', 'MediaPipe_Test_Fake/mediapipe488.jpg', 'MediaPipe_Test_Fake/mediapipe489.jpg', 'MediaPipe_Test_Fake/mediapipe490.jpg', 'MediaPipe_Test_Fake/mediapipe491.jpg', 'MediaPipe_Test_Fake/mediapipe492.jpg', 'MediaPipe_Test_Fake/mediapipe493.jpg', 'MediaPipe_Test_Fake/mediapipe494.jpg', 'MediaPipe_Test_Fake/mediapipe495.jpg', 'MediaPipe_Test_Fake/mediapipe496.jpg', 'MediaPipe_Test_Fake/mediapipe497.jpg', 'MediaPipe_Test_Fake/mediapipe498.jpg', 'MediaPipe_Test_Fake/mediapipe499.jpg', 'MediaPipe_Test_Fake/mediapipe500.jpg', 'MediaPipe_Test_Fake/mediapipe501.jpg', 'MediaPipe_Test_Fake/mediapipe502.jpg', 'MediaPipe_Test_Fake/mediapipe503.jpg', 'MediaPipe_Test_Fake/mediapipe504.jpg', 'MediaPipe_Test_Fake/mediapipe505.jpg', 'MediaPipe_Test_Fake/mediapipe506.jpg', 'MediaPipe_Test_Fake/mediapipe507.jpg', 'MediaPipe_Test_Fake/mediapipe508.jpg', 'MediaPipe_Test_Fake/mediapipe509.jpg', 'MediaPipe_Test_Fake/mediapipe510.jpg', 'MediaPipe_Test_Fake/mediapipe511.jpg', 'MediaPipe_Test_Fake/mediapipe512.jpg', 'MediaPipe_Test_Fake/mediapipe513.jpg', 'MediaPipe_Test_Fake/mediapipe514.jpg', 'MediaPipe_Test_Fake/mediapipe515.jpg', 'MediaPipe_Test_Fake/mediapipe516.jpg', 'MediaPipe_Test_Fake/mediapipe517.jpg', 'MediaPipe_Test_Fake/mediapipe518.jpg', 'MediaPipe_Test_Fake/mediapipe519.jpg', 'MediaPipe_Test_Fake/mediapipe520.jpg', 'MediaPipe_Test_Fake/mediapipe521.jpg', 'MediaPipe_Test_Fake/mediapipe522.jpg', 'MediaPipe_Test_Fake/mediapipe523.jpg', 'MediaPipe_Test_Fake/mediapipe524.jpg', 'MediaPipe_Test_Fake/mediapipe525.jpg', 'MediaPipe_Test_Fake/mediapipe526.jpg', 'MediaPipe_Test_Fake/mediapipe527.jpg', 'MediaPipe_Test_Fake/mediapipe528.jpg', 'MediaPipe_Test_Fake/mediapipe529.jpg', 'MediaPipe_Test_Fake/mediapipe530.jpg', 'MediaPipe_Test_Fake/mediapipe531.jpg', 'MediaPipe_Test_Fake/mediapipe532.jpg', 'MediaPipe_Test_Fake/mediapipe533.jpg', 'MediaPipe_Test_Fake/mediapipe534.jpg', 'MediaPipe_Test_Fake/mediapipe535.jpg', 'MediaPipe_Test_Fake/mediapipe536.jpg', 'MediaPipe_Test_Fake/mediapipe537.jpg', 'MediaPipe_Test_Fake/mediapipe538.jpg', 'MediaPipe_Test_Fake/mediapipe539.jpg', 'MediaPipe_Test_Fake/mediapipe540.jpg', 'MediaPipe_Test_Fake/mediapipe541.jpg', 'MediaPipe_Test_Fake/mediapipe542.jpg', 'MediaPipe_Test_Fake/mediapipe543.jpg', 'MediaPipe_Test_Fake/mediapipe544.jpg', 'MediaPipe_Test_Fake/mediapipe545.jpg', 'MediaPipe_Test_Fake/mediapipe546.jpg', 'MediaPipe_Test_Fake/mediapipe547.jpg', 'MediaPipe_Test_Fake/mediapipe548.jpg', 'MediaPipe_Test_Fake/mediapipe549.jpg', 'MediaPipe_Test_Fake/mediapipe550.jpg', 'MediaPipe_Test_Fake/mediapipe551.jpg', 'MediaPipe_Test_Fake/mediapipe552.jpg', 'MediaPipe_Test_Fake/mediapipe553.jpg', 'MediaPipe_Test_Fake/mediapipe554.jpg', 'MediaPipe_Test_Fake/mediapipe555.jpg', 'MediaPipe_Test_Fake/mediapipe556.jpg', 'MediaPipe_Test_Fake/mediapipe557.jpg', 'MediaPipe_Test_Fake/mediapipe558.jpg', 'MediaPipe_Test_Fake/mediapipe559.jpg', 'MediaPipe_Test_Fake/mediapipe560.jpg', 'MediaPipe_Test_Fake/mediapipe561.jpg', 'MediaPipe_Test_Fake/mediapipe562.jpg', 'MediaPipe_Test_Fake/mediapipe563.jpg', 'MediaPipe_Test_Fake/mediapipe564.jpg', 'MediaPipe_Test_Fake/mediapipe565.jpg', 'MediaPipe_Test_Fake/mediapipe566.jpg', 'MediaPipe_Test_Fake/mediapipe567.jpg', 'MediaPipe_Test_Fake/mediapipe568.jpg', 'MediaPipe_Test_Fake/mediapipe569.jpg', 'MediaPipe_Test_Fake/mediapipe570.jpg', 'MediaPipe_Test_Fake/mediapipe571.jpg', 'MediaPipe_Test_Fake/mediapipe572.jpg', 'MediaPipe_Test_Fake/mediapipe573.jpg', 'MediaPipe_Test_Fake/mediapipe574.jpg', 'MediaPipe_Test_Fake/mediapipe575.jpg', 'MediaPipe_Test_Fake/mediapipe576.jpg', 'MediaPipe_Test_Fake/mediapipe577.jpg', 'MediaPipe_Test_Fake/mediapipe578.jpg', 'MediaPipe_Test_Fake/mediapipe579.jpg', 'MediaPipe_Test_Fake/mediapipe580.jpg', 'MediaPipe_Test_Fake/mediapipe581.jpg', 'MediaPipe_Test_Fake/mediapipe582.jpg', 'MediaPipe_Test_Fake/mediapipe583.jpg', 'MediaPipe_Test_Fake/mediapipe584.jpg', 'MediaPipe_Test_Fake/mediapipe585.jpg', 'MediaPipe_Test_Fake/mediapipe586.jpg', 'MediaPipe_Test_Fake/mediapipe587.jpg', 'MediaPipe_Test_Fake/mediapipe588.jpg', 'MediaPipe_Test_Fake/mediapipe589.jpg', 'MediaPipe_Test_Fake/mediapipe590.jpg', 'MediaPipe_Test_Fake/mediapipe591.jpg', 'MediaPipe_Test_Fake/mediapipe592.jpg', 'MediaPipe_Test_Fake/mediapipe593.jpg', 'MediaPipe_Test_Fake/mediapipe594.jpg', 'MediaPipe_Test_Fake/mediapipe595.jpg', 'MediaPipe_Test_Fake/mediapipe596.jpg', 'MediaPipe_Test_Fake/mediapipe597.jpg', 'MediaPipe_Test_Fake/mediapipe598.jpg', 'MediaPipe_Test_Fake/mediapipe599.jpg', 'MediaPipe_Test_Fake/mediapipe600.jpg', 'MediaPipe_Test_Fake/mediapipe601.jpg', 'MediaPipe_Test_Fake/mediapipe602.jpg', 'MediaPipe_Test_Fake/mediapipe603.jpg', 'MediaPipe_Test_Fake/mediapipe604.jpg', 'MediaPipe_Test_Fake/mediapipe605.jpg', 'MediaPipe_Test_Fake/mediapipe606.jpg', 'MediaPipe_Test_Fake/mediapipe607.jpg', 'MediaPipe_Test_Fake/mediapipe608.jpg', 'MediaPipe_Test_Fake/mediapipe609.jpg', 'MediaPipe_Test_Fake/mediapipe610.jpg', 'MediaPipe_Test_Fake/mediapipe611.jpg', 'MediaPipe_Test_Fake/mediapipe612.jpg', 'MediaPipe_Test_Fake/mediapipe613.jpg', 'MediaPipe_Test_Fake/mediapipe614.jpg', 'MediaPipe_Test_Fake/mediapipe615.jpg', 'MediaPipe_Test_Fake/mediapipe616.jpg', 'MediaPipe_Test_Fake/mediapipe617.jpg', 'MediaPipe_Test_Fake/mediapipe618.jpg', 'MediaPipe_Test_Fake/mediapipe619.jpg', 'MediaPipe_Test_Fake/mediapipe620.jpg', 'MediaPipe_Test_Fake/mediapipe621.jpg']\n",
            "['MediaPipe_Test_Real/mediapipe0.jpg', 'MediaPipe_Test_Real/mediapipe1.jpg', 'MediaPipe_Test_Real/mediapipe2.jpg', 'MediaPipe_Test_Real/mediapipe3.jpg', 'MediaPipe_Test_Real/mediapipe4.jpg', 'MediaPipe_Test_Real/mediapipe5.jpg', 'MediaPipe_Test_Real/mediapipe6.jpg', 'MediaPipe_Test_Real/mediapipe7.jpg', 'MediaPipe_Test_Real/mediapipe8.jpg', 'MediaPipe_Test_Real/mediapipe9.jpg', 'MediaPipe_Test_Real/mediapipe10.jpg', 'MediaPipe_Test_Real/mediapipe11.jpg', 'MediaPipe_Test_Real/mediapipe12.jpg', 'MediaPipe_Test_Real/mediapipe13.jpg', 'MediaPipe_Test_Real/mediapipe14.jpg', 'MediaPipe_Test_Real/mediapipe15.jpg', 'MediaPipe_Test_Real/mediapipe16.jpg', 'MediaPipe_Test_Real/mediapipe17.jpg', 'MediaPipe_Test_Real/mediapipe18.jpg', 'MediaPipe_Test_Real/mediapipe19.jpg', 'MediaPipe_Test_Real/mediapipe20.jpg', 'MediaPipe_Test_Real/mediapipe21.jpg', 'MediaPipe_Test_Real/mediapipe22.jpg', 'MediaPipe_Test_Real/mediapipe23.jpg', 'MediaPipe_Test_Real/mediapipe24.jpg', 'MediaPipe_Test_Real/mediapipe25.jpg', 'MediaPipe_Test_Real/mediapipe26.jpg', 'MediaPipe_Test_Real/mediapipe27.jpg', 'MediaPipe_Test_Real/mediapipe28.jpg', 'MediaPipe_Test_Real/mediapipe29.jpg', 'MediaPipe_Test_Real/mediapipe30.jpg', 'MediaPipe_Test_Real/mediapipe31.jpg', 'MediaPipe_Test_Real/mediapipe32.jpg', 'MediaPipe_Test_Real/mediapipe33.jpg', 'MediaPipe_Test_Real/mediapipe34.jpg', 'MediaPipe_Test_Real/mediapipe35.jpg', 'MediaPipe_Test_Real/mediapipe36.jpg', 'MediaPipe_Test_Real/mediapipe37.jpg', 'MediaPipe_Test_Real/mediapipe38.jpg', 'MediaPipe_Test_Real/mediapipe39.jpg', 'MediaPipe_Test_Real/mediapipe40.jpg', 'MediaPipe_Test_Real/mediapipe41.jpg', 'MediaPipe_Test_Real/mediapipe42.jpg', 'MediaPipe_Test_Real/mediapipe43.jpg', 'MediaPipe_Test_Real/mediapipe44.jpg', 'MediaPipe_Test_Real/mediapipe45.jpg', 'MediaPipe_Test_Real/mediapipe46.jpg', 'MediaPipe_Test_Real/mediapipe47.jpg', 'MediaPipe_Test_Real/mediapipe48.jpg', 'MediaPipe_Test_Real/mediapipe49.jpg', 'MediaPipe_Test_Real/mediapipe50.jpg', 'MediaPipe_Test_Real/mediapipe51.jpg', 'MediaPipe_Test_Real/mediapipe52.jpg', 'MediaPipe_Test_Real/mediapipe53.jpg', 'MediaPipe_Test_Real/mediapipe54.jpg', 'MediaPipe_Test_Real/mediapipe55.jpg', 'MediaPipe_Test_Real/mediapipe56.jpg', 'MediaPipe_Test_Real/mediapipe57.jpg', 'MediaPipe_Test_Real/mediapipe58.jpg', 'MediaPipe_Test_Real/mediapipe59.jpg', 'MediaPipe_Test_Real/mediapipe60.jpg', 'MediaPipe_Test_Real/mediapipe61.jpg', 'MediaPipe_Test_Real/mediapipe62.jpg', 'MediaPipe_Test_Real/mediapipe63.jpg', 'MediaPipe_Test_Real/mediapipe64.jpg', 'MediaPipe_Test_Real/mediapipe65.jpg', 'MediaPipe_Test_Real/mediapipe66.jpg', 'MediaPipe_Test_Real/mediapipe67.jpg', 'MediaPipe_Test_Real/mediapipe68.jpg', 'MediaPipe_Test_Real/mediapipe69.jpg', 'MediaPipe_Test_Real/mediapipe70.jpg', 'MediaPipe_Test_Real/mediapipe71.jpg', 'MediaPipe_Test_Real/mediapipe72.jpg', 'MediaPipe_Test_Real/mediapipe73.jpg', 'MediaPipe_Test_Real/mediapipe74.jpg', 'MediaPipe_Test_Real/mediapipe75.jpg', 'MediaPipe_Test_Real/mediapipe76.jpg', 'MediaPipe_Test_Real/mediapipe77.jpg', 'MediaPipe_Test_Real/mediapipe78.jpg', 'MediaPipe_Test_Real/mediapipe79.jpg', 'MediaPipe_Test_Real/mediapipe80.jpg', 'MediaPipe_Test_Real/mediapipe81.jpg', 'MediaPipe_Test_Real/mediapipe82.jpg', 'MediaPipe_Test_Real/mediapipe83.jpg', 'MediaPipe_Test_Real/mediapipe84.jpg', 'MediaPipe_Test_Real/mediapipe85.jpg', 'MediaPipe_Test_Real/mediapipe86.jpg', 'MediaPipe_Test_Real/mediapipe87.jpg', 'MediaPipe_Test_Real/mediapipe88.jpg', 'MediaPipe_Test_Real/mediapipe89.jpg', 'MediaPipe_Test_Real/mediapipe90.jpg', 'MediaPipe_Test_Real/mediapipe91.jpg', 'MediaPipe_Test_Real/mediapipe92.jpg', 'MediaPipe_Test_Real/mediapipe93.jpg', 'MediaPipe_Test_Real/mediapipe94.jpg', 'MediaPipe_Test_Real/mediapipe95.jpg', 'MediaPipe_Test_Real/mediapipe96.jpg', 'MediaPipe_Test_Real/mediapipe97.jpg', 'MediaPipe_Test_Real/mediapipe98.jpg', 'MediaPipe_Test_Real/mediapipe99.jpg', 'MediaPipe_Test_Real/mediapipe100.jpg', 'MediaPipe_Test_Real/mediapipe101.jpg', 'MediaPipe_Test_Real/mediapipe102.jpg', 'MediaPipe_Test_Real/mediapipe103.jpg', 'MediaPipe_Test_Real/mediapipe104.jpg', 'MediaPipe_Test_Real/mediapipe105.jpg', 'MediaPipe_Test_Real/mediapipe106.jpg', 'MediaPipe_Test_Real/mediapipe107.jpg', 'MediaPipe_Test_Real/mediapipe108.jpg', 'MediaPipe_Test_Real/mediapipe109.jpg', 'MediaPipe_Test_Real/mediapipe110.jpg', 'MediaPipe_Test_Real/mediapipe111.jpg', 'MediaPipe_Test_Real/mediapipe112.jpg', 'MediaPipe_Test_Real/mediapipe113.jpg', 'MediaPipe_Test_Real/mediapipe114.jpg', 'MediaPipe_Test_Real/mediapipe115.jpg', 'MediaPipe_Test_Real/mediapipe116.jpg', 'MediaPipe_Test_Real/mediapipe117.jpg', 'MediaPipe_Test_Real/mediapipe118.jpg', 'MediaPipe_Test_Real/mediapipe119.jpg', 'MediaPipe_Test_Real/mediapipe120.jpg', 'MediaPipe_Test_Real/mediapipe121.jpg', 'MediaPipe_Test_Real/mediapipe122.jpg', 'MediaPipe_Test_Real/mediapipe123.jpg', 'MediaPipe_Test_Real/mediapipe124.jpg', 'MediaPipe_Test_Real/mediapipe125.jpg', 'MediaPipe_Test_Real/mediapipe126.jpg', 'MediaPipe_Test_Real/mediapipe127.jpg', 'MediaPipe_Test_Real/mediapipe128.jpg', 'MediaPipe_Test_Real/mediapipe129.jpg', 'MediaPipe_Test_Real/mediapipe130.jpg', 'MediaPipe_Test_Real/mediapipe131.jpg', 'MediaPipe_Test_Real/mediapipe132.jpg', 'MediaPipe_Test_Real/mediapipe133.jpg', 'MediaPipe_Test_Real/mediapipe134.jpg', 'MediaPipe_Test_Real/mediapipe135.jpg', 'MediaPipe_Test_Real/mediapipe136.jpg', 'MediaPipe_Test_Real/mediapipe137.jpg', 'MediaPipe_Test_Real/mediapipe138.jpg', 'MediaPipe_Test_Real/mediapipe139.jpg', 'MediaPipe_Test_Real/mediapipe140.jpg', 'MediaPipe_Test_Real/mediapipe141.jpg', 'MediaPipe_Test_Real/mediapipe142.jpg', 'MediaPipe_Test_Real/mediapipe143.jpg', 'MediaPipe_Test_Real/mediapipe144.jpg', 'MediaPipe_Test_Real/mediapipe145.jpg', 'MediaPipe_Test_Real/mediapipe146.jpg', 'MediaPipe_Test_Real/mediapipe147.jpg', 'MediaPipe_Test_Real/mediapipe148.jpg', 'MediaPipe_Test_Real/mediapipe149.jpg', 'MediaPipe_Test_Real/mediapipe150.jpg', 'MediaPipe_Test_Real/mediapipe151.jpg', 'MediaPipe_Test_Real/mediapipe152.jpg', 'MediaPipe_Test_Real/mediapipe153.jpg', 'MediaPipe_Test_Real/mediapipe154.jpg', 'MediaPipe_Test_Real/mediapipe155.jpg', 'MediaPipe_Test_Real/mediapipe156.jpg', 'MediaPipe_Test_Real/mediapipe157.jpg', 'MediaPipe_Test_Real/mediapipe158.jpg', 'MediaPipe_Test_Real/mediapipe159.jpg', 'MediaPipe_Test_Real/mediapipe160.jpg', 'MediaPipe_Test_Real/mediapipe161.jpg', 'MediaPipe_Test_Real/mediapipe162.jpg', 'MediaPipe_Test_Real/mediapipe163.jpg', 'MediaPipe_Test_Real/mediapipe164.jpg', 'MediaPipe_Test_Real/mediapipe165.jpg', 'MediaPipe_Test_Real/mediapipe166.jpg', 'MediaPipe_Test_Real/mediapipe167.jpg', 'MediaPipe_Test_Real/mediapipe168.jpg', 'MediaPipe_Test_Real/mediapipe169.jpg', 'MediaPipe_Test_Real/mediapipe170.jpg', 'MediaPipe_Test_Real/mediapipe171.jpg', 'MediaPipe_Test_Real/mediapipe172.jpg', 'MediaPipe_Test_Real/mediapipe173.jpg', 'MediaPipe_Test_Real/mediapipe174.jpg', 'MediaPipe_Test_Real/mediapipe175.jpg', 'MediaPipe_Test_Real/mediapipe176.jpg', 'MediaPipe_Test_Real/mediapipe177.jpg', 'MediaPipe_Test_Real/mediapipe178.jpg', 'MediaPipe_Test_Real/mediapipe179.jpg', 'MediaPipe_Test_Real/mediapipe180.jpg', 'MediaPipe_Test_Real/mediapipe181.jpg', 'MediaPipe_Test_Real/mediapipe182.jpg', 'MediaPipe_Test_Real/mediapipe183.jpg', 'MediaPipe_Test_Real/mediapipe184.jpg', 'MediaPipe_Test_Real/mediapipe185.jpg', 'MediaPipe_Test_Real/mediapipe186.jpg', 'MediaPipe_Test_Real/mediapipe187.jpg', 'MediaPipe_Test_Real/mediapipe188.jpg', 'MediaPipe_Test_Real/mediapipe189.jpg', 'MediaPipe_Test_Real/mediapipe190.jpg', 'MediaPipe_Test_Real/mediapipe191.jpg', 'MediaPipe_Test_Real/mediapipe192.jpg', 'MediaPipe_Test_Real/mediapipe193.jpg', 'MediaPipe_Test_Real/mediapipe194.jpg', 'MediaPipe_Test_Real/mediapipe195.jpg', 'MediaPipe_Test_Real/mediapipe196.jpg', 'MediaPipe_Test_Real/mediapipe197.jpg', 'MediaPipe_Test_Real/mediapipe198.jpg', 'MediaPipe_Test_Real/mediapipe199.jpg', 'MediaPipe_Test_Real/mediapipe200.jpg', 'MediaPipe_Test_Real/mediapipe201.jpg', 'MediaPipe_Test_Real/mediapipe202.jpg', 'MediaPipe_Test_Real/mediapipe203.jpg', 'MediaPipe_Test_Real/mediapipe204.jpg', 'MediaPipe_Test_Real/mediapipe205.jpg', 'MediaPipe_Test_Real/mediapipe206.jpg', 'MediaPipe_Test_Real/mediapipe207.jpg', 'MediaPipe_Test_Real/mediapipe208.jpg', 'MediaPipe_Test_Real/mediapipe209.jpg', 'MediaPipe_Test_Real/mediapipe210.jpg', 'MediaPipe_Test_Real/mediapipe211.jpg', 'MediaPipe_Test_Real/mediapipe212.jpg', 'MediaPipe_Test_Real/mediapipe213.jpg', 'MediaPipe_Test_Real/mediapipe214.jpg', 'MediaPipe_Test_Real/mediapipe215.jpg', 'MediaPipe_Test_Real/mediapipe216.jpg', 'MediaPipe_Test_Real/mediapipe217.jpg', 'MediaPipe_Test_Real/mediapipe218.jpg', 'MediaPipe_Test_Real/mediapipe219.jpg', 'MediaPipe_Test_Real/mediapipe220.jpg', 'MediaPipe_Test_Real/mediapipe221.jpg', 'MediaPipe_Test_Real/mediapipe222.jpg', 'MediaPipe_Test_Real/mediapipe223.jpg', 'MediaPipe_Test_Real/mediapipe224.jpg', 'MediaPipe_Test_Real/mediapipe225.jpg', 'MediaPipe_Test_Real/mediapipe226.jpg', 'MediaPipe_Test_Real/mediapipe227.jpg', 'MediaPipe_Test_Real/mediapipe228.jpg', 'MediaPipe_Test_Real/mediapipe229.jpg', 'MediaPipe_Test_Real/mediapipe230.jpg', 'MediaPipe_Test_Real/mediapipe231.jpg', 'MediaPipe_Test_Real/mediapipe232.jpg', 'MediaPipe_Test_Real/mediapipe233.jpg', 'MediaPipe_Test_Real/mediapipe234.jpg', 'MediaPipe_Test_Real/mediapipe235.jpg', 'MediaPipe_Test_Real/mediapipe236.jpg', 'MediaPipe_Test_Real/mediapipe237.jpg', 'MediaPipe_Test_Real/mediapipe238.jpg', 'MediaPipe_Test_Real/mediapipe239.jpg', 'MediaPipe_Test_Real/mediapipe240.jpg', 'MediaPipe_Test_Real/mediapipe241.jpg', 'MediaPipe_Test_Real/mediapipe242.jpg', 'MediaPipe_Test_Real/mediapipe243.jpg', 'MediaPipe_Test_Real/mediapipe244.jpg', 'MediaPipe_Test_Real/mediapipe245.jpg', 'MediaPipe_Test_Real/mediapipe246.jpg', 'MediaPipe_Test_Real/mediapipe247.jpg', 'MediaPipe_Test_Real/mediapipe248.jpg', 'MediaPipe_Test_Real/mediapipe249.jpg', 'MediaPipe_Test_Real/mediapipe250.jpg', 'MediaPipe_Test_Real/mediapipe251.jpg', 'MediaPipe_Test_Real/mediapipe252.jpg', 'MediaPipe_Test_Real/mediapipe253.jpg', 'MediaPipe_Test_Real/mediapipe254.jpg', 'MediaPipe_Test_Real/mediapipe255.jpg', 'MediaPipe_Test_Real/mediapipe256.jpg', 'MediaPipe_Test_Real/mediapipe257.jpg', 'MediaPipe_Test_Real/mediapipe258.jpg', 'MediaPipe_Test_Real/mediapipe259.jpg', 'MediaPipe_Test_Real/mediapipe260.jpg', 'MediaPipe_Test_Real/mediapipe261.jpg', 'MediaPipe_Test_Real/mediapipe262.jpg', 'MediaPipe_Test_Real/mediapipe263.jpg', 'MediaPipe_Test_Real/mediapipe264.jpg', 'MediaPipe_Test_Real/mediapipe265.jpg', 'MediaPipe_Test_Real/mediapipe266.jpg', 'MediaPipe_Test_Real/mediapipe267.jpg', 'MediaPipe_Test_Real/mediapipe268.jpg', 'MediaPipe_Test_Real/mediapipe269.jpg', 'MediaPipe_Test_Real/mediapipe270.jpg', 'MediaPipe_Test_Real/mediapipe271.jpg', 'MediaPipe_Test_Real/mediapipe272.jpg', 'MediaPipe_Test_Real/mediapipe273.jpg', 'MediaPipe_Test_Real/mediapipe274.jpg', 'MediaPipe_Test_Real/mediapipe275.jpg', 'MediaPipe_Test_Real/mediapipe276.jpg', 'MediaPipe_Test_Real/mediapipe277.jpg', 'MediaPipe_Test_Real/mediapipe278.jpg', 'MediaPipe_Test_Real/mediapipe279.jpg', 'MediaPipe_Test_Real/mediapipe280.jpg', 'MediaPipe_Test_Real/mediapipe281.jpg', 'MediaPipe_Test_Real/mediapipe282.jpg', 'MediaPipe_Test_Real/mediapipe283.jpg', 'MediaPipe_Test_Real/mediapipe284.jpg', 'MediaPipe_Test_Real/mediapipe285.jpg', 'MediaPipe_Test_Real/mediapipe286.jpg', 'MediaPipe_Test_Real/mediapipe287.jpg', 'MediaPipe_Test_Real/mediapipe288.jpg', 'MediaPipe_Test_Real/mediapipe289.jpg', 'MediaPipe_Test_Real/mediapipe290.jpg', 'MediaPipe_Test_Real/mediapipe291.jpg', 'MediaPipe_Test_Real/mediapipe292.jpg', 'MediaPipe_Test_Real/mediapipe293.jpg', 'MediaPipe_Test_Real/mediapipe294.jpg', 'MediaPipe_Test_Real/mediapipe295.jpg', 'MediaPipe_Test_Real/mediapipe296.jpg', 'MediaPipe_Test_Real/mediapipe297.jpg', 'MediaPipe_Test_Real/mediapipe298.jpg', 'MediaPipe_Test_Real/mediapipe299.jpg', 'MediaPipe_Test_Real/mediapipe300.jpg', 'MediaPipe_Test_Real/mediapipe301.jpg', 'MediaPipe_Test_Real/mediapipe302.jpg', 'MediaPipe_Test_Real/mediapipe303.jpg', 'MediaPipe_Test_Real/mediapipe304.jpg', 'MediaPipe_Test_Real/mediapipe305.jpg', 'MediaPipe_Test_Real/mediapipe306.jpg', 'MediaPipe_Test_Real/mediapipe307.jpg', 'MediaPipe_Test_Real/mediapipe308.jpg', 'MediaPipe_Test_Real/mediapipe309.jpg', 'MediaPipe_Test_Real/mediapipe310.jpg', 'MediaPipe_Test_Real/mediapipe311.jpg', 'MediaPipe_Test_Real/mediapipe312.jpg', 'MediaPipe_Test_Real/mediapipe313.jpg', 'MediaPipe_Test_Real/mediapipe314.jpg', 'MediaPipe_Test_Real/mediapipe315.jpg', 'MediaPipe_Test_Real/mediapipe316.jpg', 'MediaPipe_Test_Real/mediapipe317.jpg', 'MediaPipe_Test_Real/mediapipe318.jpg', 'MediaPipe_Test_Real/mediapipe319.jpg', 'MediaPipe_Test_Real/mediapipe320.jpg', 'MediaPipe_Test_Real/mediapipe321.jpg', 'MediaPipe_Test_Real/mediapipe322.jpg', 'MediaPipe_Test_Real/mediapipe323.jpg', 'MediaPipe_Test_Real/mediapipe324.jpg', 'MediaPipe_Test_Real/mediapipe325.jpg', 'MediaPipe_Test_Real/mediapipe326.jpg', 'MediaPipe_Test_Real/mediapipe327.jpg', 'MediaPipe_Test_Real/mediapipe328.jpg', 'MediaPipe_Test_Real/mediapipe329.jpg', 'MediaPipe_Test_Real/mediapipe330.jpg', 'MediaPipe_Test_Real/mediapipe331.jpg', 'MediaPipe_Test_Real/mediapipe332.jpg', 'MediaPipe_Test_Real/mediapipe333.jpg', 'MediaPipe_Test_Real/mediapipe334.jpg', 'MediaPipe_Test_Real/mediapipe335.jpg', 'MediaPipe_Test_Real/mediapipe336.jpg', 'MediaPipe_Test_Real/mediapipe337.jpg', 'MediaPipe_Test_Real/mediapipe338.jpg', 'MediaPipe_Test_Real/mediapipe339.jpg', 'MediaPipe_Test_Real/mediapipe340.jpg', 'MediaPipe_Test_Real/mediapipe341.jpg', 'MediaPipe_Test_Real/mediapipe342.jpg', 'MediaPipe_Test_Real/mediapipe343.jpg', 'MediaPipe_Test_Real/mediapipe344.jpg', 'MediaPipe_Test_Real/mediapipe345.jpg', 'MediaPipe_Test_Real/mediapipe346.jpg', 'MediaPipe_Test_Real/mediapipe347.jpg', 'MediaPipe_Test_Real/mediapipe348.jpg', 'MediaPipe_Test_Real/mediapipe349.jpg', 'MediaPipe_Test_Real/mediapipe350.jpg', 'MediaPipe_Test_Real/mediapipe351.jpg', 'MediaPipe_Test_Real/mediapipe352.jpg', 'MediaPipe_Test_Real/mediapipe353.jpg', 'MediaPipe_Test_Real/mediapipe354.jpg', 'MediaPipe_Test_Real/mediapipe355.jpg', 'MediaPipe_Test_Real/mediapipe356.jpg', 'MediaPipe_Test_Real/mediapipe357.jpg', 'MediaPipe_Test_Real/mediapipe358.jpg', 'MediaPipe_Test_Real/mediapipe359.jpg', 'MediaPipe_Test_Real/mediapipe360.jpg', 'MediaPipe_Test_Real/mediapipe361.jpg', 'MediaPipe_Test_Real/mediapipe362.jpg', 'MediaPipe_Test_Real/mediapipe363.jpg', 'MediaPipe_Test_Real/mediapipe364.jpg', 'MediaPipe_Test_Real/mediapipe365.jpg', 'MediaPipe_Test_Real/mediapipe366.jpg', 'MediaPipe_Test_Real/mediapipe367.jpg', 'MediaPipe_Test_Real/mediapipe368.jpg', 'MediaPipe_Test_Real/mediapipe369.jpg', 'MediaPipe_Test_Real/mediapipe370.jpg', 'MediaPipe_Test_Real/mediapipe371.jpg', 'MediaPipe_Test_Real/mediapipe372.jpg', 'MediaPipe_Test_Real/mediapipe373.jpg', 'MediaPipe_Test_Real/mediapipe374.jpg', 'MediaPipe_Test_Real/mediapipe375.jpg', 'MediaPipe_Test_Real/mediapipe376.jpg', 'MediaPipe_Test_Real/mediapipe377.jpg', 'MediaPipe_Test_Real/mediapipe378.jpg', 'MediaPipe_Test_Real/mediapipe379.jpg', 'MediaPipe_Test_Real/mediapipe380.jpg', 'MediaPipe_Test_Real/mediapipe381.jpg', 'MediaPipe_Test_Real/mediapipe382.jpg', 'MediaPipe_Test_Real/mediapipe383.jpg', 'MediaPipe_Test_Real/mediapipe384.jpg', 'MediaPipe_Test_Real/mediapipe385.jpg', 'MediaPipe_Test_Real/mediapipe386.jpg', 'MediaPipe_Test_Real/mediapipe387.jpg', 'MediaPipe_Test_Real/mediapipe388.jpg', 'MediaPipe_Test_Real/mediapipe389.jpg', 'MediaPipe_Test_Real/mediapipe390.jpg', 'MediaPipe_Test_Real/mediapipe391.jpg', 'MediaPipe_Test_Real/mediapipe392.jpg', 'MediaPipe_Test_Real/mediapipe393.jpg', 'MediaPipe_Test_Real/mediapipe394.jpg', 'MediaPipe_Test_Real/mediapipe395.jpg', 'MediaPipe_Test_Real/mediapipe396.jpg', 'MediaPipe_Test_Real/mediapipe397.jpg', 'MediaPipe_Test_Real/mediapipe398.jpg', 'MediaPipe_Test_Real/mediapipe399.jpg', 'MediaPipe_Test_Real/mediapipe400.jpg', 'MediaPipe_Test_Real/mediapipe401.jpg', 'MediaPipe_Test_Real/mediapipe402.jpg', 'MediaPipe_Test_Real/mediapipe403.jpg', 'MediaPipe_Test_Real/mediapipe404.jpg', 'MediaPipe_Test_Real/mediapipe405.jpg', 'MediaPipe_Test_Real/mediapipe406.jpg', 'MediaPipe_Test_Real/mediapipe407.jpg', 'MediaPipe_Test_Real/mediapipe408.jpg', 'MediaPipe_Test_Real/mediapipe409.jpg', 'MediaPipe_Test_Real/mediapipe410.jpg', 'MediaPipe_Test_Real/mediapipe411.jpg', 'MediaPipe_Test_Real/mediapipe412.jpg', 'MediaPipe_Test_Real/mediapipe413.jpg', 'MediaPipe_Test_Real/mediapipe414.jpg', 'MediaPipe_Test_Real/mediapipe415.jpg', 'MediaPipe_Test_Real/mediapipe416.jpg', 'MediaPipe_Test_Real/mediapipe417.jpg', 'MediaPipe_Test_Real/mediapipe418.jpg', 'MediaPipe_Test_Real/mediapipe419.jpg', 'MediaPipe_Test_Real/mediapipe420.jpg', 'MediaPipe_Test_Real/mediapipe421.jpg', 'MediaPipe_Test_Real/mediapipe422.jpg', 'MediaPipe_Test_Real/mediapipe423.jpg', 'MediaPipe_Test_Real/mediapipe424.jpg', 'MediaPipe_Test_Real/mediapipe425.jpg', 'MediaPipe_Test_Real/mediapipe426.jpg', 'MediaPipe_Test_Real/mediapipe427.jpg', 'MediaPipe_Test_Real/mediapipe428.jpg', 'MediaPipe_Test_Real/mediapipe429.jpg', 'MediaPipe_Test_Real/mediapipe430.jpg', 'MediaPipe_Test_Real/mediapipe431.jpg', 'MediaPipe_Test_Real/mediapipe432.jpg', 'MediaPipe_Test_Real/mediapipe433.jpg', 'MediaPipe_Test_Real/mediapipe434.jpg', 'MediaPipe_Test_Real/mediapipe435.jpg', 'MediaPipe_Test_Real/mediapipe436.jpg', 'MediaPipe_Test_Real/mediapipe437.jpg', 'MediaPipe_Test_Real/mediapipe438.jpg', 'MediaPipe_Test_Real/mediapipe439.jpg', 'MediaPipe_Test_Real/mediapipe440.jpg', 'MediaPipe_Test_Real/mediapipe441.jpg', 'MediaPipe_Test_Real/mediapipe442.jpg', 'MediaPipe_Test_Real/mediapipe443.jpg', 'MediaPipe_Test_Real/mediapipe444.jpg', 'MediaPipe_Test_Real/mediapipe445.jpg', 'MediaPipe_Test_Real/mediapipe446.jpg', 'MediaPipe_Test_Real/mediapipe447.jpg', 'MediaPipe_Test_Real/mediapipe448.jpg', 'MediaPipe_Test_Real/mediapipe449.jpg', 'MediaPipe_Test_Real/mediapipe450.jpg', 'MediaPipe_Test_Real/mediapipe451.jpg', 'MediaPipe_Test_Real/mediapipe452.jpg', 'MediaPipe_Test_Real/mediapipe453.jpg', 'MediaPipe_Test_Real/mediapipe454.jpg', 'MediaPipe_Test_Real/mediapipe455.jpg', 'MediaPipe_Test_Real/mediapipe456.jpg', 'MediaPipe_Test_Real/mediapipe457.jpg', 'MediaPipe_Test_Real/mediapipe458.jpg', 'MediaPipe_Test_Real/mediapipe459.jpg', 'MediaPipe_Test_Real/mediapipe460.jpg', 'MediaPipe_Test_Real/mediapipe461.jpg', 'MediaPipe_Test_Real/mediapipe462.jpg', 'MediaPipe_Test_Real/mediapipe463.jpg', 'MediaPipe_Test_Real/mediapipe464.jpg', 'MediaPipe_Test_Real/mediapipe465.jpg', 'MediaPipe_Test_Real/mediapipe466.jpg', 'MediaPipe_Test_Real/mediapipe467.jpg', 'MediaPipe_Test_Real/mediapipe468.jpg', 'MediaPipe_Test_Real/mediapipe469.jpg', 'MediaPipe_Test_Real/mediapipe470.jpg', 'MediaPipe_Test_Real/mediapipe471.jpg', 'MediaPipe_Test_Real/mediapipe472.jpg', 'MediaPipe_Test_Real/mediapipe473.jpg', 'MediaPipe_Test_Real/mediapipe474.jpg', 'MediaPipe_Test_Real/mediapipe475.jpg', 'MediaPipe_Test_Real/mediapipe476.jpg', 'MediaPipe_Test_Real/mediapipe477.jpg', 'MediaPipe_Test_Real/mediapipe478.jpg', 'MediaPipe_Test_Real/mediapipe479.jpg', 'MediaPipe_Test_Real/mediapipe480.jpg', 'MediaPipe_Test_Real/mediapipe481.jpg', 'MediaPipe_Test_Real/mediapipe482.jpg', 'MediaPipe_Test_Real/mediapipe483.jpg', 'MediaPipe_Test_Real/mediapipe484.jpg', 'MediaPipe_Test_Real/mediapipe485.jpg', 'MediaPipe_Test_Real/mediapipe486.jpg', 'MediaPipe_Test_Real/mediapipe487.jpg', 'MediaPipe_Test_Real/mediapipe488.jpg', 'MediaPipe_Test_Real/mediapipe489.jpg', 'MediaPipe_Test_Real/mediapipe490.jpg', 'MediaPipe_Test_Real/mediapipe491.jpg', 'MediaPipe_Test_Real/mediapipe492.jpg', 'MediaPipe_Test_Real/mediapipe493.jpg', 'MediaPipe_Test_Real/mediapipe494.jpg', 'MediaPipe_Test_Real/mediapipe495.jpg', 'MediaPipe_Test_Real/mediapipe496.jpg', 'MediaPipe_Test_Real/mediapipe497.jpg', 'MediaPipe_Test_Real/mediapipe498.jpg', 'MediaPipe_Test_Real/mediapipe499.jpg', 'MediaPipe_Test_Real/mediapipe500.jpg', 'MediaPipe_Test_Real/mediapipe501.jpg', 'MediaPipe_Test_Real/mediapipe502.jpg', 'MediaPipe_Test_Real/mediapipe503.jpg', 'MediaPipe_Test_Real/mediapipe504.jpg', 'MediaPipe_Test_Real/mediapipe505.jpg', 'MediaPipe_Test_Real/mediapipe506.jpg', 'MediaPipe_Test_Real/mediapipe507.jpg', 'MediaPipe_Test_Real/mediapipe508.jpg', 'MediaPipe_Test_Real/mediapipe509.jpg', 'MediaPipe_Test_Real/mediapipe510.jpg', 'MediaPipe_Test_Real/mediapipe511.jpg', 'MediaPipe_Test_Real/mediapipe512.jpg', 'MediaPipe_Test_Real/mediapipe513.jpg', 'MediaPipe_Test_Real/mediapipe514.jpg', 'MediaPipe_Test_Real/mediapipe515.jpg', 'MediaPipe_Test_Real/mediapipe516.jpg', 'MediaPipe_Test_Real/mediapipe517.jpg', 'MediaPipe_Test_Real/mediapipe518.jpg', 'MediaPipe_Test_Real/mediapipe519.jpg', 'MediaPipe_Test_Real/mediapipe520.jpg', 'MediaPipe_Test_Real/mediapipe521.jpg', 'MediaPipe_Test_Real/mediapipe522.jpg', 'MediaPipe_Test_Real/mediapipe523.jpg', 'MediaPipe_Test_Real/mediapipe524.jpg', 'MediaPipe_Test_Real/mediapipe525.jpg', 'MediaPipe_Test_Real/mediapipe526.jpg', 'MediaPipe_Test_Real/mediapipe527.jpg', 'MediaPipe_Test_Real/mediapipe528.jpg', 'MediaPipe_Test_Real/mediapipe529.jpg', 'MediaPipe_Test_Real/mediapipe530.jpg', 'MediaPipe_Test_Real/mediapipe531.jpg', 'MediaPipe_Test_Real/mediapipe532.jpg', 'MediaPipe_Test_Real/mediapipe533.jpg', 'MediaPipe_Test_Real/mediapipe534.jpg', 'MediaPipe_Test_Real/mediapipe535.jpg', 'MediaPipe_Test_Real/mediapipe536.jpg', 'MediaPipe_Test_Real/mediapipe537.jpg', 'MediaPipe_Test_Real/mediapipe538.jpg', 'MediaPipe_Test_Real/mediapipe539.jpg', 'MediaPipe_Test_Real/mediapipe540.jpg', 'MediaPipe_Test_Real/mediapipe541.jpg', 'MediaPipe_Test_Real/mediapipe542.jpg', 'MediaPipe_Test_Real/mediapipe543.jpg', 'MediaPipe_Test_Real/mediapipe544.jpg', 'MediaPipe_Test_Real/mediapipe545.jpg', 'MediaPipe_Test_Real/mediapipe546.jpg', 'MediaPipe_Test_Real/mediapipe547.jpg', 'MediaPipe_Test_Real/mediapipe548.jpg', 'MediaPipe_Test_Real/mediapipe549.jpg', 'MediaPipe_Test_Real/mediapipe550.jpg', 'MediaPipe_Test_Real/mediapipe551.jpg', 'MediaPipe_Test_Real/mediapipe552.jpg', 'MediaPipe_Test_Real/mediapipe553.jpg', 'MediaPipe_Test_Real/mediapipe554.jpg', 'MediaPipe_Test_Real/mediapipe555.jpg', 'MediaPipe_Test_Real/mediapipe556.jpg', 'MediaPipe_Test_Real/mediapipe557.jpg', 'MediaPipe_Test_Real/mediapipe558.jpg', 'MediaPipe_Test_Real/mediapipe559.jpg', 'MediaPipe_Test_Real/mediapipe560.jpg', 'MediaPipe_Test_Real/mediapipe561.jpg', 'MediaPipe_Test_Real/mediapipe562.jpg', 'MediaPipe_Test_Real/mediapipe563.jpg', 'MediaPipe_Test_Real/mediapipe564.jpg', 'MediaPipe_Test_Real/mediapipe565.jpg', 'MediaPipe_Test_Real/mediapipe566.jpg', 'MediaPipe_Test_Real/mediapipe567.jpg', 'MediaPipe_Test_Real/mediapipe568.jpg', 'MediaPipe_Test_Real/mediapipe569.jpg', 'MediaPipe_Test_Real/mediapipe570.jpg', 'MediaPipe_Test_Real/mediapipe571.jpg', 'MediaPipe_Test_Real/mediapipe572.jpg', 'MediaPipe_Test_Real/mediapipe573.jpg', 'MediaPipe_Test_Real/mediapipe574.jpg', 'MediaPipe_Test_Real/mediapipe575.jpg', 'MediaPipe_Test_Real/mediapipe576.jpg', 'MediaPipe_Test_Real/mediapipe577.jpg', 'MediaPipe_Test_Real/mediapipe578.jpg', 'MediaPipe_Test_Real/mediapipe579.jpg', 'MediaPipe_Test_Real/mediapipe580.jpg', 'MediaPipe_Test_Real/mediapipe581.jpg', 'MediaPipe_Test_Real/mediapipe582.jpg', 'MediaPipe_Test_Real/mediapipe583.jpg', 'MediaPipe_Test_Real/mediapipe584.jpg', 'MediaPipe_Test_Real/mediapipe585.jpg', 'MediaPipe_Test_Real/mediapipe586.jpg', 'MediaPipe_Test_Real/mediapipe587.jpg', 'MediaPipe_Test_Real/mediapipe588.jpg', 'MediaPipe_Test_Real/mediapipe589.jpg', 'MediaPipe_Test_Real/mediapipe590.jpg', 'MediaPipe_Test_Real/mediapipe591.jpg', 'MediaPipe_Test_Real/mediapipe592.jpg', 'MediaPipe_Test_Real/mediapipe593.jpg', 'MediaPipe_Test_Real/mediapipe594.jpg', 'MediaPipe_Test_Real/mediapipe595.jpg', 'MediaPipe_Test_Real/mediapipe596.jpg', 'MediaPipe_Test_Real/mediapipe597.jpg', 'MediaPipe_Test_Real/mediapipe598.jpg', 'MediaPipe_Test_Real/mediapipe599.jpg', 'MediaPipe_Test_Real/mediapipe600.jpg', 'MediaPipe_Test_Real/mediapipe601.jpg', 'MediaPipe_Test_Real/mediapipe602.jpg', 'MediaPipe_Test_Real/mediapipe603.jpg', 'MediaPipe_Test_Real/mediapipe604.jpg', 'MediaPipe_Test_Real/mediapipe605.jpg', 'MediaPipe_Test_Real/mediapipe606.jpg', 'MediaPipe_Test_Real/mediapipe607.jpg', 'MediaPipe_Test_Real/mediapipe608.jpg', 'MediaPipe_Test_Real/mediapipe609.jpg', 'MediaPipe_Test_Real/mediapipe610.jpg', 'MediaPipe_Test_Real/mediapipe611.jpg', 'MediaPipe_Test_Real/mediapipe612.jpg', 'MediaPipe_Test_Real/mediapipe613.jpg', 'MediaPipe_Test_Real/mediapipe614.jpg', 'MediaPipe_Test_Real/mediapipe615.jpg', 'MediaPipe_Test_Real/mediapipe616.jpg', 'MediaPipe_Test_Real/mediapipe617.jpg', 'MediaPipe_Test_Real/mediapipe618.jpg', 'MediaPipe_Test_Real/mediapipe619.jpg', 'MediaPipe_Test_Real/mediapipe620.jpg', 'MediaPipe_Test_Real/mediapipe621.jpg', 'MediaPipe_Test_Real/mediapipe622.jpg', 'MediaPipe_Test_Real/mediapipe623.jpg', 'MediaPipe_Test_Real/mediapipe624.jpg', 'MediaPipe_Test_Real/mediapipe625.jpg', 'MediaPipe_Test_Real/mediapipe626.jpg', 'MediaPipe_Test_Real/mediapipe627.jpg', 'MediaPipe_Test_Real/mediapipe628.jpg', 'MediaPipe_Test_Real/mediapipe629.jpg', 'MediaPipe_Test_Real/mediapipe630.jpg', 'MediaPipe_Test_Real/mediapipe631.jpg', 'MediaPipe_Test_Real/mediapipe632.jpg', 'MediaPipe_Test_Real/mediapipe633.jpg', 'MediaPipe_Test_Real/mediapipe634.jpg', 'MediaPipe_Test_Real/mediapipe635.jpg', 'MediaPipe_Test_Real/mediapipe636.jpg', 'MediaPipe_Test_Real/mediapipe637.jpg', 'MediaPipe_Test_Real/mediapipe638.jpg', 'MediaPipe_Test_Real/mediapipe639.jpg', 'MediaPipe_Test_Real/mediapipe640.jpg', 'MediaPipe_Test_Real/mediapipe641.jpg', 'MediaPipe_Test_Real/mediapipe642.jpg', 'MediaPipe_Test_Real/mediapipe643.jpg', 'MediaPipe_Test_Real/mediapipe644.jpg', 'MediaPipe_Test_Real/mediapipe645.jpg', 'MediaPipe_Test_Real/mediapipe646.jpg', 'MediaPipe_Test_Real/mediapipe647.jpg', 'MediaPipe_Test_Real/mediapipe648.jpg', 'MediaPipe_Test_Real/mediapipe649.jpg', 'MediaPipe_Test_Real/mediapipe650.jpg', 'MediaPipe_Test_Real/mediapipe651.jpg', 'MediaPipe_Test_Real/mediapipe652.jpg', 'MediaPipe_Test_Real/mediapipe653.jpg', 'MediaPipe_Test_Real/mediapipe654.jpg', 'MediaPipe_Test_Real/mediapipe655.jpg', 'MediaPipe_Test_Real/mediapipe656.jpg', 'MediaPipe_Test_Real/mediapipe657.jpg', 'MediaPipe_Test_Real/mediapipe658.jpg', 'MediaPipe_Test_Real/mediapipe659.jpg', 'MediaPipe_Test_Real/mediapipe660.jpg', 'MediaPipe_Test_Real/mediapipe661.jpg', 'MediaPipe_Test_Real/mediapipe662.jpg', 'MediaPipe_Test_Real/mediapipe663.jpg', 'MediaPipe_Test_Real/mediapipe664.jpg', 'MediaPipe_Test_Real/mediapipe665.jpg', 'MediaPipe_Test_Real/mediapipe666.jpg', 'MediaPipe_Test_Real/mediapipe667.jpg', 'MediaPipe_Test_Real/mediapipe668.jpg', 'MediaPipe_Test_Real/mediapipe669.jpg', 'MediaPipe_Test_Real/mediapipe670.jpg', 'MediaPipe_Test_Real/mediapipe671.jpg', 'MediaPipe_Test_Real/mediapipe672.jpg', 'MediaPipe_Test_Real/mediapipe673.jpg', 'MediaPipe_Test_Real/mediapipe674.jpg', 'MediaPipe_Test_Real/mediapipe675.jpg', 'MediaPipe_Test_Real/mediapipe676.jpg', 'MediaPipe_Test_Real/mediapipe677.jpg', 'MediaPipe_Test_Real/mediapipe678.jpg', 'MediaPipe_Test_Real/mediapipe679.jpg', 'MediaPipe_Test_Real/mediapipe680.jpg', 'MediaPipe_Test_Real/mediapipe681.jpg', 'MediaPipe_Test_Real/mediapipe682.jpg', 'MediaPipe_Test_Real/mediapipe683.jpg', 'MediaPipe_Test_Real/mediapipe684.jpg', 'MediaPipe_Test_Real/mediapipe685.jpg', 'MediaPipe_Test_Real/mediapipe686.jpg', 'MediaPipe_Test_Real/mediapipe687.jpg', 'MediaPipe_Test_Real/mediapipe688.jpg', 'MediaPipe_Test_Real/mediapipe689.jpg', 'MediaPipe_Test_Real/mediapipe690.jpg', 'MediaPipe_Test_Real/mediapipe691.jpg', 'MediaPipe_Test_Real/mediapipe692.jpg', 'MediaPipe_Test_Real/mediapipe693.jpg', 'MediaPipe_Test_Real/mediapipe694.jpg', 'MediaPipe_Test_Real/mediapipe695.jpg', 'MediaPipe_Test_Real/mediapipe696.jpg', 'MediaPipe_Test_Real/mediapipe697.jpg', 'MediaPipe_Test_Real/mediapipe698.jpg', 'MediaPipe_Test_Real/mediapipe699.jpg', 'MediaPipe_Test_Real/mediapipe700.jpg', 'MediaPipe_Test_Real/mediapipe701.jpg', 'MediaPipe_Test_Real/mediapipe702.jpg', 'MediaPipe_Test_Real/mediapipe703.jpg', 'MediaPipe_Test_Real/mediapipe704.jpg', 'MediaPipe_Test_Real/mediapipe705.jpg', 'MediaPipe_Test_Real/mediapipe706.jpg', 'MediaPipe_Test_Real/mediapipe707.jpg', 'MediaPipe_Test_Real/mediapipe708.jpg', 'MediaPipe_Test_Real/mediapipe709.jpg', 'MediaPipe_Test_Real/mediapipe710.jpg', 'MediaPipe_Test_Real/mediapipe711.jpg', 'MediaPipe_Test_Real/mediapipe712.jpg', 'MediaPipe_Test_Real/mediapipe713.jpg', 'MediaPipe_Test_Real/mediapipe714.jpg', 'MediaPipe_Test_Real/mediapipe715.jpg', 'MediaPipe_Test_Real/mediapipe716.jpg', 'MediaPipe_Test_Real/mediapipe717.jpg', 'MediaPipe_Test_Real/mediapipe718.jpg', 'MediaPipe_Test_Real/mediapipe719.jpg', 'MediaPipe_Test_Real/mediapipe720.jpg', 'MediaPipe_Test_Real/mediapipe721.jpg', 'MediaPipe_Test_Real/mediapipe722.jpg', 'MediaPipe_Test_Real/mediapipe723.jpg', 'MediaPipe_Test_Real/mediapipe724.jpg', 'MediaPipe_Test_Real/mediapipe725.jpg', 'MediaPipe_Test_Real/mediapipe726.jpg', 'MediaPipe_Test_Real/mediapipe727.jpg', 'MediaPipe_Test_Real/mediapipe728.jpg', 'MediaPipe_Test_Real/mediapipe729.jpg', 'MediaPipe_Test_Real/mediapipe730.jpg', 'MediaPipe_Test_Real/mediapipe731.jpg', 'MediaPipe_Test_Real/mediapipe732.jpg', 'MediaPipe_Test_Real/mediapipe733.jpg', 'MediaPipe_Test_Real/mediapipe734.jpg', 'MediaPipe_Test_Real/mediapipe735.jpg', 'MediaPipe_Test_Real/mediapipe736.jpg', 'MediaPipe_Test_Real/mediapipe737.jpg', 'MediaPipe_Test_Real/mediapipe738.jpg']\n"
          ],
          "name": "stdout"
        }
      ]
    },
    {
      "cell_type": "code",
      "metadata": {
        "colab": {
          "base_uri": "https://localhost:8080/"
        },
        "id": "eo3SIVw1fu_w",
        "outputId": "180727a1-0f49-4f1f-ef7c-e0620dfa564f"
      },
      "source": [
        "print(len(processedImagePath_Test_Fake_mediapipe))\n",
        "print(len(processedImagePath_Test_Real_mediapipe))\n",
        "print(sum(frame_count_test_fake),sum(frame_count_test_real))"
      ],
      "execution_count": 18,
      "outputs": [
        {
          "output_type": "stream",
          "text": [
            "622\n",
            "739\n",
            "622 728\n"
          ],
          "name": "stdout"
        }
      ]
    },
    {
      "cell_type": "code",
      "metadata": {
        "id": "gTfpn9Vx_Dca"
      },
      "source": [
        "processedImagePath_Val_Fake_mediapipe , frame_count_val_fake = faceDetect_MediaPipe(\"Val\",\"Fake\",imgPath_val_fake,frame_count_val_fake)"
      ],
      "execution_count": 19,
      "outputs": []
    },
    {
      "cell_type": "code",
      "metadata": {
        "id": "yh3V_Xh4_N7Y"
      },
      "source": [
        "processedImagePath_Val_Real_mediapipe , frame_count_val_real = faceDetect_MediaPipe(\"Val\",\"Real\",imgPath_val_real,frame_count_val_real)"
      ],
      "execution_count": 20,
      "outputs": []
    },
    {
      "cell_type": "markdown",
      "metadata": {
        "id": "N2k1KXm46T9q"
      },
      "source": [
        "#Data Augmentation"
      ]
    },
    {
      "cell_type": "code",
      "metadata": {
        "id": "5GxM5cUq6mhY"
      },
      "source": [
        "from torchvision import datasets\n",
        "from torch.utils.data import DataLoader\n",
        "from torchvision.utils import save_image\n",
        "from skimage.util import random_noise\n",
        "import numpy as np\n",
        "import torch\n",
        "import matplotlib.pyplot as plt\n",
        "import torchvision.transforms as transforms\n",
        "import argparse"
      ],
      "execution_count": 21,
      "outputs": []
    },
    {
      "cell_type": "code",
      "metadata": {
        "id": "8IhPk_pr6mdz"
      },
      "source": [
        "import numpy as np\n",
        "import os\n",
        "import cv2\n",
        "\n",
        "def noisy(noise_typ,image):\n",
        "  if noise_typ == \"gauss\":\n",
        "    mean = 0\n",
        "    var = 100\n",
        "    sigma = var ** 0.5\n",
        "    row, col, _ = image.shape\n",
        "    gaussian = np.random.normal(mean, sigma, (row, col)) \n",
        "\n",
        "    noisy = np.zeros(image.shape, np.float32)\n",
        "\n",
        "    if len(image.shape) == 2:\n",
        "        noisy = image + gaussian\n",
        "    else:\n",
        "        noisy[:, :, 0] = image[:, :, 0] + gaussian\n",
        "        noisy[:, :, 1] = image[:, :, 1] + gaussian\n",
        "        noisy[:, :, 2] = image[:, :, 2] + gaussian\n",
        "\n",
        "    cv2.normalize(noisy, noisy, 0, 255, cv2.NORM_MINMAX, dtype=-1)\n",
        "    noisy = noisy.astype(np.uint8)\n",
        "    return noisy\n",
        "  elif noise_typ == \"s&p\":\n",
        "    row,col,ch = image.shape\n",
        "    s_vs_p = 0.5\n",
        "    amount = 0.05\n",
        "    out = np.copy(image)\n",
        "    # Salt mode\n",
        "    num_salt = np.ceil(amount * image.size * s_vs_p)\n",
        "    coords = [np.random.randint(0, i - 1, int(num_salt)) for i in image.shape]\n",
        "    out[coords] = 1\n",
        "\n",
        "    # Pepper mode\n",
        "    num_pepper = np.ceil(amount* image.size * (1. - s_vs_p))\n",
        "    coords = [np.random.randint(0, i - 1, int(num_pepper)) for i in image.shape]\n",
        "    out[coords] = 0\n",
        "    return out\n",
        "\n",
        "  \n",
        "  \n",
        "  elif noise_typ ==\"speckle\":\n",
        "    row,col,ch = image.shape\n",
        "    gauss = np.random.randn(row,col,ch)\n",
        "    gauss = gauss.reshape(row,col,ch)\n",
        "    noisy = image + image * gauss\n",
        "    return noisy\n"
      ],
      "execution_count": 22,
      "outputs": []
    },
    {
      "cell_type": "code",
      "metadata": {
        "id": "hsVxlvBS6mW3"
      },
      "source": [
        "def create_noisy_img(face_detector,face_detector_arr,type_dataset,label):\n",
        "    arr=[]\n",
        "    for i in range(len(face_detector_arr)):\n",
        "        img=cv2.imread(face_detector_arr[i])\n",
        "        if face_detector!=\"MediaPipe\":\n",
        "            img = cv2.cvtColor(img, cv2.COLOR_BGR2RGB)\n",
        "        noisy_img = noisy(\"gauss\", img)\n",
        "        noisy_img = cv2.resize(noisy_img, (64, 64))\n",
        "        \n",
        "        cv2.imwrite(\"/content/MediaPipe_\"+type_dataset+\"_\"+label+\"_Noise/mediapipe_noise%d.jpg\" % i,noisy_img)\n",
        "        arr.append(\"/content/MediaPipe_\"+type_dataset+\"_\"+label+\"_Noise/mediapipe_noise%d.jpg\"%i)\n",
        "    return arr\n"
      ],
      "execution_count": 23,
      "outputs": []
    },
    {
      "cell_type": "code",
      "metadata": {
        "id": "HccJeDxv6mSw"
      },
      "source": [
        "processedImagePath_Train_Fake_mediapipe_noise=create_noisy_img(\"MediaPipe\",processedImagePath_Train_Fake_mediapipe,\"Train\",\"Fake\")"
      ],
      "execution_count": 24,
      "outputs": []
    },
    {
      "cell_type": "code",
      "metadata": {
        "id": "g74QlblC6mQH"
      },
      "source": [
        "processedImagePath_Train_Real_mediapipe_noise=create_noisy_img(\"MediaPipe\",processedImagePath_Train_Real_mediapipe,\"Train\",\"Real\")"
      ],
      "execution_count": 25,
      "outputs": []
    },
    {
      "cell_type": "markdown",
      "metadata": {
        "id": "RIh5Uj4sf1H9"
      },
      "source": [
        "# Training"
      ]
    },
    {
      "cell_type": "code",
      "metadata": {
        "id": "2xQXW_SCf3pC"
      },
      "source": [
        "from sklearn.metrics import accuracy_score\n",
        "from sklearn.metrics import f1_score\n",
        "from sklearn.metrics import log_loss\n",
        "from skimage.color import rgb2grey\n",
        "from skimage.feature import hog\n",
        "\n",
        "def create_features(img):\n",
        "    \n",
        "    gray = cv2.cvtColor(img, cv2.COLOR_RGB2GRAY)\n",
        "    features=[]\n",
        "    for i in gray:\n",
        "      for j in i:\n",
        "        features.append(j)\n",
        "    \n",
        "    return features\n"
      ],
      "execution_count": 26,
      "outputs": []
    },
    {
      "cell_type": "code",
      "metadata": {
        "id": "di5H_HG4f4bi"
      },
      "source": [
        "def createFeatureDatabase(real_list, fake_list):\n",
        "  train=[]\n",
        "  label = []\n",
        "\n",
        "  \n",
        "\n",
        "  for i in range(len(fake_list)):\n",
        "    img = cv2.imread(fake_list[i])\n",
        "    tmp_features = create_features(img)\n",
        "    train.append(tmp_features)\n",
        "    label.append(0)\n",
        "\n",
        "  for i in range(len(real_list)):\n",
        "    img = cv2.imread(real_list[i])\n",
        "    tmp_features = create_features(img)\n",
        "    train.append(tmp_features)\n",
        "    label.append(1)\n",
        "\n",
        "  \n",
        "  return train,label"
      ],
      "execution_count": 27,
      "outputs": []
    },
    {
      "cell_type": "code",
      "metadata": {
        "id": "P0yTGPwhlJL_"
      },
      "source": [
        "train_data,label_data = createFeatureDatabase(processedImagePath_Train_Real_mediapipe,processedImagePath_Train_Fake_mediapipe)"
      ],
      "execution_count": 28,
      "outputs": []
    },
    {
      "cell_type": "code",
      "metadata": {
        "colab": {
          "base_uri": "https://localhost:8080/"
        },
        "id": "ihQnmpq9lOsl",
        "outputId": "4758d813-5e32-4360-eaf3-4df483d9869d"
      },
      "source": [
        "len(train_data)"
      ],
      "execution_count": 29,
      "outputs": [
        {
          "output_type": "execute_result",
          "data": {
            "text/plain": [
              "2760"
            ]
          },
          "metadata": {
            "tags": []
          },
          "execution_count": 29
        }
      ]
    },
    {
      "cell_type": "code",
      "metadata": {
        "id": "ZUpk8YIOlL4B"
      },
      "source": [
        "test_data, test_label = createFeatureDatabase(processedImagePath_Test_Real_mediapipe,processedImagePath_Test_Fake_mediapipe)"
      ],
      "execution_count": 30,
      "outputs": []
    },
    {
      "cell_type": "code",
      "metadata": {
        "id": "RJjDbB0MNwYT"
      },
      "source": [
        "train_data_noise,label_data_noise = createFeatureDatabase(processedImagePath_Train_Real_mediapipe_noise,processedImagePath_Train_Fake_mediapipe_noise)"
      ],
      "execution_count": 31,
      "outputs": []
    },
    {
      "cell_type": "code",
      "metadata": {
        "colab": {
          "base_uri": "https://localhost:8080/"
        },
        "id": "UeDkgg4VNwPY",
        "outputId": "ad40dd71-1694-496a-f68b-3d40c583e695"
      },
      "source": [
        "len(label_data_noise)"
      ],
      "execution_count": 32,
      "outputs": [
        {
          "output_type": "execute_result",
          "data": {
            "text/plain": [
              "2760"
            ]
          },
          "metadata": {
            "tags": []
          },
          "execution_count": 32
        }
      ]
    },
    {
      "cell_type": "code",
      "metadata": {
        "colab": {
          "base_uri": "https://localhost:8080/"
        },
        "id": "MaPmgjkfNwMP",
        "outputId": "9d0a5602-5967-4202-b7d7-4cc1080f8eee"
      },
      "source": [
        "len(label_data)"
      ],
      "execution_count": 33,
      "outputs": [
        {
          "output_type": "execute_result",
          "data": {
            "text/plain": [
              "2760"
            ]
          },
          "metadata": {
            "tags": []
          },
          "execution_count": 33
        }
      ]
    },
    {
      "cell_type": "markdown",
      "metadata": {
        "id": "yXkaTrzof8r9"
      },
      "source": [
        "## Standard Scaler"
      ]
    },
    {
      "cell_type": "code",
      "metadata": {
        "id": "TNeLgngcgBNl"
      },
      "source": [
        "from sklearn.preprocessing import StandardScaler  \n",
        "scaler = StandardScaler()  \n",
        "\n",
        "scaler.fit(train_data)  \n",
        "train_data_ss = scaler.transform(train_data)  \n",
        "\n",
        "test_data_ss = scaler.transform(test_data)"
      ],
      "execution_count": 34,
      "outputs": []
    },
    {
      "cell_type": "code",
      "metadata": {
        "id": "Hy6FU7a5ORhL"
      },
      "source": [
        "from sklearn.preprocessing import StandardScaler  \n",
        "scaler = StandardScaler()  \n",
        "\n",
        "scaler.fit(train_data_noise)  \n",
        "train_data_ss_noise = scaler.transform(train_data_noise)  \n",
        "\n",
        "test_data_ss = scaler.transform(test_data)"
      ],
      "execution_count": 35,
      "outputs": []
    },
    {
      "cell_type": "markdown",
      "metadata": {
        "id": "USl1qJBQgDIG"
      },
      "source": [
        "## LDA"
      ]
    },
    {
      "cell_type": "code",
      "metadata": {
        "id": "YoRAD81agFZp"
      },
      "source": [
        "from sklearn.discriminant_analysis import LinearDiscriminantAnalysis\n",
        "\n",
        "lda = LinearDiscriminantAnalysis()\n",
        "lda_train_data = lda.fit_transform(train_data_ss, label_data)\n"
      ],
      "execution_count": 36,
      "outputs": []
    },
    {
      "cell_type": "code",
      "metadata": {
        "id": "IWCjcXVugHVY"
      },
      "source": [
        "lda_test_data=lda.transform(test_data_ss)"
      ],
      "execution_count": 37,
      "outputs": []
    },
    {
      "cell_type": "code",
      "metadata": {
        "colab": {
          "base_uri": "https://localhost:8080/"
        },
        "id": "zvVbbzhegI52",
        "outputId": "61cb7909-dcda-4eda-a396-bf6f5012df08"
      },
      "source": [
        "lda.explained_variance_ratio_"
      ],
      "execution_count": 38,
      "outputs": [
        {
          "output_type": "execute_result",
          "data": {
            "text/plain": [
              "array([1.])"
            ]
          },
          "metadata": {
            "tags": []
          },
          "execution_count": 38
        }
      ]
    },
    {
      "cell_type": "code",
      "metadata": {
        "colab": {
          "base_uri": "https://localhost:8080/"
        },
        "id": "U3l7-Z1BgK7D",
        "outputId": "cbbe383b-2b3d-48b6-a49b-579e643478ef"
      },
      "source": [
        "lda_train_data"
      ],
      "execution_count": 39,
      "outputs": [
        {
          "output_type": "execute_result",
          "data": {
            "text/plain": [
              "array([[-7.17543391],\n",
              "       [-2.43903363],\n",
              "       [-2.64694522],\n",
              "       ...,\n",
              "       [ 5.65648646],\n",
              "       [ 2.74928279],\n",
              "       [ 3.64409997]])"
            ]
          },
          "metadata": {
            "tags": []
          },
          "execution_count": 39
        }
      ]
    },
    {
      "cell_type": "code",
      "metadata": {
        "colab": {
          "base_uri": "https://localhost:8080/"
        },
        "id": "KzYJMNeHgMhx",
        "outputId": "e1afee1b-0bef-48dd-8f65-1d0ddc153b23"
      },
      "source": [
        "len(lda_train_data[0])"
      ],
      "execution_count": 40,
      "outputs": [
        {
          "output_type": "execute_result",
          "data": {
            "text/plain": [
              "1"
            ]
          },
          "metadata": {
            "tags": []
          },
          "execution_count": 40
        }
      ]
    },
    {
      "cell_type": "markdown",
      "metadata": {
        "id": "DQUv0Mq6gOos"
      },
      "source": [
        "## PCA"
      ]
    },
    {
      "cell_type": "code",
      "metadata": {
        "id": "GdhS_rThgQBy"
      },
      "source": [
        "from sklearn.decomposition import PCA\n",
        "pca = PCA(0.99)\n",
        "pca_train_data=pca.fit_transform(train_data_ss)"
      ],
      "execution_count": 41,
      "outputs": []
    },
    {
      "cell_type": "code",
      "metadata": {
        "colab": {
          "base_uri": "https://localhost:8080/"
        },
        "id": "yyswL7_igVca",
        "outputId": "cd022249-03ed-4e2f-b527-70d9ebf5f7fd"
      },
      "source": [
        "pca_train_data"
      ],
      "execution_count": 42,
      "outputs": [
        {
          "output_type": "execute_result",
          "data": {
            "text/plain": [
              "array([[-2.85712500e+01,  6.08879158e+00, -1.34110732e+01, ...,\n",
              "        -1.85820998e-01, -4.81187362e-02, -4.20005577e-01],\n",
              "       [-2.92900834e+01,  5.80390581e+00, -1.44870959e+01, ...,\n",
              "        -1.60322395e-01,  2.09212082e-02, -4.39091636e-01],\n",
              "       [-2.85311344e+01,  6.24373040e+00, -1.35127501e+01, ...,\n",
              "        -2.21808599e-01, -3.22938420e-02, -4.25875695e-01],\n",
              "       ...,\n",
              "       [ 3.93087149e+01,  2.08254635e+01, -1.41474430e+01, ...,\n",
              "        -2.97802215e-02, -1.06744272e-01, -3.03636350e-01],\n",
              "       [ 3.11235077e+01,  1.92215069e+01, -1.90573908e+01, ...,\n",
              "         2.12665789e-02, -4.06227533e-02,  1.97146378e-01],\n",
              "       [ 2.43395176e+01,  1.24218589e+01, -1.94691898e+01, ...,\n",
              "         1.33954273e-01, -1.91022600e-01,  2.04453103e-02]])"
            ]
          },
          "metadata": {
            "tags": []
          },
          "execution_count": 42
        }
      ]
    },
    {
      "cell_type": "code",
      "metadata": {
        "colab": {
          "base_uri": "https://localhost:8080/"
        },
        "id": "zGGvW5nlgXb1",
        "outputId": "91728c8d-614b-4ada-dfd7-80340eedef5f"
      },
      "source": [
        "len(pca_train_data)"
      ],
      "execution_count": 43,
      "outputs": [
        {
          "output_type": "execute_result",
          "data": {
            "text/plain": [
              "2760"
            ]
          },
          "metadata": {
            "tags": []
          },
          "execution_count": 43
        }
      ]
    },
    {
      "cell_type": "code",
      "metadata": {
        "id": "aHr8M274Pi-I"
      },
      "source": [
        "pca_train_data_noise=pca.transform(train_data_ss_noise)"
      ],
      "execution_count": 44,
      "outputs": []
    },
    {
      "cell_type": "code",
      "metadata": {
        "colab": {
          "base_uri": "https://localhost:8080/"
        },
        "id": "G5_dd3cZZg55",
        "outputId": "5dc1e30a-9ccc-49eb-9de6-88186f665ac1"
      },
      "source": [
        "len(pca_train_data_noise)"
      ],
      "execution_count": 45,
      "outputs": [
        {
          "output_type": "execute_result",
          "data": {
            "text/plain": [
              "2760"
            ]
          },
          "metadata": {
            "tags": []
          },
          "execution_count": 45
        }
      ]
    },
    {
      "cell_type": "code",
      "metadata": {
        "id": "iDhbMi6AYa5H"
      },
      "source": [
        "pca_test_data=pca.transform(test_data_ss)"
      ],
      "execution_count": 46,
      "outputs": []
    },
    {
      "cell_type": "code",
      "metadata": {
        "id": "HJv0HQgePyZ3",
        "colab": {
          "base_uri": "https://localhost:8080/"
        },
        "outputId": "dafc93fe-9c0d-4a69-eb60-a1156111a07f"
      },
      "source": [
        "pca.explained_variance_ratio_"
      ],
      "execution_count": 47,
      "outputs": [
        {
          "output_type": "execute_result",
          "data": {
            "text/plain": [
              "array([3.01471361e-01, 1.05800653e-01, 6.51910450e-02, 4.38693891e-02,\n",
              "       3.79067757e-02, 3.12366208e-02, 2.41537553e-02, 1.79361419e-02,\n",
              "       1.74475074e-02, 1.43210757e-02, 1.31733307e-02, 1.17921431e-02,\n",
              "       1.06376771e-02, 9.08863930e-03, 8.88701794e-03, 8.14293005e-03,\n",
              "       7.53917017e-03, 7.26951963e-03, 6.69652764e-03, 6.45952342e-03,\n",
              "       5.85814233e-03, 5.30236771e-03, 5.00531441e-03, 4.85256656e-03,\n",
              "       4.73927461e-03, 4.65739948e-03, 4.38454566e-03, 4.08749531e-03,\n",
              "       3.83479038e-03, 3.75866268e-03, 3.43477825e-03, 3.36799651e-03,\n",
              "       3.31962240e-03, 3.15791917e-03, 3.08249511e-03, 2.94125142e-03,\n",
              "       2.89333672e-03, 2.72334062e-03, 2.61439243e-03, 2.58764402e-03,\n",
              "       2.51310283e-03, 2.45284066e-03, 2.30220000e-03, 2.25079258e-03,\n",
              "       2.23990436e-03, 2.20629793e-03, 2.13642807e-03, 2.12568205e-03,\n",
              "       2.06370919e-03, 1.97409322e-03, 1.90592007e-03, 1.83224687e-03,\n",
              "       1.82543622e-03, 1.74827999e-03, 1.70185847e-03, 1.63766642e-03,\n",
              "       1.62746831e-03, 1.60487800e-03, 1.55220245e-03, 1.48742421e-03,\n",
              "       1.47547205e-03, 1.47255403e-03, 1.42132510e-03, 1.41487263e-03,\n",
              "       1.40272369e-03, 1.34195532e-03, 1.31273842e-03, 1.27315830e-03,\n",
              "       1.25602529e-03, 1.22671317e-03, 1.20448827e-03, 1.18261960e-03,\n",
              "       1.18018312e-03, 1.13808665e-03, 1.12663743e-03, 1.11445421e-03,\n",
              "       1.09161201e-03, 1.04586038e-03, 1.02962846e-03, 1.01998964e-03,\n",
              "       9.98339637e-04, 9.75316978e-04, 9.67251912e-04, 9.54575323e-04,\n",
              "       9.46957381e-04, 9.35412039e-04, 9.15401650e-04, 8.95883418e-04,\n",
              "       8.81942147e-04, 8.73465701e-04, 8.45428785e-04, 8.36222664e-04,\n",
              "       8.18160998e-04, 8.08558073e-04, 8.00664151e-04, 7.95073897e-04,\n",
              "       7.79445423e-04, 7.66413947e-04, 7.60071940e-04, 7.50952851e-04,\n",
              "       7.33121494e-04, 7.24660561e-04, 7.15384866e-04, 7.04857923e-04,\n",
              "       6.77410941e-04, 6.73275999e-04, 6.69680751e-04, 6.66513205e-04,\n",
              "       6.55881473e-04, 6.42294696e-04, 6.32748039e-04, 6.23951726e-04,\n",
              "       6.17371786e-04, 6.07246457e-04, 6.05610112e-04, 5.96168857e-04,\n",
              "       5.90146860e-04, 5.78691511e-04, 5.75443655e-04, 5.50994889e-04,\n",
              "       5.42456751e-04, 5.40353814e-04, 5.33528012e-04, 5.27002209e-04,\n",
              "       5.17098986e-04, 5.15432235e-04, 5.05559794e-04, 5.02937026e-04,\n",
              "       4.91659770e-04, 4.89660362e-04, 4.84731662e-04, 4.82627761e-04,\n",
              "       4.75056785e-04, 4.68723773e-04, 4.63965366e-04, 4.57031187e-04,\n",
              "       4.54309712e-04, 4.47708880e-04, 4.45045388e-04, 4.40160467e-04,\n",
              "       4.38743921e-04, 4.35597317e-04, 4.32527257e-04, 4.27899620e-04,\n",
              "       4.25573162e-04, 4.13887577e-04, 4.09356669e-04, 4.07882999e-04,\n",
              "       4.02397653e-04, 3.94639487e-04, 3.91701771e-04, 3.89589477e-04,\n",
              "       3.86212066e-04, 3.82684465e-04, 3.80711967e-04, 3.79487619e-04,\n",
              "       3.73182048e-04, 3.70212199e-04, 3.68423430e-04, 3.62271496e-04,\n",
              "       3.60636303e-04, 3.54845390e-04, 3.49987229e-04, 3.46858389e-04,\n",
              "       3.44209009e-04, 3.40709691e-04, 3.40089826e-04, 3.37525986e-04,\n",
              "       3.35277672e-04, 3.31263466e-04, 3.26520771e-04, 3.22517226e-04,\n",
              "       3.21732638e-04, 3.18045552e-04, 3.15047388e-04, 3.11143086e-04,\n",
              "       3.07856750e-04, 3.05167806e-04, 3.03920453e-04, 3.00221891e-04,\n",
              "       2.98203360e-04, 2.92798888e-04, 2.89088635e-04, 2.86144265e-04,\n",
              "       2.85341531e-04, 2.82221079e-04, 2.81698925e-04, 2.78793624e-04,\n",
              "       2.74995698e-04, 2.72326037e-04, 2.71720960e-04, 2.68749329e-04,\n",
              "       2.66035959e-04, 2.65055973e-04, 2.62608757e-04, 2.62083666e-04,\n",
              "       2.58694537e-04, 2.56201298e-04, 2.54606201e-04, 2.53503303e-04,\n",
              "       2.51501255e-04, 2.50086700e-04, 2.47117368e-04, 2.45446637e-04,\n",
              "       2.42905792e-04, 2.42451743e-04, 2.40098356e-04, 2.37532064e-04,\n",
              "       2.35725804e-04, 2.31475536e-04, 2.30683927e-04, 2.28746401e-04,\n",
              "       2.26756882e-04, 2.26098952e-04, 2.24996414e-04, 2.23048674e-04,\n",
              "       2.18440098e-04, 2.18375196e-04, 2.17012855e-04, 2.15012495e-04,\n",
              "       2.12805543e-04, 2.11660440e-04, 2.10348241e-04, 2.09053638e-04,\n",
              "       2.06942983e-04, 2.06711068e-04, 2.05453421e-04, 2.02813104e-04,\n",
              "       2.01285640e-04, 2.00573998e-04, 1.99067262e-04, 1.97817972e-04,\n",
              "       1.95984305e-04, 1.94380497e-04, 1.92361445e-04, 1.91870079e-04,\n",
              "       1.90581736e-04, 1.90054752e-04, 1.89650468e-04, 1.88829096e-04,\n",
              "       1.86110343e-04, 1.83765858e-04, 1.83146046e-04, 1.82811686e-04,\n",
              "       1.80128833e-04, 1.79798873e-04, 1.77480269e-04, 1.76983791e-04,\n",
              "       1.76338930e-04, 1.74902052e-04, 1.73228317e-04, 1.72313602e-04,\n",
              "       1.71408208e-04, 1.69380973e-04, 1.68704763e-04, 1.67715478e-04,\n",
              "       1.66604974e-04, 1.65277643e-04, 1.64367559e-04, 1.63342484e-04,\n",
              "       1.62427737e-04, 1.61774084e-04, 1.59504361e-04, 1.58883636e-04,\n",
              "       1.57916380e-04, 1.56951275e-04, 1.55383258e-04, 1.54332973e-04,\n",
              "       1.53247911e-04, 1.52211220e-04, 1.51691193e-04, 1.50080175e-04,\n",
              "       1.49401483e-04, 1.48917459e-04, 1.48479697e-04, 1.46530741e-04,\n",
              "       1.45315091e-04, 1.44659197e-04, 1.43758738e-04, 1.43485486e-04,\n",
              "       1.42658058e-04, 1.42224905e-04, 1.41542572e-04, 1.39909625e-04,\n",
              "       1.39776140e-04, 1.39423338e-04, 1.38720563e-04, 1.37687582e-04,\n",
              "       1.36633168e-04, 1.36364334e-04, 1.34970932e-04, 1.34349349e-04,\n",
              "       1.33064530e-04, 1.32177366e-04, 1.31328715e-04, 1.30519121e-04,\n",
              "       1.29787281e-04, 1.29154115e-04, 1.29078836e-04, 1.27506106e-04,\n",
              "       1.27195228e-04, 1.26006191e-04, 1.25051716e-04, 1.24367737e-04,\n",
              "       1.23652039e-04, 1.22886795e-04, 1.22628393e-04, 1.21991875e-04,\n",
              "       1.20953427e-04, 1.20385939e-04, 1.19769468e-04, 1.19447594e-04,\n",
              "       1.18021324e-04, 1.17627566e-04, 1.16791697e-04, 1.16701711e-04,\n",
              "       1.14871863e-04, 1.14805467e-04, 1.14658292e-04, 1.13905776e-04,\n",
              "       1.13414220e-04, 1.13078606e-04, 1.12614420e-04, 1.11230847e-04,\n",
              "       1.10757914e-04, 1.10187945e-04, 1.09562220e-04, 1.09180783e-04,\n",
              "       1.08659398e-04, 1.08087019e-04, 1.07418541e-04, 1.06540569e-04,\n",
              "       1.05230370e-04, 1.04726279e-04, 1.04352230e-04, 1.04090817e-04,\n",
              "       1.03848780e-04, 1.03212653e-04, 1.02513166e-04, 1.02203822e-04,\n",
              "       1.01936085e-04, 1.01296894e-04, 1.01055492e-04, 1.00052394e-04,\n",
              "       9.93234488e-05, 9.89433434e-05, 9.83326008e-05, 9.81562611e-05,\n",
              "       9.78199881e-05, 9.73928774e-05, 9.68163751e-05, 9.61522756e-05,\n",
              "       9.59411098e-05, 9.49097007e-05, 9.43314787e-05, 9.35875621e-05,\n",
              "       9.34458308e-05, 9.25968653e-05, 9.23546972e-05, 9.20698496e-05,\n",
              "       9.17840788e-05, 9.09673897e-05, 9.07348068e-05, 9.03607439e-05,\n",
              "       8.96985597e-05, 8.93208406e-05, 8.91771016e-05, 8.78966074e-05,\n",
              "       8.73875289e-05, 8.68944082e-05, 8.63858259e-05, 8.60576398e-05,\n",
              "       8.59253166e-05, 8.54590467e-05, 8.50401729e-05, 8.47979279e-05,\n",
              "       8.43537186e-05, 8.40278009e-05, 8.37628148e-05, 8.36057167e-05,\n",
              "       8.31180658e-05, 8.27920263e-05, 8.24574121e-05, 8.19611485e-05,\n",
              "       8.13373405e-05, 8.10200373e-05, 8.05539592e-05, 8.04273093e-05,\n",
              "       7.97580295e-05, 7.95559955e-05, 7.94919106e-05, 7.89802590e-05,\n",
              "       7.88527923e-05, 7.83830081e-05, 7.82195205e-05, 7.76547821e-05,\n",
              "       7.74291191e-05, 7.71139837e-05, 7.67271012e-05, 7.64356756e-05,\n",
              "       7.61053466e-05, 7.58831749e-05, 7.52032796e-05, 7.49376571e-05,\n",
              "       7.46370700e-05, 7.43023288e-05, 7.38247932e-05, 7.36480080e-05,\n",
              "       7.32826662e-05, 7.32215049e-05, 7.28036692e-05, 7.21336610e-05,\n",
              "       7.18205213e-05, 7.16324834e-05, 7.11593528e-05, 7.09515053e-05,\n",
              "       7.08807321e-05, 7.06499201e-05, 7.00687508e-05, 6.97953042e-05,\n",
              "       6.95184999e-05, 6.88985511e-05, 6.83159291e-05, 6.80258304e-05,\n",
              "       6.78998892e-05, 6.77810476e-05, 6.72718453e-05, 6.70813054e-05,\n",
              "       6.66859118e-05, 6.64720181e-05, 6.61648111e-05, 6.60073909e-05,\n",
              "       6.57492898e-05, 6.54056191e-05, 6.51407518e-05, 6.49480112e-05,\n",
              "       6.46934462e-05, 6.43705154e-05, 6.40328556e-05, 6.37670612e-05,\n",
              "       6.33617631e-05, 6.32210598e-05, 6.30633359e-05, 6.25331811e-05,\n",
              "       6.20769428e-05, 6.20126758e-05, 6.16338463e-05, 6.14882587e-05,\n",
              "       6.13103910e-05, 6.10971521e-05, 6.08882816e-05, 6.07362907e-05,\n",
              "       6.03527185e-05, 6.01106885e-05, 5.98754446e-05, 5.95424395e-05,\n",
              "       5.94041894e-05, 5.90374034e-05, 5.89734363e-05, 5.88198393e-05,\n",
              "       5.84550587e-05, 5.83160482e-05, 5.81324239e-05, 5.80037702e-05,\n",
              "       5.74878202e-05, 5.72193281e-05, 5.70048413e-05, 5.69362514e-05,\n",
              "       5.67316626e-05, 5.63320181e-05, 5.62134677e-05, 5.60478019e-05,\n",
              "       5.55683523e-05, 5.54931722e-05, 5.53177862e-05, 5.49888124e-05,\n",
              "       5.45327620e-05, 5.43141425e-05, 5.41467016e-05, 5.40111585e-05,\n",
              "       5.38340694e-05, 5.36226734e-05, 5.31422132e-05, 5.29903632e-05,\n",
              "       5.29503479e-05, 5.25054151e-05, 5.24367487e-05, 5.21624046e-05,\n",
              "       5.19743412e-05, 5.18660975e-05, 5.14741415e-05, 5.12169533e-05,\n",
              "       5.10876025e-05, 5.09719973e-05, 5.07401106e-05, 5.06199030e-05,\n",
              "       5.05095846e-05, 5.03079544e-05, 4.99818260e-05, 4.96019386e-05,\n",
              "       4.94611804e-05, 4.93559111e-05, 4.91849204e-05, 4.91420687e-05,\n",
              "       4.89836164e-05, 4.86772310e-05, 4.85549036e-05, 4.83634903e-05,\n",
              "       4.82717886e-05, 4.78373559e-05, 4.76326638e-05, 4.75650995e-05,\n",
              "       4.74450805e-05, 4.73820751e-05, 4.72117994e-05, 4.67173698e-05,\n",
              "       4.64985411e-05, 4.64847912e-05, 4.63843476e-05, 4.62588942e-05,\n",
              "       4.60058986e-05, 4.58014851e-05, 4.55321873e-05, 4.53036949e-05,\n",
              "       4.51743218e-05, 4.51393163e-05, 4.50256710e-05, 4.47416422e-05,\n",
              "       4.46580149e-05, 4.45935792e-05, 4.43929816e-05, 4.43389530e-05,\n",
              "       4.42037868e-05, 4.39546628e-05, 4.37516879e-05, 4.34960953e-05,\n",
              "       4.33501605e-05, 4.31718954e-05, 4.29683914e-05, 4.28284505e-05,\n",
              "       4.25779651e-05, 4.23847615e-05, 4.22878498e-05, 4.21853393e-05,\n",
              "       4.20719133e-05, 4.19801968e-05, 4.17167875e-05, 4.16510181e-05,\n",
              "       4.13815000e-05, 4.12539584e-05, 4.11752907e-05, 4.11181232e-05,\n",
              "       4.10271942e-05, 4.08667799e-05, 4.06555555e-05, 4.03972924e-05,\n",
              "       4.02992329e-05, 4.01599067e-05, 4.00817472e-05, 3.98091083e-05,\n",
              "       3.96048606e-05, 3.95760311e-05, 3.95086748e-05, 3.93478479e-05,\n",
              "       3.92765631e-05, 3.91701269e-05, 3.90179583e-05, 3.88906841e-05,\n",
              "       3.86149185e-05, 3.85122540e-05, 3.83342149e-05, 3.82526826e-05,\n",
              "       3.80636461e-05, 3.78517500e-05, 3.77168471e-05, 3.76513692e-05,\n",
              "       3.75380008e-05, 3.74254860e-05, 3.73125647e-05, 3.71148643e-05,\n",
              "       3.70366896e-05, 3.69634979e-05, 3.68275842e-05, 3.66594356e-05,\n",
              "       3.64717079e-05, 3.63972496e-05, 3.62993828e-05, 3.62192489e-05,\n",
              "       3.60446947e-05, 3.60057089e-05, 3.57790858e-05, 3.57014704e-05,\n",
              "       3.56782154e-05, 3.55700175e-05, 3.54163401e-05, 3.52200867e-05,\n",
              "       3.50319305e-05, 3.48853578e-05, 3.47329671e-05, 3.45851652e-05,\n",
              "       3.44749397e-05, 3.44406222e-05, 3.43341549e-05, 3.41413074e-05,\n",
              "       3.39829807e-05, 3.38906362e-05, 3.38114338e-05, 3.36224694e-05,\n",
              "       3.35212767e-05, 3.33573010e-05, 3.32534753e-05, 3.31589533e-05,\n",
              "       3.30860678e-05, 3.30553324e-05, 3.28984168e-05, 3.27889612e-05,\n",
              "       3.27023148e-05, 3.26483406e-05, 3.24745961e-05, 3.24413832e-05,\n",
              "       3.22780841e-05, 3.21987062e-05, 3.19333033e-05, 3.17157413e-05,\n",
              "       3.17060143e-05, 3.16057204e-05, 3.15721534e-05, 3.15353488e-05,\n",
              "       3.14907092e-05, 3.13479062e-05, 3.12714046e-05, 3.11711669e-05,\n",
              "       3.10780368e-05, 3.09297564e-05, 3.08625297e-05, 3.06563022e-05,\n",
              "       3.05454768e-05, 3.05117648e-05, 3.04722833e-05, 3.03561346e-05,\n",
              "       3.02969489e-05, 3.01427663e-05, 3.00877930e-05, 3.00137004e-05,\n",
              "       2.99549389e-05, 2.97909679e-05, 2.96720224e-05, 2.96101736e-05,\n",
              "       2.95267729e-05, 2.93906893e-05, 2.92661035e-05, 2.91382845e-05,\n",
              "       2.91077965e-05, 2.90074059e-05, 2.88131347e-05, 2.86679033e-05,\n",
              "       2.85373735e-05, 2.84360802e-05, 2.83972747e-05, 2.83191892e-05,\n",
              "       2.82496123e-05, 2.81893651e-05, 2.81551505e-05, 2.80604667e-05,\n",
              "       2.80145245e-05, 2.79733716e-05, 2.77979336e-05, 2.76841734e-05,\n",
              "       2.76021264e-05, 2.75760183e-05, 2.74940441e-05, 2.73991799e-05,\n",
              "       2.73655501e-05, 2.72824556e-05, 2.71999863e-05, 2.70415893e-05,\n",
              "       2.69937190e-05, 2.68486174e-05, 2.67114952e-05, 2.66643626e-05,\n",
              "       2.65558201e-05, 2.64942366e-05, 2.64440127e-05])"
            ]
          },
          "metadata": {
            "tags": []
          },
          "execution_count": 47
        }
      ]
    },
    {
      "cell_type": "code",
      "metadata": {
        "colab": {
          "base_uri": "https://localhost:8080/"
        },
        "id": "ChHJhSM3PyWy",
        "outputId": "3f182cde-64ec-4b47-82aa-a65bc0869826"
      },
      "source": [
        "pca_train_data_noise"
      ],
      "execution_count": 48,
      "outputs": [
        {
          "output_type": "execute_result",
          "data": {
            "text/plain": [
              "array([[ 16.0169503 ,  12.25230184, -16.77099523, ...,  -0.17917012,\n",
              "         -0.41494209,  -0.45843038],\n",
              "       [ 20.15215737,  13.22459757, -17.77876852, ...,  -0.6345623 ,\n",
              "         -0.1371647 ,  -0.41427949],\n",
              "       [ 11.76765911,  12.27013919, -16.96987617, ...,  -0.55343327,\n",
              "          0.04578826,  -0.65946975],\n",
              "       ...,\n",
              "       [  5.22530158,  15.75007914, -11.77815691, ...,   0.08417023,\n",
              "          0.32021063,  -0.36418891],\n",
              "       [  1.97843995,  14.64341609, -17.08523607, ...,   0.53400712,\n",
              "          0.07663096,   0.41212463],\n",
              "       [  0.71902381,   8.43452356, -17.52488375, ...,   0.07402466,\n",
              "         -0.44516953,   0.4599015 ]])"
            ]
          },
          "metadata": {
            "tags": []
          },
          "execution_count": 48
        }
      ]
    },
    {
      "cell_type": "markdown",
      "metadata": {
        "id": "TLgyGaZRgbLf"
      },
      "source": [
        "# DeepFake Result"
      ]
    },
    {
      "cell_type": "code",
      "metadata": {
        "id": "UCRFiWHcgex2"
      },
      "source": [
        "def predictDeepFakeResult(predicted_test,frame_count_test):\n",
        "  k=0\n",
        "  prediction=[]\n",
        "  len1=len(predicted_test)\n",
        "  for i in frame_count_test:\n",
        "    real_count=0\n",
        "    fake_count=0\n",
        "    \n",
        "    for j in range(i):\n",
        "      if predicted_test[k]==1:\n",
        "        real_count+=1\n",
        "      else:\n",
        "        fake_count+=1\n",
        "      k+=1\n",
        "    if real_count>fake_count:\n",
        "      prediction.append(1)\n",
        "    else:\n",
        "      prediction.append(0)\n",
        "  return prediction"
      ],
      "execution_count": 49,
      "outputs": []
    },
    {
      "cell_type": "code",
      "metadata": {
        "id": "U5mfXE6Fggzu"
      },
      "source": [
        "actual_test_label=video_label_test_fake+video_label_test_real"
      ],
      "execution_count": 50,
      "outputs": []
    },
    {
      "cell_type": "markdown",
      "metadata": {
        "id": "x_OsLgWCgkkS"
      },
      "source": [
        "## SVC"
      ]
    },
    {
      "cell_type": "code",
      "metadata": {
        "id": "13xMqCs1gm_S"
      },
      "source": [
        "from sklearn.svm import SVC\n",
        "from sklearn.model_selection import cross_val_score\n",
        "\n",
        "def trainSVC(train_data, label_data, test_data,test_label):\n",
        "  model = SVC()\n",
        "  \n",
        "  model.fit(train_data,label_data)\n",
        "  print(model.score(test_data,test_label))\n",
        "  cvs = cross_val_score(model, train_data, label_data, cv=5)\n",
        "  print(cvs)\n",
        "  \n",
        "  predicted_test = model.predict(test_data)\n",
        "  return predicted_test,cvs"
      ],
      "execution_count": 51,
      "outputs": []
    },
    {
      "cell_type": "markdown",
      "metadata": {
        "id": "NMPAeNgzgqea"
      },
      "source": [
        "## SVC_LDA"
      ]
    },
    {
      "cell_type": "code",
      "metadata": {
        "colab": {
          "base_uri": "https://localhost:8080/"
        },
        "id": "Jflhib9DgsjP",
        "outputId": "736dcfa5-6b63-4c19-bb83-577b7f8537a1"
      },
      "source": [
        "predicted_test_SVC_lda,cvs_SVC_lda=trainSVC(lda_train_data,label_data,lda_test_data,test_label)\n",
        "predicted_test_SVC_lda"
      ],
      "execution_count": 52,
      "outputs": [
        {
          "output_type": "stream",
          "text": [
            "0.46436443791329907\n",
            "[0.99637681 0.99818841 0.99818841 0.99818841 1.        ]\n"
          ],
          "name": "stdout"
        },
        {
          "output_type": "execute_result",
          "data": {
            "text/plain": [
              "array([1, 0, 1, ..., 0, 0, 0])"
            ]
          },
          "metadata": {
            "tags": []
          },
          "execution_count": 52
        }
      ]
    },
    {
      "cell_type": "code",
      "metadata": {
        "colab": {
          "base_uri": "https://localhost:8080/"
        },
        "id": "xvtxPhZVgums",
        "outputId": "08f54940-7d76-4f2f-8318-a7b4d2d79b87"
      },
      "source": [
        "print(len(predicted_test_SVC_lda))"
      ],
      "execution_count": 53,
      "outputs": [
        {
          "output_type": "stream",
          "text": [
            "1361\n"
          ],
          "name": "stdout"
        }
      ]
    },
    {
      "cell_type": "code",
      "metadata": {
        "colab": {
          "base_uri": "https://localhost:8080/"
        },
        "id": "ShdSdoebgwEN",
        "outputId": "74f5c640-d233-4793-9a55-cad5d956c08b"
      },
      "source": [
        "pred_SVC_lda=predictDeepFakeResult(predicted_test_SVC_lda,frame_count_test_fake+frame_count_test_real)\n",
        "print(pred_SVC_lda)"
      ],
      "execution_count": 54,
      "outputs": [
        {
          "output_type": "stream",
          "text": [
            "[0, 0, 0, 1, 1, 1, 1, 0, 1, 1, 1, 1, 1, 1, 1, 1, 0, 1, 1, 1, 1, 1, 0, 1, 0, 0, 1, 0, 0, 1, 1, 0, 0, 1, 0, 0, 0, 1, 1, 1, 1, 1, 1, 1, 1, 1, 1, 0, 0, 1]\n"
          ],
          "name": "stdout"
        }
      ]
    },
    {
      "cell_type": "code",
      "metadata": {
        "colab": {
          "base_uri": "https://localhost:8080/"
        },
        "id": "oSYnFQDJgx6_",
        "outputId": "c9a3a7ab-cd3a-4968-b019-46dccffd8362"
      },
      "source": [
        "\n",
        "accuracy_score(actual_test_label, pred_SVC_lda)"
      ],
      "execution_count": 55,
      "outputs": [
        {
          "output_type": "execute_result",
          "data": {
            "text/plain": [
              "0.44"
            ]
          },
          "metadata": {
            "tags": []
          },
          "execution_count": 55
        }
      ]
    },
    {
      "cell_type": "code",
      "metadata": {
        "colab": {
          "base_uri": "https://localhost:8080/"
        },
        "id": "V57FQqL8gzp-",
        "outputId": "40f0dc6e-6a38-4689-c329-31ac9675b4a3"
      },
      "source": [
        "\n",
        "f1_score(actual_test_label, pred_SVC_lda)"
      ],
      "execution_count": 56,
      "outputs": [
        {
          "output_type": "execute_result",
          "data": {
            "text/plain": [
              "0.5172413793103449"
            ]
          },
          "metadata": {
            "tags": []
          },
          "execution_count": 56
        }
      ]
    },
    {
      "cell_type": "code",
      "metadata": {
        "colab": {
          "base_uri": "https://localhost:8080/"
        },
        "id": "cgpPSZZKg1eG",
        "outputId": "afbe0690-f1fc-4bff-9da3-07b26c75735e"
      },
      "source": [
        "\n",
        "log_loss(actual_test_label,pred_SVC_lda)"
      ],
      "execution_count": 57,
      "outputs": [
        {
          "output_type": "execute_result",
          "data": {
            "text/plain": [
              "19.34200263622485"
            ]
          },
          "metadata": {
            "tags": []
          },
          "execution_count": 57
        }
      ]
    },
    {
      "cell_type": "markdown",
      "metadata": {
        "id": "WAzWNPmXg3MC"
      },
      "source": [
        "## SVC_PCA"
      ]
    },
    {
      "cell_type": "code",
      "metadata": {
        "colab": {
          "base_uri": "https://localhost:8080/"
        },
        "id": "u0qcytcwg5WV",
        "outputId": "8a87ffb6-7af6-4cc0-b805-ddee54952adc"
      },
      "source": [
        "predicted_test_SVC_pca,cvs_SVC_pca=trainSVC(pca_train_data,label_data,pca_test_data,test_label)\n",
        "predicted_test_SVC_pca"
      ],
      "execution_count": 58,
      "outputs": [
        {
          "output_type": "stream",
          "text": [
            "0.6708302718589273\n",
            "[0.48731884 0.62318841 0.72826087 0.61775362 0.70833333]\n"
          ],
          "name": "stdout"
        },
        {
          "output_type": "execute_result",
          "data": {
            "text/plain": [
              "array([1, 1, 1, ..., 0, 0, 0])"
            ]
          },
          "metadata": {
            "tags": []
          },
          "execution_count": 58
        }
      ]
    },
    {
      "cell_type": "code",
      "metadata": {
        "colab": {
          "base_uri": "https://localhost:8080/"
        },
        "id": "9goGYXjXg75z",
        "outputId": "a95414fe-68bd-49ca-c228-a8f12e0373ef"
      },
      "source": [
        "pred_SVC_pca=predictDeepFakeResult(predicted_test_SVC_pca,frame_count_test_fake+frame_count_test_real)\n",
        "print(pred_SVC_pca)"
      ],
      "execution_count": 59,
      "outputs": [
        {
          "output_type": "stream",
          "text": [
            "[1, 0, 1, 1, 1, 1, 1, 1, 1, 1, 1, 1, 0, 1, 0, 0, 0, 0, 0, 0, 0, 0, 0, 0, 0, 1, 1, 1, 1, 1, 1, 1, 1, 1, 1, 1, 1, 1, 0, 1, 1, 1, 1, 1, 1, 1, 1, 1, 1, 0]\n"
          ],
          "name": "stdout"
        }
      ]
    },
    {
      "cell_type": "code",
      "metadata": {
        "colab": {
          "base_uri": "https://localhost:8080/"
        },
        "id": "UO2F-fvag94g",
        "outputId": "cabbbafd-0769-4a23-9e34-6deacebb33ef"
      },
      "source": [
        "\n",
        "accuracy_score(actual_test_label, pred_SVC_pca)"
      ],
      "execution_count": 60,
      "outputs": [
        {
          "output_type": "execute_result",
          "data": {
            "text/plain": [
              "0.72"
            ]
          },
          "metadata": {
            "tags": []
          },
          "execution_count": 60
        }
      ]
    },
    {
      "cell_type": "code",
      "metadata": {
        "colab": {
          "base_uri": "https://localhost:8080/"
        },
        "id": "nParvfe0hAGX",
        "outputId": "43ae09e8-7333-44c7-921e-525b4044375e"
      },
      "source": [
        "\n",
        "f1_score(actual_test_label, pred_SVC_pca)"
      ],
      "execution_count": 61,
      "outputs": [
        {
          "output_type": "execute_result",
          "data": {
            "text/plain": [
              "0.7666666666666667"
            ]
          },
          "metadata": {
            "tags": []
          },
          "execution_count": 61
        }
      ]
    },
    {
      "cell_type": "code",
      "metadata": {
        "colab": {
          "base_uri": "https://localhost:8080/"
        },
        "id": "Z1fzZ3qshCCF",
        "outputId": "8032b259-d1f9-49ba-e228-0d28b7b21fb3"
      },
      "source": [
        "\n",
        "log_loss(actual_test_label,pred_SVC_pca)"
      ],
      "execution_count": 62,
      "outputs": [
        {
          "output_type": "execute_result",
          "data": {
            "text/plain": [
              "9.671049293958237"
            ]
          },
          "metadata": {
            "tags": []
          },
          "execution_count": 62
        }
      ]
    },
    {
      "cell_type": "code",
      "metadata": {
        "id": "KoogL4XgZxP5"
      },
      "source": [
        "pca_train_add=[]\n",
        "for i in pca_train_data:\n",
        "  pca_train_add.append(i)\n",
        "for i in pca_train_data_noise:\n",
        "  pca_train_add.append(i)\n"
      ],
      "execution_count": 63,
      "outputs": []
    },
    {
      "cell_type": "code",
      "metadata": {
        "colab": {
          "base_uri": "https://localhost:8080/"
        },
        "id": "1ICLMbvAQAA3",
        "outputId": "25edb7c3-85d7-452e-abed-793b9de4b76c"
      },
      "source": [
        "predicted_test_SVC_pca_noise,_=trainSVC(pca_train_add,label_data+label_data_noise,pca_test_data,test_label)\n",
        "predicted_test_SVC_pca_noise"
      ],
      "execution_count": 64,
      "outputs": [
        {
          "output_type": "stream",
          "text": [
            "0.6847905951506246\n",
            "[0.79528986 0.83423913 0.88768116 0.83333333 0.90217391]\n"
          ],
          "name": "stdout"
        },
        {
          "output_type": "execute_result",
          "data": {
            "text/plain": [
              "array([1, 1, 1, ..., 0, 0, 0])"
            ]
          },
          "metadata": {
            "tags": []
          },
          "execution_count": 64
        }
      ]
    },
    {
      "cell_type": "code",
      "metadata": {
        "colab": {
          "base_uri": "https://localhost:8080/"
        },
        "id": "lEJlxACqP_9T",
        "outputId": "68a8868e-e540-4e33-e0a6-c5de524dfc07"
      },
      "source": [
        "pred_SVC_pca_noise=predictDeepFakeResult(predicted_test_SVC_pca_noise,frame_count_test_fake+frame_count_test_real)\n",
        "print(pred_SVC_pca_noise)"
      ],
      "execution_count": 65,
      "outputs": [
        {
          "output_type": "stream",
          "text": [
            "[1, 0, 1, 1, 1, 1, 1, 1, 1, 1, 1, 1, 1, 1, 0, 0, 0, 0, 0, 0, 0, 0, 0, 0, 0, 1, 1, 1, 1, 1, 1, 1, 1, 1, 1, 1, 1, 1, 0, 1, 1, 1, 1, 1, 1, 1, 1, 1, 1, 1]\n"
          ],
          "name": "stdout"
        }
      ]
    },
    {
      "cell_type": "code",
      "metadata": {
        "colab": {
          "base_uri": "https://localhost:8080/"
        },
        "id": "2JPoeB0JP_s8",
        "outputId": "e2d21e8a-bb08-40a4-f038-258891dac058"
      },
      "source": [
        "\n",
        "accuracy_score(actual_test_label, pred_SVC_pca_noise)"
      ],
      "execution_count": 66,
      "outputs": [
        {
          "output_type": "execute_result",
          "data": {
            "text/plain": [
              "0.72"
            ]
          },
          "metadata": {
            "tags": []
          },
          "execution_count": 66
        }
      ]
    },
    {
      "cell_type": "code",
      "metadata": {
        "colab": {
          "base_uri": "https://localhost:8080/"
        },
        "id": "E7RL_7kQP_pu",
        "outputId": "ffd44ba2-e4dc-4805-ef05-e576be2dd8e0"
      },
      "source": [
        "\n",
        "f1_score(actual_test_label, pred_SVC_pca_noise)"
      ],
      "execution_count": 67,
      "outputs": [
        {
          "output_type": "execute_result",
          "data": {
            "text/plain": [
              "0.7741935483870968"
            ]
          },
          "metadata": {
            "tags": []
          },
          "execution_count": 67
        }
      ]
    },
    {
      "cell_type": "code",
      "metadata": {
        "colab": {
          "base_uri": "https://localhost:8080/"
        },
        "id": "o2hWP4klP_m5",
        "outputId": "a1871c78-3265-46b5-b947-ed12dc293d5e"
      },
      "source": [
        "\n",
        "log_loss(actual_test_label,pred_SVC_pca_noise)"
      ],
      "execution_count": 68,
      "outputs": [
        {
          "output_type": "execute_result",
          "data": {
            "text/plain": [
              "9.671065285906842"
            ]
          },
          "metadata": {
            "tags": []
          },
          "execution_count": 68
        }
      ]
    },
    {
      "cell_type": "markdown",
      "metadata": {
        "id": "7Ul91o0Ezizm"
      },
      "source": [
        "##SVC_Normal"
      ]
    },
    {
      "cell_type": "code",
      "metadata": {
        "colab": {
          "base_uri": "https://localhost:8080/"
        },
        "id": "XtGUfjOHzlvB",
        "outputId": "630e9ec4-bd9e-45b7-a655-6c5f227ae970"
      },
      "source": [
        "predicted_test_SVC_normal,cvs_SVC_normal=trainSVC(train_data,label_data,test_data,test_label)\n",
        "predicted_test_SVC_normal"
      ],
      "execution_count": 69,
      "outputs": [
        {
          "output_type": "stream",
          "text": [
            "0.6605437178545187\n",
            "[0.42572464 0.64130435 0.67210145 0.58514493 0.70833333]\n"
          ],
          "name": "stdout"
        },
        {
          "output_type": "execute_result",
          "data": {
            "text/plain": [
              "array([1, 1, 1, ..., 0, 1, 0])"
            ]
          },
          "metadata": {
            "tags": []
          },
          "execution_count": 69
        }
      ]
    },
    {
      "cell_type": "code",
      "metadata": {
        "colab": {
          "base_uri": "https://localhost:8080/"
        },
        "id": "MZS3RabTzlrX",
        "outputId": "264c18ae-02a3-4587-d35e-ae4e99d5de79"
      },
      "source": [
        "pred_SVC_normal=predictDeepFakeResult(predicted_test_SVC_normal,frame_count_test_fake+frame_count_test_real)\n",
        "print(pred_SVC_normal)"
      ],
      "execution_count": 70,
      "outputs": [
        {
          "output_type": "stream",
          "text": [
            "[1, 0, 1, 1, 1, 1, 1, 1, 1, 1, 1, 1, 0, 1, 0, 0, 0, 0, 0, 0, 0, 0, 0, 0, 0, 1, 1, 1, 1, 1, 1, 1, 1, 1, 1, 1, 1, 1, 1, 1, 1, 1, 1, 1, 1, 1, 0, 1, 1, 1]\n"
          ],
          "name": "stdout"
        }
      ]
    },
    {
      "cell_type": "code",
      "metadata": {
        "colab": {
          "base_uri": "https://localhost:8080/"
        },
        "id": "Qt1RSc0hzlb4",
        "outputId": "e5971c91-9dce-4680-9994-6969883f011e"
      },
      "source": [
        "\n",
        "accuracy_score(actual_test_label, pred_SVC_normal)"
      ],
      "execution_count": 71,
      "outputs": [
        {
          "output_type": "execute_result",
          "data": {
            "text/plain": [
              "0.74"
            ]
          },
          "metadata": {
            "tags": []
          },
          "execution_count": 71
        }
      ]
    },
    {
      "cell_type": "code",
      "metadata": {
        "colab": {
          "base_uri": "https://localhost:8080/"
        },
        "id": "Ss8b21AjzlXt",
        "outputId": "fcd6e31f-ab83-4f8a-8463-6935e5830cf6"
      },
      "source": [
        "\n",
        "f1_score(actual_test_label, pred_SVC_normal)"
      ],
      "execution_count": 72,
      "outputs": [
        {
          "output_type": "execute_result",
          "data": {
            "text/plain": [
              "0.7868852459016393"
            ]
          },
          "metadata": {
            "tags": []
          },
          "execution_count": 72
        }
      ]
    },
    {
      "cell_type": "code",
      "metadata": {
        "colab": {
          "base_uri": "https://localhost:8080/"
        },
        "id": "8kworENjzlUJ",
        "outputId": "6bf70524-55e4-46af-c602-5c89bed5d9a4"
      },
      "source": [
        "\n",
        "log_loss(actual_test_label,pred_SVC_normal)"
      ],
      "execution_count": 73,
      "outputs": [
        {
          "output_type": "execute_result",
          "data": {
            "text/plain": [
              "8.980273766060025"
            ]
          },
          "metadata": {
            "tags": []
          },
          "execution_count": 73
        }
      ]
    },
    {
      "cell_type": "code",
      "metadata": {
        "id": "2ME16lbCcRzv"
      },
      "source": [
        "train_data_add=[]\n",
        "for i in train_data:\n",
        "  train_data_add.append(i)\n",
        "for i in train_data_noise:\n",
        "  train_data_add.append(i)"
      ],
      "execution_count": 74,
      "outputs": []
    },
    {
      "cell_type": "code",
      "metadata": {
        "colab": {
          "base_uri": "https://localhost:8080/"
        },
        "id": "sbSWZYOoQo2c",
        "outputId": "5fc273a8-524a-4fa8-ee7f-6c05ea2904ae"
      },
      "source": [
        "predicted_test_SVC_normal_noise,_=trainSVC(train_data_add,label_data+label_data_noise,test_data,test_label)\n",
        "predicted_test_SVC_normal_noise"
      ],
      "execution_count": 75,
      "outputs": [
        {
          "output_type": "stream",
          "text": [
            "0.6737692872887583\n",
            "[0.75634058 0.80706522 0.86141304 0.83333333 0.85507246]\n"
          ],
          "name": "stdout"
        },
        {
          "output_type": "execute_result",
          "data": {
            "text/plain": [
              "array([1, 1, 1, ..., 0, 1, 1])"
            ]
          },
          "metadata": {
            "tags": []
          },
          "execution_count": 75
        }
      ]
    },
    {
      "cell_type": "code",
      "metadata": {
        "colab": {
          "base_uri": "https://localhost:8080/"
        },
        "id": "4bNqFqAaQotk",
        "outputId": "6e780e06-eca2-4bdb-df46-efed8d962505"
      },
      "source": [
        "pred_SVC_normal_noise=predictDeepFakeResult(predicted_test_SVC_normal_noise,frame_count_test_fake+frame_count_test_real)\n",
        "print(pred_SVC_normal_noise)"
      ],
      "execution_count": 76,
      "outputs": [
        {
          "output_type": "stream",
          "text": [
            "[1, 0, 1, 1, 1, 1, 1, 1, 1, 1, 1, 1, 0, 1, 1, 0, 0, 0, 0, 0, 0, 0, 0, 0, 0, 1, 1, 1, 1, 1, 1, 1, 1, 1, 1, 1, 1, 1, 0, 1, 1, 1, 1, 1, 1, 1, 1, 1, 1, 1]\n"
          ],
          "name": "stdout"
        }
      ]
    },
    {
      "cell_type": "code",
      "metadata": {
        "colab": {
          "base_uri": "https://localhost:8080/"
        },
        "id": "g1m7fkV7QohB",
        "outputId": "393e0654-e8e6-48ad-c3e9-973388e10ef3"
      },
      "source": [
        "\n",
        "accuracy_score(actual_test_label, pred_SVC_normal_noise)"
      ],
      "execution_count": 77,
      "outputs": [
        {
          "output_type": "execute_result",
          "data": {
            "text/plain": [
              "0.72"
            ]
          },
          "metadata": {
            "tags": []
          },
          "execution_count": 77
        }
      ]
    },
    {
      "cell_type": "code",
      "metadata": {
        "colab": {
          "base_uri": "https://localhost:8080/"
        },
        "id": "E0Oo0lYMQoVF",
        "outputId": "aef1a86b-c1a8-4360-adb0-b9e30964288c"
      },
      "source": [
        "\n",
        "f1_score(actual_test_label, pred_SVC_normal_noise)"
      ],
      "execution_count": 78,
      "outputs": [
        {
          "output_type": "execute_result",
          "data": {
            "text/plain": [
              "0.7741935483870968"
            ]
          },
          "metadata": {
            "tags": []
          },
          "execution_count": 78
        }
      ]
    },
    {
      "cell_type": "code",
      "metadata": {
        "colab": {
          "base_uri": "https://localhost:8080/"
        },
        "id": "q0qoYxhHQoFu",
        "outputId": "7e9a4101-2773-4256-e0b5-4c8a031fef46"
      },
      "source": [
        "\n",
        "log_loss(actual_test_label,pred_SVC_normal_noise)"
      ],
      "execution_count": 79,
      "outputs": [
        {
          "output_type": "execute_result",
          "data": {
            "text/plain": [
              "9.671065285906844"
            ]
          },
          "metadata": {
            "tags": []
          },
          "execution_count": 79
        }
      ]
    },
    {
      "cell_type": "markdown",
      "metadata": {
        "id": "HBej_mPRFz9t"
      },
      "source": [
        "##Comparison"
      ]
    },
    {
      "cell_type": "code",
      "metadata": {
        "id": "1JMRDzuNFzGf",
        "colab": {
          "base_uri": "https://localhost:8080/",
          "height": 552
        },
        "outputId": "c593c09a-1f9f-493b-a65b-600ba233afd4"
      },
      "source": [
        "#BoxPlot for cross validation scores\n",
        "\n",
        "data_SVC = [cvs_SVC_lda, cvs_SVC_pca, cvs_SVC_normal]\n",
        "\n",
        "fig_SVC = plt.figure(figsize =(10, 7))\n",
        "  \n",
        "# Creating axes instance\n",
        "ax_SVC = fig_SVC.add_axes([0, 0, 1, 1])\n",
        "  \n",
        "# Creating plot\n",
        "bp_SVC = ax_SVC.boxplot(data_SVC)\n",
        "  \n",
        "# show plot\n",
        "plt.show()"
      ],
      "execution_count": 80,
      "outputs": [
        {
          "output_type": "display_data",
          "data": {
            "image/png": "[encoded data removed]",
            "text/plain": [
              "<Figure size 720x504 with 1 Axes>"
            ]
          },
          "metadata": {
            "tags": [],
            "needs_background": "light"
          }
        }
      ]
    },
    {
      "cell_type": "markdown",
      "metadata": {
        "id": "wCj_EeG7qGkH"
      },
      "source": [
        "## MLP"
      ]
    },
    {
      "cell_type": "code",
      "metadata": {
        "id": "-mwkUgaDqIEQ"
      },
      "source": [
        "from sklearn.neural_network import MLPClassifier\n",
        "from sklearn.model_selection import cross_val_score\n",
        "\n",
        "def trainMLP(train_data, label_data, test_data,test_label):\n",
        "  clf = MLPClassifier()\n",
        "  clf=clf.fit(train_data,label_data)\n",
        "  print(clf.score(test_data,test_label))\n",
        "  cvs = cross_val_score(clf, train_data, label_data, cv=5)\n",
        "  print(cvs)\n",
        "  \n",
        "  predicted_test = clf.predict(test_data)\n",
        "  return predicted_test,cvs"
      ],
      "execution_count": 81,
      "outputs": []
    },
    {
      "cell_type": "markdown",
      "metadata": {
        "id": "n-Zi4MqEqQET"
      },
      "source": [
        "## MLP_LDA"
      ]
    },
    {
      "cell_type": "code",
      "metadata": {
        "colab": {
          "base_uri": "https://localhost:8080/"
        },
        "id": "NQDC8gGnqTXY",
        "outputId": "f7b2a08e-2a25-4e5f-8d5d-aa4b00464245"
      },
      "source": [
        "predicted_test_MLP_lda,cvs_MLP_lda=trainMLP(lda_train_data,label_data,lda_test_data,test_label)\n",
        "predicted_test_MLP_lda"
      ],
      "execution_count": 82,
      "outputs": [
        {
          "output_type": "stream",
          "text": [
            "0.4805290227773696\n",
            "[0.99637681 0.99818841 0.99818841 0.99818841 1.        ]\n"
          ],
          "name": "stdout"
        },
        {
          "output_type": "execute_result",
          "data": {
            "text/plain": [
              "array([1, 0, 1, ..., 0, 0, 0])"
            ]
          },
          "metadata": {
            "tags": []
          },
          "execution_count": 82
        }
      ]
    },
    {
      "cell_type": "code",
      "metadata": {
        "colab": {
          "base_uri": "https://localhost:8080/"
        },
        "id": "LFcMtoywqVe0",
        "outputId": "0447f800-4688-48c6-e2d0-7acafccc9bd8"
      },
      "source": [
        "pred_MLP_lda=predictDeepFakeResult(predicted_test_MLP_lda,frame_count_test_fake+frame_count_test_real)\n",
        "print(pred_MLP_lda)"
      ],
      "execution_count": 83,
      "outputs": [
        {
          "output_type": "stream",
          "text": [
            "[0, 0, 1, 1, 1, 1, 1, 0, 1, 1, 1, 1, 1, 1, 1, 1, 0, 1, 1, 1, 1, 1, 0, 1, 0, 1, 1, 1, 0, 1, 1, 0, 1, 1, 0, 0, 0, 1, 1, 1, 1, 1, 1, 1, 1, 1, 1, 0, 0, 1]\n"
          ],
          "name": "stdout"
        }
      ]
    },
    {
      "cell_type": "code",
      "metadata": {
        "colab": {
          "base_uri": "https://localhost:8080/"
        },
        "id": "1W95fcWCqXEb",
        "outputId": "cfd34a8c-84ad-45be-c14d-64ac49371c83"
      },
      "source": [
        "\n",
        "accuracy_score(actual_test_label, pred_MLP_lda)"
      ],
      "execution_count": 84,
      "outputs": [
        {
          "output_type": "execute_result",
          "data": {
            "text/plain": [
              "0.48"
            ]
          },
          "metadata": {
            "tags": []
          },
          "execution_count": 84
        }
      ]
    },
    {
      "cell_type": "code",
      "metadata": {
        "colab": {
          "base_uri": "https://localhost:8080/"
        },
        "id": "-T8ofPM2qY7R",
        "outputId": "02b8e525-6adf-4ff7-f8e8-8f2f32ca60dd"
      },
      "source": [
        "\n",
        "f1_score(actual_test_label, pred_MLP_lda)"
      ],
      "execution_count": 123,
      "outputs": [
        {
          "output_type": "execute_result",
          "data": {
            "text/plain": [
              "0.5806451612903226"
            ]
          },
          "metadata": {
            "tags": []
          },
          "execution_count": 123
        }
      ]
    },
    {
      "cell_type": "code",
      "metadata": {
        "colab": {
          "base_uri": "https://localhost:8080/"
        },
        "id": "p2R7DVVQqcAi",
        "outputId": "3dad63f9-d5b7-4f7b-b87b-68b1c320f349"
      },
      "source": [
        "\n",
        "log_loss(actual_test_label,pred_MLP_lda)"
      ],
      "execution_count": 86,
      "outputs": [
        {
          "output_type": "execute_result",
          "data": {
            "text/plain": [
              "17.960467572377027"
            ]
          },
          "metadata": {
            "tags": []
          },
          "execution_count": 86
        }
      ]
    },
    {
      "cell_type": "markdown",
      "metadata": {
        "id": "BXVAMObAqfaz"
      },
      "source": [
        "## MLP_PCA"
      ]
    },
    {
      "cell_type": "code",
      "metadata": {
        "colab": {
          "base_uri": "https://localhost:8080/"
        },
        "id": "o_L5v0zKqg25",
        "outputId": "a3b809c5-0df8-435b-96b4-731d01c33506"
      },
      "source": [
        "predicted_test_MLP_pca,cvs_MLP_pca=trainMLP(pca_train_data,label_data,pca_test_data,test_label)\n",
        "predicted_test_MLP_pca"
      ],
      "execution_count": 87,
      "outputs": [
        {
          "output_type": "stream",
          "text": [
            "0.5870683321087435\n",
            "[0.38586957 0.60326087 0.64673913 0.53623188 0.69384058]\n"
          ],
          "name": "stdout"
        },
        {
          "output_type": "execute_result",
          "data": {
            "text/plain": [
              "array([1, 1, 1, ..., 0, 0, 0])"
            ]
          },
          "metadata": {
            "tags": []
          },
          "execution_count": 87
        }
      ]
    },
    {
      "cell_type": "code",
      "metadata": {
        "colab": {
          "base_uri": "https://localhost:8080/"
        },
        "id": "PcVukEddqiyW",
        "outputId": "11b51f34-5330-4526-ef75-93a56c8e9bfb"
      },
      "source": [
        "pred_MLP_pca=predictDeepFakeResult(predicted_test_MLP_pca,frame_count_test_fake+frame_count_test_real)\n",
        "print(pred_MLP_pca)"
      ],
      "execution_count": 88,
      "outputs": [
        {
          "output_type": "stream",
          "text": [
            "[1, 0, 1, 1, 1, 1, 1, 1, 1, 1, 1, 1, 0, 1, 0, 0, 0, 1, 0, 0, 1, 0, 0, 0, 0, 1, 1, 1, 1, 1, 1, 1, 1, 1, 1, 1, 0, 1, 1, 1, 1, 1, 1, 1, 1, 1, 1, 1, 1, 1]\n"
          ],
          "name": "stdout"
        }
      ]
    },
    {
      "cell_type": "code",
      "metadata": {
        "colab": {
          "base_uri": "https://localhost:8080/"
        },
        "id": "Ljk1nnznqkfs",
        "outputId": "adbcafc6-7725-4b30-eb9b-5591be6ed059"
      },
      "source": [
        "\n",
        "accuracy_score(actual_test_label, pred_MLP_pca)"
      ],
      "execution_count": 89,
      "outputs": [
        {
          "output_type": "execute_result",
          "data": {
            "text/plain": [
              "0.7"
            ]
          },
          "metadata": {
            "tags": []
          },
          "execution_count": 89
        }
      ]
    },
    {
      "cell_type": "code",
      "metadata": {
        "colab": {
          "base_uri": "https://localhost:8080/"
        },
        "id": "kVmuqdnoqmFt",
        "outputId": "ce889863-cc73-4b8b-b537-9b84208ec1d7"
      },
      "source": [
        "\n",
        "f1_score(actual_test_label, pred_MLP_pca)"
      ],
      "execution_count": 90,
      "outputs": [
        {
          "output_type": "execute_result",
          "data": {
            "text/plain": [
              "0.7619047619047619"
            ]
          },
          "metadata": {
            "tags": []
          },
          "execution_count": 90
        }
      ]
    },
    {
      "cell_type": "code",
      "metadata": {
        "colab": {
          "base_uri": "https://localhost:8080/"
        },
        "id": "sO-WaoASqnf4",
        "outputId": "3d83ae22-10c8-4291-b52a-977ad4d1a6f3"
      },
      "source": [
        "\n",
        "log_loss(actual_test_label,pred_MLP_pca)"
      ],
      "execution_count": 91,
      "outputs": [
        {
          "output_type": "execute_result",
          "data": {
            "text/plain": [
              "10.361856805753659"
            ]
          },
          "metadata": {
            "tags": []
          },
          "execution_count": 91
        }
      ]
    },
    {
      "cell_type": "code",
      "metadata": {
        "colab": {
          "base_uri": "https://localhost:8080/"
        },
        "id": "m8lYADKNRMWQ",
        "outputId": "68431609-c4cc-4643-fdf7-d899b80c9baa"
      },
      "source": [
        "predicted_test_MLP_pca_noise,_=trainMLP(pca_train_data_noise,label_data_noise,pca_test_data,test_label)\n",
        "predicted_test_MLP_pca_noise"
      ],
      "execution_count": 92,
      "outputs": [
        {
          "output_type": "stream",
          "text": [
            "0.56208670095518\n",
            "[0.38768116 0.54710145 0.5942029  0.54528986 0.67572464]\n"
          ],
          "name": "stdout"
        },
        {
          "output_type": "execute_result",
          "data": {
            "text/plain": [
              "array([1, 1, 1, ..., 1, 1, 1])"
            ]
          },
          "metadata": {
            "tags": []
          },
          "execution_count": 92
        }
      ]
    },
    {
      "cell_type": "code",
      "metadata": {
        "colab": {
          "base_uri": "https://localhost:8080/"
        },
        "id": "E-fVoVdgRMSd",
        "outputId": "31ceb09e-dec2-4412-811c-ac2589c5c664"
      },
      "source": [
        "pred_MLP_pca_noise=predictDeepFakeResult(predicted_test_MLP_pca_noise,frame_count_test_fake+frame_count_test_real)\n",
        "print(pred_MLP_pca_noise)"
      ],
      "execution_count": 93,
      "outputs": [
        {
          "output_type": "stream",
          "text": [
            "[1, 0, 1, 1, 1, 1, 1, 1, 1, 1, 1, 1, 1, 1, 0, 0, 0, 0, 0, 0, 1, 1, 0, 0, 0, 1, 1, 1, 1, 1, 1, 1, 1, 1, 0, 1, 1, 1, 0, 1, 1, 1, 0, 1, 1, 1, 1, 1, 1, 1]\n"
          ],
          "name": "stdout"
        }
      ]
    },
    {
      "cell_type": "code",
      "metadata": {
        "colab": {
          "base_uri": "https://localhost:8080/"
        },
        "id": "RSo11vrbRLnR",
        "outputId": "e01c1231-5b03-4960-ba0a-47a2ab019cc8"
      },
      "source": [
        "\n",
        "accuracy_score(actual_test_label, pred_MLP_pca_noise)"
      ],
      "execution_count": 94,
      "outputs": [
        {
          "output_type": "execute_result",
          "data": {
            "text/plain": [
              "0.64"
            ]
          },
          "metadata": {
            "tags": []
          },
          "execution_count": 94
        }
      ]
    },
    {
      "cell_type": "code",
      "metadata": {
        "colab": {
          "base_uri": "https://localhost:8080/"
        },
        "id": "8YZNa1x-RLjY",
        "outputId": "486f7577-6e08-4b7d-aa22-a3097b7dd88d"
      },
      "source": [
        "\n",
        "f1_score(actual_test_label, pred_MLP_pca_noise)"
      ],
      "execution_count": 95,
      "outputs": [
        {
          "output_type": "execute_result",
          "data": {
            "text/plain": [
              "0.7096774193548386"
            ]
          },
          "metadata": {
            "tags": []
          },
          "execution_count": 95
        }
      ]
    },
    {
      "cell_type": "code",
      "metadata": {
        "colab": {
          "base_uri": "https://localhost:8080/"
        },
        "id": "rTpEWUsbRLf9",
        "outputId": "6aa85b50-d4b6-49e7-feee-444554f77e69"
      },
      "source": [
        "\n",
        "log_loss(actual_test_label,pred_MLP_pca_noise)"
      ],
      "execution_count": 96,
      "outputs": [
        {
          "output_type": "execute_result",
          "data": {
            "text/plain": [
              "12.434199381396905"
            ]
          },
          "metadata": {
            "tags": []
          },
          "execution_count": 96
        }
      ]
    },
    {
      "cell_type": "markdown",
      "metadata": {
        "id": "1ToYDRv33HL0"
      },
      "source": [
        "##MLP_Normal"
      ]
    },
    {
      "cell_type": "code",
      "metadata": {
        "colab": {
          "base_uri": "https://localhost:8080/"
        },
        "id": "vmEXqchF3KnL",
        "outputId": "ef35f3c8-7650-4ed0-d42a-c13b11b76657"
      },
      "source": [
        "predicted_test_MLP_normal,cvs_MLP_normal=trainMLP(train_data,label_data,test_data,test_label)\n",
        "predicted_test_MLP_normal"
      ],
      "execution_count": 97,
      "outputs": [
        {
          "output_type": "stream",
          "text": [
            "0.544452608376194\n",
            "[0.35144928 0.51449275 0.51630435 0.48369565 0.48188406]\n"
          ],
          "name": "stdout"
        },
        {
          "output_type": "execute_result",
          "data": {
            "text/plain": [
              "array([1, 1, 1, ..., 1, 1, 0])"
            ]
          },
          "metadata": {
            "tags": []
          },
          "execution_count": 97
        }
      ]
    },
    {
      "cell_type": "code",
      "metadata": {
        "colab": {
          "base_uri": "https://localhost:8080/"
        },
        "id": "meiGOBT43Kjw",
        "outputId": "0da86b4f-42fc-4d5b-8c0a-d723536d6090"
      },
      "source": [
        "pred_MLP_normal=predictDeepFakeResult(predicted_test_MLP_normal,frame_count_test_fake+frame_count_test_real)\n",
        "print(pred_MLP_normal)"
      ],
      "execution_count": 98,
      "outputs": [
        {
          "output_type": "stream",
          "text": [
            "[1, 0, 1, 1, 1, 1, 1, 1, 1, 1, 1, 1, 1, 1, 1, 0, 0, 0, 0, 1, 1, 1, 1, 1, 1, 1, 1, 1, 1, 1, 1, 1, 1, 1, 1, 1, 1, 1, 1, 1, 1, 1, 1, 1, 1, 1, 1, 1, 1, 1]\n"
          ],
          "name": "stdout"
        }
      ]
    },
    {
      "cell_type": "code",
      "metadata": {
        "colab": {
          "base_uri": "https://localhost:8080/"
        },
        "id": "W0pUbYNa3KWb",
        "outputId": "47a077de-65d8-40eb-e8bd-97ef730ca05c"
      },
      "source": [
        "\n",
        "accuracy_score(actual_test_label, pred_MLP_normal)"
      ],
      "execution_count": 99,
      "outputs": [
        {
          "output_type": "execute_result",
          "data": {
            "text/plain": [
              "0.6"
            ]
          },
          "metadata": {
            "tags": []
          },
          "execution_count": 99
        }
      ]
    },
    {
      "cell_type": "code",
      "metadata": {
        "colab": {
          "base_uri": "https://localhost:8080/"
        },
        "id": "fVc04Qm13KS4",
        "outputId": "579e2434-030b-4f76-befa-88f290a743c1"
      },
      "source": [
        "\n",
        "f1_score(actual_test_label, pred_MLP_normal)"
      ],
      "execution_count": 100,
      "outputs": [
        {
          "output_type": "execute_result",
          "data": {
            "text/plain": [
              "0.7142857142857143"
            ]
          },
          "metadata": {
            "tags": []
          },
          "execution_count": 100
        }
      ]
    },
    {
      "cell_type": "code",
      "metadata": {
        "colab": {
          "base_uri": "https://localhost:8080/"
        },
        "id": "AZjvPtM83KQX",
        "outputId": "8911de38-1ddd-4217-e9c9-e19aa5376946"
      },
      "source": [
        "\n",
        "log_loss(actual_test_label,pred_MLP_normal)"
      ],
      "execution_count": 101,
      "outputs": [
        {
          "output_type": "execute_result",
          "data": {
            "text/plain": [
              "13.815830396936354"
            ]
          },
          "metadata": {
            "tags": []
          },
          "execution_count": 101
        }
      ]
    },
    {
      "cell_type": "markdown",
      "metadata": {
        "id": "InVIy3B5GQHB"
      },
      "source": [
        "##Comaprison"
      ]
    },
    {
      "cell_type": "code",
      "metadata": {
        "id": "3QNeYsmqGSCH",
        "colab": {
          "base_uri": "https://localhost:8080/",
          "height": 552
        },
        "outputId": "90c38fee-5b9f-44f1-df1f-531dd020d43a"
      },
      "source": [
        "#BoxPlot for cross validation scores\n",
        "\n",
        "data_MLP = [cvs_MLP_lda, cvs_MLP_pca, cvs_MLP_normal]\n",
        "\n",
        "fig_MLP = plt.figure(figsize =(10, 7))\n",
        "  \n",
        "# Creating axes instance\n",
        "ax_MLP = fig_MLP.add_axes([0, 0, 1, 1])\n",
        "  \n",
        "# Creating plot\n",
        "bp_MLP = ax_MLP.boxplot(data_MLP)\n",
        "  \n",
        "# show plot\n",
        "plt.show()"
      ],
      "execution_count": 102,
      "outputs": [
        {
          "output_type": "display_data",
          "data": {
            "image/png": "[encoded data removed]",
            "text/plain": [
              "<Figure size 720x504 with 1 Axes>"
            ]
          },
          "metadata": {
            "tags": [],
            "needs_background": "light"
          }
        }
      ]
    },
    {
      "cell_type": "markdown",
      "metadata": {
        "id": "mYyQSRLQq_Ct"
      },
      "source": [
        "## KNN"
      ]
    },
    {
      "cell_type": "code",
      "metadata": {
        "id": "njuQmNDMrASg"
      },
      "source": [
        "from sklearn.neighbors import KNeighborsClassifier\n",
        "from sklearn.model_selection import cross_val_score\n",
        "def trainKNN(train_data, label_data, test_data,test_label):\n",
        "  clf = KNeighborsClassifier(n_neighbors=3)\n",
        "  clf.fit(train_data,label_data)\n",
        "  print(clf.score(test_data,test_label))\n",
        "  cvs = cross_val_score(clf, train_data, label_data, cv=5)\n",
        "  print(cvs)\n",
        "  \n",
        "  predicted_test = clf.predict(test_data)\n",
        "  return predicted_test,cvs"
      ],
      "execution_count": 103,
      "outputs": []
    },
    {
      "cell_type": "markdown",
      "metadata": {
        "id": "gJYk11OurCxu"
      },
      "source": [
        "## KNN_LDA"
      ]
    },
    {
      "cell_type": "code",
      "metadata": {
        "colab": {
          "base_uri": "https://localhost:8080/"
        },
        "id": "SPEewHFdrEd7",
        "outputId": "c84ac1a9-42de-4d67-9fd2-40183c904a1f"
      },
      "source": [
        "predicted_test_KNN_lda,cvs_KNN_lda=trainKNN(lda_train_data,label_data,lda_test_data,test_label)\n",
        "predicted_test_KNN_lda"
      ],
      "execution_count": 104,
      "outputs": [
        {
          "output_type": "stream",
          "text": [
            "0.48126377663482733\n",
            "[0.99456522 0.99818841 0.99818841 0.99818841 1.        ]\n"
          ],
          "name": "stdout"
        },
        {
          "output_type": "execute_result",
          "data": {
            "text/plain": [
              "array([1, 0, 1, ..., 0, 0, 0])"
            ]
          },
          "metadata": {
            "tags": []
          },
          "execution_count": 104
        }
      ]
    },
    {
      "cell_type": "code",
      "metadata": {
        "colab": {
          "base_uri": "https://localhost:8080/"
        },
        "id": "Idz3VQibrGYv",
        "outputId": "ea89b69a-b1be-4876-b374-2799acde49ad"
      },
      "source": [
        "pred_KNN_lda=predictDeepFakeResult(predicted_test_KNN_lda,frame_count_test_fake+frame_count_test_real)\n",
        "print(pred_KNN_lda)"
      ],
      "execution_count": 105,
      "outputs": [
        {
          "output_type": "stream",
          "text": [
            "[1, 0, 1, 1, 1, 1, 1, 0, 1, 1, 1, 1, 1, 1, 1, 1, 0, 1, 1, 1, 1, 1, 1, 1, 0, 1, 1, 1, 0, 1, 1, 0, 1, 1, 0, 0, 0, 1, 1, 1, 1, 1, 1, 1, 1, 1, 1, 0, 0, 1]\n"
          ],
          "name": "stdout"
        }
      ]
    },
    {
      "cell_type": "code",
      "metadata": {
        "colab": {
          "base_uri": "https://localhost:8080/"
        },
        "id": "JCHY0j65rIZi",
        "outputId": "a22c1ae9-1a2c-4f17-aa82-133324400176"
      },
      "source": [
        "\n",
        "accuracy_score(actual_test_label, pred_KNN_lda)"
      ],
      "execution_count": 106,
      "outputs": [
        {
          "output_type": "execute_result",
          "data": {
            "text/plain": [
              "0.44"
            ]
          },
          "metadata": {
            "tags": []
          },
          "execution_count": 106
        }
      ]
    },
    {
      "cell_type": "code",
      "metadata": {
        "colab": {
          "base_uri": "https://localhost:8080/"
        },
        "id": "Tk7V30itrKxl",
        "outputId": "96ea6356-9f5d-4d8f-ffab-db2184a7ab50"
      },
      "source": [
        "\n",
        "f1_score(actual_test_label, pred_KNN_lda)"
      ],
      "execution_count": 107,
      "outputs": [
        {
          "output_type": "execute_result",
          "data": {
            "text/plain": [
              "0.5625"
            ]
          },
          "metadata": {
            "tags": []
          },
          "execution_count": 107
        }
      ]
    },
    {
      "cell_type": "code",
      "metadata": {
        "colab": {
          "base_uri": "https://localhost:8080/"
        },
        "id": "g1iWFzIVrMh-",
        "outputId": "7f7be2c4-0526-400a-fc49-f74b4f19b679"
      },
      "source": [
        "\n",
        "log_loss(actual_test_label,pred_KNN_lda)"
      ],
      "execution_count": 108,
      "outputs": [
        {
          "output_type": "execute_result",
          "data": {
            "text/plain": [
              "19.342050612070665"
            ]
          },
          "metadata": {
            "tags": []
          },
          "execution_count": 108
        }
      ]
    },
    {
      "cell_type": "markdown",
      "metadata": {
        "id": "J1xqUMKZrO3L"
      },
      "source": [
        "## KNN_PCA"
      ]
    },
    {
      "cell_type": "code",
      "metadata": {
        "colab": {
          "base_uri": "https://localhost:8080/"
        },
        "id": "heU5Yy7trRYm",
        "outputId": "41a7e4a7-f483-4b01-bf6a-45dd4dd82e93"
      },
      "source": [
        "predicted_test_KNN_pca,cvs_KNN_pca=trainKNN(pca_train_data,label_data,pca_test_data,test_label)\n",
        "predicted_test_KNN_pca"
      ],
      "execution_count": 109,
      "outputs": [
        {
          "output_type": "stream",
          "text": [
            "0.5980896399706098\n",
            "[0.35144928 0.59057971 0.63949275 0.57246377 0.80434783]\n"
          ],
          "name": "stdout"
        },
        {
          "output_type": "execute_result",
          "data": {
            "text/plain": [
              "array([1, 1, 1, ..., 0, 0, 0])"
            ]
          },
          "metadata": {
            "tags": []
          },
          "execution_count": 109
        }
      ]
    },
    {
      "cell_type": "code",
      "metadata": {
        "colab": {
          "base_uri": "https://localhost:8080/"
        },
        "id": "1tZRyhk8rTiy",
        "outputId": "5050c3d6-50e8-42d9-f1ff-f9fad4edb511"
      },
      "source": [
        "pred_KNN_pca=predictDeepFakeResult(predicted_test_KNN_pca,frame_count_test_fake+frame_count_test_real)\n",
        "print(pred_KNN_pca)"
      ],
      "execution_count": 110,
      "outputs": [
        {
          "output_type": "stream",
          "text": [
            "[1, 0, 1, 1, 1, 1, 1, 1, 1, 1, 1, 1, 0, 1, 0, 0, 0, 0, 0, 0, 0, 0, 1, 0, 0, 0, 1, 1, 1, 0, 1, 1, 1, 1, 1, 1, 1, 1, 0, 1, 1, 1, 1, 1, 1, 1, 1, 1, 1, 0]\n"
          ],
          "name": "stdout"
        }
      ]
    },
    {
      "cell_type": "code",
      "metadata": {
        "colab": {
          "base_uri": "https://localhost:8080/"
        },
        "id": "AjNFM8EXrVjk",
        "outputId": "455dd926-6fc4-4335-e7e1-2cd92f7c0ddf"
      },
      "source": [
        "\n",
        "accuracy_score(actual_test_label, pred_KNN_pca)"
      ],
      "execution_count": 111,
      "outputs": [
        {
          "output_type": "execute_result",
          "data": {
            "text/plain": [
              "0.66"
            ]
          },
          "metadata": {
            "tags": []
          },
          "execution_count": 111
        }
      ]
    },
    {
      "cell_type": "code",
      "metadata": {
        "colab": {
          "base_uri": "https://localhost:8080/"
        },
        "id": "FeIiuo7krXXX",
        "outputId": "99cbff04-3b66-4343-f98a-c2e1683b5c66"
      },
      "source": [
        "\n",
        "f1_score(actual_test_label, pred_KNN_pca)"
      ],
      "execution_count": 112,
      "outputs": [
        {
          "output_type": "execute_result",
          "data": {
            "text/plain": [
              "0.711864406779661"
            ]
          },
          "metadata": {
            "tags": []
          },
          "execution_count": 112
        }
      ]
    },
    {
      "cell_type": "code",
      "metadata": {
        "colab": {
          "base_uri": "https://localhost:8080/"
        },
        "id": "pgDXd_qxrZRH",
        "outputId": "3abf5445-9d9d-4711-eb76-753efac15bbb"
      },
      "source": [
        "\n",
        "log_loss(actual_test_label,pred_KNN_pca)"
      ],
      "execution_count": 113,
      "outputs": [
        {
          "output_type": "execute_result",
          "data": {
            "text/plain": [
              "11.743391869601483"
            ]
          },
          "metadata": {
            "tags": []
          },
          "execution_count": 113
        }
      ]
    },
    {
      "cell_type": "markdown",
      "metadata": {
        "id": "NuFrC-yp35MB"
      },
      "source": [
        "##KNN_Normal"
      ]
    },
    {
      "cell_type": "code",
      "metadata": {
        "id": "2i3eG_KhrpX6",
        "colab": {
          "base_uri": "https://localhost:8080/"
        },
        "outputId": "ba6f6504-ff04-428a-ed24-d200b75ab4c2"
      },
      "source": [
        "predicted_test_KNN_normal,cvs_KNN_normal=trainKNN(train_data,label_data,test_data,test_label)\n",
        "predicted_test_KNN_normal"
      ],
      "execution_count": 114,
      "outputs": [
        {
          "output_type": "stream",
          "text": [
            "0.6311535635562087\n",
            "[0.28985507 0.5942029  0.63043478 0.5923913  0.77355072]\n"
          ],
          "name": "stdout"
        },
        {
          "output_type": "execute_result",
          "data": {
            "text/plain": [
              "array([1, 1, 0, ..., 0, 0, 0])"
            ]
          },
          "metadata": {
            "tags": []
          },
          "execution_count": 114
        }
      ]
    },
    {
      "cell_type": "code",
      "metadata": {
        "colab": {
          "base_uri": "https://localhost:8080/"
        },
        "id": "SwmdYdK74FPB",
        "outputId": "7f6e8edf-dc3b-4ea7-cbf1-385dcca70c19"
      },
      "source": [
        "pred_KNN_normal=predictDeepFakeResult(predicted_test_KNN_normal,frame_count_test_fake+frame_count_test_real)\n",
        "print(pred_KNN_normal)"
      ],
      "execution_count": 115,
      "outputs": [
        {
          "output_type": "stream",
          "text": [
            "[1, 0, 1, 1, 1, 1, 1, 1, 1, 1, 1, 1, 0, 0, 1, 0, 0, 0, 0, 0, 0, 0, 0, 0, 0, 0, 0, 1, 1, 1, 0, 1, 1, 1, 1, 1, 1, 1, 1, 1, 1, 1, 1, 1, 1, 1, 1, 1, 1, 0]\n"
          ],
          "name": "stdout"
        }
      ]
    },
    {
      "cell_type": "code",
      "metadata": {
        "colab": {
          "base_uri": "https://localhost:8080/"
        },
        "id": "HgVZ9GX_4E_j",
        "outputId": "bcc96d9b-2175-4256-8392-a4225002bf8e"
      },
      "source": [
        "from sklearn.metrics import accuracy_score\n",
        "accuracy_score(actual_test_label, pred_KNN_normal)"
      ],
      "execution_count": 116,
      "outputs": [
        {
          "output_type": "execute_result",
          "data": {
            "text/plain": [
              "0.68"
            ]
          },
          "metadata": {
            "tags": []
          },
          "execution_count": 116
        }
      ]
    },
    {
      "cell_type": "code",
      "metadata": {
        "colab": {
          "base_uri": "https://localhost:8080/"
        },
        "id": "r1sDYAbo4E8L",
        "outputId": "51a93c26-0ef9-4dee-97bc-c39dcc687317"
      },
      "source": [
        "from sklearn.metrics import f1_score\n",
        "f1_score(actual_test_label, pred_KNN_normal)"
      ],
      "execution_count": 117,
      "outputs": [
        {
          "output_type": "execute_result",
          "data": {
            "text/plain": [
              "0.7241379310344828"
            ]
          },
          "metadata": {
            "tags": []
          },
          "execution_count": 117
        }
      ]
    },
    {
      "cell_type": "code",
      "metadata": {
        "colab": {
          "base_uri": "https://localhost:8080/"
        },
        "id": "awaFJXhc4E5k",
        "outputId": "e08d9586-f8c9-4062-d286-1c678c48f45e"
      },
      "source": [
        "from sklearn.metrics import log_loss\n",
        "log_loss(actual_test_label,pred_KNN_normal)"
      ],
      "execution_count": 118,
      "outputs": [
        {
          "output_type": "execute_result",
          "data": {
            "text/plain": [
              "11.052600349754666"
            ]
          },
          "metadata": {
            "tags": []
          },
          "execution_count": 118
        }
      ]
    },
    {
      "cell_type": "markdown",
      "metadata": {
        "id": "06u2RJopGikw"
      },
      "source": [
        "##Comaprison"
      ]
    },
    {
      "cell_type": "code",
      "metadata": {
        "id": "c7ER08XbGlSK",
        "colab": {
          "base_uri": "https://localhost:8080/",
          "height": 552
        },
        "outputId": "dda56dd4-ba38-4d16-b55f-adab9549918c"
      },
      "source": [
        "#BoxPlot for cross validation scores\n",
        "\n",
        "data_KNN = [cvs_KNN_lda, cvs_KNN_pca, cvs_KNN_normal]\n",
        "\n",
        "fig_KNN = plt.figure(figsize =(10, 7))\n",
        "  \n",
        "# Creating axes instance\n",
        "ax_KNN = fig_KNN.add_axes([0, 0, 1, 1])\n",
        "  \n",
        "# Creating plot\n",
        "bp_KNN = ax_KNN.boxplot(data_KNN)\n",
        "  \n",
        "# show plot\n",
        "plt.show()"
      ],
      "execution_count": 119,
      "outputs": [
        {
          "output_type": "display_data",
          "data": {
            "image/png": "[encoded data removed]",
            "text/plain": [
              "<Figure size 720x504 with 1 Axes>"
            ]
          },
          "metadata": {
            "tags": [],
            "needs_background": "light"
          }
        }
      ]
    },
    {
      "cell_type": "markdown",
      "metadata": {
        "id": "SJk1TdYKGrRe"
      },
      "source": [
        "##Comaprison for LDAs"
      ]
    },
    {
      "cell_type": "code",
      "metadata": {
        "id": "nnS_pzAkGqtC",
        "colab": {
          "base_uri": "https://localhost:8080/",
          "height": 552
        },
        "outputId": "b38e2381-3bcb-4faa-9fe6-c328b4afecf4"
      },
      "source": [
        "#BoxPlot for cross validation scores\n",
        "\n",
        "data_LDA = [cvs_SVC_lda, cvs_MLP_lda, cvs_KNN_lda]\n",
        "\n",
        "fig_LDA = plt.figure(figsize =(10, 7))\n",
        "  \n",
        "# Creating axes instance\n",
        "ax_LDA = fig_LDA.add_axes([0, 0, 1, 1])\n",
        "  \n",
        "# Creating plot\n",
        "bp_LDA = ax_LDA.boxplot(data_LDA)\n",
        "  \n",
        "# show plot\n",
        "plt.show()"
      ],
      "execution_count": 120,
      "outputs": [
        {
          "output_type": "display_data",
          "data": {
            "image/png": "[encoded data removed]",
            "text/plain": [
              "<Figure size 720x504 with 1 Axes>"
            ]
          },
          "metadata": {
            "tags": [],
            "needs_background": "light"
          }
        }
      ]
    },
    {
      "cell_type": "markdown",
      "metadata": {
        "id": "ahSss_7vGxLf"
      },
      "source": [
        "##Comparison for PCAs"
      ]
    },
    {
      "cell_type": "code",
      "metadata": {
        "id": "avAEFpH-G0LI",
        "colab": {
          "base_uri": "https://localhost:8080/",
          "height": 552
        },
        "outputId": "ed113e64-3d11-4f93-b148-91630651601c"
      },
      "source": [
        "#BoxPlot for cross validation scores\n",
        "\n",
        "data_PCA = [cvs_SVC_pca, cvs_MLP_pca, cvs_KNN_pca]\n",
        "\n",
        "fig_PCA = plt.figure(figsize =(10, 7))\n",
        "  \n",
        "# Creating axes instance\n",
        "ax_PCA = fig_PCA.add_axes([0, 0, 1, 1])\n",
        "  \n",
        "# Creating plot\n",
        "bp_PCA = ax_PCA.boxplot(data_PCA)\n",
        "  \n",
        "# show plot\n",
        "plt.show()"
      ],
      "execution_count": 121,
      "outputs": [
        {
          "output_type": "display_data",
          "data": {
            "image/png": "[encoded data removed]",
            "text/plain": [
              "<Figure size 720x504 with 1 Axes>"
            ]
          },
          "metadata": {
            "tags": [],
            "needs_background": "light"
          }
        }
      ]
    },
    {
      "cell_type": "markdown",
      "metadata": {
        "id": "dj_lirr4G30A"
      },
      "source": [
        "##Comparison for Normals "
      ]
    },
    {
      "cell_type": "code",
      "metadata": {
        "id": "6EEuuL2BG3In",
        "colab": {
          "base_uri": "https://localhost:8080/",
          "height": 552
        },
        "outputId": "27c7460e-a3fb-4da1-f11b-871e38d9a5bb"
      },
      "source": [
        "#BoxPlot for cross validation scores\n",
        "\n",
        "data_NORMAL = [cvs_SVC_normal, cvs_MLP_normal, cvs_KNN_normal]\n",
        "\n",
        "fig_NORMAL = plt.figure(figsize =(10, 7))\n",
        "  \n",
        "# Creating axes instance\n",
        "ax_NORMAL = fig_NORMAL.add_axes([0, 0, 1, 1])\n",
        "  \n",
        "# Creating plot\n",
        "bp_NORMAL = ax_NORMAL.boxplot(data_NORMAL)\n",
        "  \n",
        "# show plot\n",
        "plt.show()"
      ],
      "execution_count": 122,
      "outputs": [
        {
          "output_type": "display_data",
          "data": {
            "image/png": "[encoded data removed]",
            "text/plain": [
              "<Figure size 720x504 with 1 Axes>"
            ]
          },
          "metadata": {
            "tags": [],
            "needs_background": "light"
          }
        }
      ]
    },
    {
      "cell_type": "markdown",
      "metadata": {
        "id": "NA1o5q0r9p-y"
      },
      "source": [
        "##InceptionResnetV2"
      ]
    },
    {
      "cell_type": "code",
      "metadata": {
        "id": "dmFQ1fMN9vU8"
      },
      "source": [
        "from tensorflow.keras.applications import InceptionResNetV2\n",
        "from tensorflow.keras.layers import Conv2D\n",
        "from tensorflow.keras.layers import MaxPooling2D\n",
        "from tensorflow.keras.layers import Flatten\n",
        "from tensorflow.keras.layers import Dense\n",
        "from tensorflow.keras.layers import Dropout\n",
        "from tensorflow.keras.layers import InputLayer\n",
        "from tensorflow.keras.layers import GlobalAveragePooling2D\n",
        "from tensorflow.keras.models import Sequential\n",
        "from tensorflow.keras.models import Model\n",
        "from tensorflow.keras import optimizers\n",
        "from tensorflow.keras.callbacks import ReduceLROnPlateau, EarlyStopping\n",
        "from tensorflow.keras.utils import to_categorical"
      ],
      "execution_count": null,
      "outputs": []
    },
    {
      "cell_type": "code",
      "metadata": {
        "id": "cthcjr3p9vRl"
      },
      "source": [
        "def resizingImages(img_list):\n",
        "  newImgList=[]\n",
        "  for i in img_list:\n",
        "    img = cv2.resize(i,(128, 128), interpolation=cv2.INTER_CUBIC)\n",
        "    newImgList.append(img)\n",
        "  return np.array(newImgList)"
      ],
      "execution_count": null,
      "outputs": []
    },
    {
      "cell_type": "code",
      "metadata": {
        "id": "C5SaKyuS9vPr"
      },
      "source": [
        "train_Resizedimages_mediapipe_label = [0]*len(processedImagePath_Train_Fake_mediapipe) + [1]*len(processedImagePath_Train_Real_mediapipe)\n",
        "train_Resizedimages_mediapipe_label = to_categorical(train_Resizedimages_mediapipe_label,2)\n",
        "val_Resizedimages_mediapipe_label = [0]*len(processedImagePath_Val_Fake_mediapipe) + [1]*len(processedImagePath_Val_Real_mediapipe)\n",
        "val_Resizedimages_mediapipe_label = to_categorical(val_Resizedimages_mediapipe_label,2)\n",
        "test_Resizedimages_mediapipe_label = [0]*len(processedImagePath_Test_Fake_mediapipe) + [1]*len(processedImagePath_Test_Real_mediapipe)\n",
        "test_Resizedimages_mediapipe_label = to_categorical(test_Resizedimages_mediapipe_label,2)\n",
        "# train_images_mediapipe_label_CNN = [[1,0] for i in range(len(processedImagePath_Train_Fake_mediapipe))] + [[0,1] for i in range(len(processedImagePath_Train_Real_mediapipe))]\n",
        "# val_images_mediapipe_label_CNN = [[1,0] for i in range(len(processedImagePath_Val_Fake_mediapipe))] + [[0,1] for i in range(len(processedImagePath_Val_Real_mediapipe))]\n",
        "# print(train_images_mediapipe_label_CNN)"
      ],
      "execution_count": null,
      "outputs": []
    },
    {
      "cell_type": "code",
      "metadata": {
        "id": "pJlw9VDlLqP1"
      },
      "source": [
        "train_Resizedimages_mediapipe_label_noise = [0]*len(processedImagePath_Train_Fake_mediapipe_noise) + [1]*len(processedImagePath_Train_Real_mediapipe_noise)\n",
        "train_Resizedimages_mediapipe_label_noise = to_categorical(train_Resizedimages_mediapipe_label_noise,2)"
      ],
      "execution_count": null,
      "outputs": []
    },
    {
      "cell_type": "code",
      "metadata": {
        "colab": {
          "base_uri": "https://localhost:8080/"
        },
        "id": "qD-aG02c9vOR",
        "outputId": "9f3c8f15-fa35-41aa-85fe-0b8002e2ee05"
      },
      "source": [
        "print(train_Resizedimages_mediapipe_label)"
      ],
      "execution_count": null,
      "outputs": [
        {
          "output_type": "stream",
          "text": [
            "[[1. 0.]\n",
            " [1. 0.]\n",
            " [1. 0.]\n",
            " ...\n",
            " [0. 1.]\n",
            " [0. 1.]\n",
            " [0. 1.]]\n"
          ],
          "name": "stdout"
        }
      ]
    },
    {
      "cell_type": "code",
      "metadata": {
        "id": "M68CJM0WG-Ka"
      },
      "source": [
        "def createImageArray(path_list):\n",
        "  img_list = []\n",
        "  for path in path_list:\n",
        "    img = cv2.imread(path)\n",
        "    img_list.append(img)\n",
        "  return img_list"
      ],
      "execution_count": null,
      "outputs": []
    },
    {
      "cell_type": "code",
      "metadata": {
        "id": "iBfGHjxTG_PI"
      },
      "source": [
        "train_images_mediapipe_CNN = createImageArray(processedImagePath_Train_Fake_mediapipe + processedImagePath_Train_Real_mediapipe)"
      ],
      "execution_count": null,
      "outputs": []
    },
    {
      "cell_type": "code",
      "metadata": {
        "id": "jctchpQwL2lM"
      },
      "source": [
        "train_images_mediapipe_CNN_noise = createImageArray(processedImagePath_Train_Fake_mediapipe_noise + processedImagePath_Train_Real_mediapipe_noise)"
      ],
      "execution_count": null,
      "outputs": []
    },
    {
      "cell_type": "code",
      "metadata": {
        "id": "fuGMNRYaG_Ay"
      },
      "source": [
        "val_images_mediapipe_CNN = createImageArray(processedImagePath_Val_Fake_mediapipe + processedImagePath_Val_Real_mediapipe)"
      ],
      "execution_count": null,
      "outputs": []
    },
    {
      "cell_type": "code",
      "metadata": {
        "id": "OLRIApUiHGCb"
      },
      "source": [
        "test_images_mediapipe_CNN = createImageArray(processedImagePath_Test_Fake_mediapipe + processedImagePath_Test_Real_mediapipe)"
      ],
      "execution_count": null,
      "outputs": []
    },
    {
      "cell_type": "code",
      "metadata": {
        "id": "ynLDRWTDzwX_"
      },
      "source": [
        "print(val_images_mediapipe_CNN)"
      ],
      "execution_count": null,
      "outputs": []
    },
    {
      "cell_type": "code",
      "metadata": {
        "id": "JNyxhBEa9vJC"
      },
      "source": [
        "train_Resizedimages_mediapipe = resizingImages(train_images_mediapipe_CNN)\n",
        "# train_Resizedimages_mediapipe_label = np.array(train_images_mediapipe_label_CNN)\n",
        "val_Resizedimages_mediapipe = resizingImages(val_images_mediapipe_CNN)\n",
        "# val_Resizedimages_mediapipe_label = np.array(val_images_mediapipe_label_CNN )"
      ],
      "execution_count": null,
      "outputs": []
    },
    {
      "cell_type": "code",
      "metadata": {
        "id": "BbV8U4QBL9Bt"
      },
      "source": [
        "train_Resizedimages_mediapipe_noise = resizingImages(train_images_mediapipe_CNN_noise)"
      ],
      "execution_count": null,
      "outputs": []
    },
    {
      "cell_type": "code",
      "metadata": {
        "id": "2-aA1jGe9vFh"
      },
      "source": [
        "# test_images_mediapipe_label_CNN = [[1,0] for i in range(len(processedImagePath_Test_Fake_mediapipe))] + [[0,1] for i in range(len(processedImagePath_Test_Real_mediapipe))]\n",
        "test_Resizedimages_mediapipe = resizingImages(test_images_mediapipe_CNN)\n",
        "# test_Resizedimages_mediapipe_label  = np.array(test_images_mediapipe_label_CNN )"
      ],
      "execution_count": null,
      "outputs": []
    },
    {
      "cell_type": "code",
      "metadata": {
        "id": "3amxLCUb9-eb"
      },
      "source": [
        "train_Resizedimages_mediapipe = train_Resizedimages_mediapipe.astype('float32')\n",
        "val_Resizedimages_mediapipe = val_Resizedimages_mediapipe.astype('float32')\n",
        "train_Resizedimages_mediapipe  = train_Resizedimages_mediapipe  / 255.\n",
        "val_Resizedimages_mediapipe = val_Resizedimages_mediapipe / 255."
      ],
      "execution_count": null,
      "outputs": []
    },
    {
      "cell_type": "code",
      "metadata": {
        "id": "lnhIcnKzMD5T"
      },
      "source": [
        "train_Resizedimages_mediapipe_noise = train_Resizedimages_mediapipe_noise.astype('float32')\n",
        "train_Resizedimages_mediapipe_noise = train_Resizedimages_mediapipe_noise / 255"
      ],
      "execution_count": null,
      "outputs": []
    },
    {
      "cell_type": "code",
      "metadata": {
        "id": "vtcMyBe_9-be"
      },
      "source": [
        "test_Resizedimages_mediapipe = test_Resizedimages_mediapipe.astype('float32')\n",
        "test_Resizedimages_mediapipe = test_Resizedimages_mediapipe / 255"
      ],
      "execution_count": null,
      "outputs": []
    },
    {
      "cell_type": "code",
      "metadata": {
        "colab": {
          "base_uri": "https://localhost:8080/"
        },
        "id": "YCPCuMzo9-XW",
        "outputId": "b9ced127-a4bb-4551-c7d1-b132ae7c2800"
      },
      "source": [
        "googleNet_model = InceptionResNetV2(include_top=False, weights='imagenet', input_shape=(128,128,3))\n",
        "googleNet_model.trainable = True\n",
        "model = Sequential()\n",
        "model.add(googleNet_model)\n",
        "model.add(GlobalAveragePooling2D())\n",
        "model.add(Dense(units=2, activation='softmax'))\n",
        "model.compile(loss='binary_crossentropy',\n",
        "              optimizer=optimizers.Adam(lr=1e-5, beta_1=0.9, beta_2=0.999, epsilon=None, decay=0.0, amsgrad=False),\n",
        "              metrics=['accuracy'])\n",
        "model.summary()"
      ],
      "execution_count": null,
      "outputs": [
        {
          "output_type": "stream",
          "text": [
            "Downloading data from https://storage.googleapis.com/tensorflow/keras-applications/inception_resnet_v2/inception_resnet_v2_weights_tf_dim_ordering_tf_kernels_notop.h5\n",
            "219062272/219055592 [==============================] - 2s 0us/step\n",
            "Model: \"sequential\"\n",
            "_________________________________________________________________\n",
            "Layer (type)                 Output Shape              Param #   \n",
            "=================================================================\n",
            "inception_resnet_v2 (Functio (None, 2, 2, 1536)        54336736  \n",
            "_________________________________________________________________\n",
            "global_average_pooling2d (Gl (None, 1536)              0         \n",
            "_________________________________________________________________\n",
            "dense (Dense)                (None, 2)                 3074      \n",
            "=================================================================\n",
            "Total params: 54,339,810\n",
            "Trainable params: 54,279,266\n",
            "Non-trainable params: 60,544\n",
            "_________________________________________________________________\n"
          ],
          "name": "stdout"
        }
      ]
    },
    {
      "cell_type": "code",
      "metadata": {
        "colab": {
          "base_uri": "https://localhost:8080/"
        },
        "id": "XRXUe-hj-gvz",
        "outputId": "2f19f909-bca8-4b13-b447-57c37687373c"
      },
      "source": [
        "EPOCHS = 20\n",
        "BATCH_SIZE = 50\n",
        "\n",
        "history = model.fit(train_Resizedimages_mediapipe, train_Resizedimages_mediapipe_label, batch_size = BATCH_SIZE, epochs = EPOCHS, validation_data = (val_Resizedimages_mediapipe, val_Resizedimages_mediapipe_label), verbose = 1)"
      ],
      "execution_count": null,
      "outputs": [
        {
          "output_type": "stream",
          "text": [
            "Epoch 1/20\n",
            "28/28 [==============================] - 51s 431ms/step - loss: 0.7498 - accuracy: 0.5323 - val_loss: 1.2229 - val_accuracy: 0.4813\n",
            "Epoch 2/20\n",
            "28/28 [==============================] - 7s 236ms/step - loss: 0.6457 - accuracy: 0.5711 - val_loss: 0.9957 - val_accuracy: 0.4899\n",
            "Epoch 3/20\n",
            "28/28 [==============================] - 7s 236ms/step - loss: 0.5619 - accuracy: 0.6864 - val_loss: 0.9141 - val_accuracy: 0.4784\n",
            "Epoch 4/20\n",
            "28/28 [==============================] - 7s 235ms/step - loss: 0.5020 - accuracy: 0.7626 - val_loss: 0.8391 - val_accuracy: 0.4640\n",
            "Epoch 5/20\n",
            "28/28 [==============================] - 7s 236ms/step - loss: 0.4308 - accuracy: 0.8372 - val_loss: 0.8070 - val_accuracy: 0.4697\n",
            "Epoch 6/20\n",
            "28/28 [==============================] - 7s 236ms/step - loss: 0.3403 - accuracy: 0.9209 - val_loss: 0.8167 - val_accuracy: 0.4971\n",
            "Epoch 7/20\n",
            "28/28 [==============================] - 7s 236ms/step - loss: 0.2455 - accuracy: 0.9509 - val_loss: 0.8263 - val_accuracy: 0.5331\n",
            "Epoch 8/20\n",
            "28/28 [==============================] - 7s 236ms/step - loss: 0.1898 - accuracy: 0.9641 - val_loss: 0.8414 - val_accuracy: 0.5634\n",
            "Epoch 9/20\n",
            "28/28 [==============================] - 7s 237ms/step - loss: 0.1076 - accuracy: 0.9792 - val_loss: 0.8570 - val_accuracy: 0.6110\n",
            "Epoch 10/20\n",
            "28/28 [==============================] - 7s 235ms/step - loss: 0.0816 - accuracy: 0.9826 - val_loss: 0.8922 - val_accuracy: 0.6398\n",
            "Epoch 11/20\n",
            "28/28 [==============================] - 7s 237ms/step - loss: 0.0484 - accuracy: 0.9895 - val_loss: 0.9307 - val_accuracy: 0.6340\n",
            "Epoch 12/20\n",
            "28/28 [==============================] - 7s 236ms/step - loss: 0.0398 - accuracy: 0.9894 - val_loss: 0.9268 - val_accuracy: 0.6326\n",
            "Epoch 13/20\n",
            "28/28 [==============================] - 7s 236ms/step - loss: 0.0363 - accuracy: 0.9931 - val_loss: 0.9591 - val_accuracy: 0.6599\n",
            "Epoch 14/20\n",
            "28/28 [==============================] - 7s 235ms/step - loss: 0.0201 - accuracy: 0.9957 - val_loss: 1.0109 - val_accuracy: 0.6599\n",
            "Epoch 15/20\n",
            "28/28 [==============================] - 7s 235ms/step - loss: 0.0173 - accuracy: 0.9963 - val_loss: 1.0438 - val_accuracy: 0.6614\n",
            "Epoch 16/20\n",
            "28/28 [==============================] - 7s 236ms/step - loss: 0.0291 - accuracy: 0.9945 - val_loss: 1.0919 - val_accuracy: 0.6527\n",
            "Epoch 17/20\n",
            "28/28 [==============================] - 7s 235ms/step - loss: 0.0147 - accuracy: 0.9961 - val_loss: 1.0872 - val_accuracy: 0.6556\n",
            "Epoch 18/20\n",
            "28/28 [==============================] - 7s 235ms/step - loss: 0.0150 - accuracy: 0.9970 - val_loss: 1.0628 - val_accuracy: 0.6643\n",
            "Epoch 19/20\n",
            "28/28 [==============================] - 7s 235ms/step - loss: 0.0180 - accuracy: 0.9943 - val_loss: 1.0775 - val_accuracy: 0.6484\n",
            "Epoch 20/20\n",
            "28/28 [==============================] - 7s 235ms/step - loss: 0.0235 - accuracy: 0.9931 - val_loss: 1.1362 - val_accuracy: 0.6556\n"
          ],
          "name": "stdout"
        }
      ]
    },
    {
      "cell_type": "code",
      "metadata": {
        "colab": {
          "base_uri": "https://localhost:8080/"
        },
        "id": "FyetCdon-gnp",
        "outputId": "fa893da4-88e1-4f39-fde9-230f717bac36"
      },
      "source": [
        "predicted_test_Inception= model.predict_classes(test_Resizedimages_mediapipe)"
      ],
      "execution_count": null,
      "outputs": [
        {
          "output_type": "stream",
          "text": [
            "/usr/local/lib/python3.7/dist-packages/tensorflow/python/keras/engine/sequential.py:450: UserWarning: `model.predict_classes()` is deprecated and will be removed after 2021-01-01. Please use instead:* `np.argmax(model.predict(x), axis=-1)`,   if your model does multi-class classification   (e.g. if it uses a `softmax` last-layer activation).* `(model.predict(x) > 0.5).astype(\"int32\")`,   if your model does binary classification   (e.g. if it uses a `sigmoid` last-layer activation).\n",
            "  warnings.warn('`model.predict_classes()` is deprecated and '\n"
          ],
          "name": "stderr"
        }
      ]
    },
    {
      "cell_type": "code",
      "metadata": {
        "colab": {
          "base_uri": "https://localhost:8080/"
        },
        "id": "-GJU-S_S-gbC",
        "outputId": "56e9164c-c31c-4abd-8806-d952fd850815"
      },
      "source": [
        "print(predicted_test_Inception)"
      ],
      "execution_count": null,
      "outputs": [
        {
          "output_type": "stream",
          "text": [
            "[1 0 1 1 1 1 0 1 1 1 0 0 0 1 0 1 1 0 1 0 0 0 0 0 0 1 1 1 0 1 0 1 1 1 1 1 1\n",
            " 0 1 1 1 1 1 1 1 1 1 1 1 1 0 0 1 1 1 1 1 0 1 0 0 1 1 1 0 1 1 1 1 1 1 1 1 0\n",
            " 1 1 1 1 0 0 0 1 1 1 1 1 1 1 1 1 0 0 1 1 1 0 1 1 1 1 0 0 1 1 1 1 1 1 0 0 1\n",
            " 0 1 0 1 0 0 0 0 0 0 1 0 0 1 1 0 1 1 0 0 1 0 1 0 0 1 0 1 0 1 0 1 0 1 1 0 0\n",
            " 0 1 1 1 0 1 1 1 1 1 0 1 0 1 0 0 0 1 0 0 0 1 1 0 0 1 1 0 1 1 1 1 0 0 1 1 0\n",
            " 1 1 1 0 1 1 0 0 0 0 0 0 0 0 0 0 1 1 0 0 1 1 1 1 1 1 1 1 1 1 1 1 1 1 1 1 1\n",
            " 1 1 1 1 1 1 1 1 1 1 0 1 1 0 1 1 1 1 1 1 1 1 0 1 1 1 1 1 1 1 1 1 1 1 1 1 1\n",
            " 1 1 1 1 1 1 1 1 1 1 1 1 1 1 1 1 1 1 1 1 1 1 1 1 1 1 1 1 1 0 0 1 1 1 1 0 1\n",
            " 1 1 1 1 0 1 1 1 1 1 0 0 0 1 1 1 1 1 1 0 0 0 0 1 1 1 0 0 1 0 1 1 1 0 0 0 0\n",
            " 1 1 1 1 1 1 0 1 0 1 0 0 0 0 1 1 0 1 1 1 1 1 1 1 1 0 1 0 0 0 1 1 1 1 1 0 1\n",
            " 1 1 1 1 1 0 0 1 1 1 1 1 1 0 1 1 1 1 1 0 1 1 1 0 1 0 0 1 1 1 1 1 0 1 1 1 1\n",
            " 0 1 1 0 0 0 1 1 0 1 0 1 0 1 1 1 0 0 0 0 0 0 0 0 1 0 1 1 0 1 0 1 1 0 0 0 1\n",
            " 0 0 1 1 1 1 0 1 0 1 1 0 1 0 0 1 1 1 0 0 1 1 1 1 1 1 1 1 1 1 1 0 1 1 1 1 1\n",
            " 1 1 1 1 1 1 1 0 0 0 1 0 1 1 1 1 1 1 1 1 1 1 1 1 1 1 1 1 1 1 0 1 1 1 1 1 1\n",
            " 1 1 1 1 1 1 1 0 1 1 1 1 1 1 1 0 1 1 0 0 1 1 1 1 0 1 1 0 1 1 0 1 1 1 1 0 1\n",
            " 1 1 1 1 1 1 1 1 1 0 1 1 1 1 1 1 1 1 1 1 0 0 1 1 0 1 1 1 1 1 1 1 1 1 1 1 1\n",
            " 1 1 1 0 1 1 1 1 1 1 1 1 0 1 1 1 1 0 1 1 0 1 1 1 0 1 1 1 0 1 1 1 0 1 1 1 1\n",
            " 0 0 0 1 1 1 1 0 0 1 1 1 1 1 1 1 1 1 1 1 1 1 1 1 0 0 0 1 0 1 1 1 1 1 1 0 0\n",
            " 0 1 1 0 1 0 1 1 1 1 1 1 1 1 0 0 0 0 0 0 0 0 0 0 0 0 0 0 0 1 1 0 0 0 0 0 1\n",
            " 0 0 1 0 0 0 1]\n"
          ],
          "name": "stdout"
        }
      ]
    },
    {
      "cell_type": "code",
      "metadata": {
        "colab": {
          "base_uri": "https://localhost:8080/"
        },
        "id": "KWDPBksZLbRA",
        "outputId": "76dc520b-8de5-4ce3-d98d-6197a85afaa0"
      },
      "source": [
        "a=0\n",
        "b=0\n",
        "for i in predicted_test_Inception:\n",
        "  if i==0:\n",
        "    a+=1\n",
        "  else:\n",
        "    b+=1\n",
        "print(a,b)"
      ],
      "execution_count": null,
      "outputs": [
        {
          "output_type": "stream",
          "text": [
            "219 491\n"
          ],
          "name": "stdout"
        }
      ]
    },
    {
      "cell_type": "code",
      "metadata": {
        "id": "GGa8ypUILSFZ"
      },
      "source": [
        "def predictDeepFakeResultInception(predicted_test,frame_count_test):\n",
        "  k=0\n",
        "  prediction=[]\n",
        "  len1=len(predicted_test)\n",
        "  for i in frame_count_test:\n",
        "    real_count=0\n",
        "    fake_count=0\n",
        "    # if i+k>=len1:\n",
        "    #   break\n",
        "    for j in range(i):\n",
        "      if predicted_test[k]>0.5:\n",
        "        real_count+=1\n",
        "      else:\n",
        "        fake_count+=1\n",
        "      k+=1\n",
        "    if real_count/(real_count+fake_count)>=0.5:\n",
        "      prediction.append(1)\n",
        "    else:\n",
        "      prediction.append(0)\n",
        "  return prediction"
      ],
      "execution_count": null,
      "outputs": []
    },
    {
      "cell_type": "code",
      "metadata": {
        "colab": {
          "base_uri": "https://localhost:8080/"
        },
        "id": "FwgbLAuF-gXc",
        "outputId": "59a9f32d-e5c5-4f9b-a799-c2c2ec781def"
      },
      "source": [
        "pred_Inception_mediapipe = predictDeepFakeResultInception(predicted_test_Inception,frame_count_test_fake+frame_count_test_real)\n",
        "print(pred_Inception_mediapipe)"
      ],
      "execution_count": null,
      "outputs": [
        {
          "output_type": "stream",
          "text": [
            "[1, 1, 1, 1, 0, 1, 0, 1, 1, 1, 1, 1, 1, 1, 0, 1, 1, 1, 1, 1, 1, 1, 1, 0]\n"
          ],
          "name": "stdout"
        }
      ]
    },
    {
      "cell_type": "code",
      "metadata": {
        "colab": {
          "base_uri": "https://localhost:8080/"
        },
        "id": "7WBROMddKxMc",
        "outputId": "716bc451-293a-4e21-8a2c-5bfb94af06c5"
      },
      "source": [
        "from sklearn.metrics import accuracy_score\n",
        "accuracy_score(actual_test_label, pred_Inception_mediapipe)"
      ],
      "execution_count": null,
      "outputs": [
        {
          "output_type": "execute_result",
          "data": {
            "text/plain": [
              "0.5"
            ]
          },
          "metadata": {
            "tags": []
          },
          "execution_count": 149
        }
      ]
    },
    {
      "cell_type": "code",
      "metadata": {
        "colab": {
          "base_uri": "https://localhost:8080/"
        },
        "id": "4DJy3CrLK5lU",
        "outputId": "13169a57-d563-4bf2-8cc4-068c6126531c"
      },
      "source": [
        "from sklearn.metrics import f1_score\n",
        "f1_score(actual_test_label, pred_Inception_mediapipe)"
      ],
      "execution_count": null,
      "outputs": [
        {
          "output_type": "execute_result",
          "data": {
            "text/plain": [
              "0.625"
            ]
          },
          "metadata": {
            "tags": []
          },
          "execution_count": 150
        }
      ]
    },
    {
      "cell_type": "code",
      "metadata": {
        "colab": {
          "base_uri": "https://localhost:8080/"
        },
        "id": "JUrw8s1ZK_Eo",
        "outputId": "38356bdd-79bc-488f-932c-8b7c1872f5db"
      },
      "source": [
        "from sklearn.metrics import log_loss\n",
        "log_loss(actual_test_label, pred_Inception_mediapipe)"
      ],
      "execution_count": null,
      "outputs": [
        {
          "output_type": "execute_result",
          "data": {
            "text/plain": [
              "17.269721363051257"
            ]
          },
          "metadata": {
            "tags": []
          },
          "execution_count": 151
        }
      ]
    },
    {
      "cell_type": "markdown",
      "metadata": {
        "id": "4iJt4HAvC4Dh"
      },
      "source": [
        "## CNN"
      ]
    },
    {
      "cell_type": "code",
      "metadata": {
        "id": "ahAcp9_zC5dh"
      },
      "source": [
        "def createImageArray(path_list):\n",
        "  img_list = []\n",
        "  for path in path_list:\n",
        "    img = cv2.imread(path)\n",
        "    img_list.append(img)\n",
        "  return img_list"
      ],
      "execution_count": null,
      "outputs": []
    },
    {
      "cell_type": "code",
      "metadata": {
        "id": "o6RUteWdDBQm"
      },
      "source": [
        "train_images_mediapipe_CNN = createImageArray(processedImagePath_Train_Fake_mediapipe + processedImagePath_Train_Real_mediapipe)"
      ],
      "execution_count": null,
      "outputs": []
    },
    {
      "cell_type": "code",
      "metadata": {
        "id": "mehARlNtDDNb"
      },
      "source": [
        "train_images_mediapipe_label_CNN = [0]*len(processedImagePath_Train_Fake_mediapipe) + [1]*len(processedImagePath_Train_Real_mediapipe)"
      ],
      "execution_count": null,
      "outputs": []
    },
    {
      "cell_type": "code",
      "metadata": {
        "id": "14aniUIcDE_E"
      },
      "source": [
        "val_images_mediapipe_CNN = createImageArray(processedImagePath_Val_Fake_mediapipe + processedImagePath_Val_Real_mediapipe)"
      ],
      "execution_count": null,
      "outputs": []
    },
    {
      "cell_type": "code",
      "metadata": {
        "id": "Lnoabr7PDG4t"
      },
      "source": [
        "val_images_mediapipe_label_CNN = [0]*len(processedImagePath_Val_Fake_mediapipe) + [1]*len(processedImagePath_Val_Real_mediapipe)"
      ],
      "execution_count": null,
      "outputs": []
    },
    {
      "cell_type": "code",
      "metadata": {
        "id": "niK_WC3gDInG"
      },
      "source": [
        "test_images_mediapipe_CNN = createImageArray(processedImagePath_Test_Fake_mediapipe + processedImagePath_Test_Real_mediapipe)"
      ],
      "execution_count": null,
      "outputs": []
    },
    {
      "cell_type": "code",
      "metadata": {
        "id": "cqQp7-RjDKrL"
      },
      "source": [
        "test_images_mediapipe_label_CNN = [0]*len(processedImagePath_Test_Fake_mediapipe) + [1]*len(processedImagePath_Test_Real_mediapipe)"
      ],
      "execution_count": null,
      "outputs": []
    },
    {
      "cell_type": "code",
      "metadata": {
        "id": "5kN_OQkKDMkJ"
      },
      "source": [
        "train_images_mediapipe_CNN = np.array(train_images_mediapipe_CNN)\n",
        "train_images_mediapipe_label_CNN = np.array(train_images_mediapipe_label_CNN)\n",
        "val_images_mediapipe_CNN = np.array(val_images_mediapipe_CNN)\n",
        "val_images_mediapipe_label_CNN  = np.array(val_images_mediapipe_label_CNN )\n",
        "test_images_mediapipe_CNN = np.array(test_images_mediapipe_CNN)\n",
        "test_images_mediapipe_label_CNN  = np.array(test_images_mediapipe_label_CNN )"
      ],
      "execution_count": null,
      "outputs": []
    },
    {
      "cell_type": "code",
      "metadata": {
        "id": "BGdjEYwFDumE"
      },
      "source": [
        "train_images_mediapipe_CNN = train_images_mediapipe_CNN.astype('float32')\n",
        "val_images_mediapipe_CNN = val_images_mediapipe_CNN.astype('float32')\n",
        "train_images_mediapipe_CNN  = train_images_mediapipe_CNN  / 255\n",
        "val_images_mediapipe_CNN = val_images_mediapipe_CNN / 255\n",
        "test_images_mediapipe_CNN = test_images_mediapipe_CNN.astype('float32')\n",
        "test_images_mediapipe_CNN  = test_images_mediapipe_CNN  / 255"
      ],
      "execution_count": null,
      "outputs": []
    },
    {
      "cell_type": "code",
      "metadata": {
        "id": "na8K4wfBDRP9"
      },
      "source": [
        "import keras\n",
        "from keras.models import Sequential,Input,Model\n",
        "from keras.layers import Dense, Dropout, Flatten\n",
        "from keras.layers import Conv2D, MaxPooling2D\n",
        "from keras.layers.normalization import BatchNormalization\n",
        "from keras.layers.advanced_activations import LeakyReLU"
      ],
      "execution_count": null,
      "outputs": []
    },
    {
      "cell_type": "code",
      "metadata": {
        "id": "aN-t0drsDYPi"
      },
      "source": [
        "batch_size = 32\n",
        "epochs = 10\n",
        "num_classes = 2"
      ],
      "execution_count": null,
      "outputs": []
    },
    {
      "cell_type": "code",
      "metadata": {
        "id": "2JNxUQo5BQuL"
      },
      "source": [
        "# from tensorflow.keras.callbacks import EarlyStopping, ModelCheckpoint\n",
        "# custom_callbacks = [\n",
        "#     EarlyStopping(\n",
        "#         monitor = 'val_loss',\n",
        "#         mode = 'min',\n",
        "#         patience = 5,\n",
        "#         verbose = 1\n",
        "#     ),\n",
        "#     ModelCheckpoint(\n",
        "#         filepath = os.path.join(checkpoint_filepath, 'best_model.h5'),\n",
        "#         monitor = 'val_loss',\n",
        "#         mode = 'min',\n",
        "#         verbose = 1,\n",
        "#         save_best_only = True\n",
        "#     )\n",
        "# ]"
      ],
      "execution_count": null,
      "outputs": []
    },
    {
      "cell_type": "code",
      "metadata": {
        "id": "AUZDufCVDaxV"
      },
      "source": [
        "classifier = Sequential()\n",
        "classifier.add(Conv2D(32, (3, 3), input_shape = (128, 128, 3), activation = 'relu'))\n",
        "classifier.add(MaxPooling2D(pool_size = (2, 2)))\n",
        "classifier.add(Dropout(0.25))\n",
        "\n",
        "classifier.add(Conv2D(64, (3, 3), activation='linear',padding='same'))\n",
        "classifier.add(MaxPooling2D((2, 2),padding='same'))\n",
        "classifier.add(Dropout(0.25))\n",
        "\n",
        "classifier.add(LeakyReLU(alpha=0.1)) \n",
        "classifier.add(Conv2D(128, (3, 3), activation='linear',padding='same'))\n",
        "classifier.add(Dropout(0.4))\n",
        "\n",
        " \n",
        "classifier.add(Flatten())\n",
        "classifier.add(Dense(units = 128, activation = 'relu'))\n",
        "# classifier.add(Dense(units = 1, activation = 'sigmoid'))\n",
        "classifier.compile(optimizer = 'adam', loss = 'binary_crossentropy', metrics = ['accuracy'])"
      ],
      "execution_count": null,
      "outputs": []
    },
    {
      "cell_type": "code",
      "metadata": {
        "colab": {
          "base_uri": "https://localhost:8080/"
        },
        "id": "XjLrel1x5-vH",
        "outputId": "9129bb66-504c-4dbe-a89d-bcfe9c7ef3de"
      },
      "source": [
        "!pip install efficientnet"
      ],
      "execution_count": null,
      "outputs": [
        {
          "output_type": "stream",
          "text": [
            "Collecting efficientnet\n",
            "  Downloading https://files.pythonhosted.org/packages/53/97/84f88e581d6ac86dcf1ab347c497c4c568c38784e3a2bd659b96912ab793/efficientnet-1.1.1-py3-none-any.whl\n",
            "Requirement already satisfied: scikit-image in /usr/local/lib/python3.7/dist-packages (from efficientnet) (0.16.2)\n",
            "Collecting keras-applications<=1.0.8,>=1.0.7\n",
            "\u001b[?25l  Downloading https://files.pythonhosted.org/packages/71/e3/19762fdfc62877ae9102edf6342d71b28fbfd9dea3d2f96a882ce099b03f/Keras_Applications-1.0.8-py3-none-any.whl (50kB)\n",
            "\u001b[K     |████████████████████████████████| 51kB 3.0MB/s \n",
            "\u001b[?25hRequirement already satisfied: imageio>=2.3.0 in /usr/local/lib/python3.7/dist-packages (from scikit-image->efficientnet) (2.4.1)\n",
            "Requirement already satisfied: PyWavelets>=0.4.0 in /usr/local/lib/python3.7/dist-packages (from scikit-image->efficientnet) (1.1.1)\n",
            "Requirement already satisfied: matplotlib!=3.0.0,>=2.0.0 in /usr/local/lib/python3.7/dist-packages (from scikit-image->efficientnet) (3.2.2)\n",
            "Requirement already satisfied: scipy>=0.19.0 in /usr/local/lib/python3.7/dist-packages (from scikit-image->efficientnet) (1.4.1)\n",
            "Requirement already satisfied: networkx>=2.0 in /usr/local/lib/python3.7/dist-packages (from scikit-image->efficientnet) (2.5.1)\n",
            "Requirement already satisfied: pillow>=4.3.0 in /usr/local/lib/python3.7/dist-packages (from scikit-image->efficientnet) (7.1.2)\n",
            "Requirement already satisfied: numpy>=1.9.1 in /usr/local/lib/python3.7/dist-packages (from keras-applications<=1.0.8,>=1.0.7->efficientnet) (1.19.5)\n",
            "Requirement already satisfied: h5py in /usr/local/lib/python3.7/dist-packages (from keras-applications<=1.0.8,>=1.0.7->efficientnet) (2.10.0)\n",
            "Requirement already satisfied: python-dateutil>=2.1 in /usr/local/lib/python3.7/dist-packages (from matplotlib!=3.0.0,>=2.0.0->scikit-image->efficientnet) (2.8.1)\n",
            "Requirement already satisfied: cycler>=0.10 in /usr/local/lib/python3.7/dist-packages (from matplotlib!=3.0.0,>=2.0.0->scikit-image->efficientnet) (0.10.0)\n",
            "Requirement already satisfied: pyparsing!=2.0.4,!=2.1.2,!=2.1.6,>=2.0.1 in /usr/local/lib/python3.7/dist-packages (from matplotlib!=3.0.0,>=2.0.0->scikit-image->efficientnet) (2.4.7)\n",
            "Requirement already satisfied: kiwisolver>=1.0.1 in /usr/local/lib/python3.7/dist-packages (from matplotlib!=3.0.0,>=2.0.0->scikit-image->efficientnet) (1.3.1)\n",
            "Requirement already satisfied: decorator<5,>=4.3 in /usr/local/lib/python3.7/dist-packages (from networkx>=2.0->scikit-image->efficientnet) (4.4.2)\n",
            "Requirement already satisfied: six in /usr/local/lib/python3.7/dist-packages (from h5py->keras-applications<=1.0.8,>=1.0.7->efficientnet) (1.15.0)\n",
            "Installing collected packages: keras-applications, efficientnet\n",
            "Successfully installed efficientnet-1.1.1 keras-applications-1.0.8\n"
          ],
          "name": "stdout"
        }
      ]
    },
    {
      "cell_type": "code",
      "metadata": {
        "colab": {
          "base_uri": "https://localhost:8080/"
        },
        "id": "LX_59D8J5rHR",
        "outputId": "097447e8-6065-4d20-c6e4-e8f3f0510bc2"
      },
      "source": [
        "from efficientnet.tfkeras import EfficientNetB0 \n",
        "from keras.regularizers import l2\n",
        "efficient_net = EfficientNetB0(\n",
        "    weights = 'imagenet',\n",
        "    input_shape = (128, 128, 3),\n",
        "    include_top = False,\n",
        "    pooling = 'max'\n",
        ")\n",
        "\n",
        "model = Sequential()\n",
        "model.add(efficient_net)\n",
        "model.add(Dense(units = 512, activation = 'relu'))\n",
        "model.add(Dropout(0.5))\n",
        "model.add(Dense(units = 128, activation = 'relu'))\n",
        "model.add(Dense(units = 1, activation = 'sigmoid',kernel_regularizer=l2(0.01), bias_regularizer=l2(0.01)))\n",
        "model.summary()"
      ],
      "execution_count": null,
      "outputs": [
        {
          "output_type": "stream",
          "text": [
            "Downloading data from https://github.com/Callidior/keras-applications/releases/download/efficientnet/efficientnet-b0_weights_tf_dim_ordering_tf_kernels_autoaugment_notop.h5\n",
            "16809984/16804768 [==============================] - 0s 0us/step\n",
            "Model: \"sequential_2\"\n",
            "_________________________________________________________________\n",
            "Layer (type)                 Output Shape              Param #   \n",
            "=================================================================\n",
            "efficientnet-b0 (Functional) (None, 1280)              4049564   \n",
            "_________________________________________________________________\n",
            "dense_2 (Dense)              (None, 512)               655872    \n",
            "_________________________________________________________________\n",
            "dropout_3 (Dropout)          (None, 512)               0         \n",
            "_________________________________________________________________\n",
            "dense_3 (Dense)              (None, 128)               65664     \n",
            "_________________________________________________________________\n",
            "dense_4 (Dense)              (None, 1)                 129       \n",
            "=================================================================\n",
            "Total params: 4,771,229\n",
            "Trainable params: 4,729,213\n",
            "Non-trainable params: 42,016\n",
            "_________________________________________________________________\n"
          ],
          "name": "stdout"
        }
      ]
    },
    {
      "cell_type": "code",
      "metadata": {
        "id": "AkokNl5uDna0"
      },
      "source": [
        "# cnn.summary()\n",
        "# classifier.summary()\n",
        "from tensorflow.keras.optimizers import Adam\n",
        "model.compile(optimizer = Adam(lr=0.0001), loss='binary_crossentropy', metrics=['accuracy'])"
      ],
      "execution_count": null,
      "outputs": []
    },
    {
      "cell_type": "code",
      "metadata": {
        "id": "qNbBwQ-G67s-"
      },
      "source": [
        "x = []\n",
        "for i in range(len(train_Resizedimages_mediapipe_label)):\n",
        "  if(train_Resizedimages_mediapipe_label[i][0]==1):\n",
        "    x.append(0)\n",
        "  else:\n",
        "    x.append(1)"
      ],
      "execution_count": null,
      "outputs": []
    },
    {
      "cell_type": "code",
      "metadata": {
        "id": "LVBsyREi7-6T"
      },
      "source": [
        "y = []\n",
        "for i in range(len(val_Resizedimages_mediapipe_label)):\n",
        "  if(val_Resizedimages_mediapipe_label[i][0]==1):\n",
        "    y.append(0)\n",
        "  else:\n",
        "    y.append(1)"
      ],
      "execution_count": null,
      "outputs": []
    },
    {
      "cell_type": "code",
      "metadata": {
        "id": "1ZYqEnkqD049",
        "colab": {
          "base_uri": "https://localhost:8080/"
        },
        "outputId": "1dabf212-9018-40ff-e69e-f39f3b198a29"
      },
      "source": [
        "# train_cnn = cnn.fit(train_images_dlib_CNN, train_images_dlib_label_CNN, batch_size=batch_size,epochs=epochs,verbose=1,validation_data=(val_images_dlib_CNN, val_images_dlib_label_CNN))\n",
        "train_cnn = model.fit(train_Resizedimages_mediapipe, np.array(x),epochs=epochs,verbose=1,validation_data=(val_Resizedimages_mediapipe, np.array(y)),validation_steps = 100 )"
      ],
      "execution_count": null,
      "outputs": [
        {
          "output_type": "stream",
          "text": [
            "Epoch 1/10\n",
            "43/43 [==============================] - 19s 175ms/step - loss: 1.1261 - accuracy: 0.5739 - val_loss: 0.8243 - val_accuracy: 0.5288\n",
            "Epoch 2/10\n",
            "43/43 [==============================] - 5s 124ms/step - loss: 0.5410 - accuracy: 0.7572 - val_loss: 0.7729 - val_accuracy: 0.4784\n",
            "Epoch 3/10\n",
            "43/43 [==============================] - 5s 124ms/step - loss: 0.4040 - accuracy: 0.8291 - val_loss: 0.7277 - val_accuracy: 0.5562\n",
            "Epoch 4/10\n",
            "43/43 [==============================] - 5s 124ms/step - loss: 0.2529 - accuracy: 0.9143 - val_loss: 0.8103 - val_accuracy: 0.4942\n",
            "Epoch 5/10\n",
            "43/43 [==============================] - 5s 123ms/step - loss: 0.1995 - accuracy: 0.9340 - val_loss: 1.0552 - val_accuracy: 0.4755\n",
            "Epoch 6/10\n",
            "43/43 [==============================] - 5s 124ms/step - loss: 0.1507 - accuracy: 0.9488 - val_loss: 0.9652 - val_accuracy: 0.4798\n",
            "Epoch 7/10\n",
            "43/43 [==============================] - 5s 122ms/step - loss: 0.1052 - accuracy: 0.9731 - val_loss: 0.8730 - val_accuracy: 0.5504\n",
            "Epoch 8/10\n",
            "43/43 [==============================] - 5s 124ms/step - loss: 0.1106 - accuracy: 0.9668 - val_loss: 0.8385 - val_accuracy: 0.5850\n",
            "Epoch 9/10\n",
            "43/43 [==============================] - 5s 123ms/step - loss: 0.0848 - accuracy: 0.9774 - val_loss: 1.0912 - val_accuracy: 0.5591\n",
            "Epoch 10/10\n",
            "43/43 [==============================] - 5s 123ms/step - loss: 0.0620 - accuracy: 0.9849 - val_loss: 1.3354 - val_accuracy: 0.5360\n"
          ],
          "name": "stdout"
        }
      ]
    },
    {
      "cell_type": "code",
      "metadata": {
        "id": "inHFyTx0D1Tu"
      },
      "source": [
        "predicted_test_CNN= model.predict(test_Resizedimages_mediapipe)"
      ],
      "execution_count": null,
      "outputs": []
    },
    {
      "cell_type": "code",
      "metadata": {
        "id": "VBlH-Y4iD3Go"
      },
      "source": [
        "pred_CNN_mediapipe = predictDeepFakeResult(predicted_test_CNN,frame_count_test_fake+frame_count_test_real)"
      ],
      "execution_count": null,
      "outputs": []
    },
    {
      "cell_type": "code",
      "metadata": {
        "colab": {
          "base_uri": "https://localhost:8080/"
        },
        "id": "RXm6kBXb89Wu",
        "outputId": "29bf13f0-37bf-40b5-af89-aea5509b80d2"
      },
      "source": [
        "# print(pred_CNN_mediapipe)\n",
        "print(predicted_test_CNN)"
      ],
      "execution_count": null,
      "outputs": [
        {
          "output_type": "stream",
          "text": [
            "[[0.28155768]\n",
            " [0.6948064 ]\n",
            " [0.39760694]\n",
            " [0.79739827]\n",
            " [0.6812311 ]\n",
            " [0.9948106 ]\n",
            " [0.9431735 ]\n",
            " [0.3242211 ]\n",
            " [0.7195892 ]\n",
            " [0.93920153]\n",
            " [0.96899456]\n",
            " [0.99642485]\n",
            " [0.7162836 ]\n",
            " [0.60087425]\n",
            " [0.8414929 ]\n",
            " [0.97562444]\n",
            " [0.85236967]\n",
            " [0.96930456]\n",
            " [0.04793001]\n",
            " [0.06607293]\n",
            " [0.9479438 ]\n",
            " [0.21724644]\n",
            " [0.9835759 ]\n",
            " [0.67222536]\n",
            " [0.33976325]\n",
            " [0.9542685 ]\n",
            " [0.18251415]\n",
            " [0.79807365]\n",
            " [0.94920987]\n",
            " [0.48270568]\n",
            " [0.1273234 ]\n",
            " [0.50298697]\n",
            " [0.08473337]\n",
            " [0.05995884]\n",
            " [0.6738778 ]\n",
            " [0.49868685]\n",
            " [0.2820519 ]\n",
            " [0.22858603]\n",
            " [0.94929063]\n",
            " [0.9383186 ]\n",
            " [0.67663676]\n",
            " [0.55024457]\n",
            " [0.8691383 ]\n",
            " [0.23441783]\n",
            " [0.40709716]\n",
            " [0.246676  ]\n",
            " [0.8810549 ]\n",
            " [0.47104967]\n",
            " [0.03832456]\n",
            " [0.5810825 ]\n",
            " [0.7376904 ]\n",
            " [0.11843096]\n",
            " [0.4384005 ]\n",
            " [0.34028643]\n",
            " [0.5513672 ]\n",
            " [0.11495265]\n",
            " [0.92962635]\n",
            " [0.27739498]\n",
            " [0.719011  ]\n",
            " [0.5791005 ]\n",
            " [0.10065175]\n",
            " [0.6429342 ]\n",
            " [0.8729266 ]\n",
            " [0.10934336]\n",
            " [0.931618  ]\n",
            " [0.899885  ]\n",
            " [0.5142151 ]\n",
            " [0.7419824 ]\n",
            " [0.9923878 ]\n",
            " [0.5159224 ]\n",
            " [0.9036514 ]\n",
            " [0.5394522 ]\n",
            " [0.5401323 ]\n",
            " [0.40238705]\n",
            " [0.37609082]\n",
            " [0.5419078 ]\n",
            " [0.5732638 ]\n",
            " [0.53903157]\n",
            " [0.82523763]\n",
            " [0.70850766]\n",
            " [0.30411223]\n",
            " [0.6607326 ]\n",
            " [0.19947395]\n",
            " [0.28192982]\n",
            " [0.20860942]\n",
            " [0.05699748]\n",
            " [0.6495185 ]\n",
            " [0.31506777]\n",
            " [0.8428334 ]\n",
            " [0.13580528]\n",
            " [0.08496593]\n",
            " [0.96038216]\n",
            " [0.76442754]\n",
            " [0.7782493 ]\n",
            " [0.17099324]\n",
            " [0.5548675 ]\n",
            " [0.9945273 ]\n",
            " [0.6746682 ]\n",
            " [0.9200537 ]\n",
            " [0.99984515]\n",
            " [0.9993387 ]\n",
            " [0.99971825]\n",
            " [0.9747229 ]\n",
            " [0.981874  ]\n",
            " [0.9999573 ]\n",
            " [0.9781261 ]\n",
            " [0.8021813 ]\n",
            " [0.9999286 ]\n",
            " [0.9954541 ]\n",
            " [0.5296906 ]\n",
            " [0.66591513]\n",
            " [0.59922105]\n",
            " [0.6914711 ]\n",
            " [0.8598507 ]\n",
            " [0.4492148 ]\n",
            " [0.06303664]\n",
            " [0.16167934]\n",
            " [0.956643  ]\n",
            " [0.99218047]\n",
            " [0.994518  ]\n",
            " [0.43761697]\n",
            " [0.9927468 ]\n",
            " [0.10065663]\n",
            " [0.9830153 ]\n",
            " [0.6990885 ]\n",
            " [0.73661363]\n",
            " [0.7508477 ]\n",
            " [0.8589406 ]\n",
            " [0.70261747]\n",
            " [0.98713183]\n",
            " [0.9971992 ]\n",
            " [0.691896  ]\n",
            " [0.89039016]\n",
            " [0.27768955]\n",
            " [0.9041267 ]\n",
            " [0.99462634]\n",
            " [0.6507841 ]\n",
            " [0.20178652]\n",
            " [0.4038274 ]\n",
            " [0.18054119]\n",
            " [0.52023244]\n",
            " [0.32833612]\n",
            " [0.62335074]\n",
            " [0.9128407 ]\n",
            " [0.20173074]\n",
            " [0.28578728]\n",
            " [0.9135712 ]\n",
            " [0.9977586 ]\n",
            " [0.16865547]\n",
            " [0.27766758]\n",
            " [0.6963906 ]\n",
            " [0.6700374 ]\n",
            " [0.3001617 ]\n",
            " [0.06200784]\n",
            " [0.41572726]\n",
            " [0.8766922 ]\n",
            " [0.92007965]\n",
            " [0.33408278]\n",
            " [0.59247345]\n",
            " [0.7694484 ]\n",
            " [0.66305274]\n",
            " [0.19355653]\n",
            " [0.9426749 ]\n",
            " [0.9892496 ]\n",
            " [0.08974086]\n",
            " [0.7419241 ]\n",
            " [0.8620968 ]\n",
            " [0.55143195]\n",
            " [0.8214223 ]\n",
            " [0.9408408 ]\n",
            " [0.9823465 ]\n",
            " [0.90696186]\n",
            " [0.9342618 ]\n",
            " [0.5050246 ]\n",
            " [0.95822847]\n",
            " [0.9989692 ]\n",
            " [0.9948114 ]\n",
            " [0.99997437]\n",
            " [0.9450577 ]\n",
            " [0.9997043 ]\n",
            " [0.6694952 ]\n",
            " [0.98632866]\n",
            " [0.91004497]\n",
            " [0.9870029 ]\n",
            " [0.9996902 ]\n",
            " [0.99072975]\n",
            " [0.9762151 ]\n",
            " [0.97028637]\n",
            " [0.9979272 ]\n",
            " [0.99885714]\n",
            " [0.9933036 ]\n",
            " [0.99972576]\n",
            " [0.9998659 ]\n",
            " [0.98911685]\n",
            " [0.9997259 ]\n",
            " [0.99874735]\n",
            " [0.99984825]\n",
            " [0.6495271 ]\n",
            " [0.9996387 ]\n",
            " [0.9999776 ]\n",
            " [0.9984314 ]\n",
            " [0.99996674]\n",
            " [0.99879336]\n",
            " [0.9797325 ]\n",
            " [0.9998136 ]\n",
            " [0.99525815]\n",
            " [0.8753186 ]\n",
            " [0.91677815]\n",
            " [0.9641298 ]\n",
            " [0.8722615 ]\n",
            " [0.9698331 ]\n",
            " [0.9682059 ]\n",
            " [0.8945878 ]\n",
            " [0.9654636 ]\n",
            " [0.6858893 ]\n",
            " [0.79523295]\n",
            " [0.31361926]\n",
            " [0.17057312]\n",
            " [0.68544364]\n",
            " [0.9501494 ]\n",
            " [0.46613777]\n",
            " [0.82064927]\n",
            " [0.9782039 ]\n",
            " [0.9395434 ]\n",
            " [0.863874  ]\n",
            " [0.9310682 ]\n",
            " [0.77390397]\n",
            " [0.82945234]\n",
            " [0.9129169 ]\n",
            " [0.96381575]\n",
            " [0.90808886]\n",
            " [0.67024094]\n",
            " [0.9782235 ]\n",
            " [0.9865389 ]\n",
            " [0.86738205]\n",
            " [0.8953494 ]\n",
            " [0.8761781 ]\n",
            " [0.99622846]\n",
            " [0.8719653 ]\n",
            " [0.9953152 ]\n",
            " [0.84669435]\n",
            " [0.13902903]\n",
            " [0.93272614]\n",
            " [0.62218595]\n",
            " [0.7583726 ]\n",
            " [0.96335274]\n",
            " [0.70357645]\n",
            " [0.25387904]\n",
            " [0.09505902]\n",
            " [0.9125418 ]\n",
            " [0.89429283]\n",
            " [0.5133743 ]\n",
            " [0.38443795]\n",
            " [0.9552501 ]\n",
            " [0.17976774]\n",
            " [0.3549876 ]\n",
            " [0.7419869 ]\n",
            " [0.9696493 ]\n",
            " [0.9690101 ]\n",
            " [0.96813804]\n",
            " [0.73083067]\n",
            " [0.5624057 ]\n",
            " [0.84502894]\n",
            " [0.9608825 ]\n",
            " [0.9575331 ]\n",
            " [0.9867654 ]\n",
            " [0.984478  ]\n",
            " [0.99982905]\n",
            " [0.99922   ]\n",
            " [0.9815332 ]\n",
            " [0.9998878 ]\n",
            " [0.99781704]\n",
            " [0.84043074]\n",
            " [0.17912747]\n",
            " [0.95054394]\n",
            " [0.99964106]\n",
            " [0.9921143 ]\n",
            " [0.99814546]\n",
            " [0.9999771 ]\n",
            " [0.9999168 ]\n",
            " [0.99993265]\n",
            " [0.76752603]\n",
            " [0.9867855 ]\n",
            " [0.9997906 ]\n",
            " [0.98138463]\n",
            " [0.92320764]\n",
            " [0.98637587]\n",
            " [0.9996643 ]\n",
            " [0.9999732 ]\n",
            " [0.9328555 ]\n",
            " [0.9867993 ]\n",
            " [0.9367883 ]\n",
            " [0.88592243]\n",
            " [0.99865675]\n",
            " [0.0597604 ]\n",
            " [0.04670353]\n",
            " [0.05821139]\n",
            " [0.8657847 ]\n",
            " [0.34555212]\n",
            " [0.94886255]\n",
            " [0.02947462]\n",
            " [0.27764332]\n",
            " [0.92220265]\n",
            " [0.13717593]\n",
            " [0.06121086]\n",
            " [0.95342374]\n",
            " [0.0885243 ]\n",
            " [0.13266145]\n",
            " [0.9737673 ]\n",
            " [0.05902423]\n",
            " [0.8665652 ]\n",
            " [0.04681809]\n",
            " [0.6052123 ]\n",
            " [0.68667114]\n",
            " [0.04604406]\n",
            " [0.09282851]\n",
            " [0.12102893]\n",
            " [0.04574462]\n",
            " [0.0044258 ]\n",
            " [0.76010495]\n",
            " [0.09838032]\n",
            " [0.21705857]\n",
            " [0.31993842]\n",
            " [0.00853591]\n",
            " [0.7529387 ]\n",
            " [0.75478095]\n",
            " [0.2443163 ]\n",
            " [0.4041647 ]\n",
            " [0.9358875 ]\n",
            " [0.8843831 ]\n",
            " [0.6113828 ]\n",
            " [0.26564434]\n",
            " [0.45384353]\n",
            " [0.65091527]\n",
            " [0.3002573 ]\n",
            " [0.72716945]\n",
            " [0.5714505 ]\n",
            " [0.1471874 ]\n",
            " [0.14091627]\n",
            " [0.8446682 ]\n",
            " [0.25526506]\n",
            " [0.34848487]\n",
            " [0.17883764]\n",
            " [0.529507  ]\n",
            " [0.90984935]\n",
            " [0.57113683]\n",
            " [0.6819898 ]\n",
            " [0.03992423]\n",
            " [0.83942   ]\n",
            " [0.427376  ]\n",
            " [0.46364462]\n",
            " [0.18946433]\n",
            " [0.526778  ]\n",
            " [0.41061053]\n",
            " [0.9800757 ]\n",
            " [0.17501163]\n",
            " [0.877203  ]\n",
            " [0.23725745]\n",
            " [0.7748361 ]\n",
            " [0.01082623]\n",
            " [0.98990446]\n",
            " [0.99306905]\n",
            " [0.93182737]\n",
            " [0.76692843]\n",
            " [0.8983498 ]\n",
            " [0.42033505]\n",
            " [0.85695356]\n",
            " [0.2720727 ]\n",
            " [0.6684622 ]\n",
            " [0.903395  ]\n",
            " [0.61939347]\n",
            " [0.22043829]\n",
            " [0.93631697]\n",
            " [0.6553389 ]\n",
            " [0.65514416]\n",
            " [0.9997044 ]\n",
            " [0.99683136]\n",
            " [0.07518595]\n",
            " [0.71032757]\n",
            " [0.02481292]\n",
            " [0.96358633]\n",
            " [0.46979097]\n",
            " [0.88875026]\n",
            " [0.45122993]\n",
            " [0.9816875 ]\n",
            " [0.82482105]\n",
            " [0.26982468]\n",
            " [0.20318696]\n",
            " [0.5441712 ]\n",
            " [0.22623524]\n",
            " [0.6919075 ]\n",
            " [0.83018297]\n",
            " [0.32488874]\n",
            " [0.14235687]\n",
            " [0.23876834]\n",
            " [0.28315896]\n",
            " [0.08232789]\n",
            " [0.42973104]\n",
            " [0.4598096 ]\n",
            " [0.27777582]\n",
            " [0.4126331 ]\n",
            " [0.6121545 ]\n",
            " [0.31559137]\n",
            " [0.8305147 ]\n",
            " [0.74376523]\n",
            " [0.83791757]\n",
            " [0.78152704]\n",
            " [0.6574055 ]\n",
            " [0.2737456 ]\n",
            " [0.7525403 ]\n",
            " [0.4912043 ]\n",
            " [0.8558739 ]\n",
            " [0.11400902]\n",
            " [0.9674845 ]\n",
            " [0.9710033 ]\n",
            " [0.8772111 ]\n",
            " [0.98209685]\n",
            " [0.81837004]\n",
            " [0.9609282 ]\n",
            " [0.9762071 ]\n",
            " [0.9693983 ]\n",
            " [0.91845   ]\n",
            " [0.9970504 ]\n",
            " [0.2840237 ]\n",
            " [0.9917936 ]\n",
            " [0.9970798 ]\n",
            " [0.9931879 ]\n",
            " [0.96593195]\n",
            " [0.99985397]\n",
            " [0.88892657]\n",
            " [0.99650145]\n",
            " [0.9294018 ]\n",
            " [0.98874414]\n",
            " [0.9891067 ]\n",
            " [0.99480104]\n",
            " [0.9877302 ]\n",
            " [0.99643445]\n",
            " [0.5289729 ]\n",
            " [0.99757606]\n",
            " [0.99255264]\n",
            " [0.7523264 ]\n",
            " [0.95876646]\n",
            " [0.9705761 ]\n",
            " [0.5861491 ]\n",
            " [0.719724  ]\n",
            " [0.9933837 ]\n",
            " [0.895785  ]\n",
            " [0.92565453]\n",
            " [0.9940706 ]\n",
            " [0.97507894]\n",
            " [0.9267946 ]\n",
            " [0.9904488 ]\n",
            " [0.8955767 ]\n",
            " [0.95762706]\n",
            " [0.7293365 ]\n",
            " [0.58832455]\n",
            " [0.27859548]\n",
            " [0.27357295]\n",
            " [0.9884798 ]\n",
            " [0.8704189 ]\n",
            " [0.6012871 ]\n",
            " [0.9611898 ]\n",
            " [0.66669726]\n",
            " [0.8242416 ]\n",
            " [0.94061   ]\n",
            " [0.94620216]\n",
            " [0.83959967]\n",
            " [0.4567675 ]\n",
            " [0.31062472]\n",
            " [0.4412961 ]\n",
            " [0.7659739 ]\n",
            " [0.02921875]\n",
            " [0.50260526]\n",
            " [0.36747786]\n",
            " [0.46526185]\n",
            " [0.9228802 ]\n",
            " [0.8712811 ]\n",
            " [0.6570804 ]\n",
            " [0.14713025]\n",
            " [0.7168898 ]\n",
            " [0.6591635 ]\n",
            " [0.8913265 ]\n",
            " [0.80148864]\n",
            " [0.1978301 ]\n",
            " [0.18953598]\n",
            " [0.631936  ]\n",
            " [0.63285375]\n",
            " [0.20568852]\n",
            " [0.9749708 ]\n",
            " [0.9906731 ]\n",
            " [0.7173548 ]\n",
            " [0.21351969]\n",
            " [0.690073  ]\n",
            " [0.6782306 ]\n",
            " [0.8889473 ]\n",
            " [0.85352045]\n",
            " [0.443806  ]\n",
            " [0.9511803 ]\n",
            " [0.9885183 ]\n",
            " [0.8091903 ]\n",
            " [0.9817696 ]\n",
            " [0.99720037]\n",
            " [0.9972421 ]\n",
            " [0.99935824]\n",
            " [0.95119405]\n",
            " [0.96051174]\n",
            " [0.99708885]\n",
            " [0.9867511 ]\n",
            " [0.78025496]\n",
            " [0.87081575]\n",
            " [0.8196283 ]\n",
            " [0.99421316]\n",
            " [0.85653   ]\n",
            " [0.9941553 ]\n",
            " [0.9933668 ]\n",
            " [0.9942036 ]\n",
            " [0.16517633]\n",
            " [0.710325  ]\n",
            " [0.01447335]\n",
            " [0.87407357]\n",
            " [0.97995603]\n",
            " [0.9864727 ]\n",
            " [0.97420675]\n",
            " [0.83805   ]\n",
            " [0.8802932 ]\n",
            " [0.9079719 ]\n",
            " [0.9895601 ]\n",
            " [0.90627974]\n",
            " [0.9889647 ]\n",
            " [0.9319961 ]\n",
            " [0.94480604]\n",
            " [0.9911419 ]\n",
            " [0.97782546]\n",
            " [0.8754868 ]\n",
            " [0.20117633]\n",
            " [0.84345543]\n",
            " [0.17177637]\n",
            " [0.98042816]\n",
            " [0.5578856 ]\n",
            " [0.3807138 ]\n",
            " [0.6490113 ]\n",
            " [0.9257772 ]\n",
            " [0.9886769 ]\n",
            " [0.35479113]\n",
            " [0.9872471 ]\n",
            " [0.9955622 ]\n",
            " [0.9636918 ]\n",
            " [0.4628461 ]\n",
            " [0.81731874]\n",
            " [0.9629573 ]\n",
            " [0.3393991 ]\n",
            " [0.27114186]\n",
            " [0.9095105 ]\n",
            " [0.9451461 ]\n",
            " [0.93887323]\n",
            " [0.5638253 ]\n",
            " [0.8215347 ]\n",
            " [0.69926697]\n",
            " [0.1856958 ]\n",
            " [0.56145436]\n",
            " [0.442421  ]\n",
            " [0.552279  ]\n",
            " [0.9667318 ]\n",
            " [0.31804508]\n",
            " [0.64259607]\n",
            " [0.9040144 ]\n",
            " [0.8282884 ]\n",
            " [0.5979151 ]\n",
            " [0.8902297 ]\n",
            " [0.20420544]\n",
            " [0.82986194]\n",
            " [0.5718794 ]\n",
            " [0.33516562]\n",
            " [0.88797545]\n",
            " [0.984365  ]\n",
            " [0.6583391 ]\n",
            " [0.4891255 ]\n",
            " [0.5452772 ]\n",
            " [0.08631832]\n",
            " [0.6454792 ]\n",
            " [0.69571275]\n",
            " [0.96513724]\n",
            " [0.09571348]\n",
            " [0.7836478 ]\n",
            " [0.93205285]\n",
            " [0.7509151 ]\n",
            " [0.97474515]\n",
            " [0.6220775 ]\n",
            " [0.6805482 ]\n",
            " [0.49387896]\n",
            " [0.2859809 ]\n",
            " [0.81017125]\n",
            " [0.87829566]\n",
            " [0.9198535 ]\n",
            " [0.9670988 ]\n",
            " [0.03354635]\n",
            " [0.87380475]\n",
            " [0.30490965]\n",
            " [0.55322623]\n",
            " [0.09513432]\n",
            " [0.69905686]\n",
            " [0.98091817]\n",
            " [0.44131625]\n",
            " [0.4107901 ]\n",
            " [0.17862503]\n",
            " [0.43487543]\n",
            " [0.6720002 ]\n",
            " [0.12963744]\n",
            " [0.7084288 ]\n",
            " [0.5440821 ]\n",
            " [0.43530023]\n",
            " [0.7702739 ]\n",
            " [0.38682497]\n",
            " [0.9775392 ]\n",
            " [0.93615687]\n",
            " [0.9982759 ]\n",
            " [0.9914995 ]\n",
            " [0.9886412 ]\n",
            " [0.98838603]\n",
            " [0.9981844 ]\n",
            " [0.40387663]\n",
            " [0.9992151 ]\n",
            " [0.98472196]\n",
            " [0.8851636 ]\n",
            " [0.9180207 ]\n",
            " [0.9918331 ]\n",
            " [0.9095591 ]\n",
            " [0.98648304]\n",
            " [0.94039834]\n",
            " [0.9643006 ]\n",
            " [0.8400915 ]\n",
            " [0.92521054]\n",
            " [0.9783611 ]\n",
            " [0.9510023 ]\n",
            " [0.98132974]\n",
            " [0.955116  ]\n",
            " [0.990114  ]\n",
            " [0.99970144]\n",
            " [0.7648498 ]\n",
            " [0.99551845]\n",
            " [0.95386255]\n",
            " [0.97609806]\n",
            " [0.9734288 ]\n",
            " [0.21117859]\n",
            " [0.23832172]\n",
            " [0.38926953]\n",
            " [0.08215415]\n",
            " [0.12015493]\n",
            " [0.15584219]\n",
            " [0.14348717]\n",
            " [0.16102739]\n",
            " [0.09583462]\n",
            " [0.33164683]\n",
            " [0.02359955]\n",
            " [0.09623305]\n",
            " [0.9555024 ]\n",
            " [0.0894118 ]\n",
            " [0.51577526]\n",
            " [0.01152194]\n",
            " [0.07392038]\n",
            " [0.9867756 ]\n",
            " [0.24171653]\n",
            " [0.15738367]\n",
            " [0.07337043]\n",
            " [0.78236455]\n",
            " [0.00828348]\n",
            " [0.51534665]\n",
            " [0.8834618 ]\n",
            " [0.02776287]\n",
            " [0.05327268]\n",
            " [0.7747089 ]\n",
            " [0.05801163]\n",
            " [0.04942826]\n",
            " [0.48326713]\n",
            " [0.05730987]\n",
            " [0.78635067]\n",
            " [0.11617399]\n",
            " [0.0757091 ]\n",
            " [0.09295093]\n",
            " [0.54887164]\n",
            " [0.21514817]\n",
            " [0.1288469 ]\n",
            " [0.09150119]\n",
            " [0.22344355]\n",
            " [0.20499931]\n",
            " [0.01309743]\n",
            " [0.41149375]\n",
            " [0.0708432 ]\n",
            " [0.10829341]\n",
            " [0.27768096]\n",
            " [0.19102712]\n",
            " [0.25733295]\n",
            " [0.2600586 ]\n",
            " [0.5496574 ]\n",
            " [0.520905  ]\n",
            " [0.07248326]\n",
            " [0.12950404]\n",
            " [0.11406099]\n",
            " [0.29379866]\n",
            " [0.11793509]\n",
            " [0.13530946]\n",
            " [0.06893183]\n",
            " [0.16425358]\n",
            " [0.14047468]\n",
            " [0.10130294]\n",
            " [0.20435952]\n",
            " [0.04615461]\n",
            " [0.14142369]\n",
            " [0.5522055 ]\n",
            " [0.09429592]]\n"
          ],
          "name": "stdout"
        }
      ]
    },
    {
      "cell_type": "code",
      "metadata": {
        "id": "0la25Y1BD4vb",
        "colab": {
          "base_uri": "https://localhost:8080/"
        },
        "outputId": "0f9867d6-0b23-4a19-fc02-023502d08d45"
      },
      "source": [
        "from sklearn.metrics import accuracy_score\n",
        "accuracy_score(actual_test_label, pred_CNN_mediapipe)"
      ],
      "execution_count": null,
      "outputs": [
        {
          "output_type": "execute_result",
          "data": {
            "text/plain": [
              "0.5"
            ]
          },
          "metadata": {
            "tags": []
          },
          "execution_count": 174
        }
      ]
    },
    {
      "cell_type": "code",
      "metadata": {
        "id": "oVxpQbc-D6MN",
        "colab": {
          "base_uri": "https://localhost:8080/"
        },
        "outputId": "8d59da11-de47-40eb-99e3-64ab344a616c"
      },
      "source": [
        "from sklearn.metrics import f1_score\n",
        "f1_score(actual_test_label, pred_CNN_mediapipe)"
      ],
      "execution_count": null,
      "outputs": [
        {
          "output_type": "execute_result",
          "data": {
            "text/plain": [
              "0.0"
            ]
          },
          "metadata": {
            "tags": []
          },
          "execution_count": 175
        }
      ]
    },
    {
      "cell_type": "code",
      "metadata": {
        "id": "yB3C7ogzD7p9",
        "colab": {
          "base_uri": "https://localhost:8080/"
        },
        "outputId": "ab2fe825-3d81-43c3-d448-d1939b72859a"
      },
      "source": [
        "from sklearn.metrics import log_loss\n",
        "log_loss(actual_test_label, pred_CNN_mediapipe)"
      ],
      "execution_count": null,
      "outputs": [
        {
          "output_type": "execute_result",
          "data": {
            "text/plain": [
              "17.269388197455342"
            ]
          },
          "metadata": {
            "tags": []
          },
          "execution_count": 176
        }
      ]
    }
  ]
}