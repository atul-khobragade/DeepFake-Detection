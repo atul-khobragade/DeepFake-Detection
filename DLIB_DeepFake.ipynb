{
  "nbformat": 4,
  "nbformat_minor": 0,
  "metadata": {
    "colab": {
      "name": "DLIB_currentRun",
      "provenance": [],
      "collapsed_sections": [],
      "toc_visible": true,
      "machine_shape": "hm"
    },
    "kernelspec": {
      "name": "python3",
      "display_name": "Python 3"
    },
    "language_info": {
      "name": "python"
    },
    "accelerator": "GPU"
  },
  "cells": [
    {
      "cell_type": "code",
      "metadata": {
        "colab": {
          "base_uri": "https://localhost:8080/"
        },
        "id": "OpoX3ys6bsw9",
        "outputId": "6cc48e95-9e89-44b2-f693-ef45293476b2"
      },
      "source": [
        "!pip install mediapipe"
      ],
      "execution_count": null,
      "outputs": [
        {
          "output_type": "stream",
          "text": [
            "Collecting mediapipe\n",
            "  Downloading mediapipe-0.8.6-cp37-cp37m-manylinux_2_17_x86_64.manylinux2014_x86_64.whl (32.2 MB)\n",
            "\u001b[K     |████████████████████████████████| 32.2 MB 48 kB/s \n",
            "\u001b[?25hRequirement already satisfied: attrs>=19.1.0 in /usr/local/lib/python3.7/dist-packages (from mediapipe) (21.2.0)\n",
            "Requirement already satisfied: numpy in /usr/local/lib/python3.7/dist-packages (from mediapipe) (1.19.5)\n",
            "Requirement already satisfied: absl-py in /usr/local/lib/python3.7/dist-packages (from mediapipe) (0.12.0)\n",
            "Requirement already satisfied: protobuf>=3.11.4 in /usr/local/lib/python3.7/dist-packages (from mediapipe) (3.17.3)\n",
            "Requirement already satisfied: opencv-contrib-python in /usr/local/lib/python3.7/dist-packages (from mediapipe) (4.1.2.30)\n",
            "Requirement already satisfied: six in /usr/local/lib/python3.7/dist-packages (from mediapipe) (1.15.0)\n",
            "Requirement already satisfied: wheel in /usr/local/lib/python3.7/dist-packages (from mediapipe) (0.36.2)\n",
            "Requirement already satisfied: matplotlib in /usr/local/lib/python3.7/dist-packages (from mediapipe) (3.2.2)\n",
            "Requirement already satisfied: python-dateutil>=2.1 in /usr/local/lib/python3.7/dist-packages (from matplotlib->mediapipe) (2.8.1)\n",
            "Requirement already satisfied: cycler>=0.10 in /usr/local/lib/python3.7/dist-packages (from matplotlib->mediapipe) (0.10.0)\n",
            "Requirement already satisfied: kiwisolver>=1.0.1 in /usr/local/lib/python3.7/dist-packages (from matplotlib->mediapipe) (1.3.1)\n",
            "Requirement already satisfied: pyparsing!=2.0.4,!=2.1.2,!=2.1.6,>=2.0.1 in /usr/local/lib/python3.7/dist-packages (from matplotlib->mediapipe) (2.4.7)\n",
            "Installing collected packages: mediapipe\n",
            "Successfully installed mediapipe-0.8.6\n"
          ],
          "name": "stdout"
        }
      ]
    },
    {
      "cell_type": "code",
      "metadata": {
        "id": "Yt81fYgE__zC"
      },
      "source": [
        "import pandas as pd\n",
        "import numpy as np\n",
        "import PIL\n",
        "from PIL import Image\n",
        "import cv2\n",
        "import os\n",
        "\n",
        "from matplotlib import pyplot as plt\n",
        "from google.colab.patches import cv2_imshow\n",
        "\n",
        "import dlib\n",
        "from skimage import io\n",
        "import matplotlib.pyplot as plt\n",
        "from numpy import asarray\n"
      ],
      "execution_count": null,
      "outputs": []
    },
    {
      "cell_type": "code",
      "metadata": {
        "colab": {
          "base_uri": "https://localhost:8080/"
        },
        "id": "MGNbDlUBweCH",
        "outputId": "9d723873-b6e5-4c09-bd4e-9066af98878e"
      },
      "source": [
        "from google.colab import drive\n",
        "drive.mount('/content/drive')"
      ],
      "execution_count": null,
      "outputs": [
        {
          "output_type": "stream",
          "text": [
            "Mounted at /content/drive\n"
          ],
          "name": "stdout"
        }
      ]
    },
    {
      "cell_type": "code",
      "metadata": {
        "id": "O8fA4EhaFb6x"
      },
      "source": [
        "imgPath=[]\n",
        "resize= 1\n",
        "frame_count_real = []\n",
        "frame_count_fake = []\n",
        "\n",
        "\n",
        "# Function to extract frames\n",
        "def FrameCapture(path,globalCount,type_dataset,label):\n",
        "    frame_count=[]\n",
        "    imgPath = []\n",
        "    temp = 0\n",
        "    v_cap = cv2.VideoCapture(path)\n",
        "    v_len = int(v_cap.get(cv2.CAP_PROP_FRAME_COUNT))\n",
        "    \n",
        "    # Pick 'n_frames' evenly spaced frames to sample\n",
        "    sample = np.linspace(0, v_len - 1, n_frames).astype(int) #Index in sample array are the frames which will be extracted.\n",
        "\n",
        "    # Loop through frames\n",
        "    \n",
        "    frames = []\n",
        "    for j in range(v_len):\n",
        "        success = v_cap.grab()\n",
        "        if j in sample:\n",
        "            # Load frame\n",
        "            success, frame = v_cap.read()\n",
        "            if not success:\n",
        "                \n",
        "                continue\n",
        "            \n",
        "            frame = Image.fromarray(frame)\n",
        "            \n",
        "            # Resize frame to desired size\n",
        "            if resize is not None:\n",
        "                frame = frame.resize([int(d * resize) for d in frame.size])\n",
        "                frame = np.asarray(frame)\n",
        "            frames.append(frame)\n",
        "    \n",
        "    # Used as counter variable\n",
        "  \n",
        "    # checks whether frames were extracted\n",
        "    count = globalCount\n",
        "    currentCount = 0\n",
        "    success = 1\n",
        "  \n",
        "    while success and currentCount<min(n_frames,len(frames)):\n",
        "  \n",
        "        \n",
        "        cv2.imwrite(\"All_Images/\" + str(type_dataset) + \"_\"+ str(label) + \"_frame%d.jpg\" % (count//n_frames),frames[int(currentCount)])\n",
        "\n",
        "        imgPath.append(\"All_Images/\" + str(type_dataset) + \"_\"+ str(label) + \"_frame%d.jpg\"%(count//n_frames))\n",
        "  \n",
        "        count += n_frames\n",
        "        currentCount += 1\n",
        "      \n",
        "    if(type_dataset==\"Test\"):\n",
        "      frame_count.append(currentCount)\n",
        "\n",
        "    return imgPath,count,frame_count\n",
        "\n"
      ],
      "execution_count": null,
      "outputs": []
    },
    {
      "cell_type": "code",
      "metadata": {
        "id": "oEGyvztH7-3g"
      },
      "source": [
        "import os\n",
        "\n",
        "\n",
        "n_frames = 32\n",
        "resize= 1\n",
        "\n",
        "def captureFrame(type_dataset,label):\n",
        "  imgPath = []\n",
        "  frame_count = []\n",
        "  count = 0\n",
        "  video_label=[]\n",
        "  for file in os.listdir(\"/content/drive/MyDrive/Deepfake_Mix/\"+str(type_dataset)+\"/\"+str(label)):\n",
        "      path=os.path.join(\"/content/drive/MyDrive/Deepfake_Mix/\"+str(type_dataset)+\"/\"+str(label), file)\n",
        "      temp , count ,x= FrameCapture(path,count,type_dataset,label)\n",
        "      imgPath = imgPath +  temp\n",
        "      if (type_dataset == 'Test'):\n",
        "        frame_count.append(x[0])\n",
        "        if label=='Fake':\n",
        "          video_label.append(0)\n",
        "        else:\n",
        "          video_label.append(1)\n",
        "  return imgPath,frame_count,video_label"
      ],
      "execution_count": null,
      "outputs": []
    },
    {
      "cell_type": "code",
      "metadata": {
        "id": "U8Jqqhj4CZM4"
      },
      "source": [
        "imgPath_train_fake,  frame_count_train_fake, _= captureFrame(\"Train\",\"Fake\")\n",
        "imgPath_train_real,  frame_count_train_real, _= captureFrame(\"Train\",\"Real\")\n",
        "imgPath_val_fake,  frame_count_val_fake, video_label_val_fake= captureFrame(\"Val\",\"Fake\")\n",
        "imgPath_val_real,  frame_count_val_real, video_label_val_real= captureFrame(\"Val\",\"Real\")\n",
        "imgPath_test_fake,  frame_count_test_fake, video_label_test_fake= captureFrame(\"Test\",\"Fake\")\n",
        "imgPath_test_real,  frame_count_test_real, video_label_test_real= captureFrame(\"Test\",\"Real\")"
      ],
      "execution_count": null,
      "outputs": []
    },
    {
      "cell_type": "code",
      "metadata": {
        "colab": {
          "base_uri": "https://localhost:8080/"
        },
        "id": "agUvBFhfCrcO",
        "outputId": "87ae92af-83e0-4d06-c328-5531052fd865"
      },
      "source": [
        "print(len(imgPath_train_fake))\n",
        "print(len(imgPath_train_real))\n",
        "print(imgPath_val_fake)\n",
        "print(imgPath_val_real)\n",
        "print(len(imgPath_test_fake))\n",
        "print(len(imgPath_test_real))"
      ],
      "execution_count": null,
      "outputs": [
        {
          "output_type": "stream",
          "text": [
            "1357\n",
            "1456\n",
            "['All_Images/Val_Fake_frame0.jpg', 'All_Images/Val_Fake_frame1.jpg', 'All_Images/Val_Fake_frame2.jpg', 'All_Images/Val_Fake_frame3.jpg', 'All_Images/Val_Fake_frame4.jpg', 'All_Images/Val_Fake_frame5.jpg', 'All_Images/Val_Fake_frame6.jpg', 'All_Images/Val_Fake_frame7.jpg', 'All_Images/Val_Fake_frame8.jpg', 'All_Images/Val_Fake_frame9.jpg', 'All_Images/Val_Fake_frame10.jpg', 'All_Images/Val_Fake_frame11.jpg', 'All_Images/Val_Fake_frame12.jpg', 'All_Images/Val_Fake_frame13.jpg', 'All_Images/Val_Fake_frame14.jpg', 'All_Images/Val_Fake_frame15.jpg', 'All_Images/Val_Fake_frame16.jpg', 'All_Images/Val_Fake_frame17.jpg', 'All_Images/Val_Fake_frame18.jpg', 'All_Images/Val_Fake_frame19.jpg', 'All_Images/Val_Fake_frame20.jpg', 'All_Images/Val_Fake_frame21.jpg', 'All_Images/Val_Fake_frame22.jpg', 'All_Images/Val_Fake_frame23.jpg', 'All_Images/Val_Fake_frame24.jpg', 'All_Images/Val_Fake_frame25.jpg', 'All_Images/Val_Fake_frame26.jpg', 'All_Images/Val_Fake_frame27.jpg', 'All_Images/Val_Fake_frame28.jpg', 'All_Images/Val_Fake_frame29.jpg', 'All_Images/Val_Fake_frame30.jpg', 'All_Images/Val_Fake_frame31.jpg', 'All_Images/Val_Fake_frame32.jpg', 'All_Images/Val_Fake_frame33.jpg', 'All_Images/Val_Fake_frame34.jpg', 'All_Images/Val_Fake_frame35.jpg', 'All_Images/Val_Fake_frame36.jpg', 'All_Images/Val_Fake_frame37.jpg', 'All_Images/Val_Fake_frame38.jpg', 'All_Images/Val_Fake_frame39.jpg', 'All_Images/Val_Fake_frame40.jpg', 'All_Images/Val_Fake_frame41.jpg', 'All_Images/Val_Fake_frame42.jpg', 'All_Images/Val_Fake_frame43.jpg', 'All_Images/Val_Fake_frame44.jpg', 'All_Images/Val_Fake_frame45.jpg', 'All_Images/Val_Fake_frame46.jpg', 'All_Images/Val_Fake_frame47.jpg', 'All_Images/Val_Fake_frame48.jpg', 'All_Images/Val_Fake_frame49.jpg', 'All_Images/Val_Fake_frame50.jpg', 'All_Images/Val_Fake_frame51.jpg', 'All_Images/Val_Fake_frame52.jpg', 'All_Images/Val_Fake_frame53.jpg', 'All_Images/Val_Fake_frame54.jpg', 'All_Images/Val_Fake_frame55.jpg', 'All_Images/Val_Fake_frame56.jpg', 'All_Images/Val_Fake_frame57.jpg', 'All_Images/Val_Fake_frame58.jpg', 'All_Images/Val_Fake_frame59.jpg', 'All_Images/Val_Fake_frame60.jpg', 'All_Images/Val_Fake_frame61.jpg', 'All_Images/Val_Fake_frame62.jpg', 'All_Images/Val_Fake_frame63.jpg', 'All_Images/Val_Fake_frame64.jpg', 'All_Images/Val_Fake_frame65.jpg', 'All_Images/Val_Fake_frame66.jpg', 'All_Images/Val_Fake_frame67.jpg', 'All_Images/Val_Fake_frame68.jpg', 'All_Images/Val_Fake_frame69.jpg', 'All_Images/Val_Fake_frame70.jpg', 'All_Images/Val_Fake_frame71.jpg', 'All_Images/Val_Fake_frame72.jpg', 'All_Images/Val_Fake_frame73.jpg', 'All_Images/Val_Fake_frame74.jpg', 'All_Images/Val_Fake_frame75.jpg', 'All_Images/Val_Fake_frame76.jpg', 'All_Images/Val_Fake_frame77.jpg', 'All_Images/Val_Fake_frame78.jpg', 'All_Images/Val_Fake_frame79.jpg', 'All_Images/Val_Fake_frame80.jpg', 'All_Images/Val_Fake_frame81.jpg', 'All_Images/Val_Fake_frame82.jpg', 'All_Images/Val_Fake_frame83.jpg', 'All_Images/Val_Fake_frame84.jpg', 'All_Images/Val_Fake_frame85.jpg', 'All_Images/Val_Fake_frame86.jpg', 'All_Images/Val_Fake_frame87.jpg', 'All_Images/Val_Fake_frame88.jpg', 'All_Images/Val_Fake_frame89.jpg', 'All_Images/Val_Fake_frame90.jpg', 'All_Images/Val_Fake_frame91.jpg', 'All_Images/Val_Fake_frame92.jpg', 'All_Images/Val_Fake_frame93.jpg', 'All_Images/Val_Fake_frame94.jpg', 'All_Images/Val_Fake_frame95.jpg', 'All_Images/Val_Fake_frame96.jpg', 'All_Images/Val_Fake_frame97.jpg', 'All_Images/Val_Fake_frame98.jpg', 'All_Images/Val_Fake_frame99.jpg', 'All_Images/Val_Fake_frame100.jpg', 'All_Images/Val_Fake_frame101.jpg', 'All_Images/Val_Fake_frame102.jpg', 'All_Images/Val_Fake_frame103.jpg', 'All_Images/Val_Fake_frame104.jpg', 'All_Images/Val_Fake_frame105.jpg', 'All_Images/Val_Fake_frame106.jpg', 'All_Images/Val_Fake_frame107.jpg', 'All_Images/Val_Fake_frame108.jpg', 'All_Images/Val_Fake_frame109.jpg', 'All_Images/Val_Fake_frame110.jpg', 'All_Images/Val_Fake_frame111.jpg', 'All_Images/Val_Fake_frame112.jpg', 'All_Images/Val_Fake_frame113.jpg', 'All_Images/Val_Fake_frame114.jpg', 'All_Images/Val_Fake_frame115.jpg', 'All_Images/Val_Fake_frame116.jpg', 'All_Images/Val_Fake_frame117.jpg', 'All_Images/Val_Fake_frame118.jpg', 'All_Images/Val_Fake_frame119.jpg', 'All_Images/Val_Fake_frame120.jpg', 'All_Images/Val_Fake_frame121.jpg', 'All_Images/Val_Fake_frame122.jpg', 'All_Images/Val_Fake_frame123.jpg', 'All_Images/Val_Fake_frame124.jpg', 'All_Images/Val_Fake_frame125.jpg', 'All_Images/Val_Fake_frame126.jpg', 'All_Images/Val_Fake_frame127.jpg', 'All_Images/Val_Fake_frame128.jpg', 'All_Images/Val_Fake_frame129.jpg', 'All_Images/Val_Fake_frame130.jpg', 'All_Images/Val_Fake_frame131.jpg', 'All_Images/Val_Fake_frame132.jpg', 'All_Images/Val_Fake_frame133.jpg', 'All_Images/Val_Fake_frame134.jpg', 'All_Images/Val_Fake_frame135.jpg', 'All_Images/Val_Fake_frame136.jpg', 'All_Images/Val_Fake_frame137.jpg', 'All_Images/Val_Fake_frame138.jpg', 'All_Images/Val_Fake_frame139.jpg', 'All_Images/Val_Fake_frame140.jpg', 'All_Images/Val_Fake_frame141.jpg', 'All_Images/Val_Fake_frame142.jpg', 'All_Images/Val_Fake_frame143.jpg', 'All_Images/Val_Fake_frame144.jpg', 'All_Images/Val_Fake_frame145.jpg', 'All_Images/Val_Fake_frame146.jpg', 'All_Images/Val_Fake_frame147.jpg', 'All_Images/Val_Fake_frame148.jpg', 'All_Images/Val_Fake_frame149.jpg', 'All_Images/Val_Fake_frame150.jpg', 'All_Images/Val_Fake_frame151.jpg', 'All_Images/Val_Fake_frame152.jpg', 'All_Images/Val_Fake_frame153.jpg', 'All_Images/Val_Fake_frame154.jpg', 'All_Images/Val_Fake_frame155.jpg', 'All_Images/Val_Fake_frame156.jpg', 'All_Images/Val_Fake_frame157.jpg', 'All_Images/Val_Fake_frame158.jpg', 'All_Images/Val_Fake_frame159.jpg', 'All_Images/Val_Fake_frame160.jpg', 'All_Images/Val_Fake_frame161.jpg', 'All_Images/Val_Fake_frame162.jpg', 'All_Images/Val_Fake_frame163.jpg', 'All_Images/Val_Fake_frame164.jpg', 'All_Images/Val_Fake_frame165.jpg', 'All_Images/Val_Fake_frame166.jpg', 'All_Images/Val_Fake_frame167.jpg', 'All_Images/Val_Fake_frame168.jpg', 'All_Images/Val_Fake_frame169.jpg', 'All_Images/Val_Fake_frame170.jpg', 'All_Images/Val_Fake_frame171.jpg', 'All_Images/Val_Fake_frame172.jpg', 'All_Images/Val_Fake_frame173.jpg', 'All_Images/Val_Fake_frame174.jpg', 'All_Images/Val_Fake_frame175.jpg', 'All_Images/Val_Fake_frame176.jpg', 'All_Images/Val_Fake_frame177.jpg', 'All_Images/Val_Fake_frame178.jpg', 'All_Images/Val_Fake_frame179.jpg', 'All_Images/Val_Fake_frame180.jpg', 'All_Images/Val_Fake_frame181.jpg', 'All_Images/Val_Fake_frame182.jpg', 'All_Images/Val_Fake_frame183.jpg', 'All_Images/Val_Fake_frame184.jpg', 'All_Images/Val_Fake_frame185.jpg', 'All_Images/Val_Fake_frame186.jpg', 'All_Images/Val_Fake_frame187.jpg', 'All_Images/Val_Fake_frame188.jpg', 'All_Images/Val_Fake_frame189.jpg', 'All_Images/Val_Fake_frame190.jpg', 'All_Images/Val_Fake_frame191.jpg', 'All_Images/Val_Fake_frame192.jpg', 'All_Images/Val_Fake_frame193.jpg', 'All_Images/Val_Fake_frame194.jpg', 'All_Images/Val_Fake_frame195.jpg', 'All_Images/Val_Fake_frame196.jpg', 'All_Images/Val_Fake_frame197.jpg', 'All_Images/Val_Fake_frame198.jpg', 'All_Images/Val_Fake_frame199.jpg', 'All_Images/Val_Fake_frame200.jpg', 'All_Images/Val_Fake_frame201.jpg', 'All_Images/Val_Fake_frame202.jpg', 'All_Images/Val_Fake_frame203.jpg', 'All_Images/Val_Fake_frame204.jpg', 'All_Images/Val_Fake_frame205.jpg', 'All_Images/Val_Fake_frame206.jpg', 'All_Images/Val_Fake_frame207.jpg', 'All_Images/Val_Fake_frame208.jpg', 'All_Images/Val_Fake_frame209.jpg', 'All_Images/Val_Fake_frame210.jpg', 'All_Images/Val_Fake_frame211.jpg', 'All_Images/Val_Fake_frame212.jpg', 'All_Images/Val_Fake_frame213.jpg', 'All_Images/Val_Fake_frame214.jpg', 'All_Images/Val_Fake_frame215.jpg', 'All_Images/Val_Fake_frame216.jpg', 'All_Images/Val_Fake_frame217.jpg', 'All_Images/Val_Fake_frame218.jpg', 'All_Images/Val_Fake_frame219.jpg', 'All_Images/Val_Fake_frame220.jpg', 'All_Images/Val_Fake_frame221.jpg', 'All_Images/Val_Fake_frame222.jpg', 'All_Images/Val_Fake_frame223.jpg', 'All_Images/Val_Fake_frame224.jpg', 'All_Images/Val_Fake_frame225.jpg', 'All_Images/Val_Fake_frame226.jpg', 'All_Images/Val_Fake_frame227.jpg', 'All_Images/Val_Fake_frame228.jpg', 'All_Images/Val_Fake_frame229.jpg', 'All_Images/Val_Fake_frame230.jpg', 'All_Images/Val_Fake_frame231.jpg', 'All_Images/Val_Fake_frame232.jpg', 'All_Images/Val_Fake_frame233.jpg', 'All_Images/Val_Fake_frame234.jpg', 'All_Images/Val_Fake_frame235.jpg', 'All_Images/Val_Fake_frame236.jpg', 'All_Images/Val_Fake_frame237.jpg', 'All_Images/Val_Fake_frame238.jpg', 'All_Images/Val_Fake_frame239.jpg', 'All_Images/Val_Fake_frame240.jpg', 'All_Images/Val_Fake_frame241.jpg', 'All_Images/Val_Fake_frame242.jpg', 'All_Images/Val_Fake_frame243.jpg', 'All_Images/Val_Fake_frame244.jpg', 'All_Images/Val_Fake_frame245.jpg', 'All_Images/Val_Fake_frame246.jpg', 'All_Images/Val_Fake_frame247.jpg', 'All_Images/Val_Fake_frame248.jpg', 'All_Images/Val_Fake_frame249.jpg', 'All_Images/Val_Fake_frame250.jpg', 'All_Images/Val_Fake_frame251.jpg', 'All_Images/Val_Fake_frame252.jpg', 'All_Images/Val_Fake_frame253.jpg', 'All_Images/Val_Fake_frame254.jpg', 'All_Images/Val_Fake_frame255.jpg', 'All_Images/Val_Fake_frame256.jpg', 'All_Images/Val_Fake_frame257.jpg', 'All_Images/Val_Fake_frame258.jpg', 'All_Images/Val_Fake_frame259.jpg', 'All_Images/Val_Fake_frame260.jpg', 'All_Images/Val_Fake_frame261.jpg', 'All_Images/Val_Fake_frame262.jpg', 'All_Images/Val_Fake_frame263.jpg', 'All_Images/Val_Fake_frame264.jpg', 'All_Images/Val_Fake_frame265.jpg', 'All_Images/Val_Fake_frame266.jpg', 'All_Images/Val_Fake_frame267.jpg', 'All_Images/Val_Fake_frame268.jpg', 'All_Images/Val_Fake_frame269.jpg', 'All_Images/Val_Fake_frame270.jpg', 'All_Images/Val_Fake_frame271.jpg', 'All_Images/Val_Fake_frame272.jpg', 'All_Images/Val_Fake_frame273.jpg', 'All_Images/Val_Fake_frame274.jpg', 'All_Images/Val_Fake_frame275.jpg', 'All_Images/Val_Fake_frame276.jpg', 'All_Images/Val_Fake_frame277.jpg', 'All_Images/Val_Fake_frame278.jpg', 'All_Images/Val_Fake_frame279.jpg', 'All_Images/Val_Fake_frame280.jpg', 'All_Images/Val_Fake_frame281.jpg', 'All_Images/Val_Fake_frame282.jpg', 'All_Images/Val_Fake_frame283.jpg', 'All_Images/Val_Fake_frame284.jpg', 'All_Images/Val_Fake_frame285.jpg', 'All_Images/Val_Fake_frame286.jpg', 'All_Images/Val_Fake_frame287.jpg', 'All_Images/Val_Fake_frame288.jpg', 'All_Images/Val_Fake_frame289.jpg', 'All_Images/Val_Fake_frame290.jpg', 'All_Images/Val_Fake_frame291.jpg', 'All_Images/Val_Fake_frame292.jpg', 'All_Images/Val_Fake_frame293.jpg', 'All_Images/Val_Fake_frame294.jpg', 'All_Images/Val_Fake_frame295.jpg', 'All_Images/Val_Fake_frame296.jpg', 'All_Images/Val_Fake_frame297.jpg', 'All_Images/Val_Fake_frame298.jpg', 'All_Images/Val_Fake_frame299.jpg', 'All_Images/Val_Fake_frame300.jpg', 'All_Images/Val_Fake_frame301.jpg', 'All_Images/Val_Fake_frame302.jpg', 'All_Images/Val_Fake_frame303.jpg', 'All_Images/Val_Fake_frame304.jpg', 'All_Images/Val_Fake_frame305.jpg', 'All_Images/Val_Fake_frame306.jpg', 'All_Images/Val_Fake_frame307.jpg', 'All_Images/Val_Fake_frame308.jpg', 'All_Images/Val_Fake_frame309.jpg', 'All_Images/Val_Fake_frame310.jpg', 'All_Images/Val_Fake_frame311.jpg', 'All_Images/Val_Fake_frame312.jpg', 'All_Images/Val_Fake_frame313.jpg', 'All_Images/Val_Fake_frame314.jpg', 'All_Images/Val_Fake_frame315.jpg', 'All_Images/Val_Fake_frame316.jpg', 'All_Images/Val_Fake_frame317.jpg', 'All_Images/Val_Fake_frame318.jpg', 'All_Images/Val_Fake_frame319.jpg', 'All_Images/Val_Fake_frame320.jpg', 'All_Images/Val_Fake_frame321.jpg', 'All_Images/Val_Fake_frame322.jpg', 'All_Images/Val_Fake_frame323.jpg', 'All_Images/Val_Fake_frame324.jpg', 'All_Images/Val_Fake_frame325.jpg', 'All_Images/Val_Fake_frame326.jpg', 'All_Images/Val_Fake_frame327.jpg', 'All_Images/Val_Fake_frame328.jpg', 'All_Images/Val_Fake_frame329.jpg', 'All_Images/Val_Fake_frame330.jpg', 'All_Images/Val_Fake_frame331.jpg', 'All_Images/Val_Fake_frame332.jpg', 'All_Images/Val_Fake_frame333.jpg', 'All_Images/Val_Fake_frame334.jpg', 'All_Images/Val_Fake_frame335.jpg', 'All_Images/Val_Fake_frame336.jpg', 'All_Images/Val_Fake_frame337.jpg', 'All_Images/Val_Fake_frame338.jpg', 'All_Images/Val_Fake_frame339.jpg', 'All_Images/Val_Fake_frame340.jpg', 'All_Images/Val_Fake_frame341.jpg', 'All_Images/Val_Fake_frame342.jpg', 'All_Images/Val_Fake_frame343.jpg', 'All_Images/Val_Fake_frame344.jpg', 'All_Images/Val_Fake_frame345.jpg', 'All_Images/Val_Fake_frame346.jpg', 'All_Images/Val_Fake_frame347.jpg', 'All_Images/Val_Fake_frame348.jpg', 'All_Images/Val_Fake_frame349.jpg', 'All_Images/Val_Fake_frame350.jpg', 'All_Images/Val_Fake_frame351.jpg', 'All_Images/Val_Fake_frame352.jpg', 'All_Images/Val_Fake_frame353.jpg', 'All_Images/Val_Fake_frame354.jpg', 'All_Images/Val_Fake_frame355.jpg', 'All_Images/Val_Fake_frame356.jpg', 'All_Images/Val_Fake_frame357.jpg', 'All_Images/Val_Fake_frame358.jpg', 'All_Images/Val_Fake_frame359.jpg', 'All_Images/Val_Fake_frame360.jpg', 'All_Images/Val_Fake_frame361.jpg', 'All_Images/Val_Fake_frame362.jpg', 'All_Images/Val_Fake_frame363.jpg', 'All_Images/Val_Fake_frame364.jpg', 'All_Images/Val_Fake_frame365.jpg', 'All_Images/Val_Fake_frame366.jpg', 'All_Images/Val_Fake_frame367.jpg', 'All_Images/Val_Fake_frame368.jpg', 'All_Images/Val_Fake_frame369.jpg', 'All_Images/Val_Fake_frame370.jpg', 'All_Images/Val_Fake_frame371.jpg', 'All_Images/Val_Fake_frame372.jpg', 'All_Images/Val_Fake_frame373.jpg', 'All_Images/Val_Fake_frame374.jpg', 'All_Images/Val_Fake_frame375.jpg', 'All_Images/Val_Fake_frame376.jpg', 'All_Images/Val_Fake_frame377.jpg', 'All_Images/Val_Fake_frame378.jpg', 'All_Images/Val_Fake_frame379.jpg', 'All_Images/Val_Fake_frame380.jpg', 'All_Images/Val_Fake_frame381.jpg', 'All_Images/Val_Fake_frame382.jpg', 'All_Images/Val_Fake_frame383.jpg', 'All_Images/Val_Fake_frame384.jpg', 'All_Images/Val_Fake_frame385.jpg', 'All_Images/Val_Fake_frame386.jpg', 'All_Images/Val_Fake_frame387.jpg', 'All_Images/Val_Fake_frame388.jpg', 'All_Images/Val_Fake_frame389.jpg', 'All_Images/Val_Fake_frame390.jpg', 'All_Images/Val_Fake_frame391.jpg', 'All_Images/Val_Fake_frame392.jpg', 'All_Images/Val_Fake_frame393.jpg', 'All_Images/Val_Fake_frame394.jpg', 'All_Images/Val_Fake_frame395.jpg', 'All_Images/Val_Fake_frame396.jpg', 'All_Images/Val_Fake_frame397.jpg', 'All_Images/Val_Fake_frame398.jpg', 'All_Images/Val_Fake_frame399.jpg', 'All_Images/Val_Fake_frame400.jpg', 'All_Images/Val_Fake_frame401.jpg', 'All_Images/Val_Fake_frame402.jpg', 'All_Images/Val_Fake_frame403.jpg', 'All_Images/Val_Fake_frame404.jpg', 'All_Images/Val_Fake_frame405.jpg', 'All_Images/Val_Fake_frame406.jpg', 'All_Images/Val_Fake_frame407.jpg', 'All_Images/Val_Fake_frame408.jpg', 'All_Images/Val_Fake_frame409.jpg', 'All_Images/Val_Fake_frame410.jpg', 'All_Images/Val_Fake_frame411.jpg', 'All_Images/Val_Fake_frame412.jpg', 'All_Images/Val_Fake_frame413.jpg', 'All_Images/Val_Fake_frame414.jpg', 'All_Images/Val_Fake_frame415.jpg', 'All_Images/Val_Fake_frame416.jpg', 'All_Images/Val_Fake_frame417.jpg', 'All_Images/Val_Fake_frame418.jpg', 'All_Images/Val_Fake_frame419.jpg', 'All_Images/Val_Fake_frame420.jpg', 'All_Images/Val_Fake_frame421.jpg', 'All_Images/Val_Fake_frame422.jpg', 'All_Images/Val_Fake_frame423.jpg', 'All_Images/Val_Fake_frame424.jpg', 'All_Images/Val_Fake_frame425.jpg', 'All_Images/Val_Fake_frame426.jpg', 'All_Images/Val_Fake_frame427.jpg', 'All_Images/Val_Fake_frame428.jpg', 'All_Images/Val_Fake_frame429.jpg', 'All_Images/Val_Fake_frame430.jpg', 'All_Images/Val_Fake_frame431.jpg', 'All_Images/Val_Fake_frame432.jpg', 'All_Images/Val_Fake_frame433.jpg', 'All_Images/Val_Fake_frame434.jpg', 'All_Images/Val_Fake_frame435.jpg', 'All_Images/Val_Fake_frame436.jpg', 'All_Images/Val_Fake_frame437.jpg', 'All_Images/Val_Fake_frame438.jpg', 'All_Images/Val_Fake_frame439.jpg', 'All_Images/Val_Fake_frame440.jpg', 'All_Images/Val_Fake_frame441.jpg', 'All_Images/Val_Fake_frame442.jpg', 'All_Images/Val_Fake_frame443.jpg', 'All_Images/Val_Fake_frame444.jpg', 'All_Images/Val_Fake_frame445.jpg', 'All_Images/Val_Fake_frame446.jpg', 'All_Images/Val_Fake_frame447.jpg', 'All_Images/Val_Fake_frame448.jpg', 'All_Images/Val_Fake_frame449.jpg', 'All_Images/Val_Fake_frame450.jpg', 'All_Images/Val_Fake_frame451.jpg', 'All_Images/Val_Fake_frame452.jpg', 'All_Images/Val_Fake_frame453.jpg', 'All_Images/Val_Fake_frame454.jpg', 'All_Images/Val_Fake_frame455.jpg', 'All_Images/Val_Fake_frame456.jpg', 'All_Images/Val_Fake_frame457.jpg', 'All_Images/Val_Fake_frame458.jpg', 'All_Images/Val_Fake_frame459.jpg', 'All_Images/Val_Fake_frame460.jpg', 'All_Images/Val_Fake_frame461.jpg', 'All_Images/Val_Fake_frame462.jpg', 'All_Images/Val_Fake_frame463.jpg', 'All_Images/Val_Fake_frame464.jpg', 'All_Images/Val_Fake_frame465.jpg', 'All_Images/Val_Fake_frame466.jpg', 'All_Images/Val_Fake_frame467.jpg', 'All_Images/Val_Fake_frame468.jpg', 'All_Images/Val_Fake_frame469.jpg', 'All_Images/Val_Fake_frame470.jpg', 'All_Images/Val_Fake_frame471.jpg', 'All_Images/Val_Fake_frame472.jpg', 'All_Images/Val_Fake_frame473.jpg', 'All_Images/Val_Fake_frame474.jpg', 'All_Images/Val_Fake_frame475.jpg', 'All_Images/Val_Fake_frame476.jpg', 'All_Images/Val_Fake_frame477.jpg', 'All_Images/Val_Fake_frame478.jpg', 'All_Images/Val_Fake_frame479.jpg', 'All_Images/Val_Fake_frame480.jpg', 'All_Images/Val_Fake_frame481.jpg', 'All_Images/Val_Fake_frame482.jpg', 'All_Images/Val_Fake_frame483.jpg', 'All_Images/Val_Fake_frame484.jpg', 'All_Images/Val_Fake_frame485.jpg', 'All_Images/Val_Fake_frame486.jpg', 'All_Images/Val_Fake_frame487.jpg', 'All_Images/Val_Fake_frame488.jpg', 'All_Images/Val_Fake_frame489.jpg', 'All_Images/Val_Fake_frame490.jpg', 'All_Images/Val_Fake_frame491.jpg', 'All_Images/Val_Fake_frame492.jpg', 'All_Images/Val_Fake_frame493.jpg', 'All_Images/Val_Fake_frame494.jpg', 'All_Images/Val_Fake_frame495.jpg', 'All_Images/Val_Fake_frame496.jpg', 'All_Images/Val_Fake_frame497.jpg', 'All_Images/Val_Fake_frame498.jpg', 'All_Images/Val_Fake_frame499.jpg', 'All_Images/Val_Fake_frame500.jpg', 'All_Images/Val_Fake_frame501.jpg', 'All_Images/Val_Fake_frame502.jpg', 'All_Images/Val_Fake_frame503.jpg', 'All_Images/Val_Fake_frame504.jpg', 'All_Images/Val_Fake_frame505.jpg', 'All_Images/Val_Fake_frame506.jpg', 'All_Images/Val_Fake_frame507.jpg', 'All_Images/Val_Fake_frame508.jpg', 'All_Images/Val_Fake_frame509.jpg', 'All_Images/Val_Fake_frame510.jpg', 'All_Images/Val_Fake_frame511.jpg', 'All_Images/Val_Fake_frame512.jpg', 'All_Images/Val_Fake_frame513.jpg', 'All_Images/Val_Fake_frame514.jpg', 'All_Images/Val_Fake_frame515.jpg', 'All_Images/Val_Fake_frame516.jpg', 'All_Images/Val_Fake_frame517.jpg', 'All_Images/Val_Fake_frame518.jpg', 'All_Images/Val_Fake_frame519.jpg', 'All_Images/Val_Fake_frame520.jpg', 'All_Images/Val_Fake_frame521.jpg', 'All_Images/Val_Fake_frame522.jpg', 'All_Images/Val_Fake_frame523.jpg', 'All_Images/Val_Fake_frame524.jpg', 'All_Images/Val_Fake_frame525.jpg', 'All_Images/Val_Fake_frame526.jpg', 'All_Images/Val_Fake_frame527.jpg', 'All_Images/Val_Fake_frame528.jpg', 'All_Images/Val_Fake_frame529.jpg', 'All_Images/Val_Fake_frame530.jpg', 'All_Images/Val_Fake_frame531.jpg', 'All_Images/Val_Fake_frame532.jpg', 'All_Images/Val_Fake_frame533.jpg', 'All_Images/Val_Fake_frame534.jpg', 'All_Images/Val_Fake_frame535.jpg', 'All_Images/Val_Fake_frame536.jpg', 'All_Images/Val_Fake_frame537.jpg', 'All_Images/Val_Fake_frame538.jpg', 'All_Images/Val_Fake_frame539.jpg', 'All_Images/Val_Fake_frame540.jpg', 'All_Images/Val_Fake_frame541.jpg', 'All_Images/Val_Fake_frame542.jpg', 'All_Images/Val_Fake_frame543.jpg', 'All_Images/Val_Fake_frame544.jpg', 'All_Images/Val_Fake_frame545.jpg', 'All_Images/Val_Fake_frame546.jpg', 'All_Images/Val_Fake_frame547.jpg', 'All_Images/Val_Fake_frame548.jpg', 'All_Images/Val_Fake_frame549.jpg', 'All_Images/Val_Fake_frame550.jpg', 'All_Images/Val_Fake_frame551.jpg', 'All_Images/Val_Fake_frame552.jpg', 'All_Images/Val_Fake_frame553.jpg', 'All_Images/Val_Fake_frame554.jpg', 'All_Images/Val_Fake_frame555.jpg', 'All_Images/Val_Fake_frame556.jpg', 'All_Images/Val_Fake_frame557.jpg', 'All_Images/Val_Fake_frame558.jpg', 'All_Images/Val_Fake_frame559.jpg', 'All_Images/Val_Fake_frame560.jpg', 'All_Images/Val_Fake_frame561.jpg', 'All_Images/Val_Fake_frame562.jpg', 'All_Images/Val_Fake_frame563.jpg', 'All_Images/Val_Fake_frame564.jpg', 'All_Images/Val_Fake_frame565.jpg', 'All_Images/Val_Fake_frame566.jpg', 'All_Images/Val_Fake_frame567.jpg', 'All_Images/Val_Fake_frame568.jpg', 'All_Images/Val_Fake_frame569.jpg', 'All_Images/Val_Fake_frame570.jpg', 'All_Images/Val_Fake_frame571.jpg', 'All_Images/Val_Fake_frame572.jpg', 'All_Images/Val_Fake_frame573.jpg', 'All_Images/Val_Fake_frame574.jpg', 'All_Images/Val_Fake_frame575.jpg', 'All_Images/Val_Fake_frame576.jpg', 'All_Images/Val_Fake_frame577.jpg', 'All_Images/Val_Fake_frame578.jpg', 'All_Images/Val_Fake_frame579.jpg', 'All_Images/Val_Fake_frame580.jpg', 'All_Images/Val_Fake_frame581.jpg', 'All_Images/Val_Fake_frame582.jpg', 'All_Images/Val_Fake_frame583.jpg', 'All_Images/Val_Fake_frame584.jpg', 'All_Images/Val_Fake_frame585.jpg', 'All_Images/Val_Fake_frame586.jpg', 'All_Images/Val_Fake_frame587.jpg', 'All_Images/Val_Fake_frame588.jpg', 'All_Images/Val_Fake_frame589.jpg', 'All_Images/Val_Fake_frame590.jpg', 'All_Images/Val_Fake_frame591.jpg', 'All_Images/Val_Fake_frame592.jpg', 'All_Images/Val_Fake_frame593.jpg', 'All_Images/Val_Fake_frame594.jpg', 'All_Images/Val_Fake_frame595.jpg', 'All_Images/Val_Fake_frame596.jpg', 'All_Images/Val_Fake_frame597.jpg', 'All_Images/Val_Fake_frame598.jpg', 'All_Images/Val_Fake_frame599.jpg', 'All_Images/Val_Fake_frame600.jpg', 'All_Images/Val_Fake_frame601.jpg', 'All_Images/Val_Fake_frame602.jpg', 'All_Images/Val_Fake_frame603.jpg', 'All_Images/Val_Fake_frame604.jpg', 'All_Images/Val_Fake_frame605.jpg', 'All_Images/Val_Fake_frame606.jpg', 'All_Images/Val_Fake_frame607.jpg', 'All_Images/Val_Fake_frame608.jpg', 'All_Images/Val_Fake_frame609.jpg', 'All_Images/Val_Fake_frame610.jpg', 'All_Images/Val_Fake_frame611.jpg', 'All_Images/Val_Fake_frame612.jpg', 'All_Images/Val_Fake_frame613.jpg', 'All_Images/Val_Fake_frame614.jpg', 'All_Images/Val_Fake_frame615.jpg', 'All_Images/Val_Fake_frame616.jpg', 'All_Images/Val_Fake_frame617.jpg', 'All_Images/Val_Fake_frame618.jpg', 'All_Images/Val_Fake_frame619.jpg', 'All_Images/Val_Fake_frame620.jpg', 'All_Images/Val_Fake_frame621.jpg', 'All_Images/Val_Fake_frame622.jpg', 'All_Images/Val_Fake_frame623.jpg', 'All_Images/Val_Fake_frame624.jpg', 'All_Images/Val_Fake_frame625.jpg', 'All_Images/Val_Fake_frame626.jpg', 'All_Images/Val_Fake_frame627.jpg', 'All_Images/Val_Fake_frame628.jpg', 'All_Images/Val_Fake_frame629.jpg', 'All_Images/Val_Fake_frame630.jpg', 'All_Images/Val_Fake_frame631.jpg', 'All_Images/Val_Fake_frame632.jpg', 'All_Images/Val_Fake_frame633.jpg', 'All_Images/Val_Fake_frame634.jpg', 'All_Images/Val_Fake_frame635.jpg', 'All_Images/Val_Fake_frame636.jpg', 'All_Images/Val_Fake_frame637.jpg', 'All_Images/Val_Fake_frame638.jpg', 'All_Images/Val_Fake_frame639.jpg', 'All_Images/Val_Fake_frame640.jpg', 'All_Images/Val_Fake_frame641.jpg', 'All_Images/Val_Fake_frame642.jpg', 'All_Images/Val_Fake_frame643.jpg', 'All_Images/Val_Fake_frame644.jpg', 'All_Images/Val_Fake_frame645.jpg', 'All_Images/Val_Fake_frame646.jpg', 'All_Images/Val_Fake_frame647.jpg', 'All_Images/Val_Fake_frame648.jpg', 'All_Images/Val_Fake_frame649.jpg', 'All_Images/Val_Fake_frame650.jpg', 'All_Images/Val_Fake_frame651.jpg', 'All_Images/Val_Fake_frame652.jpg', 'All_Images/Val_Fake_frame653.jpg', 'All_Images/Val_Fake_frame654.jpg', 'All_Images/Val_Fake_frame655.jpg', 'All_Images/Val_Fake_frame656.jpg', 'All_Images/Val_Fake_frame657.jpg']\n",
            "['All_Images/Val_Real_frame0.jpg', 'All_Images/Val_Real_frame1.jpg', 'All_Images/Val_Real_frame2.jpg', 'All_Images/Val_Real_frame3.jpg', 'All_Images/Val_Real_frame4.jpg', 'All_Images/Val_Real_frame5.jpg', 'All_Images/Val_Real_frame6.jpg', 'All_Images/Val_Real_frame7.jpg', 'All_Images/Val_Real_frame8.jpg', 'All_Images/Val_Real_frame9.jpg', 'All_Images/Val_Real_frame10.jpg', 'All_Images/Val_Real_frame11.jpg', 'All_Images/Val_Real_frame12.jpg', 'All_Images/Val_Real_frame13.jpg', 'All_Images/Val_Real_frame14.jpg', 'All_Images/Val_Real_frame15.jpg', 'All_Images/Val_Real_frame16.jpg', 'All_Images/Val_Real_frame17.jpg', 'All_Images/Val_Real_frame18.jpg', 'All_Images/Val_Real_frame19.jpg', 'All_Images/Val_Real_frame20.jpg', 'All_Images/Val_Real_frame21.jpg', 'All_Images/Val_Real_frame22.jpg', 'All_Images/Val_Real_frame23.jpg', 'All_Images/Val_Real_frame24.jpg', 'All_Images/Val_Real_frame25.jpg', 'All_Images/Val_Real_frame26.jpg', 'All_Images/Val_Real_frame27.jpg', 'All_Images/Val_Real_frame28.jpg', 'All_Images/Val_Real_frame29.jpg', 'All_Images/Val_Real_frame30.jpg', 'All_Images/Val_Real_frame31.jpg', 'All_Images/Val_Real_frame32.jpg', 'All_Images/Val_Real_frame33.jpg', 'All_Images/Val_Real_frame34.jpg', 'All_Images/Val_Real_frame35.jpg', 'All_Images/Val_Real_frame36.jpg', 'All_Images/Val_Real_frame37.jpg', 'All_Images/Val_Real_frame38.jpg', 'All_Images/Val_Real_frame39.jpg', 'All_Images/Val_Real_frame40.jpg', 'All_Images/Val_Real_frame41.jpg', 'All_Images/Val_Real_frame42.jpg', 'All_Images/Val_Real_frame43.jpg', 'All_Images/Val_Real_frame44.jpg', 'All_Images/Val_Real_frame45.jpg', 'All_Images/Val_Real_frame46.jpg', 'All_Images/Val_Real_frame47.jpg', 'All_Images/Val_Real_frame48.jpg', 'All_Images/Val_Real_frame49.jpg', 'All_Images/Val_Real_frame50.jpg', 'All_Images/Val_Real_frame51.jpg', 'All_Images/Val_Real_frame52.jpg', 'All_Images/Val_Real_frame53.jpg', 'All_Images/Val_Real_frame54.jpg', 'All_Images/Val_Real_frame55.jpg', 'All_Images/Val_Real_frame56.jpg', 'All_Images/Val_Real_frame57.jpg', 'All_Images/Val_Real_frame58.jpg', 'All_Images/Val_Real_frame59.jpg', 'All_Images/Val_Real_frame60.jpg', 'All_Images/Val_Real_frame61.jpg', 'All_Images/Val_Real_frame62.jpg', 'All_Images/Val_Real_frame63.jpg', 'All_Images/Val_Real_frame64.jpg', 'All_Images/Val_Real_frame65.jpg', 'All_Images/Val_Real_frame66.jpg', 'All_Images/Val_Real_frame67.jpg', 'All_Images/Val_Real_frame68.jpg', 'All_Images/Val_Real_frame69.jpg', 'All_Images/Val_Real_frame70.jpg', 'All_Images/Val_Real_frame71.jpg', 'All_Images/Val_Real_frame72.jpg', 'All_Images/Val_Real_frame73.jpg', 'All_Images/Val_Real_frame74.jpg', 'All_Images/Val_Real_frame75.jpg', 'All_Images/Val_Real_frame76.jpg', 'All_Images/Val_Real_frame77.jpg', 'All_Images/Val_Real_frame78.jpg', 'All_Images/Val_Real_frame79.jpg', 'All_Images/Val_Real_frame80.jpg', 'All_Images/Val_Real_frame81.jpg', 'All_Images/Val_Real_frame82.jpg', 'All_Images/Val_Real_frame83.jpg', 'All_Images/Val_Real_frame84.jpg', 'All_Images/Val_Real_frame85.jpg', 'All_Images/Val_Real_frame86.jpg', 'All_Images/Val_Real_frame87.jpg', 'All_Images/Val_Real_frame88.jpg', 'All_Images/Val_Real_frame89.jpg', 'All_Images/Val_Real_frame90.jpg', 'All_Images/Val_Real_frame91.jpg', 'All_Images/Val_Real_frame92.jpg', 'All_Images/Val_Real_frame93.jpg', 'All_Images/Val_Real_frame94.jpg', 'All_Images/Val_Real_frame95.jpg', 'All_Images/Val_Real_frame96.jpg', 'All_Images/Val_Real_frame97.jpg', 'All_Images/Val_Real_frame98.jpg', 'All_Images/Val_Real_frame99.jpg', 'All_Images/Val_Real_frame100.jpg', 'All_Images/Val_Real_frame101.jpg', 'All_Images/Val_Real_frame102.jpg', 'All_Images/Val_Real_frame103.jpg', 'All_Images/Val_Real_frame104.jpg', 'All_Images/Val_Real_frame105.jpg', 'All_Images/Val_Real_frame106.jpg', 'All_Images/Val_Real_frame107.jpg', 'All_Images/Val_Real_frame108.jpg', 'All_Images/Val_Real_frame109.jpg', 'All_Images/Val_Real_frame110.jpg', 'All_Images/Val_Real_frame111.jpg', 'All_Images/Val_Real_frame112.jpg', 'All_Images/Val_Real_frame113.jpg', 'All_Images/Val_Real_frame114.jpg', 'All_Images/Val_Real_frame115.jpg', 'All_Images/Val_Real_frame116.jpg', 'All_Images/Val_Real_frame117.jpg', 'All_Images/Val_Real_frame118.jpg', 'All_Images/Val_Real_frame119.jpg', 'All_Images/Val_Real_frame120.jpg', 'All_Images/Val_Real_frame121.jpg', 'All_Images/Val_Real_frame122.jpg', 'All_Images/Val_Real_frame123.jpg', 'All_Images/Val_Real_frame124.jpg', 'All_Images/Val_Real_frame125.jpg', 'All_Images/Val_Real_frame126.jpg', 'All_Images/Val_Real_frame127.jpg', 'All_Images/Val_Real_frame128.jpg', 'All_Images/Val_Real_frame129.jpg', 'All_Images/Val_Real_frame130.jpg', 'All_Images/Val_Real_frame131.jpg', 'All_Images/Val_Real_frame132.jpg', 'All_Images/Val_Real_frame133.jpg', 'All_Images/Val_Real_frame134.jpg', 'All_Images/Val_Real_frame135.jpg', 'All_Images/Val_Real_frame136.jpg', 'All_Images/Val_Real_frame137.jpg', 'All_Images/Val_Real_frame138.jpg', 'All_Images/Val_Real_frame139.jpg', 'All_Images/Val_Real_frame140.jpg', 'All_Images/Val_Real_frame141.jpg', 'All_Images/Val_Real_frame142.jpg', 'All_Images/Val_Real_frame143.jpg', 'All_Images/Val_Real_frame144.jpg', 'All_Images/Val_Real_frame145.jpg', 'All_Images/Val_Real_frame146.jpg', 'All_Images/Val_Real_frame147.jpg', 'All_Images/Val_Real_frame148.jpg', 'All_Images/Val_Real_frame149.jpg', 'All_Images/Val_Real_frame150.jpg', 'All_Images/Val_Real_frame151.jpg', 'All_Images/Val_Real_frame152.jpg', 'All_Images/Val_Real_frame153.jpg', 'All_Images/Val_Real_frame154.jpg', 'All_Images/Val_Real_frame155.jpg', 'All_Images/Val_Real_frame156.jpg', 'All_Images/Val_Real_frame157.jpg', 'All_Images/Val_Real_frame158.jpg', 'All_Images/Val_Real_frame159.jpg', 'All_Images/Val_Real_frame160.jpg', 'All_Images/Val_Real_frame161.jpg', 'All_Images/Val_Real_frame162.jpg', 'All_Images/Val_Real_frame163.jpg', 'All_Images/Val_Real_frame164.jpg', 'All_Images/Val_Real_frame165.jpg', 'All_Images/Val_Real_frame166.jpg', 'All_Images/Val_Real_frame167.jpg', 'All_Images/Val_Real_frame168.jpg', 'All_Images/Val_Real_frame169.jpg', 'All_Images/Val_Real_frame170.jpg', 'All_Images/Val_Real_frame171.jpg', 'All_Images/Val_Real_frame172.jpg', 'All_Images/Val_Real_frame173.jpg', 'All_Images/Val_Real_frame174.jpg', 'All_Images/Val_Real_frame175.jpg', 'All_Images/Val_Real_frame176.jpg', 'All_Images/Val_Real_frame177.jpg', 'All_Images/Val_Real_frame178.jpg', 'All_Images/Val_Real_frame179.jpg', 'All_Images/Val_Real_frame180.jpg', 'All_Images/Val_Real_frame181.jpg', 'All_Images/Val_Real_frame182.jpg', 'All_Images/Val_Real_frame183.jpg', 'All_Images/Val_Real_frame184.jpg', 'All_Images/Val_Real_frame185.jpg', 'All_Images/Val_Real_frame186.jpg', 'All_Images/Val_Real_frame187.jpg', 'All_Images/Val_Real_frame188.jpg', 'All_Images/Val_Real_frame189.jpg', 'All_Images/Val_Real_frame190.jpg', 'All_Images/Val_Real_frame191.jpg', 'All_Images/Val_Real_frame192.jpg', 'All_Images/Val_Real_frame193.jpg', 'All_Images/Val_Real_frame194.jpg', 'All_Images/Val_Real_frame195.jpg', 'All_Images/Val_Real_frame196.jpg', 'All_Images/Val_Real_frame197.jpg', 'All_Images/Val_Real_frame198.jpg', 'All_Images/Val_Real_frame199.jpg', 'All_Images/Val_Real_frame200.jpg', 'All_Images/Val_Real_frame201.jpg', 'All_Images/Val_Real_frame202.jpg', 'All_Images/Val_Real_frame203.jpg', 'All_Images/Val_Real_frame204.jpg', 'All_Images/Val_Real_frame205.jpg', 'All_Images/Val_Real_frame206.jpg', 'All_Images/Val_Real_frame207.jpg', 'All_Images/Val_Real_frame208.jpg', 'All_Images/Val_Real_frame209.jpg', 'All_Images/Val_Real_frame210.jpg', 'All_Images/Val_Real_frame211.jpg', 'All_Images/Val_Real_frame212.jpg', 'All_Images/Val_Real_frame213.jpg', 'All_Images/Val_Real_frame214.jpg', 'All_Images/Val_Real_frame215.jpg', 'All_Images/Val_Real_frame216.jpg', 'All_Images/Val_Real_frame217.jpg', 'All_Images/Val_Real_frame218.jpg', 'All_Images/Val_Real_frame219.jpg', 'All_Images/Val_Real_frame220.jpg', 'All_Images/Val_Real_frame221.jpg', 'All_Images/Val_Real_frame222.jpg', 'All_Images/Val_Real_frame223.jpg', 'All_Images/Val_Real_frame224.jpg', 'All_Images/Val_Real_frame225.jpg', 'All_Images/Val_Real_frame226.jpg', 'All_Images/Val_Real_frame227.jpg', 'All_Images/Val_Real_frame228.jpg', 'All_Images/Val_Real_frame229.jpg', 'All_Images/Val_Real_frame230.jpg', 'All_Images/Val_Real_frame231.jpg', 'All_Images/Val_Real_frame232.jpg', 'All_Images/Val_Real_frame233.jpg', 'All_Images/Val_Real_frame234.jpg', 'All_Images/Val_Real_frame235.jpg', 'All_Images/Val_Real_frame236.jpg', 'All_Images/Val_Real_frame237.jpg', 'All_Images/Val_Real_frame238.jpg', 'All_Images/Val_Real_frame239.jpg', 'All_Images/Val_Real_frame240.jpg', 'All_Images/Val_Real_frame241.jpg', 'All_Images/Val_Real_frame242.jpg', 'All_Images/Val_Real_frame243.jpg', 'All_Images/Val_Real_frame244.jpg', 'All_Images/Val_Real_frame245.jpg', 'All_Images/Val_Real_frame246.jpg', 'All_Images/Val_Real_frame247.jpg', 'All_Images/Val_Real_frame248.jpg', 'All_Images/Val_Real_frame249.jpg', 'All_Images/Val_Real_frame250.jpg', 'All_Images/Val_Real_frame251.jpg', 'All_Images/Val_Real_frame252.jpg', 'All_Images/Val_Real_frame253.jpg', 'All_Images/Val_Real_frame254.jpg', 'All_Images/Val_Real_frame255.jpg', 'All_Images/Val_Real_frame256.jpg', 'All_Images/Val_Real_frame257.jpg', 'All_Images/Val_Real_frame258.jpg', 'All_Images/Val_Real_frame259.jpg', 'All_Images/Val_Real_frame260.jpg', 'All_Images/Val_Real_frame261.jpg', 'All_Images/Val_Real_frame262.jpg', 'All_Images/Val_Real_frame263.jpg', 'All_Images/Val_Real_frame264.jpg', 'All_Images/Val_Real_frame265.jpg', 'All_Images/Val_Real_frame266.jpg', 'All_Images/Val_Real_frame267.jpg', 'All_Images/Val_Real_frame268.jpg', 'All_Images/Val_Real_frame269.jpg', 'All_Images/Val_Real_frame270.jpg', 'All_Images/Val_Real_frame271.jpg', 'All_Images/Val_Real_frame272.jpg', 'All_Images/Val_Real_frame273.jpg', 'All_Images/Val_Real_frame274.jpg', 'All_Images/Val_Real_frame275.jpg', 'All_Images/Val_Real_frame276.jpg', 'All_Images/Val_Real_frame277.jpg', 'All_Images/Val_Real_frame278.jpg', 'All_Images/Val_Real_frame279.jpg', 'All_Images/Val_Real_frame280.jpg', 'All_Images/Val_Real_frame281.jpg', 'All_Images/Val_Real_frame282.jpg', 'All_Images/Val_Real_frame283.jpg', 'All_Images/Val_Real_frame284.jpg', 'All_Images/Val_Real_frame285.jpg', 'All_Images/Val_Real_frame286.jpg', 'All_Images/Val_Real_frame287.jpg', 'All_Images/Val_Real_frame288.jpg', 'All_Images/Val_Real_frame289.jpg', 'All_Images/Val_Real_frame290.jpg', 'All_Images/Val_Real_frame291.jpg', 'All_Images/Val_Real_frame292.jpg', 'All_Images/Val_Real_frame293.jpg', 'All_Images/Val_Real_frame294.jpg', 'All_Images/Val_Real_frame295.jpg', 'All_Images/Val_Real_frame296.jpg', 'All_Images/Val_Real_frame297.jpg', 'All_Images/Val_Real_frame298.jpg', 'All_Images/Val_Real_frame299.jpg', 'All_Images/Val_Real_frame300.jpg', 'All_Images/Val_Real_frame301.jpg', 'All_Images/Val_Real_frame302.jpg', 'All_Images/Val_Real_frame303.jpg', 'All_Images/Val_Real_frame304.jpg', 'All_Images/Val_Real_frame305.jpg', 'All_Images/Val_Real_frame306.jpg', 'All_Images/Val_Real_frame307.jpg', 'All_Images/Val_Real_frame308.jpg', 'All_Images/Val_Real_frame309.jpg', 'All_Images/Val_Real_frame310.jpg', 'All_Images/Val_Real_frame311.jpg', 'All_Images/Val_Real_frame312.jpg', 'All_Images/Val_Real_frame313.jpg', 'All_Images/Val_Real_frame314.jpg', 'All_Images/Val_Real_frame315.jpg', 'All_Images/Val_Real_frame316.jpg', 'All_Images/Val_Real_frame317.jpg', 'All_Images/Val_Real_frame318.jpg', 'All_Images/Val_Real_frame319.jpg', 'All_Images/Val_Real_frame320.jpg', 'All_Images/Val_Real_frame321.jpg', 'All_Images/Val_Real_frame322.jpg', 'All_Images/Val_Real_frame323.jpg', 'All_Images/Val_Real_frame324.jpg', 'All_Images/Val_Real_frame325.jpg', 'All_Images/Val_Real_frame326.jpg', 'All_Images/Val_Real_frame327.jpg', 'All_Images/Val_Real_frame328.jpg', 'All_Images/Val_Real_frame329.jpg', 'All_Images/Val_Real_frame330.jpg', 'All_Images/Val_Real_frame331.jpg', 'All_Images/Val_Real_frame332.jpg', 'All_Images/Val_Real_frame333.jpg', 'All_Images/Val_Real_frame334.jpg', 'All_Images/Val_Real_frame335.jpg', 'All_Images/Val_Real_frame336.jpg', 'All_Images/Val_Real_frame337.jpg', 'All_Images/Val_Real_frame338.jpg', 'All_Images/Val_Real_frame339.jpg', 'All_Images/Val_Real_frame340.jpg', 'All_Images/Val_Real_frame341.jpg', 'All_Images/Val_Real_frame342.jpg', 'All_Images/Val_Real_frame343.jpg', 'All_Images/Val_Real_frame344.jpg', 'All_Images/Val_Real_frame345.jpg', 'All_Images/Val_Real_frame346.jpg', 'All_Images/Val_Real_frame347.jpg', 'All_Images/Val_Real_frame348.jpg', 'All_Images/Val_Real_frame349.jpg', 'All_Images/Val_Real_frame350.jpg', 'All_Images/Val_Real_frame351.jpg', 'All_Images/Val_Real_frame352.jpg', 'All_Images/Val_Real_frame353.jpg', 'All_Images/Val_Real_frame354.jpg', 'All_Images/Val_Real_frame355.jpg', 'All_Images/Val_Real_frame356.jpg', 'All_Images/Val_Real_frame357.jpg', 'All_Images/Val_Real_frame358.jpg', 'All_Images/Val_Real_frame359.jpg', 'All_Images/Val_Real_frame360.jpg', 'All_Images/Val_Real_frame361.jpg', 'All_Images/Val_Real_frame362.jpg', 'All_Images/Val_Real_frame363.jpg', 'All_Images/Val_Real_frame364.jpg', 'All_Images/Val_Real_frame365.jpg', 'All_Images/Val_Real_frame366.jpg', 'All_Images/Val_Real_frame367.jpg', 'All_Images/Val_Real_frame368.jpg', 'All_Images/Val_Real_frame369.jpg', 'All_Images/Val_Real_frame370.jpg', 'All_Images/Val_Real_frame371.jpg', 'All_Images/Val_Real_frame372.jpg', 'All_Images/Val_Real_frame373.jpg', 'All_Images/Val_Real_frame374.jpg', 'All_Images/Val_Real_frame375.jpg', 'All_Images/Val_Real_frame376.jpg', 'All_Images/Val_Real_frame377.jpg', 'All_Images/Val_Real_frame378.jpg', 'All_Images/Val_Real_frame379.jpg', 'All_Images/Val_Real_frame380.jpg', 'All_Images/Val_Real_frame381.jpg', 'All_Images/Val_Real_frame382.jpg', 'All_Images/Val_Real_frame383.jpg', 'All_Images/Val_Real_frame384.jpg', 'All_Images/Val_Real_frame385.jpg', 'All_Images/Val_Real_frame386.jpg', 'All_Images/Val_Real_frame387.jpg', 'All_Images/Val_Real_frame388.jpg', 'All_Images/Val_Real_frame389.jpg', 'All_Images/Val_Real_frame390.jpg', 'All_Images/Val_Real_frame391.jpg', 'All_Images/Val_Real_frame392.jpg', 'All_Images/Val_Real_frame393.jpg', 'All_Images/Val_Real_frame394.jpg', 'All_Images/Val_Real_frame395.jpg', 'All_Images/Val_Real_frame396.jpg', 'All_Images/Val_Real_frame397.jpg', 'All_Images/Val_Real_frame398.jpg', 'All_Images/Val_Real_frame399.jpg', 'All_Images/Val_Real_frame400.jpg', 'All_Images/Val_Real_frame401.jpg', 'All_Images/Val_Real_frame402.jpg', 'All_Images/Val_Real_frame403.jpg', 'All_Images/Val_Real_frame404.jpg', 'All_Images/Val_Real_frame405.jpg', 'All_Images/Val_Real_frame406.jpg', 'All_Images/Val_Real_frame407.jpg', 'All_Images/Val_Real_frame408.jpg', 'All_Images/Val_Real_frame409.jpg', 'All_Images/Val_Real_frame410.jpg', 'All_Images/Val_Real_frame411.jpg', 'All_Images/Val_Real_frame412.jpg', 'All_Images/Val_Real_frame413.jpg', 'All_Images/Val_Real_frame414.jpg', 'All_Images/Val_Real_frame415.jpg', 'All_Images/Val_Real_frame416.jpg', 'All_Images/Val_Real_frame417.jpg', 'All_Images/Val_Real_frame418.jpg', 'All_Images/Val_Real_frame419.jpg', 'All_Images/Val_Real_frame420.jpg', 'All_Images/Val_Real_frame421.jpg', 'All_Images/Val_Real_frame422.jpg', 'All_Images/Val_Real_frame423.jpg', 'All_Images/Val_Real_frame424.jpg', 'All_Images/Val_Real_frame425.jpg', 'All_Images/Val_Real_frame426.jpg', 'All_Images/Val_Real_frame427.jpg', 'All_Images/Val_Real_frame428.jpg', 'All_Images/Val_Real_frame429.jpg', 'All_Images/Val_Real_frame430.jpg', 'All_Images/Val_Real_frame431.jpg', 'All_Images/Val_Real_frame432.jpg', 'All_Images/Val_Real_frame433.jpg', 'All_Images/Val_Real_frame434.jpg', 'All_Images/Val_Real_frame435.jpg', 'All_Images/Val_Real_frame436.jpg', 'All_Images/Val_Real_frame437.jpg', 'All_Images/Val_Real_frame438.jpg', 'All_Images/Val_Real_frame439.jpg', 'All_Images/Val_Real_frame440.jpg', 'All_Images/Val_Real_frame441.jpg', 'All_Images/Val_Real_frame442.jpg', 'All_Images/Val_Real_frame443.jpg', 'All_Images/Val_Real_frame444.jpg', 'All_Images/Val_Real_frame445.jpg', 'All_Images/Val_Real_frame446.jpg', 'All_Images/Val_Real_frame447.jpg', 'All_Images/Val_Real_frame448.jpg', 'All_Images/Val_Real_frame449.jpg', 'All_Images/Val_Real_frame450.jpg', 'All_Images/Val_Real_frame451.jpg', 'All_Images/Val_Real_frame452.jpg', 'All_Images/Val_Real_frame453.jpg', 'All_Images/Val_Real_frame454.jpg', 'All_Images/Val_Real_frame455.jpg', 'All_Images/Val_Real_frame456.jpg', 'All_Images/Val_Real_frame457.jpg', 'All_Images/Val_Real_frame458.jpg', 'All_Images/Val_Real_frame459.jpg', 'All_Images/Val_Real_frame460.jpg', 'All_Images/Val_Real_frame461.jpg', 'All_Images/Val_Real_frame462.jpg', 'All_Images/Val_Real_frame463.jpg', 'All_Images/Val_Real_frame464.jpg', 'All_Images/Val_Real_frame465.jpg', 'All_Images/Val_Real_frame466.jpg', 'All_Images/Val_Real_frame467.jpg', 'All_Images/Val_Real_frame468.jpg', 'All_Images/Val_Real_frame469.jpg', 'All_Images/Val_Real_frame470.jpg', 'All_Images/Val_Real_frame471.jpg', 'All_Images/Val_Real_frame472.jpg', 'All_Images/Val_Real_frame473.jpg', 'All_Images/Val_Real_frame474.jpg', 'All_Images/Val_Real_frame475.jpg', 'All_Images/Val_Real_frame476.jpg', 'All_Images/Val_Real_frame477.jpg', 'All_Images/Val_Real_frame478.jpg', 'All_Images/Val_Real_frame479.jpg', 'All_Images/Val_Real_frame480.jpg', 'All_Images/Val_Real_frame481.jpg', 'All_Images/Val_Real_frame482.jpg', 'All_Images/Val_Real_frame483.jpg', 'All_Images/Val_Real_frame484.jpg', 'All_Images/Val_Real_frame485.jpg', 'All_Images/Val_Real_frame486.jpg', 'All_Images/Val_Real_frame487.jpg', 'All_Images/Val_Real_frame488.jpg', 'All_Images/Val_Real_frame489.jpg', 'All_Images/Val_Real_frame490.jpg', 'All_Images/Val_Real_frame491.jpg', 'All_Images/Val_Real_frame492.jpg', 'All_Images/Val_Real_frame493.jpg', 'All_Images/Val_Real_frame494.jpg', 'All_Images/Val_Real_frame495.jpg', 'All_Images/Val_Real_frame496.jpg', 'All_Images/Val_Real_frame497.jpg', 'All_Images/Val_Real_frame498.jpg', 'All_Images/Val_Real_frame499.jpg', 'All_Images/Val_Real_frame500.jpg', 'All_Images/Val_Real_frame501.jpg', 'All_Images/Val_Real_frame502.jpg', 'All_Images/Val_Real_frame503.jpg', 'All_Images/Val_Real_frame504.jpg', 'All_Images/Val_Real_frame505.jpg', 'All_Images/Val_Real_frame506.jpg', 'All_Images/Val_Real_frame507.jpg', 'All_Images/Val_Real_frame508.jpg', 'All_Images/Val_Real_frame509.jpg', 'All_Images/Val_Real_frame510.jpg', 'All_Images/Val_Real_frame511.jpg', 'All_Images/Val_Real_frame512.jpg', 'All_Images/Val_Real_frame513.jpg', 'All_Images/Val_Real_frame514.jpg', 'All_Images/Val_Real_frame515.jpg', 'All_Images/Val_Real_frame516.jpg', 'All_Images/Val_Real_frame517.jpg', 'All_Images/Val_Real_frame518.jpg', 'All_Images/Val_Real_frame519.jpg', 'All_Images/Val_Real_frame520.jpg', 'All_Images/Val_Real_frame521.jpg', 'All_Images/Val_Real_frame522.jpg', 'All_Images/Val_Real_frame523.jpg', 'All_Images/Val_Real_frame524.jpg', 'All_Images/Val_Real_frame525.jpg', 'All_Images/Val_Real_frame526.jpg', 'All_Images/Val_Real_frame527.jpg', 'All_Images/Val_Real_frame528.jpg', 'All_Images/Val_Real_frame529.jpg', 'All_Images/Val_Real_frame530.jpg', 'All_Images/Val_Real_frame531.jpg', 'All_Images/Val_Real_frame532.jpg', 'All_Images/Val_Real_frame533.jpg', 'All_Images/Val_Real_frame534.jpg', 'All_Images/Val_Real_frame535.jpg', 'All_Images/Val_Real_frame536.jpg', 'All_Images/Val_Real_frame537.jpg', 'All_Images/Val_Real_frame538.jpg', 'All_Images/Val_Real_frame539.jpg', 'All_Images/Val_Real_frame540.jpg', 'All_Images/Val_Real_frame541.jpg', 'All_Images/Val_Real_frame542.jpg', 'All_Images/Val_Real_frame543.jpg', 'All_Images/Val_Real_frame544.jpg', 'All_Images/Val_Real_frame545.jpg', 'All_Images/Val_Real_frame546.jpg', 'All_Images/Val_Real_frame547.jpg', 'All_Images/Val_Real_frame548.jpg', 'All_Images/Val_Real_frame549.jpg', 'All_Images/Val_Real_frame550.jpg', 'All_Images/Val_Real_frame551.jpg', 'All_Images/Val_Real_frame552.jpg', 'All_Images/Val_Real_frame553.jpg', 'All_Images/Val_Real_frame554.jpg', 'All_Images/Val_Real_frame555.jpg', 'All_Images/Val_Real_frame556.jpg', 'All_Images/Val_Real_frame557.jpg', 'All_Images/Val_Real_frame558.jpg', 'All_Images/Val_Real_frame559.jpg', 'All_Images/Val_Real_frame560.jpg', 'All_Images/Val_Real_frame561.jpg', 'All_Images/Val_Real_frame562.jpg', 'All_Images/Val_Real_frame563.jpg', 'All_Images/Val_Real_frame564.jpg', 'All_Images/Val_Real_frame565.jpg', 'All_Images/Val_Real_frame566.jpg', 'All_Images/Val_Real_frame567.jpg', 'All_Images/Val_Real_frame568.jpg', 'All_Images/Val_Real_frame569.jpg', 'All_Images/Val_Real_frame570.jpg', 'All_Images/Val_Real_frame571.jpg', 'All_Images/Val_Real_frame572.jpg', 'All_Images/Val_Real_frame573.jpg', 'All_Images/Val_Real_frame574.jpg', 'All_Images/Val_Real_frame575.jpg', 'All_Images/Val_Real_frame576.jpg', 'All_Images/Val_Real_frame577.jpg', 'All_Images/Val_Real_frame578.jpg', 'All_Images/Val_Real_frame579.jpg', 'All_Images/Val_Real_frame580.jpg', 'All_Images/Val_Real_frame581.jpg', 'All_Images/Val_Real_frame582.jpg', 'All_Images/Val_Real_frame583.jpg', 'All_Images/Val_Real_frame584.jpg', 'All_Images/Val_Real_frame585.jpg', 'All_Images/Val_Real_frame586.jpg', 'All_Images/Val_Real_frame587.jpg', 'All_Images/Val_Real_frame588.jpg', 'All_Images/Val_Real_frame589.jpg', 'All_Images/Val_Real_frame590.jpg', 'All_Images/Val_Real_frame591.jpg', 'All_Images/Val_Real_frame592.jpg', 'All_Images/Val_Real_frame593.jpg', 'All_Images/Val_Real_frame594.jpg', 'All_Images/Val_Real_frame595.jpg', 'All_Images/Val_Real_frame596.jpg', 'All_Images/Val_Real_frame597.jpg', 'All_Images/Val_Real_frame598.jpg', 'All_Images/Val_Real_frame599.jpg', 'All_Images/Val_Real_frame600.jpg', 'All_Images/Val_Real_frame601.jpg', 'All_Images/Val_Real_frame602.jpg', 'All_Images/Val_Real_frame603.jpg', 'All_Images/Val_Real_frame604.jpg', 'All_Images/Val_Real_frame605.jpg', 'All_Images/Val_Real_frame606.jpg', 'All_Images/Val_Real_frame607.jpg', 'All_Images/Val_Real_frame608.jpg', 'All_Images/Val_Real_frame609.jpg', 'All_Images/Val_Real_frame610.jpg', 'All_Images/Val_Real_frame611.jpg', 'All_Images/Val_Real_frame612.jpg', 'All_Images/Val_Real_frame613.jpg', 'All_Images/Val_Real_frame614.jpg', 'All_Images/Val_Real_frame615.jpg', 'All_Images/Val_Real_frame616.jpg', 'All_Images/Val_Real_frame617.jpg', 'All_Images/Val_Real_frame618.jpg', 'All_Images/Val_Real_frame619.jpg', 'All_Images/Val_Real_frame620.jpg', 'All_Images/Val_Real_frame621.jpg', 'All_Images/Val_Real_frame622.jpg', 'All_Images/Val_Real_frame623.jpg', 'All_Images/Val_Real_frame624.jpg', 'All_Images/Val_Real_frame625.jpg', 'All_Images/Val_Real_frame626.jpg', 'All_Images/Val_Real_frame627.jpg', 'All_Images/Val_Real_frame628.jpg', 'All_Images/Val_Real_frame629.jpg', 'All_Images/Val_Real_frame630.jpg', 'All_Images/Val_Real_frame631.jpg', 'All_Images/Val_Real_frame632.jpg', 'All_Images/Val_Real_frame633.jpg', 'All_Images/Val_Real_frame634.jpg', 'All_Images/Val_Real_frame635.jpg', 'All_Images/Val_Real_frame636.jpg', 'All_Images/Val_Real_frame637.jpg', 'All_Images/Val_Real_frame638.jpg', 'All_Images/Val_Real_frame639.jpg', 'All_Images/Val_Real_frame640.jpg', 'All_Images/Val_Real_frame641.jpg', 'All_Images/Val_Real_frame642.jpg', 'All_Images/Val_Real_frame643.jpg', 'All_Images/Val_Real_frame644.jpg', 'All_Images/Val_Real_frame645.jpg', 'All_Images/Val_Real_frame646.jpg', 'All_Images/Val_Real_frame647.jpg', 'All_Images/Val_Real_frame648.jpg', 'All_Images/Val_Real_frame649.jpg', 'All_Images/Val_Real_frame650.jpg', 'All_Images/Val_Real_frame651.jpg', 'All_Images/Val_Real_frame652.jpg', 'All_Images/Val_Real_frame653.jpg', 'All_Images/Val_Real_frame654.jpg', 'All_Images/Val_Real_frame655.jpg', 'All_Images/Val_Real_frame656.jpg', 'All_Images/Val_Real_frame657.jpg', 'All_Images/Val_Real_frame658.jpg', 'All_Images/Val_Real_frame659.jpg', 'All_Images/Val_Real_frame660.jpg', 'All_Images/Val_Real_frame661.jpg', 'All_Images/Val_Real_frame662.jpg', 'All_Images/Val_Real_frame663.jpg', 'All_Images/Val_Real_frame664.jpg', 'All_Images/Val_Real_frame665.jpg', 'All_Images/Val_Real_frame666.jpg', 'All_Images/Val_Real_frame667.jpg', 'All_Images/Val_Real_frame668.jpg', 'All_Images/Val_Real_frame669.jpg', 'All_Images/Val_Real_frame670.jpg', 'All_Images/Val_Real_frame671.jpg', 'All_Images/Val_Real_frame672.jpg', 'All_Images/Val_Real_frame673.jpg', 'All_Images/Val_Real_frame674.jpg', 'All_Images/Val_Real_frame675.jpg', 'All_Images/Val_Real_frame676.jpg', 'All_Images/Val_Real_frame677.jpg', 'All_Images/Val_Real_frame678.jpg', 'All_Images/Val_Real_frame679.jpg', 'All_Images/Val_Real_frame680.jpg', 'All_Images/Val_Real_frame681.jpg', 'All_Images/Val_Real_frame682.jpg', 'All_Images/Val_Real_frame683.jpg', 'All_Images/Val_Real_frame684.jpg', 'All_Images/Val_Real_frame685.jpg', 'All_Images/Val_Real_frame686.jpg', 'All_Images/Val_Real_frame687.jpg', 'All_Images/Val_Real_frame688.jpg', 'All_Images/Val_Real_frame689.jpg', 'All_Images/Val_Real_frame690.jpg', 'All_Images/Val_Real_frame691.jpg', 'All_Images/Val_Real_frame692.jpg', 'All_Images/Val_Real_frame693.jpg', 'All_Images/Val_Real_frame694.jpg', 'All_Images/Val_Real_frame695.jpg', 'All_Images/Val_Real_frame696.jpg', 'All_Images/Val_Real_frame697.jpg', 'All_Images/Val_Real_frame698.jpg', 'All_Images/Val_Real_frame699.jpg', 'All_Images/Val_Real_frame700.jpg', 'All_Images/Val_Real_frame701.jpg', 'All_Images/Val_Real_frame702.jpg', 'All_Images/Val_Real_frame703.jpg', 'All_Images/Val_Real_frame704.jpg', 'All_Images/Val_Real_frame705.jpg', 'All_Images/Val_Real_frame706.jpg', 'All_Images/Val_Real_frame707.jpg', 'All_Images/Val_Real_frame708.jpg', 'All_Images/Val_Real_frame709.jpg', 'All_Images/Val_Real_frame710.jpg', 'All_Images/Val_Real_frame711.jpg', 'All_Images/Val_Real_frame712.jpg', 'All_Images/Val_Real_frame713.jpg', 'All_Images/Val_Real_frame714.jpg', 'All_Images/Val_Real_frame715.jpg', 'All_Images/Val_Real_frame716.jpg', 'All_Images/Val_Real_frame717.jpg', 'All_Images/Val_Real_frame718.jpg', 'All_Images/Val_Real_frame719.jpg', 'All_Images/Val_Real_frame720.jpg', 'All_Images/Val_Real_frame721.jpg', 'All_Images/Val_Real_frame722.jpg', 'All_Images/Val_Real_frame723.jpg', 'All_Images/Val_Real_frame724.jpg', 'All_Images/Val_Real_frame725.jpg', 'All_Images/Val_Real_frame726.jpg', 'All_Images/Val_Real_frame727.jpg', 'All_Images/Val_Real_frame728.jpg', 'All_Images/Val_Real_frame729.jpg', 'All_Images/Val_Real_frame730.jpg', 'All_Images/Val_Real_frame731.jpg', 'All_Images/Val_Real_frame732.jpg', 'All_Images/Val_Real_frame733.jpg', 'All_Images/Val_Real_frame734.jpg', 'All_Images/Val_Real_frame735.jpg']\n",
            "671\n",
            "735\n"
          ],
          "name": "stdout"
        }
      ]
    },
    {
      "cell_type": "markdown",
      "metadata": {
        "id": "ZxrChNngViDH"
      },
      "source": [
        "#DLIB"
      ]
    },
    {
      "cell_type": "code",
      "metadata": {
        "id": "gGiz09A4P66M"
      },
      "source": [
        "\n",
        "\n",
        "\n",
        "def detect_faces(image):\n",
        "\n",
        "    # Create a face detector\n",
        "    face_detector = dlib.get_frontal_face_detector()\n",
        "\n",
        "    # Run detector and get bounding boxes of the faces on image.\n",
        "    detected_faces = face_detector(image, 1)\n",
        "    face_frames = [(x.left(), x.top(),\n",
        "                    x.right(), x.bottom()) for x in detected_faces]\n",
        "\n",
        "    return face_frames\n",
        "\n",
        "def faceDetect_DLIB(type_dataset,label,imgPath):\n",
        "  processedImagePath_dlib = []\n",
        "  count = 0\n",
        "  for i in range(len(imgPath)):\n",
        "      # Load image\n",
        "      img_path = imgPath[i]\n",
        "      image = io.imread(img_path)\n",
        "\n",
        "      # Detect faces\n",
        "      detected_faces = detect_faces(image)\n",
        "\n",
        "      # Crop faces and plot\n",
        "      for n, face_rect in enumerate(detected_faces):\n",
        "          face = Image.fromarray(image).crop(face_rect)\n",
        "          final_face = asarray(face)\n",
        "          resize_face = cv2.resize(final_face,(64, 64), interpolation=cv2.INTER_CUBIC)\n",
        "          finalImg = cv2.cvtColor(resize_face, cv2.COLOR_BGR2RGB)\n",
        "          cv2.imwrite(\"DLIB\" + \"_\" + str(type_dataset) + \"_\" + str(label) + \"/dlib%d.jpg\" % count,finalImg)\n",
        "          \n",
        "          processedImagePath_dlib.append(\"DLIB\" + \"_\" + str(type_dataset) + \"_\" + str(label) + \"/dlib%d.jpg\" %count)\n",
        "          \n",
        "\n",
        "          count += 1\n",
        "  return processedImagePath_dlib\n"
      ],
      "execution_count": null,
      "outputs": []
    },
    {
      "cell_type": "code",
      "metadata": {
        "id": "KiaWCUfB3mff"
      },
      "source": [
        "processedImagePath_Train_Fake_dlib = faceDetect_DLIB(\"Train\",\"Fake\",imgPath_train_fake)"
      ],
      "execution_count": null,
      "outputs": []
    },
    {
      "cell_type": "code",
      "metadata": {
        "colab": {
          "base_uri": "https://localhost:8080/"
        },
        "id": "g1aE9Zi_grwg",
        "outputId": "7acd2397-5cf1-4b7b-e1fb-33d5856678ac"
      },
      "source": [
        "print(processedImagePath_Train_Fake_dlib)"
      ],
      "execution_count": null,
      "outputs": [
        {
          "output_type": "stream",
          "text": [
            "['DLIB_Train_Fake/dlib0.jpg', 'DLIB_Train_Fake/dlib1.jpg', 'DLIB_Train_Fake/dlib2.jpg', 'DLIB_Train_Fake/dlib3.jpg', 'DLIB_Train_Fake/dlib4.jpg', 'DLIB_Train_Fake/dlib5.jpg', 'DLIB_Train_Fake/dlib6.jpg', 'DLIB_Train_Fake/dlib7.jpg', 'DLIB_Train_Fake/dlib8.jpg', 'DLIB_Train_Fake/dlib9.jpg', 'DLIB_Train_Fake/dlib10.jpg', 'DLIB_Train_Fake/dlib11.jpg', 'DLIB_Train_Fake/dlib12.jpg', 'DLIB_Train_Fake/dlib13.jpg', 'DLIB_Train_Fake/dlib14.jpg', 'DLIB_Train_Fake/dlib15.jpg', 'DLIB_Train_Fake/dlib16.jpg', 'DLIB_Train_Fake/dlib17.jpg', 'DLIB_Train_Fake/dlib18.jpg', 'DLIB_Train_Fake/dlib19.jpg', 'DLIB_Train_Fake/dlib20.jpg', 'DLIB_Train_Fake/dlib21.jpg', 'DLIB_Train_Fake/dlib22.jpg', 'DLIB_Train_Fake/dlib23.jpg', 'DLIB_Train_Fake/dlib24.jpg', 'DLIB_Train_Fake/dlib25.jpg', 'DLIB_Train_Fake/dlib26.jpg', 'DLIB_Train_Fake/dlib27.jpg', 'DLIB_Train_Fake/dlib28.jpg', 'DLIB_Train_Fake/dlib29.jpg', 'DLIB_Train_Fake/dlib30.jpg', 'DLIB_Train_Fake/dlib31.jpg', 'DLIB_Train_Fake/dlib32.jpg', 'DLIB_Train_Fake/dlib33.jpg', 'DLIB_Train_Fake/dlib34.jpg', 'DLIB_Train_Fake/dlib35.jpg', 'DLIB_Train_Fake/dlib36.jpg', 'DLIB_Train_Fake/dlib37.jpg', 'DLIB_Train_Fake/dlib38.jpg', 'DLIB_Train_Fake/dlib39.jpg', 'DLIB_Train_Fake/dlib40.jpg', 'DLIB_Train_Fake/dlib41.jpg', 'DLIB_Train_Fake/dlib42.jpg', 'DLIB_Train_Fake/dlib43.jpg', 'DLIB_Train_Fake/dlib44.jpg', 'DLIB_Train_Fake/dlib45.jpg', 'DLIB_Train_Fake/dlib46.jpg', 'DLIB_Train_Fake/dlib47.jpg', 'DLIB_Train_Fake/dlib48.jpg', 'DLIB_Train_Fake/dlib49.jpg', 'DLIB_Train_Fake/dlib50.jpg', 'DLIB_Train_Fake/dlib51.jpg', 'DLIB_Train_Fake/dlib52.jpg', 'DLIB_Train_Fake/dlib53.jpg', 'DLIB_Train_Fake/dlib54.jpg', 'DLIB_Train_Fake/dlib55.jpg', 'DLIB_Train_Fake/dlib56.jpg', 'DLIB_Train_Fake/dlib57.jpg', 'DLIB_Train_Fake/dlib58.jpg', 'DLIB_Train_Fake/dlib59.jpg', 'DLIB_Train_Fake/dlib60.jpg', 'DLIB_Train_Fake/dlib61.jpg', 'DLIB_Train_Fake/dlib62.jpg', 'DLIB_Train_Fake/dlib63.jpg', 'DLIB_Train_Fake/dlib64.jpg', 'DLIB_Train_Fake/dlib65.jpg', 'DLIB_Train_Fake/dlib66.jpg', 'DLIB_Train_Fake/dlib67.jpg', 'DLIB_Train_Fake/dlib68.jpg', 'DLIB_Train_Fake/dlib69.jpg', 'DLIB_Train_Fake/dlib70.jpg', 'DLIB_Train_Fake/dlib71.jpg', 'DLIB_Train_Fake/dlib72.jpg', 'DLIB_Train_Fake/dlib73.jpg', 'DLIB_Train_Fake/dlib74.jpg', 'DLIB_Train_Fake/dlib75.jpg', 'DLIB_Train_Fake/dlib76.jpg', 'DLIB_Train_Fake/dlib77.jpg', 'DLIB_Train_Fake/dlib78.jpg', 'DLIB_Train_Fake/dlib79.jpg', 'DLIB_Train_Fake/dlib80.jpg', 'DLIB_Train_Fake/dlib81.jpg', 'DLIB_Train_Fake/dlib82.jpg', 'DLIB_Train_Fake/dlib83.jpg', 'DLIB_Train_Fake/dlib84.jpg', 'DLIB_Train_Fake/dlib85.jpg', 'DLIB_Train_Fake/dlib86.jpg', 'DLIB_Train_Fake/dlib87.jpg', 'DLIB_Train_Fake/dlib88.jpg', 'DLIB_Train_Fake/dlib89.jpg', 'DLIB_Train_Fake/dlib90.jpg', 'DLIB_Train_Fake/dlib91.jpg', 'DLIB_Train_Fake/dlib92.jpg', 'DLIB_Train_Fake/dlib93.jpg', 'DLIB_Train_Fake/dlib94.jpg', 'DLIB_Train_Fake/dlib95.jpg', 'DLIB_Train_Fake/dlib96.jpg', 'DLIB_Train_Fake/dlib97.jpg', 'DLIB_Train_Fake/dlib98.jpg', 'DLIB_Train_Fake/dlib99.jpg', 'DLIB_Train_Fake/dlib100.jpg', 'DLIB_Train_Fake/dlib101.jpg', 'DLIB_Train_Fake/dlib102.jpg', 'DLIB_Train_Fake/dlib103.jpg', 'DLIB_Train_Fake/dlib104.jpg', 'DLIB_Train_Fake/dlib105.jpg', 'DLIB_Train_Fake/dlib106.jpg', 'DLIB_Train_Fake/dlib107.jpg', 'DLIB_Train_Fake/dlib108.jpg', 'DLIB_Train_Fake/dlib109.jpg', 'DLIB_Train_Fake/dlib110.jpg', 'DLIB_Train_Fake/dlib111.jpg', 'DLIB_Train_Fake/dlib112.jpg', 'DLIB_Train_Fake/dlib113.jpg', 'DLIB_Train_Fake/dlib114.jpg', 'DLIB_Train_Fake/dlib115.jpg', 'DLIB_Train_Fake/dlib116.jpg', 'DLIB_Train_Fake/dlib117.jpg', 'DLIB_Train_Fake/dlib118.jpg', 'DLIB_Train_Fake/dlib119.jpg', 'DLIB_Train_Fake/dlib120.jpg', 'DLIB_Train_Fake/dlib121.jpg', 'DLIB_Train_Fake/dlib122.jpg', 'DLIB_Train_Fake/dlib123.jpg', 'DLIB_Train_Fake/dlib124.jpg', 'DLIB_Train_Fake/dlib125.jpg', 'DLIB_Train_Fake/dlib126.jpg', 'DLIB_Train_Fake/dlib127.jpg', 'DLIB_Train_Fake/dlib128.jpg', 'DLIB_Train_Fake/dlib129.jpg', 'DLIB_Train_Fake/dlib130.jpg', 'DLIB_Train_Fake/dlib131.jpg', 'DLIB_Train_Fake/dlib132.jpg', 'DLIB_Train_Fake/dlib133.jpg', 'DLIB_Train_Fake/dlib134.jpg', 'DLIB_Train_Fake/dlib135.jpg', 'DLIB_Train_Fake/dlib136.jpg', 'DLIB_Train_Fake/dlib137.jpg', 'DLIB_Train_Fake/dlib138.jpg', 'DLIB_Train_Fake/dlib139.jpg', 'DLIB_Train_Fake/dlib140.jpg', 'DLIB_Train_Fake/dlib141.jpg', 'DLIB_Train_Fake/dlib142.jpg', 'DLIB_Train_Fake/dlib143.jpg', 'DLIB_Train_Fake/dlib144.jpg', 'DLIB_Train_Fake/dlib145.jpg', 'DLIB_Train_Fake/dlib146.jpg', 'DLIB_Train_Fake/dlib147.jpg', 'DLIB_Train_Fake/dlib148.jpg', 'DLIB_Train_Fake/dlib149.jpg', 'DLIB_Train_Fake/dlib150.jpg', 'DLIB_Train_Fake/dlib151.jpg', 'DLIB_Train_Fake/dlib152.jpg', 'DLIB_Train_Fake/dlib153.jpg', 'DLIB_Train_Fake/dlib154.jpg', 'DLIB_Train_Fake/dlib155.jpg', 'DLIB_Train_Fake/dlib156.jpg', 'DLIB_Train_Fake/dlib157.jpg', 'DLIB_Train_Fake/dlib158.jpg', 'DLIB_Train_Fake/dlib159.jpg', 'DLIB_Train_Fake/dlib160.jpg', 'DLIB_Train_Fake/dlib161.jpg', 'DLIB_Train_Fake/dlib162.jpg', 'DLIB_Train_Fake/dlib163.jpg', 'DLIB_Train_Fake/dlib164.jpg', 'DLIB_Train_Fake/dlib165.jpg', 'DLIB_Train_Fake/dlib166.jpg', 'DLIB_Train_Fake/dlib167.jpg', 'DLIB_Train_Fake/dlib168.jpg', 'DLIB_Train_Fake/dlib169.jpg', 'DLIB_Train_Fake/dlib170.jpg', 'DLIB_Train_Fake/dlib171.jpg', 'DLIB_Train_Fake/dlib172.jpg', 'DLIB_Train_Fake/dlib173.jpg', 'DLIB_Train_Fake/dlib174.jpg', 'DLIB_Train_Fake/dlib175.jpg', 'DLIB_Train_Fake/dlib176.jpg', 'DLIB_Train_Fake/dlib177.jpg', 'DLIB_Train_Fake/dlib178.jpg', 'DLIB_Train_Fake/dlib179.jpg', 'DLIB_Train_Fake/dlib180.jpg', 'DLIB_Train_Fake/dlib181.jpg', 'DLIB_Train_Fake/dlib182.jpg', 'DLIB_Train_Fake/dlib183.jpg', 'DLIB_Train_Fake/dlib184.jpg', 'DLIB_Train_Fake/dlib185.jpg', 'DLIB_Train_Fake/dlib186.jpg', 'DLIB_Train_Fake/dlib187.jpg', 'DLIB_Train_Fake/dlib188.jpg', 'DLIB_Train_Fake/dlib189.jpg', 'DLIB_Train_Fake/dlib190.jpg', 'DLIB_Train_Fake/dlib191.jpg', 'DLIB_Train_Fake/dlib192.jpg', 'DLIB_Train_Fake/dlib193.jpg', 'DLIB_Train_Fake/dlib194.jpg', 'DLIB_Train_Fake/dlib195.jpg', 'DLIB_Train_Fake/dlib196.jpg', 'DLIB_Train_Fake/dlib197.jpg', 'DLIB_Train_Fake/dlib198.jpg', 'DLIB_Train_Fake/dlib199.jpg', 'DLIB_Train_Fake/dlib200.jpg', 'DLIB_Train_Fake/dlib201.jpg', 'DLIB_Train_Fake/dlib202.jpg', 'DLIB_Train_Fake/dlib203.jpg', 'DLIB_Train_Fake/dlib204.jpg', 'DLIB_Train_Fake/dlib205.jpg', 'DLIB_Train_Fake/dlib206.jpg', 'DLIB_Train_Fake/dlib207.jpg', 'DLIB_Train_Fake/dlib208.jpg', 'DLIB_Train_Fake/dlib209.jpg', 'DLIB_Train_Fake/dlib210.jpg', 'DLIB_Train_Fake/dlib211.jpg', 'DLIB_Train_Fake/dlib212.jpg', 'DLIB_Train_Fake/dlib213.jpg', 'DLIB_Train_Fake/dlib214.jpg', 'DLIB_Train_Fake/dlib215.jpg', 'DLIB_Train_Fake/dlib216.jpg', 'DLIB_Train_Fake/dlib217.jpg', 'DLIB_Train_Fake/dlib218.jpg', 'DLIB_Train_Fake/dlib219.jpg', 'DLIB_Train_Fake/dlib220.jpg', 'DLIB_Train_Fake/dlib221.jpg', 'DLIB_Train_Fake/dlib222.jpg', 'DLIB_Train_Fake/dlib223.jpg', 'DLIB_Train_Fake/dlib224.jpg', 'DLIB_Train_Fake/dlib225.jpg', 'DLIB_Train_Fake/dlib226.jpg', 'DLIB_Train_Fake/dlib227.jpg', 'DLIB_Train_Fake/dlib228.jpg', 'DLIB_Train_Fake/dlib229.jpg', 'DLIB_Train_Fake/dlib230.jpg', 'DLIB_Train_Fake/dlib231.jpg', 'DLIB_Train_Fake/dlib232.jpg', 'DLIB_Train_Fake/dlib233.jpg', 'DLIB_Train_Fake/dlib234.jpg', 'DLIB_Train_Fake/dlib235.jpg', 'DLIB_Train_Fake/dlib236.jpg', 'DLIB_Train_Fake/dlib237.jpg', 'DLIB_Train_Fake/dlib238.jpg', 'DLIB_Train_Fake/dlib239.jpg', 'DLIB_Train_Fake/dlib240.jpg', 'DLIB_Train_Fake/dlib241.jpg', 'DLIB_Train_Fake/dlib242.jpg', 'DLIB_Train_Fake/dlib243.jpg', 'DLIB_Train_Fake/dlib244.jpg', 'DLIB_Train_Fake/dlib245.jpg', 'DLIB_Train_Fake/dlib246.jpg', 'DLIB_Train_Fake/dlib247.jpg', 'DLIB_Train_Fake/dlib248.jpg', 'DLIB_Train_Fake/dlib249.jpg', 'DLIB_Train_Fake/dlib250.jpg', 'DLIB_Train_Fake/dlib251.jpg', 'DLIB_Train_Fake/dlib252.jpg', 'DLIB_Train_Fake/dlib253.jpg', 'DLIB_Train_Fake/dlib254.jpg', 'DLIB_Train_Fake/dlib255.jpg', 'DLIB_Train_Fake/dlib256.jpg', 'DLIB_Train_Fake/dlib257.jpg', 'DLIB_Train_Fake/dlib258.jpg', 'DLIB_Train_Fake/dlib259.jpg', 'DLIB_Train_Fake/dlib260.jpg', 'DLIB_Train_Fake/dlib261.jpg', 'DLIB_Train_Fake/dlib262.jpg', 'DLIB_Train_Fake/dlib263.jpg', 'DLIB_Train_Fake/dlib264.jpg', 'DLIB_Train_Fake/dlib265.jpg', 'DLIB_Train_Fake/dlib266.jpg', 'DLIB_Train_Fake/dlib267.jpg', 'DLIB_Train_Fake/dlib268.jpg', 'DLIB_Train_Fake/dlib269.jpg', 'DLIB_Train_Fake/dlib270.jpg', 'DLIB_Train_Fake/dlib271.jpg', 'DLIB_Train_Fake/dlib272.jpg', 'DLIB_Train_Fake/dlib273.jpg', 'DLIB_Train_Fake/dlib274.jpg', 'DLIB_Train_Fake/dlib275.jpg', 'DLIB_Train_Fake/dlib276.jpg', 'DLIB_Train_Fake/dlib277.jpg', 'DLIB_Train_Fake/dlib278.jpg', 'DLIB_Train_Fake/dlib279.jpg', 'DLIB_Train_Fake/dlib280.jpg', 'DLIB_Train_Fake/dlib281.jpg', 'DLIB_Train_Fake/dlib282.jpg', 'DLIB_Train_Fake/dlib283.jpg', 'DLIB_Train_Fake/dlib284.jpg', 'DLIB_Train_Fake/dlib285.jpg', 'DLIB_Train_Fake/dlib286.jpg', 'DLIB_Train_Fake/dlib287.jpg', 'DLIB_Train_Fake/dlib288.jpg', 'DLIB_Train_Fake/dlib289.jpg', 'DLIB_Train_Fake/dlib290.jpg', 'DLIB_Train_Fake/dlib291.jpg', 'DLIB_Train_Fake/dlib292.jpg', 'DLIB_Train_Fake/dlib293.jpg', 'DLIB_Train_Fake/dlib294.jpg', 'DLIB_Train_Fake/dlib295.jpg', 'DLIB_Train_Fake/dlib296.jpg', 'DLIB_Train_Fake/dlib297.jpg', 'DLIB_Train_Fake/dlib298.jpg', 'DLIB_Train_Fake/dlib299.jpg', 'DLIB_Train_Fake/dlib300.jpg', 'DLIB_Train_Fake/dlib301.jpg', 'DLIB_Train_Fake/dlib302.jpg', 'DLIB_Train_Fake/dlib303.jpg', 'DLIB_Train_Fake/dlib304.jpg', 'DLIB_Train_Fake/dlib305.jpg', 'DLIB_Train_Fake/dlib306.jpg', 'DLIB_Train_Fake/dlib307.jpg', 'DLIB_Train_Fake/dlib308.jpg', 'DLIB_Train_Fake/dlib309.jpg', 'DLIB_Train_Fake/dlib310.jpg', 'DLIB_Train_Fake/dlib311.jpg', 'DLIB_Train_Fake/dlib312.jpg', 'DLIB_Train_Fake/dlib313.jpg', 'DLIB_Train_Fake/dlib314.jpg', 'DLIB_Train_Fake/dlib315.jpg', 'DLIB_Train_Fake/dlib316.jpg', 'DLIB_Train_Fake/dlib317.jpg', 'DLIB_Train_Fake/dlib318.jpg', 'DLIB_Train_Fake/dlib319.jpg', 'DLIB_Train_Fake/dlib320.jpg', 'DLIB_Train_Fake/dlib321.jpg', 'DLIB_Train_Fake/dlib322.jpg', 'DLIB_Train_Fake/dlib323.jpg', 'DLIB_Train_Fake/dlib324.jpg', 'DLIB_Train_Fake/dlib325.jpg', 'DLIB_Train_Fake/dlib326.jpg', 'DLIB_Train_Fake/dlib327.jpg', 'DLIB_Train_Fake/dlib328.jpg', 'DLIB_Train_Fake/dlib329.jpg', 'DLIB_Train_Fake/dlib330.jpg', 'DLIB_Train_Fake/dlib331.jpg', 'DLIB_Train_Fake/dlib332.jpg', 'DLIB_Train_Fake/dlib333.jpg', 'DLIB_Train_Fake/dlib334.jpg', 'DLIB_Train_Fake/dlib335.jpg', 'DLIB_Train_Fake/dlib336.jpg', 'DLIB_Train_Fake/dlib337.jpg', 'DLIB_Train_Fake/dlib338.jpg', 'DLIB_Train_Fake/dlib339.jpg', 'DLIB_Train_Fake/dlib340.jpg', 'DLIB_Train_Fake/dlib341.jpg', 'DLIB_Train_Fake/dlib342.jpg', 'DLIB_Train_Fake/dlib343.jpg', 'DLIB_Train_Fake/dlib344.jpg', 'DLIB_Train_Fake/dlib345.jpg', 'DLIB_Train_Fake/dlib346.jpg', 'DLIB_Train_Fake/dlib347.jpg', 'DLIB_Train_Fake/dlib348.jpg', 'DLIB_Train_Fake/dlib349.jpg', 'DLIB_Train_Fake/dlib350.jpg', 'DLIB_Train_Fake/dlib351.jpg', 'DLIB_Train_Fake/dlib352.jpg', 'DLIB_Train_Fake/dlib353.jpg', 'DLIB_Train_Fake/dlib354.jpg', 'DLIB_Train_Fake/dlib355.jpg', 'DLIB_Train_Fake/dlib356.jpg', 'DLIB_Train_Fake/dlib357.jpg', 'DLIB_Train_Fake/dlib358.jpg', 'DLIB_Train_Fake/dlib359.jpg', 'DLIB_Train_Fake/dlib360.jpg', 'DLIB_Train_Fake/dlib361.jpg', 'DLIB_Train_Fake/dlib362.jpg', 'DLIB_Train_Fake/dlib363.jpg', 'DLIB_Train_Fake/dlib364.jpg', 'DLIB_Train_Fake/dlib365.jpg', 'DLIB_Train_Fake/dlib366.jpg', 'DLIB_Train_Fake/dlib367.jpg', 'DLIB_Train_Fake/dlib368.jpg', 'DLIB_Train_Fake/dlib369.jpg', 'DLIB_Train_Fake/dlib370.jpg', 'DLIB_Train_Fake/dlib371.jpg', 'DLIB_Train_Fake/dlib372.jpg', 'DLIB_Train_Fake/dlib373.jpg', 'DLIB_Train_Fake/dlib374.jpg', 'DLIB_Train_Fake/dlib375.jpg', 'DLIB_Train_Fake/dlib376.jpg', 'DLIB_Train_Fake/dlib377.jpg', 'DLIB_Train_Fake/dlib378.jpg', 'DLIB_Train_Fake/dlib379.jpg', 'DLIB_Train_Fake/dlib380.jpg', 'DLIB_Train_Fake/dlib381.jpg', 'DLIB_Train_Fake/dlib382.jpg', 'DLIB_Train_Fake/dlib383.jpg', 'DLIB_Train_Fake/dlib384.jpg', 'DLIB_Train_Fake/dlib385.jpg', 'DLIB_Train_Fake/dlib386.jpg', 'DLIB_Train_Fake/dlib387.jpg', 'DLIB_Train_Fake/dlib388.jpg', 'DLIB_Train_Fake/dlib389.jpg', 'DLIB_Train_Fake/dlib390.jpg', 'DLIB_Train_Fake/dlib391.jpg', 'DLIB_Train_Fake/dlib392.jpg', 'DLIB_Train_Fake/dlib393.jpg', 'DLIB_Train_Fake/dlib394.jpg', 'DLIB_Train_Fake/dlib395.jpg', 'DLIB_Train_Fake/dlib396.jpg', 'DLIB_Train_Fake/dlib397.jpg', 'DLIB_Train_Fake/dlib398.jpg', 'DLIB_Train_Fake/dlib399.jpg', 'DLIB_Train_Fake/dlib400.jpg', 'DLIB_Train_Fake/dlib401.jpg', 'DLIB_Train_Fake/dlib402.jpg', 'DLIB_Train_Fake/dlib403.jpg', 'DLIB_Train_Fake/dlib404.jpg', 'DLIB_Train_Fake/dlib405.jpg', 'DLIB_Train_Fake/dlib406.jpg', 'DLIB_Train_Fake/dlib407.jpg', 'DLIB_Train_Fake/dlib408.jpg', 'DLIB_Train_Fake/dlib409.jpg', 'DLIB_Train_Fake/dlib410.jpg', 'DLIB_Train_Fake/dlib411.jpg', 'DLIB_Train_Fake/dlib412.jpg', 'DLIB_Train_Fake/dlib413.jpg', 'DLIB_Train_Fake/dlib414.jpg', 'DLIB_Train_Fake/dlib415.jpg', 'DLIB_Train_Fake/dlib416.jpg', 'DLIB_Train_Fake/dlib417.jpg', 'DLIB_Train_Fake/dlib418.jpg', 'DLIB_Train_Fake/dlib419.jpg', 'DLIB_Train_Fake/dlib420.jpg', 'DLIB_Train_Fake/dlib421.jpg', 'DLIB_Train_Fake/dlib422.jpg', 'DLIB_Train_Fake/dlib423.jpg', 'DLIB_Train_Fake/dlib424.jpg', 'DLIB_Train_Fake/dlib425.jpg', 'DLIB_Train_Fake/dlib426.jpg', 'DLIB_Train_Fake/dlib427.jpg', 'DLIB_Train_Fake/dlib428.jpg', 'DLIB_Train_Fake/dlib429.jpg', 'DLIB_Train_Fake/dlib430.jpg', 'DLIB_Train_Fake/dlib431.jpg', 'DLIB_Train_Fake/dlib432.jpg', 'DLIB_Train_Fake/dlib433.jpg', 'DLIB_Train_Fake/dlib434.jpg', 'DLIB_Train_Fake/dlib435.jpg', 'DLIB_Train_Fake/dlib436.jpg', 'DLIB_Train_Fake/dlib437.jpg', 'DLIB_Train_Fake/dlib438.jpg', 'DLIB_Train_Fake/dlib439.jpg', 'DLIB_Train_Fake/dlib440.jpg', 'DLIB_Train_Fake/dlib441.jpg', 'DLIB_Train_Fake/dlib442.jpg', 'DLIB_Train_Fake/dlib443.jpg', 'DLIB_Train_Fake/dlib444.jpg', 'DLIB_Train_Fake/dlib445.jpg', 'DLIB_Train_Fake/dlib446.jpg', 'DLIB_Train_Fake/dlib447.jpg', 'DLIB_Train_Fake/dlib448.jpg', 'DLIB_Train_Fake/dlib449.jpg', 'DLIB_Train_Fake/dlib450.jpg', 'DLIB_Train_Fake/dlib451.jpg', 'DLIB_Train_Fake/dlib452.jpg', 'DLIB_Train_Fake/dlib453.jpg', 'DLIB_Train_Fake/dlib454.jpg', 'DLIB_Train_Fake/dlib455.jpg', 'DLIB_Train_Fake/dlib456.jpg', 'DLIB_Train_Fake/dlib457.jpg', 'DLIB_Train_Fake/dlib458.jpg', 'DLIB_Train_Fake/dlib459.jpg', 'DLIB_Train_Fake/dlib460.jpg', 'DLIB_Train_Fake/dlib461.jpg', 'DLIB_Train_Fake/dlib462.jpg', 'DLIB_Train_Fake/dlib463.jpg', 'DLIB_Train_Fake/dlib464.jpg', 'DLIB_Train_Fake/dlib465.jpg', 'DLIB_Train_Fake/dlib466.jpg', 'DLIB_Train_Fake/dlib467.jpg', 'DLIB_Train_Fake/dlib468.jpg', 'DLIB_Train_Fake/dlib469.jpg', 'DLIB_Train_Fake/dlib470.jpg', 'DLIB_Train_Fake/dlib471.jpg', 'DLIB_Train_Fake/dlib472.jpg', 'DLIB_Train_Fake/dlib473.jpg', 'DLIB_Train_Fake/dlib474.jpg', 'DLIB_Train_Fake/dlib475.jpg', 'DLIB_Train_Fake/dlib476.jpg', 'DLIB_Train_Fake/dlib477.jpg', 'DLIB_Train_Fake/dlib478.jpg', 'DLIB_Train_Fake/dlib479.jpg', 'DLIB_Train_Fake/dlib480.jpg', 'DLIB_Train_Fake/dlib481.jpg', 'DLIB_Train_Fake/dlib482.jpg', 'DLIB_Train_Fake/dlib483.jpg', 'DLIB_Train_Fake/dlib484.jpg', 'DLIB_Train_Fake/dlib485.jpg', 'DLIB_Train_Fake/dlib486.jpg', 'DLIB_Train_Fake/dlib487.jpg', 'DLIB_Train_Fake/dlib488.jpg', 'DLIB_Train_Fake/dlib489.jpg', 'DLIB_Train_Fake/dlib490.jpg', 'DLIB_Train_Fake/dlib491.jpg', 'DLIB_Train_Fake/dlib492.jpg', 'DLIB_Train_Fake/dlib493.jpg', 'DLIB_Train_Fake/dlib494.jpg', 'DLIB_Train_Fake/dlib495.jpg', 'DLIB_Train_Fake/dlib496.jpg', 'DLIB_Train_Fake/dlib497.jpg', 'DLIB_Train_Fake/dlib498.jpg', 'DLIB_Train_Fake/dlib499.jpg', 'DLIB_Train_Fake/dlib500.jpg', 'DLIB_Train_Fake/dlib501.jpg', 'DLIB_Train_Fake/dlib502.jpg', 'DLIB_Train_Fake/dlib503.jpg', 'DLIB_Train_Fake/dlib504.jpg', 'DLIB_Train_Fake/dlib505.jpg', 'DLIB_Train_Fake/dlib506.jpg', 'DLIB_Train_Fake/dlib507.jpg', 'DLIB_Train_Fake/dlib508.jpg', 'DLIB_Train_Fake/dlib509.jpg', 'DLIB_Train_Fake/dlib510.jpg', 'DLIB_Train_Fake/dlib511.jpg', 'DLIB_Train_Fake/dlib512.jpg', 'DLIB_Train_Fake/dlib513.jpg', 'DLIB_Train_Fake/dlib514.jpg', 'DLIB_Train_Fake/dlib515.jpg', 'DLIB_Train_Fake/dlib516.jpg', 'DLIB_Train_Fake/dlib517.jpg', 'DLIB_Train_Fake/dlib518.jpg', 'DLIB_Train_Fake/dlib519.jpg', 'DLIB_Train_Fake/dlib520.jpg', 'DLIB_Train_Fake/dlib521.jpg', 'DLIB_Train_Fake/dlib522.jpg', 'DLIB_Train_Fake/dlib523.jpg', 'DLIB_Train_Fake/dlib524.jpg', 'DLIB_Train_Fake/dlib525.jpg', 'DLIB_Train_Fake/dlib526.jpg', 'DLIB_Train_Fake/dlib527.jpg', 'DLIB_Train_Fake/dlib528.jpg', 'DLIB_Train_Fake/dlib529.jpg', 'DLIB_Train_Fake/dlib530.jpg', 'DLIB_Train_Fake/dlib531.jpg', 'DLIB_Train_Fake/dlib532.jpg', 'DLIB_Train_Fake/dlib533.jpg', 'DLIB_Train_Fake/dlib534.jpg', 'DLIB_Train_Fake/dlib535.jpg', 'DLIB_Train_Fake/dlib536.jpg', 'DLIB_Train_Fake/dlib537.jpg', 'DLIB_Train_Fake/dlib538.jpg', 'DLIB_Train_Fake/dlib539.jpg', 'DLIB_Train_Fake/dlib540.jpg', 'DLIB_Train_Fake/dlib541.jpg', 'DLIB_Train_Fake/dlib542.jpg', 'DLIB_Train_Fake/dlib543.jpg', 'DLIB_Train_Fake/dlib544.jpg', 'DLIB_Train_Fake/dlib545.jpg', 'DLIB_Train_Fake/dlib546.jpg', 'DLIB_Train_Fake/dlib547.jpg', 'DLIB_Train_Fake/dlib548.jpg', 'DLIB_Train_Fake/dlib549.jpg', 'DLIB_Train_Fake/dlib550.jpg', 'DLIB_Train_Fake/dlib551.jpg', 'DLIB_Train_Fake/dlib552.jpg', 'DLIB_Train_Fake/dlib553.jpg', 'DLIB_Train_Fake/dlib554.jpg', 'DLIB_Train_Fake/dlib555.jpg', 'DLIB_Train_Fake/dlib556.jpg', 'DLIB_Train_Fake/dlib557.jpg', 'DLIB_Train_Fake/dlib558.jpg', 'DLIB_Train_Fake/dlib559.jpg', 'DLIB_Train_Fake/dlib560.jpg', 'DLIB_Train_Fake/dlib561.jpg', 'DLIB_Train_Fake/dlib562.jpg', 'DLIB_Train_Fake/dlib563.jpg', 'DLIB_Train_Fake/dlib564.jpg', 'DLIB_Train_Fake/dlib565.jpg', 'DLIB_Train_Fake/dlib566.jpg', 'DLIB_Train_Fake/dlib567.jpg', 'DLIB_Train_Fake/dlib568.jpg', 'DLIB_Train_Fake/dlib569.jpg', 'DLIB_Train_Fake/dlib570.jpg', 'DLIB_Train_Fake/dlib571.jpg', 'DLIB_Train_Fake/dlib572.jpg', 'DLIB_Train_Fake/dlib573.jpg', 'DLIB_Train_Fake/dlib574.jpg', 'DLIB_Train_Fake/dlib575.jpg', 'DLIB_Train_Fake/dlib576.jpg', 'DLIB_Train_Fake/dlib577.jpg', 'DLIB_Train_Fake/dlib578.jpg', 'DLIB_Train_Fake/dlib579.jpg', 'DLIB_Train_Fake/dlib580.jpg', 'DLIB_Train_Fake/dlib581.jpg', 'DLIB_Train_Fake/dlib582.jpg', 'DLIB_Train_Fake/dlib583.jpg', 'DLIB_Train_Fake/dlib584.jpg', 'DLIB_Train_Fake/dlib585.jpg', 'DLIB_Train_Fake/dlib586.jpg', 'DLIB_Train_Fake/dlib587.jpg', 'DLIB_Train_Fake/dlib588.jpg', 'DLIB_Train_Fake/dlib589.jpg', 'DLIB_Train_Fake/dlib590.jpg', 'DLIB_Train_Fake/dlib591.jpg', 'DLIB_Train_Fake/dlib592.jpg', 'DLIB_Train_Fake/dlib593.jpg', 'DLIB_Train_Fake/dlib594.jpg', 'DLIB_Train_Fake/dlib595.jpg', 'DLIB_Train_Fake/dlib596.jpg', 'DLIB_Train_Fake/dlib597.jpg', 'DLIB_Train_Fake/dlib598.jpg', 'DLIB_Train_Fake/dlib599.jpg', 'DLIB_Train_Fake/dlib600.jpg', 'DLIB_Train_Fake/dlib601.jpg', 'DLIB_Train_Fake/dlib602.jpg', 'DLIB_Train_Fake/dlib603.jpg', 'DLIB_Train_Fake/dlib604.jpg', 'DLIB_Train_Fake/dlib605.jpg', 'DLIB_Train_Fake/dlib606.jpg', 'DLIB_Train_Fake/dlib607.jpg', 'DLIB_Train_Fake/dlib608.jpg', 'DLIB_Train_Fake/dlib609.jpg', 'DLIB_Train_Fake/dlib610.jpg', 'DLIB_Train_Fake/dlib611.jpg', 'DLIB_Train_Fake/dlib612.jpg', 'DLIB_Train_Fake/dlib613.jpg', 'DLIB_Train_Fake/dlib614.jpg', 'DLIB_Train_Fake/dlib615.jpg', 'DLIB_Train_Fake/dlib616.jpg', 'DLIB_Train_Fake/dlib617.jpg', 'DLIB_Train_Fake/dlib618.jpg', 'DLIB_Train_Fake/dlib619.jpg', 'DLIB_Train_Fake/dlib620.jpg', 'DLIB_Train_Fake/dlib621.jpg', 'DLIB_Train_Fake/dlib622.jpg', 'DLIB_Train_Fake/dlib623.jpg', 'DLIB_Train_Fake/dlib624.jpg', 'DLIB_Train_Fake/dlib625.jpg', 'DLIB_Train_Fake/dlib626.jpg', 'DLIB_Train_Fake/dlib627.jpg', 'DLIB_Train_Fake/dlib628.jpg', 'DLIB_Train_Fake/dlib629.jpg', 'DLIB_Train_Fake/dlib630.jpg', 'DLIB_Train_Fake/dlib631.jpg', 'DLIB_Train_Fake/dlib632.jpg', 'DLIB_Train_Fake/dlib633.jpg', 'DLIB_Train_Fake/dlib634.jpg', 'DLIB_Train_Fake/dlib635.jpg', 'DLIB_Train_Fake/dlib636.jpg', 'DLIB_Train_Fake/dlib637.jpg', 'DLIB_Train_Fake/dlib638.jpg', 'DLIB_Train_Fake/dlib639.jpg', 'DLIB_Train_Fake/dlib640.jpg', 'DLIB_Train_Fake/dlib641.jpg', 'DLIB_Train_Fake/dlib642.jpg', 'DLIB_Train_Fake/dlib643.jpg', 'DLIB_Train_Fake/dlib644.jpg', 'DLIB_Train_Fake/dlib645.jpg', 'DLIB_Train_Fake/dlib646.jpg', 'DLIB_Train_Fake/dlib647.jpg', 'DLIB_Train_Fake/dlib648.jpg', 'DLIB_Train_Fake/dlib649.jpg', 'DLIB_Train_Fake/dlib650.jpg', 'DLIB_Train_Fake/dlib651.jpg', 'DLIB_Train_Fake/dlib652.jpg', 'DLIB_Train_Fake/dlib653.jpg', 'DLIB_Train_Fake/dlib654.jpg', 'DLIB_Train_Fake/dlib655.jpg', 'DLIB_Train_Fake/dlib656.jpg', 'DLIB_Train_Fake/dlib657.jpg', 'DLIB_Train_Fake/dlib658.jpg', 'DLIB_Train_Fake/dlib659.jpg', 'DLIB_Train_Fake/dlib660.jpg', 'DLIB_Train_Fake/dlib661.jpg', 'DLIB_Train_Fake/dlib662.jpg', 'DLIB_Train_Fake/dlib663.jpg', 'DLIB_Train_Fake/dlib664.jpg', 'DLIB_Train_Fake/dlib665.jpg', 'DLIB_Train_Fake/dlib666.jpg', 'DLIB_Train_Fake/dlib667.jpg', 'DLIB_Train_Fake/dlib668.jpg', 'DLIB_Train_Fake/dlib669.jpg', 'DLIB_Train_Fake/dlib670.jpg', 'DLIB_Train_Fake/dlib671.jpg', 'DLIB_Train_Fake/dlib672.jpg', 'DLIB_Train_Fake/dlib673.jpg', 'DLIB_Train_Fake/dlib674.jpg', 'DLIB_Train_Fake/dlib675.jpg', 'DLIB_Train_Fake/dlib676.jpg', 'DLIB_Train_Fake/dlib677.jpg', 'DLIB_Train_Fake/dlib678.jpg', 'DLIB_Train_Fake/dlib679.jpg', 'DLIB_Train_Fake/dlib680.jpg', 'DLIB_Train_Fake/dlib681.jpg', 'DLIB_Train_Fake/dlib682.jpg', 'DLIB_Train_Fake/dlib683.jpg', 'DLIB_Train_Fake/dlib684.jpg', 'DLIB_Train_Fake/dlib685.jpg', 'DLIB_Train_Fake/dlib686.jpg', 'DLIB_Train_Fake/dlib687.jpg', 'DLIB_Train_Fake/dlib688.jpg', 'DLIB_Train_Fake/dlib689.jpg', 'DLIB_Train_Fake/dlib690.jpg', 'DLIB_Train_Fake/dlib691.jpg', 'DLIB_Train_Fake/dlib692.jpg', 'DLIB_Train_Fake/dlib693.jpg', 'DLIB_Train_Fake/dlib694.jpg', 'DLIB_Train_Fake/dlib695.jpg', 'DLIB_Train_Fake/dlib696.jpg', 'DLIB_Train_Fake/dlib697.jpg', 'DLIB_Train_Fake/dlib698.jpg', 'DLIB_Train_Fake/dlib699.jpg', 'DLIB_Train_Fake/dlib700.jpg', 'DLIB_Train_Fake/dlib701.jpg', 'DLIB_Train_Fake/dlib702.jpg', 'DLIB_Train_Fake/dlib703.jpg', 'DLIB_Train_Fake/dlib704.jpg', 'DLIB_Train_Fake/dlib705.jpg', 'DLIB_Train_Fake/dlib706.jpg', 'DLIB_Train_Fake/dlib707.jpg', 'DLIB_Train_Fake/dlib708.jpg', 'DLIB_Train_Fake/dlib709.jpg', 'DLIB_Train_Fake/dlib710.jpg', 'DLIB_Train_Fake/dlib711.jpg', 'DLIB_Train_Fake/dlib712.jpg', 'DLIB_Train_Fake/dlib713.jpg', 'DLIB_Train_Fake/dlib714.jpg', 'DLIB_Train_Fake/dlib715.jpg', 'DLIB_Train_Fake/dlib716.jpg', 'DLIB_Train_Fake/dlib717.jpg', 'DLIB_Train_Fake/dlib718.jpg', 'DLIB_Train_Fake/dlib719.jpg', 'DLIB_Train_Fake/dlib720.jpg', 'DLIB_Train_Fake/dlib721.jpg', 'DLIB_Train_Fake/dlib722.jpg', 'DLIB_Train_Fake/dlib723.jpg', 'DLIB_Train_Fake/dlib724.jpg', 'DLIB_Train_Fake/dlib725.jpg', 'DLIB_Train_Fake/dlib726.jpg', 'DLIB_Train_Fake/dlib727.jpg', 'DLIB_Train_Fake/dlib728.jpg', 'DLIB_Train_Fake/dlib729.jpg', 'DLIB_Train_Fake/dlib730.jpg', 'DLIB_Train_Fake/dlib731.jpg', 'DLIB_Train_Fake/dlib732.jpg', 'DLIB_Train_Fake/dlib733.jpg', 'DLIB_Train_Fake/dlib734.jpg', 'DLIB_Train_Fake/dlib735.jpg', 'DLIB_Train_Fake/dlib736.jpg', 'DLIB_Train_Fake/dlib737.jpg', 'DLIB_Train_Fake/dlib738.jpg', 'DLIB_Train_Fake/dlib739.jpg', 'DLIB_Train_Fake/dlib740.jpg', 'DLIB_Train_Fake/dlib741.jpg', 'DLIB_Train_Fake/dlib742.jpg', 'DLIB_Train_Fake/dlib743.jpg', 'DLIB_Train_Fake/dlib744.jpg', 'DLIB_Train_Fake/dlib745.jpg', 'DLIB_Train_Fake/dlib746.jpg', 'DLIB_Train_Fake/dlib747.jpg', 'DLIB_Train_Fake/dlib748.jpg', 'DLIB_Train_Fake/dlib749.jpg', 'DLIB_Train_Fake/dlib750.jpg', 'DLIB_Train_Fake/dlib751.jpg', 'DLIB_Train_Fake/dlib752.jpg', 'DLIB_Train_Fake/dlib753.jpg', 'DLIB_Train_Fake/dlib754.jpg', 'DLIB_Train_Fake/dlib755.jpg', 'DLIB_Train_Fake/dlib756.jpg', 'DLIB_Train_Fake/dlib757.jpg', 'DLIB_Train_Fake/dlib758.jpg', 'DLIB_Train_Fake/dlib759.jpg', 'DLIB_Train_Fake/dlib760.jpg', 'DLIB_Train_Fake/dlib761.jpg', 'DLIB_Train_Fake/dlib762.jpg', 'DLIB_Train_Fake/dlib763.jpg', 'DLIB_Train_Fake/dlib764.jpg', 'DLIB_Train_Fake/dlib765.jpg', 'DLIB_Train_Fake/dlib766.jpg', 'DLIB_Train_Fake/dlib767.jpg', 'DLIB_Train_Fake/dlib768.jpg', 'DLIB_Train_Fake/dlib769.jpg', 'DLIB_Train_Fake/dlib770.jpg', 'DLIB_Train_Fake/dlib771.jpg', 'DLIB_Train_Fake/dlib772.jpg', 'DLIB_Train_Fake/dlib773.jpg', 'DLIB_Train_Fake/dlib774.jpg', 'DLIB_Train_Fake/dlib775.jpg', 'DLIB_Train_Fake/dlib776.jpg', 'DLIB_Train_Fake/dlib777.jpg', 'DLIB_Train_Fake/dlib778.jpg', 'DLIB_Train_Fake/dlib779.jpg', 'DLIB_Train_Fake/dlib780.jpg', 'DLIB_Train_Fake/dlib781.jpg', 'DLIB_Train_Fake/dlib782.jpg', 'DLIB_Train_Fake/dlib783.jpg', 'DLIB_Train_Fake/dlib784.jpg', 'DLIB_Train_Fake/dlib785.jpg', 'DLIB_Train_Fake/dlib786.jpg', 'DLIB_Train_Fake/dlib787.jpg', 'DLIB_Train_Fake/dlib788.jpg', 'DLIB_Train_Fake/dlib789.jpg', 'DLIB_Train_Fake/dlib790.jpg', 'DLIB_Train_Fake/dlib791.jpg', 'DLIB_Train_Fake/dlib792.jpg', 'DLIB_Train_Fake/dlib793.jpg', 'DLIB_Train_Fake/dlib794.jpg', 'DLIB_Train_Fake/dlib795.jpg', 'DLIB_Train_Fake/dlib796.jpg', 'DLIB_Train_Fake/dlib797.jpg', 'DLIB_Train_Fake/dlib798.jpg', 'DLIB_Train_Fake/dlib799.jpg', 'DLIB_Train_Fake/dlib800.jpg', 'DLIB_Train_Fake/dlib801.jpg', 'DLIB_Train_Fake/dlib802.jpg', 'DLIB_Train_Fake/dlib803.jpg', 'DLIB_Train_Fake/dlib804.jpg', 'DLIB_Train_Fake/dlib805.jpg', 'DLIB_Train_Fake/dlib806.jpg', 'DLIB_Train_Fake/dlib807.jpg', 'DLIB_Train_Fake/dlib808.jpg', 'DLIB_Train_Fake/dlib809.jpg', 'DLIB_Train_Fake/dlib810.jpg', 'DLIB_Train_Fake/dlib811.jpg', 'DLIB_Train_Fake/dlib812.jpg', 'DLIB_Train_Fake/dlib813.jpg', 'DLIB_Train_Fake/dlib814.jpg', 'DLIB_Train_Fake/dlib815.jpg', 'DLIB_Train_Fake/dlib816.jpg', 'DLIB_Train_Fake/dlib817.jpg', 'DLIB_Train_Fake/dlib818.jpg', 'DLIB_Train_Fake/dlib819.jpg', 'DLIB_Train_Fake/dlib820.jpg', 'DLIB_Train_Fake/dlib821.jpg', 'DLIB_Train_Fake/dlib822.jpg', 'DLIB_Train_Fake/dlib823.jpg', 'DLIB_Train_Fake/dlib824.jpg', 'DLIB_Train_Fake/dlib825.jpg', 'DLIB_Train_Fake/dlib826.jpg', 'DLIB_Train_Fake/dlib827.jpg', 'DLIB_Train_Fake/dlib828.jpg', 'DLIB_Train_Fake/dlib829.jpg', 'DLIB_Train_Fake/dlib830.jpg', 'DLIB_Train_Fake/dlib831.jpg', 'DLIB_Train_Fake/dlib832.jpg', 'DLIB_Train_Fake/dlib833.jpg', 'DLIB_Train_Fake/dlib834.jpg', 'DLIB_Train_Fake/dlib835.jpg', 'DLIB_Train_Fake/dlib836.jpg', 'DLIB_Train_Fake/dlib837.jpg', 'DLIB_Train_Fake/dlib838.jpg', 'DLIB_Train_Fake/dlib839.jpg', 'DLIB_Train_Fake/dlib840.jpg', 'DLIB_Train_Fake/dlib841.jpg', 'DLIB_Train_Fake/dlib842.jpg', 'DLIB_Train_Fake/dlib843.jpg', 'DLIB_Train_Fake/dlib844.jpg', 'DLIB_Train_Fake/dlib845.jpg', 'DLIB_Train_Fake/dlib846.jpg', 'DLIB_Train_Fake/dlib847.jpg', 'DLIB_Train_Fake/dlib848.jpg', 'DLIB_Train_Fake/dlib849.jpg', 'DLIB_Train_Fake/dlib850.jpg', 'DLIB_Train_Fake/dlib851.jpg', 'DLIB_Train_Fake/dlib852.jpg', 'DLIB_Train_Fake/dlib853.jpg', 'DLIB_Train_Fake/dlib854.jpg', 'DLIB_Train_Fake/dlib855.jpg', 'DLIB_Train_Fake/dlib856.jpg', 'DLIB_Train_Fake/dlib857.jpg', 'DLIB_Train_Fake/dlib858.jpg', 'DLIB_Train_Fake/dlib859.jpg', 'DLIB_Train_Fake/dlib860.jpg', 'DLIB_Train_Fake/dlib861.jpg', 'DLIB_Train_Fake/dlib862.jpg', 'DLIB_Train_Fake/dlib863.jpg', 'DLIB_Train_Fake/dlib864.jpg', 'DLIB_Train_Fake/dlib865.jpg', 'DLIB_Train_Fake/dlib866.jpg', 'DLIB_Train_Fake/dlib867.jpg', 'DLIB_Train_Fake/dlib868.jpg', 'DLIB_Train_Fake/dlib869.jpg', 'DLIB_Train_Fake/dlib870.jpg', 'DLIB_Train_Fake/dlib871.jpg', 'DLIB_Train_Fake/dlib872.jpg', 'DLIB_Train_Fake/dlib873.jpg', 'DLIB_Train_Fake/dlib874.jpg', 'DLIB_Train_Fake/dlib875.jpg', 'DLIB_Train_Fake/dlib876.jpg', 'DLIB_Train_Fake/dlib877.jpg', 'DLIB_Train_Fake/dlib878.jpg', 'DLIB_Train_Fake/dlib879.jpg', 'DLIB_Train_Fake/dlib880.jpg', 'DLIB_Train_Fake/dlib881.jpg', 'DLIB_Train_Fake/dlib882.jpg', 'DLIB_Train_Fake/dlib883.jpg', 'DLIB_Train_Fake/dlib884.jpg', 'DLIB_Train_Fake/dlib885.jpg', 'DLIB_Train_Fake/dlib886.jpg', 'DLIB_Train_Fake/dlib887.jpg', 'DLIB_Train_Fake/dlib888.jpg', 'DLIB_Train_Fake/dlib889.jpg', 'DLIB_Train_Fake/dlib890.jpg', 'DLIB_Train_Fake/dlib891.jpg', 'DLIB_Train_Fake/dlib892.jpg', 'DLIB_Train_Fake/dlib893.jpg', 'DLIB_Train_Fake/dlib894.jpg', 'DLIB_Train_Fake/dlib895.jpg', 'DLIB_Train_Fake/dlib896.jpg', 'DLIB_Train_Fake/dlib897.jpg', 'DLIB_Train_Fake/dlib898.jpg', 'DLIB_Train_Fake/dlib899.jpg', 'DLIB_Train_Fake/dlib900.jpg', 'DLIB_Train_Fake/dlib901.jpg', 'DLIB_Train_Fake/dlib902.jpg', 'DLIB_Train_Fake/dlib903.jpg', 'DLIB_Train_Fake/dlib904.jpg', 'DLIB_Train_Fake/dlib905.jpg', 'DLIB_Train_Fake/dlib906.jpg', 'DLIB_Train_Fake/dlib907.jpg', 'DLIB_Train_Fake/dlib908.jpg', 'DLIB_Train_Fake/dlib909.jpg', 'DLIB_Train_Fake/dlib910.jpg', 'DLIB_Train_Fake/dlib911.jpg', 'DLIB_Train_Fake/dlib912.jpg', 'DLIB_Train_Fake/dlib913.jpg', 'DLIB_Train_Fake/dlib914.jpg', 'DLIB_Train_Fake/dlib915.jpg', 'DLIB_Train_Fake/dlib916.jpg', 'DLIB_Train_Fake/dlib917.jpg', 'DLIB_Train_Fake/dlib918.jpg', 'DLIB_Train_Fake/dlib919.jpg', 'DLIB_Train_Fake/dlib920.jpg', 'DLIB_Train_Fake/dlib921.jpg', 'DLIB_Train_Fake/dlib922.jpg', 'DLIB_Train_Fake/dlib923.jpg', 'DLIB_Train_Fake/dlib924.jpg', 'DLIB_Train_Fake/dlib925.jpg', 'DLIB_Train_Fake/dlib926.jpg', 'DLIB_Train_Fake/dlib927.jpg', 'DLIB_Train_Fake/dlib928.jpg', 'DLIB_Train_Fake/dlib929.jpg', 'DLIB_Train_Fake/dlib930.jpg', 'DLIB_Train_Fake/dlib931.jpg', 'DLIB_Train_Fake/dlib932.jpg', 'DLIB_Train_Fake/dlib933.jpg', 'DLIB_Train_Fake/dlib934.jpg', 'DLIB_Train_Fake/dlib935.jpg', 'DLIB_Train_Fake/dlib936.jpg', 'DLIB_Train_Fake/dlib937.jpg', 'DLIB_Train_Fake/dlib938.jpg', 'DLIB_Train_Fake/dlib939.jpg', 'DLIB_Train_Fake/dlib940.jpg', 'DLIB_Train_Fake/dlib941.jpg', 'DLIB_Train_Fake/dlib942.jpg', 'DLIB_Train_Fake/dlib943.jpg', 'DLIB_Train_Fake/dlib944.jpg', 'DLIB_Train_Fake/dlib945.jpg', 'DLIB_Train_Fake/dlib946.jpg', 'DLIB_Train_Fake/dlib947.jpg', 'DLIB_Train_Fake/dlib948.jpg', 'DLIB_Train_Fake/dlib949.jpg', 'DLIB_Train_Fake/dlib950.jpg', 'DLIB_Train_Fake/dlib951.jpg', 'DLIB_Train_Fake/dlib952.jpg', 'DLIB_Train_Fake/dlib953.jpg', 'DLIB_Train_Fake/dlib954.jpg', 'DLIB_Train_Fake/dlib955.jpg', 'DLIB_Train_Fake/dlib956.jpg', 'DLIB_Train_Fake/dlib957.jpg', 'DLIB_Train_Fake/dlib958.jpg', 'DLIB_Train_Fake/dlib959.jpg', 'DLIB_Train_Fake/dlib960.jpg', 'DLIB_Train_Fake/dlib961.jpg', 'DLIB_Train_Fake/dlib962.jpg', 'DLIB_Train_Fake/dlib963.jpg', 'DLIB_Train_Fake/dlib964.jpg', 'DLIB_Train_Fake/dlib965.jpg', 'DLIB_Train_Fake/dlib966.jpg', 'DLIB_Train_Fake/dlib967.jpg', 'DLIB_Train_Fake/dlib968.jpg', 'DLIB_Train_Fake/dlib969.jpg', 'DLIB_Train_Fake/dlib970.jpg', 'DLIB_Train_Fake/dlib971.jpg', 'DLIB_Train_Fake/dlib972.jpg', 'DLIB_Train_Fake/dlib973.jpg', 'DLIB_Train_Fake/dlib974.jpg', 'DLIB_Train_Fake/dlib975.jpg', 'DLIB_Train_Fake/dlib976.jpg', 'DLIB_Train_Fake/dlib977.jpg', 'DLIB_Train_Fake/dlib978.jpg', 'DLIB_Train_Fake/dlib979.jpg', 'DLIB_Train_Fake/dlib980.jpg', 'DLIB_Train_Fake/dlib981.jpg', 'DLIB_Train_Fake/dlib982.jpg', 'DLIB_Train_Fake/dlib983.jpg', 'DLIB_Train_Fake/dlib984.jpg', 'DLIB_Train_Fake/dlib985.jpg', 'DLIB_Train_Fake/dlib986.jpg', 'DLIB_Train_Fake/dlib987.jpg', 'DLIB_Train_Fake/dlib988.jpg', 'DLIB_Train_Fake/dlib989.jpg', 'DLIB_Train_Fake/dlib990.jpg', 'DLIB_Train_Fake/dlib991.jpg', 'DLIB_Train_Fake/dlib992.jpg', 'DLIB_Train_Fake/dlib993.jpg', 'DLIB_Train_Fake/dlib994.jpg', 'DLIB_Train_Fake/dlib995.jpg', 'DLIB_Train_Fake/dlib996.jpg', 'DLIB_Train_Fake/dlib997.jpg', 'DLIB_Train_Fake/dlib998.jpg', 'DLIB_Train_Fake/dlib999.jpg', 'DLIB_Train_Fake/dlib1000.jpg', 'DLIB_Train_Fake/dlib1001.jpg', 'DLIB_Train_Fake/dlib1002.jpg', 'DLIB_Train_Fake/dlib1003.jpg', 'DLIB_Train_Fake/dlib1004.jpg', 'DLIB_Train_Fake/dlib1005.jpg', 'DLIB_Train_Fake/dlib1006.jpg', 'DLIB_Train_Fake/dlib1007.jpg', 'DLIB_Train_Fake/dlib1008.jpg', 'DLIB_Train_Fake/dlib1009.jpg', 'DLIB_Train_Fake/dlib1010.jpg', 'DLIB_Train_Fake/dlib1011.jpg', 'DLIB_Train_Fake/dlib1012.jpg', 'DLIB_Train_Fake/dlib1013.jpg', 'DLIB_Train_Fake/dlib1014.jpg', 'DLIB_Train_Fake/dlib1015.jpg', 'DLIB_Train_Fake/dlib1016.jpg', 'DLIB_Train_Fake/dlib1017.jpg', 'DLIB_Train_Fake/dlib1018.jpg', 'DLIB_Train_Fake/dlib1019.jpg', 'DLIB_Train_Fake/dlib1020.jpg', 'DLIB_Train_Fake/dlib1021.jpg', 'DLIB_Train_Fake/dlib1022.jpg', 'DLIB_Train_Fake/dlib1023.jpg', 'DLIB_Train_Fake/dlib1024.jpg', 'DLIB_Train_Fake/dlib1025.jpg', 'DLIB_Train_Fake/dlib1026.jpg', 'DLIB_Train_Fake/dlib1027.jpg', 'DLIB_Train_Fake/dlib1028.jpg', 'DLIB_Train_Fake/dlib1029.jpg', 'DLIB_Train_Fake/dlib1030.jpg', 'DLIB_Train_Fake/dlib1031.jpg', 'DLIB_Train_Fake/dlib1032.jpg', 'DLIB_Train_Fake/dlib1033.jpg', 'DLIB_Train_Fake/dlib1034.jpg', 'DLIB_Train_Fake/dlib1035.jpg', 'DLIB_Train_Fake/dlib1036.jpg', 'DLIB_Train_Fake/dlib1037.jpg', 'DLIB_Train_Fake/dlib1038.jpg', 'DLIB_Train_Fake/dlib1039.jpg', 'DLIB_Train_Fake/dlib1040.jpg', 'DLIB_Train_Fake/dlib1041.jpg', 'DLIB_Train_Fake/dlib1042.jpg', 'DLIB_Train_Fake/dlib1043.jpg', 'DLIB_Train_Fake/dlib1044.jpg', 'DLIB_Train_Fake/dlib1045.jpg', 'DLIB_Train_Fake/dlib1046.jpg', 'DLIB_Train_Fake/dlib1047.jpg', 'DLIB_Train_Fake/dlib1048.jpg', 'DLIB_Train_Fake/dlib1049.jpg', 'DLIB_Train_Fake/dlib1050.jpg', 'DLIB_Train_Fake/dlib1051.jpg', 'DLIB_Train_Fake/dlib1052.jpg', 'DLIB_Train_Fake/dlib1053.jpg', 'DLIB_Train_Fake/dlib1054.jpg', 'DLIB_Train_Fake/dlib1055.jpg', 'DLIB_Train_Fake/dlib1056.jpg', 'DLIB_Train_Fake/dlib1057.jpg', 'DLIB_Train_Fake/dlib1058.jpg', 'DLIB_Train_Fake/dlib1059.jpg', 'DLIB_Train_Fake/dlib1060.jpg', 'DLIB_Train_Fake/dlib1061.jpg', 'DLIB_Train_Fake/dlib1062.jpg', 'DLIB_Train_Fake/dlib1063.jpg', 'DLIB_Train_Fake/dlib1064.jpg', 'DLIB_Train_Fake/dlib1065.jpg', 'DLIB_Train_Fake/dlib1066.jpg', 'DLIB_Train_Fake/dlib1067.jpg', 'DLIB_Train_Fake/dlib1068.jpg', 'DLIB_Train_Fake/dlib1069.jpg', 'DLIB_Train_Fake/dlib1070.jpg', 'DLIB_Train_Fake/dlib1071.jpg', 'DLIB_Train_Fake/dlib1072.jpg', 'DLIB_Train_Fake/dlib1073.jpg', 'DLIB_Train_Fake/dlib1074.jpg', 'DLIB_Train_Fake/dlib1075.jpg', 'DLIB_Train_Fake/dlib1076.jpg', 'DLIB_Train_Fake/dlib1077.jpg', 'DLIB_Train_Fake/dlib1078.jpg', 'DLIB_Train_Fake/dlib1079.jpg', 'DLIB_Train_Fake/dlib1080.jpg', 'DLIB_Train_Fake/dlib1081.jpg', 'DLIB_Train_Fake/dlib1082.jpg', 'DLIB_Train_Fake/dlib1083.jpg', 'DLIB_Train_Fake/dlib1084.jpg', 'DLIB_Train_Fake/dlib1085.jpg', 'DLIB_Train_Fake/dlib1086.jpg', 'DLIB_Train_Fake/dlib1087.jpg', 'DLIB_Train_Fake/dlib1088.jpg', 'DLIB_Train_Fake/dlib1089.jpg', 'DLIB_Train_Fake/dlib1090.jpg', 'DLIB_Train_Fake/dlib1091.jpg', 'DLIB_Train_Fake/dlib1092.jpg', 'DLIB_Train_Fake/dlib1093.jpg', 'DLIB_Train_Fake/dlib1094.jpg', 'DLIB_Train_Fake/dlib1095.jpg', 'DLIB_Train_Fake/dlib1096.jpg', 'DLIB_Train_Fake/dlib1097.jpg', 'DLIB_Train_Fake/dlib1098.jpg', 'DLIB_Train_Fake/dlib1099.jpg', 'DLIB_Train_Fake/dlib1100.jpg', 'DLIB_Train_Fake/dlib1101.jpg', 'DLIB_Train_Fake/dlib1102.jpg', 'DLIB_Train_Fake/dlib1103.jpg', 'DLIB_Train_Fake/dlib1104.jpg', 'DLIB_Train_Fake/dlib1105.jpg', 'DLIB_Train_Fake/dlib1106.jpg', 'DLIB_Train_Fake/dlib1107.jpg', 'DLIB_Train_Fake/dlib1108.jpg', 'DLIB_Train_Fake/dlib1109.jpg', 'DLIB_Train_Fake/dlib1110.jpg', 'DLIB_Train_Fake/dlib1111.jpg', 'DLIB_Train_Fake/dlib1112.jpg', 'DLIB_Train_Fake/dlib1113.jpg', 'DLIB_Train_Fake/dlib1114.jpg', 'DLIB_Train_Fake/dlib1115.jpg', 'DLIB_Train_Fake/dlib1116.jpg', 'DLIB_Train_Fake/dlib1117.jpg', 'DLIB_Train_Fake/dlib1118.jpg', 'DLIB_Train_Fake/dlib1119.jpg', 'DLIB_Train_Fake/dlib1120.jpg', 'DLIB_Train_Fake/dlib1121.jpg', 'DLIB_Train_Fake/dlib1122.jpg', 'DLIB_Train_Fake/dlib1123.jpg', 'DLIB_Train_Fake/dlib1124.jpg', 'DLIB_Train_Fake/dlib1125.jpg', 'DLIB_Train_Fake/dlib1126.jpg', 'DLIB_Train_Fake/dlib1127.jpg', 'DLIB_Train_Fake/dlib1128.jpg', 'DLIB_Train_Fake/dlib1129.jpg', 'DLIB_Train_Fake/dlib1130.jpg', 'DLIB_Train_Fake/dlib1131.jpg', 'DLIB_Train_Fake/dlib1132.jpg', 'DLIB_Train_Fake/dlib1133.jpg', 'DLIB_Train_Fake/dlib1134.jpg', 'DLIB_Train_Fake/dlib1135.jpg', 'DLIB_Train_Fake/dlib1136.jpg', 'DLIB_Train_Fake/dlib1137.jpg', 'DLIB_Train_Fake/dlib1138.jpg', 'DLIB_Train_Fake/dlib1139.jpg', 'DLIB_Train_Fake/dlib1140.jpg', 'DLIB_Train_Fake/dlib1141.jpg', 'DLIB_Train_Fake/dlib1142.jpg', 'DLIB_Train_Fake/dlib1143.jpg', 'DLIB_Train_Fake/dlib1144.jpg', 'DLIB_Train_Fake/dlib1145.jpg', 'DLIB_Train_Fake/dlib1146.jpg', 'DLIB_Train_Fake/dlib1147.jpg', 'DLIB_Train_Fake/dlib1148.jpg', 'DLIB_Train_Fake/dlib1149.jpg', 'DLIB_Train_Fake/dlib1150.jpg', 'DLIB_Train_Fake/dlib1151.jpg', 'DLIB_Train_Fake/dlib1152.jpg', 'DLIB_Train_Fake/dlib1153.jpg', 'DLIB_Train_Fake/dlib1154.jpg', 'DLIB_Train_Fake/dlib1155.jpg', 'DLIB_Train_Fake/dlib1156.jpg', 'DLIB_Train_Fake/dlib1157.jpg', 'DLIB_Train_Fake/dlib1158.jpg', 'DLIB_Train_Fake/dlib1159.jpg', 'DLIB_Train_Fake/dlib1160.jpg', 'DLIB_Train_Fake/dlib1161.jpg', 'DLIB_Train_Fake/dlib1162.jpg', 'DLIB_Train_Fake/dlib1163.jpg', 'DLIB_Train_Fake/dlib1164.jpg', 'DLIB_Train_Fake/dlib1165.jpg', 'DLIB_Train_Fake/dlib1166.jpg', 'DLIB_Train_Fake/dlib1167.jpg', 'DLIB_Train_Fake/dlib1168.jpg', 'DLIB_Train_Fake/dlib1169.jpg', 'DLIB_Train_Fake/dlib1170.jpg', 'DLIB_Train_Fake/dlib1171.jpg', 'DLIB_Train_Fake/dlib1172.jpg', 'DLIB_Train_Fake/dlib1173.jpg', 'DLIB_Train_Fake/dlib1174.jpg', 'DLIB_Train_Fake/dlib1175.jpg', 'DLIB_Train_Fake/dlib1176.jpg', 'DLIB_Train_Fake/dlib1177.jpg', 'DLIB_Train_Fake/dlib1178.jpg', 'DLIB_Train_Fake/dlib1179.jpg', 'DLIB_Train_Fake/dlib1180.jpg', 'DLIB_Train_Fake/dlib1181.jpg', 'DLIB_Train_Fake/dlib1182.jpg', 'DLIB_Train_Fake/dlib1183.jpg', 'DLIB_Train_Fake/dlib1184.jpg', 'DLIB_Train_Fake/dlib1185.jpg', 'DLIB_Train_Fake/dlib1186.jpg', 'DLIB_Train_Fake/dlib1187.jpg', 'DLIB_Train_Fake/dlib1188.jpg', 'DLIB_Train_Fake/dlib1189.jpg', 'DLIB_Train_Fake/dlib1190.jpg', 'DLIB_Train_Fake/dlib1191.jpg', 'DLIB_Train_Fake/dlib1192.jpg', 'DLIB_Train_Fake/dlib1193.jpg', 'DLIB_Train_Fake/dlib1194.jpg', 'DLIB_Train_Fake/dlib1195.jpg', 'DLIB_Train_Fake/dlib1196.jpg', 'DLIB_Train_Fake/dlib1197.jpg', 'DLIB_Train_Fake/dlib1198.jpg', 'DLIB_Train_Fake/dlib1199.jpg', 'DLIB_Train_Fake/dlib1200.jpg', 'DLIB_Train_Fake/dlib1201.jpg', 'DLIB_Train_Fake/dlib1202.jpg', 'DLIB_Train_Fake/dlib1203.jpg', 'DLIB_Train_Fake/dlib1204.jpg', 'DLIB_Train_Fake/dlib1205.jpg', 'DLIB_Train_Fake/dlib1206.jpg', 'DLIB_Train_Fake/dlib1207.jpg', 'DLIB_Train_Fake/dlib1208.jpg', 'DLIB_Train_Fake/dlib1209.jpg', 'DLIB_Train_Fake/dlib1210.jpg', 'DLIB_Train_Fake/dlib1211.jpg', 'DLIB_Train_Fake/dlib1212.jpg', 'DLIB_Train_Fake/dlib1213.jpg', 'DLIB_Train_Fake/dlib1214.jpg', 'DLIB_Train_Fake/dlib1215.jpg', 'DLIB_Train_Fake/dlib1216.jpg', 'DLIB_Train_Fake/dlib1217.jpg', 'DLIB_Train_Fake/dlib1218.jpg', 'DLIB_Train_Fake/dlib1219.jpg', 'DLIB_Train_Fake/dlib1220.jpg', 'DLIB_Train_Fake/dlib1221.jpg', 'DLIB_Train_Fake/dlib1222.jpg', 'DLIB_Train_Fake/dlib1223.jpg', 'DLIB_Train_Fake/dlib1224.jpg', 'DLIB_Train_Fake/dlib1225.jpg', 'DLIB_Train_Fake/dlib1226.jpg', 'DLIB_Train_Fake/dlib1227.jpg', 'DLIB_Train_Fake/dlib1228.jpg', 'DLIB_Train_Fake/dlib1229.jpg', 'DLIB_Train_Fake/dlib1230.jpg', 'DLIB_Train_Fake/dlib1231.jpg', 'DLIB_Train_Fake/dlib1232.jpg', 'DLIB_Train_Fake/dlib1233.jpg', 'DLIB_Train_Fake/dlib1234.jpg', 'DLIB_Train_Fake/dlib1235.jpg', 'DLIB_Train_Fake/dlib1236.jpg', 'DLIB_Train_Fake/dlib1237.jpg', 'DLIB_Train_Fake/dlib1238.jpg', 'DLIB_Train_Fake/dlib1239.jpg', 'DLIB_Train_Fake/dlib1240.jpg', 'DLIB_Train_Fake/dlib1241.jpg', 'DLIB_Train_Fake/dlib1242.jpg', 'DLIB_Train_Fake/dlib1243.jpg', 'DLIB_Train_Fake/dlib1244.jpg', 'DLIB_Train_Fake/dlib1245.jpg', 'DLIB_Train_Fake/dlib1246.jpg', 'DLIB_Train_Fake/dlib1247.jpg', 'DLIB_Train_Fake/dlib1248.jpg', 'DLIB_Train_Fake/dlib1249.jpg', 'DLIB_Train_Fake/dlib1250.jpg', 'DLIB_Train_Fake/dlib1251.jpg', 'DLIB_Train_Fake/dlib1252.jpg', 'DLIB_Train_Fake/dlib1253.jpg', 'DLIB_Train_Fake/dlib1254.jpg', 'DLIB_Train_Fake/dlib1255.jpg', 'DLIB_Train_Fake/dlib1256.jpg', 'DLIB_Train_Fake/dlib1257.jpg', 'DLIB_Train_Fake/dlib1258.jpg', 'DLIB_Train_Fake/dlib1259.jpg', 'DLIB_Train_Fake/dlib1260.jpg', 'DLIB_Train_Fake/dlib1261.jpg', 'DLIB_Train_Fake/dlib1262.jpg', 'DLIB_Train_Fake/dlib1263.jpg', 'DLIB_Train_Fake/dlib1264.jpg', 'DLIB_Train_Fake/dlib1265.jpg', 'DLIB_Train_Fake/dlib1266.jpg', 'DLIB_Train_Fake/dlib1267.jpg', 'DLIB_Train_Fake/dlib1268.jpg', 'DLIB_Train_Fake/dlib1269.jpg', 'DLIB_Train_Fake/dlib1270.jpg', 'DLIB_Train_Fake/dlib1271.jpg', 'DLIB_Train_Fake/dlib1272.jpg', 'DLIB_Train_Fake/dlib1273.jpg', 'DLIB_Train_Fake/dlib1274.jpg', 'DLIB_Train_Fake/dlib1275.jpg', 'DLIB_Train_Fake/dlib1276.jpg', 'DLIB_Train_Fake/dlib1277.jpg', 'DLIB_Train_Fake/dlib1278.jpg', 'DLIB_Train_Fake/dlib1279.jpg', 'DLIB_Train_Fake/dlib1280.jpg', 'DLIB_Train_Fake/dlib1281.jpg', 'DLIB_Train_Fake/dlib1282.jpg', 'DLIB_Train_Fake/dlib1283.jpg', 'DLIB_Train_Fake/dlib1284.jpg', 'DLIB_Train_Fake/dlib1285.jpg', 'DLIB_Train_Fake/dlib1286.jpg', 'DLIB_Train_Fake/dlib1287.jpg', 'DLIB_Train_Fake/dlib1288.jpg', 'DLIB_Train_Fake/dlib1289.jpg', 'DLIB_Train_Fake/dlib1290.jpg', 'DLIB_Train_Fake/dlib1291.jpg', 'DLIB_Train_Fake/dlib1292.jpg', 'DLIB_Train_Fake/dlib1293.jpg', 'DLIB_Train_Fake/dlib1294.jpg', 'DLIB_Train_Fake/dlib1295.jpg', 'DLIB_Train_Fake/dlib1296.jpg', 'DLIB_Train_Fake/dlib1297.jpg', 'DLIB_Train_Fake/dlib1298.jpg', 'DLIB_Train_Fake/dlib1299.jpg', 'DLIB_Train_Fake/dlib1300.jpg', 'DLIB_Train_Fake/dlib1301.jpg', 'DLIB_Train_Fake/dlib1302.jpg', 'DLIB_Train_Fake/dlib1303.jpg', 'DLIB_Train_Fake/dlib1304.jpg', 'DLIB_Train_Fake/dlib1305.jpg', 'DLIB_Train_Fake/dlib1306.jpg', 'DLIB_Train_Fake/dlib1307.jpg', 'DLIB_Train_Fake/dlib1308.jpg', 'DLIB_Train_Fake/dlib1309.jpg', 'DLIB_Train_Fake/dlib1310.jpg', 'DLIB_Train_Fake/dlib1311.jpg', 'DLIB_Train_Fake/dlib1312.jpg', 'DLIB_Train_Fake/dlib1313.jpg', 'DLIB_Train_Fake/dlib1314.jpg', 'DLIB_Train_Fake/dlib1315.jpg', 'DLIB_Train_Fake/dlib1316.jpg', 'DLIB_Train_Fake/dlib1317.jpg', 'DLIB_Train_Fake/dlib1318.jpg', 'DLIB_Train_Fake/dlib1319.jpg', 'DLIB_Train_Fake/dlib1320.jpg', 'DLIB_Train_Fake/dlib1321.jpg', 'DLIB_Train_Fake/dlib1322.jpg', 'DLIB_Train_Fake/dlib1323.jpg', 'DLIB_Train_Fake/dlib1324.jpg', 'DLIB_Train_Fake/dlib1325.jpg', 'DLIB_Train_Fake/dlib1326.jpg', 'DLIB_Train_Fake/dlib1327.jpg', 'DLIB_Train_Fake/dlib1328.jpg', 'DLIB_Train_Fake/dlib1329.jpg', 'DLIB_Train_Fake/dlib1330.jpg', 'DLIB_Train_Fake/dlib1331.jpg', 'DLIB_Train_Fake/dlib1332.jpg', 'DLIB_Train_Fake/dlib1333.jpg', 'DLIB_Train_Fake/dlib1334.jpg', 'DLIB_Train_Fake/dlib1335.jpg', 'DLIB_Train_Fake/dlib1336.jpg', 'DLIB_Train_Fake/dlib1337.jpg', 'DLIB_Train_Fake/dlib1338.jpg', 'DLIB_Train_Fake/dlib1339.jpg', 'DLIB_Train_Fake/dlib1340.jpg', 'DLIB_Train_Fake/dlib1341.jpg', 'DLIB_Train_Fake/dlib1342.jpg', 'DLIB_Train_Fake/dlib1343.jpg', 'DLIB_Train_Fake/dlib1344.jpg', 'DLIB_Train_Fake/dlib1345.jpg', 'DLIB_Train_Fake/dlib1346.jpg', 'DLIB_Train_Fake/dlib1347.jpg', 'DLIB_Train_Fake/dlib1348.jpg', 'DLIB_Train_Fake/dlib1349.jpg', 'DLIB_Train_Fake/dlib1350.jpg', 'DLIB_Train_Fake/dlib1351.jpg', 'DLIB_Train_Fake/dlib1352.jpg', 'DLIB_Train_Fake/dlib1353.jpg', 'DLIB_Train_Fake/dlib1354.jpg', 'DLIB_Train_Fake/dlib1355.jpg', 'DLIB_Train_Fake/dlib1356.jpg', 'DLIB_Train_Fake/dlib1357.jpg', 'DLIB_Train_Fake/dlib1358.jpg', 'DLIB_Train_Fake/dlib1359.jpg', 'DLIB_Train_Fake/dlib1360.jpg', 'DLIB_Train_Fake/dlib1361.jpg']\n"
          ],
          "name": "stdout"
        }
      ]
    },
    {
      "cell_type": "code",
      "metadata": {
        "id": "sw-yNvEqhVNQ"
      },
      "source": [
        "processedImagePath_Train_Real_dlib = faceDetect_DLIB(\"Train\",\"Real\",imgPath_train_real)"
      ],
      "execution_count": null,
      "outputs": []
    },
    {
      "cell_type": "code",
      "metadata": {
        "id": "egdreZOChbgT",
        "colab": {
          "base_uri": "https://localhost:8080/"
        },
        "outputId": "3f23237e-2efa-40da-b2d5-48638ac66083"
      },
      "source": [
        "print(processedImagePath_Train_Real_dlib)"
      ],
      "execution_count": null,
      "outputs": [
        {
          "output_type": "stream",
          "text": [
            "['DLIB_Train_Real/dlib0.jpg', 'DLIB_Train_Real/dlib1.jpg', 'DLIB_Train_Real/dlib2.jpg', 'DLIB_Train_Real/dlib3.jpg', 'DLIB_Train_Real/dlib4.jpg', 'DLIB_Train_Real/dlib5.jpg', 'DLIB_Train_Real/dlib6.jpg', 'DLIB_Train_Real/dlib7.jpg', 'DLIB_Train_Real/dlib8.jpg', 'DLIB_Train_Real/dlib9.jpg', 'DLIB_Train_Real/dlib10.jpg', 'DLIB_Train_Real/dlib11.jpg', 'DLIB_Train_Real/dlib12.jpg', 'DLIB_Train_Real/dlib13.jpg', 'DLIB_Train_Real/dlib14.jpg', 'DLIB_Train_Real/dlib15.jpg', 'DLIB_Train_Real/dlib16.jpg', 'DLIB_Train_Real/dlib17.jpg', 'DLIB_Train_Real/dlib18.jpg', 'DLIB_Train_Real/dlib19.jpg', 'DLIB_Train_Real/dlib20.jpg', 'DLIB_Train_Real/dlib21.jpg', 'DLIB_Train_Real/dlib22.jpg', 'DLIB_Train_Real/dlib23.jpg', 'DLIB_Train_Real/dlib24.jpg', 'DLIB_Train_Real/dlib25.jpg', 'DLIB_Train_Real/dlib26.jpg', 'DLIB_Train_Real/dlib27.jpg', 'DLIB_Train_Real/dlib28.jpg', 'DLIB_Train_Real/dlib29.jpg', 'DLIB_Train_Real/dlib30.jpg', 'DLIB_Train_Real/dlib31.jpg', 'DLIB_Train_Real/dlib32.jpg', 'DLIB_Train_Real/dlib33.jpg', 'DLIB_Train_Real/dlib34.jpg', 'DLIB_Train_Real/dlib35.jpg', 'DLIB_Train_Real/dlib36.jpg', 'DLIB_Train_Real/dlib37.jpg', 'DLIB_Train_Real/dlib38.jpg', 'DLIB_Train_Real/dlib39.jpg', 'DLIB_Train_Real/dlib40.jpg', 'DLIB_Train_Real/dlib41.jpg', 'DLIB_Train_Real/dlib42.jpg', 'DLIB_Train_Real/dlib43.jpg', 'DLIB_Train_Real/dlib44.jpg', 'DLIB_Train_Real/dlib45.jpg', 'DLIB_Train_Real/dlib46.jpg', 'DLIB_Train_Real/dlib47.jpg', 'DLIB_Train_Real/dlib48.jpg', 'DLIB_Train_Real/dlib49.jpg', 'DLIB_Train_Real/dlib50.jpg', 'DLIB_Train_Real/dlib51.jpg', 'DLIB_Train_Real/dlib52.jpg', 'DLIB_Train_Real/dlib53.jpg', 'DLIB_Train_Real/dlib54.jpg', 'DLIB_Train_Real/dlib55.jpg', 'DLIB_Train_Real/dlib56.jpg', 'DLIB_Train_Real/dlib57.jpg', 'DLIB_Train_Real/dlib58.jpg', 'DLIB_Train_Real/dlib59.jpg', 'DLIB_Train_Real/dlib60.jpg', 'DLIB_Train_Real/dlib61.jpg', 'DLIB_Train_Real/dlib62.jpg', 'DLIB_Train_Real/dlib63.jpg', 'DLIB_Train_Real/dlib64.jpg', 'DLIB_Train_Real/dlib65.jpg', 'DLIB_Train_Real/dlib66.jpg', 'DLIB_Train_Real/dlib67.jpg', 'DLIB_Train_Real/dlib68.jpg', 'DLIB_Train_Real/dlib69.jpg', 'DLIB_Train_Real/dlib70.jpg', 'DLIB_Train_Real/dlib71.jpg', 'DLIB_Train_Real/dlib72.jpg', 'DLIB_Train_Real/dlib73.jpg', 'DLIB_Train_Real/dlib74.jpg', 'DLIB_Train_Real/dlib75.jpg', 'DLIB_Train_Real/dlib76.jpg', 'DLIB_Train_Real/dlib77.jpg', 'DLIB_Train_Real/dlib78.jpg', 'DLIB_Train_Real/dlib79.jpg', 'DLIB_Train_Real/dlib80.jpg', 'DLIB_Train_Real/dlib81.jpg', 'DLIB_Train_Real/dlib82.jpg', 'DLIB_Train_Real/dlib83.jpg', 'DLIB_Train_Real/dlib84.jpg', 'DLIB_Train_Real/dlib85.jpg', 'DLIB_Train_Real/dlib86.jpg', 'DLIB_Train_Real/dlib87.jpg', 'DLIB_Train_Real/dlib88.jpg', 'DLIB_Train_Real/dlib89.jpg', 'DLIB_Train_Real/dlib90.jpg', 'DLIB_Train_Real/dlib91.jpg', 'DLIB_Train_Real/dlib92.jpg', 'DLIB_Train_Real/dlib93.jpg', 'DLIB_Train_Real/dlib94.jpg', 'DLIB_Train_Real/dlib95.jpg', 'DLIB_Train_Real/dlib96.jpg', 'DLIB_Train_Real/dlib97.jpg', 'DLIB_Train_Real/dlib98.jpg', 'DLIB_Train_Real/dlib99.jpg', 'DLIB_Train_Real/dlib100.jpg', 'DLIB_Train_Real/dlib101.jpg', 'DLIB_Train_Real/dlib102.jpg', 'DLIB_Train_Real/dlib103.jpg', 'DLIB_Train_Real/dlib104.jpg', 'DLIB_Train_Real/dlib105.jpg', 'DLIB_Train_Real/dlib106.jpg', 'DLIB_Train_Real/dlib107.jpg', 'DLIB_Train_Real/dlib108.jpg', 'DLIB_Train_Real/dlib109.jpg', 'DLIB_Train_Real/dlib110.jpg', 'DLIB_Train_Real/dlib111.jpg', 'DLIB_Train_Real/dlib112.jpg', 'DLIB_Train_Real/dlib113.jpg', 'DLIB_Train_Real/dlib114.jpg', 'DLIB_Train_Real/dlib115.jpg', 'DLIB_Train_Real/dlib116.jpg', 'DLIB_Train_Real/dlib117.jpg', 'DLIB_Train_Real/dlib118.jpg', 'DLIB_Train_Real/dlib119.jpg', 'DLIB_Train_Real/dlib120.jpg', 'DLIB_Train_Real/dlib121.jpg', 'DLIB_Train_Real/dlib122.jpg', 'DLIB_Train_Real/dlib123.jpg', 'DLIB_Train_Real/dlib124.jpg', 'DLIB_Train_Real/dlib125.jpg', 'DLIB_Train_Real/dlib126.jpg', 'DLIB_Train_Real/dlib127.jpg', 'DLIB_Train_Real/dlib128.jpg', 'DLIB_Train_Real/dlib129.jpg', 'DLIB_Train_Real/dlib130.jpg', 'DLIB_Train_Real/dlib131.jpg', 'DLIB_Train_Real/dlib132.jpg', 'DLIB_Train_Real/dlib133.jpg', 'DLIB_Train_Real/dlib134.jpg', 'DLIB_Train_Real/dlib135.jpg', 'DLIB_Train_Real/dlib136.jpg', 'DLIB_Train_Real/dlib137.jpg', 'DLIB_Train_Real/dlib138.jpg', 'DLIB_Train_Real/dlib139.jpg', 'DLIB_Train_Real/dlib140.jpg', 'DLIB_Train_Real/dlib141.jpg', 'DLIB_Train_Real/dlib142.jpg', 'DLIB_Train_Real/dlib143.jpg', 'DLIB_Train_Real/dlib144.jpg', 'DLIB_Train_Real/dlib145.jpg', 'DLIB_Train_Real/dlib146.jpg', 'DLIB_Train_Real/dlib147.jpg', 'DLIB_Train_Real/dlib148.jpg', 'DLIB_Train_Real/dlib149.jpg', 'DLIB_Train_Real/dlib150.jpg', 'DLIB_Train_Real/dlib151.jpg', 'DLIB_Train_Real/dlib152.jpg', 'DLIB_Train_Real/dlib153.jpg', 'DLIB_Train_Real/dlib154.jpg', 'DLIB_Train_Real/dlib155.jpg', 'DLIB_Train_Real/dlib156.jpg', 'DLIB_Train_Real/dlib157.jpg', 'DLIB_Train_Real/dlib158.jpg', 'DLIB_Train_Real/dlib159.jpg', 'DLIB_Train_Real/dlib160.jpg', 'DLIB_Train_Real/dlib161.jpg', 'DLIB_Train_Real/dlib162.jpg', 'DLIB_Train_Real/dlib163.jpg', 'DLIB_Train_Real/dlib164.jpg', 'DLIB_Train_Real/dlib165.jpg', 'DLIB_Train_Real/dlib166.jpg', 'DLIB_Train_Real/dlib167.jpg', 'DLIB_Train_Real/dlib168.jpg', 'DLIB_Train_Real/dlib169.jpg', 'DLIB_Train_Real/dlib170.jpg', 'DLIB_Train_Real/dlib171.jpg', 'DLIB_Train_Real/dlib172.jpg', 'DLIB_Train_Real/dlib173.jpg', 'DLIB_Train_Real/dlib174.jpg', 'DLIB_Train_Real/dlib175.jpg', 'DLIB_Train_Real/dlib176.jpg', 'DLIB_Train_Real/dlib177.jpg', 'DLIB_Train_Real/dlib178.jpg', 'DLIB_Train_Real/dlib179.jpg', 'DLIB_Train_Real/dlib180.jpg', 'DLIB_Train_Real/dlib181.jpg', 'DLIB_Train_Real/dlib182.jpg', 'DLIB_Train_Real/dlib183.jpg', 'DLIB_Train_Real/dlib184.jpg', 'DLIB_Train_Real/dlib185.jpg', 'DLIB_Train_Real/dlib186.jpg', 'DLIB_Train_Real/dlib187.jpg', 'DLIB_Train_Real/dlib188.jpg', 'DLIB_Train_Real/dlib189.jpg', 'DLIB_Train_Real/dlib190.jpg', 'DLIB_Train_Real/dlib191.jpg', 'DLIB_Train_Real/dlib192.jpg', 'DLIB_Train_Real/dlib193.jpg', 'DLIB_Train_Real/dlib194.jpg', 'DLIB_Train_Real/dlib195.jpg', 'DLIB_Train_Real/dlib196.jpg', 'DLIB_Train_Real/dlib197.jpg', 'DLIB_Train_Real/dlib198.jpg', 'DLIB_Train_Real/dlib199.jpg', 'DLIB_Train_Real/dlib200.jpg', 'DLIB_Train_Real/dlib201.jpg', 'DLIB_Train_Real/dlib202.jpg', 'DLIB_Train_Real/dlib203.jpg', 'DLIB_Train_Real/dlib204.jpg', 'DLIB_Train_Real/dlib205.jpg', 'DLIB_Train_Real/dlib206.jpg', 'DLIB_Train_Real/dlib207.jpg', 'DLIB_Train_Real/dlib208.jpg', 'DLIB_Train_Real/dlib209.jpg', 'DLIB_Train_Real/dlib210.jpg', 'DLIB_Train_Real/dlib211.jpg', 'DLIB_Train_Real/dlib212.jpg', 'DLIB_Train_Real/dlib213.jpg', 'DLIB_Train_Real/dlib214.jpg', 'DLIB_Train_Real/dlib215.jpg', 'DLIB_Train_Real/dlib216.jpg', 'DLIB_Train_Real/dlib217.jpg', 'DLIB_Train_Real/dlib218.jpg', 'DLIB_Train_Real/dlib219.jpg', 'DLIB_Train_Real/dlib220.jpg', 'DLIB_Train_Real/dlib221.jpg', 'DLIB_Train_Real/dlib222.jpg', 'DLIB_Train_Real/dlib223.jpg', 'DLIB_Train_Real/dlib224.jpg', 'DLIB_Train_Real/dlib225.jpg', 'DLIB_Train_Real/dlib226.jpg', 'DLIB_Train_Real/dlib227.jpg', 'DLIB_Train_Real/dlib228.jpg', 'DLIB_Train_Real/dlib229.jpg', 'DLIB_Train_Real/dlib230.jpg', 'DLIB_Train_Real/dlib231.jpg', 'DLIB_Train_Real/dlib232.jpg', 'DLIB_Train_Real/dlib233.jpg', 'DLIB_Train_Real/dlib234.jpg', 'DLIB_Train_Real/dlib235.jpg', 'DLIB_Train_Real/dlib236.jpg', 'DLIB_Train_Real/dlib237.jpg', 'DLIB_Train_Real/dlib238.jpg', 'DLIB_Train_Real/dlib239.jpg', 'DLIB_Train_Real/dlib240.jpg', 'DLIB_Train_Real/dlib241.jpg', 'DLIB_Train_Real/dlib242.jpg', 'DLIB_Train_Real/dlib243.jpg', 'DLIB_Train_Real/dlib244.jpg', 'DLIB_Train_Real/dlib245.jpg', 'DLIB_Train_Real/dlib246.jpg', 'DLIB_Train_Real/dlib247.jpg', 'DLIB_Train_Real/dlib248.jpg', 'DLIB_Train_Real/dlib249.jpg', 'DLIB_Train_Real/dlib250.jpg', 'DLIB_Train_Real/dlib251.jpg', 'DLIB_Train_Real/dlib252.jpg', 'DLIB_Train_Real/dlib253.jpg', 'DLIB_Train_Real/dlib254.jpg', 'DLIB_Train_Real/dlib255.jpg', 'DLIB_Train_Real/dlib256.jpg', 'DLIB_Train_Real/dlib257.jpg', 'DLIB_Train_Real/dlib258.jpg', 'DLIB_Train_Real/dlib259.jpg', 'DLIB_Train_Real/dlib260.jpg', 'DLIB_Train_Real/dlib261.jpg', 'DLIB_Train_Real/dlib262.jpg', 'DLIB_Train_Real/dlib263.jpg', 'DLIB_Train_Real/dlib264.jpg', 'DLIB_Train_Real/dlib265.jpg', 'DLIB_Train_Real/dlib266.jpg', 'DLIB_Train_Real/dlib267.jpg', 'DLIB_Train_Real/dlib268.jpg', 'DLIB_Train_Real/dlib269.jpg', 'DLIB_Train_Real/dlib270.jpg', 'DLIB_Train_Real/dlib271.jpg', 'DLIB_Train_Real/dlib272.jpg', 'DLIB_Train_Real/dlib273.jpg', 'DLIB_Train_Real/dlib274.jpg', 'DLIB_Train_Real/dlib275.jpg', 'DLIB_Train_Real/dlib276.jpg', 'DLIB_Train_Real/dlib277.jpg', 'DLIB_Train_Real/dlib278.jpg', 'DLIB_Train_Real/dlib279.jpg', 'DLIB_Train_Real/dlib280.jpg', 'DLIB_Train_Real/dlib281.jpg', 'DLIB_Train_Real/dlib282.jpg', 'DLIB_Train_Real/dlib283.jpg', 'DLIB_Train_Real/dlib284.jpg', 'DLIB_Train_Real/dlib285.jpg', 'DLIB_Train_Real/dlib286.jpg', 'DLIB_Train_Real/dlib287.jpg', 'DLIB_Train_Real/dlib288.jpg', 'DLIB_Train_Real/dlib289.jpg', 'DLIB_Train_Real/dlib290.jpg', 'DLIB_Train_Real/dlib291.jpg', 'DLIB_Train_Real/dlib292.jpg', 'DLIB_Train_Real/dlib293.jpg', 'DLIB_Train_Real/dlib294.jpg', 'DLIB_Train_Real/dlib295.jpg', 'DLIB_Train_Real/dlib296.jpg', 'DLIB_Train_Real/dlib297.jpg', 'DLIB_Train_Real/dlib298.jpg', 'DLIB_Train_Real/dlib299.jpg', 'DLIB_Train_Real/dlib300.jpg', 'DLIB_Train_Real/dlib301.jpg', 'DLIB_Train_Real/dlib302.jpg', 'DLIB_Train_Real/dlib303.jpg', 'DLIB_Train_Real/dlib304.jpg', 'DLIB_Train_Real/dlib305.jpg', 'DLIB_Train_Real/dlib306.jpg', 'DLIB_Train_Real/dlib307.jpg', 'DLIB_Train_Real/dlib308.jpg', 'DLIB_Train_Real/dlib309.jpg', 'DLIB_Train_Real/dlib310.jpg', 'DLIB_Train_Real/dlib311.jpg', 'DLIB_Train_Real/dlib312.jpg', 'DLIB_Train_Real/dlib313.jpg', 'DLIB_Train_Real/dlib314.jpg', 'DLIB_Train_Real/dlib315.jpg', 'DLIB_Train_Real/dlib316.jpg', 'DLIB_Train_Real/dlib317.jpg', 'DLIB_Train_Real/dlib318.jpg', 'DLIB_Train_Real/dlib319.jpg', 'DLIB_Train_Real/dlib320.jpg', 'DLIB_Train_Real/dlib321.jpg', 'DLIB_Train_Real/dlib322.jpg', 'DLIB_Train_Real/dlib323.jpg', 'DLIB_Train_Real/dlib324.jpg', 'DLIB_Train_Real/dlib325.jpg', 'DLIB_Train_Real/dlib326.jpg', 'DLIB_Train_Real/dlib327.jpg', 'DLIB_Train_Real/dlib328.jpg', 'DLIB_Train_Real/dlib329.jpg', 'DLIB_Train_Real/dlib330.jpg', 'DLIB_Train_Real/dlib331.jpg', 'DLIB_Train_Real/dlib332.jpg', 'DLIB_Train_Real/dlib333.jpg', 'DLIB_Train_Real/dlib334.jpg', 'DLIB_Train_Real/dlib335.jpg', 'DLIB_Train_Real/dlib336.jpg', 'DLIB_Train_Real/dlib337.jpg', 'DLIB_Train_Real/dlib338.jpg', 'DLIB_Train_Real/dlib339.jpg', 'DLIB_Train_Real/dlib340.jpg', 'DLIB_Train_Real/dlib341.jpg', 'DLIB_Train_Real/dlib342.jpg', 'DLIB_Train_Real/dlib343.jpg', 'DLIB_Train_Real/dlib344.jpg', 'DLIB_Train_Real/dlib345.jpg', 'DLIB_Train_Real/dlib346.jpg', 'DLIB_Train_Real/dlib347.jpg', 'DLIB_Train_Real/dlib348.jpg', 'DLIB_Train_Real/dlib349.jpg', 'DLIB_Train_Real/dlib350.jpg', 'DLIB_Train_Real/dlib351.jpg', 'DLIB_Train_Real/dlib352.jpg', 'DLIB_Train_Real/dlib353.jpg', 'DLIB_Train_Real/dlib354.jpg', 'DLIB_Train_Real/dlib355.jpg', 'DLIB_Train_Real/dlib356.jpg', 'DLIB_Train_Real/dlib357.jpg', 'DLIB_Train_Real/dlib358.jpg', 'DLIB_Train_Real/dlib359.jpg', 'DLIB_Train_Real/dlib360.jpg', 'DLIB_Train_Real/dlib361.jpg', 'DLIB_Train_Real/dlib362.jpg', 'DLIB_Train_Real/dlib363.jpg', 'DLIB_Train_Real/dlib364.jpg', 'DLIB_Train_Real/dlib365.jpg', 'DLIB_Train_Real/dlib366.jpg', 'DLIB_Train_Real/dlib367.jpg', 'DLIB_Train_Real/dlib368.jpg', 'DLIB_Train_Real/dlib369.jpg', 'DLIB_Train_Real/dlib370.jpg', 'DLIB_Train_Real/dlib371.jpg', 'DLIB_Train_Real/dlib372.jpg', 'DLIB_Train_Real/dlib373.jpg', 'DLIB_Train_Real/dlib374.jpg', 'DLIB_Train_Real/dlib375.jpg', 'DLIB_Train_Real/dlib376.jpg', 'DLIB_Train_Real/dlib377.jpg', 'DLIB_Train_Real/dlib378.jpg', 'DLIB_Train_Real/dlib379.jpg', 'DLIB_Train_Real/dlib380.jpg', 'DLIB_Train_Real/dlib381.jpg', 'DLIB_Train_Real/dlib382.jpg', 'DLIB_Train_Real/dlib383.jpg', 'DLIB_Train_Real/dlib384.jpg', 'DLIB_Train_Real/dlib385.jpg', 'DLIB_Train_Real/dlib386.jpg', 'DLIB_Train_Real/dlib387.jpg', 'DLIB_Train_Real/dlib388.jpg', 'DLIB_Train_Real/dlib389.jpg', 'DLIB_Train_Real/dlib390.jpg', 'DLIB_Train_Real/dlib391.jpg', 'DLIB_Train_Real/dlib392.jpg', 'DLIB_Train_Real/dlib393.jpg', 'DLIB_Train_Real/dlib394.jpg', 'DLIB_Train_Real/dlib395.jpg', 'DLIB_Train_Real/dlib396.jpg', 'DLIB_Train_Real/dlib397.jpg', 'DLIB_Train_Real/dlib398.jpg', 'DLIB_Train_Real/dlib399.jpg', 'DLIB_Train_Real/dlib400.jpg', 'DLIB_Train_Real/dlib401.jpg', 'DLIB_Train_Real/dlib402.jpg', 'DLIB_Train_Real/dlib403.jpg', 'DLIB_Train_Real/dlib404.jpg', 'DLIB_Train_Real/dlib405.jpg', 'DLIB_Train_Real/dlib406.jpg', 'DLIB_Train_Real/dlib407.jpg', 'DLIB_Train_Real/dlib408.jpg', 'DLIB_Train_Real/dlib409.jpg', 'DLIB_Train_Real/dlib410.jpg', 'DLIB_Train_Real/dlib411.jpg', 'DLIB_Train_Real/dlib412.jpg', 'DLIB_Train_Real/dlib413.jpg', 'DLIB_Train_Real/dlib414.jpg', 'DLIB_Train_Real/dlib415.jpg', 'DLIB_Train_Real/dlib416.jpg', 'DLIB_Train_Real/dlib417.jpg', 'DLIB_Train_Real/dlib418.jpg', 'DLIB_Train_Real/dlib419.jpg', 'DLIB_Train_Real/dlib420.jpg', 'DLIB_Train_Real/dlib421.jpg', 'DLIB_Train_Real/dlib422.jpg', 'DLIB_Train_Real/dlib423.jpg', 'DLIB_Train_Real/dlib424.jpg', 'DLIB_Train_Real/dlib425.jpg', 'DLIB_Train_Real/dlib426.jpg', 'DLIB_Train_Real/dlib427.jpg', 'DLIB_Train_Real/dlib428.jpg', 'DLIB_Train_Real/dlib429.jpg', 'DLIB_Train_Real/dlib430.jpg', 'DLIB_Train_Real/dlib431.jpg', 'DLIB_Train_Real/dlib432.jpg', 'DLIB_Train_Real/dlib433.jpg', 'DLIB_Train_Real/dlib434.jpg', 'DLIB_Train_Real/dlib435.jpg', 'DLIB_Train_Real/dlib436.jpg', 'DLIB_Train_Real/dlib437.jpg', 'DLIB_Train_Real/dlib438.jpg', 'DLIB_Train_Real/dlib439.jpg', 'DLIB_Train_Real/dlib440.jpg', 'DLIB_Train_Real/dlib441.jpg', 'DLIB_Train_Real/dlib442.jpg', 'DLIB_Train_Real/dlib443.jpg', 'DLIB_Train_Real/dlib444.jpg', 'DLIB_Train_Real/dlib445.jpg', 'DLIB_Train_Real/dlib446.jpg', 'DLIB_Train_Real/dlib447.jpg', 'DLIB_Train_Real/dlib448.jpg', 'DLIB_Train_Real/dlib449.jpg', 'DLIB_Train_Real/dlib450.jpg', 'DLIB_Train_Real/dlib451.jpg', 'DLIB_Train_Real/dlib452.jpg', 'DLIB_Train_Real/dlib453.jpg', 'DLIB_Train_Real/dlib454.jpg', 'DLIB_Train_Real/dlib455.jpg', 'DLIB_Train_Real/dlib456.jpg', 'DLIB_Train_Real/dlib457.jpg', 'DLIB_Train_Real/dlib458.jpg', 'DLIB_Train_Real/dlib459.jpg', 'DLIB_Train_Real/dlib460.jpg', 'DLIB_Train_Real/dlib461.jpg', 'DLIB_Train_Real/dlib462.jpg', 'DLIB_Train_Real/dlib463.jpg', 'DLIB_Train_Real/dlib464.jpg', 'DLIB_Train_Real/dlib465.jpg', 'DLIB_Train_Real/dlib466.jpg', 'DLIB_Train_Real/dlib467.jpg', 'DLIB_Train_Real/dlib468.jpg', 'DLIB_Train_Real/dlib469.jpg', 'DLIB_Train_Real/dlib470.jpg', 'DLIB_Train_Real/dlib471.jpg', 'DLIB_Train_Real/dlib472.jpg', 'DLIB_Train_Real/dlib473.jpg', 'DLIB_Train_Real/dlib474.jpg', 'DLIB_Train_Real/dlib475.jpg', 'DLIB_Train_Real/dlib476.jpg', 'DLIB_Train_Real/dlib477.jpg', 'DLIB_Train_Real/dlib478.jpg', 'DLIB_Train_Real/dlib479.jpg', 'DLIB_Train_Real/dlib480.jpg', 'DLIB_Train_Real/dlib481.jpg', 'DLIB_Train_Real/dlib482.jpg', 'DLIB_Train_Real/dlib483.jpg', 'DLIB_Train_Real/dlib484.jpg', 'DLIB_Train_Real/dlib485.jpg', 'DLIB_Train_Real/dlib486.jpg', 'DLIB_Train_Real/dlib487.jpg', 'DLIB_Train_Real/dlib488.jpg', 'DLIB_Train_Real/dlib489.jpg', 'DLIB_Train_Real/dlib490.jpg', 'DLIB_Train_Real/dlib491.jpg', 'DLIB_Train_Real/dlib492.jpg', 'DLIB_Train_Real/dlib493.jpg', 'DLIB_Train_Real/dlib494.jpg', 'DLIB_Train_Real/dlib495.jpg', 'DLIB_Train_Real/dlib496.jpg', 'DLIB_Train_Real/dlib497.jpg', 'DLIB_Train_Real/dlib498.jpg', 'DLIB_Train_Real/dlib499.jpg', 'DLIB_Train_Real/dlib500.jpg', 'DLIB_Train_Real/dlib501.jpg', 'DLIB_Train_Real/dlib502.jpg', 'DLIB_Train_Real/dlib503.jpg', 'DLIB_Train_Real/dlib504.jpg', 'DLIB_Train_Real/dlib505.jpg', 'DLIB_Train_Real/dlib506.jpg', 'DLIB_Train_Real/dlib507.jpg', 'DLIB_Train_Real/dlib508.jpg', 'DLIB_Train_Real/dlib509.jpg', 'DLIB_Train_Real/dlib510.jpg', 'DLIB_Train_Real/dlib511.jpg', 'DLIB_Train_Real/dlib512.jpg', 'DLIB_Train_Real/dlib513.jpg', 'DLIB_Train_Real/dlib514.jpg', 'DLIB_Train_Real/dlib515.jpg', 'DLIB_Train_Real/dlib516.jpg', 'DLIB_Train_Real/dlib517.jpg', 'DLIB_Train_Real/dlib518.jpg', 'DLIB_Train_Real/dlib519.jpg', 'DLIB_Train_Real/dlib520.jpg', 'DLIB_Train_Real/dlib521.jpg', 'DLIB_Train_Real/dlib522.jpg', 'DLIB_Train_Real/dlib523.jpg', 'DLIB_Train_Real/dlib524.jpg', 'DLIB_Train_Real/dlib525.jpg', 'DLIB_Train_Real/dlib526.jpg', 'DLIB_Train_Real/dlib527.jpg', 'DLIB_Train_Real/dlib528.jpg', 'DLIB_Train_Real/dlib529.jpg', 'DLIB_Train_Real/dlib530.jpg', 'DLIB_Train_Real/dlib531.jpg', 'DLIB_Train_Real/dlib532.jpg', 'DLIB_Train_Real/dlib533.jpg', 'DLIB_Train_Real/dlib534.jpg', 'DLIB_Train_Real/dlib535.jpg', 'DLIB_Train_Real/dlib536.jpg', 'DLIB_Train_Real/dlib537.jpg', 'DLIB_Train_Real/dlib538.jpg', 'DLIB_Train_Real/dlib539.jpg', 'DLIB_Train_Real/dlib540.jpg', 'DLIB_Train_Real/dlib541.jpg', 'DLIB_Train_Real/dlib542.jpg', 'DLIB_Train_Real/dlib543.jpg', 'DLIB_Train_Real/dlib544.jpg', 'DLIB_Train_Real/dlib545.jpg', 'DLIB_Train_Real/dlib546.jpg', 'DLIB_Train_Real/dlib547.jpg', 'DLIB_Train_Real/dlib548.jpg', 'DLIB_Train_Real/dlib549.jpg', 'DLIB_Train_Real/dlib550.jpg', 'DLIB_Train_Real/dlib551.jpg', 'DLIB_Train_Real/dlib552.jpg', 'DLIB_Train_Real/dlib553.jpg', 'DLIB_Train_Real/dlib554.jpg', 'DLIB_Train_Real/dlib555.jpg', 'DLIB_Train_Real/dlib556.jpg', 'DLIB_Train_Real/dlib557.jpg', 'DLIB_Train_Real/dlib558.jpg', 'DLIB_Train_Real/dlib559.jpg', 'DLIB_Train_Real/dlib560.jpg', 'DLIB_Train_Real/dlib561.jpg', 'DLIB_Train_Real/dlib562.jpg', 'DLIB_Train_Real/dlib563.jpg', 'DLIB_Train_Real/dlib564.jpg', 'DLIB_Train_Real/dlib565.jpg', 'DLIB_Train_Real/dlib566.jpg', 'DLIB_Train_Real/dlib567.jpg', 'DLIB_Train_Real/dlib568.jpg', 'DLIB_Train_Real/dlib569.jpg', 'DLIB_Train_Real/dlib570.jpg', 'DLIB_Train_Real/dlib571.jpg', 'DLIB_Train_Real/dlib572.jpg', 'DLIB_Train_Real/dlib573.jpg', 'DLIB_Train_Real/dlib574.jpg', 'DLIB_Train_Real/dlib575.jpg', 'DLIB_Train_Real/dlib576.jpg', 'DLIB_Train_Real/dlib577.jpg', 'DLIB_Train_Real/dlib578.jpg', 'DLIB_Train_Real/dlib579.jpg', 'DLIB_Train_Real/dlib580.jpg', 'DLIB_Train_Real/dlib581.jpg', 'DLIB_Train_Real/dlib582.jpg', 'DLIB_Train_Real/dlib583.jpg', 'DLIB_Train_Real/dlib584.jpg', 'DLIB_Train_Real/dlib585.jpg', 'DLIB_Train_Real/dlib586.jpg', 'DLIB_Train_Real/dlib587.jpg', 'DLIB_Train_Real/dlib588.jpg', 'DLIB_Train_Real/dlib589.jpg', 'DLIB_Train_Real/dlib590.jpg', 'DLIB_Train_Real/dlib591.jpg', 'DLIB_Train_Real/dlib592.jpg', 'DLIB_Train_Real/dlib593.jpg', 'DLIB_Train_Real/dlib594.jpg', 'DLIB_Train_Real/dlib595.jpg', 'DLIB_Train_Real/dlib596.jpg', 'DLIB_Train_Real/dlib597.jpg', 'DLIB_Train_Real/dlib598.jpg', 'DLIB_Train_Real/dlib599.jpg', 'DLIB_Train_Real/dlib600.jpg', 'DLIB_Train_Real/dlib601.jpg', 'DLIB_Train_Real/dlib602.jpg', 'DLIB_Train_Real/dlib603.jpg', 'DLIB_Train_Real/dlib604.jpg', 'DLIB_Train_Real/dlib605.jpg', 'DLIB_Train_Real/dlib606.jpg', 'DLIB_Train_Real/dlib607.jpg', 'DLIB_Train_Real/dlib608.jpg', 'DLIB_Train_Real/dlib609.jpg', 'DLIB_Train_Real/dlib610.jpg', 'DLIB_Train_Real/dlib611.jpg', 'DLIB_Train_Real/dlib612.jpg', 'DLIB_Train_Real/dlib613.jpg', 'DLIB_Train_Real/dlib614.jpg', 'DLIB_Train_Real/dlib615.jpg', 'DLIB_Train_Real/dlib616.jpg', 'DLIB_Train_Real/dlib617.jpg', 'DLIB_Train_Real/dlib618.jpg', 'DLIB_Train_Real/dlib619.jpg', 'DLIB_Train_Real/dlib620.jpg', 'DLIB_Train_Real/dlib621.jpg', 'DLIB_Train_Real/dlib622.jpg', 'DLIB_Train_Real/dlib623.jpg', 'DLIB_Train_Real/dlib624.jpg', 'DLIB_Train_Real/dlib625.jpg', 'DLIB_Train_Real/dlib626.jpg', 'DLIB_Train_Real/dlib627.jpg', 'DLIB_Train_Real/dlib628.jpg', 'DLIB_Train_Real/dlib629.jpg', 'DLIB_Train_Real/dlib630.jpg', 'DLIB_Train_Real/dlib631.jpg', 'DLIB_Train_Real/dlib632.jpg', 'DLIB_Train_Real/dlib633.jpg', 'DLIB_Train_Real/dlib634.jpg', 'DLIB_Train_Real/dlib635.jpg', 'DLIB_Train_Real/dlib636.jpg', 'DLIB_Train_Real/dlib637.jpg', 'DLIB_Train_Real/dlib638.jpg', 'DLIB_Train_Real/dlib639.jpg', 'DLIB_Train_Real/dlib640.jpg', 'DLIB_Train_Real/dlib641.jpg', 'DLIB_Train_Real/dlib642.jpg', 'DLIB_Train_Real/dlib643.jpg', 'DLIB_Train_Real/dlib644.jpg', 'DLIB_Train_Real/dlib645.jpg', 'DLIB_Train_Real/dlib646.jpg', 'DLIB_Train_Real/dlib647.jpg', 'DLIB_Train_Real/dlib648.jpg', 'DLIB_Train_Real/dlib649.jpg', 'DLIB_Train_Real/dlib650.jpg', 'DLIB_Train_Real/dlib651.jpg', 'DLIB_Train_Real/dlib652.jpg', 'DLIB_Train_Real/dlib653.jpg', 'DLIB_Train_Real/dlib654.jpg', 'DLIB_Train_Real/dlib655.jpg', 'DLIB_Train_Real/dlib656.jpg', 'DLIB_Train_Real/dlib657.jpg', 'DLIB_Train_Real/dlib658.jpg', 'DLIB_Train_Real/dlib659.jpg', 'DLIB_Train_Real/dlib660.jpg', 'DLIB_Train_Real/dlib661.jpg', 'DLIB_Train_Real/dlib662.jpg', 'DLIB_Train_Real/dlib663.jpg', 'DLIB_Train_Real/dlib664.jpg', 'DLIB_Train_Real/dlib665.jpg', 'DLIB_Train_Real/dlib666.jpg', 'DLIB_Train_Real/dlib667.jpg', 'DLIB_Train_Real/dlib668.jpg', 'DLIB_Train_Real/dlib669.jpg', 'DLIB_Train_Real/dlib670.jpg', 'DLIB_Train_Real/dlib671.jpg', 'DLIB_Train_Real/dlib672.jpg', 'DLIB_Train_Real/dlib673.jpg', 'DLIB_Train_Real/dlib674.jpg', 'DLIB_Train_Real/dlib675.jpg', 'DLIB_Train_Real/dlib676.jpg', 'DLIB_Train_Real/dlib677.jpg', 'DLIB_Train_Real/dlib678.jpg', 'DLIB_Train_Real/dlib679.jpg', 'DLIB_Train_Real/dlib680.jpg', 'DLIB_Train_Real/dlib681.jpg', 'DLIB_Train_Real/dlib682.jpg', 'DLIB_Train_Real/dlib683.jpg', 'DLIB_Train_Real/dlib684.jpg', 'DLIB_Train_Real/dlib685.jpg', 'DLIB_Train_Real/dlib686.jpg', 'DLIB_Train_Real/dlib687.jpg', 'DLIB_Train_Real/dlib688.jpg', 'DLIB_Train_Real/dlib689.jpg', 'DLIB_Train_Real/dlib690.jpg', 'DLIB_Train_Real/dlib691.jpg', 'DLIB_Train_Real/dlib692.jpg', 'DLIB_Train_Real/dlib693.jpg', 'DLIB_Train_Real/dlib694.jpg', 'DLIB_Train_Real/dlib695.jpg', 'DLIB_Train_Real/dlib696.jpg', 'DLIB_Train_Real/dlib697.jpg', 'DLIB_Train_Real/dlib698.jpg', 'DLIB_Train_Real/dlib699.jpg', 'DLIB_Train_Real/dlib700.jpg', 'DLIB_Train_Real/dlib701.jpg', 'DLIB_Train_Real/dlib702.jpg', 'DLIB_Train_Real/dlib703.jpg', 'DLIB_Train_Real/dlib704.jpg', 'DLIB_Train_Real/dlib705.jpg', 'DLIB_Train_Real/dlib706.jpg', 'DLIB_Train_Real/dlib707.jpg', 'DLIB_Train_Real/dlib708.jpg', 'DLIB_Train_Real/dlib709.jpg', 'DLIB_Train_Real/dlib710.jpg', 'DLIB_Train_Real/dlib711.jpg', 'DLIB_Train_Real/dlib712.jpg', 'DLIB_Train_Real/dlib713.jpg', 'DLIB_Train_Real/dlib714.jpg', 'DLIB_Train_Real/dlib715.jpg', 'DLIB_Train_Real/dlib716.jpg', 'DLIB_Train_Real/dlib717.jpg', 'DLIB_Train_Real/dlib718.jpg', 'DLIB_Train_Real/dlib719.jpg', 'DLIB_Train_Real/dlib720.jpg', 'DLIB_Train_Real/dlib721.jpg', 'DLIB_Train_Real/dlib722.jpg', 'DLIB_Train_Real/dlib723.jpg', 'DLIB_Train_Real/dlib724.jpg', 'DLIB_Train_Real/dlib725.jpg', 'DLIB_Train_Real/dlib726.jpg', 'DLIB_Train_Real/dlib727.jpg', 'DLIB_Train_Real/dlib728.jpg', 'DLIB_Train_Real/dlib729.jpg', 'DLIB_Train_Real/dlib730.jpg', 'DLIB_Train_Real/dlib731.jpg', 'DLIB_Train_Real/dlib732.jpg', 'DLIB_Train_Real/dlib733.jpg', 'DLIB_Train_Real/dlib734.jpg', 'DLIB_Train_Real/dlib735.jpg', 'DLIB_Train_Real/dlib736.jpg', 'DLIB_Train_Real/dlib737.jpg', 'DLIB_Train_Real/dlib738.jpg', 'DLIB_Train_Real/dlib739.jpg', 'DLIB_Train_Real/dlib740.jpg', 'DLIB_Train_Real/dlib741.jpg', 'DLIB_Train_Real/dlib742.jpg', 'DLIB_Train_Real/dlib743.jpg', 'DLIB_Train_Real/dlib744.jpg', 'DLIB_Train_Real/dlib745.jpg', 'DLIB_Train_Real/dlib746.jpg', 'DLIB_Train_Real/dlib747.jpg', 'DLIB_Train_Real/dlib748.jpg', 'DLIB_Train_Real/dlib749.jpg', 'DLIB_Train_Real/dlib750.jpg', 'DLIB_Train_Real/dlib751.jpg', 'DLIB_Train_Real/dlib752.jpg', 'DLIB_Train_Real/dlib753.jpg', 'DLIB_Train_Real/dlib754.jpg', 'DLIB_Train_Real/dlib755.jpg', 'DLIB_Train_Real/dlib756.jpg', 'DLIB_Train_Real/dlib757.jpg', 'DLIB_Train_Real/dlib758.jpg', 'DLIB_Train_Real/dlib759.jpg', 'DLIB_Train_Real/dlib760.jpg', 'DLIB_Train_Real/dlib761.jpg', 'DLIB_Train_Real/dlib762.jpg', 'DLIB_Train_Real/dlib763.jpg', 'DLIB_Train_Real/dlib764.jpg', 'DLIB_Train_Real/dlib765.jpg', 'DLIB_Train_Real/dlib766.jpg', 'DLIB_Train_Real/dlib767.jpg', 'DLIB_Train_Real/dlib768.jpg', 'DLIB_Train_Real/dlib769.jpg', 'DLIB_Train_Real/dlib770.jpg', 'DLIB_Train_Real/dlib771.jpg', 'DLIB_Train_Real/dlib772.jpg', 'DLIB_Train_Real/dlib773.jpg', 'DLIB_Train_Real/dlib774.jpg', 'DLIB_Train_Real/dlib775.jpg', 'DLIB_Train_Real/dlib776.jpg', 'DLIB_Train_Real/dlib777.jpg', 'DLIB_Train_Real/dlib778.jpg', 'DLIB_Train_Real/dlib779.jpg', 'DLIB_Train_Real/dlib780.jpg', 'DLIB_Train_Real/dlib781.jpg', 'DLIB_Train_Real/dlib782.jpg', 'DLIB_Train_Real/dlib783.jpg', 'DLIB_Train_Real/dlib784.jpg', 'DLIB_Train_Real/dlib785.jpg', 'DLIB_Train_Real/dlib786.jpg', 'DLIB_Train_Real/dlib787.jpg', 'DLIB_Train_Real/dlib788.jpg', 'DLIB_Train_Real/dlib789.jpg', 'DLIB_Train_Real/dlib790.jpg', 'DLIB_Train_Real/dlib791.jpg', 'DLIB_Train_Real/dlib792.jpg', 'DLIB_Train_Real/dlib793.jpg', 'DLIB_Train_Real/dlib794.jpg', 'DLIB_Train_Real/dlib795.jpg', 'DLIB_Train_Real/dlib796.jpg', 'DLIB_Train_Real/dlib797.jpg', 'DLIB_Train_Real/dlib798.jpg', 'DLIB_Train_Real/dlib799.jpg', 'DLIB_Train_Real/dlib800.jpg', 'DLIB_Train_Real/dlib801.jpg', 'DLIB_Train_Real/dlib802.jpg', 'DLIB_Train_Real/dlib803.jpg', 'DLIB_Train_Real/dlib804.jpg', 'DLIB_Train_Real/dlib805.jpg', 'DLIB_Train_Real/dlib806.jpg', 'DLIB_Train_Real/dlib807.jpg', 'DLIB_Train_Real/dlib808.jpg', 'DLIB_Train_Real/dlib809.jpg', 'DLIB_Train_Real/dlib810.jpg', 'DLIB_Train_Real/dlib811.jpg', 'DLIB_Train_Real/dlib812.jpg', 'DLIB_Train_Real/dlib813.jpg', 'DLIB_Train_Real/dlib814.jpg', 'DLIB_Train_Real/dlib815.jpg', 'DLIB_Train_Real/dlib816.jpg', 'DLIB_Train_Real/dlib817.jpg', 'DLIB_Train_Real/dlib818.jpg', 'DLIB_Train_Real/dlib819.jpg', 'DLIB_Train_Real/dlib820.jpg', 'DLIB_Train_Real/dlib821.jpg', 'DLIB_Train_Real/dlib822.jpg', 'DLIB_Train_Real/dlib823.jpg', 'DLIB_Train_Real/dlib824.jpg', 'DLIB_Train_Real/dlib825.jpg', 'DLIB_Train_Real/dlib826.jpg', 'DLIB_Train_Real/dlib827.jpg', 'DLIB_Train_Real/dlib828.jpg', 'DLIB_Train_Real/dlib829.jpg', 'DLIB_Train_Real/dlib830.jpg', 'DLIB_Train_Real/dlib831.jpg', 'DLIB_Train_Real/dlib832.jpg', 'DLIB_Train_Real/dlib833.jpg', 'DLIB_Train_Real/dlib834.jpg', 'DLIB_Train_Real/dlib835.jpg', 'DLIB_Train_Real/dlib836.jpg', 'DLIB_Train_Real/dlib837.jpg', 'DLIB_Train_Real/dlib838.jpg', 'DLIB_Train_Real/dlib839.jpg', 'DLIB_Train_Real/dlib840.jpg', 'DLIB_Train_Real/dlib841.jpg', 'DLIB_Train_Real/dlib842.jpg', 'DLIB_Train_Real/dlib843.jpg', 'DLIB_Train_Real/dlib844.jpg', 'DLIB_Train_Real/dlib845.jpg', 'DLIB_Train_Real/dlib846.jpg', 'DLIB_Train_Real/dlib847.jpg', 'DLIB_Train_Real/dlib848.jpg', 'DLIB_Train_Real/dlib849.jpg', 'DLIB_Train_Real/dlib850.jpg', 'DLIB_Train_Real/dlib851.jpg', 'DLIB_Train_Real/dlib852.jpg', 'DLIB_Train_Real/dlib853.jpg', 'DLIB_Train_Real/dlib854.jpg', 'DLIB_Train_Real/dlib855.jpg', 'DLIB_Train_Real/dlib856.jpg', 'DLIB_Train_Real/dlib857.jpg', 'DLIB_Train_Real/dlib858.jpg', 'DLIB_Train_Real/dlib859.jpg', 'DLIB_Train_Real/dlib860.jpg', 'DLIB_Train_Real/dlib861.jpg', 'DLIB_Train_Real/dlib862.jpg', 'DLIB_Train_Real/dlib863.jpg', 'DLIB_Train_Real/dlib864.jpg', 'DLIB_Train_Real/dlib865.jpg', 'DLIB_Train_Real/dlib866.jpg', 'DLIB_Train_Real/dlib867.jpg', 'DLIB_Train_Real/dlib868.jpg', 'DLIB_Train_Real/dlib869.jpg', 'DLIB_Train_Real/dlib870.jpg', 'DLIB_Train_Real/dlib871.jpg', 'DLIB_Train_Real/dlib872.jpg', 'DLIB_Train_Real/dlib873.jpg', 'DLIB_Train_Real/dlib874.jpg', 'DLIB_Train_Real/dlib875.jpg', 'DLIB_Train_Real/dlib876.jpg', 'DLIB_Train_Real/dlib877.jpg', 'DLIB_Train_Real/dlib878.jpg', 'DLIB_Train_Real/dlib879.jpg', 'DLIB_Train_Real/dlib880.jpg', 'DLIB_Train_Real/dlib881.jpg', 'DLIB_Train_Real/dlib882.jpg', 'DLIB_Train_Real/dlib883.jpg', 'DLIB_Train_Real/dlib884.jpg', 'DLIB_Train_Real/dlib885.jpg', 'DLIB_Train_Real/dlib886.jpg', 'DLIB_Train_Real/dlib887.jpg', 'DLIB_Train_Real/dlib888.jpg', 'DLIB_Train_Real/dlib889.jpg', 'DLIB_Train_Real/dlib890.jpg', 'DLIB_Train_Real/dlib891.jpg', 'DLIB_Train_Real/dlib892.jpg', 'DLIB_Train_Real/dlib893.jpg', 'DLIB_Train_Real/dlib894.jpg', 'DLIB_Train_Real/dlib895.jpg', 'DLIB_Train_Real/dlib896.jpg', 'DLIB_Train_Real/dlib897.jpg', 'DLIB_Train_Real/dlib898.jpg', 'DLIB_Train_Real/dlib899.jpg', 'DLIB_Train_Real/dlib900.jpg', 'DLIB_Train_Real/dlib901.jpg', 'DLIB_Train_Real/dlib902.jpg', 'DLIB_Train_Real/dlib903.jpg', 'DLIB_Train_Real/dlib904.jpg', 'DLIB_Train_Real/dlib905.jpg', 'DLIB_Train_Real/dlib906.jpg', 'DLIB_Train_Real/dlib907.jpg', 'DLIB_Train_Real/dlib908.jpg', 'DLIB_Train_Real/dlib909.jpg', 'DLIB_Train_Real/dlib910.jpg', 'DLIB_Train_Real/dlib911.jpg', 'DLIB_Train_Real/dlib912.jpg', 'DLIB_Train_Real/dlib913.jpg', 'DLIB_Train_Real/dlib914.jpg', 'DLIB_Train_Real/dlib915.jpg', 'DLIB_Train_Real/dlib916.jpg', 'DLIB_Train_Real/dlib917.jpg', 'DLIB_Train_Real/dlib918.jpg', 'DLIB_Train_Real/dlib919.jpg', 'DLIB_Train_Real/dlib920.jpg', 'DLIB_Train_Real/dlib921.jpg', 'DLIB_Train_Real/dlib922.jpg', 'DLIB_Train_Real/dlib923.jpg', 'DLIB_Train_Real/dlib924.jpg', 'DLIB_Train_Real/dlib925.jpg', 'DLIB_Train_Real/dlib926.jpg', 'DLIB_Train_Real/dlib927.jpg', 'DLIB_Train_Real/dlib928.jpg', 'DLIB_Train_Real/dlib929.jpg', 'DLIB_Train_Real/dlib930.jpg', 'DLIB_Train_Real/dlib931.jpg', 'DLIB_Train_Real/dlib932.jpg', 'DLIB_Train_Real/dlib933.jpg', 'DLIB_Train_Real/dlib934.jpg', 'DLIB_Train_Real/dlib935.jpg', 'DLIB_Train_Real/dlib936.jpg', 'DLIB_Train_Real/dlib937.jpg', 'DLIB_Train_Real/dlib938.jpg', 'DLIB_Train_Real/dlib939.jpg', 'DLIB_Train_Real/dlib940.jpg', 'DLIB_Train_Real/dlib941.jpg', 'DLIB_Train_Real/dlib942.jpg', 'DLIB_Train_Real/dlib943.jpg', 'DLIB_Train_Real/dlib944.jpg', 'DLIB_Train_Real/dlib945.jpg', 'DLIB_Train_Real/dlib946.jpg', 'DLIB_Train_Real/dlib947.jpg', 'DLIB_Train_Real/dlib948.jpg', 'DLIB_Train_Real/dlib949.jpg', 'DLIB_Train_Real/dlib950.jpg', 'DLIB_Train_Real/dlib951.jpg', 'DLIB_Train_Real/dlib952.jpg', 'DLIB_Train_Real/dlib953.jpg', 'DLIB_Train_Real/dlib954.jpg', 'DLIB_Train_Real/dlib955.jpg', 'DLIB_Train_Real/dlib956.jpg', 'DLIB_Train_Real/dlib957.jpg', 'DLIB_Train_Real/dlib958.jpg', 'DLIB_Train_Real/dlib959.jpg', 'DLIB_Train_Real/dlib960.jpg', 'DLIB_Train_Real/dlib961.jpg', 'DLIB_Train_Real/dlib962.jpg', 'DLIB_Train_Real/dlib963.jpg', 'DLIB_Train_Real/dlib964.jpg', 'DLIB_Train_Real/dlib965.jpg', 'DLIB_Train_Real/dlib966.jpg', 'DLIB_Train_Real/dlib967.jpg', 'DLIB_Train_Real/dlib968.jpg', 'DLIB_Train_Real/dlib969.jpg', 'DLIB_Train_Real/dlib970.jpg', 'DLIB_Train_Real/dlib971.jpg', 'DLIB_Train_Real/dlib972.jpg', 'DLIB_Train_Real/dlib973.jpg', 'DLIB_Train_Real/dlib974.jpg', 'DLIB_Train_Real/dlib975.jpg', 'DLIB_Train_Real/dlib976.jpg', 'DLIB_Train_Real/dlib977.jpg', 'DLIB_Train_Real/dlib978.jpg', 'DLIB_Train_Real/dlib979.jpg', 'DLIB_Train_Real/dlib980.jpg', 'DLIB_Train_Real/dlib981.jpg', 'DLIB_Train_Real/dlib982.jpg', 'DLIB_Train_Real/dlib983.jpg', 'DLIB_Train_Real/dlib984.jpg', 'DLIB_Train_Real/dlib985.jpg', 'DLIB_Train_Real/dlib986.jpg', 'DLIB_Train_Real/dlib987.jpg', 'DLIB_Train_Real/dlib988.jpg', 'DLIB_Train_Real/dlib989.jpg', 'DLIB_Train_Real/dlib990.jpg', 'DLIB_Train_Real/dlib991.jpg', 'DLIB_Train_Real/dlib992.jpg', 'DLIB_Train_Real/dlib993.jpg', 'DLIB_Train_Real/dlib994.jpg', 'DLIB_Train_Real/dlib995.jpg', 'DLIB_Train_Real/dlib996.jpg', 'DLIB_Train_Real/dlib997.jpg', 'DLIB_Train_Real/dlib998.jpg', 'DLIB_Train_Real/dlib999.jpg', 'DLIB_Train_Real/dlib1000.jpg', 'DLIB_Train_Real/dlib1001.jpg', 'DLIB_Train_Real/dlib1002.jpg', 'DLIB_Train_Real/dlib1003.jpg', 'DLIB_Train_Real/dlib1004.jpg', 'DLIB_Train_Real/dlib1005.jpg', 'DLIB_Train_Real/dlib1006.jpg', 'DLIB_Train_Real/dlib1007.jpg', 'DLIB_Train_Real/dlib1008.jpg', 'DLIB_Train_Real/dlib1009.jpg', 'DLIB_Train_Real/dlib1010.jpg', 'DLIB_Train_Real/dlib1011.jpg', 'DLIB_Train_Real/dlib1012.jpg', 'DLIB_Train_Real/dlib1013.jpg', 'DLIB_Train_Real/dlib1014.jpg', 'DLIB_Train_Real/dlib1015.jpg', 'DLIB_Train_Real/dlib1016.jpg', 'DLIB_Train_Real/dlib1017.jpg', 'DLIB_Train_Real/dlib1018.jpg', 'DLIB_Train_Real/dlib1019.jpg', 'DLIB_Train_Real/dlib1020.jpg', 'DLIB_Train_Real/dlib1021.jpg', 'DLIB_Train_Real/dlib1022.jpg', 'DLIB_Train_Real/dlib1023.jpg', 'DLIB_Train_Real/dlib1024.jpg', 'DLIB_Train_Real/dlib1025.jpg', 'DLIB_Train_Real/dlib1026.jpg', 'DLIB_Train_Real/dlib1027.jpg', 'DLIB_Train_Real/dlib1028.jpg', 'DLIB_Train_Real/dlib1029.jpg', 'DLIB_Train_Real/dlib1030.jpg', 'DLIB_Train_Real/dlib1031.jpg', 'DLIB_Train_Real/dlib1032.jpg', 'DLIB_Train_Real/dlib1033.jpg', 'DLIB_Train_Real/dlib1034.jpg', 'DLIB_Train_Real/dlib1035.jpg', 'DLIB_Train_Real/dlib1036.jpg', 'DLIB_Train_Real/dlib1037.jpg', 'DLIB_Train_Real/dlib1038.jpg', 'DLIB_Train_Real/dlib1039.jpg', 'DLIB_Train_Real/dlib1040.jpg', 'DLIB_Train_Real/dlib1041.jpg', 'DLIB_Train_Real/dlib1042.jpg', 'DLIB_Train_Real/dlib1043.jpg', 'DLIB_Train_Real/dlib1044.jpg', 'DLIB_Train_Real/dlib1045.jpg', 'DLIB_Train_Real/dlib1046.jpg', 'DLIB_Train_Real/dlib1047.jpg', 'DLIB_Train_Real/dlib1048.jpg', 'DLIB_Train_Real/dlib1049.jpg', 'DLIB_Train_Real/dlib1050.jpg', 'DLIB_Train_Real/dlib1051.jpg', 'DLIB_Train_Real/dlib1052.jpg', 'DLIB_Train_Real/dlib1053.jpg', 'DLIB_Train_Real/dlib1054.jpg', 'DLIB_Train_Real/dlib1055.jpg', 'DLIB_Train_Real/dlib1056.jpg', 'DLIB_Train_Real/dlib1057.jpg', 'DLIB_Train_Real/dlib1058.jpg', 'DLIB_Train_Real/dlib1059.jpg', 'DLIB_Train_Real/dlib1060.jpg', 'DLIB_Train_Real/dlib1061.jpg', 'DLIB_Train_Real/dlib1062.jpg', 'DLIB_Train_Real/dlib1063.jpg', 'DLIB_Train_Real/dlib1064.jpg', 'DLIB_Train_Real/dlib1065.jpg', 'DLIB_Train_Real/dlib1066.jpg', 'DLIB_Train_Real/dlib1067.jpg', 'DLIB_Train_Real/dlib1068.jpg', 'DLIB_Train_Real/dlib1069.jpg', 'DLIB_Train_Real/dlib1070.jpg', 'DLIB_Train_Real/dlib1071.jpg', 'DLIB_Train_Real/dlib1072.jpg', 'DLIB_Train_Real/dlib1073.jpg', 'DLIB_Train_Real/dlib1074.jpg', 'DLIB_Train_Real/dlib1075.jpg', 'DLIB_Train_Real/dlib1076.jpg', 'DLIB_Train_Real/dlib1077.jpg', 'DLIB_Train_Real/dlib1078.jpg', 'DLIB_Train_Real/dlib1079.jpg', 'DLIB_Train_Real/dlib1080.jpg', 'DLIB_Train_Real/dlib1081.jpg', 'DLIB_Train_Real/dlib1082.jpg', 'DLIB_Train_Real/dlib1083.jpg', 'DLIB_Train_Real/dlib1084.jpg', 'DLIB_Train_Real/dlib1085.jpg', 'DLIB_Train_Real/dlib1086.jpg', 'DLIB_Train_Real/dlib1087.jpg', 'DLIB_Train_Real/dlib1088.jpg', 'DLIB_Train_Real/dlib1089.jpg', 'DLIB_Train_Real/dlib1090.jpg', 'DLIB_Train_Real/dlib1091.jpg', 'DLIB_Train_Real/dlib1092.jpg', 'DLIB_Train_Real/dlib1093.jpg', 'DLIB_Train_Real/dlib1094.jpg', 'DLIB_Train_Real/dlib1095.jpg', 'DLIB_Train_Real/dlib1096.jpg', 'DLIB_Train_Real/dlib1097.jpg', 'DLIB_Train_Real/dlib1098.jpg', 'DLIB_Train_Real/dlib1099.jpg', 'DLIB_Train_Real/dlib1100.jpg', 'DLIB_Train_Real/dlib1101.jpg', 'DLIB_Train_Real/dlib1102.jpg', 'DLIB_Train_Real/dlib1103.jpg', 'DLIB_Train_Real/dlib1104.jpg', 'DLIB_Train_Real/dlib1105.jpg', 'DLIB_Train_Real/dlib1106.jpg', 'DLIB_Train_Real/dlib1107.jpg', 'DLIB_Train_Real/dlib1108.jpg', 'DLIB_Train_Real/dlib1109.jpg', 'DLIB_Train_Real/dlib1110.jpg', 'DLIB_Train_Real/dlib1111.jpg', 'DLIB_Train_Real/dlib1112.jpg', 'DLIB_Train_Real/dlib1113.jpg', 'DLIB_Train_Real/dlib1114.jpg', 'DLIB_Train_Real/dlib1115.jpg', 'DLIB_Train_Real/dlib1116.jpg', 'DLIB_Train_Real/dlib1117.jpg', 'DLIB_Train_Real/dlib1118.jpg', 'DLIB_Train_Real/dlib1119.jpg', 'DLIB_Train_Real/dlib1120.jpg', 'DLIB_Train_Real/dlib1121.jpg', 'DLIB_Train_Real/dlib1122.jpg', 'DLIB_Train_Real/dlib1123.jpg', 'DLIB_Train_Real/dlib1124.jpg', 'DLIB_Train_Real/dlib1125.jpg', 'DLIB_Train_Real/dlib1126.jpg', 'DLIB_Train_Real/dlib1127.jpg', 'DLIB_Train_Real/dlib1128.jpg', 'DLIB_Train_Real/dlib1129.jpg', 'DLIB_Train_Real/dlib1130.jpg', 'DLIB_Train_Real/dlib1131.jpg', 'DLIB_Train_Real/dlib1132.jpg', 'DLIB_Train_Real/dlib1133.jpg', 'DLIB_Train_Real/dlib1134.jpg', 'DLIB_Train_Real/dlib1135.jpg', 'DLIB_Train_Real/dlib1136.jpg', 'DLIB_Train_Real/dlib1137.jpg', 'DLIB_Train_Real/dlib1138.jpg', 'DLIB_Train_Real/dlib1139.jpg', 'DLIB_Train_Real/dlib1140.jpg', 'DLIB_Train_Real/dlib1141.jpg', 'DLIB_Train_Real/dlib1142.jpg', 'DLIB_Train_Real/dlib1143.jpg', 'DLIB_Train_Real/dlib1144.jpg', 'DLIB_Train_Real/dlib1145.jpg', 'DLIB_Train_Real/dlib1146.jpg', 'DLIB_Train_Real/dlib1147.jpg', 'DLIB_Train_Real/dlib1148.jpg', 'DLIB_Train_Real/dlib1149.jpg', 'DLIB_Train_Real/dlib1150.jpg', 'DLIB_Train_Real/dlib1151.jpg', 'DLIB_Train_Real/dlib1152.jpg', 'DLIB_Train_Real/dlib1153.jpg', 'DLIB_Train_Real/dlib1154.jpg', 'DLIB_Train_Real/dlib1155.jpg', 'DLIB_Train_Real/dlib1156.jpg', 'DLIB_Train_Real/dlib1157.jpg', 'DLIB_Train_Real/dlib1158.jpg', 'DLIB_Train_Real/dlib1159.jpg', 'DLIB_Train_Real/dlib1160.jpg', 'DLIB_Train_Real/dlib1161.jpg', 'DLIB_Train_Real/dlib1162.jpg', 'DLIB_Train_Real/dlib1163.jpg', 'DLIB_Train_Real/dlib1164.jpg', 'DLIB_Train_Real/dlib1165.jpg', 'DLIB_Train_Real/dlib1166.jpg', 'DLIB_Train_Real/dlib1167.jpg', 'DLIB_Train_Real/dlib1168.jpg', 'DLIB_Train_Real/dlib1169.jpg', 'DLIB_Train_Real/dlib1170.jpg', 'DLIB_Train_Real/dlib1171.jpg', 'DLIB_Train_Real/dlib1172.jpg', 'DLIB_Train_Real/dlib1173.jpg', 'DLIB_Train_Real/dlib1174.jpg', 'DLIB_Train_Real/dlib1175.jpg', 'DLIB_Train_Real/dlib1176.jpg', 'DLIB_Train_Real/dlib1177.jpg', 'DLIB_Train_Real/dlib1178.jpg', 'DLIB_Train_Real/dlib1179.jpg', 'DLIB_Train_Real/dlib1180.jpg', 'DLIB_Train_Real/dlib1181.jpg', 'DLIB_Train_Real/dlib1182.jpg', 'DLIB_Train_Real/dlib1183.jpg', 'DLIB_Train_Real/dlib1184.jpg', 'DLIB_Train_Real/dlib1185.jpg', 'DLIB_Train_Real/dlib1186.jpg', 'DLIB_Train_Real/dlib1187.jpg', 'DLIB_Train_Real/dlib1188.jpg', 'DLIB_Train_Real/dlib1189.jpg', 'DLIB_Train_Real/dlib1190.jpg', 'DLIB_Train_Real/dlib1191.jpg', 'DLIB_Train_Real/dlib1192.jpg', 'DLIB_Train_Real/dlib1193.jpg', 'DLIB_Train_Real/dlib1194.jpg', 'DLIB_Train_Real/dlib1195.jpg', 'DLIB_Train_Real/dlib1196.jpg', 'DLIB_Train_Real/dlib1197.jpg', 'DLIB_Train_Real/dlib1198.jpg', 'DLIB_Train_Real/dlib1199.jpg', 'DLIB_Train_Real/dlib1200.jpg', 'DLIB_Train_Real/dlib1201.jpg', 'DLIB_Train_Real/dlib1202.jpg', 'DLIB_Train_Real/dlib1203.jpg', 'DLIB_Train_Real/dlib1204.jpg', 'DLIB_Train_Real/dlib1205.jpg', 'DLIB_Train_Real/dlib1206.jpg', 'DLIB_Train_Real/dlib1207.jpg', 'DLIB_Train_Real/dlib1208.jpg', 'DLIB_Train_Real/dlib1209.jpg', 'DLIB_Train_Real/dlib1210.jpg', 'DLIB_Train_Real/dlib1211.jpg', 'DLIB_Train_Real/dlib1212.jpg', 'DLIB_Train_Real/dlib1213.jpg', 'DLIB_Train_Real/dlib1214.jpg', 'DLIB_Train_Real/dlib1215.jpg', 'DLIB_Train_Real/dlib1216.jpg', 'DLIB_Train_Real/dlib1217.jpg', 'DLIB_Train_Real/dlib1218.jpg', 'DLIB_Train_Real/dlib1219.jpg', 'DLIB_Train_Real/dlib1220.jpg', 'DLIB_Train_Real/dlib1221.jpg', 'DLIB_Train_Real/dlib1222.jpg', 'DLIB_Train_Real/dlib1223.jpg', 'DLIB_Train_Real/dlib1224.jpg', 'DLIB_Train_Real/dlib1225.jpg', 'DLIB_Train_Real/dlib1226.jpg', 'DLIB_Train_Real/dlib1227.jpg', 'DLIB_Train_Real/dlib1228.jpg', 'DLIB_Train_Real/dlib1229.jpg', 'DLIB_Train_Real/dlib1230.jpg', 'DLIB_Train_Real/dlib1231.jpg', 'DLIB_Train_Real/dlib1232.jpg', 'DLIB_Train_Real/dlib1233.jpg', 'DLIB_Train_Real/dlib1234.jpg', 'DLIB_Train_Real/dlib1235.jpg', 'DLIB_Train_Real/dlib1236.jpg', 'DLIB_Train_Real/dlib1237.jpg', 'DLIB_Train_Real/dlib1238.jpg', 'DLIB_Train_Real/dlib1239.jpg', 'DLIB_Train_Real/dlib1240.jpg', 'DLIB_Train_Real/dlib1241.jpg', 'DLIB_Train_Real/dlib1242.jpg', 'DLIB_Train_Real/dlib1243.jpg', 'DLIB_Train_Real/dlib1244.jpg', 'DLIB_Train_Real/dlib1245.jpg', 'DLIB_Train_Real/dlib1246.jpg', 'DLIB_Train_Real/dlib1247.jpg', 'DLIB_Train_Real/dlib1248.jpg', 'DLIB_Train_Real/dlib1249.jpg', 'DLIB_Train_Real/dlib1250.jpg', 'DLIB_Train_Real/dlib1251.jpg', 'DLIB_Train_Real/dlib1252.jpg', 'DLIB_Train_Real/dlib1253.jpg', 'DLIB_Train_Real/dlib1254.jpg', 'DLIB_Train_Real/dlib1255.jpg', 'DLIB_Train_Real/dlib1256.jpg', 'DLIB_Train_Real/dlib1257.jpg', 'DLIB_Train_Real/dlib1258.jpg', 'DLIB_Train_Real/dlib1259.jpg', 'DLIB_Train_Real/dlib1260.jpg', 'DLIB_Train_Real/dlib1261.jpg', 'DLIB_Train_Real/dlib1262.jpg', 'DLIB_Train_Real/dlib1263.jpg', 'DLIB_Train_Real/dlib1264.jpg', 'DLIB_Train_Real/dlib1265.jpg', 'DLIB_Train_Real/dlib1266.jpg', 'DLIB_Train_Real/dlib1267.jpg', 'DLIB_Train_Real/dlib1268.jpg', 'DLIB_Train_Real/dlib1269.jpg', 'DLIB_Train_Real/dlib1270.jpg', 'DLIB_Train_Real/dlib1271.jpg', 'DLIB_Train_Real/dlib1272.jpg', 'DLIB_Train_Real/dlib1273.jpg', 'DLIB_Train_Real/dlib1274.jpg', 'DLIB_Train_Real/dlib1275.jpg', 'DLIB_Train_Real/dlib1276.jpg', 'DLIB_Train_Real/dlib1277.jpg', 'DLIB_Train_Real/dlib1278.jpg', 'DLIB_Train_Real/dlib1279.jpg', 'DLIB_Train_Real/dlib1280.jpg', 'DLIB_Train_Real/dlib1281.jpg', 'DLIB_Train_Real/dlib1282.jpg', 'DLIB_Train_Real/dlib1283.jpg', 'DLIB_Train_Real/dlib1284.jpg', 'DLIB_Train_Real/dlib1285.jpg', 'DLIB_Train_Real/dlib1286.jpg', 'DLIB_Train_Real/dlib1287.jpg', 'DLIB_Train_Real/dlib1288.jpg', 'DLIB_Train_Real/dlib1289.jpg', 'DLIB_Train_Real/dlib1290.jpg', 'DLIB_Train_Real/dlib1291.jpg', 'DLIB_Train_Real/dlib1292.jpg', 'DLIB_Train_Real/dlib1293.jpg', 'DLIB_Train_Real/dlib1294.jpg', 'DLIB_Train_Real/dlib1295.jpg', 'DLIB_Train_Real/dlib1296.jpg', 'DLIB_Train_Real/dlib1297.jpg', 'DLIB_Train_Real/dlib1298.jpg', 'DLIB_Train_Real/dlib1299.jpg', 'DLIB_Train_Real/dlib1300.jpg', 'DLIB_Train_Real/dlib1301.jpg', 'DLIB_Train_Real/dlib1302.jpg', 'DLIB_Train_Real/dlib1303.jpg', 'DLIB_Train_Real/dlib1304.jpg', 'DLIB_Train_Real/dlib1305.jpg', 'DLIB_Train_Real/dlib1306.jpg', 'DLIB_Train_Real/dlib1307.jpg', 'DLIB_Train_Real/dlib1308.jpg', 'DLIB_Train_Real/dlib1309.jpg', 'DLIB_Train_Real/dlib1310.jpg', 'DLIB_Train_Real/dlib1311.jpg', 'DLIB_Train_Real/dlib1312.jpg', 'DLIB_Train_Real/dlib1313.jpg', 'DLIB_Train_Real/dlib1314.jpg', 'DLIB_Train_Real/dlib1315.jpg', 'DLIB_Train_Real/dlib1316.jpg', 'DLIB_Train_Real/dlib1317.jpg', 'DLIB_Train_Real/dlib1318.jpg', 'DLIB_Train_Real/dlib1319.jpg', 'DLIB_Train_Real/dlib1320.jpg', 'DLIB_Train_Real/dlib1321.jpg', 'DLIB_Train_Real/dlib1322.jpg', 'DLIB_Train_Real/dlib1323.jpg', 'DLIB_Train_Real/dlib1324.jpg', 'DLIB_Train_Real/dlib1325.jpg', 'DLIB_Train_Real/dlib1326.jpg', 'DLIB_Train_Real/dlib1327.jpg', 'DLIB_Train_Real/dlib1328.jpg', 'DLIB_Train_Real/dlib1329.jpg', 'DLIB_Train_Real/dlib1330.jpg', 'DLIB_Train_Real/dlib1331.jpg', 'DLIB_Train_Real/dlib1332.jpg', 'DLIB_Train_Real/dlib1333.jpg', 'DLIB_Train_Real/dlib1334.jpg', 'DLIB_Train_Real/dlib1335.jpg', 'DLIB_Train_Real/dlib1336.jpg', 'DLIB_Train_Real/dlib1337.jpg', 'DLIB_Train_Real/dlib1338.jpg', 'DLIB_Train_Real/dlib1339.jpg', 'DLIB_Train_Real/dlib1340.jpg', 'DLIB_Train_Real/dlib1341.jpg', 'DLIB_Train_Real/dlib1342.jpg', 'DLIB_Train_Real/dlib1343.jpg', 'DLIB_Train_Real/dlib1344.jpg', 'DLIB_Train_Real/dlib1345.jpg', 'DLIB_Train_Real/dlib1346.jpg', 'DLIB_Train_Real/dlib1347.jpg', 'DLIB_Train_Real/dlib1348.jpg', 'DLIB_Train_Real/dlib1349.jpg', 'DLIB_Train_Real/dlib1350.jpg', 'DLIB_Train_Real/dlib1351.jpg', 'DLIB_Train_Real/dlib1352.jpg', 'DLIB_Train_Real/dlib1353.jpg', 'DLIB_Train_Real/dlib1354.jpg', 'DLIB_Train_Real/dlib1355.jpg', 'DLIB_Train_Real/dlib1356.jpg', 'DLIB_Train_Real/dlib1357.jpg', 'DLIB_Train_Real/dlib1358.jpg', 'DLIB_Train_Real/dlib1359.jpg', 'DLIB_Train_Real/dlib1360.jpg', 'DLIB_Train_Real/dlib1361.jpg', 'DLIB_Train_Real/dlib1362.jpg', 'DLIB_Train_Real/dlib1363.jpg', 'DLIB_Train_Real/dlib1364.jpg', 'DLIB_Train_Real/dlib1365.jpg', 'DLIB_Train_Real/dlib1366.jpg', 'DLIB_Train_Real/dlib1367.jpg', 'DLIB_Train_Real/dlib1368.jpg', 'DLIB_Train_Real/dlib1369.jpg', 'DLIB_Train_Real/dlib1370.jpg', 'DLIB_Train_Real/dlib1371.jpg', 'DLIB_Train_Real/dlib1372.jpg', 'DLIB_Train_Real/dlib1373.jpg', 'DLIB_Train_Real/dlib1374.jpg', 'DLIB_Train_Real/dlib1375.jpg', 'DLIB_Train_Real/dlib1376.jpg', 'DLIB_Train_Real/dlib1377.jpg', 'DLIB_Train_Real/dlib1378.jpg', 'DLIB_Train_Real/dlib1379.jpg', 'DLIB_Train_Real/dlib1380.jpg', 'DLIB_Train_Real/dlib1381.jpg', 'DLIB_Train_Real/dlib1382.jpg', 'DLIB_Train_Real/dlib1383.jpg', 'DLIB_Train_Real/dlib1384.jpg', 'DLIB_Train_Real/dlib1385.jpg', 'DLIB_Train_Real/dlib1386.jpg', 'DLIB_Train_Real/dlib1387.jpg', 'DLIB_Train_Real/dlib1388.jpg', 'DLIB_Train_Real/dlib1389.jpg', 'DLIB_Train_Real/dlib1390.jpg', 'DLIB_Train_Real/dlib1391.jpg', 'DLIB_Train_Real/dlib1392.jpg', 'DLIB_Train_Real/dlib1393.jpg', 'DLIB_Train_Real/dlib1394.jpg', 'DLIB_Train_Real/dlib1395.jpg', 'DLIB_Train_Real/dlib1396.jpg', 'DLIB_Train_Real/dlib1397.jpg', 'DLIB_Train_Real/dlib1398.jpg', 'DLIB_Train_Real/dlib1399.jpg', 'DLIB_Train_Real/dlib1400.jpg', 'DLIB_Train_Real/dlib1401.jpg', 'DLIB_Train_Real/dlib1402.jpg', 'DLIB_Train_Real/dlib1403.jpg', 'DLIB_Train_Real/dlib1404.jpg', 'DLIB_Train_Real/dlib1405.jpg', 'DLIB_Train_Real/dlib1406.jpg', 'DLIB_Train_Real/dlib1407.jpg', 'DLIB_Train_Real/dlib1408.jpg', 'DLIB_Train_Real/dlib1409.jpg', 'DLIB_Train_Real/dlib1410.jpg', 'DLIB_Train_Real/dlib1411.jpg', 'DLIB_Train_Real/dlib1412.jpg', 'DLIB_Train_Real/dlib1413.jpg', 'DLIB_Train_Real/dlib1414.jpg', 'DLIB_Train_Real/dlib1415.jpg', 'DLIB_Train_Real/dlib1416.jpg', 'DLIB_Train_Real/dlib1417.jpg', 'DLIB_Train_Real/dlib1418.jpg', 'DLIB_Train_Real/dlib1419.jpg', 'DLIB_Train_Real/dlib1420.jpg', 'DLIB_Train_Real/dlib1421.jpg', 'DLIB_Train_Real/dlib1422.jpg', 'DLIB_Train_Real/dlib1423.jpg', 'DLIB_Train_Real/dlib1424.jpg', 'DLIB_Train_Real/dlib1425.jpg', 'DLIB_Train_Real/dlib1426.jpg', 'DLIB_Train_Real/dlib1427.jpg', 'DLIB_Train_Real/dlib1428.jpg', 'DLIB_Train_Real/dlib1429.jpg', 'DLIB_Train_Real/dlib1430.jpg', 'DLIB_Train_Real/dlib1431.jpg', 'DLIB_Train_Real/dlib1432.jpg', 'DLIB_Train_Real/dlib1433.jpg', 'DLIB_Train_Real/dlib1434.jpg', 'DLIB_Train_Real/dlib1435.jpg', 'DLIB_Train_Real/dlib1436.jpg', 'DLIB_Train_Real/dlib1437.jpg', 'DLIB_Train_Real/dlib1438.jpg', 'DLIB_Train_Real/dlib1439.jpg', 'DLIB_Train_Real/dlib1440.jpg', 'DLIB_Train_Real/dlib1441.jpg', 'DLIB_Train_Real/dlib1442.jpg', 'DLIB_Train_Real/dlib1443.jpg', 'DLIB_Train_Real/dlib1444.jpg', 'DLIB_Train_Real/dlib1445.jpg', 'DLIB_Train_Real/dlib1446.jpg', 'DLIB_Train_Real/dlib1447.jpg', 'DLIB_Train_Real/dlib1448.jpg', 'DLIB_Train_Real/dlib1449.jpg', 'DLIB_Train_Real/dlib1450.jpg', 'DLIB_Train_Real/dlib1451.jpg', 'DLIB_Train_Real/dlib1452.jpg', 'DLIB_Train_Real/dlib1453.jpg', 'DLIB_Train_Real/dlib1454.jpg', 'DLIB_Train_Real/dlib1455.jpg', 'DLIB_Train_Real/dlib1456.jpg', 'DLIB_Train_Real/dlib1457.jpg', 'DLIB_Train_Real/dlib1458.jpg', 'DLIB_Train_Real/dlib1459.jpg', 'DLIB_Train_Real/dlib1460.jpg', 'DLIB_Train_Real/dlib1461.jpg', 'DLIB_Train_Real/dlib1462.jpg']\n"
          ],
          "name": "stdout"
        }
      ]
    },
    {
      "cell_type": "code",
      "metadata": {
        "id": "iedML09QtxsB"
      },
      "source": [
        "processedImagePath_Val_Fake_dlib = faceDetect_DLIB(\"Val\",\"Fake\",imgPath_test_fake)"
      ],
      "execution_count": null,
      "outputs": []
    },
    {
      "cell_type": "code",
      "metadata": {
        "id": "3RpL3veBt2PZ"
      },
      "source": [
        "processedImagePath_Val_Real_dlib = faceDetect_DLIB(\"Val\",\"Real\",imgPath_val_real)"
      ],
      "execution_count": null,
      "outputs": []
    },
    {
      "cell_type": "code",
      "metadata": {
        "id": "eoxQvnCBIr5H"
      },
      "source": [
        "processedImagePath_Test_Fake_dlib = faceDetect_DLIB(\"Test\",\"Fake\",imgPath_test_fake)"
      ],
      "execution_count": null,
      "outputs": []
    },
    {
      "cell_type": "code",
      "metadata": {
        "id": "RUI2fby4PjHO"
      },
      "source": [
        "processedImagePath_Test_Real_dlib = faceDetect_DLIB(\"Test\",\"Real\",imgPath_test_real)"
      ],
      "execution_count": null,
      "outputs": []
    },
    {
      "cell_type": "markdown",
      "metadata": {
        "id": "bMhUJm8bPALf"
      },
      "source": [
        "# Data Augmentation"
      ]
    },
    {
      "cell_type": "code",
      "metadata": {
        "id": "BVRQqhxvPDJs"
      },
      "source": [
        "from torchvision import datasets\n",
        "from torch.utils.data import DataLoader\n",
        "from torchvision.utils import save_image\n",
        "from skimage.util import random_noise\n",
        "import numpy as np\n",
        "import torch\n",
        "import matplotlib.pyplot as plt\n",
        "import torchvision.transforms as transforms\n",
        "import argparse"
      ],
      "execution_count": null,
      "outputs": []
    },
    {
      "cell_type": "code",
      "metadata": {
        "id": "QSlQgwjvazlW"
      },
      "source": [
        "import numpy as np\n",
        "import os\n",
        "import cv2\n",
        "\n",
        "def noisy(noise_typ,image):\n",
        "  if noise_typ == \"gauss\":\n",
        "    mean = 0\n",
        "    var = 100\n",
        "    sigma = var ** 0.5\n",
        "    row, col, _ = image.shape\n",
        "    gaussian = np.random.normal(mean, sigma, (row, col)) \n",
        "\n",
        "    noisy = np.zeros(image.shape, np.float32)\n",
        "\n",
        "    if len(image.shape) == 2:\n",
        "        noisy = image + gaussian\n",
        "    else:\n",
        "        noisy[:, :, 0] = image[:, :, 0] + gaussian\n",
        "        noisy[:, :, 1] = image[:, :, 1] + gaussian\n",
        "        noisy[:, :, 2] = image[:, :, 2] + gaussian\n",
        "\n",
        "    cv2.normalize(noisy, noisy, 0, 255, cv2.NORM_MINMAX, dtype=-1)\n",
        "    noisy = noisy.astype(np.uint8)\n",
        "    return noisy\n",
        "  elif noise_typ == \"s&p\":\n",
        "    row,col,ch = image.shape\n",
        "    s_vs_p = 0.5\n",
        "    amount = 0.05\n",
        "    out = np.copy(image)\n",
        "    # Salt mode\n",
        "    num_salt = np.ceil(amount * image.size * s_vs_p)\n",
        "    coords = [np.random.randint(0, i - 1, int(num_salt)) for i in image.shape]\n",
        "    out[coords] = 1\n",
        "\n",
        "    # Pepper mode\n",
        "    num_pepper = np.ceil(amount* image.size * (1. - s_vs_p))\n",
        "    coords = [np.random.randint(0, i - 1, int(num_pepper)) for i in image.shape]\n",
        "    out[coords] = 0\n",
        "    return out\n",
        "\n",
        "  \n",
        "  \n",
        "  elif noise_typ ==\"speckle\":\n",
        "    row,col,ch = image.shape\n",
        "    gauss = np.random.randn(row,col,ch)\n",
        "    gauss = gauss.reshape(row,col,ch)\n",
        "    noisy = image + image * gauss\n",
        "    return noisy\n",
        "\n"
      ],
      "execution_count": null,
      "outputs": []
    },
    {
      "cell_type": "code",
      "metadata": {
        "id": "KV7ZJyoyhX22"
      },
      "source": [
        "def create_noisy_img(face_detector,face_detector_arr,type_dataset,label):\n",
        "    arr=[]\n",
        "    for i in range(len(face_detector_arr)):\n",
        "        img=cv2.imread(face_detector_arr[i])\n",
        "        \n",
        "        noisy_img = noisy(\"gauss\", img)\n",
        "        noisy_img = cv2.resize(noisy_img, (64, 64))\n",
        "        \n",
        "        cv2.imwrite(\"/content/DLIB_\"+type_dataset+\"_\"+label+\"_Noise/dlib_noise%d.jpg\" % i,noisy_img)\n",
        "        arr.append(\"/content/DLIB_\"+type_dataset+\"_\"+label+\"_Noise/dlib_noise%d.jpg\"%i)\n",
        "    return arr\n",
        "\n"
      ],
      "execution_count": null,
      "outputs": []
    },
    {
      "cell_type": "code",
      "metadata": {
        "id": "Xdb_qOfbTlsl"
      },
      "source": [
        "processedImagePath_Train_Real_dlib_noise=create_noisy_img(\"DLIB\",processedImagePath_Train_Real_dlib,\"Train\",\"Real\")"
      ],
      "execution_count": null,
      "outputs": []
    },
    {
      "cell_type": "code",
      "metadata": {
        "id": "6y9wpxs1QI-9"
      },
      "source": [
        "processedImagePath_Train_Fake_dlib_noise=create_noisy_img(\"DLIB\",processedImagePath_Train_Fake_dlib,\"Train\",\"Fake\")"
      ],
      "execution_count": null,
      "outputs": []
    },
    {
      "cell_type": "markdown",
      "metadata": {
        "id": "t_aUhnqGAg0-"
      },
      "source": [
        "#Training"
      ]
    },
    {
      "cell_type": "code",
      "metadata": {
        "id": "LLpk6TDGHBmw"
      },
      "source": [
        "from sklearn.metrics import accuracy_score\n",
        "from sklearn.metrics import f1_score\n",
        "from sklearn.metrics import log_loss\n",
        "from skimage.color import rgb2grey\n",
        "from skimage.feature import hog\n",
        "\n",
        "def create_features(img):\n",
        "\n",
        "    gray = cv2.cvtColor(img, cv2.COLOR_RGB2GRAY)\n",
        "    features=[]\n",
        "    for i in gray:\n",
        "      for j in i:\n",
        "        features.append(j)\n",
        "    \n",
        "    return features\n"
      ],
      "execution_count": null,
      "outputs": []
    },
    {
      "cell_type": "code",
      "metadata": {
        "id": "6AJmWvMGAjCs"
      },
      "source": [
        "def createFeatureDatabase(real_list, fake_list):\n",
        "  train=[]\n",
        "  label = []\n",
        "\n",
        "  \n",
        "\n",
        "  for i in range(len(fake_list)):\n",
        "    \n",
        "    img = cv2.imread(fake_list[i])\n",
        "    tmp_features = create_features(img)\n",
        "    train.append(tmp_features)\n",
        "    label.append(0)\n",
        "\n",
        "  for i in range(len(real_list)):\n",
        "    \n",
        "    img = cv2.imread(real_list[i])\n",
        "    tmp_features = create_features(img)\n",
        "    train.append(tmp_features)\n",
        "    label.append(1)\n",
        "\n",
        "  \n",
        "  return train,label"
      ],
      "execution_count": null,
      "outputs": []
    },
    {
      "cell_type": "markdown",
      "metadata": {
        "id": "53suxg2mVNLx"
      },
      "source": [
        "#DLIB"
      ]
    },
    {
      "cell_type": "code",
      "metadata": {
        "id": "xzEg07vH6ECr"
      },
      "source": [
        "\n",
        "\n",
        "train_data,label_data = createFeatureDatabase(processedImagePath_Train_Real_dlib,processedImagePath_Train_Fake_dlib)\n"
      ],
      "execution_count": null,
      "outputs": []
    },
    {
      "cell_type": "code",
      "metadata": {
        "id": "KsYcTUDtQvqD"
      },
      "source": [
        "train_data_noise,label_data_noise = createFeatureDatabase(processedImagePath_Train_Real_dlib_noise,processedImagePath_Train_Fake_dlib_noise)"
      ],
      "execution_count": null,
      "outputs": []
    },
    {
      "cell_type": "code",
      "metadata": {
        "id": "BACDbvps6KBB",
        "colab": {
          "base_uri": "https://localhost:8080/"
        },
        "outputId": "6284afca-1c8f-44f6-d901-99a9e68e75da"
      },
      "source": [
        "\n",
        "len(train_data)"
      ],
      "execution_count": null,
      "outputs": [
        {
          "output_type": "execute_result",
          "data": {
            "text/plain": [
              "2825"
            ]
          },
          "metadata": {
            "tags": []
          },
          "execution_count": 26
        }
      ]
    },
    {
      "cell_type": "code",
      "metadata": {
        "id": "BtvJDT4-LyZ1"
      },
      "source": [
        "test_data, test_label = createFeatureDatabase(processedImagePath_Test_Real_dlib,processedImagePath_Test_Fake_dlib)"
      ],
      "execution_count": null,
      "outputs": []
    },
    {
      "cell_type": "markdown",
      "metadata": {
        "id": "pWYeznXmeB9I"
      },
      "source": [
        "##Standard Scaler"
      ]
    },
    {
      "cell_type": "code",
      "metadata": {
        "id": "5aBWnl05eFPf"
      },
      "source": [
        "from sklearn.preprocessing import StandardScaler  \n",
        "scaler = StandardScaler()  \n",
        "\n",
        "scaler.fit(train_data)  \n",
        "train_data_ss = scaler.transform(train_data)  \n",
        "\n",
        "test_data_ss = scaler.transform(test_data)"
      ],
      "execution_count": null,
      "outputs": []
    },
    {
      "cell_type": "markdown",
      "metadata": {
        "id": "o-z3W1lrtsDv"
      },
      "source": [
        "##LDA"
      ]
    },
    {
      "cell_type": "code",
      "metadata": {
        "id": "YLLghI8LttXB"
      },
      "source": [
        "from sklearn.discriminant_analysis import LinearDiscriminantAnalysis\n",
        "\n",
        "lda = LinearDiscriminantAnalysis()\n",
        "lda_train_data = lda.fit_transform(train_data_ss, label_data)\n"
      ],
      "execution_count": null,
      "outputs": []
    },
    {
      "cell_type": "code",
      "metadata": {
        "id": "sDnE0FVoHzmq"
      },
      "source": [
        "lda_test_data=lda.transform(test_data_ss)"
      ],
      "execution_count": null,
      "outputs": []
    },
    {
      "cell_type": "code",
      "metadata": {
        "id": "jf-8FaPTHMwg",
        "colab": {
          "base_uri": "https://localhost:8080/"
        },
        "outputId": "c2848278-cca3-4cfa-b51d-8c3c0cd27ce3"
      },
      "source": [
        "lda.explained_variance_ratio_"
      ],
      "execution_count": null,
      "outputs": [
        {
          "output_type": "execute_result",
          "data": {
            "text/plain": [
              "array([1.])"
            ]
          },
          "metadata": {
            "tags": []
          },
          "execution_count": 31
        }
      ]
    },
    {
      "cell_type": "code",
      "metadata": {
        "id": "dvfvGIh5GXAm",
        "colab": {
          "base_uri": "https://localhost:8080/"
        },
        "outputId": "21d03f75-5d54-448e-a54c-71ddd9c87d7f"
      },
      "source": [
        "lda_train_data"
      ],
      "execution_count": null,
      "outputs": [
        {
          "output_type": "execute_result",
          "data": {
            "text/plain": [
              "array([[-2.83453369],\n",
              "       [-5.20690459],\n",
              "       [-2.48907855],\n",
              "       ...,\n",
              "       [ 2.5621522 ],\n",
              "       [ 2.2255686 ],\n",
              "       [ 3.49392873]])"
            ]
          },
          "metadata": {
            "tags": []
          },
          "execution_count": 32
        }
      ]
    },
    {
      "cell_type": "code",
      "metadata": {
        "id": "mm4Lz5XdA_vF",
        "colab": {
          "base_uri": "https://localhost:8080/"
        },
        "outputId": "d48c5b80-8ab5-4a5a-be87-6a73e5c7a1d8"
      },
      "source": [
        "len(lda_train_data[0])"
      ],
      "execution_count": null,
      "outputs": [
        {
          "output_type": "execute_result",
          "data": {
            "text/plain": [
              "1"
            ]
          },
          "metadata": {
            "tags": []
          },
          "execution_count": 33
        }
      ]
    },
    {
      "cell_type": "markdown",
      "metadata": {
        "id": "A8o8pfBrP8DG"
      },
      "source": [
        "##PCA"
      ]
    },
    {
      "cell_type": "code",
      "metadata": {
        "id": "aNJDRnaHP_Mw"
      },
      "source": [
        "from sklearn.decomposition import PCA\n",
        "pca = PCA(0.99)\n",
        "pca_train_data=pca.fit_transform(train_data_ss)"
      ],
      "execution_count": null,
      "outputs": []
    },
    {
      "cell_type": "code",
      "metadata": {
        "id": "7XDDQEzTP_Im"
      },
      "source": [
        "pca_test_data=pca.transform(test_data_ss)"
      ],
      "execution_count": null,
      "outputs": []
    },
    {
      "cell_type": "code",
      "metadata": {
        "id": "DR9ogwh7P_GE",
        "colab": {
          "base_uri": "https://localhost:8080/"
        },
        "outputId": "e7d9738b-a411-436e-9b53-d9eb05ceef2c"
      },
      "source": [
        "pca.explained_variance_ratio_"
      ],
      "execution_count": null,
      "outputs": [
        {
          "output_type": "execute_result",
          "data": {
            "text/plain": [
              "array([2.96914040e-01, 1.54650833e-01, 6.85919037e-02, 4.29044835e-02,\n",
              "       3.22140707e-02, 2.55542911e-02, 2.31145889e-02, 1.77154512e-02,\n",
              "       1.59963789e-02, 1.38647182e-02, 1.15801316e-02, 1.09098008e-02,\n",
              "       1.00693115e-02, 8.48746951e-03, 7.58400401e-03, 7.51046120e-03,\n",
              "       7.09426562e-03, 6.57409565e-03, 6.34168673e-03, 5.65039996e-03,\n",
              "       5.47844186e-03, 5.10546073e-03, 4.74196990e-03, 4.55269354e-03,\n",
              "       4.20726307e-03, 4.10223702e-03, 3.93901404e-03, 3.60122911e-03,\n",
              "       3.53857803e-03, 3.45586695e-03, 3.40184509e-03, 3.26036604e-03,\n",
              "       3.11371409e-03, 2.96092062e-03, 2.80545100e-03, 2.72169967e-03,\n",
              "       2.64532629e-03, 2.52707295e-03, 2.44812872e-03, 2.38040329e-03,\n",
              "       2.34042040e-03, 2.31315678e-03, 2.22106810e-03, 2.14920934e-03,\n",
              "       2.10537253e-03, 2.07138817e-03, 1.98670133e-03, 1.93357352e-03,\n",
              "       1.87854572e-03, 1.84432401e-03, 1.80573440e-03, 1.76401077e-03,\n",
              "       1.73383581e-03, 1.67629679e-03, 1.59571925e-03, 1.55859360e-03,\n",
              "       1.53272108e-03, 1.51953563e-03, 1.47487071e-03, 1.43743272e-03,\n",
              "       1.43394109e-03, 1.35148534e-03, 1.33913391e-03, 1.30993785e-03,\n",
              "       1.28188363e-03, 1.25045361e-03, 1.22568457e-03, 1.21352358e-03,\n",
              "       1.20845435e-03, 1.17321816e-03, 1.15516436e-03, 1.12534183e-03,\n",
              "       1.10728488e-03, 1.07766025e-03, 1.05261677e-03, 1.04536640e-03,\n",
              "       1.01178492e-03, 1.00290668e-03, 9.88007633e-04, 9.73621744e-04,\n",
              "       9.54682383e-04, 9.44925032e-04, 9.00213067e-04, 8.70107630e-04,\n",
              "       8.61399166e-04, 8.44945604e-04, 8.34434183e-04, 8.24440396e-04,\n",
              "       8.13058284e-04, 7.84533311e-04, 7.80791440e-04, 7.55741136e-04,\n",
              "       7.52865357e-04, 7.34429537e-04, 7.30657828e-04, 7.17632193e-04,\n",
              "       7.02822594e-04, 6.91882522e-04, 6.86440121e-04, 6.67788752e-04,\n",
              "       6.57273604e-04, 6.48053625e-04, 6.29552721e-04, 6.20043458e-04,\n",
              "       6.07062349e-04, 6.00058942e-04, 5.96099843e-04, 5.88528191e-04,\n",
              "       5.82600733e-04, 5.80200069e-04, 5.75940835e-04, 5.61342172e-04,\n",
              "       5.57232367e-04, 5.55954855e-04, 5.46628163e-04, 5.44542370e-04,\n",
              "       5.36340998e-04, 5.24442482e-04, 5.19105219e-04, 5.17995245e-04,\n",
              "       5.15040115e-04, 5.03091004e-04, 4.97631440e-04, 4.88953060e-04,\n",
              "       4.81423019e-04, 4.67690737e-04, 4.65433844e-04, 4.56017706e-04,\n",
              "       4.46816406e-04, 4.40441222e-04, 4.36422171e-04, 4.35677507e-04,\n",
              "       4.30173437e-04, 4.24997454e-04, 4.23101181e-04, 4.18208434e-04,\n",
              "       4.11586531e-04, 4.06960445e-04, 4.00064532e-04, 3.93888141e-04,\n",
              "       3.92408477e-04, 3.90325217e-04, 3.86227610e-04, 3.81426597e-04,\n",
              "       3.72276316e-04, 3.69705032e-04, 3.67474178e-04, 3.62389128e-04,\n",
              "       3.56884531e-04, 3.54578762e-04, 3.49807378e-04, 3.46951284e-04,\n",
              "       3.44273247e-04, 3.42232243e-04, 3.39564399e-04, 3.31350531e-04,\n",
              "       3.28344251e-04, 3.25174495e-04, 3.21805400e-04, 3.21120044e-04,\n",
              "       3.14745881e-04, 3.11008655e-04, 3.09846283e-04, 3.06778613e-04,\n",
              "       3.04886687e-04, 3.03006750e-04, 2.97774132e-04, 2.95951072e-04,\n",
              "       2.92508382e-04, 2.91598386e-04, 2.90222684e-04, 2.84129467e-04,\n",
              "       2.83509822e-04, 2.81837873e-04, 2.79471820e-04, 2.73811839e-04,\n",
              "       2.72770238e-04, 2.70622075e-04, 2.68880833e-04, 2.68028058e-04,\n",
              "       2.64934363e-04, 2.64265347e-04, 2.58824571e-04, 2.56688617e-04,\n",
              "       2.52979879e-04, 2.50208610e-04, 2.47583043e-04, 2.45427663e-04,\n",
              "       2.42823420e-04, 2.40794794e-04, 2.37392850e-04, 2.36163679e-04,\n",
              "       2.35040895e-04, 2.32673103e-04, 2.29918615e-04, 2.29599851e-04,\n",
              "       2.28110473e-04, 2.26548665e-04, 2.23688900e-04, 2.21878918e-04,\n",
              "       2.20761588e-04, 2.19117954e-04, 2.15561933e-04, 2.14082986e-04,\n",
              "       2.11798677e-04, 2.11705615e-04, 2.11080816e-04, 2.07637917e-04,\n",
              "       2.05113378e-04, 2.04282868e-04, 2.01642952e-04, 2.00308783e-04,\n",
              "       1.97252264e-04, 1.96617303e-04, 1.96031514e-04, 1.94167739e-04,\n",
              "       1.92956233e-04, 1.92318628e-04, 1.88834378e-04, 1.88260960e-04,\n",
              "       1.84927106e-04, 1.84581994e-04, 1.83233847e-04, 1.82928017e-04,\n",
              "       1.80607594e-04, 1.78458314e-04, 1.77258159e-04, 1.76857561e-04,\n",
              "       1.73827965e-04, 1.73141375e-04, 1.71815630e-04, 1.70662814e-04,\n",
              "       1.69553848e-04, 1.68571256e-04, 1.67226058e-04, 1.66169081e-04,\n",
              "       1.65403212e-04, 1.64229176e-04, 1.63154808e-04, 1.61087253e-04,\n",
              "       1.60584467e-04, 1.59710491e-04, 1.58893811e-04, 1.58806586e-04,\n",
              "       1.55942331e-04, 1.54627682e-04, 1.53361480e-04, 1.52936405e-04,\n",
              "       1.52214922e-04, 1.50104460e-04, 1.49047638e-04, 1.48900636e-04,\n",
              "       1.48267126e-04, 1.47013697e-04, 1.45033725e-04, 1.44299439e-04,\n",
              "       1.43202425e-04, 1.42469115e-04, 1.41716452e-04, 1.40239681e-04,\n",
              "       1.38776127e-04, 1.37302965e-04, 1.35914160e-04, 1.35519034e-04,\n",
              "       1.35337356e-04, 1.34597694e-04, 1.33689031e-04, 1.33036985e-04,\n",
              "       1.31819736e-04, 1.30700997e-04, 1.29901830e-04, 1.28832589e-04,\n",
              "       1.28210024e-04, 1.27366834e-04, 1.26477423e-04, 1.25528737e-04,\n",
              "       1.24832788e-04, 1.24437666e-04, 1.23498127e-04, 1.23286777e-04,\n",
              "       1.22186773e-04, 1.20899330e-04, 1.20325558e-04, 1.19780662e-04,\n",
              "       1.19079227e-04, 1.18641717e-04, 1.17925415e-04, 1.16245253e-04,\n",
              "       1.16070888e-04, 1.15500274e-04, 1.14505517e-04, 1.13776433e-04,\n",
              "       1.13278633e-04, 1.12295881e-04, 1.11898380e-04, 1.11142793e-04,\n",
              "       1.10491624e-04, 1.09963032e-04, 1.08952938e-04, 1.07424837e-04,\n",
              "       1.06850208e-04, 1.06116044e-04, 1.05958909e-04, 1.05615532e-04,\n",
              "       1.04898614e-04, 1.04217279e-04, 1.03617183e-04, 1.03462739e-04,\n",
              "       1.02345432e-04, 1.02109887e-04, 1.01795827e-04, 1.01014776e-04,\n",
              "       1.00363286e-04, 9.98397183e-05, 9.95346516e-05, 9.86606302e-05,\n",
              "       9.73680871e-05, 9.70759162e-05, 9.65187131e-05, 9.54877980e-05,\n",
              "       9.49603169e-05, 9.47735951e-05, 9.40854733e-05, 9.40135172e-05,\n",
              "       9.35329544e-05, 9.29562831e-05, 9.21797409e-05, 9.17006408e-05,\n",
              "       9.16001434e-05, 9.13122181e-05, 9.04834289e-05, 8.96073744e-05,\n",
              "       8.93760687e-05, 8.87960465e-05, 8.85470654e-05, 8.75761486e-05,\n",
              "       8.72738576e-05, 8.68962456e-05, 8.60380518e-05, 8.55839792e-05,\n",
              "       8.51248386e-05, 8.47492308e-05, 8.43058533e-05, 8.38704716e-05,\n",
              "       8.37493505e-05, 8.29957322e-05, 8.22192279e-05, 8.16835203e-05,\n",
              "       8.14569253e-05, 8.12300237e-05, 8.06041672e-05, 8.05349081e-05,\n",
              "       7.98163161e-05, 7.94306018e-05, 7.91662977e-05, 7.87316754e-05,\n",
              "       7.84905910e-05, 7.75507175e-05, 7.74120174e-05, 7.72386776e-05,\n",
              "       7.68977175e-05, 7.62405446e-05, 7.61001894e-05, 7.55878774e-05,\n",
              "       7.49726634e-05, 7.49070314e-05, 7.46694197e-05, 7.42040330e-05,\n",
              "       7.36908813e-05, 7.33557186e-05, 7.30554393e-05, 7.19723170e-05,\n",
              "       7.18505321e-05, 7.16932506e-05, 7.11534166e-05, 7.09988085e-05,\n",
              "       7.06329104e-05, 7.04463609e-05, 7.02512039e-05, 6.97642218e-05,\n",
              "       6.94678340e-05, 6.86429616e-05, 6.83989835e-05, 6.79845345e-05,\n",
              "       6.76631234e-05, 6.74878301e-05, 6.71447475e-05, 6.71144019e-05,\n",
              "       6.64109823e-05, 6.60278002e-05, 6.58184248e-05, 6.54729180e-05,\n",
              "       6.51692337e-05, 6.48790866e-05, 6.44569460e-05, 6.41638176e-05,\n",
              "       6.39023954e-05, 6.37930266e-05, 6.32321524e-05, 6.28845919e-05,\n",
              "       6.24322508e-05, 6.22466121e-05, 6.20406612e-05, 6.17386364e-05,\n",
              "       6.15850476e-05, 6.10067787e-05, 6.06270282e-05, 6.04610026e-05,\n",
              "       6.02256739e-05, 5.99009882e-05, 5.96268851e-05, 5.91837186e-05,\n",
              "       5.90355102e-05, 5.89791161e-05, 5.88103376e-05, 5.82709286e-05,\n",
              "       5.74992283e-05, 5.73485129e-05, 5.71991237e-05, 5.70303386e-05,\n",
              "       5.67167004e-05, 5.63609001e-05, 5.60610136e-05, 5.58039656e-05,\n",
              "       5.56364139e-05, 5.54280284e-05, 5.51854644e-05, 5.49581336e-05,\n",
              "       5.46875862e-05, 5.45534217e-05, 5.42646695e-05, 5.41802588e-05,\n",
              "       5.40884693e-05, 5.36786413e-05, 5.33531643e-05, 5.31286211e-05,\n",
              "       5.27771588e-05, 5.26028566e-05, 5.25130012e-05, 5.24411029e-05,\n",
              "       5.21351254e-05, 5.19947533e-05, 5.18069263e-05, 5.15401103e-05,\n",
              "       5.12098463e-05, 5.08549211e-05, 5.05401345e-05, 5.03273451e-05,\n",
              "       5.00599071e-05, 5.00363705e-05, 4.97883496e-05, 4.93229530e-05,\n",
              "       4.92395055e-05, 4.91147750e-05, 4.87946102e-05, 4.86530998e-05,\n",
              "       4.84991794e-05, 4.82340079e-05, 4.80586772e-05, 4.77933316e-05,\n",
              "       4.76548451e-05, 4.73382915e-05, 4.72984505e-05, 4.70814842e-05,\n",
              "       4.68469303e-05, 4.66032549e-05, 4.64893588e-05, 4.64059328e-05,\n",
              "       4.60186161e-05, 4.58540177e-05, 4.56594128e-05, 4.53798445e-05,\n",
              "       4.50007331e-05, 4.49460233e-05, 4.47191683e-05, 4.45639387e-05,\n",
              "       4.44607719e-05, 4.41624492e-05, 4.39849503e-05, 4.36943537e-05,\n",
              "       4.32602359e-05, 4.31090513e-05, 4.30754813e-05, 4.28508891e-05,\n",
              "       4.26356323e-05, 4.24599550e-05, 4.24105940e-05, 4.22794241e-05,\n",
              "       4.20778901e-05, 4.19599097e-05, 4.17668873e-05, 4.16082014e-05,\n",
              "       4.13995665e-05, 4.12207591e-05, 4.10109479e-05, 4.08878112e-05,\n",
              "       4.08481487e-05, 4.07404597e-05, 4.06169546e-05, 4.04848417e-05,\n",
              "       4.02482950e-05, 4.00384241e-05, 3.99382659e-05, 3.98047436e-05,\n",
              "       3.94992904e-05, 3.93039882e-05, 3.90129236e-05, 3.88427228e-05,\n",
              "       3.87810895e-05, 3.85436645e-05, 3.85306193e-05, 3.85037611e-05,\n",
              "       3.81167261e-05, 3.79197276e-05, 3.78034277e-05, 3.76062324e-05,\n",
              "       3.73990424e-05, 3.73067298e-05, 3.71663995e-05, 3.69893335e-05,\n",
              "       3.68769396e-05, 3.67754677e-05, 3.66946750e-05, 3.65207111e-05,\n",
              "       3.63708216e-05, 3.60831995e-05, 3.59940113e-05, 3.57536173e-05,\n",
              "       3.55059852e-05, 3.54013218e-05, 3.53767593e-05, 3.51884213e-05,\n",
              "       3.49719910e-05, 3.48638863e-05, 3.47669658e-05, 3.46409203e-05,\n",
              "       3.45024090e-05, 3.43890650e-05, 3.42051687e-05, 3.40614650e-05,\n",
              "       3.38385251e-05, 3.37605980e-05, 3.36425953e-05, 3.36143520e-05,\n",
              "       3.34015782e-05, 3.33073498e-05, 3.31342021e-05, 3.30911398e-05,\n",
              "       3.29377239e-05, 3.28032657e-05, 3.27584918e-05, 3.25156389e-05,\n",
              "       3.23946207e-05, 3.23071567e-05, 3.22514097e-05, 3.21497493e-05,\n",
              "       3.20352462e-05, 3.19037332e-05, 3.17242311e-05, 3.16658251e-05,\n",
              "       3.15671733e-05, 3.14329220e-05, 3.13914895e-05, 3.12355302e-05,\n",
              "       3.10868386e-05, 3.09656095e-05, 3.09106884e-05, 3.07846137e-05,\n",
              "       3.06716347e-05, 3.05078394e-05, 3.03500299e-05, 3.02840783e-05,\n",
              "       3.01533975e-05, 3.00247467e-05, 2.98317024e-05, 2.97823913e-05,\n",
              "       2.96839557e-05])"
            ]
          },
          "metadata": {
            "tags": []
          },
          "execution_count": 36
        }
      ]
    },
    {
      "cell_type": "code",
      "metadata": {
        "id": "6lxGI5iSBDRc",
        "colab": {
          "base_uri": "https://localhost:8080/"
        },
        "outputId": "06a4ad74-0370-4025-dfd1-a3637ed44e91"
      },
      "source": [
        "pca_train_data"
      ],
      "execution_count": null,
      "outputs": [
        {
          "output_type": "execute_result",
          "data": {
            "text/plain": [
              "array([[-4.56238790e+01, -4.44283885e+01, -1.72737485e+01, ...,\n",
              "        -6.37529116e-02, -5.51625195e-02,  3.12421389e-01],\n",
              "       [-4.53961016e+01, -4.43819077e+01, -1.74645675e+01, ...,\n",
              "        -1.07853782e-01,  1.27295826e-01,  2.48416920e-01],\n",
              "       [-4.54616148e+01, -4.44325686e+01, -1.75018859e+01, ...,\n",
              "        -5.16906241e-02,  9.22640807e-02,  2.90038439e-01],\n",
              "       ...,\n",
              "       [ 3.60288209e+01, -2.94047233e+01, -3.03776451e+01, ...,\n",
              "        -2.25812465e-01, -4.51201339e-01, -4.89617573e-01],\n",
              "       [ 2.61785415e+01, -3.97622471e+01, -2.82660702e+01, ...,\n",
              "        -1.49673989e-01,  6.29228598e-01,  6.84064121e-01],\n",
              "       [-2.12391332e+00, -5.89153490e+01, -1.72997617e+01, ...,\n",
              "         4.22062159e-01,  1.37564755e-01, -2.65952019e-01]])"
            ]
          },
          "metadata": {
            "tags": []
          },
          "execution_count": 37
        }
      ]
    },
    {
      "cell_type": "code",
      "metadata": {
        "id": "oDYA2yJaRV7z",
        "colab": {
          "base_uri": "https://localhost:8080/"
        },
        "outputId": "96fafeeb-35c5-45ad-850e-0f6e87bac732"
      },
      "source": [
        "len(pca_train_data[0])"
      ],
      "execution_count": null,
      "outputs": [
        {
          "output_type": "execute_result",
          "data": {
            "text/plain": [
              "577"
            ]
          },
          "metadata": {
            "tags": []
          },
          "execution_count": 38
        }
      ]
    },
    {
      "cell_type": "markdown",
      "metadata": {
        "id": "zOq3RBof9cAL"
      },
      "source": [
        "#DeepFake Result"
      ]
    },
    {
      "cell_type": "code",
      "metadata": {
        "id": "lbn--s9p9aoi"
      },
      "source": [
        "def predictDeepFakeResult(predicted_test,frame_count_test):\n",
        "  k=0\n",
        "  prediction=[]\n",
        "  len1=len(predicted_test)\n",
        "  for i in frame_count_test:\n",
        "    real_count=0\n",
        "    fake_count=0\n",
        "    \n",
        "    for j in range(i):\n",
        "      if predicted_test[k]>0.5:\n",
        "        real_count+=1\n",
        "      else:\n",
        "        fake_count+=1\n",
        "      k+=1\n",
        "    if real_count>fake_count:\n",
        "      prediction.append(1)\n",
        "    else:\n",
        "      prediction.append(0)\n",
        "    print(real_count,fake_count)\n",
        "  return prediction"
      ],
      "execution_count": null,
      "outputs": []
    },
    {
      "cell_type": "code",
      "metadata": {
        "id": "ilemwP5G-T01"
      },
      "source": [
        "actual_test_label=video_label_test_fake+video_label_test_real"
      ],
      "execution_count": null,
      "outputs": []
    },
    {
      "cell_type": "markdown",
      "metadata": {
        "id": "j6MY_qahWMb4"
      },
      "source": [
        "##SVC"
      ]
    },
    {
      "cell_type": "code",
      "metadata": {
        "id": "Z1z-uT_T9TUq"
      },
      "source": [
        "from sklearn.svm import SVC\n",
        "from sklearn.model_selection import cross_val_score\n",
        "\n",
        "models_SVC = []\n",
        "\n",
        "def trainSVC(train_data, label_data, test_data,test_label):\n",
        "  model = SVC()\n",
        "  \n",
        "  model.fit(train_data,label_data)\n",
        "  models_SVC.append(model)\n",
        "  print(model.score(test_data,test_label))\n",
        "  cvs = cross_val_score(model, train_data, label_data, cv=5)\n",
        "  print(cvs)\n",
        "  predicted_test = model.predict(test_data)\n",
        "  return predicted_test, cvs"
      ],
      "execution_count": null,
      "outputs": []
    },
    {
      "cell_type": "markdown",
      "metadata": {
        "id": "TGnEIJeV81JT"
      },
      "source": [
        "##SVC_LDA"
      ]
    },
    {
      "cell_type": "code",
      "metadata": {
        "id": "uK_wN44dFv95",
        "colab": {
          "base_uri": "https://localhost:8080/"
        },
        "outputId": "302ffb3f-04d9-49a8-890f-ea10c2ada0fa"
      },
      "source": [
        "predicted_test_SVC_lda, cvs_SVC_lda = trainSVC(lda_train_data,label_data,lda_test_data,test_label)\n",
        "predicted_test_SVC_lda"
      ],
      "execution_count": null,
      "outputs": [
        {
          "output_type": "stream",
          "text": [
            "0.49352419904567146\n",
            "[0.98938053 0.99292035 0.99469027 0.99646018 0.99823009]\n"
          ],
          "name": "stdout"
        },
        {
          "output_type": "execute_result",
          "data": {
            "text/plain": [
              "array([1, 1, 1, ..., 1, 0, 0])"
            ]
          },
          "metadata": {
            "tags": []
          },
          "execution_count": 42
        }
      ]
    },
    {
      "cell_type": "code",
      "metadata": {
        "id": "7cMTA10zZ1J9",
        "colab": {
          "base_uri": "https://localhost:8080/"
        },
        "outputId": "d8713929-6f0c-4957-8583-62f14add2918"
      },
      "source": [
        "print(predicted_test_SVC_lda)"
      ],
      "execution_count": null,
      "outputs": [
        {
          "output_type": "stream",
          "text": [
            "[1 1 1 ... 1 0 0]\n"
          ],
          "name": "stdout"
        }
      ]
    },
    {
      "cell_type": "code",
      "metadata": {
        "id": "HjWb4m5x9IMZ",
        "colab": {
          "base_uri": "https://localhost:8080/"
        },
        "outputId": "c0058a52-2a90-474a-b7c7-45984af08117"
      },
      "source": [
        "pred_SVC_lda=predictDeepFakeResult(predicted_test_SVC_lda,frame_count_test_fake+frame_count_test_real)\n",
        "print(pred_SVC_lda)"
      ],
      "execution_count": null,
      "outputs": [
        {
          "output_type": "stream",
          "text": [
            "24 5\n",
            "10 20\n",
            "10 19\n",
            "16 13\n",
            "11 19\n",
            "15 15\n",
            "16 14\n",
            "20 9\n",
            "20 9\n",
            "21 8\n",
            "19 10\n",
            "17 13\n",
            "21 9\n",
            "19 10\n",
            "11 14\n",
            "6 17\n",
            "7 18\n",
            "14 10\n",
            "20 4\n",
            "12 10\n",
            "18 4\n",
            "19 5\n",
            "18 5\n",
            "15 9\n",
            "16 7\n",
            "22 8\n",
            "13 16\n",
            "16 14\n",
            "19 12\n",
            "17 12\n",
            "20 9\n",
            "13 16\n",
            "17 13\n",
            "20 9\n",
            "19 10\n",
            "8 22\n",
            "13 16\n",
            "23 5\n",
            "20 9\n",
            "10 19\n",
            "8 21\n",
            "14 15\n",
            "15 14\n",
            "15 15\n",
            "20 10\n",
            "21 9\n",
            "20 9\n",
            "22 7\n",
            "15 15\n",
            "18 12\n",
            "[1, 0, 0, 1, 0, 0, 1, 1, 1, 1, 1, 1, 1, 1, 0, 0, 0, 1, 1, 1, 1, 1, 1, 1, 1, 1, 0, 1, 1, 1, 1, 0, 1, 1, 1, 0, 0, 1, 1, 0, 0, 0, 1, 0, 1, 1, 1, 1, 0, 1]\n"
          ],
          "name": "stdout"
        }
      ]
    },
    {
      "cell_type": "code",
      "metadata": {
        "id": "2Lr8k0OL-yXw",
        "colab": {
          "base_uri": "https://localhost:8080/"
        },
        "outputId": "6f7e19d1-b902-4efa-95e3-91150199931e"
      },
      "source": [
        "\n",
        "accuracy_score(actual_test_label, pred_SVC_lda)"
      ],
      "execution_count": null,
      "outputs": [
        {
          "output_type": "execute_result",
          "data": {
            "text/plain": [
              "0.46"
            ]
          },
          "metadata": {
            "tags": []
          },
          "execution_count": 45
        }
      ]
    },
    {
      "cell_type": "code",
      "metadata": {
        "id": "6xR5OkNF-yUE",
        "colab": {
          "base_uri": "https://localhost:8080/"
        },
        "outputId": "67c59b38-c30d-45fd-9aa6-7a47591fe9bc"
      },
      "source": [
        "\n",
        "f1_score(actual_test_label, pred_SVC_lda)"
      ],
      "execution_count": null,
      "outputs": [
        {
          "output_type": "execute_result",
          "data": {
            "text/plain": [
              "0.5423728813559322"
            ]
          },
          "metadata": {
            "tags": []
          },
          "execution_count": 46
        }
      ]
    },
    {
      "cell_type": "code",
      "metadata": {
        "id": "RNj09viv-yP9",
        "colab": {
          "base_uri": "https://localhost:8080/"
        },
        "outputId": "54896bbe-cfd1-4d22-a436-60f242eb0012"
      },
      "source": [
        "\n",
        "log_loss(actual_test_label,pred_SVC_lda)"
      ],
      "execution_count": null,
      "outputs": [
        {
          "output_type": "execute_result",
          "data": {
            "text/plain": [
              "18.651227108326637"
            ]
          },
          "metadata": {
            "tags": []
          },
          "execution_count": 47
        }
      ]
    },
    {
      "cell_type": "markdown",
      "metadata": {
        "id": "NnUrfBYZ9AyP"
      },
      "source": [
        "##SVC_PCA"
      ]
    },
    {
      "cell_type": "code",
      "metadata": {
        "id": "3mJoxol6RljO",
        "colab": {
          "base_uri": "https://localhost:8080/"
        },
        "outputId": "26e82350-1f2b-45f7-e4a8-fc0304c61a7a"
      },
      "source": [
        "predicted_test_SVC_pca, cvs_SVC_pca =trainSVC(pca_train_data,label_data,pca_test_data,test_label)\n",
        "predicted_test_SVC_pca"
      ],
      "execution_count": null,
      "outputs": [
        {
          "output_type": "stream",
          "text": [
            "0.643490115882754\n",
            "[0.39292035 0.5699115  0.64247788 0.57522124 0.69026549]\n"
          ],
          "name": "stdout"
        },
        {
          "output_type": "execute_result",
          "data": {
            "text/plain": [
              "array([1, 1, 1, ..., 0, 0, 0])"
            ]
          },
          "metadata": {
            "tags": []
          },
          "execution_count": 48
        }
      ]
    },
    {
      "cell_type": "code",
      "metadata": {
        "id": "IGBDagbDRlaO",
        "colab": {
          "base_uri": "https://localhost:8080/"
        },
        "outputId": "ba5fdedd-d5b1-4c36-e69a-59877ec92214"
      },
      "source": [
        "pred_SVC_pca=predictDeepFakeResult(predicted_test_SVC_pca,frame_count_test_fake+frame_count_test_real)\n",
        "print(pred_SVC_pca)"
      ],
      "execution_count": null,
      "outputs": [
        {
          "output_type": "stream",
          "text": [
            "28 1\n",
            "13 17\n",
            "8 21\n",
            "27 2\n",
            "28 2\n",
            "24 6\n",
            "29 1\n",
            "28 1\n",
            "18 11\n",
            "20 9\n",
            "29 0\n",
            "30 0\n",
            "3 27\n",
            "23 6\n",
            "16 9\n",
            "0 23\n",
            "0 25\n",
            "0 24\n",
            "0 24\n",
            "0 22\n",
            "0 22\n",
            "0 24\n",
            "0 23\n",
            "0 24\n",
            "0 23\n",
            "6 24\n",
            "26 3\n",
            "29 1\n",
            "31 0\n",
            "26 3\n",
            "16 13\n",
            "29 0\n",
            "28 2\n",
            "15 14\n",
            "22 7\n",
            "29 1\n",
            "29 0\n",
            "28 0\n",
            "29 0\n",
            "7 22\n",
            "8 21\n",
            "23 6\n",
            "21 8\n",
            "29 1\n",
            "28 2\n",
            "21 9\n",
            "20 9\n",
            "14 15\n",
            "14 16\n",
            "30 0\n",
            "[1, 0, 0, 1, 1, 1, 1, 1, 1, 1, 1, 1, 0, 1, 1, 0, 0, 0, 0, 0, 0, 0, 0, 0, 0, 0, 1, 1, 1, 1, 1, 1, 1, 1, 1, 1, 1, 1, 1, 0, 0, 1, 1, 1, 1, 1, 1, 0, 0, 1]\n"
          ],
          "name": "stdout"
        }
      ]
    },
    {
      "cell_type": "code",
      "metadata": {
        "id": "TerB_tc3rZzS",
        "colab": {
          "base_uri": "https://localhost:8080/"
        },
        "outputId": "dc8e0ac4-a19d-47b0-a01b-4cc03ced33de"
      },
      "source": [
        "\n",
        "accuracy_score(actual_test_label, pred_SVC_pca)"
      ],
      "execution_count": null,
      "outputs": [
        {
          "output_type": "execute_result",
          "data": {
            "text/plain": [
              "0.66"
            ]
          },
          "metadata": {
            "tags": []
          },
          "execution_count": 50
        }
      ]
    },
    {
      "cell_type": "code",
      "metadata": {
        "id": "bdLZ8PqIR9Ci",
        "colab": {
          "base_uri": "https://localhost:8080/"
        },
        "outputId": "d8b4bdf9-e154-4540-d471-6575dec6c8b0"
      },
      "source": [
        "\n",
        "f1_score(actual_test_label, pred_SVC_pca)"
      ],
      "execution_count": null,
      "outputs": [
        {
          "output_type": "execute_result",
          "data": {
            "text/plain": [
              "0.7017543859649122"
            ]
          },
          "metadata": {
            "tags": []
          },
          "execution_count": 51
        }
      ]
    },
    {
      "cell_type": "code",
      "metadata": {
        "id": "559zFvwFMQkN",
        "colab": {
          "base_uri": "https://localhost:8080/"
        },
        "outputId": "378889a7-12eb-4e68-9900-6d3650b914ef"
      },
      "source": [
        "\n",
        "log_loss(actual_test_label,pred_SVC_pca)"
      ],
      "execution_count": null,
      "outputs": [
        {
          "output_type": "execute_result",
          "data": {
            "text/plain": [
              "11.743375877652879"
            ]
          },
          "metadata": {
            "tags": []
          },
          "execution_count": 52
        }
      ]
    },
    {
      "cell_type": "markdown",
      "metadata": {
        "id": "taQTXkZv65TN"
      },
      "source": [
        "##SVC_Normal"
      ]
    },
    {
      "cell_type": "code",
      "metadata": {
        "id": "8-LAbgPI69HY",
        "colab": {
          "base_uri": "https://localhost:8080/"
        },
        "outputId": "dbec5ede-8733-479a-cc9c-83fc9a7f60ea"
      },
      "source": [
        "predicted_test_SVC_normal, cvs_SVC_normal =trainSVC(train_data,label_data,test_data,test_label)\n",
        "predicted_test_SVC_normal"
      ],
      "execution_count": null,
      "outputs": [
        {
          "output_type": "stream",
          "text": [
            "0.6373551465576005\n",
            "[0.36637168 0.55221239 0.62831858 0.59823009 0.73451327]\n"
          ],
          "name": "stdout"
        },
        {
          "output_type": "execute_result",
          "data": {
            "text/plain": [
              "array([1, 1, 1, ..., 0, 0, 0])"
            ]
          },
          "metadata": {
            "tags": []
          },
          "execution_count": 53
        }
      ]
    },
    {
      "cell_type": "code",
      "metadata": {
        "id": "IlM7rFxp683Z",
        "colab": {
          "base_uri": "https://localhost:8080/"
        },
        "outputId": "b4b13a44-f3c3-4b0a-9bf0-6aab5717a147"
      },
      "source": [
        "pred_SVC_normal=predictDeepFakeResult(predicted_test_SVC_normal,frame_count_test_fake+frame_count_test_real)\n",
        "print(pred_SVC_normal)"
      ],
      "execution_count": null,
      "outputs": [
        {
          "output_type": "stream",
          "text": [
            "28 1\n",
            "12 18\n",
            "9 20\n",
            "27 2\n",
            "29 1\n",
            "23 7\n",
            "30 0\n",
            "28 1\n",
            "14 15\n",
            "24 5\n",
            "29 0\n",
            "30 0\n",
            "2 28\n",
            "21 8\n",
            "18 7\n",
            "0 23\n",
            "0 25\n",
            "0 24\n",
            "0 24\n",
            "0 22\n",
            "0 22\n",
            "0 24\n",
            "0 23\n",
            "0 24\n",
            "0 23\n",
            "2 28\n",
            "25 4\n",
            "29 1\n",
            "31 0\n",
            "27 2\n",
            "19 10\n",
            "29 0\n",
            "28 2\n",
            "19 10\n",
            "21 8\n",
            "29 1\n",
            "29 0\n",
            "28 0\n",
            "29 0\n",
            "7 22\n",
            "7 22\n",
            "23 6\n",
            "14 15\n",
            "29 1\n",
            "29 1\n",
            "20 10\n",
            "20 9\n",
            "14 15\n",
            "13 17\n",
            "30 0\n",
            "[1, 0, 0, 1, 1, 1, 1, 1, 0, 1, 1, 1, 0, 1, 1, 0, 0, 0, 0, 0, 0, 0, 0, 0, 0, 0, 1, 1, 1, 1, 1, 1, 1, 1, 1, 1, 1, 1, 1, 0, 0, 1, 0, 1, 1, 1, 1, 0, 0, 1]\n"
          ],
          "name": "stdout"
        }
      ]
    },
    {
      "cell_type": "code",
      "metadata": {
        "id": "vdavN_Iw68zt",
        "colab": {
          "base_uri": "https://localhost:8080/"
        },
        "outputId": "5e9bf3f6-2508-46f1-ed11-94fc86969a18"
      },
      "source": [
        "\n",
        "accuracy_score(actual_test_label, pred_SVC_normal)"
      ],
      "execution_count": null,
      "outputs": [
        {
          "output_type": "execute_result",
          "data": {
            "text/plain": [
              "0.66"
            ]
          },
          "metadata": {
            "tags": []
          },
          "execution_count": 55
        }
      ]
    },
    {
      "cell_type": "code",
      "metadata": {
        "id": "LBkw5psF67u1",
        "colab": {
          "base_uri": "https://localhost:8080/"
        },
        "outputId": "903d7959-bb1f-4ba7-8095-a803ad16a7d7"
      },
      "source": [
        "\n",
        "f1_score(actual_test_label, pred_SVC_normal)"
      ],
      "execution_count": null,
      "outputs": [
        {
          "output_type": "execute_result",
          "data": {
            "text/plain": [
              "0.6909090909090909"
            ]
          },
          "metadata": {
            "tags": []
          },
          "execution_count": 56
        }
      ]
    },
    {
      "cell_type": "code",
      "metadata": {
        "id": "RpBt72wC670n",
        "colab": {
          "base_uri": "https://localhost:8080/"
        },
        "outputId": "30a9764a-b9cc-45db-b8fb-92af48d74bda"
      },
      "source": [
        "\n",
        "log_loss(actual_test_label,pred_SVC_normal)"
      ],
      "execution_count": null,
      "outputs": [
        {
          "output_type": "execute_result",
          "data": {
            "text/plain": [
              "11.743359885704276"
            ]
          },
          "metadata": {
            "tags": []
          },
          "execution_count": 57
        }
      ]
    },
    {
      "cell_type": "markdown",
      "metadata": {
        "id": "CmBwlCJdUk3x"
      },
      "source": [
        "##Comparison"
      ]
    },
    {
      "cell_type": "code",
      "metadata": {
        "id": "zDVuzxw9UnQ6",
        "colab": {
          "base_uri": "https://localhost:8080/",
          "height": 552
        },
        "outputId": "a9c9128e-66c9-45b6-cdae-cea561b49ef8"
      },
      "source": [
        "#BoxPlot for cross validation scores\n",
        "\n",
        "data_SVC = [cvs_SVC_lda, cvs_SVC_pca, cvs_SVC_normal]\n",
        "\n",
        "fig_SVC = plt.figure(figsize =(10, 7))\n",
        "  \n",
        "# Creating axes instance\n",
        "ax_SVC = fig_SVC.add_axes([0, 0, 1, 1])\n",
        "  \n",
        "# Creating plot\n",
        "bp_SVC = ax_SVC.boxplot(data_SVC)\n",
        "  \n",
        "# show plot\n",
        "plt.show()"
      ],
      "execution_count": null,
      "outputs": [
        {
          "output_type": "display_data",
          "data": {
            "image/png": "[encoded data removed]",
            "text/plain": [
              "<Figure size 720x504 with 1 Axes>"
            ]
          },
          "metadata": {
            "tags": [],
            "needs_background": "light"
          }
        }
      ]
    },
    {
      "cell_type": "markdown",
      "metadata": {
        "id": "Tx9xQBTlWPxq"
      },
      "source": [
        "##MLP"
      ]
    },
    {
      "cell_type": "code",
      "metadata": {
        "id": "sXg46Jw2WSC5"
      },
      "source": [
        "from sklearn.neural_network import MLPClassifier\n",
        "from sklearn.model_selection import cross_val_score\n",
        "\n",
        "models_MLP = []\n",
        "\n",
        "def trainMLP(train_data, label_data, test_data,test_label):\n",
        "  clf = MLPClassifier()\n",
        "  clf=clf.fit(train_data,label_data)\n",
        "  models_MLP.append(clf)\n",
        "  print(clf.score(test_data,test_label))\n",
        "  cvs = cross_val_score(clf, train_data, label_data, cv=5)\n",
        "  print(cvs)\n",
        "  predicted_test = clf.predict(test_data)\n",
        "  return predicted_test, cvs"
      ],
      "execution_count": null,
      "outputs": []
    },
    {
      "cell_type": "markdown",
      "metadata": {
        "id": "Ff-e4OrJ_p18"
      },
      "source": [
        "##MLP_LDA"
      ]
    },
    {
      "cell_type": "code",
      "metadata": {
        "colab": {
          "base_uri": "https://localhost:8080/"
        },
        "id": "fu4HvIoCZxd0",
        "outputId": "a1e93c32-8183-4619-9b97-ddff3edd30a5"
      },
      "source": [
        "predicted_test_MLP_lda, cvs_MLP_lda =trainMLP(lda_train_data,label_data,lda_test_data,test_label)\n",
        "predicted_test_MLP_lda"
      ],
      "execution_count": null,
      "outputs": [
        {
          "output_type": "stream",
          "text": [
            "0.4723926380368098\n",
            "[0.99292035 0.99292035 0.99469027 0.99646018 0.99823009]\n"
          ],
          "name": "stdout"
        },
        {
          "output_type": "execute_result",
          "data": {
            "text/plain": [
              "array([1, 1, 1, ..., 1, 0, 0])"
            ]
          },
          "metadata": {
            "tags": []
          },
          "execution_count": 60
        }
      ]
    },
    {
      "cell_type": "code",
      "metadata": {
        "colab": {
          "base_uri": "https://localhost:8080/"
        },
        "id": "OppoErzFZ05L",
        "outputId": "e4f07f2f-5a59-49d7-9759-c44941752ff8"
      },
      "source": [
        "pred_MLP_lda=predictDeepFakeResult(predicted_test_MLP_lda,frame_count_test_fake+frame_count_test_real)\n",
        "print(pred_MLP_lda)"
      ],
      "execution_count": null,
      "outputs": [
        {
          "output_type": "stream",
          "text": [
            "24 5\n",
            "9 21\n",
            "10 19\n",
            "16 13\n",
            "11 19\n",
            "15 15\n",
            "16 14\n",
            "20 9\n",
            "18 11\n",
            "21 8\n",
            "19 10\n",
            "16 14\n",
            "14 16\n",
            "12 17\n",
            "11 14\n",
            "6 17\n",
            "7 18\n",
            "14 10\n",
            "20 4\n",
            "12 10\n",
            "18 4\n",
            "18 6\n",
            "18 5\n",
            "15 9\n",
            "16 7\n",
            "14 16\n",
            "10 19\n",
            "12 18\n",
            "18 13\n",
            "17 12\n",
            "17 12\n",
            "10 19\n",
            "10 20\n",
            "18 11\n",
            "17 12\n",
            "5 25\n",
            "12 17\n",
            "21 7\n",
            "20 9\n",
            "10 19\n",
            "8 21\n",
            "14 15\n",
            "15 14\n",
            "12 18\n",
            "19 11\n",
            "21 9\n",
            "19 10\n",
            "20 9\n",
            "15 15\n",
            "17 13\n",
            "[1, 0, 0, 1, 0, 0, 1, 1, 1, 1, 1, 1, 0, 0, 0, 0, 0, 1, 1, 1, 1, 1, 1, 1, 1, 0, 0, 0, 1, 1, 1, 0, 0, 1, 1, 0, 0, 1, 1, 0, 0, 0, 1, 0, 1, 1, 1, 1, 0, 1]\n"
          ],
          "name": "stdout"
        }
      ]
    },
    {
      "cell_type": "code",
      "metadata": {
        "colab": {
          "base_uri": "https://localhost:8080/"
        },
        "id": "vfP9nJ3xZ02C",
        "outputId": "beea5d3b-201a-4879-cab7-97366935ff3c"
      },
      "source": [
        "\n",
        "accuracy_score(actual_test_label, pred_MLP_lda)"
      ],
      "execution_count": null,
      "outputs": [
        {
          "output_type": "execute_result",
          "data": {
            "text/plain": [
              "0.44"
            ]
          },
          "metadata": {
            "tags": []
          },
          "execution_count": 62
        }
      ]
    },
    {
      "cell_type": "code",
      "metadata": {
        "colab": {
          "base_uri": "https://localhost:8080/"
        },
        "id": "Ycf1jkjWZ0yx",
        "outputId": "eefcdce9-dddb-415c-948d-9c976ed2864d"
      },
      "source": [
        "\n",
        "f1_score(actual_test_label, pred_MLP_lda)"
      ],
      "execution_count": null,
      "outputs": [
        {
          "output_type": "execute_result",
          "data": {
            "text/plain": [
              "0.48148148148148145"
            ]
          },
          "metadata": {
            "tags": []
          },
          "execution_count": 63
        }
      ]
    },
    {
      "cell_type": "code",
      "metadata": {
        "colab": {
          "base_uri": "https://localhost:8080/"
        },
        "id": "sCPaRe4HZ0vi",
        "outputId": "856e4cbb-6206-4758-e528-4b469970937f"
      },
      "source": [
        "\n",
        "log_loss(actual_test_label,pred_MLP_lda)"
      ],
      "execution_count": null,
      "outputs": [
        {
          "output_type": "execute_result",
          "data": {
            "text/plain": [
              "19.341970652327646"
            ]
          },
          "metadata": {
            "tags": []
          },
          "execution_count": 64
        }
      ]
    },
    {
      "cell_type": "markdown",
      "metadata": {
        "id": "rH1YLBZUAlYg"
      },
      "source": [
        "##MLP_PCA"
      ]
    },
    {
      "cell_type": "code",
      "metadata": {
        "colab": {
          "base_uri": "https://localhost:8080/"
        },
        "id": "mCy5eWGSXPQx",
        "outputId": "5b2c1b28-11ff-410d-af18-eef91d8bd82b"
      },
      "source": [
        "predicted_test_MLP_pca, cvs_MLP_pca =trainMLP(pca_train_data,label_data,pca_test_data,test_label)\n",
        "predicted_test_MLP_pca"
      ],
      "execution_count": null,
      "outputs": [
        {
          "output_type": "stream",
          "text": [
            "0.6319018404907976\n",
            "[0.41061947 0.58761062 0.58584071 0.55221239 0.60176991]\n"
          ],
          "name": "stdout"
        },
        {
          "output_type": "execute_result",
          "data": {
            "text/plain": [
              "array([1, 1, 1, ..., 0, 1, 1])"
            ]
          },
          "metadata": {
            "tags": []
          },
          "execution_count": 65
        }
      ]
    },
    {
      "cell_type": "code",
      "metadata": {
        "colab": {
          "base_uri": "https://localhost:8080/"
        },
        "id": "Hvfprsf4XaFx",
        "outputId": "8b470b72-5c45-4a7f-ec78-4b729d844b15"
      },
      "source": [
        "pred_MLP_pca=predictDeepFakeResult(predicted_test_MLP_pca,frame_count_test_fake+frame_count_test_real)\n",
        "print(pred_MLP_pca)"
      ],
      "execution_count": null,
      "outputs": [
        {
          "output_type": "stream",
          "text": [
            "19 10\n",
            "16 14\n",
            "9 20\n",
            "28 1\n",
            "22 8\n",
            "22 8\n",
            "29 1\n",
            "26 3\n",
            "13 16\n",
            "23 6\n",
            "28 1\n",
            "30 0\n",
            "8 22\n",
            "8 21\n",
            "12 13\n",
            "2 21\n",
            "0 25\n",
            "9 15\n",
            "8 16\n",
            "0 22\n",
            "0 22\n",
            "0 24\n",
            "6 17\n",
            "6 18\n",
            "0 23\n",
            "16 14\n",
            "9 20\n",
            "24 6\n",
            "24 7\n",
            "21 8\n",
            "17 12\n",
            "23 6\n",
            "28 2\n",
            "26 3\n",
            "26 3\n",
            "27 3\n",
            "26 3\n",
            "19 9\n",
            "26 3\n",
            "19 10\n",
            "20 9\n",
            "26 3\n",
            "20 9\n",
            "29 1\n",
            "22 8\n",
            "23 7\n",
            "24 5\n",
            "14 15\n",
            "14 16\n",
            "24 6\n",
            "[1, 1, 0, 1, 1, 1, 1, 1, 0, 1, 1, 1, 0, 0, 0, 0, 0, 0, 0, 0, 0, 0, 0, 0, 0, 1, 0, 1, 1, 1, 1, 1, 1, 1, 1, 1, 1, 1, 1, 1, 1, 1, 1, 1, 1, 1, 1, 0, 0, 1]\n"
          ],
          "name": "stdout"
        }
      ]
    },
    {
      "cell_type": "code",
      "metadata": {
        "colab": {
          "base_uri": "https://localhost:8080/"
        },
        "id": "E_hRzY9-Xh9J",
        "outputId": "5b88875a-12e6-42ef-854b-9a2a6b58ecfb"
      },
      "source": [
        "\n",
        "accuracy_score(actual_test_label, pred_MLP_pca)"
      ],
      "execution_count": null,
      "outputs": [
        {
          "output_type": "execute_result",
          "data": {
            "text/plain": [
              "0.74"
            ]
          },
          "metadata": {
            "tags": []
          },
          "execution_count": 67
        }
      ]
    },
    {
      "cell_type": "code",
      "metadata": {
        "colab": {
          "base_uri": "https://localhost:8080/"
        },
        "id": "gPODVSVtXjid",
        "outputId": "bcbd7a3a-7ed1-4f4a-af84-02ebd0b89ac8"
      },
      "source": [
        "\n",
        "f1_score(actual_test_label, pred_MLP_pca)"
      ],
      "execution_count": null,
      "outputs": [
        {
          "output_type": "execute_result",
          "data": {
            "text/plain": [
              "0.7719298245614036"
            ]
          },
          "metadata": {
            "tags": []
          },
          "execution_count": 68
        }
      ]
    },
    {
      "cell_type": "code",
      "metadata": {
        "colab": {
          "base_uri": "https://localhost:8080/"
        },
        "id": "5N06ZiqgXqPO",
        "outputId": "ca30e5b0-8678-43e2-bdb9-52a3dba776ba"
      },
      "source": [
        "\n",
        "log_loss(actual_test_label,pred_MLP_pca)"
      ],
      "execution_count": null,
      "outputs": [
        {
          "output_type": "execute_result",
          "data": {
            "text/plain": [
              "8.980241782162816"
            ]
          },
          "metadata": {
            "tags": []
          },
          "execution_count": 69
        }
      ]
    },
    {
      "cell_type": "markdown",
      "metadata": {
        "id": "bzHAkJcq7Vo9"
      },
      "source": [
        "##MLP_Normal"
      ]
    },
    {
      "cell_type": "code",
      "metadata": {
        "colab": {
          "base_uri": "https://localhost:8080/"
        },
        "id": "1IrRRyEg7YV4",
        "outputId": "a11979a3-54bb-453e-d69f-1b19e4e64ee4"
      },
      "source": [
        "predicted_test_MLP_normal, cvs_MLP_normal =trainMLP(train_data,label_data,test_data,test_label)\n",
        "predicted_test_MLP_normal"
      ],
      "execution_count": null,
      "outputs": [
        {
          "output_type": "stream",
          "text": [
            "0.5371506475800955\n",
            "[0.39823009 0.51681416 0.48141593 0.55929204 0.53274336]\n"
          ],
          "name": "stdout"
        },
        {
          "output_type": "execute_result",
          "data": {
            "text/plain": [
              "array([0, 0, 1, ..., 0, 1, 1])"
            ]
          },
          "metadata": {
            "tags": []
          },
          "execution_count": 70
        }
      ]
    },
    {
      "cell_type": "code",
      "metadata": {
        "colab": {
          "base_uri": "https://localhost:8080/"
        },
        "id": "npZIrfbX7ZW7",
        "outputId": "a3e208e4-9561-4ac0-e42c-0d9c4bf86091"
      },
      "source": [
        "pred_MLP_normal=predictDeepFakeResult(predicted_test_MLP_normal,frame_count_test_fake+frame_count_test_real)\n",
        "print(pred_MLP_normal)"
      ],
      "execution_count": null,
      "outputs": [
        {
          "output_type": "stream",
          "text": [
            "4 25\n",
            "1 29\n",
            "1 28\n",
            "7 22\n",
            "18 12\n",
            "13 17\n",
            "0 30\n",
            "9 20\n",
            "0 29\n",
            "9 20\n",
            "2 27\n",
            "21 9\n",
            "2 28\n",
            "3 26\n",
            "0 25\n",
            "0 23\n",
            "0 25\n",
            "0 24\n",
            "0 24\n",
            "0 22\n",
            "0 22\n",
            "0 24\n",
            "0 23\n",
            "0 24\n",
            "0 23\n",
            "0 30\n",
            "6 23\n",
            "9 21\n",
            "16 15\n",
            "11 18\n",
            "0 29\n",
            "4 25\n",
            "16 14\n",
            "14 15\n",
            "5 24\n",
            "1 29\n",
            "13 16\n",
            "9 19\n",
            "18 11\n",
            "2 27\n",
            "4 25\n",
            "7 22\n",
            "6 23\n",
            "13 17\n",
            "0 30\n",
            "5 25\n",
            "6 23\n",
            "17 12\n",
            "9 21\n",
            "2 28\n",
            "[0, 0, 0, 0, 1, 0, 0, 0, 0, 0, 0, 1, 0, 0, 0, 0, 0, 0, 0, 0, 0, 0, 0, 0, 0, 0, 0, 0, 1, 0, 0, 0, 1, 0, 0, 0, 0, 0, 1, 0, 0, 0, 0, 0, 0, 0, 0, 1, 0, 0]\n"
          ],
          "name": "stdout"
        }
      ]
    },
    {
      "cell_type": "code",
      "metadata": {
        "colab": {
          "base_uri": "https://localhost:8080/"
        },
        "id": "rT7m0y2J7ZNC",
        "outputId": "ebf751d9-ae7e-4113-b35d-154837ddf623"
      },
      "source": [
        "\n",
        "accuracy_score(actual_test_label, pred_MLP_normal)"
      ],
      "execution_count": null,
      "outputs": [
        {
          "output_type": "execute_result",
          "data": {
            "text/plain": [
              "0.54"
            ]
          },
          "metadata": {
            "tags": []
          },
          "execution_count": 72
        }
      ]
    },
    {
      "cell_type": "code",
      "metadata": {
        "colab": {
          "base_uri": "https://localhost:8080/"
        },
        "id": "kHdlahk37Y_k",
        "outputId": "3fca5ece-4be4-408c-8a0d-bb48cab44a29"
      },
      "source": [
        "\n",
        "f1_score(actual_test_label, pred_MLP_normal)"
      ],
      "execution_count": null,
      "outputs": [
        {
          "output_type": "execute_result",
          "data": {
            "text/plain": [
              "0.25806451612903225"
            ]
          },
          "metadata": {
            "tags": []
          },
          "execution_count": 73
        }
      ]
    },
    {
      "cell_type": "code",
      "metadata": {
        "colab": {
          "base_uri": "https://localhost:8080/"
        },
        "id": "ogXNGnNX7Yu9",
        "outputId": "52a09b24-db5e-4b36-c772-d560b0e84e6e"
      },
      "source": [
        "\n",
        "log_loss(actual_test_label,pred_MLP_normal)"
      ],
      "execution_count": null,
      "outputs": [
        {
          "output_type": "execute_result",
          "data": {
            "text/plain": [
              "15.887869125556122"
            ]
          },
          "metadata": {
            "tags": []
          },
          "execution_count": 74
        }
      ]
    },
    {
      "cell_type": "markdown",
      "metadata": {
        "id": "TulOTpr4U3N6"
      },
      "source": [
        "##Comparison"
      ]
    },
    {
      "cell_type": "code",
      "metadata": {
        "id": "YJvXN2rCU4rL",
        "colab": {
          "base_uri": "https://localhost:8080/",
          "height": 552
        },
        "outputId": "e2745b59-3d10-4340-b044-d0d01dbeb9d1"
      },
      "source": [
        "#BoxPlot for cross validation scores\n",
        "\n",
        "data_MLP = [cvs_MLP_lda, cvs_MLP_pca, cvs_MLP_normal]\n",
        "\n",
        "fig_MLP = plt.figure(figsize =(10, 7))\n",
        "  \n",
        "# Creating axes instance\n",
        "ax_MLP = fig_MLP.add_axes([0, 0, 1, 1])\n",
        "  \n",
        "# Creating plot\n",
        "bp_MLP = ax_MLP.boxplot(data_MLP)\n",
        "  \n",
        "# show plot\n",
        "plt.show()"
      ],
      "execution_count": null,
      "outputs": [
        {
          "output_type": "display_data",
          "data": {
            "image/png": "[encoded data removed]",
            "text/plain": [
              "<Figure size 720x504 with 1 Axes>"
            ]
          },
          "metadata": {
            "tags": [],
            "needs_background": "light"
          }
        }
      ]
    },
    {
      "cell_type": "markdown",
      "metadata": {
        "id": "o7nxvpXUgy9D"
      },
      "source": [
        "##KNN"
      ]
    },
    {
      "cell_type": "code",
      "metadata": {
        "id": "6HNuBsPRg1kp"
      },
      "source": [
        "from sklearn.neighbors import KNeighborsClassifier\n",
        "from sklearn.model_selection import cross_val_score\n",
        "\n",
        "models_KNN = []\n",
        "\n",
        "def trainKNN(train_data, label_data, test_data,test_label):\n",
        "  clf = KNeighborsClassifier(n_neighbors=3)\n",
        "  clf.fit(train_data,label_data)\n",
        "  models_KNN.append(clf)\n",
        "  print(clf.score(test_data,test_label))\n",
        "  cvs = cross_val_score(clf, train_data, label_data, cv=5)\n",
        "  print(cvs)\n",
        "  predicted_test = clf.predict(test_data)\n",
        "  return predicted_test, cvs"
      ],
      "execution_count": null,
      "outputs": []
    },
    {
      "cell_type": "markdown",
      "metadata": {
        "id": "yZqmIjQmg6BO"
      },
      "source": [
        "##KNN_LDA"
      ]
    },
    {
      "cell_type": "code",
      "metadata": {
        "colab": {
          "base_uri": "https://localhost:8080/"
        },
        "id": "BTfxuEfihAwg",
        "outputId": "a6646b7f-4d91-475d-dd78-1da78a9e6fcd"
      },
      "source": [
        "predicted_test_KNN_lda, cvs_KNN_lda =trainKNN(lda_train_data,label_data,lda_test_data,test_label)\n",
        "predicted_test_KNN_lda"
      ],
      "execution_count": null,
      "outputs": [
        {
          "output_type": "stream",
          "text": [
            "0.47511929107021134\n",
            "[0.99292035 0.99115044 0.99292035 0.99646018 0.99823009]\n"
          ],
          "name": "stdout"
        },
        {
          "output_type": "execute_result",
          "data": {
            "text/plain": [
              "array([1, 1, 1, ..., 1, 0, 0])"
            ]
          },
          "metadata": {
            "tags": []
          },
          "execution_count": 77
        }
      ]
    },
    {
      "cell_type": "code",
      "metadata": {
        "colab": {
          "base_uri": "https://localhost:8080/"
        },
        "id": "QQFE9LDJhArU",
        "outputId": "11b48a94-2c0a-4445-e0f2-edb89d954b65"
      },
      "source": [
        "pred_KNN_lda=predictDeepFakeResult(predicted_test_KNN_lda,frame_count_test_fake+frame_count_test_real)\n",
        "print(pred_KNN_lda)"
      ],
      "execution_count": null,
      "outputs": [
        {
          "output_type": "stream",
          "text": [
            "24 5\n",
            "10 20\n",
            "10 19\n",
            "16 13\n",
            "11 19\n",
            "15 15\n",
            "16 14\n",
            "20 9\n",
            "18 11\n",
            "21 8\n",
            "19 10\n",
            "16 14\n",
            "14 16\n",
            "13 16\n",
            "10 15\n",
            "6 17\n",
            "7 18\n",
            "14 10\n",
            "20 4\n",
            "12 10\n",
            "18 4\n",
            "18 6\n",
            "17 6\n",
            "15 9\n",
            "16 7\n",
            "14 16\n",
            "10 19\n",
            "12 18\n",
            "18 13\n",
            "17 12\n",
            "17 12\n",
            "10 19\n",
            "10 20\n",
            "19 10\n",
            "17 12\n",
            "5 25\n",
            "12 17\n",
            "21 7\n",
            "20 9\n",
            "9 20\n",
            "9 20\n",
            "14 15\n",
            "15 14\n",
            "12 18\n",
            "20 10\n",
            "21 9\n",
            "19 10\n",
            "21 8\n",
            "15 15\n",
            "18 12\n",
            "[1, 0, 0, 1, 0, 0, 1, 1, 1, 1, 1, 1, 0, 0, 0, 0, 0, 1, 1, 1, 1, 1, 1, 1, 1, 0, 0, 0, 1, 1, 1, 0, 0, 1, 1, 0, 0, 1, 1, 0, 0, 0, 1, 0, 1, 1, 1, 1, 0, 1]\n"
          ],
          "name": "stdout"
        }
      ]
    },
    {
      "cell_type": "code",
      "metadata": {
        "colab": {
          "base_uri": "https://localhost:8080/"
        },
        "id": "MOkS5Z_qhAai",
        "outputId": "50f095af-6430-478c-b1b3-775a591a8bbe"
      },
      "source": [
        "\n",
        "accuracy_score(actual_test_label, pred_KNN_lda)"
      ],
      "execution_count": null,
      "outputs": [
        {
          "output_type": "execute_result",
          "data": {
            "text/plain": [
              "0.44"
            ]
          },
          "metadata": {
            "tags": []
          },
          "execution_count": 79
        }
      ]
    },
    {
      "cell_type": "code",
      "metadata": {
        "colab": {
          "base_uri": "https://localhost:8080/"
        },
        "id": "MDEH75sbhAW8",
        "outputId": "57cc1b0d-40dd-45e8-c0b6-a8678fb3d723"
      },
      "source": [
        "\n",
        "f1_score(actual_test_label, pred_KNN_lda)"
      ],
      "execution_count": null,
      "outputs": [
        {
          "output_type": "execute_result",
          "data": {
            "text/plain": [
              "0.48148148148148145"
            ]
          },
          "metadata": {
            "tags": []
          },
          "execution_count": 80
        }
      ]
    },
    {
      "cell_type": "code",
      "metadata": {
        "colab": {
          "base_uri": "https://localhost:8080/"
        },
        "id": "uPdL_7BehATA",
        "outputId": "6ac85376-6aa5-4351-cc93-ee19a1177e95"
      },
      "source": [
        "\n",
        "log_loss(actual_test_label,pred_KNN_lda)"
      ],
      "execution_count": null,
      "outputs": [
        {
          "output_type": "execute_result",
          "data": {
            "text/plain": [
              "19.341970652327646"
            ]
          },
          "metadata": {
            "tags": []
          },
          "execution_count": 81
        }
      ]
    },
    {
      "cell_type": "markdown",
      "metadata": {
        "id": "9JOHono1hBeA"
      },
      "source": [
        "##KNN_PCA"
      ]
    },
    {
      "cell_type": "code",
      "metadata": {
        "colab": {
          "base_uri": "https://localhost:8080/"
        },
        "id": "t6JpOxV9hGID",
        "outputId": "e85b19bd-c55a-446c-c67f-25bb2c9da0e3"
      },
      "source": [
        "predicted_test_KNN_pca, cvs_KNN_pca =trainKNN(pca_train_data,label_data,pca_test_data,test_label)\n",
        "predicted_test_KNN_pca"
      ],
      "execution_count": null,
      "outputs": [
        {
          "output_type": "stream",
          "text": [
            "0.580095432856169\n",
            "[0.3699115  0.51504425 0.57876106 0.54867257 0.76283186]\n"
          ],
          "name": "stdout"
        },
        {
          "output_type": "execute_result",
          "data": {
            "text/plain": [
              "array([1, 1, 1, ..., 0, 0, 0])"
            ]
          },
          "metadata": {
            "tags": []
          },
          "execution_count": 82
        }
      ]
    },
    {
      "cell_type": "code",
      "metadata": {
        "colab": {
          "base_uri": "https://localhost:8080/"
        },
        "id": "kOnHQlbFhGEf",
        "outputId": "0b278e1c-89d6-4dfd-900a-d4ceb8a08805"
      },
      "source": [
        "pred_KNN_pca=predictDeepFakeResult(predicted_test_KNN_pca,frame_count_test_fake+frame_count_test_real)\n",
        "print(pred_KNN_pca)"
      ],
      "execution_count": null,
      "outputs": [
        {
          "output_type": "stream",
          "text": [
            "29 0\n",
            "18 12\n",
            "8 21\n",
            "13 16\n",
            "9 21\n",
            "17 13\n",
            "27 3\n",
            "28 1\n",
            "18 11\n",
            "26 3\n",
            "29 0\n",
            "30 0\n",
            "5 25\n",
            "9 20\n",
            "20 5\n",
            "0 23\n",
            "0 25\n",
            "12 12\n",
            "2 22\n",
            "3 19\n",
            "0 22\n",
            "0 24\n",
            "15 8\n",
            "1 23\n",
            "1 22\n",
            "3 27\n",
            "10 19\n",
            "26 4\n",
            "27 4\n",
            "20 9\n",
            "3 26\n",
            "16 13\n",
            "30 0\n",
            "29 0\n",
            "28 1\n",
            "21 9\n",
            "29 0\n",
            "27 1\n",
            "12 17\n",
            "4 25\n",
            "8 21\n",
            "19 10\n",
            "12 17\n",
            "27 3\n",
            "17 13\n",
            "18 12\n",
            "28 1\n",
            "22 7\n",
            "24 6\n",
            "24 6\n",
            "[1, 1, 0, 0, 0, 1, 1, 1, 1, 1, 1, 1, 0, 0, 1, 0, 0, 0, 0, 0, 0, 0, 1, 0, 0, 0, 0, 1, 1, 1, 0, 1, 1, 1, 1, 1, 1, 1, 0, 0, 0, 1, 0, 1, 1, 1, 1, 1, 1, 1]\n"
          ],
          "name": "stdout"
        }
      ]
    },
    {
      "cell_type": "code",
      "metadata": {
        "colab": {
          "base_uri": "https://localhost:8080/"
        },
        "id": "DYEHHSGFhF0D",
        "outputId": "a634404d-ee0a-49a5-eff8-5e5f5dfa65e6"
      },
      "source": [
        "\n",
        "accuracy_score(actual_test_label, pred_KNN_pca)"
      ],
      "execution_count": null,
      "outputs": [
        {
          "output_type": "execute_result",
          "data": {
            "text/plain": [
              "0.64"
            ]
          },
          "metadata": {
            "tags": []
          },
          "execution_count": 84
        }
      ]
    },
    {
      "cell_type": "code",
      "metadata": {
        "colab": {
          "base_uri": "https://localhost:8080/"
        },
        "id": "ywJ-mehzhFwm",
        "outputId": "051a5dc7-5404-453d-8562-f5011af5217a"
      },
      "source": [
        "\n",
        "f1_score(actual_test_label, pred_KNN_pca)"
      ],
      "execution_count": null,
      "outputs": [
        {
          "output_type": "execute_result",
          "data": {
            "text/plain": [
              "0.6666666666666666"
            ]
          },
          "metadata": {
            "tags": []
          },
          "execution_count": 85
        }
      ]
    },
    {
      "cell_type": "code",
      "metadata": {
        "colab": {
          "base_uri": "https://localhost:8080/"
        },
        "id": "8UZ89LbthFtl",
        "outputId": "e0897b02-82e3-498c-9d95-8711364584c4"
      },
      "source": [
        "\n",
        "log_loss(actual_test_label,pred_KNN_pca)"
      ],
      "execution_count": null,
      "outputs": [
        {
          "output_type": "execute_result",
          "data": {
            "text/plain": [
              "12.434135413602489"
            ]
          },
          "metadata": {
            "tags": []
          },
          "execution_count": 86
        }
      ]
    },
    {
      "cell_type": "markdown",
      "metadata": {
        "id": "SeuX_v-n70b5"
      },
      "source": [
        "##KNN_Normal"
      ]
    },
    {
      "cell_type": "code",
      "metadata": {
        "colab": {
          "base_uri": "https://localhost:8080/"
        },
        "id": "i5TNj1Id73ay",
        "outputId": "ddb4a088-5265-4f0d-f5ab-77cdb30a937e"
      },
      "source": [
        "predicted_test_KNN_normal, cvs_KNN_normal =trainKNN(train_data,label_data,test_data,test_label)\n",
        "predicted_test_KNN_normal"
      ],
      "execution_count": null,
      "outputs": [
        {
          "output_type": "stream",
          "text": [
            "0.5528289025221541\n",
            "[0.35575221 0.52920354 0.55929204 0.57168142 0.73982301]\n"
          ],
          "name": "stdout"
        },
        {
          "output_type": "execute_result",
          "data": {
            "text/plain": [
              "array([1, 1, 1, ..., 0, 0, 0])"
            ]
          },
          "metadata": {
            "tags": []
          },
          "execution_count": 87
        }
      ]
    },
    {
      "cell_type": "code",
      "metadata": {
        "colab": {
          "base_uri": "https://localhost:8080/"
        },
        "id": "BrU-2uYc73Xa",
        "outputId": "58f5ae14-9fe4-4ebf-e95d-d262b72946b1"
      },
      "source": [
        "pred_KNN_normal=predictDeepFakeResult(predicted_test_KNN_normal,frame_count_test_fake+frame_count_test_real)\n",
        "print(pred_KNN_normal)"
      ],
      "execution_count": null,
      "outputs": [
        {
          "output_type": "stream",
          "text": [
            "26 3\n",
            "26 4\n",
            "7 22\n",
            "20 9\n",
            "13 17\n",
            "19 11\n",
            "30 0\n",
            "27 2\n",
            "22 7\n",
            "28 1\n",
            "29 0\n",
            "30 0\n",
            "11 19\n",
            "9 20\n",
            "22 3\n",
            "0 23\n",
            "0 25\n",
            "16 8\n",
            "1 23\n",
            "6 16\n",
            "0 22\n",
            "0 24\n",
            "14 9\n",
            "2 22\n",
            "11 12\n",
            "9 21\n",
            "9 20\n",
            "22 8\n",
            "24 7\n",
            "25 4\n",
            "13 16\n",
            "11 18\n",
            "29 1\n",
            "27 2\n",
            "26 3\n",
            "19 11\n",
            "28 1\n",
            "27 1\n",
            "13 16\n",
            "5 24\n",
            "9 20\n",
            "17 12\n",
            "13 16\n",
            "26 4\n",
            "28 2\n",
            "9 21\n",
            "28 1\n",
            "17 12\n",
            "24 6\n",
            "28 2\n",
            "[1, 1, 0, 1, 0, 1, 1, 1, 1, 1, 1, 1, 0, 0, 1, 0, 0, 1, 0, 0, 0, 0, 1, 0, 0, 0, 0, 1, 1, 1, 0, 0, 1, 1, 1, 1, 1, 1, 0, 0, 0, 1, 0, 1, 1, 0, 1, 1, 1, 1]\n"
          ],
          "name": "stdout"
        }
      ]
    },
    {
      "cell_type": "code",
      "metadata": {
        "colab": {
          "base_uri": "https://localhost:8080/"
        },
        "id": "MFiuf42173GS",
        "outputId": "331eb524-0c62-41bc-e65c-dce3f764806b"
      },
      "source": [
        "\n",
        "accuracy_score(actual_test_label, pred_KNN_normal)"
      ],
      "execution_count": null,
      "outputs": [
        {
          "output_type": "execute_result",
          "data": {
            "text/plain": [
              "0.56"
            ]
          },
          "metadata": {
            "tags": []
          },
          "execution_count": 89
        }
      ]
    },
    {
      "cell_type": "code",
      "metadata": {
        "colab": {
          "base_uri": "https://localhost:8080/"
        },
        "id": "XB6duBCm73DS",
        "outputId": "cb9615b0-41f7-4ced-e0fc-f3d65bf6a213"
      },
      "source": [
        "\n",
        "f1_score(actual_test_label, pred_KNN_normal)"
      ],
      "execution_count": null,
      "outputs": [
        {
          "output_type": "execute_result",
          "data": {
            "text/plain": [
              "0.5925925925925927"
            ]
          },
          "metadata": {
            "tags": []
          },
          "execution_count": 90
        }
      ]
    },
    {
      "cell_type": "code",
      "metadata": {
        "colab": {
          "base_uri": "https://localhost:8080/"
        },
        "id": "GE2ZBvLI72-d",
        "outputId": "44919d5c-1c15-45ef-8c69-62337af237b0"
      },
      "source": [
        "\n",
        "log_loss(actual_test_label,pred_KNN_normal)"
      ],
      "execution_count": null,
      "outputs": [
        {
          "output_type": "execute_result",
          "data": {
            "text/plain": [
              "15.197269509092553"
            ]
          },
          "metadata": {
            "tags": []
          },
          "execution_count": 91
        }
      ]
    },
    {
      "cell_type": "markdown",
      "metadata": {
        "id": "1O7IQOR1U-FC"
      },
      "source": [
        "##Comparison"
      ]
    },
    {
      "cell_type": "code",
      "metadata": {
        "id": "hARD43uvU_i9",
        "colab": {
          "base_uri": "https://localhost:8080/",
          "height": 552
        },
        "outputId": "136f7d2b-2957-4762-b0ea-c8a7fc855dc6"
      },
      "source": [
        "#BoxPlot for cross validation scores\n",
        "\n",
        "data_KNN = [cvs_KNN_lda, cvs_KNN_pca, cvs_KNN_normal]\n",
        "\n",
        "fig_KNN = plt.figure(figsize =(10, 7))\n",
        "  \n",
        "# Creating axes instance\n",
        "ax_KNN = fig_KNN.add_axes([0, 0, 1, 1])\n",
        "  \n",
        "# Creating plot\n",
        "bp_KNN = ax_KNN.boxplot(data_KNN)\n",
        "  \n",
        "# show plot\n",
        "plt.show()"
      ],
      "execution_count": null,
      "outputs": [
        {
          "output_type": "display_data",
          "data": {
            "image/png": "[encoded data removed]",
            "text/plain": [
              "<Figure size 720x504 with 1 Axes>"
            ]
          },
          "metadata": {
            "tags": [],
            "needs_background": "light"
          }
        }
      ]
    },
    {
      "cell_type": "markdown",
      "metadata": {
        "id": "HVrMP3wwV2w_"
      },
      "source": [
        "##Comparison for LDAs"
      ]
    },
    {
      "cell_type": "code",
      "metadata": {
        "id": "znabxcXnV5CN",
        "colab": {
          "base_uri": "https://localhost:8080/",
          "height": 552
        },
        "outputId": "6a0f1dc6-a975-4c4c-9bd2-9917716aed53"
      },
      "source": [
        "#BoxPlot for cross validation scores\n",
        "\n",
        "data_LDA = [cvs_SVC_lda, cvs_MLP_lda, cvs_KNN_lda]\n",
        "\n",
        "fig_LDA = plt.figure(figsize =(10, 7))\n",
        "  \n",
        "# Creating axes instance\n",
        "ax_LDA = fig_LDA.add_axes([0, 0, 1, 1])\n",
        "  \n",
        "# Creating plot\n",
        "bp_LDA = ax_LDA.boxplot(data_LDA)\n",
        "  \n",
        "# show plot\n",
        "plt.show()"
      ],
      "execution_count": null,
      "outputs": [
        {
          "output_type": "display_data",
          "data": {
            "image/png": "[encoded data removed]",
            "text/plain": [
              "<Figure size 720x504 with 1 Axes>"
            ]
          },
          "metadata": {
            "tags": [],
            "needs_background": "light"
          }
        }
      ]
    },
    {
      "cell_type": "markdown",
      "metadata": {
        "id": "SAjZYsWsWJjU"
      },
      "source": [
        "##Comparison for PCAs"
      ]
    },
    {
      "cell_type": "code",
      "metadata": {
        "id": "MMsm1wQJWG1e",
        "colab": {
          "base_uri": "https://localhost:8080/",
          "height": 552
        },
        "outputId": "17d806a0-f7be-42fe-e791-d88d4817b34d"
      },
      "source": [
        "#BoxPlot for cross validation scores\n",
        "\n",
        "data_PCA = [cvs_SVC_pca, cvs_MLP_pca, cvs_KNN_pca]\n",
        "\n",
        "fig_PCA = plt.figure(figsize =(10, 7))\n",
        "  \n",
        "# Creating axes instance\n",
        "ax_PCA = fig_PCA.add_axes([0, 0, 1, 1])\n",
        "  \n",
        "# Creating plot\n",
        "bp_PCA = ax_PCA.boxplot(data_PCA)\n",
        "  \n",
        "# show plot\n",
        "plt.show()"
      ],
      "execution_count": null,
      "outputs": [
        {
          "output_type": "display_data",
          "data": {
            "image/png": "[encoded data removed]",
            "text/plain": [
              "<Figure size 720x504 with 1 Axes>"
            ]
          },
          "metadata": {
            "tags": [],
            "needs_background": "light"
          }
        }
      ]
    },
    {
      "cell_type": "markdown",
      "metadata": {
        "id": "eHgSIOqkWfvR"
      },
      "source": [
        "##Comparison for Normals"
      ]
    },
    {
      "cell_type": "code",
      "metadata": {
        "id": "KNdzB59uWffe",
        "colab": {
          "base_uri": "https://localhost:8080/",
          "height": 552
        },
        "outputId": "c3fba485-68f7-4001-8254-da9e8cc41e06"
      },
      "source": [
        "#BoxPlot for cross validation scores\n",
        "\n",
        "data_NORMAL = [cvs_SVC_normal, cvs_MLP_normal, cvs_KNN_normal]\n",
        "\n",
        "fig_NORMAL = plt.figure(figsize =(10, 7))\n",
        "  \n",
        "# Creating axes instance\n",
        "ax_NORMAL = fig_NORMAL.add_axes([0, 0, 1, 1])\n",
        "  \n",
        "# Creating plot\n",
        "bp_NORMAL = ax_NORMAL.boxplot(data_NORMAL)\n",
        "  \n",
        "# show plot\n",
        "plt.show()"
      ],
      "execution_count": null,
      "outputs": [
        {
          "output_type": "display_data",
          "data": {
            "image/png": "[encoded data removed]",
            "text/plain": [
              "<Figure size 720x504 with 1 Axes>"
            ]
          },
          "metadata": {
            "tags": [],
            "needs_background": "light"
          }
        }
      ]
    },
    {
      "cell_type": "markdown",
      "metadata": {
        "id": "YJfrWtQun06O"
      },
      "source": [
        "##CNN"
      ]
    },
    {
      "cell_type": "code",
      "metadata": {
        "id": "iFVp8d1jn2G7"
      },
      "source": [
        "def createImageArray(path_list):\n",
        "  img_list = []\n",
        "  for path in path_list:\n",
        "    img = cv2.imread(path)\n",
        "    img_list.append(img)\n",
        "  return img_list"
      ],
      "execution_count": null,
      "outputs": []
    },
    {
      "cell_type": "code",
      "metadata": {
        "id": "b4AqC9IkqPHw"
      },
      "source": [
        "# train_images_dlib_CNN = createImageArray(processedImagePath_Train_Fake_dlib + processedImagePath_Train_Real_dlib)\n",
        "train_images_dlib_CNN = createImageArray(processedImagePath_Train_Real_dlib + processedImagePath_Train_Fake_dlib )"
      ],
      "execution_count": null,
      "outputs": []
    },
    {
      "cell_type": "code",
      "metadata": {
        "id": "FzAruM6xqutr"
      },
      "source": [
        "train_images_dlib_label_CNN = [1]*len(processedImagePath_Train_Real_dlib) + [0]*len(processedImagePath_Train_Fake_dlib) "
      ],
      "execution_count": null,
      "outputs": []
    },
    {
      "cell_type": "code",
      "metadata": {
        "id": "-UJ2PyDsx2Cc"
      },
      "source": [
        "val_images_dlib_CNN = createImageArray(processedImagePath_Val_Fake_dlib + processedImagePath_Val_Real_dlib)"
      ],
      "execution_count": null,
      "outputs": []
    },
    {
      "cell_type": "code",
      "metadata": {
        "id": "LYVutGphx69I"
      },
      "source": [
        "val_images_dlib_label_CNN = [0]*len(processedImagePath_Val_Fake_dlib) + [1]*len(processedImagePath_Val_Real_dlib)"
      ],
      "execution_count": null,
      "outputs": []
    },
    {
      "cell_type": "code",
      "metadata": {
        "id": "wOE15_exyG80"
      },
      "source": [
        "test_images_dlib_CNN = createImageArray(processedImagePath_Test_Fake_dlib + processedImagePath_Test_Real_dlib)"
      ],
      "execution_count": null,
      "outputs": []
    },
    {
      "cell_type": "code",
      "metadata": {
        "id": "1-dDseLXyOgr"
      },
      "source": [
        "test_images_dlib_label_CNN = [0]*len(processedImagePath_Test_Fake_dlib) + [1]*len(processedImagePath_Test_Real_dlib)"
      ],
      "execution_count": null,
      "outputs": []
    },
    {
      "cell_type": "code",
      "metadata": {
        "id": "DnFqWTErPMhK"
      },
      "source": [
        "train_images_dlib_CNN_noise = createImageArray(processedImagePath_Train_Real_dlib_noise + processedImagePath_Train_Fake_dlib_noise )"
      ],
      "execution_count": null,
      "outputs": []
    },
    {
      "cell_type": "code",
      "metadata": {
        "id": "UewLGvrgS94f"
      },
      "source": [
        "train_images_dlib_label_CNN_noise = [1]*len(processedImagePath_Train_Real_dlib_noise) + [0]*len(processedImagePath_Train_Fake_dlib_noise) "
      ],
      "execution_count": null,
      "outputs": []
    },
    {
      "cell_type": "code",
      "metadata": {
        "id": "A7VGfBy2PUAF"
      },
      "source": [
        "# processedImagePath_Train"
      ],
      "execution_count": null,
      "outputs": []
    },
    {
      "cell_type": "code",
      "metadata": {
        "id": "_WvvwR0uzhZi"
      },
      "source": [
        "train_images_dlib_CNN = np.array(train_images_dlib_CNN)\n",
        "train_images_dlib_label_CNN = np.array(train_images_dlib_label_CNN)\n",
        "val_images_dlib_CNN = np.array(val_images_dlib_CNN)\n",
        "val_images_dlib_label_CNN  = np.array(val_images_dlib_label_CNN )"
      ],
      "execution_count": null,
      "outputs": []
    },
    {
      "cell_type": "code",
      "metadata": {
        "id": "v2na3TRMylQL"
      },
      "source": [
        "test_images_dlib_CNN = np.array(test_images_dlib_CNN)\n",
        "test_images_dlib_label_CNN  = np.array(test_images_dlib_label_CNN )"
      ],
      "execution_count": null,
      "outputs": []
    },
    {
      "cell_type": "code",
      "metadata": {
        "id": "C2kYNO69S3xt"
      },
      "source": [
        "train_images_dlib_CNN_noise = np.array(train_images_dlib_CNN_noise)\n",
        "train_images_dlib_label_CNN_noise = np.array(train_images_dlib_label_CNN_noise)"
      ],
      "execution_count": null,
      "outputs": []
    },
    {
      "cell_type": "code",
      "metadata": {
        "id": "-cFcBhbrriCW"
      },
      "source": [
        "import keras\n",
        "from keras.models import Sequential,Input,Model\n",
        "from keras.layers import Dense, Dropout, Flatten\n",
        "from keras.layers import Conv2D, MaxPooling2D\n",
        "from keras.layers.normalization import BatchNormalization\n",
        "from keras.layers.advanced_activations import LeakyReLU\n",
        "import tensorflow as tf"
      ],
      "execution_count": null,
      "outputs": []
    },
    {
      "cell_type": "code",
      "metadata": {
        "id": "5H2SwX_xrijo"
      },
      "source": [
        "batch_size = 100\n",
        "epochs = 20\n",
        "num_classes = 2"
      ],
      "execution_count": null,
      "outputs": []
    },
    {
      "cell_type": "code",
      "metadata": {
        "id": "WBkaA97Jrkkv"
      },
      "source": [
        "# cnn = Sequential()\n",
        "\n",
        "# cnn.add(Conv2D(32, kernel_size=(3, 3),activation='linear',input_shape=(64,64,3),padding='same'))\n",
        "# cnn.add(LeakyReLU(alpha=0.1))\n",
        "# cnn.add(MaxPooling2D((2, 2),padding='same'))\n",
        "# cnn.add(Conv2D(64, (3, 3), activation='linear',padding='same'))\n",
        "# cnn.add(LeakyReLU(alpha=0.1))\n",
        "# cnn.add(MaxPooling2D(pool_size=(2, 2),padding='same'))\n",
        "# cnn.add(Conv2D(128, (3, 3), activation='linear',padding='same'))\n",
        "# cnn.add(LeakyReLU(alpha=0.1))                  \n",
        "# cnn.add(MaxPooling2D(pool_size=(2, 2),padding='same'))\n",
        "# cnn.add(Flatten())\n",
        "# cnn.add(Dense(128, activation='linear'))\n",
        "# cnn.add(LeakyReLU(alpha=0.1))                  \n",
        "# cnn.add(Dense(num_classes, activation='softmax'))\n",
        "\n",
        "\n",
        "classifier = Sequential()\n",
        "classifier.add(Conv2D(32, (3, 3), input_shape = (64, 64, 3), activation = 'relu'))\n",
        "classifier.add(MaxPooling2D(pool_size = (2, 2)))\n",
        "classifier.add(Dropout(0.25))\n",
        "\n",
        "classifier.add(Conv2D(64, (3, 3), activation='linear',padding='same'))\n",
        "classifier.add(MaxPooling2D((2, 2),padding='same'))\n",
        "classifier.add(Dropout(0.25))\n",
        "\n",
        "classifier.add(Conv2D(128, (3, 3), activation='linear',padding='same'))\n",
        "classifier.add(Dropout(0.4))\n",
        "\n",
        "# classifier.add(LeakyReLU(alpha=0.1))  \n",
        "classifier.add(Flatten())\n",
        "# classifier.add(Dense(2, activation='softmax'))\n",
        "# classifier.add(Dense(units = 128, activation = 'relu'))\n",
        "# classifier.add(Dense(units = 1, activation = 'sigmoid'))\n",
        "# classifier.add(keras.layers.Dense(1, activation=tf.nn.softmax))\n",
        "# classifier.add(keras.layers.Activation('sigmoid'))\n",
        "classifier.add(Dropout(0.3))\n",
        "\n",
        "classifier.add(keras.layers.Activation('sigmoid'))\n",
        "classifier.compile(optimizer = 'adam', loss = 'binary_crossentropy', metrics = ['accuracy'])"
      ],
      "execution_count": null,
      "outputs": []
    },
    {
      "cell_type": "code",
      "metadata": {
        "id": "vz79Lm_esmUE"
      },
      "source": [
        "# cnn.compile(loss=keras.losses.categorical_crossentropy, optimizer=keras.optimizers.Adam(),metrics=['accuracy'])\n",
        "classifier.compile(loss=keras.losses.categorical_crossentropy, optimizer=keras.optimizers.Adam(),metrics=['accuracy'])"
      ],
      "execution_count": null,
      "outputs": []
    },
    {
      "cell_type": "code",
      "metadata": {
        "colab": {
          "base_uri": "https://localhost:8080/"
        },
        "id": "ZBMfKV2wsoEu",
        "outputId": "2f917d78-5c7b-4de2-b9cf-057ad9a370b3"
      },
      "source": [
        "# cnn.summary()\n",
        "classifier.summary()"
      ],
      "execution_count": null,
      "outputs": [
        {
          "output_type": "stream",
          "text": [
            "Model: \"sequential\"\n",
            "_________________________________________________________________\n",
            "Layer (type)                 Output Shape              Param #   \n",
            "=================================================================\n",
            "conv2d (Conv2D)              (None, 62, 62, 32)        896       \n",
            "_________________________________________________________________\n",
            "max_pooling2d (MaxPooling2D) (None, 31, 31, 32)        0         \n",
            "_________________________________________________________________\n",
            "dropout (Dropout)            (None, 31, 31, 32)        0         \n",
            "_________________________________________________________________\n",
            "conv2d_1 (Conv2D)            (None, 31, 31, 64)        18496     \n",
            "_________________________________________________________________\n",
            "max_pooling2d_1 (MaxPooling2 (None, 16, 16, 64)        0         \n",
            "_________________________________________________________________\n",
            "dropout_1 (Dropout)          (None, 16, 16, 64)        0         \n",
            "_________________________________________________________________\n",
            "conv2d_2 (Conv2D)            (None, 16, 16, 128)       73856     \n",
            "_________________________________________________________________\n",
            "dropout_2 (Dropout)          (None, 16, 16, 128)       0         \n",
            "_________________________________________________________________\n",
            "flatten (Flatten)            (None, 32768)             0         \n",
            "_________________________________________________________________\n",
            "dropout_3 (Dropout)          (None, 32768)             0         \n",
            "_________________________________________________________________\n",
            "activation (Activation)      (None, 32768)             0         \n",
            "=================================================================\n",
            "Total params: 93,248\n",
            "Trainable params: 93,248\n",
            "Non-trainable params: 0\n",
            "_________________________________________________________________\n"
          ],
          "name": "stdout"
        }
      ]
    },
    {
      "cell_type": "code",
      "metadata": {
        "id": "i7qoXWXsyuft"
      },
      "source": [
        "train_images_dlib_CNN = train_images_dlib_CNN.astype('float32')\n",
        "val_images_dlib_CNN = val_images_dlib_CNN.astype('float32')\n",
        "train_images_dlib_CNN  = train_images_dlib_CNN  / 255.\n",
        "val_images_dlib_CNN = val_images_dlib_CNN / 255."
      ],
      "execution_count": null,
      "outputs": []
    },
    {
      "cell_type": "code",
      "metadata": {
        "id": "HUheovylyXSc"
      },
      "source": [
        "test_images_dlib_CNN = test_images_dlib_CNN.astype('float32')\n",
        "test_images_dlib_CNN  = test_images_dlib_CNN  / 255"
      ],
      "execution_count": null,
      "outputs": []
    },
    {
      "cell_type": "code",
      "metadata": {
        "id": "FZvQlPnfTNZB"
      },
      "source": [
        "train_images_dlib_CNN_noise = train_images_dlib_CNN_noise.astype('float32')\n",
        "train_images_dlib_CNN_noise  = train_images_dlib_CNN_noise / 255"
      ],
      "execution_count": null,
      "outputs": []
    },
    {
      "cell_type": "code",
      "metadata": {
        "id": "UVlvr-Xns0bu",
        "colab": {
          "base_uri": "https://localhost:8080/",
          "height": 800
        },
        "outputId": "efd322de-2845-4c87-bdc8-88f4f9c9270f"
      },
      "source": [
        "# train_cnn = classifier.fit(train_images_dlib_CNN, train_images_dlib_label_CNN, batch_size=batch_size,epochs=epochs,verbose=1,validation_data=(val_images_dlib_CNN, val_images_dlib_label_CNN))\n",
        "# train_cnn = classifier.fit(train_images_dlib_CNN, train_images_dlib_label_CNN, batch_size=batch_size,epochs=epochs,verbose=1,validation_data=(val_images_dlib_CNN, val_images_dlib_label_CNN),validation_steps = 2000)"
      ],
      "execution_count": null,
      "outputs": [
        {
          "output_type": "stream",
          "text": [
            "Epoch 1/20\n"
          ],
          "name": "stdout"
        },
        {
          "output_type": "error",
          "ename": "ValueError",
          "evalue": "ignored",
          "traceback": [
            "\u001b[0;31m---------------------------------------------------------------------------\u001b[0m",
            "\u001b[0;31mValueError\u001b[0m                                Traceback (most recent call last)",
            "\u001b[0;32m<ipython-input-119-a8fccaa9622c>\u001b[0m in \u001b[0;36m<module>\u001b[0;34m()\u001b[0m\n\u001b[0;32m----> 1\u001b[0;31m \u001b[0mtrain_cnn\u001b[0m \u001b[0;34m=\u001b[0m \u001b[0mclassifier\u001b[0m\u001b[0;34m.\u001b[0m\u001b[0mfit\u001b[0m\u001b[0;34m(\u001b[0m\u001b[0mtrain_images_dlib_CNN\u001b[0m\u001b[0;34m,\u001b[0m \u001b[0mtrain_images_dlib_label_CNN\u001b[0m\u001b[0;34m,\u001b[0m \u001b[0mbatch_size\u001b[0m\u001b[0;34m=\u001b[0m\u001b[0mbatch_size\u001b[0m\u001b[0;34m,\u001b[0m\u001b[0mepochs\u001b[0m\u001b[0;34m=\u001b[0m\u001b[0mepochs\u001b[0m\u001b[0;34m,\u001b[0m\u001b[0mverbose\u001b[0m\u001b[0;34m=\u001b[0m\u001b[0;36m1\u001b[0m\u001b[0;34m,\u001b[0m\u001b[0mvalidation_data\u001b[0m\u001b[0;34m=\u001b[0m\u001b[0;34m(\u001b[0m\u001b[0mval_images_dlib_CNN\u001b[0m\u001b[0;34m,\u001b[0m \u001b[0mval_images_dlib_label_CNN\u001b[0m\u001b[0;34m)\u001b[0m\u001b[0;34m)\u001b[0m\u001b[0;34m\u001b[0m\u001b[0;34m\u001b[0m\u001b[0m\n\u001b[0m\u001b[1;32m      2\u001b[0m \u001b[0;31m# train_cnn = classifier.fit(train_images_dlib_CNN, train_images_dlib_label_CNN, batch_size=batch_size,epochs=epochs,verbose=1,validation_data=(val_images_dlib_CNN, val_images_dlib_label_CNN),validation_steps = 2000)\u001b[0m\u001b[0;34m\u001b[0m\u001b[0;34m\u001b[0m\u001b[0;34m\u001b[0m\u001b[0m\n",
            "\u001b[0;32m/usr/local/lib/python3.7/dist-packages/keras/engine/training.py\u001b[0m in \u001b[0;36mfit\u001b[0;34m(self, x, y, batch_size, epochs, verbose, callbacks, validation_split, validation_data, shuffle, class_weight, sample_weight, initial_epoch, steps_per_epoch, validation_steps, validation_batch_size, validation_freq, max_queue_size, workers, use_multiprocessing)\u001b[0m\n\u001b[1;32m   1156\u001b[0m                 _r=1):\n\u001b[1;32m   1157\u001b[0m               \u001b[0mcallbacks\u001b[0m\u001b[0;34m.\u001b[0m\u001b[0mon_train_batch_begin\u001b[0m\u001b[0;34m(\u001b[0m\u001b[0mstep\u001b[0m\u001b[0;34m)\u001b[0m\u001b[0;34m\u001b[0m\u001b[0;34m\u001b[0m\u001b[0m\n\u001b[0;32m-> 1158\u001b[0;31m               \u001b[0mtmp_logs\u001b[0m \u001b[0;34m=\u001b[0m \u001b[0mself\u001b[0m\u001b[0;34m.\u001b[0m\u001b[0mtrain_function\u001b[0m\u001b[0;34m(\u001b[0m\u001b[0miterator\u001b[0m\u001b[0;34m)\u001b[0m\u001b[0;34m\u001b[0m\u001b[0;34m\u001b[0m\u001b[0m\n\u001b[0m\u001b[1;32m   1159\u001b[0m               \u001b[0;32mif\u001b[0m \u001b[0mdata_handler\u001b[0m\u001b[0;34m.\u001b[0m\u001b[0mshould_sync\u001b[0m\u001b[0;34m:\u001b[0m\u001b[0;34m\u001b[0m\u001b[0;34m\u001b[0m\u001b[0m\n\u001b[1;32m   1160\u001b[0m                 \u001b[0mcontext\u001b[0m\u001b[0;34m.\u001b[0m\u001b[0masync_wait\u001b[0m\u001b[0;34m(\u001b[0m\u001b[0;34m)\u001b[0m\u001b[0;34m\u001b[0m\u001b[0;34m\u001b[0m\u001b[0m\n",
            "\u001b[0;32m/usr/local/lib/python3.7/dist-packages/tensorflow/python/eager/def_function.py\u001b[0m in \u001b[0;36m__call__\u001b[0;34m(self, *args, **kwds)\u001b[0m\n\u001b[1;32m    887\u001b[0m \u001b[0;34m\u001b[0m\u001b[0m\n\u001b[1;32m    888\u001b[0m       \u001b[0;32mwith\u001b[0m \u001b[0mOptionalXlaContext\u001b[0m\u001b[0;34m(\u001b[0m\u001b[0mself\u001b[0m\u001b[0;34m.\u001b[0m\u001b[0m_jit_compile\u001b[0m\u001b[0;34m)\u001b[0m\u001b[0;34m:\u001b[0m\u001b[0;34m\u001b[0m\u001b[0;34m\u001b[0m\u001b[0m\n\u001b[0;32m--> 889\u001b[0;31m         \u001b[0mresult\u001b[0m \u001b[0;34m=\u001b[0m \u001b[0mself\u001b[0m\u001b[0;34m.\u001b[0m\u001b[0m_call\u001b[0m\u001b[0;34m(\u001b[0m\u001b[0;34m*\u001b[0m\u001b[0margs\u001b[0m\u001b[0;34m,\u001b[0m \u001b[0;34m**\u001b[0m\u001b[0mkwds\u001b[0m\u001b[0;34m)\u001b[0m\u001b[0;34m\u001b[0m\u001b[0;34m\u001b[0m\u001b[0m\n\u001b[0m\u001b[1;32m    890\u001b[0m \u001b[0;34m\u001b[0m\u001b[0m\n\u001b[1;32m    891\u001b[0m       \u001b[0mnew_tracing_count\u001b[0m \u001b[0;34m=\u001b[0m \u001b[0mself\u001b[0m\u001b[0;34m.\u001b[0m\u001b[0mexperimental_get_tracing_count\u001b[0m\u001b[0;34m(\u001b[0m\u001b[0;34m)\u001b[0m\u001b[0;34m\u001b[0m\u001b[0;34m\u001b[0m\u001b[0m\n",
            "\u001b[0;32m/usr/local/lib/python3.7/dist-packages/tensorflow/python/eager/def_function.py\u001b[0m in \u001b[0;36m_call\u001b[0;34m(self, *args, **kwds)\u001b[0m\n\u001b[1;32m    922\u001b[0m       \u001b[0;31m# In this case we have not created variables on the first call. So we can\u001b[0m\u001b[0;34m\u001b[0m\u001b[0;34m\u001b[0m\u001b[0;34m\u001b[0m\u001b[0m\n\u001b[1;32m    923\u001b[0m       \u001b[0;31m# run the first trace but we should fail if variables are created.\u001b[0m\u001b[0;34m\u001b[0m\u001b[0;34m\u001b[0m\u001b[0;34m\u001b[0m\u001b[0m\n\u001b[0;32m--> 924\u001b[0;31m       \u001b[0mresults\u001b[0m \u001b[0;34m=\u001b[0m \u001b[0mself\u001b[0m\u001b[0;34m.\u001b[0m\u001b[0m_stateful_fn\u001b[0m\u001b[0;34m(\u001b[0m\u001b[0;34m*\u001b[0m\u001b[0margs\u001b[0m\u001b[0;34m,\u001b[0m \u001b[0;34m**\u001b[0m\u001b[0mkwds\u001b[0m\u001b[0;34m)\u001b[0m\u001b[0;34m\u001b[0m\u001b[0;34m\u001b[0m\u001b[0m\n\u001b[0m\u001b[1;32m    925\u001b[0m       \u001b[0;32mif\u001b[0m \u001b[0mself\u001b[0m\u001b[0;34m.\u001b[0m\u001b[0m_created_variables\u001b[0m\u001b[0;34m:\u001b[0m\u001b[0;34m\u001b[0m\u001b[0;34m\u001b[0m\u001b[0m\n\u001b[1;32m    926\u001b[0m         raise ValueError(\"Creating variables on a non-first call to a function\"\n",
            "\u001b[0;32m/usr/local/lib/python3.7/dist-packages/tensorflow/python/eager/function.py\u001b[0m in \u001b[0;36m__call__\u001b[0;34m(self, *args, **kwargs)\u001b[0m\n\u001b[1;32m   3020\u001b[0m     \u001b[0;32mwith\u001b[0m \u001b[0mself\u001b[0m\u001b[0;34m.\u001b[0m\u001b[0m_lock\u001b[0m\u001b[0;34m:\u001b[0m\u001b[0;34m\u001b[0m\u001b[0;34m\u001b[0m\u001b[0m\n\u001b[1;32m   3021\u001b[0m       (graph_function,\n\u001b[0;32m-> 3022\u001b[0;31m        filtered_flat_args) = self._maybe_define_function(args, kwargs)\n\u001b[0m\u001b[1;32m   3023\u001b[0m     return graph_function._call_flat(\n\u001b[1;32m   3024\u001b[0m         filtered_flat_args, captured_inputs=graph_function.captured_inputs)  # pylint: disable=protected-access\n",
            "\u001b[0;32m/usr/local/lib/python3.7/dist-packages/tensorflow/python/eager/function.py\u001b[0m in \u001b[0;36m_maybe_define_function\u001b[0;34m(self, args, kwargs)\u001b[0m\n\u001b[1;32m   3439\u001b[0m               call_context_key in self._function_cache.missed):\n\u001b[1;32m   3440\u001b[0m             return self._define_function_with_shape_relaxation(\n\u001b[0;32m-> 3441\u001b[0;31m                 args, kwargs, flat_args, filtered_flat_args, cache_key_context)\n\u001b[0m\u001b[1;32m   3442\u001b[0m \u001b[0;34m\u001b[0m\u001b[0m\n\u001b[1;32m   3443\u001b[0m           \u001b[0mself\u001b[0m\u001b[0;34m.\u001b[0m\u001b[0m_function_cache\u001b[0m\u001b[0;34m.\u001b[0m\u001b[0mmissed\u001b[0m\u001b[0;34m.\u001b[0m\u001b[0madd\u001b[0m\u001b[0;34m(\u001b[0m\u001b[0mcall_context_key\u001b[0m\u001b[0;34m)\u001b[0m\u001b[0;34m\u001b[0m\u001b[0;34m\u001b[0m\u001b[0m\n",
            "\u001b[0;32m/usr/local/lib/python3.7/dist-packages/tensorflow/python/eager/function.py\u001b[0m in \u001b[0;36m_define_function_with_shape_relaxation\u001b[0;34m(self, args, kwargs, flat_args, filtered_flat_args, cache_key_context)\u001b[0m\n\u001b[1;32m   3361\u001b[0m \u001b[0;34m\u001b[0m\u001b[0m\n\u001b[1;32m   3362\u001b[0m     graph_function = self._create_graph_function(\n\u001b[0;32m-> 3363\u001b[0;31m         args, kwargs, override_flat_arg_shapes=relaxed_arg_shapes)\n\u001b[0m\u001b[1;32m   3364\u001b[0m     \u001b[0mself\u001b[0m\u001b[0;34m.\u001b[0m\u001b[0m_function_cache\u001b[0m\u001b[0;34m.\u001b[0m\u001b[0marg_relaxed\u001b[0m\u001b[0;34m[\u001b[0m\u001b[0mrank_only_cache_key\u001b[0m\u001b[0;34m]\u001b[0m \u001b[0;34m=\u001b[0m \u001b[0mgraph_function\u001b[0m\u001b[0;34m\u001b[0m\u001b[0;34m\u001b[0m\u001b[0m\n\u001b[1;32m   3365\u001b[0m \u001b[0;34m\u001b[0m\u001b[0m\n",
            "\u001b[0;32m/usr/local/lib/python3.7/dist-packages/tensorflow/python/eager/function.py\u001b[0m in \u001b[0;36m_create_graph_function\u001b[0;34m(self, args, kwargs, override_flat_arg_shapes)\u001b[0m\n\u001b[1;32m   3287\u001b[0m             \u001b[0marg_names\u001b[0m\u001b[0;34m=\u001b[0m\u001b[0marg_names\u001b[0m\u001b[0;34m,\u001b[0m\u001b[0;34m\u001b[0m\u001b[0;34m\u001b[0m\u001b[0m\n\u001b[1;32m   3288\u001b[0m             \u001b[0moverride_flat_arg_shapes\u001b[0m\u001b[0;34m=\u001b[0m\u001b[0moverride_flat_arg_shapes\u001b[0m\u001b[0;34m,\u001b[0m\u001b[0;34m\u001b[0m\u001b[0;34m\u001b[0m\u001b[0m\n\u001b[0;32m-> 3289\u001b[0;31m             capture_by_value=self._capture_by_value),\n\u001b[0m\u001b[1;32m   3290\u001b[0m         \u001b[0mself\u001b[0m\u001b[0;34m.\u001b[0m\u001b[0m_function_attributes\u001b[0m\u001b[0;34m,\u001b[0m\u001b[0;34m\u001b[0m\u001b[0;34m\u001b[0m\u001b[0m\n\u001b[1;32m   3291\u001b[0m         \u001b[0mfunction_spec\u001b[0m\u001b[0;34m=\u001b[0m\u001b[0mself\u001b[0m\u001b[0;34m.\u001b[0m\u001b[0mfunction_spec\u001b[0m\u001b[0;34m,\u001b[0m\u001b[0;34m\u001b[0m\u001b[0;34m\u001b[0m\u001b[0m\n",
            "\u001b[0;32m/usr/local/lib/python3.7/dist-packages/tensorflow/python/framework/func_graph.py\u001b[0m in \u001b[0;36mfunc_graph_from_py_func\u001b[0;34m(name, python_func, args, kwargs, signature, func_graph, autograph, autograph_options, add_control_dependencies, arg_names, op_return_value, collections, capture_by_value, override_flat_arg_shapes)\u001b[0m\n\u001b[1;32m    997\u001b[0m         \u001b[0m_\u001b[0m\u001b[0;34m,\u001b[0m \u001b[0moriginal_func\u001b[0m \u001b[0;34m=\u001b[0m \u001b[0mtf_decorator\u001b[0m\u001b[0;34m.\u001b[0m\u001b[0munwrap\u001b[0m\u001b[0;34m(\u001b[0m\u001b[0mpython_func\u001b[0m\u001b[0;34m)\u001b[0m\u001b[0;34m\u001b[0m\u001b[0;34m\u001b[0m\u001b[0m\n\u001b[1;32m    998\u001b[0m \u001b[0;34m\u001b[0m\u001b[0m\n\u001b[0;32m--> 999\u001b[0;31m       \u001b[0mfunc_outputs\u001b[0m \u001b[0;34m=\u001b[0m \u001b[0mpython_func\u001b[0m\u001b[0;34m(\u001b[0m\u001b[0;34m*\u001b[0m\u001b[0mfunc_args\u001b[0m\u001b[0;34m,\u001b[0m \u001b[0;34m**\u001b[0m\u001b[0mfunc_kwargs\u001b[0m\u001b[0;34m)\u001b[0m\u001b[0;34m\u001b[0m\u001b[0;34m\u001b[0m\u001b[0m\n\u001b[0m\u001b[1;32m   1000\u001b[0m \u001b[0;34m\u001b[0m\u001b[0m\n\u001b[1;32m   1001\u001b[0m       \u001b[0;31m# invariant: `func_outputs` contains only Tensors, CompositeTensors,\u001b[0m\u001b[0;34m\u001b[0m\u001b[0;34m\u001b[0m\u001b[0;34m\u001b[0m\u001b[0m\n",
            "\u001b[0;32m/usr/local/lib/python3.7/dist-packages/tensorflow/python/eager/def_function.py\u001b[0m in \u001b[0;36mwrapped_fn\u001b[0;34m(*args, **kwds)\u001b[0m\n\u001b[1;32m    670\u001b[0m         \u001b[0;31m# the function a weak reference to itself to avoid a reference cycle.\u001b[0m\u001b[0;34m\u001b[0m\u001b[0;34m\u001b[0m\u001b[0;34m\u001b[0m\u001b[0m\n\u001b[1;32m    671\u001b[0m         \u001b[0;32mwith\u001b[0m \u001b[0mOptionalXlaContext\u001b[0m\u001b[0;34m(\u001b[0m\u001b[0mcompile_with_xla\u001b[0m\u001b[0;34m)\u001b[0m\u001b[0;34m:\u001b[0m\u001b[0;34m\u001b[0m\u001b[0;34m\u001b[0m\u001b[0m\n\u001b[0;32m--> 672\u001b[0;31m           \u001b[0mout\u001b[0m \u001b[0;34m=\u001b[0m \u001b[0mweak_wrapped_fn\u001b[0m\u001b[0;34m(\u001b[0m\u001b[0;34m)\u001b[0m\u001b[0;34m.\u001b[0m\u001b[0m__wrapped__\u001b[0m\u001b[0;34m(\u001b[0m\u001b[0;34m*\u001b[0m\u001b[0margs\u001b[0m\u001b[0;34m,\u001b[0m \u001b[0;34m**\u001b[0m\u001b[0mkwds\u001b[0m\u001b[0;34m)\u001b[0m\u001b[0;34m\u001b[0m\u001b[0;34m\u001b[0m\u001b[0m\n\u001b[0m\u001b[1;32m    673\u001b[0m         \u001b[0;32mreturn\u001b[0m \u001b[0mout\u001b[0m\u001b[0;34m\u001b[0m\u001b[0;34m\u001b[0m\u001b[0m\n\u001b[1;32m    674\u001b[0m \u001b[0;34m\u001b[0m\u001b[0m\n",
            "\u001b[0;32m/usr/local/lib/python3.7/dist-packages/tensorflow/python/framework/func_graph.py\u001b[0m in \u001b[0;36mwrapper\u001b[0;34m(*args, **kwargs)\u001b[0m\n\u001b[1;32m    984\u001b[0m           \u001b[0;32mexcept\u001b[0m \u001b[0mException\u001b[0m \u001b[0;32mas\u001b[0m \u001b[0me\u001b[0m\u001b[0;34m:\u001b[0m  \u001b[0;31m# pylint:disable=broad-except\u001b[0m\u001b[0;34m\u001b[0m\u001b[0;34m\u001b[0m\u001b[0m\n\u001b[1;32m    985\u001b[0m             \u001b[0;32mif\u001b[0m \u001b[0mhasattr\u001b[0m\u001b[0;34m(\u001b[0m\u001b[0me\u001b[0m\u001b[0;34m,\u001b[0m \u001b[0;34m\"ag_error_metadata\"\u001b[0m\u001b[0;34m)\u001b[0m\u001b[0;34m:\u001b[0m\u001b[0;34m\u001b[0m\u001b[0;34m\u001b[0m\u001b[0m\n\u001b[0;32m--> 986\u001b[0;31m               \u001b[0;32mraise\u001b[0m \u001b[0me\u001b[0m\u001b[0;34m.\u001b[0m\u001b[0mag_error_metadata\u001b[0m\u001b[0;34m.\u001b[0m\u001b[0mto_exception\u001b[0m\u001b[0;34m(\u001b[0m\u001b[0me\u001b[0m\u001b[0;34m)\u001b[0m\u001b[0;34m\u001b[0m\u001b[0;34m\u001b[0m\u001b[0m\n\u001b[0m\u001b[1;32m    987\u001b[0m             \u001b[0;32melse\u001b[0m\u001b[0;34m:\u001b[0m\u001b[0;34m\u001b[0m\u001b[0;34m\u001b[0m\u001b[0m\n\u001b[1;32m    988\u001b[0m               \u001b[0;32mraise\u001b[0m\u001b[0;34m\u001b[0m\u001b[0;34m\u001b[0m\u001b[0m\n",
            "\u001b[0;31mValueError\u001b[0m: in user code:\n\n    /usr/local/lib/python3.7/dist-packages/keras/engine/training.py:830 train_function  *\n        return step_function(self, iterator)\n    /usr/local/lib/python3.7/dist-packages/keras/engine/training.py:813 run_step  *\n        outputs = model.train_step(data)\n    /usr/local/lib/python3.7/dist-packages/keras/engine/training.py:771 train_step  *\n        loss = self.compiled_loss(\n    /usr/local/lib/python3.7/dist-packages/keras/engine/compile_utils.py:201 __call__  *\n        loss_value = loss_obj(y_t, y_p, sample_weight=sw)\n    /usr/local/lib/python3.7/dist-packages/keras/losses.py:142 __call__  *\n        losses = call_fn(y_true, y_pred)\n    /usr/local/lib/python3.7/dist-packages/keras/losses.py:246 call  *\n        return ag_fn(y_true, y_pred, **self._fn_kwargs)\n    /usr/local/lib/python3.7/dist-packages/tensorflow/python/util/dispatch.py:206 wrapper  **\n        return target(*args, **kwargs)\n    /usr/local/lib/python3.7/dist-packages/keras/losses.py:1631 categorical_crossentropy\n        y_true, y_pred, from_logits=from_logits)\n    /usr/local/lib/python3.7/dist-packages/tensorflow/python/util/dispatch.py:206 wrapper\n        return target(*args, **kwargs)\n    /usr/local/lib/python3.7/dist-packages/keras/backend.py:4827 categorical_crossentropy\n        target.shape.assert_is_compatible_with(output.shape)\n    /usr/local/lib/python3.7/dist-packages/tensorflow/python/framework/tensor_shape.py:1161 assert_is_compatible_with\n        raise ValueError(\"Shapes %s and %s are incompatible\" % (self, other))\n\n    ValueError: Shapes (None, 1) and (None, 32768) are incompatible\n"
          ]
        }
      ]
    },
    {
      "cell_type": "code",
      "metadata": {
        "id": "243zYLr4vTCE"
      },
      "source": [
        "predicted_test_CNN= classifier.predict(test_images_dlib_CNN)"
      ],
      "execution_count": null,
      "outputs": []
    },
    {
      "cell_type": "code",
      "metadata": {
        "id": "_wA8kIXuzm8t"
      },
      "source": [
        "pred_CNN_dlib = predictDeepFakeResult(predicted_test_CNN,frame_count_test_fake+frame_count_test_real)"
      ],
      "execution_count": null,
      "outputs": []
    },
    {
      "cell_type": "code",
      "metadata": {
        "id": "LeZcFYccKOh4"
      },
      "source": [
        "print(pred_CNN_dlib)"
      ],
      "execution_count": null,
      "outputs": []
    },
    {
      "cell_type": "code",
      "metadata": {
        "id": "4pdCwkcFz_6p"
      },
      "source": [
        "from sklearn.metrics import accuracy_score\n",
        "accuracy_score(actual_test_label, pred_CNN_dlib)"
      ],
      "execution_count": null,
      "outputs": []
    },
    {
      "cell_type": "code",
      "metadata": {
        "id": "IrZrBWkP0SGl"
      },
      "source": [
        "from sklearn.metrics import f1_score\n",
        "f1_score(actual_test_label, pred_CNN_dlib)"
      ],
      "execution_count": null,
      "outputs": []
    },
    {
      "cell_type": "code",
      "metadata": {
        "id": "schQ2QIu0ZhH"
      },
      "source": [
        "from sklearn.metrics import log_loss\n",
        "log_loss(actual_test_label, pred_CNN_dlib)"
      ],
      "execution_count": null,
      "outputs": []
    },
    {
      "cell_type": "markdown",
      "metadata": {
        "id": "YJfOERqq84Ok"
      },
      "source": [
        "##MobileNetV2"
      ]
    },
    {
      "cell_type": "code",
      "metadata": {
        "id": "zvayhAf889Me"
      },
      "source": [
        "from tensorflow.keras.preprocessing.image import ImageDataGenerator\n",
        "from tensorflow.keras.applications import MobileNetV2\n",
        "from tensorflow.keras.layers import AveragePooling2D\n",
        "from tensorflow.keras.layers import Dropout\n",
        "from tensorflow.keras.layers import Flatten\n",
        "from tensorflow.keras.layers import Dense\n",
        "from tensorflow.keras.layers import Input\n",
        "from tensorflow.keras.models import Model\n",
        "from tensorflow.keras.optimizers import Adam\n",
        "from tensorflow.keras.applications.mobilenet_v2 import preprocess_input\n",
        "from tensorflow.keras.preprocessing.image import img_to_array\n",
        "from tensorflow.keras.preprocessing.image import load_img\n",
        "from tensorflow.keras.utils import to_categorical\n",
        "from sklearn.preprocessing import LabelBinarizer\n",
        "from sklearn.model_selection import train_test_split\n",
        "from sklearn.metrics import classification_report\n",
        "from imutils import paths\n",
        "import matplotlib.pyplot as plt\n",
        "import numpy as np\n",
        "import argparse\n",
        "import os"
      ],
      "execution_count": null,
      "outputs": []
    },
    {
      "cell_type": "code",
      "metadata": {
        "id": "pJa2De0h9HLd"
      },
      "source": [
        "INIT_LR = 1e-4\n",
        "EPOCHS = 20\n",
        "BS = 32"
      ],
      "execution_count": null,
      "outputs": []
    },
    {
      "cell_type": "code",
      "metadata": {
        "id": "_mRNM3OF9IjJ"
      },
      "source": [
        "def binarizeLabels(label_cnn):\n",
        "  lb = LabelBinarizer()\n",
        "  label_cnn = lb.fit_transform(label_cnn)\n",
        "  label_cnn = to_categorical(label_cnn)\n",
        "  return label_cnn\n",
        "\n",
        "train_images_dlib_label_CNN_B = binarizeLabels(train_images_dlib_label_CNN)\n",
        "val_images_dlib_label_CNN_B = binarizeLabels(val_images_dlib_label_CNN)\n",
        "test_images_dlib_label_CNN_B = binarizeLabels(test_images_dlib_label_CNN)"
      ],
      "execution_count": null,
      "outputs": []
    },
    {
      "cell_type": "code",
      "metadata": {
        "id": "SkV7rQ7f-1d7"
      },
      "source": [
        "aug = ImageDataGenerator(\n",
        "\trotation_range=20,\n",
        "\tzoom_range=0.15,\n",
        "\twidth_shift_range=0.2,\n",
        "\theight_shift_range=0.2,\n",
        "\tshear_range=0.15,\n",
        "\thorizontal_flip=True,\n",
        "\tfill_mode=\"nearest\")"
      ],
      "execution_count": null,
      "outputs": []
    },
    {
      "cell_type": "code",
      "metadata": {
        "colab": {
          "base_uri": "https://localhost:8080/"
        },
        "id": "-anODhXg-161",
        "outputId": "d2c56d38-ea9f-43e9-9d8e-e88542b8a370"
      },
      "source": [
        "baseModel = MobileNetV2(weights=\"imagenet\", include_top=False,\n",
        "\tinput_tensor=Input(shape=(64, 64,3)))"
      ],
      "execution_count": null,
      "outputs": [
        {
          "output_type": "stream",
          "text": [
            "WARNING:tensorflow:`input_shape` is undefined or non-square, or `rows` is not in [96, 128, 160, 192, 224]. Weights for input shape (224, 224) will be loaded as the default.\n"
          ],
          "name": "stdout"
        }
      ]
    },
    {
      "cell_type": "code",
      "metadata": {
        "id": "sSbHhUZj_EeY"
      },
      "source": [
        "first_cnn_model = baseModel.output\n",
        "first_cnn_model = AveragePooling2D(pool_size=(2, 2))(first_cnn_model)\n",
        "first_cnn_model = Flatten(name=\"flatten\")(first_cnn_model)\n",
        "first_cnn_model = Dense(128, activation=\"relu\")(first_cnn_model)\n",
        "first_cnn_model = Dropout(0.5)(first_cnn_model)\n",
        "first_cnn_model = Dense(2, activation=\"softmax\")(first_cnn_model)"
      ],
      "execution_count": null,
      "outputs": []
    },
    {
      "cell_type": "code",
      "metadata": {
        "id": "h2JwZ-Am_GYU"
      },
      "source": [
        "model = Model(inputs=baseModel.input, outputs=first_cnn_model)"
      ],
      "execution_count": null,
      "outputs": []
    },
    {
      "cell_type": "code",
      "metadata": {
        "id": "5VsOg3Uc_H81"
      },
      "source": [
        "for layer in baseModel.layers:\n",
        "\tlayer.trainable = False"
      ],
      "execution_count": null,
      "outputs": []
    },
    {
      "cell_type": "code",
      "metadata": {
        "colab": {
          "base_uri": "https://localhost:8080/"
        },
        "id": "05tdMsSN_Hel",
        "outputId": "b08891a7-2e42-4076-fc22-b8a227728b4b"
      },
      "source": [
        "opt = Adam(lr=INIT_LR, decay=INIT_LR / EPOCHS)\n",
        "model.compile(loss=\"binary_crossentropy\", optimizer=opt,\n",
        "\tmetrics=[\"accuracy\"])"
      ],
      "execution_count": null,
      "outputs": [
        {
          "output_type": "stream",
          "text": [
            "/usr/local/lib/python3.7/dist-packages/tensorflow/python/keras/optimizer_v2/optimizer_v2.py:375: UserWarning: The `lr` argument is deprecated, use `learning_rate` instead.\n",
            "  \"The `lr` argument is deprecated, use `learning_rate` instead.\")\n"
          ],
          "name": "stderr"
        }
      ]
    },
    {
      "cell_type": "code",
      "metadata": {
        "colab": {
          "base_uri": "https://localhost:8080/"
        },
        "id": "D5HRn1Av_HZQ",
        "outputId": "dde9e2a4-bccd-4e2c-a464-79be49335aa5"
      },
      "source": [
        "CNN = model.fit(\n",
        "\taug.flow(train_images_dlib_CNN, train_images_dlib_label_CNN_B, batch_size=BS),\n",
        "\tsteps_per_epoch=len(train_images_dlib_CNN) // BS,\n",
        "\tvalidation_data=(val_images_dlib_CNN, val_images_dlib_label_CNN_B),\n",
        "\tvalidation_steps=len(val_images_dlib_CNN) // BS,\n",
        "\tepochs=EPOCHS)"
      ],
      "execution_count": null,
      "outputs": [
        {
          "output_type": "stream",
          "text": [
            "Epoch 1/20\n",
            "88/88 [==============================] - 8s 60ms/step - loss: 0.8564 - accuracy: 0.5091 - val_loss: 0.7280 - val_accuracy: 0.5273\n",
            "Epoch 2/20\n",
            "88/88 [==============================] - 4s 51ms/step - loss: 0.7382 - accuracy: 0.5714 - val_loss: 0.6649 - val_accuracy: 0.5832\n",
            "Epoch 3/20\n",
            "88/88 [==============================] - 4s 49ms/step - loss: 0.6858 - accuracy: 0.6044 - val_loss: 0.6616 - val_accuracy: 0.5741\n",
            "Epoch 4/20\n",
            "88/88 [==============================] - 4s 48ms/step - loss: 0.6650 - accuracy: 0.6198 - val_loss: 0.6368 - val_accuracy: 0.6105\n",
            "Epoch 5/20\n",
            "88/88 [==============================] - 4s 49ms/step - loss: 0.6663 - accuracy: 0.6244 - val_loss: 0.6309 - val_accuracy: 0.6266\n",
            "Epoch 6/20\n",
            "88/88 [==============================] - 4s 51ms/step - loss: 0.6428 - accuracy: 0.6334 - val_loss: 0.6278 - val_accuracy: 0.6259\n",
            "Epoch 7/20\n",
            "88/88 [==============================] - 4s 48ms/step - loss: 0.6385 - accuracy: 0.6409 - val_loss: 0.6292 - val_accuracy: 0.6147\n",
            "Epoch 8/20\n",
            "88/88 [==============================] - 4s 48ms/step - loss: 0.6225 - accuracy: 0.6577 - val_loss: 0.6233 - val_accuracy: 0.6266\n",
            "Epoch 9/20\n",
            "88/88 [==============================] - 4s 51ms/step - loss: 0.6196 - accuracy: 0.6534 - val_loss: 0.6263 - val_accuracy: 0.6301\n",
            "Epoch 10/20\n",
            "88/88 [==============================] - 5s 52ms/step - loss: 0.6235 - accuracy: 0.6448 - val_loss: 0.6280 - val_accuracy: 0.6210\n",
            "Epoch 11/20\n",
            "88/88 [==============================] - 5s 52ms/step - loss: 0.6065 - accuracy: 0.6738 - val_loss: 0.6197 - val_accuracy: 0.6434\n",
            "Epoch 12/20\n",
            "88/88 [==============================] - 5s 53ms/step - loss: 0.6023 - accuracy: 0.6749 - val_loss: 0.6209 - val_accuracy: 0.6287\n",
            "Epoch 13/20\n",
            "88/88 [==============================] - 5s 52ms/step - loss: 0.6029 - accuracy: 0.6713 - val_loss: 0.6146 - val_accuracy: 0.6559\n",
            "Epoch 14/20\n",
            "88/88 [==============================] - 5s 51ms/step - loss: 0.5892 - accuracy: 0.6889 - val_loss: 0.6163 - val_accuracy: 0.6483\n",
            "Epoch 15/20\n",
            "88/88 [==============================] - 4s 50ms/step - loss: 0.5849 - accuracy: 0.6853 - val_loss: 0.6145 - val_accuracy: 0.6510\n",
            "Epoch 16/20\n",
            "88/88 [==============================] - 4s 49ms/step - loss: 0.5816 - accuracy: 0.6982 - val_loss: 0.6155 - val_accuracy: 0.6566\n",
            "Epoch 17/20\n",
            "88/88 [==============================] - 5s 52ms/step - loss: 0.5758 - accuracy: 0.7010 - val_loss: 0.6085 - val_accuracy: 0.6643\n",
            "Epoch 18/20\n",
            "88/88 [==============================] - 4s 50ms/step - loss: 0.5719 - accuracy: 0.6953 - val_loss: 0.6170 - val_accuracy: 0.6524\n",
            "Epoch 19/20\n",
            "88/88 [==============================] - 4s 51ms/step - loss: 0.5673 - accuracy: 0.6967 - val_loss: 0.6123 - val_accuracy: 0.6783\n",
            "Epoch 20/20\n",
            "88/88 [==============================] - 4s 48ms/step - loss: 0.5608 - accuracy: 0.7071 - val_loss: 0.6213 - val_accuracy: 0.6657\n"
          ],
          "name": "stdout"
        }
      ]
    },
    {
      "cell_type": "code",
      "metadata": {
        "colab": {
          "base_uri": "https://localhost:8080/"
        },
        "id": "tBrX7NCY_HUK",
        "outputId": "625f9658-b793-4462-b1aa-7f365edbe78d"
      },
      "source": [
        "from sklearn.metrics import accuracy_score\n",
        "predIdxs = model.predict(test_images_dlib_CNN, batch_size=BS)\n",
        "predIdxs = np.argmax(predIdxs, axis=1)\n",
        "\n",
        "test_Y = np.argmax(test_images_dlib_label_CNN_B, axis=1)\n",
        "print(accuracy_score(test_Y,predIdxs))"
      ],
      "execution_count": null,
      "outputs": [
        {
          "output_type": "stream",
          "text": [
            "0.6687116564417178\n"
          ],
          "name": "stdout"
        }
      ]
    },
    {
      "cell_type": "code",
      "metadata": {
        "id": "hqTSt-X-DO51"
      },
      "source": [
        "test_Y_ = np.argmax(test_Y, axis=0)"
      ],
      "execution_count": null,
      "outputs": []
    },
    {
      "cell_type": "code",
      "metadata": {
        "colab": {
          "base_uri": "https://localhost:8080/"
        },
        "id": "GDQ5H_pJDQrH",
        "outputId": "939129dc-0bbd-4899-a285-cc87951da94e"
      },
      "source": [
        "print(classification_report(test_Y, predIdxs))"
      ],
      "execution_count": null,
      "outputs": [
        {
          "output_type": "stream",
          "text": [
            "              precision    recall  f1-score   support\n",
            "\n",
            "           0       0.65      0.60      0.62       671\n",
            "           1       0.68      0.73      0.70       796\n",
            "\n",
            "    accuracy                           0.67      1467\n",
            "   macro avg       0.67      0.66      0.66      1467\n",
            "weighted avg       0.67      0.67      0.67      1467\n",
            "\n"
          ],
          "name": "stdout"
        }
      ]
    },
    {
      "cell_type": "code",
      "metadata": {
        "colab": {
          "base_uri": "https://localhost:8080/"
        },
        "id": "-Oesi-ifDlP6",
        "outputId": "e0a823c7-b898-4a8f-95e1-093e75a330eb"
      },
      "source": [
        "from sklearn.metrics import log_loss\n",
        "\n",
        "log_loss(test_Y,predIdxs)"
      ],
      "execution_count": null,
      "outputs": [
        {
          "output_type": "execute_result",
          "data": {
            "text/plain": [
              "11.44244064051487"
            ]
          },
          "metadata": {
            "tags": []
          },
          "execution_count": 209
        }
      ]
    },
    {
      "cell_type": "code",
      "metadata": {
        "colab": {
          "base_uri": "https://localhost:8080/",
          "height": 316
        },
        "id": "-Nt6b76MDUvC",
        "outputId": "4bf1fe90-2061-4775-a0d2-960a3b0fa9e7"
      },
      "source": [
        "N = EPOCHS\n",
        "plt.style.use(\"ggplot\")\n",
        "plt.figure()\n",
        "plt.plot(np.arange(0, N), CNN.history[\"loss\"], label=\"train_loss\")\n",
        "plt.plot(np.arange(0, N), CNN.history[\"val_loss\"], label=\"val_loss\")\n",
        "plt.plot(np.arange(0, N), CNN.history[\"accuracy\"], label=\"train_acc\")\n",
        "plt.plot(np.arange(0, N), CNN.history[\"val_accuracy\"], label=\"val_acc\")\n",
        "plt.title(\"Training Loss and Accuracy\")\n",
        "plt.xlabel(\"Epoch #\")\n",
        "plt.ylabel(\"Loss/Accuracy\")\n",
        "plt.legend(loc=\"lower left\")\n"
      ],
      "execution_count": null,
      "outputs": [
        {
          "output_type": "execute_result",
          "data": {
            "text/plain": [
              "<matplotlib.legend.Legend at 0x7ff3de366410>"
            ]
          },
          "metadata": {
            "tags": []
          },
          "execution_count": 210
        },
        {
          "output_type": "display_data",
          "data": {
            "image/png": "[encoded data removed]",
            "text/plain": [
              "<Figure size 432x288 with 1 Axes>"
            ]
          },
          "metadata": {
            "tags": []
          }
        }
      ]
    },
    {
      "cell_type": "markdown",
      "metadata": {
        "id": "GK8ofE3D6AOc"
      },
      "source": [
        "##InceptionResnetV2"
      ]
    },
    {
      "cell_type": "code",
      "metadata": {
        "id": "qtUOr5TJ76UI"
      },
      "source": [
        "from tensorflow.keras.applications import InceptionResNetV2\n",
        "from tensorflow.keras.layers import Conv2D\n",
        "from tensorflow.keras.layers import MaxPooling2D\n",
        "from tensorflow.keras.layers import Flatten\n",
        "from tensorflow.keras.layers import Dense\n",
        "from tensorflow.keras.layers import Dropout\n",
        "from tensorflow.keras.layers import InputLayer\n",
        "from tensorflow.keras.layers import GlobalAveragePooling2D\n",
        "from tensorflow.keras.models import Sequential\n",
        "from tensorflow.keras.models import Model\n",
        "from tensorflow.keras import optimizers\n",
        "from tensorflow.keras.callbacks import ReduceLROnPlateau, EarlyStopping\n",
        "from tensorflow.keras.utils import to_categorical"
      ],
      "execution_count": null,
      "outputs": []
    },
    {
      "cell_type": "code",
      "metadata": {
        "id": "Oc_v1XLn6LoB"
      },
      "source": [
        "def resizingImages(img_list):\n",
        "  newImgList=[]\n",
        "  for i in img_list:\n",
        "    img = cv2.resize(i,(128, 128), interpolation=cv2.INTER_CUBIC)\n",
        "    newImgList.append(img)\n",
        "  return np.array(newImgList)"
      ],
      "execution_count": null,
      "outputs": []
    },
    {
      "cell_type": "code",
      "metadata": {
        "id": "hcNKMVf2-3lG"
      },
      "source": [
        "train_Resizedimages_dlib_label = [0]*len(processedImagePath_Train_Fake_dlib) + [1]*len(processedImagePath_Train_Real_dlib)\n",
        "train_Resizedimages_dlib_label = to_categorical(train_Resizedimages_dlib_label,2)\n",
        "val_Resizedimages_dlib_label = [0]*len(processedImagePath_Val_Fake_dlib) + [1]*len(processedImagePath_Val_Real_dlib)\n",
        "val_Resizedimages_dlib_label = to_categorical(val_Resizedimages_dlib_label,2)\n",
        "test_Resizedimages_dlib_label = [0]*len(processedImagePath_Test_Fake_dlib) + [1]*len(processedImagePath_Test_Real_dlib)\n",
        "test_Resizedimages_dlib_label = to_categorical(test_Resizedimages_dlib_label,2)\n",
        "# train_images_dlib_label_CNN = [[1,0] for i in range(len(processedImagePath_Train_Fake_dlib))] + [[0,1] for i in range(len(processedImagePath_Train_Real_dlib))]\n",
        "# val_images_dlib_label_CNN = [[1,0] for i in range(len(processedImagePath_Val_Fake_dlib))] + [[0,1] for i in range(len(processedImagePath_Val_Real_dlib))]\n",
        "# print(train_images_dlib_label_CNN)"
      ],
      "execution_count": null,
      "outputs": []
    },
    {
      "cell_type": "code",
      "metadata": {
        "id": "eLoZDB5KUzBo"
      },
      "source": [
        "train_Resizedimages_dlib_label_noise = [0]*len(processedImagePath_Train_Fake_dlib_noise) + [1]*len(processedImagePath_Train_Real_dlib_noise)"
      ],
      "execution_count": null,
      "outputs": []
    },
    {
      "cell_type": "code",
      "metadata": {
        "colab": {
          "base_uri": "https://localhost:8080/"
        },
        "id": "mUCL-iN9I5R0",
        "outputId": "cb42db3a-3fbc-4376-feea-bebd1867ae19"
      },
      "source": [
        "print(train_Resizedimages_dlib_label)"
      ],
      "execution_count": null,
      "outputs": [
        {
          "output_type": "stream",
          "text": [
            "[[1. 0.]\n",
            " [1. 0.]\n",
            " [1. 0.]\n",
            " ...\n",
            " [0. 1.]\n",
            " [0. 1.]\n",
            " [0. 1.]]\n"
          ],
          "name": "stdout"
        }
      ]
    },
    {
      "cell_type": "code",
      "metadata": {
        "id": "vWNvyYWM6LF1"
      },
      "source": [
        "train_Resizedimages_dlib = resizingImages(train_images_dlib_CNN)\n",
        "# train_Resizedimages_dlib_label = np.array(train_images_dlib_label_CNN)\n",
        "val_Resizedimages_dlib = resizingImages(val_images_dlib_CNN)\n",
        "# val_Resizedimages_dlib_label = np.array(val_images_dlib_label_CNN )"
      ],
      "execution_count": null,
      "outputs": []
    },
    {
      "cell_type": "code",
      "metadata": {
        "id": "dtsbNXSrEwN2"
      },
      "source": [
        "# test_images_dlib_label_CNN = [[1,0] for i in range(len(processedImagePath_Test_Fake_dlib))] + [[0,1] for i in range(len(processedImagePath_Test_Real_dlib))]\n",
        "test_Resizedimages_dlib = resizingImages(test_images_dlib_CNN)\n",
        "# test_Resizedimages_dlib_label  = np.array(test_images_dlib_label_CNN )"
      ],
      "execution_count": null,
      "outputs": []
    },
    {
      "cell_type": "code",
      "metadata": {
        "id": "4J6luTLVTjRj"
      },
      "source": [
        "train_Resizedimages_dlib_noise = resizingImages(train_images_dlib_CNN_noise)"
      ],
      "execution_count": null,
      "outputs": []
    },
    {
      "cell_type": "code",
      "metadata": {
        "id": "w2gzOTPE7d0U"
      },
      "source": [
        "train_Resizedimages_dlib = train_Resizedimages_dlib.astype('float32')\n",
        "val_Resizedimages_dlib = val_Resizedimages_dlib.astype('float32')\n",
        "train_Resizedimages_dlib  = train_Resizedimages_dlib  / 255.\n",
        "val_Resizedimages_dlib = val_Resizedimages_dlib / 255."
      ],
      "execution_count": null,
      "outputs": []
    },
    {
      "cell_type": "code",
      "metadata": {
        "id": "bT76SoGcFc-0"
      },
      "source": [
        "test_Resizedimages_dlib = test_Resizedimages_dlib.astype('float32')\n",
        "test_Resizedimages_dlib = test_Resizedimages_dlib / 255"
      ],
      "execution_count": null,
      "outputs": []
    },
    {
      "cell_type": "code",
      "metadata": {
        "id": "3q__iWinTfjD"
      },
      "source": [
        "train_Resizedimages_dlib_noise = train_Resizedimages_dlib_noise.astype('float32')\n",
        "train_Resizedimages_dlib_noise  = train_Resizedimages_dlib_noise / 255."
      ],
      "execution_count": null,
      "outputs": []
    },
    {
      "cell_type": "code",
      "metadata": {
        "id": "hh8t1_bwwvVU"
      },
      "source": [
        "x = []\n",
        "# train_Resizedimages_dlib_label_noise_list = []\n",
        "train_Resizedimages_dlib_label_list = []\n",
        "\n",
        "# for i in range(len(train_Resizedimages_dlib_label_noise)):\n",
        "#   train_Resizedimages_dlib_label_noise_list.append(list(train_Resizedimages_dlib_label_noise[i]))\n",
        "\n",
        "for i in range(len(train_Resizedimages_dlib_label)):\n",
        "  train_Resizedimages_dlib_label_list.append(list(train_Resizedimages_dlib_label[i]))\n",
        "x = train_Resizedimages_dlib_label_list\n",
        "\n",
        "s = train_Resizedimages_dlib_label_noise\n",
        "\n",
        "for i in range(len(s)):\n",
        "  if(s[i]==1):\n",
        "    x.append([0,1])\n",
        "  else:\n",
        "    x.append([1,0])\n"
      ],
      "execution_count": null,
      "outputs": []
    },
    {
      "cell_type": "code",
      "metadata": {
        "id": "BlxQH0Is6DZA",
        "colab": {
          "base_uri": "https://localhost:8080/"
        },
        "outputId": "b294c81f-92bd-4eef-9003-0a645b52048e"
      },
      "source": [
        "googleNet_model = InceptionResNetV2(include_top=False, weights='imagenet', input_shape=(128,128,3))\n",
        "googleNet_model.trainable = True\n",
        "model = Sequential()\n",
        "model.add(googleNet_model)\n",
        "model.add(GlobalAveragePooling2D())\n",
        "model.add(Dense(units=2, activation='softmax'))\n",
        "model.compile(loss='binary_crossentropy',\n",
        "              optimizer=optimizers.Adam(lr=1e-5, beta_1=0.9, beta_2=0.999, epsilon=None, decay=0.0, amsgrad=False),\n",
        "              metrics=['accuracy'])\n",
        "model.summary()"
      ],
      "execution_count": null,
      "outputs": [
        {
          "output_type": "stream",
          "text": [
            "Downloading data from https://storage.googleapis.com/tensorflow/keras-applications/inception_resnet_v2/inception_resnet_v2_weights_tf_dim_ordering_tf_kernels_notop.h5\n",
            "219062272/219055592 [==============================] - 2s 0us/step\n",
            "Model: \"sequential\"\n",
            "_________________________________________________________________\n",
            "Layer (type)                 Output Shape              Param #   \n",
            "=================================================================\n",
            "inception_resnet_v2 (Functio (None, 2, 2, 1536)        54336736  \n",
            "_________________________________________________________________\n",
            "global_average_pooling2d (Gl (None, 1536)              0         \n",
            "_________________________________________________________________\n",
            "dense_2 (Dense)              (None, 2)                 3074      \n",
            "=================================================================\n",
            "Total params: 54,339,810\n",
            "Trainable params: 54,279,266\n",
            "Non-trainable params: 60,544\n",
            "_________________________________________________________________\n"
          ],
          "name": "stdout"
        },
        {
          "output_type": "stream",
          "text": [
            "/usr/local/lib/python3.7/dist-packages/tensorflow/python/keras/optimizer_v2/optimizer_v2.py:375: UserWarning: The `lr` argument is deprecated, use `learning_rate` instead.\n",
            "  \"The `lr` argument is deprecated, use `learning_rate` instead.\")\n"
          ],
          "name": "stderr"
        }
      ]
    },
    {
      "cell_type": "code",
      "metadata": {
        "id": "wH95aOLQl1X9",
        "colab": {
          "base_uri": "https://localhost:8080/"
        },
        "outputId": "911cd05a-ae0f-4f24-bc4c-c518e724ed59"
      },
      "source": [
        "len(train_data)"
      ],
      "execution_count": null,
      "outputs": [
        {
          "output_type": "execute_result",
          "data": {
            "text/plain": [
              "2825"
            ]
          },
          "metadata": {
            "tags": []
          },
          "execution_count": 148
        }
      ]
    },
    {
      "cell_type": "code",
      "metadata": {
        "id": "2bKYA6VEtxFW",
        "colab": {
          "base_uri": "https://localhost:8080/"
        },
        "outputId": "7c4a425b-02fa-4ba7-9b17-be5c9a18ed3c"
      },
      "source": [
        "len(x)"
      ],
      "execution_count": null,
      "outputs": [
        {
          "output_type": "execute_result",
          "data": {
            "text/plain": [
              "5650"
            ]
          },
          "metadata": {
            "tags": []
          },
          "execution_count": 149
        }
      ]
    },
    {
      "cell_type": "code",
      "metadata": {
        "id": "yLdH_5Qbt_TP",
        "colab": {
          "base_uri": "https://localhost:8080/"
        },
        "outputId": "8ec22a22-a3b0-4654-cfe0-73b3ea14bf26"
      },
      "source": [
        "train_data[0]"
      ],
      "execution_count": null,
      "outputs": [
        {
          "output_type": "execute_result",
          "data": {
            "text/plain": [
              "[81,\n",
              " 81,\n",
              " 80,\n",
              " 79,\n",
              " 78,\n",
              " 79,\n",
              " 86,\n",
              " 94,\n",
              " 104,\n",
              " 108,\n",
              " 111,\n",
              " 111,\n",
              " 108,\n",
              " 109,\n",
              " 109,\n",
              " 108,\n",
              " 106,\n",
              " 108,\n",
              " 111,\n",
              " 116,\n",
              " 120,\n",
              " 121,\n",
              " 121,\n",
              " 121,\n",
              " 118,\n",
              " 115,\n",
              " 112,\n",
              " 112,\n",
              " 111,\n",
              " 111,\n",
              " 112,\n",
              " 115,\n",
              " 115,\n",
              " 114,\n",
              " 113,\n",
              " 109,\n",
              " 104,\n",
              " 102,\n",
              " 99,\n",
              " 95,\n",
              " 95,\n",
              " 94,\n",
              " 85,\n",
              " 81,\n",
              " 76,\n",
              " 65,\n",
              " 47,\n",
              " 2,\n",
              " 2,\n",
              " 0,\n",
              " 0,\n",
              " 1,\n",
              " 1,\n",
              " 1,\n",
              " 2,\n",
              " 2,\n",
              " 2,\n",
              " 2,\n",
              " 2,\n",
              " 2,\n",
              " 1,\n",
              " 1,\n",
              " 1,\n",
              " 1,\n",
              " 79,\n",
              " 83,\n",
              " 81,\n",
              " 83,\n",
              " 80,\n",
              " 86,\n",
              " 86,\n",
              " 88,\n",
              " 96,\n",
              " 101,\n",
              " 106,\n",
              " 109,\n",
              " 108,\n",
              " 109,\n",
              " 108,\n",
              " 107,\n",
              " 104,\n",
              " 107,\n",
              " 113,\n",
              " 119,\n",
              " 120,\n",
              " 121,\n",
              " 120,\n",
              " 120,\n",
              " 117,\n",
              " 117,\n",
              " 116,\n",
              " 115,\n",
              " 114,\n",
              " 116,\n",
              " 118,\n",
              " 119,\n",
              " 119,\n",
              " 115,\n",
              " 113,\n",
              " 110,\n",
              " 107,\n",
              " 105,\n",
              " 101,\n",
              " 98,\n",
              " 97,\n",
              " 94,\n",
              " 91,\n",
              " 83,\n",
              " 79,\n",
              " 67,\n",
              " 43,\n",
              " 4,\n",
              " 1,\n",
              " 0,\n",
              " 0,\n",
              " 0,\n",
              " 1,\n",
              " 1,\n",
              " 2,\n",
              " 1,\n",
              " 2,\n",
              " 2,\n",
              " 2,\n",
              " 2,\n",
              " 1,\n",
              " 1,\n",
              " 1,\n",
              " 1,\n",
              " 79,\n",
              " 82,\n",
              " 79,\n",
              " 86,\n",
              " 82,\n",
              " 88,\n",
              " 83,\n",
              " 83,\n",
              " 90,\n",
              " 94,\n",
              " 99,\n",
              " 106,\n",
              " 108,\n",
              " 109,\n",
              " 108,\n",
              " 108,\n",
              " 105,\n",
              " 108,\n",
              " 111,\n",
              " 115,\n",
              " 117,\n",
              " 119,\n",
              " 120,\n",
              " 119,\n",
              " 122,\n",
              " 125,\n",
              " 124,\n",
              " 121,\n",
              " 120,\n",
              " 122,\n",
              " 123,\n",
              " 122,\n",
              " 123,\n",
              " 118,\n",
              " 115,\n",
              " 115,\n",
              " 111,\n",
              " 107,\n",
              " 103,\n",
              " 100,\n",
              " 99,\n",
              " 97,\n",
              " 95,\n",
              " 82,\n",
              " 79,\n",
              " 71,\n",
              " 45,\n",
              " 6,\n",
              " 1,\n",
              " 1,\n",
              " 0,\n",
              " 0,\n",
              " 1,\n",
              " 1,\n",
              " 2,\n",
              " 1,\n",
              " 2,\n",
              " 2,\n",
              " 2,\n",
              " 2,\n",
              " 1,\n",
              " 1,\n",
              " 1,\n",
              " 1,\n",
              " 78,\n",
              " 76,\n",
              " 74,\n",
              " 82,\n",
              " 80,\n",
              " 81,\n",
              " 78,\n",
              " 83,\n",
              " 89,\n",
              " 91,\n",
              " 96,\n",
              " 102,\n",
              " 107,\n",
              " 108,\n",
              " 107,\n",
              " 109,\n",
              " 112,\n",
              " 113,\n",
              " 113,\n",
              " 114,\n",
              " 117,\n",
              " 123,\n",
              " 127,\n",
              " 128,\n",
              " 128,\n",
              " 130,\n",
              " 129,\n",
              " 126,\n",
              " 123,\n",
              " 125,\n",
              " 123,\n",
              " 123,\n",
              " 124,\n",
              " 119,\n",
              " 119,\n",
              " 120,\n",
              " 114,\n",
              " 108,\n",
              " 103,\n",
              " 103,\n",
              " 103,\n",
              " 100,\n",
              " 98,\n",
              " 85,\n",
              " 79,\n",
              " 77,\n",
              " 54,\n",
              " 6,\n",
              " 1,\n",
              " 1,\n",
              " 1,\n",
              " 1,\n",
              " 0,\n",
              " 1,\n",
              " 2,\n",
              " 1,\n",
              " 2,\n",
              " 2,\n",
              " 1,\n",
              " 2,\n",
              " 1,\n",
              " 1,\n",
              " 1,\n",
              " 1,\n",
              " 73,\n",
              " 70,\n",
              " 72,\n",
              " 76,\n",
              " 76,\n",
              " 74,\n",
              " 76,\n",
              " 83,\n",
              " 85,\n",
              " 87,\n",
              " 93,\n",
              " 100,\n",
              " 105,\n",
              " 107,\n",
              " 107,\n",
              " 107,\n",
              " 109,\n",
              " 112,\n",
              " 114,\n",
              " 115,\n",
              " 117,\n",
              " 122,\n",
              " 128,\n",
              " 131,\n",
              " 132,\n",
              " 130,\n",
              " 128,\n",
              " 127,\n",
              " 126,\n",
              " 126,\n",
              " 125,\n",
              " 124,\n",
              " 122,\n",
              " 120,\n",
              " 123,\n",
              " 124,\n",
              " 117,\n",
              " 108,\n",
              " 105,\n",
              " 105,\n",
              " 104,\n",
              " 105,\n",
              " 104,\n",
              " 93,\n",
              " 82,\n",
              " 84,\n",
              " 67,\n",
              " 5,\n",
              " 1,\n",
              " 1,\n",
              " 1,\n",
              " 0,\n",
              " 0,\n",
              " 0,\n",
              " 1,\n",
              " 1,\n",
              " 2,\n",
              " 2,\n",
              " 1,\n",
              " 1,\n",
              " 1,\n",
              " 1,\n",
              " 1,\n",
              " 1,\n",
              " 65,\n",
              " 69,\n",
              " 74,\n",
              " 73,\n",
              " 73,\n",
              " 73,\n",
              " 76,\n",
              " 79,\n",
              " 79,\n",
              " 83,\n",
              " 91,\n",
              " 98,\n",
              " 102,\n",
              " 105,\n",
              " 105,\n",
              " 105,\n",
              " 107,\n",
              " 113,\n",
              " 121,\n",
              " 123,\n",
              " 122,\n",
              " 122,\n",
              " 128,\n",
              " 134,\n",
              " 132,\n",
              " 129,\n",
              " 125,\n",
              " 123,\n",
              " 124,\n",
              " 124,\n",
              " 122,\n",
              " 121,\n",
              " 119,\n",
              " 118,\n",
              " 123,\n",
              " 126,\n",
              " 120,\n",
              " 111,\n",
              " 108,\n",
              " 110,\n",
              " 108,\n",
              " 107,\n",
              " 104,\n",
              " 97,\n",
              " 85,\n",
              " 88,\n",
              " 80,\n",
              " 22,\n",
              " 4,\n",
              " 1,\n",
              " 1,\n",
              " 0,\n",
              " 0,\n",
              " 0,\n",
              " 1,\n",
              " 1,\n",
              " 1,\n",
              " 1,\n",
              " 1,\n",
              " 1,\n",
              " 1,\n",
              " 1,\n",
              " 1,\n",
              " 1,\n",
              " 63,\n",
              " 69,\n",
              " 73,\n",
              " 75,\n",
              " 71,\n",
              " 73,\n",
              " 71,\n",
              " 72,\n",
              " 75,\n",
              " 82,\n",
              " 91,\n",
              " 96,\n",
              " 99,\n",
              " 103,\n",
              " 104,\n",
              " 104,\n",
              " 108,\n",
              " 112,\n",
              " 118,\n",
              " 122,\n",
              " 121,\n",
              " 119,\n",
              " 122,\n",
              " 129,\n",
              " 128,\n",
              " 127,\n",
              " 123,\n",
              " 120,\n",
              " 120,\n",
              " 122,\n",
              " 120,\n",
              " 117,\n",
              " 119,\n",
              " 117,\n",
              " 121,\n",
              " 126,\n",
              " 123,\n",
              " 116,\n",
              " 113,\n",
              " 113,\n",
              " 113,\n",
              " 107,\n",
              " 103,\n",
              " 96,\n",
              " 88,\n",
              " 89,\n",
              " 85,\n",
              " 49,\n",
              " 15,\n",
              " 7,\n",
              " 1,\n",
              " 1,\n",
              " 0,\n",
              " 0,\n",
              " 1,\n",
              " 1,\n",
              " 1,\n",
              " 1,\n",
              " 1,\n",
              " 1,\n",
              " 1,\n",
              " 1,\n",
              " 1,\n",
              " 1,\n",
              " 65,\n",
              " 69,\n",
              " 69,\n",
              " 76,\n",
              " 70,\n",
              " 71,\n",
              " 65,\n",
              " 68,\n",
              " 75,\n",
              " 83,\n",
              " 90,\n",
              " 93,\n",
              " 97,\n",
              " 102,\n",
              " 105,\n",
              " 106,\n",
              " 115,\n",
              " 113,\n",
              " 115,\n",
              " 121,\n",
              " 123,\n",
              " 122,\n",
              " 123,\n",
              " 126,\n",
              " 130,\n",
              " 132,\n",
              " 130,\n",
              " 126,\n",
              " 125,\n",
              " 129,\n",
              " 128,\n",
              " 124,\n",
              " 120,\n",
              " 116,\n",
              " 119,\n",
              " 125,\n",
              " 124,\n",
              " 121,\n",
              " 117,\n",
              " 115,\n",
              " 115,\n",
              " 107,\n",
              " 106,\n",
              " 98,\n",
              " 92,\n",
              " 88,\n",
              " 81,\n",
              " 64,\n",
              " 26,\n",
              " 12,\n",
              " 2,\n",
              " 1,\n",
              " 1,\n",
              " 0,\n",
              " 1,\n",
              " 1,\n",
              " 1,\n",
              " 1,\n",
              " 1,\n",
              " 1,\n",
              " 1,\n",
              " 1,\n",
              " 1,\n",
              " 1,\n",
              " 69,\n",
              " 67,\n",
              " 74,\n",
              " 68,\n",
              " 63,\n",
              " 66,\n",
              " 64,\n",
              " 74,\n",
              " 74,\n",
              " 87,\n",
              " 93,\n",
              " 96,\n",
              " 99,\n",
              " 100,\n",
              " 105,\n",
              " 111,\n",
              " 114,\n",
              " 113,\n",
              " 116,\n",
              " 115,\n",
              " 117,\n",
              " 120,\n",
              " 126,\n",
              " 127,\n",
              " 132,\n",
              " 136,\n",
              " 135,\n",
              " 130,\n",
              " 128,\n",
              " 129,\n",
              " 127,\n",
              " 123,\n",
              " 120,\n",
              " 119,\n",
              " 118,\n",
              " 117,\n",
              " 123,\n",
              " 118,\n",
              " 115,\n",
              " 120,\n",
              " 114,\n",
              " 99,\n",
              " 100,\n",
              " 86,\n",
              " 87,\n",
              " 83,\n",
              " 76,\n",
              " 68,\n",
              " 41,\n",
              " 25,\n",
              " 1,\n",
              " 2,\n",
              " 0,\n",
              " 1,\n",
              " 1,\n",
              " 0,\n",
              " 0,\n",
              " 0,\n",
              " 1,\n",
              " 1,\n",
              " 1,\n",
              " 1,\n",
              " 1,\n",
              " 1,\n",
              " 66,\n",
              " 63,\n",
              " 66,\n",
              " 60,\n",
              " 60,\n",
              " 58,\n",
              " 61,\n",
              " 69,\n",
              " 77,\n",
              " 91,\n",
              " 97,\n",
              " 105,\n",
              " 103,\n",
              " 102,\n",
              " 104,\n",
              " 110,\n",
              " 112,\n",
              " 110,\n",
              " 110,\n",
              " 111,\n",
              " 117,\n",
              " 121,\n",
              " 129,\n",
              " 129,\n",
              " 132,\n",
              " 134,\n",
              " 133,\n",
              " 130,\n",
              " 128,\n",
              " 130,\n",
              " 127,\n",
              " 124,\n",
              " 120,\n",
              " 120,\n",
              " 121,\n",
              " 117,\n",
              " 119,\n",
              " 114,\n",
              " 110,\n",
              " 108,\n",
              " 105,\n",
              " 98,\n",
              " 85,\n",
              " 80,\n",
              " 77,\n",
              " 70,\n",
              " 71,\n",
              " 57,\n",
              " 43,\n",
              " 31,\n",
              " 5,\n",
              " 2,\n",
              " 0,\n",
              " 1,\n",
              " 1,\n",
              " 0,\n",
              " 0,\n",
              " 0,\n",
              " 1,\n",
              " 1,\n",
              " 1,\n",
              " 1,\n",
              " 1,\n",
              " 1,\n",
              " 54,\n",
              " 59,\n",
              " 61,\n",
              " 55,\n",
              " 55,\n",
              " 46,\n",
              " 58,\n",
              " 69,\n",
              " 77,\n",
              " 90,\n",
              " 93,\n",
              " 105,\n",
              " 102,\n",
              " 100,\n",
              " 100,\n",
              " 108,\n",
              " 117,\n",
              " 113,\n",
              " 112,\n",
              " 112,\n",
              " 119,\n",
              " 126,\n",
              " 132,\n",
              " 131,\n",
              " 138,\n",
              " 138,\n",
              " 135,\n",
              " 131,\n",
              " 128,\n",
              " 126,\n",
              " 123,\n",
              " 120,\n",
              " 113,\n",
              " 112,\n",
              " 116,\n",
              " 115,\n",
              " 114,\n",
              " 106,\n",
              " 103,\n",
              " 99,\n",
              " 89,\n",
              " 80,\n",
              " 70,\n",
              " 60,\n",
              " 48,\n",
              " 47,\n",
              " 44,\n",
              " 41,\n",
              " 40,\n",
              " 31,\n",
              " 7,\n",
              " 2,\n",
              " 0,\n",
              " 2,\n",
              " 1,\n",
              " 1,\n",
              " 0,\n",
              " 0,\n",
              " 1,\n",
              " 1,\n",
              " 1,\n",
              " 1,\n",
              " 1,\n",
              " 1,\n",
              " 47,\n",
              " 54,\n",
              " 56,\n",
              " 52,\n",
              " 52,\n",
              " 52,\n",
              " 65,\n",
              " 76,\n",
              " 85,\n",
              " 95,\n",
              " 94,\n",
              " 101,\n",
              " 99,\n",
              " 101,\n",
              " 102,\n",
              " 110,\n",
              " 115,\n",
              " 113,\n",
              " 117,\n",
              " 116,\n",
              " 121,\n",
              " 125,\n",
              " 131,\n",
              " 129,\n",
              " 128,\n",
              " 128,\n",
              " 125,\n",
              " 121,\n",
              " 116,\n",
              " 113,\n",
              " 111,\n",
              " 110,\n",
              " 104,\n",
              " 98,\n",
              " 106,\n",
              " 112,\n",
              " 109,\n",
              " 98,\n",
              " 94,\n",
              " 91,\n",
              " 74,\n",
              " 56,\n",
              " 48,\n",
              " 38,\n",
              " 35,\n",
              " 41,\n",
              " 37,\n",
              " 39,\n",
              " 35,\n",
              " 26,\n",
              " 5,\n",
              " 1,\n",
              " 0,\n",
              " 2,\n",
              " 1,\n",
              " 1,\n",
              " 0,\n",
              " 0,\n",
              " 1,\n",
              " 1,\n",
              " 1,\n",
              " 1,\n",
              " 1,\n",
              " 1,\n",
              " 51,\n",
              " 59,\n",
              " 61,\n",
              " 54,\n",
              " 49,\n",
              " 59,\n",
              " 70,\n",
              " 87,\n",
              " 96,\n",
              " 101,\n",
              " 99,\n",
              " 97,\n",
              " 98,\n",
              " 99,\n",
              " 103,\n",
              " 106,\n",
              " 109,\n",
              " 111,\n",
              " 117,\n",
              " 116,\n",
              " 118,\n",
              " 118,\n",
              " 121,\n",
              " 119,\n",
              " 113,\n",
              " 109,\n",
              " 103,\n",
              " 95,\n",
              " 88,\n",
              " 86,\n",
              " 89,\n",
              " 93,\n",
              " 83,\n",
              " 81,\n",
              " 96,\n",
              " 109,\n",
              " 108,\n",
              " 94,\n",
              " 84,\n",
              " 74,\n",
              " 58,\n",
              " 42,\n",
              " 34,\n",
              " 35,\n",
              " 37,\n",
              " 39,\n",
              " 40,\n",
              " 37,\n",
              " 36,\n",
              " 22,\n",
              " 3,\n",
              " 1,\n",
              " 1,\n",
              " 1,\n",
              " 0,\n",
              " 1,\n",
              " 1,\n",
              " 1,\n",
              " 1,\n",
              " 1,\n",
              " 1,\n",
              " 1,\n",
              " 1,\n",
              " 1,\n",
              " 55,\n",
              " 59,\n",
              " 58,\n",
              " 57,\n",
              " 51,\n",
              " 69,\n",
              " 79,\n",
              " 91,\n",
              " 95,\n",
              " 101,\n",
              " 97,\n",
              " 94,\n",
              " 97,\n",
              " 99,\n",
              " 102,\n",
              " 103,\n",
              " 112,\n",
              " 113,\n",
              " 116,\n",
              " 109,\n",
              " 105,\n",
              " 101,\n",
              " 101,\n",
              " 95,\n",
              " 90,\n",
              " 83,\n",
              " 72,\n",
              " 62,\n",
              " 55,\n",
              " 55,\n",
              " 62,\n",
              " 71,\n",
              " 58,\n",
              " 66,\n",
              " 89,\n",
              " 105,\n",
              " 109,\n",
              " 95,\n",
              " 75,\n",
              " 52,\n",
              " 37,\n",
              " 26,\n",
              " 29,\n",
              " 37,\n",
              " 48,\n",
              " 54,\n",
              " 51,\n",
              " 45,\n",
              " 36,\n",
              " 16,\n",
              " 1,\n",
              " 1,\n",
              " 0,\n",
              " 1,\n",
              " 1,\n",
              " 1,\n",
              " 1,\n",
              " 1,\n",
              " 1,\n",
              " 1,\n",
              " 1,\n",
              " 1,\n",
              " 1,\n",
              " 1,\n",
              " 54,\n",
              " 53,\n",
              " 53,\n",
              " 67,\n",
              " 74,\n",
              " 88,\n",
              " 93,\n",
              " 89,\n",
              " 93,\n",
              " 99,\n",
              " 94,\n",
              " 95,\n",
              " 97,\n",
              " 100,\n",
              " 101,\n",
              " 104,\n",
              " 113,\n",
              " 108,\n",
              " 102,\n",
              " 91,\n",
              " 86,\n",
              " 81,\n",
              " 77,\n",
              " 70,\n",
              " 59,\n",
              " 52,\n",
              " 44,\n",
              " 40,\n",
              " 37,\n",
              " 39,\n",
              " 47,\n",
              " 55,\n",
              " 52,\n",
              " 62,\n",
              " 88,\n",
              " 105,\n",
              " 111,\n",
              " 95,\n",
              " 66,\n",
              " 38,\n",
              " 28,\n",
              " 47,\n",
              " 70,\n",
              " 75,\n",
              " 61,\n",
              " 55,\n",
              " 48,\n",
              " 46,\n",
              " 32,\n",
              " 10,\n",
              " 1,\n",
              " 1,\n",
              " 0,\n",
              " 1,\n",
              " 2,\n",
              " 1,\n",
              " 1,\n",
              " 1,\n",
              " 1,\n",
              " 1,\n",
              " 1,\n",
              " 1,\n",
              " 1,\n",
              " 1,\n",
              " 54,\n",
              " 61,\n",
              " 71,\n",
              " 91,\n",
              " 92,\n",
              " 90,\n",
              " 97,\n",
              " 88,\n",
              " 91,\n",
              " 97,\n",
              " 92,\n",
              " 97,\n",
              " 95,\n",
              " 98,\n",
              " 97,\n",
              " 103,\n",
              " 102,\n",
              " 92,\n",
              " 82,\n",
              " 70,\n",
              " 68,\n",
              " 65,\n",
              " 62,\n",
              " 53,\n",
              " 47,\n",
              " 40,\n",
              " 37,\n",
              " 37,\n",
              " 36,\n",
              " 36,\n",
              " 41,\n",
              " 45,\n",
              " 62,\n",
              " 69,\n",
              " 91,\n",
              " 109,\n",
              " 114,\n",
              " 93,\n",
              " 61,\n",
              " 34,\n",
              " ...]"
            ]
          },
          "metadata": {
            "tags": []
          },
          "execution_count": 150
        }
      ]
    },
    {
      "cell_type": "code",
      "metadata": {
        "id": "K_C1kfbxvWoc",
        "colab": {
          "base_uri": "https://localhost:8080/"
        },
        "outputId": "91849524-4744-44f0-c682-0809b95d9b61"
      },
      "source": [
        "type(train_Resizedimages_dlib)"
      ],
      "execution_count": null,
      "outputs": [
        {
          "output_type": "execute_result",
          "data": {
            "text/plain": [
              "numpy.ndarray"
            ]
          },
          "metadata": {
            "tags": []
          },
          "execution_count": 151
        }
      ]
    },
    {
      "cell_type": "code",
      "metadata": {
        "id": "45fP94bP7_kl",
        "colab": {
          "base_uri": "https://localhost:8080/"
        },
        "outputId": "44a5f297-e1ff-4124-eb90-3988ed15464d"
      },
      "source": [
        "EPOCHS = 5\n",
        "BATCH_SIZE = 16\n",
        "\n",
        "history = model.fit(train_Resizedimages_dlib, train_Resizedimages_dlib_label, batch_size = BATCH_SIZE, epochs = EPOCHS, validation_data = (val_Resizedimages_dlib, val_Resizedimages_dlib_label), verbose = 1)\n",
        "# history = model.fit(np.array(train_list), np.array(x), batch_size = BATCH_SIZE, epochs = EPOCHS, validation_data = (val_Resizedimages_dlib, val_Resizedimages_dlib_label), verbose = 1)"
      ],
      "execution_count": null,
      "outputs": [
        {
          "output_type": "stream",
          "text": [
            "Epoch 1/5\n",
            "177/177 [==============================] - 57s 201ms/step - loss: 0.6115 - accuracy: 0.6697 - val_loss: 1182.0015 - val_accuracy: 0.4692\n",
            "Epoch 2/5\n",
            "177/177 [==============================] - 30s 172ms/step - loss: 0.4411 - accuracy: 0.8308 - val_loss: 61814.7695 - val_accuracy: 0.4692\n",
            "Epoch 3/5\n",
            "177/177 [==============================] - 30s 171ms/step - loss: 0.2892 - accuracy: 0.9009 - val_loss: 10594.5938 - val_accuracy: 0.4888\n",
            "Epoch 4/5\n",
            "177/177 [==============================] - 30s 170ms/step - loss: 0.1753 - accuracy: 0.9455 - val_loss: 733.4173 - val_accuracy: 0.2923\n",
            "Epoch 5/5\n",
            "177/177 [==============================] - 30s 172ms/step - loss: 0.1044 - accuracy: 0.9710 - val_loss: 119.2652 - val_accuracy: 0.2594\n"
          ],
          "name": "stdout"
        }
      ]
    },
    {
      "cell_type": "code",
      "metadata": {
        "id": "IWWHhCGeEmS4",
        "colab": {
          "base_uri": "https://localhost:8080/"
        },
        "outputId": "6cf9708c-c456-4d24-c09c-e3aeeac597e7"
      },
      "source": [
        "predicted_test_Inception= model.predict_classes(test_Resizedimages_dlib)"
      ],
      "execution_count": null,
      "outputs": [
        {
          "output_type": "stream",
          "text": [
            "/usr/local/lib/python3.7/dist-packages/tensorflow/python/keras/engine/sequential.py:455: UserWarning: `model.predict_classes()` is deprecated and will be removed after 2021-01-01. Please use instead:* `np.argmax(model.predict(x), axis=-1)`,   if your model does multi-class classification   (e.g. if it uses a `softmax` last-layer activation).* `(model.predict(x) > 0.5).astype(\"int32\")`,   if your model does binary classification   (e.g. if it uses a `sigmoid` last-layer activation).\n",
            "  warnings.warn('`model.predict_classes()` is deprecated and '\n"
          ],
          "name": "stderr"
        }
      ]
    },
    {
      "cell_type": "code",
      "metadata": {
        "id": "ZO_wFRvfGhFM",
        "colab": {
          "base_uri": "https://localhost:8080/"
        },
        "outputId": "539af020-2186-4a01-8a47-f40b3589a503"
      },
      "source": [
        "#predicted_test_Inception.sort()\n",
        "print(predicted_test_Inception)"
      ],
      "execution_count": null,
      "outputs": [
        {
          "output_type": "stream",
          "text": [
            "[0 0 0 ... 0 0 0]\n"
          ],
          "name": "stdout"
        }
      ]
    },
    {
      "cell_type": "code",
      "metadata": {
        "id": "jdb-tnbbGW-i",
        "colab": {
          "base_uri": "https://localhost:8080/"
        },
        "outputId": "2748ebd1-18ac-4a10-f101-0b32bffb4f4b"
      },
      "source": [
        "pred_Inception_dlib = predictDeepFakeResult(predicted_test_Inception,frame_count_test_fake+frame_count_test_real)\n",
        "print(pred_Inception_dlib)"
      ],
      "execution_count": null,
      "outputs": [
        {
          "output_type": "stream",
          "text": [
            "15 14\n",
            "26 4\n",
            "15 14\n",
            "11 18\n",
            "0 30\n",
            "25 5\n",
            "0 30\n",
            "13 16\n",
            "12 17\n",
            "0 29\n",
            "0 29\n",
            "1 29\n",
            "2 28\n",
            "1 28\n",
            "25 0\n",
            "23 0\n",
            "25 0\n",
            "24 0\n",
            "24 0\n",
            "22 0\n",
            "22 0\n",
            "24 0\n",
            "23 0\n",
            "23 1\n",
            "23 0\n",
            "1 29\n",
            "0 29\n",
            "2 28\n",
            "6 25\n",
            "2 27\n",
            "10 19\n",
            "0 29\n",
            "4 26\n",
            "7 22\n",
            "12 17\n",
            "2 28\n",
            "1 28\n",
            "0 28\n",
            "0 29\n",
            "0 29\n",
            "0 29\n",
            "2 27\n",
            "4 25\n",
            "5 25\n",
            "7 23\n",
            "2 28\n",
            "0 29\n",
            "7 22\n",
            "0 30\n",
            "1 29\n",
            "[1, 1, 1, 0, 0, 1, 0, 0, 0, 0, 0, 0, 0, 0, 1, 1, 1, 1, 1, 1, 1, 1, 1, 1, 1, 0, 0, 0, 0, 0, 0, 0, 0, 0, 0, 0, 0, 0, 0, 0, 0, 0, 0, 0, 0, 0, 0, 0, 0, 0]\n"
          ],
          "name": "stdout"
        }
      ]
    },
    {
      "cell_type": "code",
      "metadata": {
        "id": "HtWyLkF_KNSA",
        "colab": {
          "base_uri": "https://localhost:8080/"
        },
        "outputId": "58a5beb9-b4f2-4829-f041-51ac0f094152"
      },
      "source": [
        "from sklearn.metrics import accuracy_score\n",
        "accuracy_score(actual_test_label, pred_Inception_dlib)"
      ],
      "execution_count": null,
      "outputs": [
        {
          "output_type": "execute_result",
          "data": {
            "text/plain": [
              "0.2"
            ]
          },
          "metadata": {
            "tags": []
          },
          "execution_count": 156
        }
      ]
    },
    {
      "cell_type": "code",
      "metadata": {
        "id": "E1um6gKJKPio",
        "colab": {
          "base_uri": "https://localhost:8080/"
        },
        "outputId": "a0e045ef-b970-4352-d294-4d9cea250488"
      },
      "source": [
        "from sklearn.metrics import f1_score\n",
        "f1_score(actual_test_label, pred_Inception_dlib)"
      ],
      "execution_count": null,
      "outputs": [
        {
          "output_type": "execute_result",
          "data": {
            "text/plain": [
              "0.0"
            ]
          },
          "metadata": {
            "tags": []
          },
          "execution_count": 157
        }
      ]
    },
    {
      "cell_type": "code",
      "metadata": {
        "id": "dsZ9RvhHKRuB",
        "colab": {
          "base_uri": "https://localhost:8080/"
        },
        "outputId": "78f99e91-aeea-4cb3-cedb-b49b168a3de3"
      },
      "source": [
        "from sklearn.metrics import log_loss\n",
        "log_loss(actual_test_label, pred_Inception_dlib)"
      ],
      "execution_count": null,
      "outputs": [
        {
          "output_type": "execute_result",
          "data": {
            "text/plain": [
              "27.6312609951576"
            ]
          },
          "metadata": {
            "tags": []
          },
          "execution_count": 158
        }
      ]
    },
    {
      "cell_type": "markdown",
      "metadata": {
        "id": "_V6093fjKrz_"
      },
      "source": [
        "##Efficient Net"
      ]
    },
    {
      "cell_type": "code",
      "metadata": {
        "id": "UJ-EzCarKuDH",
        "colab": {
          "base_uri": "https://localhost:8080/"
        },
        "outputId": "ffe2db0d-694b-4efa-fb63-dffecc391e10"
      },
      "source": [
        "!pip install efficientnet"
      ],
      "execution_count": null,
      "outputs": [
        {
          "output_type": "stream",
          "text": [
            "Requirement already satisfied: efficientnet in /usr/local/lib/python3.7/dist-packages (1.1.1)\n",
            "Requirement already satisfied: scikit-image in /usr/local/lib/python3.7/dist-packages (from efficientnet) (0.16.2)\n",
            "Requirement already satisfied: keras-applications<=1.0.8,>=1.0.7 in /usr/local/lib/python3.7/dist-packages (from efficientnet) (1.0.8)\n",
            "Requirement already satisfied: h5py in /usr/local/lib/python3.7/dist-packages (from keras-applications<=1.0.8,>=1.0.7->efficientnet) (3.1.0)\n",
            "Requirement already satisfied: numpy>=1.9.1 in /usr/local/lib/python3.7/dist-packages (from keras-applications<=1.0.8,>=1.0.7->efficientnet) (1.19.5)\n",
            "Requirement already satisfied: cached-property in /usr/local/lib/python3.7/dist-packages (from h5py->keras-applications<=1.0.8,>=1.0.7->efficientnet) (1.5.2)\n",
            "Requirement already satisfied: imageio>=2.3.0 in /usr/local/lib/python3.7/dist-packages (from scikit-image->efficientnet) (2.4.1)\n",
            "Requirement already satisfied: pillow>=4.3.0 in /usr/local/lib/python3.7/dist-packages (from scikit-image->efficientnet) (7.1.2)\n",
            "Requirement already satisfied: networkx>=2.0 in /usr/local/lib/python3.7/dist-packages (from scikit-image->efficientnet) (2.5.1)\n",
            "Requirement already satisfied: PyWavelets>=0.4.0 in /usr/local/lib/python3.7/dist-packages (from scikit-image->efficientnet) (1.1.1)\n",
            "Requirement already satisfied: scipy>=0.19.0 in /usr/local/lib/python3.7/dist-packages (from scikit-image->efficientnet) (1.4.1)\n",
            "Requirement already satisfied: matplotlib!=3.0.0,>=2.0.0 in /usr/local/lib/python3.7/dist-packages (from scikit-image->efficientnet) (3.2.2)\n",
            "Requirement already satisfied: kiwisolver>=1.0.1 in /usr/local/lib/python3.7/dist-packages (from matplotlib!=3.0.0,>=2.0.0->scikit-image->efficientnet) (1.3.1)\n",
            "Requirement already satisfied: python-dateutil>=2.1 in /usr/local/lib/python3.7/dist-packages (from matplotlib!=3.0.0,>=2.0.0->scikit-image->efficientnet) (2.8.1)\n",
            "Requirement already satisfied: cycler>=0.10 in /usr/local/lib/python3.7/dist-packages (from matplotlib!=3.0.0,>=2.0.0->scikit-image->efficientnet) (0.10.0)\n",
            "Requirement already satisfied: pyparsing!=2.0.4,!=2.1.2,!=2.1.6,>=2.0.1 in /usr/local/lib/python3.7/dist-packages (from matplotlib!=3.0.0,>=2.0.0->scikit-image->efficientnet) (2.4.7)\n",
            "Requirement already satisfied: six in /usr/local/lib/python3.7/dist-packages (from cycler>=0.10->matplotlib!=3.0.0,>=2.0.0->scikit-image->efficientnet) (1.15.0)\n",
            "Requirement already satisfied: decorator<5,>=4.3 in /usr/local/lib/python3.7/dist-packages (from networkx>=2.0->scikit-image->efficientnet) (4.4.2)\n"
          ],
          "name": "stdout"
        }
      ]
    },
    {
      "cell_type": "code",
      "metadata": {
        "colab": {
          "base_uri": "https://localhost:8080/"
        },
        "id": "SS0Ki_j6KwCz",
        "outputId": "25a707b8-4a41-4403-ff38-b467940ad9ab"
      },
      "source": [
        "from efficientnet.tfkeras import EfficientNetB4\n",
        "from keras.regularizers import l2\n",
        "efficient_net = EfficientNetB4(\n",
        "    weights = 'imagenet',\n",
        "    input_shape = (64, 64, 3),\n",
        "    include_top = False,\n",
        "    pooling = 'max'\n",
        ")\n",
        "\n",
        "model = Sequential()\n",
        "model.add(efficient_net)\n",
        "model.add(Dense(units = 512, activation = 'relu'))\n",
        "model.add(Dropout(0.5))\n",
        "model.add(Dense(units = 128, activation = 'relu'))\n",
        "model.add(Dense(units = 1, activation = 'sigmoid',kernel_regularizer=l2(0.01), bias_regularizer=l2(0.01)))\n",
        "model.summary()"
      ],
      "execution_count": null,
      "outputs": [
        {
          "output_type": "stream",
          "text": [
            "Model: \"sequential_2\"\n",
            "_________________________________________________________________\n",
            "Layer (type)                 Output Shape              Param #   \n",
            "=================================================================\n",
            "efficientnet-b4 (Functional) (None, 1792)              17673816  \n",
            "_________________________________________________________________\n",
            "dense_6 (Dense)              (None, 512)               918016    \n",
            "_________________________________________________________________\n",
            "dropout_2 (Dropout)          (None, 512)               0         \n",
            "_________________________________________________________________\n",
            "dense_7 (Dense)              (None, 128)               65664     \n",
            "_________________________________________________________________\n",
            "dense_8 (Dense)              (None, 1)                 129       \n",
            "=================================================================\n",
            "Total params: 18,657,625\n",
            "Trainable params: 18,532,425\n",
            "Non-trainable params: 125,200\n",
            "_________________________________________________________________\n"
          ],
          "name": "stdout"
        }
      ]
    },
    {
      "cell_type": "code",
      "metadata": {
        "id": "twinuD0MLqHj"
      },
      "source": [
        "batch_size = 32\n",
        "epochs = 10\n",
        "num_classes = 2"
      ],
      "execution_count": null,
      "outputs": []
    },
    {
      "cell_type": "code",
      "metadata": {
        "id": "e7PlDZKLKxxD",
        "colab": {
          "base_uri": "https://localhost:8080/"
        },
        "outputId": "3d12f10b-003b-421a-d9b7-5298bae43462"
      },
      "source": [
        "# cnn.summary()\n",
        "# classifier.summary()\n",
        "from tensorflow.keras.optimizers import Adam\n",
        "model.compile(optimizer = Adam(lr=0.0001), loss='binary_crossentropy', metrics=['accuracy'])"
      ],
      "execution_count": null,
      "outputs": [
        {
          "output_type": "stream",
          "text": [
            "/usr/local/lib/python3.7/dist-packages/tensorflow/python/keras/optimizer_v2/optimizer_v2.py:375: UserWarning: The `lr` argument is deprecated, use `learning_rate` instead.\n",
            "  \"The `lr` argument is deprecated, use `learning_rate` instead.\")\n"
          ],
          "name": "stderr"
        }
      ]
    },
    {
      "cell_type": "code",
      "metadata": {
        "id": "cOtiIKwlKzbp"
      },
      "source": [
        "x = []\n",
        "# train_Resizedimages_dlib_label_noise_list = []\n",
        "train_Resizedimages_dlib_label_list = []\n",
        "\n",
        "# for i in range(len(train_Resizedimages_dlib_label_noise)):\n",
        "#   train_Resizedimages_dlib_label_noise_list.append(list(train_Resizedimages_dlib_label_noise[i]))\n",
        "\n",
        "for i in range(len(train_Resizedimages_dlib_label)):\n",
        "  train_Resizedimages_dlib_label_list.append(list(train_Resizedimages_dlib_label[i]))\n",
        "\n",
        "# x = train_Resizedimages_dlib_label_noise \n",
        "\n",
        "# s = train_Resizedimages_dlib_label_list\n",
        "\n",
        "# for i in range(len(s)):\n",
        "#   if(s[i][0]==1):\n",
        "#     x.append(0)\n",
        "#   else:\n",
        "#     x.append(1)\n"
      ],
      "execution_count": null,
      "outputs": []
    },
    {
      "cell_type": "code",
      "metadata": {
        "id": "3VBcyZYxwkNM"
      },
      "source": [
        ""
      ],
      "execution_count": null,
      "outputs": []
    },
    {
      "cell_type": "code",
      "metadata": {
        "id": "IkTE_KXQYBmp"
      },
      "source": [
        "train_list = []\n",
        "train_Resizedimages_dlib_noise_list = []\n",
        "train_Resizedimages_dlib_list = []\n",
        "\n",
        "# for i in range(len(train_Resizedimages_dlib_noise)):\n",
        "#   train_Resizedimages_dlib_noise_list.append(list(train_Resizedimages_dlib_noise[i]))\n",
        "\n",
        "for i in range(len(train_Resizedimages_dlib)):\n",
        "  train_Resizedimages_dlib_list.append(list(train_Resizedimages_dlib[i]))\n",
        "\n",
        "# x = train_Resizedimages_dlib_label_noise \n",
        "train_list = train_Resizedimages_dlib_noise_list + train_Resizedimages_dlib_list \n"
      ],
      "execution_count": null,
      "outputs": []
    },
    {
      "cell_type": "code",
      "metadata": {
        "id": "f-LORId7K1Mg"
      },
      "source": [
        "y = []\n",
        "for i in range(len(val_Resizedimages_dlib_label)):\n",
        "  if(val_Resizedimages_dlib_label[i][0]==1):\n",
        "    y.append(0)\n",
        "  else:\n",
        "    y.append(1)"
      ],
      "execution_count": null,
      "outputs": []
    },
    {
      "cell_type": "code",
      "metadata": {
        "id": "5E0p1YA-hPaC",
        "colab": {
          "base_uri": "https://localhost:8080/"
        },
        "outputId": "3cc9ecb7-ed62-4d6b-b61c-1c1697efe065"
      },
      "source": [
        "len(x)"
      ],
      "execution_count": null,
      "outputs": [
        {
          "output_type": "execute_result",
          "data": {
            "text/plain": [
              "0"
            ]
          },
          "metadata": {
            "tags": []
          },
          "execution_count": 185
        }
      ]
    },
    {
      "cell_type": "code",
      "metadata": {
        "id": "8lmGVIUShPOr",
        "colab": {
          "base_uri": "https://localhost:8080/"
        },
        "outputId": "75bcc62f-e959-45f7-987d-a83707722928"
      },
      "source": [
        "len(train_list)"
      ],
      "execution_count": null,
      "outputs": [
        {
          "output_type": "execute_result",
          "data": {
            "text/plain": [
              "2825"
            ]
          },
          "metadata": {
            "tags": []
          },
          "execution_count": 186
        }
      ]
    },
    {
      "cell_type": "code",
      "metadata": {
        "colab": {
          "base_uri": "https://localhost:8080/"
        },
        "id": "hGvIQaMXK1kf",
        "outputId": "a4eeb254-daa6-43fe-db98-acebee8958fd"
      },
      "source": [
        "train_cnn = model.fit(train_images_dlib_CNN, train_images_dlib_label_CNN, batch_size=batch_size,epochs=epochs,verbose=1,validation_data=(val_images_dlib_CNN, val_images_dlib_label_CNN))\n",
        "# train_cnn = model.fit(np.array(train_list) , np.array(x),epochs=epochs,verbose=1,validation_data=(val_Resizedimages_dlib, np.array(y)),validation_steps = 80 )"
      ],
      "execution_count": null,
      "outputs": [
        {
          "output_type": "stream",
          "text": [
            "Epoch 1/10\n",
            "89/89 [==============================] - 34s 169ms/step - loss: 0.7643 - accuracy: 0.5639 - val_loss: 0.7232 - val_accuracy: 0.5329\n",
            "Epoch 2/10\n",
            "89/89 [==============================] - 12s 138ms/step - loss: 0.5875 - accuracy: 0.7073 - val_loss: 0.6952 - val_accuracy: 0.5825\n",
            "Epoch 3/10\n",
            "89/89 [==============================] - 12s 136ms/step - loss: 0.4339 - accuracy: 0.8085 - val_loss: 0.7473 - val_accuracy: 0.6280\n",
            "Epoch 4/10\n",
            "89/89 [==============================] - 12s 136ms/step - loss: 0.3243 - accuracy: 0.8740 - val_loss: 0.8807 - val_accuracy: 0.6566\n",
            "Epoch 5/10\n",
            "89/89 [==============================] - 12s 137ms/step - loss: 0.2454 - accuracy: 0.9055 - val_loss: 1.0407 - val_accuracy: 0.6678\n",
            "Epoch 6/10\n",
            "89/89 [==============================] - 14s 155ms/step - loss: 0.2090 - accuracy: 0.9225 - val_loss: 1.1842 - val_accuracy: 0.6713\n",
            "Epoch 7/10\n",
            "89/89 [==============================] - 13s 142ms/step - loss: 0.1649 - accuracy: 0.9455 - val_loss: 1.2756 - val_accuracy: 0.6685\n",
            "Epoch 8/10\n",
            "89/89 [==============================] - 12s 139ms/step - loss: 0.1461 - accuracy: 0.9543 - val_loss: 1.4751 - val_accuracy: 0.6441\n",
            "Epoch 9/10\n",
            "89/89 [==============================] - 12s 138ms/step - loss: 0.1322 - accuracy: 0.9614 - val_loss: 1.4952 - val_accuracy: 0.6629\n",
            "Epoch 10/10\n",
            "89/89 [==============================] - 12s 135ms/step - loss: 0.1019 - accuracy: 0.9657 - val_loss: 1.7294 - val_accuracy: 0.6587\n"
          ],
          "name": "stdout"
        }
      ]
    },
    {
      "cell_type": "code",
      "metadata": {
        "id": "crgvsRCvZmJx",
        "colab": {
          "base_uri": "https://localhost:8080/"
        },
        "outputId": "c78c14ce-1ce4-4465-fe2a-2d5edc65b4ce"
      },
      "source": [
        "len(x)"
      ],
      "execution_count": null,
      "outputs": [
        {
          "output_type": "execute_result",
          "data": {
            "text/plain": [
              "0"
            ]
          },
          "metadata": {
            "tags": []
          },
          "execution_count": 188
        }
      ]
    },
    {
      "cell_type": "code",
      "metadata": {
        "id": "v8-x_VeJK6Iu"
      },
      "source": [
        "# predicted_test_CNN= model.predict(test_Resizedimages_dlib)\n",
        "predicted_test_CNN= model.predict(test_images_dlib_CNN)"
      ],
      "execution_count": null,
      "outputs": []
    },
    {
      "cell_type": "code",
      "metadata": {
        "id": "s1hBfd4qK7mV",
        "colab": {
          "base_uri": "https://localhost:8080/"
        },
        "outputId": "e1fe8cb1-e5c0-443b-c9d2-eab1e56482ce"
      },
      "source": [
        "pred_CNN_dlib = predictDeepFakeResult(predicted_test_CNN,frame_count_test_fake+frame_count_test_real)"
      ],
      "execution_count": null,
      "outputs": [
        {
          "output_type": "stream",
          "text": [
            "21 8\n",
            "17 13\n",
            "8 21\n",
            "21 8\n",
            "22 8\n",
            "20 10\n",
            "28 2\n",
            "24 5\n",
            "9 20\n",
            "29 0\n",
            "29 0\n",
            "30 0\n",
            "24 6\n",
            "28 1\n",
            "0 25\n",
            "0 23\n",
            "0 25\n",
            "0 24\n",
            "0 24\n",
            "0 22\n",
            "0 22\n",
            "1 23\n",
            "0 23\n",
            "2 22\n",
            "0 23\n",
            "21 9\n",
            "26 3\n",
            "27 3\n",
            "31 0\n",
            "27 2\n",
            "21 8\n",
            "28 1\n",
            "28 2\n",
            "28 1\n",
            "29 0\n",
            "30 0\n",
            "28 1\n",
            "15 13\n",
            "25 4\n",
            "24 5\n",
            "28 1\n",
            "29 0\n",
            "29 0\n",
            "29 1\n",
            "27 3\n",
            "25 5\n",
            "27 2\n",
            "21 8\n",
            "27 3\n",
            "27 3\n"
          ],
          "name": "stdout"
        }
      ]
    },
    {
      "cell_type": "code",
      "metadata": {
        "colab": {
          "base_uri": "https://localhost:8080/"
        },
        "id": "I4nvwLZjK9Na",
        "outputId": "bd314b7d-7f8a-4143-99cc-62291f251ded"
      },
      "source": [
        "print(pred_CNN_dlib)\n",
        "print(actual_test_label)\n",
        "print(predicted_test_CNN)"
      ],
      "execution_count": null,
      "outputs": [
        {
          "output_type": "stream",
          "text": [
            "[1, 1, 0, 1, 1, 1, 1, 1, 0, 1, 1, 1, 1, 1, 0, 0, 0, 0, 0, 0, 0, 0, 0, 0, 0, 1, 1, 1, 1, 1, 1, 1, 1, 1, 1, 1, 1, 1, 1, 1, 1, 1, 1, 1, 1, 1, 1, 1, 1, 1]\n",
            "[0, 0, 0, 0, 0, 0, 0, 0, 0, 0, 0, 0, 0, 0, 0, 0, 0, 0, 0, 0, 0, 0, 0, 0, 0, 1, 1, 1, 1, 1, 1, 1, 1, 1, 1, 1, 1, 1, 1, 1, 1, 1, 1, 1, 1, 1, 1, 1, 1, 1]\n",
            "[[0.9744959 ]\n",
            " [0.99598515]\n",
            " [0.99927944]\n",
            " ...\n",
            " [0.9991992 ]\n",
            " [0.9987092 ]\n",
            " [0.5382068 ]]\n"
          ],
          "name": "stdout"
        }
      ]
    },
    {
      "cell_type": "code",
      "metadata": {
        "colab": {
          "base_uri": "https://localhost:8080/"
        },
        "id": "jBCXgeMgK_5P",
        "outputId": "e3ac353f-a629-466d-8640-a72f26241dec"
      },
      "source": [
        "from sklearn.metrics import accuracy_score\n",
        "accuracy_score(actual_test_label, pred_CNN_dlib)"
      ],
      "execution_count": null,
      "outputs": [
        {
          "output_type": "execute_result",
          "data": {
            "text/plain": [
              "0.76"
            ]
          },
          "metadata": {
            "tags": []
          },
          "execution_count": 192
        }
      ]
    },
    {
      "cell_type": "code",
      "metadata": {
        "colab": {
          "base_uri": "https://localhost:8080/"
        },
        "id": "3fieyUVpLBes",
        "outputId": "d906ab08-dee6-4120-eec5-8682a56e48e3"
      },
      "source": [
        "from sklearn.metrics import f1_score\n",
        "f1_score(actual_test_label, pred_CNN_dlib)"
      ],
      "execution_count": null,
      "outputs": [
        {
          "output_type": "execute_result",
          "data": {
            "text/plain": [
              "0.8064516129032258"
            ]
          },
          "metadata": {
            "tags": []
          },
          "execution_count": 193
        }
      ]
    },
    {
      "cell_type": "code",
      "metadata": {
        "colab": {
          "base_uri": "https://localhost:8080/"
        },
        "id": "c19s2FHzLDDj",
        "outputId": "3107e7b8-7302-4dbe-8c15-a612a8331bf4"
      },
      "source": [
        "from sklearn.metrics import log_loss\n",
        "log_loss(actual_test_label, pred_CNN_dlib)"
      ],
      "execution_count": null,
      "outputs": [
        {
          "output_type": "execute_result",
          "data": {
            "text/plain": [
              "8.289498238161812"
            ]
          },
          "metadata": {
            "tags": []
          },
          "execution_count": 194
        }
      ]
    },
    {
      "cell_type": "code",
      "metadata": {
        "colab": {
          "base_uri": "https://localhost:8080/",
          "height": 316
        },
        "id": "H9IR-0fQH4qR",
        "outputId": "7a87e541-4949-44e3-a9b9-0e9203bbe9e8"
      },
      "source": [
        "N = epochs\n",
        "plt.style.use(\"ggplot\")\n",
        "plt.figure()\n",
        "plt.plot(np.arange(0, N), train_cnn.history[\"loss\"], label=\"train_loss\")\n",
        "plt.plot(np.arange(0, N), train_cnn.history[\"val_loss\"], label=\"val_loss\")\n",
        "plt.plot(np.arange(0, N), train_cnn.history[\"accuracy\"], label=\"train_acc\")\n",
        "plt.plot(np.arange(0, N), train_cnn.history[\"val_accuracy\"], label=\"val_acc\")\n",
        "plt.title(\"Training Loss and Accuracy\")\n",
        "plt.xlabel(\"Epoch #\")\n",
        "plt.ylabel(\"Loss/Accuracy\")\n",
        "plt.legend(loc=\"lower left\")"
      ],
      "execution_count": null,
      "outputs": [
        {
          "output_type": "execute_result",
          "data": {
            "text/plain": [
              "<matplotlib.legend.Legend at 0x7ff3e0954650>"
            ]
          },
          "metadata": {
            "tags": []
          },
          "execution_count": 195
        },
        {
          "output_type": "display_data",
          "data": {
            "image/png": "[encoded data removed]",
            "text/plain": [
              "<Figure size 432x288 with 1 Axes>"
            ]
          },
          "metadata": {
            "tags": []
          }
        }
      ]
    }
  ]
}